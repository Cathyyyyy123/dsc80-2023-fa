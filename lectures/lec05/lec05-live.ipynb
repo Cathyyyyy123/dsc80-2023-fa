{
 "cells": [
  {
   "cell_type": "code",
   "execution_count": 2,
   "id": "8c8a44b8",
   "metadata": {
    "slideshow": {
     "slide_type": "skip"
    }
   },
   "outputs": [],
   "source": [
    "import pandas as pd\n",
    "import numpy as np\n",
    "import matplotlib.pyplot as plt\n",
    "import seaborn as sns\n",
    "from matplotlib_inline.backend_inline import set_matplotlib_formats\n",
    "from IPython.display import display, IFrame\n",
    "\n",
    "set_matplotlib_formats(\"svg\")\n",
    "sns.set_context(\"poster\")\n",
    "sns.set_style(\"whitegrid\")\n",
    "plt.rcParams[\"figure.figsize\"] = (10, 5)\n",
    "pd.set_option(\"display.max_rows\", 8)\n",
    "pd.set_option(\"display.max_columns\", 8)\n",
    "pd.set_option(\"display.precision\", 2)"
   ]
  },
  {
   "cell_type": "markdown",
   "id": "ce9e66d9",
   "metadata": {
    "slideshow": {
     "slide_type": "slide"
    }
   },
   "source": [
    "# Lecture 5 – Exploring and Cleaning Data\n",
    "\n",
    "## DSC 80, Fall 2023"
   ]
  },
  {
   "cell_type": "markdown",
   "id": "22824200",
   "metadata": {
    "slideshow": {
     "slide_type": "slide"
    }
   },
   "source": [
    "## 📣 Announcements 📣\n",
    "\n",
    "- Project 1 due Wed!\n",
    "- Lab 3 out, due on Mon"
   ]
  },
  {
   "cell_type": "markdown",
   "id": "bd851d5b",
   "metadata": {
    "slideshow": {
     "slide_type": "slide"
    }
   },
   "source": [
    "## 📆 Agenda\n",
    "\n",
    "- [ ] Introduce dataset\n",
    "- [ ] Introduce `plotly`\n",
    "- [ ] Statistical vs. computational data types\n",
    "- [ ] Data cleaning\n",
    "    - [ ] Data quality checks\n",
    "    - [ ] Missing data\n",
    "    - [ ] Transformations and timestamps\n",
    "    - [ ] Modifying structure\n",
    "- [ ] Investigating student-submitted questions"
   ]
  },
  {
   "cell_type": "markdown",
   "id": "32f5d3b4",
   "metadata": {
    "slideshow": {
     "slide_type": "slide"
    }
   },
   "source": [
    "## San Diego Food Safety\n",
    "\n",
    "> In the last three years, one third of San Diego County restaurants have had at least one major food safety violation.\n",
    "\n",
    "https://inewsource.org/2023/02/09/san-diego-restaurants-food-safety-violations/\n",
    "\n",
    "(https://archive.ph/gz8BL)"
   ]
  },
  {
   "cell_type": "markdown",
   "id": "353a6782",
   "metadata": {
    "slideshow": {
     "slide_type": "slide"
    }
   },
   "source": [
    "### 99% Of San Diego Restaurants Earn ‘A' Grades, Bringing Usefulness of System Into Question\n",
    "\n",
    "> Food held at unsafe temperatures. Employees not washing their hands. Dirty countertops. Vermin in the kitchen. An expired restaurant permit.\n",
    "> \n",
    "> Restaurant inspectors for San Diego County found these violations during a routine health inspection of a diner in La Mesa in November 2016. Despite the violations, the restaurant was awarded a score of 90 out of 100, the lowest possible score to achieve an ‘A’ grade.\n",
    "\n",
    "https://www.nbcsandiego.com/news/local/99-of-san-diego-restaurants-earn-a-grades-bringing-usefulness-of-system-into-question/25381/\n",
    "\n",
    "(https://archive.ph/yB6RU)"
   ]
  },
  {
   "cell_type": "markdown",
   "id": "4ac10042",
   "metadata": {
    "slideshow": {
     "slide_type": "slide"
    }
   },
   "source": [
    "### The Data\n",
    "\n",
    "https://www.sandiegocounty.gov/content/sdc/deh/fhd/ffis/intro.html.html\n",
    "\n",
    "- Had to download the data as JSON, then process into dataframes (will cover in future weeks!)\n",
    "- Downloaded the 1000 restaurants closest to UCSD.\n"
   ]
  },
  {
   "cell_type": "code",
   "execution_count": 3,
   "id": "4497b903",
   "metadata": {},
   "outputs": [],
   "source": [
    "rest = pd.read_csv('data/restaurants.csv')\n",
    "insp = pd.read_csv('data/inspections.csv')\n",
    "viol = pd.read_csv('data/violations.csv')"
   ]
  },
  {
   "cell_type": "markdown",
   "id": "c0c4cb57",
   "metadata": {
    "slideshow": {
     "slide_type": "slide"
    }
   },
   "source": [
    "### Understanding the Data\n",
    "\n",
    "![](imgs/ds-lifecycle.svg)"
   ]
  },
  {
   "cell_type": "markdown",
   "id": "f828d1e3",
   "metadata": {
    "slideshow": {
     "slide_type": "slide"
    }
   },
   "source": [
    "### Aside: Working with files\n",
    "\n",
    "- So far, all data came in CSV files that loaded without problem.\n",
    "- But many different formats and possible issues in loading in data!\n",
    "- See [Chapter 8 of Learning DS](https://learningds.org/ch/08/files_intro.html) for more."
   ]
  },
  {
   "cell_type": "markdown",
   "id": "57983d32",
   "metadata": {
    "slideshow": {
     "slide_type": "slide"
    }
   },
   "source": [
    "### You Try: Looking at the Data\n",
    "\n",
    "- The articles said that one third of restaurants had at least one major safety violation.\n",
    "- Which dataframes and columns seem most useful to verify this?"
   ]
  },
  {
   "cell_type": "code",
   "execution_count": 5,
   "id": "611eb7c1",
   "metadata": {},
   "outputs": [
    {
     "data": {
      "text/html": [
       "<div>\n",
       "<style scoped>\n",
       "    .dataframe tbody tr th:only-of-type {\n",
       "        vertical-align: middle;\n",
       "    }\n",
       "\n",
       "    .dataframe tbody tr th {\n",
       "        vertical-align: top;\n",
       "    }\n",
       "\n",
       "    .dataframe thead th {\n",
       "        text-align: right;\n",
       "    }\n",
       "</style>\n",
       "<table border=\"1\" class=\"dataframe\">\n",
       "  <thead>\n",
       "    <tr style=\"text-align: right;\">\n",
       "      <th></th>\n",
       "      <th>business_id</th>\n",
       "      <th>name</th>\n",
       "      <th>business_type</th>\n",
       "      <th>address</th>\n",
       "      <th>...</th>\n",
       "      <th>lat</th>\n",
       "      <th>long</th>\n",
       "      <th>opened_date</th>\n",
       "      <th>distance</th>\n",
       "    </tr>\n",
       "  </thead>\n",
       "  <tbody>\n",
       "    <tr>\n",
       "      <th>0</th>\n",
       "      <td>211898487641</td>\n",
       "      <td>MOBIL MART LA JOLLA VILLAGE</td>\n",
       "      <td>Pre-Packaged Retail Market</td>\n",
       "      <td>3233 LA JOLLA VILLAGE DR, LA JOLLA, CA 92037</td>\n",
       "      <td>...</td>\n",
       "      <td>32.87</td>\n",
       "      <td>-117.23</td>\n",
       "      <td>2002-05-05</td>\n",
       "      <td>0.62</td>\n",
       "    </tr>\n",
       "    <tr>\n",
       "      <th>1</th>\n",
       "      <td>211930769329</td>\n",
       "      <td>CAFE 477</td>\n",
       "      <td>Low Risk Food Facility</td>\n",
       "      <td>8950 VILLA LA JOLLA DR, SUITE# B123, LA JOLLA,...</td>\n",
       "      <td>...</td>\n",
       "      <td>32.87</td>\n",
       "      <td>-117.24</td>\n",
       "      <td>2023-07-24</td>\n",
       "      <td>0.64</td>\n",
       "    </tr>\n",
       "  </tbody>\n",
       "</table>\n",
       "<p>2 rows × 12 columns</p>\n",
       "</div>"
      ],
      "text/plain": [
       "    business_id                         name               business_type  \\\n",
       "0  211898487641  MOBIL MART LA JOLLA VILLAGE  Pre-Packaged Retail Market   \n",
       "1  211930769329                     CAFE 477      Low Risk Food Facility   \n",
       "\n",
       "                                             address  ...    lat    long  \\\n",
       "0       3233 LA JOLLA VILLAGE DR, LA JOLLA, CA 92037  ...  32.87 -117.23   \n",
       "1  8950 VILLA LA JOLLA DR, SUITE# B123, LA JOLLA,...  ...  32.87 -117.24   \n",
       "\n",
       "  opened_date distance  \n",
       "0  2002-05-05     0.62  \n",
       "1  2023-07-24     0.64  \n",
       "\n",
       "[2 rows x 12 columns]"
      ]
     },
     "execution_count": 5,
     "metadata": {},
     "output_type": "execute_result"
    }
   ],
   "source": [
    "rest.head(2)"
   ]
  },
  {
   "cell_type": "code",
   "execution_count": 6,
   "id": "9b968e24",
   "metadata": {},
   "outputs": [
    {
     "data": {
      "text/html": [
       "<div>\n",
       "<style scoped>\n",
       "    .dataframe tbody tr th:only-of-type {\n",
       "        vertical-align: middle;\n",
       "    }\n",
       "\n",
       "    .dataframe tbody tr th {\n",
       "        vertical-align: top;\n",
       "    }\n",
       "\n",
       "    .dataframe thead th {\n",
       "        text-align: right;\n",
       "    }\n",
       "</style>\n",
       "<table border=\"1\" class=\"dataframe\">\n",
       "  <thead>\n",
       "    <tr style=\"text-align: right;\">\n",
       "      <th></th>\n",
       "      <th>custom_id</th>\n",
       "      <th>business_id</th>\n",
       "      <th>inspection_id</th>\n",
       "      <th>description</th>\n",
       "      <th>...</th>\n",
       "      <th>completed_date</th>\n",
       "      <th>status</th>\n",
       "      <th>link</th>\n",
       "      <th>status_link</th>\n",
       "    </tr>\n",
       "  </thead>\n",
       "  <tbody>\n",
       "    <tr>\n",
       "      <th>0</th>\n",
       "      <td>DEH2002-FFPN-310012</td>\n",
       "      <td>211898487641</td>\n",
       "      <td>6886133</td>\n",
       "      <td>NaN</td>\n",
       "      <td>...</td>\n",
       "      <td>2023-02-16</td>\n",
       "      <td>Complete</td>\n",
       "      <td>http://www.sandiegocounty.gov/deh/fhd/ffis/ins...</td>\n",
       "      <td>http://www.sandiegocounty.gov/deh/fhd/ffis/ins...</td>\n",
       "    </tr>\n",
       "    <tr>\n",
       "      <th>1</th>\n",
       "      <td>DEH2002-FFPN-310012</td>\n",
       "      <td>211898487641</td>\n",
       "      <td>6631228</td>\n",
       "      <td>NaN</td>\n",
       "      <td>...</td>\n",
       "      <td>2022-01-03</td>\n",
       "      <td>Complete</td>\n",
       "      <td>http://www.sandiegocounty.gov/deh/fhd/ffis/ins...</td>\n",
       "      <td>http://www.sandiegocounty.gov/deh/fhd/ffis/ins...</td>\n",
       "    </tr>\n",
       "  </tbody>\n",
       "</table>\n",
       "<p>2 rows × 11 columns</p>\n",
       "</div>"
      ],
      "text/plain": [
       "             custom_id   business_id  inspection_id  description  ...  \\\n",
       "0  DEH2002-FFPN-310012  211898487641        6886133          NaN  ...   \n",
       "1  DEH2002-FFPN-310012  211898487641        6631228          NaN  ...   \n",
       "\n",
       "  completed_date    status                                               link  \\\n",
       "0     2023-02-16  Complete  http://www.sandiegocounty.gov/deh/fhd/ffis/ins...   \n",
       "1     2022-01-03  Complete  http://www.sandiegocounty.gov/deh/fhd/ffis/ins...   \n",
       "\n",
       "                                         status_link  \n",
       "0  http://www.sandiegocounty.gov/deh/fhd/ffis/ins...  \n",
       "1  http://www.sandiegocounty.gov/deh/fhd/ffis/ins...  \n",
       "\n",
       "[2 rows x 11 columns]"
      ]
     },
     "execution_count": 6,
     "metadata": {},
     "output_type": "execute_result"
    }
   ],
   "source": [
    "insp.head(2)"
   ]
  },
  {
   "cell_type": "code",
   "execution_count": 7,
   "id": "ce9c1393",
   "metadata": {},
   "outputs": [
    {
     "data": {
      "text/html": [
       "<div>\n",
       "<style scoped>\n",
       "    .dataframe tbody tr th:only-of-type {\n",
       "        vertical-align: middle;\n",
       "    }\n",
       "\n",
       "    .dataframe tbody tr th {\n",
       "        vertical-align: top;\n",
       "    }\n",
       "\n",
       "    .dataframe thead th {\n",
       "        text-align: right;\n",
       "    }\n",
       "</style>\n",
       "<table border=\"1\" class=\"dataframe\">\n",
       "  <thead>\n",
       "    <tr style=\"text-align: right;\">\n",
       "      <th></th>\n",
       "      <th>inspection_id</th>\n",
       "      <th>violation</th>\n",
       "      <th>major_violation</th>\n",
       "      <th>status</th>\n",
       "      <th>violation_text</th>\n",
       "      <th>correction_type_link</th>\n",
       "      <th>violation_accela</th>\n",
       "      <th>link</th>\n",
       "    </tr>\n",
       "  </thead>\n",
       "  <tbody>\n",
       "    <tr>\n",
       "      <th>0</th>\n",
       "      <td>6886133</td>\n",
       "      <td>Hot and Cold Water</td>\n",
       "      <td>Y</td>\n",
       "      <td>Out of Compliance - Major</td>\n",
       "      <td>Hot and Cold Water</td>\n",
       "      <td>http://www.sandiegocounty.gov/deh/fhd/ffis/vio...</td>\n",
       "      <td>21. Hot &amp; cold water available</td>\n",
       "      <td>http://www.sandiegocounty.gov/deh/fhd/ffis/vio...</td>\n",
       "    </tr>\n",
       "    <tr>\n",
       "      <th>1</th>\n",
       "      <td>6631228</td>\n",
       "      <td>Hot and Cold Water</td>\n",
       "      <td>N</td>\n",
       "      <td>Out of Compliance - Minor</td>\n",
       "      <td>Hot and Cold Water</td>\n",
       "      <td>http://www.sandiegocounty.gov/deh/fhd/ffis/vio...</td>\n",
       "      <td>21. Hot &amp; cold water available</td>\n",
       "      <td>http://www.sandiegocounty.gov/deh/fhd/ffis/vio...</td>\n",
       "    </tr>\n",
       "  </tbody>\n",
       "</table>\n",
       "</div>"
      ],
      "text/plain": [
       "   inspection_id           violation major_violation  \\\n",
       "0        6886133  Hot and Cold Water               Y   \n",
       "1        6631228  Hot and Cold Water               N   \n",
       "\n",
       "                      status      violation_text  \\\n",
       "0  Out of Compliance - Major  Hot and Cold Water   \n",
       "1  Out of Compliance - Minor  Hot and Cold Water   \n",
       "\n",
       "                                correction_type_link  \\\n",
       "0  http://www.sandiegocounty.gov/deh/fhd/ffis/vio...   \n",
       "1  http://www.sandiegocounty.gov/deh/fhd/ffis/vio...   \n",
       "\n",
       "                 violation_accela  \\\n",
       "0  21. Hot & cold water available   \n",
       "1  21. Hot & cold water available   \n",
       "\n",
       "                                                link  \n",
       "0  http://www.sandiegocounty.gov/deh/fhd/ffis/vio...  \n",
       "1  http://www.sandiegocounty.gov/deh/fhd/ffis/vio...  "
      ]
     },
     "execution_count": 7,
     "metadata": {},
     "output_type": "execute_result"
    }
   ],
   "source": [
    "# Fill me in\n",
    "viol.head(2)"
   ]
  },
  {
   "cell_type": "markdown",
   "id": "60f270da",
   "metadata": {
    "slideshow": {
     "slide_type": "slide"
    }
   },
   "source": [
    "## Using `plotly` for Data Visualization\n",
    "\n",
    "I've used `plotly` before in class, but let's talk about it now.\n",
    "\n",
    "- Library for interactive data visualizations\n",
    "- Install with `conda install plotly`\n",
    "    - Discussion this week: why use `conda install` instead of `pip install`?"
   ]
  },
  {
   "cell_type": "markdown",
   "id": "1b3d9f3d",
   "metadata": {
    "slideshow": {
     "slide_type": "slide"
    }
   },
   "source": [
    "### `plotly.express` Syntax\n",
    "\n",
    "`plotly` is very flexible but can be verbose. We use `plotly.express` to make plots quickly.\n",
    "\n",
    "- Docs: https://plotly.com/python/plotly-express\n"
   ]
  },
  {
   "cell_type": "code",
   "execution_count": 9,
   "id": "fd943f33",
   "metadata": {},
   "outputs": [],
   "source": [
    "# Will include this at the top of each notebook from now on.\n",
    "import plotly.express as px\n",
    "\n",
    "# DSC 80 preferred styles, but not necessary\n",
    "import plotly.graph_objects as go\n",
    "import plotly.io as pio\n",
    "pio.templates[\"dsc80\"] = go.layout.Template(\n",
    "    layout=dict(\n",
    "        margin=dict(l=30, r=30, t=30, b=30),\n",
    "        autosize=True,\n",
    "        width=600,\n",
    "        height=400,\n",
    "        xaxis=dict(showgrid=True),\n",
    "        yaxis=dict(showgrid=True),\n",
    "        title=dict(x=0.5, xanchor=\"center\"),\n",
    "    )\n",
    ")\n",
    "pio.templates.default = \"simple_white+dsc80\""
   ]
  },
  {
   "cell_type": "code",
   "execution_count": 10,
   "id": "e74310df",
   "metadata": {},
   "outputs": [
    {
     "data": {
      "application/vnd.plotly.v1+json": {
       "config": {
        "plotlyServerURL": "https://plot.ly"
       },
       "data": [
        {
         "alignmentgroup": "True",
         "bingroup": "x",
         "hovertemplate": "variable=score<br>value=%{x}<br>count=%{y}<extra></extra>",
         "legendgroup": "score",
         "marker": {
          "color": "#1F77B4",
          "pattern": {
           "shape": ""
          }
         },
         "name": "score",
         "offsetgroup": "score",
         "orientation": "v",
         "showlegend": true,
         "type": "histogram",
         "x": [
          96,
          98,
          98,
          100,
          0,
          92,
          0,
          95,
          0,
          98,
          0,
          92,
          0,
          98,
          98,
          100,
          100,
          96,
          100,
          100,
          0,
          99,
          96,
          100,
          93,
          98,
          98,
          100,
          100,
          100,
          100,
          100,
          100,
          100,
          99,
          0,
          96,
          0,
          100,
          0,
          0,
          94,
          97,
          0,
          0,
          0,
          90,
          96,
          98,
          100,
          0,
          97,
          96,
          92,
          0,
          92,
          0,
          100,
          94,
          0,
          94,
          96,
          93,
          0,
          95,
          0,
          0,
          0,
          0,
          95,
          0,
          93,
          0,
          90,
          99,
          98,
          99,
          99,
          0,
          0,
          96,
          100,
          100,
          100,
          0,
          92,
          96,
          96,
          100,
          100,
          96,
          100,
          100,
          0,
          0,
          100,
          0,
          0,
          98,
          93,
          0,
          0,
          0,
          94,
          100,
          100,
          98,
          99,
          99,
          100,
          100,
          0,
          96,
          100,
          0,
          0,
          98,
          97,
          0,
          93,
          81,
          94,
          99,
          0,
          92,
          0,
          97,
          96,
          97,
          0,
          100,
          91,
          97,
          99,
          0,
          98,
          100,
          100,
          100,
          0,
          100,
          0,
          95,
          96,
          96,
          100,
          96,
          97,
          0,
          92,
          0,
          0,
          95,
          0,
          95,
          99,
          0,
          100,
          93,
          100,
          100,
          98,
          0,
          0,
          90,
          93,
          96,
          98,
          0,
          0,
          0,
          100,
          99,
          100,
          96,
          100,
          100,
          97,
          96,
          0,
          100,
          100,
          0,
          100,
          97,
          0,
          100,
          100,
          100,
          0,
          0,
          99,
          99,
          100,
          98,
          0,
          96,
          100,
          96,
          0,
          0,
          0,
          99,
          0,
          100,
          100,
          95,
          0,
          100,
          97,
          0,
          96,
          99,
          100,
          100,
          0,
          100,
          100,
          0,
          97,
          95,
          100,
          97,
          100,
          92,
          96,
          0,
          100,
          100,
          0,
          100,
          100,
          100,
          100,
          100,
          100,
          98,
          0,
          96,
          96,
          98,
          100,
          100,
          99,
          100,
          100,
          98,
          100,
          100,
          100,
          0,
          0,
          100,
          100,
          100,
          100,
          100,
          100,
          100,
          100,
          100,
          100,
          100,
          100,
          100,
          0,
          0,
          100,
          98,
          98,
          98,
          0,
          0,
          100,
          100,
          100,
          100,
          96,
          97,
          0,
          100,
          97,
          98,
          98,
          0,
          96,
          98,
          100,
          100,
          100,
          99,
          100,
          100,
          100,
          98,
          98,
          98,
          96,
          0,
          100,
          99,
          0,
          0,
          0,
          98,
          98,
          100,
          98,
          98,
          98,
          98,
          0,
          0,
          0,
          0,
          0,
          0,
          0,
          98,
          98,
          98,
          0,
          0,
          92,
          100,
          0,
          0,
          98,
          96,
          99,
          100,
          100,
          96,
          100,
          95,
          0,
          100,
          100,
          100,
          100,
          100,
          100,
          98,
          96,
          0,
          100,
          98,
          0,
          96,
          0,
          100,
          97,
          100,
          100,
          100,
          95,
          100,
          100,
          100,
          100,
          99,
          99,
          99,
          0,
          0,
          98,
          100,
          100,
          100,
          0,
          98,
          98,
          0,
          100,
          95,
          100,
          99,
          99,
          0,
          98,
          0,
          100,
          0,
          99,
          0,
          0,
          95,
          0,
          97,
          99,
          0,
          100,
          100,
          0,
          95,
          100,
          100,
          0,
          100,
          92,
          0,
          92,
          0,
          92,
          100,
          97,
          0,
          92,
          0,
          0,
          90,
          0,
          100,
          95,
          0,
          0,
          98,
          100,
          94,
          0,
          96,
          0,
          0,
          98,
          94,
          98,
          99,
          100,
          0,
          97,
          0,
          99,
          95,
          0,
          96,
          0,
          0,
          96,
          96,
          98,
          0,
          0,
          0,
          90,
          96,
          0,
          94,
          0,
          0,
          0,
          96,
          98,
          0,
          0,
          97,
          0,
          0,
          0,
          94,
          0,
          0,
          91,
          0,
          93,
          95,
          0,
          0,
          99,
          100,
          100,
          100,
          100,
          0,
          0,
          98,
          99,
          0,
          100,
          98,
          0,
          100,
          0,
          100,
          0,
          0,
          98,
          0,
          100,
          98,
          98,
          0,
          100,
          0,
          100,
          97,
          0,
          96,
          99,
          0,
          0,
          98,
          98,
          100,
          0,
          0,
          100,
          0,
          100,
          100,
          0,
          0,
          0,
          0,
          0,
          96,
          100,
          100,
          0,
          100,
          100,
          100,
          0,
          100,
          100,
          100,
          0,
          0,
          96,
          95,
          100,
          0,
          100,
          100,
          98,
          0,
          100,
          100,
          100,
          0,
          0,
          91,
          100,
          0,
          94,
          96,
          99,
          0,
          0,
          0,
          100,
          100,
          99,
          100,
          98,
          100,
          100,
          100,
          100,
          100,
          0,
          100,
          98,
          100,
          100,
          0,
          98,
          0,
          98,
          99,
          0,
          99,
          100,
          0,
          98,
          90,
          97,
          0,
          95,
          99,
          100,
          98,
          98,
          100,
          100,
          98,
          99,
          98,
          96,
          100,
          100,
          98,
          98,
          0,
          100,
          100,
          100,
          0,
          100,
          0,
          0,
          100,
          96,
          100,
          100,
          99,
          98,
          100,
          99,
          100,
          100,
          100,
          96,
          97,
          100,
          98,
          0,
          95,
          98,
          0,
          98,
          80,
          0,
          0,
          97,
          100,
          97,
          97,
          96,
          97,
          98,
          97,
          98,
          99,
          100,
          100,
          100,
          100,
          100,
          0,
          100,
          99,
          95,
          96,
          98,
          0,
          0,
          0,
          98,
          98,
          0,
          100,
          95,
          0,
          96,
          0,
          96,
          0,
          96,
          100,
          0,
          99,
          0,
          100,
          100,
          100,
          100,
          100,
          98,
          98,
          0,
          0,
          98,
          98,
          0,
          0,
          100,
          100,
          100,
          100,
          100,
          100,
          100,
          96,
          98,
          100,
          97,
          97,
          98,
          0,
          90,
          97,
          0,
          97,
          0,
          90,
          0,
          96,
          94,
          93,
          0,
          99,
          0,
          97,
          99,
          95,
          94,
          0,
          0,
          91,
          80,
          93,
          0,
          93,
          0,
          97,
          96,
          0,
          94,
          96,
          96,
          100,
          99,
          100,
          0,
          0,
          98,
          0,
          0,
          91,
          98,
          100,
          99,
          98,
          96,
          0,
          100,
          98,
          100,
          100,
          0,
          94,
          0,
          0,
          95,
          94,
          0,
          0,
          100,
          0,
          98,
          92,
          0,
          0,
          99,
          0,
          99,
          0,
          0,
          0,
          99,
          0,
          94,
          98,
          100,
          100,
          98,
          100,
          100,
          99,
          100,
          100,
          100,
          100,
          100,
          97,
          98,
          0,
          0,
          95,
          0,
          95,
          0,
          0,
          98,
          98,
          0,
          99,
          99,
          0,
          0,
          98,
          100,
          0,
          0,
          100,
          0,
          97,
          100,
          0,
          0,
          98,
          98,
          98,
          100,
          0,
          0,
          100,
          100,
          100,
          98,
          99,
          0,
          100,
          0,
          100,
          100,
          0,
          100,
          98,
          96,
          0,
          100,
          100,
          100,
          92,
          98,
          100,
          0,
          96,
          0,
          95,
          0,
          95,
          0,
          95,
          99,
          99,
          98,
          100,
          0,
          100,
          100,
          97,
          99,
          100,
          98,
          100,
          96,
          0,
          94,
          98,
          100,
          100,
          0,
          96,
          98,
          100,
          100,
          98,
          100,
          0,
          0,
          98,
          100,
          100,
          100,
          100,
          100,
          100,
          99,
          99,
          100,
          0,
          100,
          0,
          91,
          94,
          98,
          97,
          0,
          0,
          93,
          100,
          100,
          100,
          0,
          99,
          96,
          98,
          100,
          100,
          98,
          100,
          100,
          0,
          0,
          98,
          96,
          100,
          0,
          100,
          99,
          100,
          100,
          100,
          100,
          100,
          0,
          0,
          93,
          99,
          97,
          98,
          0,
          100,
          0,
          0,
          100,
          0,
          95,
          98,
          0,
          0,
          100,
          99,
          99,
          100,
          0,
          0,
          0,
          96,
          0,
          100,
          0,
          100,
          100,
          100,
          100,
          0,
          100,
          100,
          100,
          100,
          0,
          0,
          100,
          0,
          98,
          98,
          100,
          0,
          95,
          97,
          0,
          0,
          96,
          100,
          0,
          94,
          0,
          93,
          99,
          98,
          100,
          93,
          100,
          0,
          94,
          93,
          0,
          96,
          94,
          0,
          100,
          100,
          100,
          100,
          98,
          0,
          0,
          97,
          0,
          98,
          0,
          100,
          100,
          100,
          100,
          0,
          0,
          0,
          100,
          99,
          100,
          100,
          0,
          0,
          98,
          96,
          0,
          98,
          97,
          0,
          95,
          0,
          98,
          0,
          97,
          100,
          100,
          0,
          0,
          100,
          100,
          100,
          0,
          0,
          99,
          97,
          97,
          98,
          99,
          100,
          100,
          100,
          0,
          100,
          100,
          100,
          100,
          100,
          100,
          100,
          0,
          99,
          100,
          100,
          100,
          100,
          97,
          100,
          98,
          100,
          0,
          100,
          100,
          100,
          100,
          0,
          98,
          0,
          94,
          98,
          0,
          0,
          0,
          100,
          100,
          0,
          97,
          0,
          96,
          95,
          0,
          99,
          97,
          100,
          100,
          100,
          0,
          0,
          100,
          100,
          100,
          98,
          100,
          100,
          100,
          100,
          0,
          0,
          95,
          98,
          96,
          99,
          0,
          97,
          97,
          99,
          98,
          0,
          94,
          0,
          0,
          95,
          0,
          0,
          93,
          0,
          100,
          0,
          98,
          0,
          100,
          100,
          0,
          100,
          100,
          0,
          98,
          99,
          0,
          100,
          100,
          0,
          100,
          100,
          0,
          100,
          98,
          0,
          98,
          100,
          100,
          100,
          100,
          100,
          0,
          100,
          0,
          99,
          100,
          99,
          0,
          0,
          97,
          100,
          0,
          96,
          0,
          0,
          0,
          0,
          94,
          0,
          0,
          97,
          0,
          98,
          0,
          91,
          98,
          0,
          0,
          0,
          100,
          100,
          100,
          100,
          0,
          100,
          95,
          98,
          98,
          100,
          100,
          100,
          100,
          98,
          100,
          99,
          99,
          0,
          100,
          100,
          100,
          0,
          0,
          92,
          0,
          92,
          98,
          0,
          100,
          100,
          100,
          0,
          98,
          94,
          98,
          94,
          0,
          100,
          98,
          100,
          97,
          98,
          100,
          99,
          100,
          100,
          100,
          94,
          100,
          100,
          100,
          100,
          100,
          100,
          92,
          95,
          98,
          98,
          0,
          100,
          100,
          0,
          100,
          100,
          100,
          0,
          100,
          100,
          100,
          0,
          100,
          98,
          98,
          100,
          0,
          97,
          99,
          100,
          0,
          0,
          97,
          94,
          0,
          93,
          96,
          0,
          91,
          0,
          98,
          97,
          0,
          0,
          95,
          0,
          0,
          0,
          0,
          100,
          96,
          100,
          0,
          100,
          97,
          99,
          0,
          100,
          100,
          100,
          100,
          100,
          100,
          99,
          0,
          100,
          100,
          100,
          0,
          0,
          0,
          94,
          98,
          0,
          0,
          0,
          93,
          98,
          0,
          0,
          0,
          93,
          95,
          97,
          0,
          0,
          90,
          90,
          0,
          93,
          90,
          0,
          96,
          97,
          100,
          0,
          95,
          93,
          100,
          0,
          98,
          0,
          96,
          100,
          100,
          98,
          0,
          0,
          95,
          0,
          95,
          97,
          0,
          0,
          0,
          95,
          99,
          94,
          100,
          97,
          98,
          99,
          100,
          98,
          0,
          99,
          100,
          100,
          100,
          0,
          0,
          0,
          97,
          0,
          98,
          98,
          100,
          98,
          0,
          100,
          98,
          0,
          100,
          0,
          0,
          95,
          0,
          92,
          0,
          0,
          94,
          0,
          0,
          0,
          90,
          0,
          95,
          100,
          100,
          0,
          94,
          0,
          0,
          0,
          0,
          97,
          95,
          0,
          95,
          0,
          96,
          93,
          96,
          0,
          0,
          0,
          94,
          97,
          100,
          100,
          100,
          0,
          100,
          0,
          0,
          99,
          96,
          97,
          0,
          100,
          100,
          0,
          0,
          0,
          0,
          0,
          97,
          98,
          0,
          99,
          0,
          92,
          97,
          100,
          98,
          0,
          96,
          0,
          90,
          100,
          100,
          0,
          0,
          90,
          92,
          100,
          98,
          0,
          96,
          97,
          0,
          100,
          100,
          100,
          100,
          100,
          100,
          100,
          100,
          100,
          0,
          96,
          100,
          0,
          96,
          0,
          100,
          97,
          0,
          90,
          0,
          92,
          0,
          93,
          0,
          0,
          0,
          100,
          0,
          100,
          100,
          100,
          100,
          98,
          0,
          96,
          97,
          100,
          98,
          100,
          0,
          0,
          100,
          98,
          100,
          100,
          98,
          99,
          100,
          100,
          98,
          100,
          100,
          100,
          0,
          98,
          95,
          97,
          0,
          0,
          97,
          100,
          100,
          100,
          100,
          100,
          98,
          100,
          100,
          100,
          0,
          99,
          100,
          0,
          0,
          95,
          0,
          92,
          0,
          0,
          94,
          0,
          99,
          98,
          96,
          0,
          0,
          0,
          97,
          95,
          95,
          0,
          98,
          90,
          0,
          0,
          0,
          96,
          98,
          96,
          0,
          0,
          0,
          0,
          100,
          96,
          100,
          96,
          93,
          0,
          99,
          96,
          0,
          98,
          94,
          0,
          97,
          0,
          0,
          0,
          98,
          92,
          0,
          98,
          98,
          0,
          0,
          100,
          99,
          97,
          0,
          0,
          95,
          96,
          0,
          94,
          98,
          91,
          0,
          0,
          98,
          98,
          100,
          0,
          0,
          0,
          95,
          0,
          96,
          0,
          0,
          96,
          99,
          0,
          0,
          99,
          98,
          93,
          0,
          94,
          0,
          98,
          97,
          96,
          0,
          0,
          100,
          100,
          99,
          0,
          100,
          98,
          100,
          0,
          98,
          94,
          0,
          97,
          93,
          100,
          95,
          0,
          96,
          93,
          96,
          98,
          100,
          98,
          99,
          96,
          0,
          100,
          100,
          100,
          97,
          96,
          0,
          94,
          0,
          98,
          98,
          100,
          100,
          100,
          0,
          98,
          0,
          0,
          100,
          100,
          100,
          0,
          97,
          100,
          100,
          100,
          98,
          100,
          100,
          100,
          100,
          0,
          99,
          100,
          100,
          0,
          96,
          100,
          98,
          100,
          100,
          100,
          100,
          100,
          0,
          100,
          100,
          99,
          100,
          0,
          100,
          94,
          100,
          96,
          0,
          100,
          100,
          99,
          100,
          0,
          0,
          98,
          96,
          98,
          100,
          0,
          100,
          98,
          97,
          0,
          96,
          100,
          100,
          0,
          0,
          0,
          0,
          0,
          100,
          100,
          100,
          0,
          0,
          0,
          100,
          100,
          100,
          100,
          100,
          96,
          97,
          100,
          100,
          98,
          0,
          0,
          100,
          98,
          100,
          99,
          99,
          100,
          0,
          0,
          0,
          98,
          0,
          100,
          0,
          0,
          100,
          100,
          100,
          100,
          100,
          100,
          100,
          100,
          100,
          100,
          100,
          100,
          100,
          100,
          99,
          97,
          100,
          100,
          0,
          94,
          100,
          100,
          100,
          100,
          100,
          98,
          99,
          100,
          0,
          0,
          98,
          100,
          100,
          0,
          0,
          100,
          100,
          0,
          0,
          0,
          97,
          0,
          0,
          0,
          100,
          95,
          99,
          99,
          0,
          0,
          92,
          98,
          99,
          100,
          100,
          99,
          100,
          100,
          100,
          100,
          100,
          100,
          0,
          99,
          95,
          97,
          97,
          0,
          98,
          96,
          0,
          99,
          98,
          0,
          0,
          90,
          0,
          0,
          92,
          96,
          0,
          0,
          100,
          0,
          0,
          93,
          98,
          0,
          100,
          0,
          93,
          97,
          0,
          98,
          0,
          99,
          0,
          0,
          98,
          0,
          98,
          100,
          0,
          100,
          0,
          100,
          96,
          100,
          98,
          0,
          98,
          94,
          100,
          99,
          0,
          96,
          0,
          0,
          0,
          94,
          0,
          91,
          91,
          98,
          0,
          98,
          100,
          100,
          100,
          0,
          0,
          96,
          96,
          96,
          0,
          100,
          96,
          0,
          99,
          0,
          100,
          100,
          99,
          0,
          0,
          98,
          96,
          98,
          99,
          96,
          0,
          0,
          0,
          0,
          0,
          100,
          91,
          99,
          98,
          97,
          0,
          100,
          100,
          100,
          0,
          100,
          99,
          0,
          100,
          98,
          0,
          100,
          100,
          100,
          96,
          98,
          97,
          99,
          0,
          0,
          100,
          100,
          100,
          100,
          0,
          97,
          0,
          0,
          0,
          90,
          94,
          98,
          99,
          0,
          0,
          97,
          99,
          96,
          97,
          98,
          96,
          96,
          100,
          98,
          0,
          97,
          98,
          100,
          100,
          97,
          100,
          100,
          0,
          0,
          96,
          94,
          0,
          98,
          94,
          0,
          0,
          93,
          100,
          100,
          0,
          0,
          97,
          98,
          0,
          0,
          98,
          94,
          0,
          0,
          0,
          0,
          0,
          91,
          0,
          90,
          93,
          0,
          92,
          0,
          91,
          0,
          0,
          93,
          99,
          0,
          0,
          96,
          96,
          0,
          0,
          90,
          0,
          96,
          90,
          0,
          96,
          0,
          95,
          0,
          95,
          0,
          100,
          100,
          0,
          0,
          0,
          0,
          0,
          93,
          92,
          97,
          0,
          94,
          0,
          95,
          0,
          95,
          98,
          97,
          0,
          0,
          0,
          92,
          97,
          100,
          0,
          0,
          100,
          96,
          0,
          0,
          0,
          0,
          93,
          0,
          97,
          97,
          0,
          94,
          0,
          92,
          0,
          0,
          95,
          99,
          0,
          97,
          0,
          100,
          100,
          100,
          0,
          91,
          0,
          98,
          95,
          100,
          0,
          94,
          94,
          98,
          0,
          0,
          0,
          98,
          98,
          100,
          98,
          0,
          0,
          99,
          0,
          0,
          100,
          0,
          96,
          0,
          92,
          0,
          98,
          100,
          100,
          0,
          100,
          0,
          97,
          99,
          0,
          0,
          100,
          95,
          97,
          99,
          0,
          0,
          0,
          0,
          100,
          99,
          100,
          98,
          98,
          0,
          99,
          100,
          100,
          100,
          100,
          100,
          99,
          0,
          97,
          99,
          96,
          98,
          0,
          98,
          100,
          96,
          96,
          0,
          0,
          0,
          96,
          98,
          0,
          96,
          100,
          100,
          98,
          100,
          100,
          99,
          100,
          100,
          0,
          100,
          100,
          100,
          0,
          0,
          0,
          0,
          0,
          0,
          94,
          96,
          0,
          94,
          0,
          0,
          96,
          0,
          0,
          0,
          0,
          95,
          0,
          94,
          100,
          0,
          0,
          97,
          96,
          0,
          92,
          0,
          0,
          100,
          0,
          0,
          90,
          0,
          91,
          0,
          91,
          0,
          0,
          0,
          98,
          99,
          0,
          95,
          94,
          0,
          96,
          0,
          94,
          0,
          0,
          0,
          93,
          0,
          0,
          0,
          99,
          100,
          0,
          97,
          98,
          99,
          100,
          0,
          0,
          91,
          0,
          98,
          0,
          0,
          0,
          0,
          90,
          0,
          95,
          0,
          97,
          0,
          95,
          0,
          98,
          0,
          93,
          98,
          100,
          99,
          0,
          99,
          0,
          0,
          0,
          0,
          97,
          0,
          0,
          98,
          0,
          0,
          90,
          90,
          94,
          95,
          98,
          99,
          100,
          0,
          90,
          95,
          94,
          0,
          96,
          93,
          0,
          0,
          90,
          0,
          90,
          0,
          97,
          0,
          0,
          0,
          95,
          0,
          0,
          93,
          0,
          98,
          0,
          0,
          0,
          96,
          100,
          100,
          100,
          0,
          98,
          100,
          100,
          98,
          96,
          0,
          100,
          0,
          100,
          95,
          95,
          0,
          94,
          0,
          0,
          100,
          100,
          100,
          98,
          0,
          0,
          98,
          100,
          0,
          0,
          100,
          0,
          0,
          98,
          100,
          0,
          98,
          91,
          97,
          0,
          97,
          97,
          0,
          98,
          99,
          98,
          97,
          98,
          0,
          97,
          98,
          98,
          99,
          96,
          99,
          98,
          0,
          0,
          0,
          0,
          97,
          95,
          0,
          99,
          95,
          98,
          0,
          92,
          0,
          99,
          0,
          0,
          99,
          97,
          96,
          100,
          0,
          100,
          100,
          100,
          0,
          100,
          0,
          90,
          96,
          0,
          100,
          100,
          0,
          0,
          92,
          96,
          0,
          0,
          92,
          90,
          0,
          90,
          0,
          92,
          98,
          100,
          99,
          100,
          0,
          0,
          90,
          0,
          93,
          0,
          0,
          97,
          0,
          0,
          0,
          0,
          92,
          0,
          97,
          95,
          96,
          0,
          100,
          0,
          100,
          0,
          100,
          100,
          0,
          90,
          97,
          0,
          0,
          96,
          81,
          93,
          0,
          97,
          95,
          0,
          90,
          95,
          0,
          96,
          0,
          97,
          95,
          0,
          96,
          0,
          98,
          90,
          99,
          97,
          0,
          0,
          98,
          0,
          90,
          0,
          90,
          0,
          90,
          0,
          0,
          0,
          0,
          90,
          98,
          0,
          0,
          0,
          0,
          96,
          90,
          94,
          100,
          90,
          90,
          0,
          90,
          0,
          0,
          93,
          0,
          0,
          96,
          96,
          0,
          95,
          0,
          94,
          0,
          96,
          100,
          99,
          98,
          100,
          100,
          98,
          99,
          0,
          92,
          96,
          96,
          0,
          97,
          96,
          98,
          100,
          0,
          98,
          100,
          100,
          100,
          100,
          100,
          100,
          100,
          98,
          95,
          97,
          100,
          0,
          95,
          98,
          98,
          0,
          0,
          95,
          96,
          100,
          91,
          97,
          100,
          0,
          0,
          92,
          93,
          96,
          93,
          0,
          0,
          95,
          97,
          97,
          0,
          0,
          100,
          0,
          96,
          0,
          93,
          97,
          0,
          97,
          98,
          0,
          100,
          0,
          0,
          97,
          98,
          99,
          0,
          0,
          100,
          100,
          0,
          90,
          94,
          0,
          0,
          0,
          94,
          0,
          91,
          95,
          0,
          0,
          93,
          94,
          0,
          100,
          98,
          95,
          100,
          98,
          99,
          100,
          99,
          97,
          100,
          0,
          0,
          92,
          95,
          95,
          0,
          0,
          98,
          92,
          94,
          0,
          87,
          96,
          96,
          92,
          90,
          97,
          99,
          100,
          99,
          94,
          95,
          100,
          99,
          0,
          98,
          96,
          99,
          100,
          100,
          100,
          0,
          100,
          0,
          100,
          100,
          0,
          100,
          98,
          0,
          0,
          98,
          96,
          95,
          0,
          93,
          0,
          90,
          0,
          93,
          99,
          0,
          0,
          97,
          99,
          99,
          0,
          0,
          0,
          0,
          99,
          0,
          0,
          0,
          98,
          0,
          97,
          98,
          96,
          90,
          93,
          98,
          99,
          100,
          0,
          0,
          92,
          94,
          0,
          93,
          95,
          0,
          0,
          100,
          100,
          0,
          100,
          100,
          100,
          100,
          0,
          95,
          96,
          93,
          0,
          98,
          98,
          100,
          97,
          97,
          94,
          99,
          100,
          98,
          100,
          0,
          0,
          90,
          93,
          98,
          0,
          99,
          100,
          0,
          100,
          100,
          100,
          100,
          100,
          0,
          94,
          98,
          96,
          0,
          98,
          100,
          100,
          100,
          0,
          0,
          90,
          0,
          90,
          94,
          0,
          96,
          0,
          97,
          97,
          0,
          100,
          95,
          99,
          99,
          100,
          0,
          100,
          95,
          0,
          0,
          91,
          97,
          95,
          0,
          98,
          0,
          92,
          94,
          97,
          0,
          93,
          0,
          97,
          97,
          95,
          0,
          98,
          100,
          100,
          0,
          100,
          0,
          100,
          100,
          98,
          100,
          0,
          90,
          0,
          93,
          0,
          0,
          96,
          91,
          100,
          100,
          100,
          100,
          100,
          100,
          98,
          100,
          100,
          100,
          98,
          98,
          100,
          100,
          100,
          100,
          0,
          96,
          0,
          100,
          98,
          100,
          100,
          100,
          99,
          100,
          93,
          0,
          0,
          90,
          97,
          0,
          92,
          96,
          96,
          0,
          0,
          0,
          0,
          91,
          93,
          0,
          100,
          98,
          100,
          94,
          95,
          0,
          90,
          98,
          0,
          97,
          98,
          99,
          0,
          95,
          97,
          100,
          0,
          100,
          0,
          0,
          0,
          0,
          90,
          90,
          0,
          0,
          98,
          0,
          0,
          0,
          0,
          0,
          100,
          0,
          0,
          0,
          97,
          0,
          0,
          91,
          0,
          93,
          97,
          0,
          96,
          98,
          98,
          0,
          95,
          98,
          0,
          96,
          97,
          95,
          0,
          100,
          100,
          98,
          100,
          100,
          100,
          100,
          100,
          0,
          91,
          95,
          0,
          96,
          0,
          98,
          100,
          100,
          100,
          99,
          100,
          100,
          98,
          99,
          100,
          100,
          100,
          100,
          0,
          98,
          100,
          0,
          100,
          100,
          100,
          0,
          0,
          100,
          100,
          100,
          0,
          100,
          100,
          100,
          0,
          0,
          100,
          99,
          99,
          98,
          97,
          0,
          100,
          100,
          0,
          99,
          100,
          99,
          99,
          100,
          100,
          97,
          0,
          100,
          100,
          96,
          100,
          100,
          0,
          100,
          0,
          98,
          0,
          99,
          100,
          0,
          95,
          0,
          92,
          96,
          0,
          0,
          96,
          0,
          0,
          0,
          0,
          99,
          100,
          100,
          0,
          0,
          0,
          91,
          0,
          0,
          0,
          94,
          0,
          100,
          100,
          0,
          96,
          0,
          0,
          98,
          0,
          98,
          0,
          0,
          100,
          100,
          0,
          97,
          100,
          0,
          93,
          0,
          97,
          96,
          0,
          0,
          97,
          0,
          0,
          93,
          98,
          100,
          0,
          90,
          96,
          96,
          0,
          97,
          95,
          0,
          80,
          0,
          95,
          97,
          99,
          98,
          100,
          98,
          0,
          0,
          97,
          96,
          0,
          100,
          0,
          0,
          90,
          0,
          90,
          97,
          0,
          96,
          96,
          96,
          97,
          94,
          98,
          0,
          0,
          99,
          96,
          0,
          0,
          93,
          98,
          0,
          97,
          0,
          0,
          100,
          98,
          99,
          97,
          100,
          100,
          100,
          0,
          100,
          98,
          94,
          0,
          93,
          99,
          0,
          93,
          100,
          0,
          99,
          94,
          0,
          97,
          97,
          0,
          90,
          0,
          96,
          93,
          0,
          0,
          0,
          94,
          90,
          99,
          95,
          98,
          94,
          96,
          98,
          98,
          0,
          100,
          98,
          100,
          100,
          0,
          0,
          94,
          98,
          100,
          99,
          99,
          100,
          96,
          0,
          100,
          98,
          98,
          98,
          0,
          0,
          100,
          100,
          100,
          0,
          100,
          100,
          100,
          100,
          100,
          100,
          100,
          100,
          100,
          100,
          100,
          100,
          0,
          100,
          97,
          0,
          97,
          0,
          100,
          0,
          0,
          0,
          98,
          0,
          97,
          98,
          0,
          98,
          100,
          0,
          100,
          0,
          0,
          96,
          96,
          0,
          93,
          0,
          0,
          90,
          0,
          0,
          92,
          98,
          0,
          0,
          100,
          100,
          99,
          100,
          0,
          0,
          93,
          98,
          0,
          94,
          97,
          0,
          0,
          0,
          0,
          96,
          97,
          0,
          0,
          100,
          100,
          100,
          100,
          99,
          0,
          100,
          0,
          100,
          98,
          98,
          100,
          0,
          95,
          98,
          99,
          97,
          100,
          95,
          94,
          99,
          98,
          100,
          100,
          98,
          98,
          98,
          0,
          98,
          94,
          0,
          0,
          0,
          0,
          0,
          0,
          99,
          0,
          92,
          92,
          94,
          0,
          0,
          0,
          0,
          0,
          94,
          94,
          100,
          0,
          96,
          94,
          0,
          0,
          94,
          0,
          0,
          92,
          0,
          0,
          94,
          98,
          0,
          100,
          100,
          0,
          100,
          100,
          98,
          0,
          0,
          0,
          99,
          0,
          0,
          0,
          0,
          0,
          0,
          95,
          0,
          0,
          91,
          91,
          0,
          0,
          0,
          0,
          90,
          95,
          96,
          0,
          94,
          97,
          98,
          100,
          0,
          98,
          97,
          0,
          100,
          97,
          0,
          0,
          0,
          92,
          0,
          96,
          97,
          0,
          0,
          99,
          99,
          99,
          99,
          100,
          99,
          100,
          0,
          94,
          0,
          95,
          0,
          92,
          0,
          90,
          0,
          91,
          95,
          0,
          0,
          100,
          100,
          0,
          0,
          97,
          95,
          0,
          0,
          98,
          98,
          100,
          0,
          90,
          94,
          0,
          0,
          97,
          0,
          92,
          0,
          100,
          100,
          100,
          94,
          0,
          97,
          93,
          0,
          98,
          0,
          100,
          100,
          100,
          0,
          0,
          98,
          0,
          0,
          91,
          91,
          0,
          97,
          96,
          0,
          96,
          0,
          98,
          0,
          98,
          92,
          0,
          94,
          100,
          0,
          0,
          0,
          0,
          95,
          93,
          0,
          0,
          0,
          0,
          96,
          0,
          97,
          0,
          96,
          0,
          96,
          98,
          98,
          98,
          0,
          93,
          0,
          98,
          0,
          0,
          0,
          100,
          97,
          96,
          97,
          0,
          96,
          100,
          100,
          100,
          0,
          100,
          100,
          100,
          0,
          95,
          97,
          96,
          0,
          97,
          0,
          0,
          94,
          0,
          0,
          93,
          92,
          0,
          0,
          0,
          97,
          0,
          100,
          97,
          99,
          0,
          99,
          0,
          98,
          98,
          100,
          96,
          98,
          100,
          100,
          0,
          99,
          100,
          99,
          100,
          100,
          0,
          99,
          99,
          99,
          100,
          100,
          100,
          100,
          100,
          100,
          99,
          0,
          0,
          0,
          0,
          0,
          98,
          0,
          0,
          0,
          0,
          94,
          100,
          96,
          0,
          0,
          97,
          97,
          100,
          97,
          0,
          98,
          100,
          100,
          100,
          100,
          98,
          100,
          0,
          100,
          98,
          100,
          94,
          0,
          99,
          0,
          0,
          99,
          99,
          96,
          0,
          0,
          93,
          0,
          0,
          98,
          97,
          0,
          93,
          0,
          96,
          94,
          0,
          99,
          0,
          95,
          93,
          98,
          96,
          0,
          0,
          0,
          97,
          98,
          0,
          100,
          97,
          0,
          93,
          0,
          0,
          94,
          0,
          98,
          0,
          0,
          98,
          0,
          0,
          95,
          98,
          0,
          91,
          96,
          0,
          96,
          100,
          100,
          0,
          99,
          98,
          0,
          0,
          97,
          99,
          0,
          100,
          99,
          100,
          98,
          0,
          97,
          0,
          93,
          0,
          0,
          0,
          0,
          0,
          93,
          0,
          97,
          99,
          0,
          98,
          0,
          0,
          93,
          96,
          0,
          94,
          0,
          95,
          0,
          0,
          0,
          95,
          92,
          91,
          0,
          0,
          92,
          0,
          100,
          100,
          98,
          98,
          100,
          96,
          0,
          94,
          92,
          0,
          95,
          100,
          0,
          100,
          100,
          98,
          99,
          100,
          0,
          99,
          97,
          97,
          98,
          0,
          98,
          0,
          100,
          97,
          98,
          97,
          96,
          0,
          99,
          0,
          94,
          0,
          94,
          98,
          97,
          96,
          100,
          98,
          99,
          100,
          0,
          100,
          100,
          100,
          0,
          94,
          100,
          97,
          0,
          95,
          0,
          100,
          0,
          100,
          100,
          98,
          100,
          100,
          98,
          100,
          98,
          100,
          0,
          97,
          100,
          0,
          100,
          100,
          0,
          100,
          0,
          0,
          0,
          98,
          100,
          0,
          98,
          0,
          98,
          100,
          100,
          99,
          100,
          96,
          100,
          100,
          100,
          0,
          0,
          0,
          0,
          0,
          0,
          96,
          0,
          0,
          0,
          0,
          95,
          0,
          98,
          0,
          0,
          91,
          92,
          100,
          97,
          99,
          0,
          93,
          96,
          0,
          97,
          0,
          0,
          100,
          90,
          99,
          96,
          96,
          97,
          0,
          0,
          93,
          0,
          96,
          95,
          0,
          0,
          100,
          97,
          100,
          0,
          100,
          100,
          95,
          99,
          99,
          94,
          97,
          95,
          0,
          98,
          0,
          0,
          100,
          100,
          100,
          0,
          98,
          100,
          100,
          0,
          91,
          91,
          95,
          0,
          97,
          97,
          0,
          98,
          100,
          97,
          96,
          96,
          99,
          99,
          0,
          98,
          98,
          100,
          0,
          100,
          100,
          0,
          100,
          0,
          93,
          0,
          93,
          97,
          0,
          94,
          0,
          0,
          90,
          100,
          100,
          100,
          0,
          93,
          95,
          0,
          97,
          98,
          0,
          100,
          98,
          100,
          95,
          99,
          0,
          100,
          0,
          0,
          97,
          0,
          100,
          97,
          97,
          100,
          97,
          98,
          0,
          98,
          0,
          94,
          0,
          98,
          95,
          100,
          99,
          0,
          100,
          92,
          92,
          0,
          0,
          90,
          97,
          0,
          98,
          0,
          95,
          96,
          98,
          96,
          100,
          0,
          95,
          0,
          94,
          0,
          97,
          98,
          0,
          97,
          0,
          95,
          100,
          0,
          100,
          96,
          0,
          96,
          98,
          0,
          98,
          96,
          0,
          0,
          0,
          0,
          0,
          0,
          100,
          0,
          96,
          98,
          99,
          98,
          0,
          0,
          99,
          100,
          100,
          0,
          100,
          99,
          0,
          96,
          100,
          99,
          100,
          100,
          100,
          99,
          95,
          100,
          94,
          0,
          91,
          0,
          96,
          90,
          96,
          94,
          0,
          92,
          0,
          91,
          100,
          95,
          97,
          0,
          94,
          98,
          0,
          0,
          97,
          0,
          94,
          0,
          92,
          96,
          0,
          0,
          0,
          0,
          90,
          99,
          96,
          0,
          0,
          93,
          0,
          90,
          95,
          0,
          0,
          99,
          100,
          92,
          96,
          98,
          95,
          97,
          99,
          98,
          99,
          0,
          100,
          100,
          0,
          100,
          0,
          93,
          100,
          100,
          100,
          0,
          100,
          100,
          97,
          100,
          0,
          97,
          100,
          100,
          100,
          0,
          98,
          100,
          100,
          100,
          0,
          100,
          100,
          100,
          100,
          98,
          98,
          99,
          100,
          100,
          0,
          98,
          98,
          99,
          0,
          0,
          0,
          0,
          0,
          0,
          99,
          0,
          98,
          97,
          93,
          98,
          0,
          97,
          91,
          0,
          100,
          100,
          100,
          92,
          95,
          96,
          0,
          0,
          96,
          100,
          100,
          99,
          95,
          0,
          0,
          91,
          93,
          98,
          97,
          0,
          90,
          0,
          94,
          0,
          93,
          93,
          0,
          0,
          95,
          94,
          0,
          99,
          98,
          0,
          98,
          100,
          100,
          0,
          0,
          0,
          91,
          0,
          90,
          0,
          90,
          98,
          0,
          0,
          0,
          0,
          0,
          93,
          0,
          90,
          95,
          0,
          0,
          0,
          91,
          96,
          96,
          100,
          99,
          100,
          90,
          95,
          97,
          0,
          0,
          0,
          95,
          100,
          99,
          100,
          0,
          0,
          94,
          96,
          0,
          0,
          0,
          95,
          98,
          94,
          0,
          0,
          95,
          0,
          0,
          95,
          91,
          97,
          97,
          94,
          0,
          0,
          95,
          97,
          90,
          0,
          93,
          0,
          0,
          93,
          0,
          92,
          98,
          94,
          0,
          0,
          0,
          98,
          100,
          100,
          0,
          0,
          90,
          92,
          0,
          91,
          0,
          93,
          0,
          0,
          0,
          94,
          99,
          99,
          100,
          99,
          98,
          99,
          99,
          99,
          0,
          100,
          97,
          0,
          100,
          100,
          100,
          100,
          100,
          100,
          98,
          98,
          100,
          100,
          100,
          100,
          0,
          0,
          0,
          0,
          0,
          0,
          98,
          98,
          99,
          100,
          99,
          100,
          0,
          100,
          0,
          0,
          0,
          93,
          97,
          0,
          100,
          0,
          0,
          0,
          98,
          98,
          94,
          96,
          0,
          96,
          99,
          0,
          0,
          0,
          0,
          100,
          100,
          0,
          90,
          93,
          97,
          0,
          100,
          100,
          100,
          100,
          97,
          100,
          0,
          0,
          91,
          100,
          98,
          0,
          98,
          0,
          0,
          95,
          93,
          0,
          0,
          100,
          100,
          0,
          100,
          100,
          100,
          100,
          0,
          92,
          0,
          95,
          0,
          0,
          93,
          0,
          100,
          97,
          100,
          0,
          0,
          95,
          0,
          0,
          92,
          98,
          98,
          0,
          93,
          0,
          96,
          0,
          98,
          98,
          0,
          99,
          0,
          0,
          94,
          94,
          0,
          98,
          0,
          96,
          0,
          95,
          0,
          100,
          99,
          100,
          98,
          100,
          100,
          100,
          0,
          0,
          92,
          96,
          97,
          97,
          0,
          0,
          95,
          100,
          0,
          0,
          95,
          96,
          100,
          0,
          100,
          100,
          100,
          0,
          98,
          0,
          0,
          94,
          90,
          95,
          0,
          95,
          0,
          92,
          0,
          95,
          98,
          97,
          100,
          98,
          98,
          0,
          92,
          93,
          97,
          0,
          91,
          95,
          0,
          90,
          99,
          0,
          99,
          100,
          100,
          0,
          0,
          93,
          97,
          0,
          94,
          0,
          0,
          0,
          0,
          94,
          0,
          98,
          99,
          100,
          100,
          100,
          100,
          0,
          97,
          98,
          98,
          0,
          93,
          98,
          0,
          96,
          96,
          94,
          0,
          98,
          100,
          0,
          0,
          91,
          92,
          0,
          91,
          91,
          0,
          0,
          100,
          100,
          100,
          100,
          0,
          98,
          94,
          0,
          96,
          97,
          100,
          0,
          98,
          99,
          0,
          98,
          98,
          100,
          100,
          100,
          100,
          98,
          100,
          100,
          99,
          100,
          0,
          98,
          100,
          100,
          100,
          100,
          0,
          93,
          0,
          0,
          90,
          91,
          94,
          0,
          95,
          98,
          0,
          0,
          99,
          100,
          100,
          98,
          0,
          96,
          100,
          100,
          100,
          100,
          100,
          100,
          100,
          0,
          97,
          0,
          98,
          98,
          0,
          0,
          0,
          92,
          93,
          0,
          96,
          0,
          94,
          92,
          100,
          0,
          90,
          0,
          0,
          94,
          95,
          96,
          96,
          94,
          0,
          100,
          0,
          93,
          96,
          100,
          99,
          100,
          0,
          96,
          0,
          0,
          100,
          0,
          0,
          97,
          96,
          100,
          0,
          100,
          0,
          0,
          93,
          0,
          94,
          94,
          0,
          94,
          96,
          99,
          0,
          0,
          96,
          98,
          0,
          100,
          100,
          100,
          0,
          96,
          95,
          0,
          99,
          90,
          99,
          95,
          100,
          100,
          0,
          100,
          98,
          97,
          100,
          0,
          97,
          95,
          0,
          97,
          95,
          96,
          96,
          100,
          0,
          97,
          100,
          0,
          0,
          0,
          97,
          100,
          98,
          100,
          0,
          95,
          94,
          0,
          99,
          0,
          0,
          0,
          0,
          91,
          0,
          92,
          0,
          94,
          100,
          100,
          0,
          0,
          0,
          96,
          0,
          90,
          0,
          93,
          0,
          0,
          98,
          100,
          98,
          0,
          100,
          0,
          100,
          92,
          0,
          100,
          98,
          99,
          0,
          98,
          97,
          0,
          100,
          93,
          99,
          0,
          0,
          96,
          100,
          91,
          99,
          98,
          0,
          0,
          94,
          98,
          99,
          99,
          99,
          0,
          99,
          0,
          93,
          97,
          0,
          0,
          0,
          94,
          0,
          0,
          94,
          0,
          96,
          0,
          95,
          0,
          0,
          100,
          99,
          100,
          99,
          0,
          0,
          96,
          0,
          96,
          99,
          100,
          0,
          0,
          100,
          97,
          96,
          100,
          0,
          98,
          98,
          99,
          100,
          0,
          0,
          100,
          100,
          100,
          0,
          0,
          97,
          99,
          100,
          100,
          0,
          97,
          100,
          94,
          0,
          99,
          0,
          100,
          98,
          100,
          0,
          0,
          98,
          100,
          95,
          100,
          98,
          98,
          98,
          0,
          93,
          100,
          94,
          95,
          99,
          100,
          0,
          100,
          98,
          0,
          98,
          100,
          98,
          100,
          99,
          98,
          100,
          0,
          100,
          100,
          100,
          0,
          99,
          94,
          0,
          0,
          0,
          90,
          97,
          99,
          0,
          0,
          90,
          98,
          0,
          98,
          0,
          95,
          98,
          100,
          100,
          98,
          100,
          94,
          0,
          0,
          93,
          95,
          98,
          0,
          91,
          0,
          100,
          91,
          0,
          90,
          80,
          92,
          0,
          0,
          90,
          82,
          0,
          92,
          100,
          0,
          0,
          90,
          92,
          0,
          90,
          93,
          0,
          92,
          96,
          99,
          0,
          96,
          0,
          0,
          98,
          97,
          0,
          0,
          94,
          97,
          0,
          0,
          100,
          98,
          98,
          100,
          100,
          100,
          100,
          95,
          94,
          0,
          98,
          0,
          96,
          97,
          0,
          0,
          98,
          0,
          0,
          100,
          100,
          98,
          99,
          100,
          100,
          98,
          100,
          0,
          100,
          0,
          95,
          95,
          100,
          0,
          100,
          0,
          95,
          93,
          0,
          0,
          0,
          0,
          0,
          91,
          95,
          98,
          100,
          98,
          100,
          91,
          95,
          98,
          0,
          99,
          94,
          0,
          98,
          93,
          95,
          0,
          91,
          98,
          0,
          0,
          91,
          0,
          0,
          90,
          94,
          95,
          95,
          0,
          100,
          94,
          0,
          97,
          0,
          0,
          91,
          94,
          0,
          0,
          98,
          98,
          98,
          97,
          96,
          100,
          100,
          100,
          100,
          98,
          0,
          98,
          98,
          99,
          98,
          0,
          0,
          93,
          0,
          90,
          96,
          100,
          100,
          0,
          0,
          100,
          98,
          100,
          98,
          100,
          100,
          98,
          95,
          0,
          0,
          91,
          98,
          98,
          96,
          0,
          98,
          100,
          100,
          100,
          100,
          97,
          99,
          99,
          0,
          98,
          0,
          0,
          0,
          0,
          0,
          0,
          96,
          96,
          100,
          100,
          0,
          100,
          97,
          97,
          100,
          0,
          100,
          100,
          100,
          99,
          100,
          100,
          98,
          95,
          0,
          91,
          97,
          0,
          0,
          0,
          0,
          0,
          0,
          0,
          90,
          93,
          0,
          90,
          100,
          100,
          0,
          92,
          90,
          0,
          94,
          99,
          0,
          97,
          96,
          0,
          0,
          93,
          97,
          0,
          95,
          0,
          98,
          100,
          100,
          92,
          96,
          90,
          100,
          94,
          0,
          94,
          98,
          100,
          93,
          96,
          0,
          97,
          98,
          0,
          99,
          97,
          0,
          100,
          100,
          97,
          98,
          100,
          99,
          100,
          100,
          0,
          0,
          95,
          0,
          94,
          97,
          100,
          98,
          98,
          100,
          100,
          100,
          100,
          98,
          0,
          93,
          96,
          96,
          95,
          100,
          100,
          100,
          100,
          94,
          94,
          94,
          100,
          0,
          0,
          94,
          0,
          94,
          98,
          0,
          0,
          99,
          98,
          99,
          0,
          98,
          96,
          100,
          100,
          96,
          0,
          100,
          98,
          100,
          100,
          96,
          100,
          0,
          99,
          100,
          100,
          100,
          94,
          100,
          97,
          0,
          97,
          99,
          100,
          100,
          98,
          99,
          98,
          0,
          0,
          0,
          0,
          0,
          0,
          100,
          99,
          0,
          100,
          99,
          0,
          0,
          100,
          100,
          99,
          98,
          98,
          100,
          98,
          0,
          0,
          0,
          99,
          97,
          100,
          0,
          98,
          100,
          99,
          100,
          0,
          0,
          100,
          100,
          98,
          0,
          100,
          0,
          90,
          0,
          96,
          80,
          96,
          0,
          96,
          0,
          0,
          100,
          0,
          100,
          98,
          0,
          96,
          0,
          94,
          96,
          0,
          0,
          93,
          0,
          98,
          0,
          0,
          100,
          98,
          100,
          0,
          100,
          100,
          0,
          0,
          98,
          0,
          99,
          0,
          99,
          0,
          91,
          100,
          100,
          0,
          0,
          93,
          0,
          92,
          95,
          100,
          0,
          95,
          0,
          93,
          97,
          98,
          0,
          0,
          98,
          99,
          100,
          94,
          94,
          95,
          0,
          100,
          100,
          100,
          0,
          98,
          98,
          98,
          97,
          97,
          94,
          99,
          97,
          98,
          100,
          99,
          99,
          100,
          100,
          100,
          100,
          100,
          100,
          0,
          96,
          0,
          98,
          0,
          0,
          0,
          93,
          0,
          0,
          96,
          0,
          100,
          100,
          0,
          100,
          100,
          0,
          98,
          100,
          99,
          100,
          0,
          100,
          100,
          99,
          98,
          100,
          94,
          97,
          100,
          96,
          99,
          100,
          99,
          100,
          100,
          100,
          100,
          0,
          0,
          95,
          92,
          90,
          98,
          0,
          0,
          97,
          100,
          99,
          0,
          0,
          0,
          90,
          95,
          95,
          0,
          0,
          0,
          97,
          98,
          99,
          100,
          0,
          0,
          0,
          0,
          92,
          0,
          0,
          97,
          86,
          0,
          93,
          0,
          0,
          95,
          97,
          0,
          97,
          98,
          0,
          0,
          0,
          99,
          0,
          97,
          98,
          98,
          99,
          99,
          96,
          97,
          0,
          96,
          0,
          0,
          96,
          0,
          84,
          0,
          0,
          90
         ],
         "xaxis": "x",
         "yaxis": "y"
        }
       ],
       "layout": {
        "barmode": "relative",
        "legend": {
         "title": {
          "text": "variable"
         },
         "tracegroupgap": 0
        },
        "template": {
         "data": {
          "bar": [
           {
            "error_x": {
             "color": "rgb(36,36,36)"
            },
            "error_y": {
             "color": "rgb(36,36,36)"
            },
            "marker": {
             "line": {
              "color": "white",
              "width": 0.5
             },
             "pattern": {
              "fillmode": "overlay",
              "size": 10,
              "solidity": 0.2
             }
            },
            "type": "bar"
           }
          ],
          "barpolar": [
           {
            "marker": {
             "line": {
              "color": "white",
              "width": 0.5
             },
             "pattern": {
              "fillmode": "overlay",
              "size": 10,
              "solidity": 0.2
             }
            },
            "type": "barpolar"
           }
          ],
          "carpet": [
           {
            "aaxis": {
             "endlinecolor": "rgb(36,36,36)",
             "gridcolor": "white",
             "linecolor": "white",
             "minorgridcolor": "white",
             "startlinecolor": "rgb(36,36,36)"
            },
            "baxis": {
             "endlinecolor": "rgb(36,36,36)",
             "gridcolor": "white",
             "linecolor": "white",
             "minorgridcolor": "white",
             "startlinecolor": "rgb(36,36,36)"
            },
            "type": "carpet"
           }
          ],
          "choropleth": [
           {
            "colorbar": {
             "outlinewidth": 1,
             "tickcolor": "rgb(36,36,36)",
             "ticks": "outside"
            },
            "type": "choropleth"
           }
          ],
          "contour": [
           {
            "colorbar": {
             "outlinewidth": 1,
             "tickcolor": "rgb(36,36,36)",
             "ticks": "outside"
            },
            "colorscale": [
             [
              0,
              "#440154"
             ],
             [
              0.1111111111111111,
              "#482878"
             ],
             [
              0.2222222222222222,
              "#3e4989"
             ],
             [
              0.3333333333333333,
              "#31688e"
             ],
             [
              0.4444444444444444,
              "#26828e"
             ],
             [
              0.5555555555555556,
              "#1f9e89"
             ],
             [
              0.6666666666666666,
              "#35b779"
             ],
             [
              0.7777777777777778,
              "#6ece58"
             ],
             [
              0.8888888888888888,
              "#b5de2b"
             ],
             [
              1,
              "#fde725"
             ]
            ],
            "type": "contour"
           }
          ],
          "contourcarpet": [
           {
            "colorbar": {
             "outlinewidth": 1,
             "tickcolor": "rgb(36,36,36)",
             "ticks": "outside"
            },
            "type": "contourcarpet"
           }
          ],
          "heatmap": [
           {
            "colorbar": {
             "outlinewidth": 1,
             "tickcolor": "rgb(36,36,36)",
             "ticks": "outside"
            },
            "colorscale": [
             [
              0,
              "#440154"
             ],
             [
              0.1111111111111111,
              "#482878"
             ],
             [
              0.2222222222222222,
              "#3e4989"
             ],
             [
              0.3333333333333333,
              "#31688e"
             ],
             [
              0.4444444444444444,
              "#26828e"
             ],
             [
              0.5555555555555556,
              "#1f9e89"
             ],
             [
              0.6666666666666666,
              "#35b779"
             ],
             [
              0.7777777777777778,
              "#6ece58"
             ],
             [
              0.8888888888888888,
              "#b5de2b"
             ],
             [
              1,
              "#fde725"
             ]
            ],
            "type": "heatmap"
           }
          ],
          "heatmapgl": [
           {
            "colorbar": {
             "outlinewidth": 1,
             "tickcolor": "rgb(36,36,36)",
             "ticks": "outside"
            },
            "colorscale": [
             [
              0,
              "#440154"
             ],
             [
              0.1111111111111111,
              "#482878"
             ],
             [
              0.2222222222222222,
              "#3e4989"
             ],
             [
              0.3333333333333333,
              "#31688e"
             ],
             [
              0.4444444444444444,
              "#26828e"
             ],
             [
              0.5555555555555556,
              "#1f9e89"
             ],
             [
              0.6666666666666666,
              "#35b779"
             ],
             [
              0.7777777777777778,
              "#6ece58"
             ],
             [
              0.8888888888888888,
              "#b5de2b"
             ],
             [
              1,
              "#fde725"
             ]
            ],
            "type": "heatmapgl"
           }
          ],
          "histogram": [
           {
            "marker": {
             "line": {
              "color": "white",
              "width": 0.6
             }
            },
            "type": "histogram"
           }
          ],
          "histogram2d": [
           {
            "colorbar": {
             "outlinewidth": 1,
             "tickcolor": "rgb(36,36,36)",
             "ticks": "outside"
            },
            "colorscale": [
             [
              0,
              "#440154"
             ],
             [
              0.1111111111111111,
              "#482878"
             ],
             [
              0.2222222222222222,
              "#3e4989"
             ],
             [
              0.3333333333333333,
              "#31688e"
             ],
             [
              0.4444444444444444,
              "#26828e"
             ],
             [
              0.5555555555555556,
              "#1f9e89"
             ],
             [
              0.6666666666666666,
              "#35b779"
             ],
             [
              0.7777777777777778,
              "#6ece58"
             ],
             [
              0.8888888888888888,
              "#b5de2b"
             ],
             [
              1,
              "#fde725"
             ]
            ],
            "type": "histogram2d"
           }
          ],
          "histogram2dcontour": [
           {
            "colorbar": {
             "outlinewidth": 1,
             "tickcolor": "rgb(36,36,36)",
             "ticks": "outside"
            },
            "colorscale": [
             [
              0,
              "#440154"
             ],
             [
              0.1111111111111111,
              "#482878"
             ],
             [
              0.2222222222222222,
              "#3e4989"
             ],
             [
              0.3333333333333333,
              "#31688e"
             ],
             [
              0.4444444444444444,
              "#26828e"
             ],
             [
              0.5555555555555556,
              "#1f9e89"
             ],
             [
              0.6666666666666666,
              "#35b779"
             ],
             [
              0.7777777777777778,
              "#6ece58"
             ],
             [
              0.8888888888888888,
              "#b5de2b"
             ],
             [
              1,
              "#fde725"
             ]
            ],
            "type": "histogram2dcontour"
           }
          ],
          "mesh3d": [
           {
            "colorbar": {
             "outlinewidth": 1,
             "tickcolor": "rgb(36,36,36)",
             "ticks": "outside"
            },
            "type": "mesh3d"
           }
          ],
          "parcoords": [
           {
            "line": {
             "colorbar": {
              "outlinewidth": 1,
              "tickcolor": "rgb(36,36,36)",
              "ticks": "outside"
             }
            },
            "type": "parcoords"
           }
          ],
          "pie": [
           {
            "automargin": true,
            "type": "pie"
           }
          ],
          "scatter": [
           {
            "fillpattern": {
             "fillmode": "overlay",
             "size": 10,
             "solidity": 0.2
            },
            "type": "scatter"
           }
          ],
          "scatter3d": [
           {
            "line": {
             "colorbar": {
              "outlinewidth": 1,
              "tickcolor": "rgb(36,36,36)",
              "ticks": "outside"
             }
            },
            "marker": {
             "colorbar": {
              "outlinewidth": 1,
              "tickcolor": "rgb(36,36,36)",
              "ticks": "outside"
             }
            },
            "type": "scatter3d"
           }
          ],
          "scattercarpet": [
           {
            "marker": {
             "colorbar": {
              "outlinewidth": 1,
              "tickcolor": "rgb(36,36,36)",
              "ticks": "outside"
             }
            },
            "type": "scattercarpet"
           }
          ],
          "scattergeo": [
           {
            "marker": {
             "colorbar": {
              "outlinewidth": 1,
              "tickcolor": "rgb(36,36,36)",
              "ticks": "outside"
             }
            },
            "type": "scattergeo"
           }
          ],
          "scattergl": [
           {
            "marker": {
             "colorbar": {
              "outlinewidth": 1,
              "tickcolor": "rgb(36,36,36)",
              "ticks": "outside"
             }
            },
            "type": "scattergl"
           }
          ],
          "scattermapbox": [
           {
            "marker": {
             "colorbar": {
              "outlinewidth": 1,
              "tickcolor": "rgb(36,36,36)",
              "ticks": "outside"
             }
            },
            "type": "scattermapbox"
           }
          ],
          "scatterpolar": [
           {
            "marker": {
             "colorbar": {
              "outlinewidth": 1,
              "tickcolor": "rgb(36,36,36)",
              "ticks": "outside"
             }
            },
            "type": "scatterpolar"
           }
          ],
          "scatterpolargl": [
           {
            "marker": {
             "colorbar": {
              "outlinewidth": 1,
              "tickcolor": "rgb(36,36,36)",
              "ticks": "outside"
             }
            },
            "type": "scatterpolargl"
           }
          ],
          "scatterternary": [
           {
            "marker": {
             "colorbar": {
              "outlinewidth": 1,
              "tickcolor": "rgb(36,36,36)",
              "ticks": "outside"
             }
            },
            "type": "scatterternary"
           }
          ],
          "surface": [
           {
            "colorbar": {
             "outlinewidth": 1,
             "tickcolor": "rgb(36,36,36)",
             "ticks": "outside"
            },
            "colorscale": [
             [
              0,
              "#440154"
             ],
             [
              0.1111111111111111,
              "#482878"
             ],
             [
              0.2222222222222222,
              "#3e4989"
             ],
             [
              0.3333333333333333,
              "#31688e"
             ],
             [
              0.4444444444444444,
              "#26828e"
             ],
             [
              0.5555555555555556,
              "#1f9e89"
             ],
             [
              0.6666666666666666,
              "#35b779"
             ],
             [
              0.7777777777777778,
              "#6ece58"
             ],
             [
              0.8888888888888888,
              "#b5de2b"
             ],
             [
              1,
              "#fde725"
             ]
            ],
            "type": "surface"
           }
          ],
          "table": [
           {
            "cells": {
             "fill": {
              "color": "rgb(237,237,237)"
             },
             "line": {
              "color": "white"
             }
            },
            "header": {
             "fill": {
              "color": "rgb(217,217,217)"
             },
             "line": {
              "color": "white"
             }
            },
            "type": "table"
           }
          ]
         },
         "layout": {
          "annotationdefaults": {
           "arrowhead": 0,
           "arrowwidth": 1
          },
          "autosize": true,
          "autotypenumbers": "strict",
          "coloraxis": {
           "colorbar": {
            "outlinewidth": 1,
            "tickcolor": "rgb(36,36,36)",
            "ticks": "outside"
           }
          },
          "colorscale": {
           "diverging": [
            [
             0,
             "rgb(103,0,31)"
            ],
            [
             0.1,
             "rgb(178,24,43)"
            ],
            [
             0.2,
             "rgb(214,96,77)"
            ],
            [
             0.3,
             "rgb(244,165,130)"
            ],
            [
             0.4,
             "rgb(253,219,199)"
            ],
            [
             0.5,
             "rgb(247,247,247)"
            ],
            [
             0.6,
             "rgb(209,229,240)"
            ],
            [
             0.7,
             "rgb(146,197,222)"
            ],
            [
             0.8,
             "rgb(67,147,195)"
            ],
            [
             0.9,
             "rgb(33,102,172)"
            ],
            [
             1,
             "rgb(5,48,97)"
            ]
           ],
           "sequential": [
            [
             0,
             "#440154"
            ],
            [
             0.1111111111111111,
             "#482878"
            ],
            [
             0.2222222222222222,
             "#3e4989"
            ],
            [
             0.3333333333333333,
             "#31688e"
            ],
            [
             0.4444444444444444,
             "#26828e"
            ],
            [
             0.5555555555555556,
             "#1f9e89"
            ],
            [
             0.6666666666666666,
             "#35b779"
            ],
            [
             0.7777777777777778,
             "#6ece58"
            ],
            [
             0.8888888888888888,
             "#b5de2b"
            ],
            [
             1,
             "#fde725"
            ]
           ],
           "sequentialminus": [
            [
             0,
             "#440154"
            ],
            [
             0.1111111111111111,
             "#482878"
            ],
            [
             0.2222222222222222,
             "#3e4989"
            ],
            [
             0.3333333333333333,
             "#31688e"
            ],
            [
             0.4444444444444444,
             "#26828e"
            ],
            [
             0.5555555555555556,
             "#1f9e89"
            ],
            [
             0.6666666666666666,
             "#35b779"
            ],
            [
             0.7777777777777778,
             "#6ece58"
            ],
            [
             0.8888888888888888,
             "#b5de2b"
            ],
            [
             1,
             "#fde725"
            ]
           ]
          },
          "colorway": [
           "#1F77B4",
           "#FF7F0E",
           "#2CA02C",
           "#D62728",
           "#9467BD",
           "#8C564B",
           "#E377C2",
           "#7F7F7F",
           "#BCBD22",
           "#17BECF"
          ],
          "font": {
           "color": "rgb(36,36,36)"
          },
          "geo": {
           "bgcolor": "white",
           "lakecolor": "white",
           "landcolor": "white",
           "showlakes": true,
           "showland": true,
           "subunitcolor": "white"
          },
          "height": 400,
          "hoverlabel": {
           "align": "left"
          },
          "hovermode": "closest",
          "mapbox": {
           "style": "light"
          },
          "margin": {
           "b": 30,
           "l": 30,
           "r": 30,
           "t": 30
          },
          "paper_bgcolor": "white",
          "plot_bgcolor": "white",
          "polar": {
           "angularaxis": {
            "gridcolor": "rgb(232,232,232)",
            "linecolor": "rgb(36,36,36)",
            "showgrid": false,
            "showline": true,
            "ticks": "outside"
           },
           "bgcolor": "white",
           "radialaxis": {
            "gridcolor": "rgb(232,232,232)",
            "linecolor": "rgb(36,36,36)",
            "showgrid": false,
            "showline": true,
            "ticks": "outside"
           }
          },
          "scene": {
           "xaxis": {
            "backgroundcolor": "white",
            "gridcolor": "rgb(232,232,232)",
            "gridwidth": 2,
            "linecolor": "rgb(36,36,36)",
            "showbackground": true,
            "showgrid": false,
            "showline": true,
            "ticks": "outside",
            "zeroline": false,
            "zerolinecolor": "rgb(36,36,36)"
           },
           "yaxis": {
            "backgroundcolor": "white",
            "gridcolor": "rgb(232,232,232)",
            "gridwidth": 2,
            "linecolor": "rgb(36,36,36)",
            "showbackground": true,
            "showgrid": false,
            "showline": true,
            "ticks": "outside",
            "zeroline": false,
            "zerolinecolor": "rgb(36,36,36)"
           },
           "zaxis": {
            "backgroundcolor": "white",
            "gridcolor": "rgb(232,232,232)",
            "gridwidth": 2,
            "linecolor": "rgb(36,36,36)",
            "showbackground": true,
            "showgrid": false,
            "showline": true,
            "ticks": "outside",
            "zeroline": false,
            "zerolinecolor": "rgb(36,36,36)"
           }
          },
          "shapedefaults": {
           "fillcolor": "black",
           "line": {
            "width": 0
           },
           "opacity": 0.3
          },
          "ternary": {
           "aaxis": {
            "gridcolor": "rgb(232,232,232)",
            "linecolor": "rgb(36,36,36)",
            "showgrid": false,
            "showline": true,
            "ticks": "outside"
           },
           "baxis": {
            "gridcolor": "rgb(232,232,232)",
            "linecolor": "rgb(36,36,36)",
            "showgrid": false,
            "showline": true,
            "ticks": "outside"
           },
           "bgcolor": "white",
           "caxis": {
            "gridcolor": "rgb(232,232,232)",
            "linecolor": "rgb(36,36,36)",
            "showgrid": false,
            "showline": true,
            "ticks": "outside"
           }
          },
          "title": {
           "x": 0.5,
           "xanchor": "center"
          },
          "width": 600,
          "xaxis": {
           "automargin": true,
           "gridcolor": "rgb(232,232,232)",
           "linecolor": "rgb(36,36,36)",
           "showgrid": true,
           "showline": true,
           "ticks": "outside",
           "title": {
            "standoff": 15
           },
           "zeroline": false,
           "zerolinecolor": "rgb(36,36,36)"
          },
          "yaxis": {
           "automargin": true,
           "gridcolor": "rgb(232,232,232)",
           "linecolor": "rgb(36,36,36)",
           "showgrid": true,
           "showline": true,
           "ticks": "outside",
           "title": {
            "standoff": 15
           },
           "zeroline": false,
           "zerolinecolor": "rgb(36,36,36)"
          }
         }
        },
        "xaxis": {
         "anchor": "y",
         "domain": [
          0,
          1
         ],
         "title": {
          "text": "value"
         }
        },
        "yaxis": {
         "anchor": "x",
         "domain": [
          0,
          1
         ],
         "title": {
          "text": "count"
         }
        }
       }
      }
     },
     "metadata": {},
     "output_type": "display_data"
    }
   ],
   "source": [
    "fig = px.histogram(insp['score'])\n",
    "fig"
   ]
  },
  {
   "cell_type": "code",
   "execution_count": 11,
   "id": "ace9f95d",
   "metadata": {},
   "outputs": [
    {
     "data": {
      "application/vnd.plotly.v1+json": {
       "config": {
        "plotlyServerURL": "https://plot.ly"
       },
       "data": [
        {
         "alignmentgroup": "True",
         "hovertemplate": "grade=%{x}<br>score=%{y}<extra></extra>",
         "legendgroup": "",
         "marker": {
          "color": "#1F77B4",
          "pattern": {
           "shape": ""
          }
         },
         "name": "",
         "offsetgroup": "",
         "orientation": "v",
         "showlegend": false,
         "textposition": "auto",
         "type": "bar",
         "x": [
          "A",
          "B"
         ],
         "xaxis": "x",
         "y": [
          97.2686366689053,
          81.9090909090909
         ],
         "yaxis": "y"
        }
       ],
       "layout": {
        "barmode": "relative",
        "legend": {
         "tracegroupgap": 0
        },
        "template": {
         "data": {
          "bar": [
           {
            "error_x": {
             "color": "rgb(36,36,36)"
            },
            "error_y": {
             "color": "rgb(36,36,36)"
            },
            "marker": {
             "line": {
              "color": "white",
              "width": 0.5
             },
             "pattern": {
              "fillmode": "overlay",
              "size": 10,
              "solidity": 0.2
             }
            },
            "type": "bar"
           }
          ],
          "barpolar": [
           {
            "marker": {
             "line": {
              "color": "white",
              "width": 0.5
             },
             "pattern": {
              "fillmode": "overlay",
              "size": 10,
              "solidity": 0.2
             }
            },
            "type": "barpolar"
           }
          ],
          "carpet": [
           {
            "aaxis": {
             "endlinecolor": "rgb(36,36,36)",
             "gridcolor": "white",
             "linecolor": "white",
             "minorgridcolor": "white",
             "startlinecolor": "rgb(36,36,36)"
            },
            "baxis": {
             "endlinecolor": "rgb(36,36,36)",
             "gridcolor": "white",
             "linecolor": "white",
             "minorgridcolor": "white",
             "startlinecolor": "rgb(36,36,36)"
            },
            "type": "carpet"
           }
          ],
          "choropleth": [
           {
            "colorbar": {
             "outlinewidth": 1,
             "tickcolor": "rgb(36,36,36)",
             "ticks": "outside"
            },
            "type": "choropleth"
           }
          ],
          "contour": [
           {
            "colorbar": {
             "outlinewidth": 1,
             "tickcolor": "rgb(36,36,36)",
             "ticks": "outside"
            },
            "colorscale": [
             [
              0,
              "#440154"
             ],
             [
              0.1111111111111111,
              "#482878"
             ],
             [
              0.2222222222222222,
              "#3e4989"
             ],
             [
              0.3333333333333333,
              "#31688e"
             ],
             [
              0.4444444444444444,
              "#26828e"
             ],
             [
              0.5555555555555556,
              "#1f9e89"
             ],
             [
              0.6666666666666666,
              "#35b779"
             ],
             [
              0.7777777777777778,
              "#6ece58"
             ],
             [
              0.8888888888888888,
              "#b5de2b"
             ],
             [
              1,
              "#fde725"
             ]
            ],
            "type": "contour"
           }
          ],
          "contourcarpet": [
           {
            "colorbar": {
             "outlinewidth": 1,
             "tickcolor": "rgb(36,36,36)",
             "ticks": "outside"
            },
            "type": "contourcarpet"
           }
          ],
          "heatmap": [
           {
            "colorbar": {
             "outlinewidth": 1,
             "tickcolor": "rgb(36,36,36)",
             "ticks": "outside"
            },
            "colorscale": [
             [
              0,
              "#440154"
             ],
             [
              0.1111111111111111,
              "#482878"
             ],
             [
              0.2222222222222222,
              "#3e4989"
             ],
             [
              0.3333333333333333,
              "#31688e"
             ],
             [
              0.4444444444444444,
              "#26828e"
             ],
             [
              0.5555555555555556,
              "#1f9e89"
             ],
             [
              0.6666666666666666,
              "#35b779"
             ],
             [
              0.7777777777777778,
              "#6ece58"
             ],
             [
              0.8888888888888888,
              "#b5de2b"
             ],
             [
              1,
              "#fde725"
             ]
            ],
            "type": "heatmap"
           }
          ],
          "heatmapgl": [
           {
            "colorbar": {
             "outlinewidth": 1,
             "tickcolor": "rgb(36,36,36)",
             "ticks": "outside"
            },
            "colorscale": [
             [
              0,
              "#440154"
             ],
             [
              0.1111111111111111,
              "#482878"
             ],
             [
              0.2222222222222222,
              "#3e4989"
             ],
             [
              0.3333333333333333,
              "#31688e"
             ],
             [
              0.4444444444444444,
              "#26828e"
             ],
             [
              0.5555555555555556,
              "#1f9e89"
             ],
             [
              0.6666666666666666,
              "#35b779"
             ],
             [
              0.7777777777777778,
              "#6ece58"
             ],
             [
              0.8888888888888888,
              "#b5de2b"
             ],
             [
              1,
              "#fde725"
             ]
            ],
            "type": "heatmapgl"
           }
          ],
          "histogram": [
           {
            "marker": {
             "line": {
              "color": "white",
              "width": 0.6
             }
            },
            "type": "histogram"
           }
          ],
          "histogram2d": [
           {
            "colorbar": {
             "outlinewidth": 1,
             "tickcolor": "rgb(36,36,36)",
             "ticks": "outside"
            },
            "colorscale": [
             [
              0,
              "#440154"
             ],
             [
              0.1111111111111111,
              "#482878"
             ],
             [
              0.2222222222222222,
              "#3e4989"
             ],
             [
              0.3333333333333333,
              "#31688e"
             ],
             [
              0.4444444444444444,
              "#26828e"
             ],
             [
              0.5555555555555556,
              "#1f9e89"
             ],
             [
              0.6666666666666666,
              "#35b779"
             ],
             [
              0.7777777777777778,
              "#6ece58"
             ],
             [
              0.8888888888888888,
              "#b5de2b"
             ],
             [
              1,
              "#fde725"
             ]
            ],
            "type": "histogram2d"
           }
          ],
          "histogram2dcontour": [
           {
            "colorbar": {
             "outlinewidth": 1,
             "tickcolor": "rgb(36,36,36)",
             "ticks": "outside"
            },
            "colorscale": [
             [
              0,
              "#440154"
             ],
             [
              0.1111111111111111,
              "#482878"
             ],
             [
              0.2222222222222222,
              "#3e4989"
             ],
             [
              0.3333333333333333,
              "#31688e"
             ],
             [
              0.4444444444444444,
              "#26828e"
             ],
             [
              0.5555555555555556,
              "#1f9e89"
             ],
             [
              0.6666666666666666,
              "#35b779"
             ],
             [
              0.7777777777777778,
              "#6ece58"
             ],
             [
              0.8888888888888888,
              "#b5de2b"
             ],
             [
              1,
              "#fde725"
             ]
            ],
            "type": "histogram2dcontour"
           }
          ],
          "mesh3d": [
           {
            "colorbar": {
             "outlinewidth": 1,
             "tickcolor": "rgb(36,36,36)",
             "ticks": "outside"
            },
            "type": "mesh3d"
           }
          ],
          "parcoords": [
           {
            "line": {
             "colorbar": {
              "outlinewidth": 1,
              "tickcolor": "rgb(36,36,36)",
              "ticks": "outside"
             }
            },
            "type": "parcoords"
           }
          ],
          "pie": [
           {
            "automargin": true,
            "type": "pie"
           }
          ],
          "scatter": [
           {
            "fillpattern": {
             "fillmode": "overlay",
             "size": 10,
             "solidity": 0.2
            },
            "type": "scatter"
           }
          ],
          "scatter3d": [
           {
            "line": {
             "colorbar": {
              "outlinewidth": 1,
              "tickcolor": "rgb(36,36,36)",
              "ticks": "outside"
             }
            },
            "marker": {
             "colorbar": {
              "outlinewidth": 1,
              "tickcolor": "rgb(36,36,36)",
              "ticks": "outside"
             }
            },
            "type": "scatter3d"
           }
          ],
          "scattercarpet": [
           {
            "marker": {
             "colorbar": {
              "outlinewidth": 1,
              "tickcolor": "rgb(36,36,36)",
              "ticks": "outside"
             }
            },
            "type": "scattercarpet"
           }
          ],
          "scattergeo": [
           {
            "marker": {
             "colorbar": {
              "outlinewidth": 1,
              "tickcolor": "rgb(36,36,36)",
              "ticks": "outside"
             }
            },
            "type": "scattergeo"
           }
          ],
          "scattergl": [
           {
            "marker": {
             "colorbar": {
              "outlinewidth": 1,
              "tickcolor": "rgb(36,36,36)",
              "ticks": "outside"
             }
            },
            "type": "scattergl"
           }
          ],
          "scattermapbox": [
           {
            "marker": {
             "colorbar": {
              "outlinewidth": 1,
              "tickcolor": "rgb(36,36,36)",
              "ticks": "outside"
             }
            },
            "type": "scattermapbox"
           }
          ],
          "scatterpolar": [
           {
            "marker": {
             "colorbar": {
              "outlinewidth": 1,
              "tickcolor": "rgb(36,36,36)",
              "ticks": "outside"
             }
            },
            "type": "scatterpolar"
           }
          ],
          "scatterpolargl": [
           {
            "marker": {
             "colorbar": {
              "outlinewidth": 1,
              "tickcolor": "rgb(36,36,36)",
              "ticks": "outside"
             }
            },
            "type": "scatterpolargl"
           }
          ],
          "scatterternary": [
           {
            "marker": {
             "colorbar": {
              "outlinewidth": 1,
              "tickcolor": "rgb(36,36,36)",
              "ticks": "outside"
             }
            },
            "type": "scatterternary"
           }
          ],
          "surface": [
           {
            "colorbar": {
             "outlinewidth": 1,
             "tickcolor": "rgb(36,36,36)",
             "ticks": "outside"
            },
            "colorscale": [
             [
              0,
              "#440154"
             ],
             [
              0.1111111111111111,
              "#482878"
             ],
             [
              0.2222222222222222,
              "#3e4989"
             ],
             [
              0.3333333333333333,
              "#31688e"
             ],
             [
              0.4444444444444444,
              "#26828e"
             ],
             [
              0.5555555555555556,
              "#1f9e89"
             ],
             [
              0.6666666666666666,
              "#35b779"
             ],
             [
              0.7777777777777778,
              "#6ece58"
             ],
             [
              0.8888888888888888,
              "#b5de2b"
             ],
             [
              1,
              "#fde725"
             ]
            ],
            "type": "surface"
           }
          ],
          "table": [
           {
            "cells": {
             "fill": {
              "color": "rgb(237,237,237)"
             },
             "line": {
              "color": "white"
             }
            },
            "header": {
             "fill": {
              "color": "rgb(217,217,217)"
             },
             "line": {
              "color": "white"
             }
            },
            "type": "table"
           }
          ]
         },
         "layout": {
          "annotationdefaults": {
           "arrowhead": 0,
           "arrowwidth": 1
          },
          "autosize": true,
          "autotypenumbers": "strict",
          "coloraxis": {
           "colorbar": {
            "outlinewidth": 1,
            "tickcolor": "rgb(36,36,36)",
            "ticks": "outside"
           }
          },
          "colorscale": {
           "diverging": [
            [
             0,
             "rgb(103,0,31)"
            ],
            [
             0.1,
             "rgb(178,24,43)"
            ],
            [
             0.2,
             "rgb(214,96,77)"
            ],
            [
             0.3,
             "rgb(244,165,130)"
            ],
            [
             0.4,
             "rgb(253,219,199)"
            ],
            [
             0.5,
             "rgb(247,247,247)"
            ],
            [
             0.6,
             "rgb(209,229,240)"
            ],
            [
             0.7,
             "rgb(146,197,222)"
            ],
            [
             0.8,
             "rgb(67,147,195)"
            ],
            [
             0.9,
             "rgb(33,102,172)"
            ],
            [
             1,
             "rgb(5,48,97)"
            ]
           ],
           "sequential": [
            [
             0,
             "#440154"
            ],
            [
             0.1111111111111111,
             "#482878"
            ],
            [
             0.2222222222222222,
             "#3e4989"
            ],
            [
             0.3333333333333333,
             "#31688e"
            ],
            [
             0.4444444444444444,
             "#26828e"
            ],
            [
             0.5555555555555556,
             "#1f9e89"
            ],
            [
             0.6666666666666666,
             "#35b779"
            ],
            [
             0.7777777777777778,
             "#6ece58"
            ],
            [
             0.8888888888888888,
             "#b5de2b"
            ],
            [
             1,
             "#fde725"
            ]
           ],
           "sequentialminus": [
            [
             0,
             "#440154"
            ],
            [
             0.1111111111111111,
             "#482878"
            ],
            [
             0.2222222222222222,
             "#3e4989"
            ],
            [
             0.3333333333333333,
             "#31688e"
            ],
            [
             0.4444444444444444,
             "#26828e"
            ],
            [
             0.5555555555555556,
             "#1f9e89"
            ],
            [
             0.6666666666666666,
             "#35b779"
            ],
            [
             0.7777777777777778,
             "#6ece58"
            ],
            [
             0.8888888888888888,
             "#b5de2b"
            ],
            [
             1,
             "#fde725"
            ]
           ]
          },
          "colorway": [
           "#1F77B4",
           "#FF7F0E",
           "#2CA02C",
           "#D62728",
           "#9467BD",
           "#8C564B",
           "#E377C2",
           "#7F7F7F",
           "#BCBD22",
           "#17BECF"
          ],
          "font": {
           "color": "rgb(36,36,36)"
          },
          "geo": {
           "bgcolor": "white",
           "lakecolor": "white",
           "landcolor": "white",
           "showlakes": true,
           "showland": true,
           "subunitcolor": "white"
          },
          "height": 400,
          "hoverlabel": {
           "align": "left"
          },
          "hovermode": "closest",
          "mapbox": {
           "style": "light"
          },
          "margin": {
           "b": 30,
           "l": 30,
           "r": 30,
           "t": 30
          },
          "paper_bgcolor": "white",
          "plot_bgcolor": "white",
          "polar": {
           "angularaxis": {
            "gridcolor": "rgb(232,232,232)",
            "linecolor": "rgb(36,36,36)",
            "showgrid": false,
            "showline": true,
            "ticks": "outside"
           },
           "bgcolor": "white",
           "radialaxis": {
            "gridcolor": "rgb(232,232,232)",
            "linecolor": "rgb(36,36,36)",
            "showgrid": false,
            "showline": true,
            "ticks": "outside"
           }
          },
          "scene": {
           "xaxis": {
            "backgroundcolor": "white",
            "gridcolor": "rgb(232,232,232)",
            "gridwidth": 2,
            "linecolor": "rgb(36,36,36)",
            "showbackground": true,
            "showgrid": false,
            "showline": true,
            "ticks": "outside",
            "zeroline": false,
            "zerolinecolor": "rgb(36,36,36)"
           },
           "yaxis": {
            "backgroundcolor": "white",
            "gridcolor": "rgb(232,232,232)",
            "gridwidth": 2,
            "linecolor": "rgb(36,36,36)",
            "showbackground": true,
            "showgrid": false,
            "showline": true,
            "ticks": "outside",
            "zeroline": false,
            "zerolinecolor": "rgb(36,36,36)"
           },
           "zaxis": {
            "backgroundcolor": "white",
            "gridcolor": "rgb(232,232,232)",
            "gridwidth": 2,
            "linecolor": "rgb(36,36,36)",
            "showbackground": true,
            "showgrid": false,
            "showline": true,
            "ticks": "outside",
            "zeroline": false,
            "zerolinecolor": "rgb(36,36,36)"
           }
          },
          "shapedefaults": {
           "fillcolor": "black",
           "line": {
            "width": 0
           },
           "opacity": 0.3
          },
          "ternary": {
           "aaxis": {
            "gridcolor": "rgb(232,232,232)",
            "linecolor": "rgb(36,36,36)",
            "showgrid": false,
            "showline": true,
            "ticks": "outside"
           },
           "baxis": {
            "gridcolor": "rgb(232,232,232)",
            "linecolor": "rgb(36,36,36)",
            "showgrid": false,
            "showline": true,
            "ticks": "outside"
           },
           "bgcolor": "white",
           "caxis": {
            "gridcolor": "rgb(232,232,232)",
            "linecolor": "rgb(36,36,36)",
            "showgrid": false,
            "showline": true,
            "ticks": "outside"
           }
          },
          "title": {
           "x": 0.5,
           "xanchor": "center"
          },
          "width": 600,
          "xaxis": {
           "automargin": true,
           "gridcolor": "rgb(232,232,232)",
           "linecolor": "rgb(36,36,36)",
           "showgrid": true,
           "showline": true,
           "ticks": "outside",
           "title": {
            "standoff": 15
           },
           "zeroline": false,
           "zerolinecolor": "rgb(36,36,36)"
          },
          "yaxis": {
           "automargin": true,
           "gridcolor": "rgb(232,232,232)",
           "linecolor": "rgb(36,36,36)",
           "showgrid": true,
           "showline": true,
           "ticks": "outside",
           "title": {
            "standoff": 15
           },
           "zeroline": false,
           "zerolinecolor": "rgb(36,36,36)"
          }
         }
        },
        "xaxis": {
         "anchor": "y",
         "domain": [
          0,
          1
         ],
         "title": {
          "text": "grade"
         }
        },
        "yaxis": {
         "anchor": "x",
         "domain": [
          0,
          1
         ],
         "title": {
          "text": "score"
         }
        }
       }
      }
     },
     "metadata": {},
     "output_type": "display_data"
    }
   ],
   "source": [
    "scores = (\n",
    "    insp[['grade', 'score']]\n",
    "    .dropna()\n",
    "    .groupby('grade')\n",
    "    .mean()\n",
    "    .reset_index()\n",
    ")\n",
    "px.bar(scores, x='grade', y='score')"
   ]
  },
  {
   "cell_type": "markdown",
   "id": "c16546d9",
   "metadata": {},
   "source": [
    "## Feature Types"
   ]
  },
  {
   "cell_type": "markdown",
   "id": "0b41ad00",
   "metadata": {
    "slideshow": {
     "slide_type": "slide"
    }
   },
   "source": [
    "### Different Kinds of data\n",
    "\n",
    "<center><img src='imgs/data-types.png' width=90%></center>"
   ]
  },
  {
   "cell_type": "markdown",
   "id": "7d7696f2",
   "metadata": {
    "slideshow": {
     "slide_type": "slide"
    }
   },
   "source": [
    "### Discussion Question\n",
    "\n",
    "Determine the kind of each of the following variables:\n",
    "\n",
    "- `insp['score']`\n",
    "- `insp['grade']`\n",
    "- `viol['violation_accela']`\n",
    "- `viol['major_violation']`\n",
    "- `rest['business_id']`\n",
    "- `rest['opened_date']`"
   ]
  },
  {
   "cell_type": "code",
   "execution_count": 20,
   "id": "2dba2079",
   "metadata": {},
   "outputs": [
    {
     "data": {
      "text/plain": [
       "0      2002-05-05\n",
       "1      2023-07-24\n",
       "2      2019-01-22\n",
       "3      2020-11-20\n",
       "          ...    \n",
       "996    2017-01-18\n",
       "997    2002-05-05\n",
       "998    2016-11-03\n",
       "999    2022-11-03\n",
       "Name: opened_date, Length: 1000, dtype: object"
      ]
     },
     "execution_count": 20,
     "metadata": {},
     "output_type": "execute_result"
    }
   ],
   "source": [
    "insp['score'] #continuous\n",
    "insp['grade'] #ordinal\n",
    "viol['violation_accela'] #nominal\n",
    "viol['major_violation'] #ordinal\n",
    "rest['business_id'] #ordinal\n",
    "rest['opened_date'] #continuous"
   ]
  },
  {
   "cell_type": "markdown",
   "id": "c32888d7",
   "metadata": {
    "slideshow": {
     "slide_type": "slide"
    }
   },
   "source": [
    "### Feature types vs. data types\n",
    "\n",
    "- The data type `pandas` uses is not the same as the \"data type\" we talked about just now!\n",
    "    - Difference between feature type vs. computational data type.\n",
    "- Take care when the two don't match up very well!"
   ]
  },
  {
   "cell_type": "code",
   "execution_count": 21,
   "id": "39dab3be",
   "metadata": {},
   "outputs": [
    {
     "data": {
      "text/plain": [
       "0      211898487641\n",
       "1      211930769329\n",
       "2      211909057778\n",
       "3      211921416009\n",
       "           ...     \n",
       "996    211924765619\n",
       "997    211899338714\n",
       "998    211942150255\n",
       "999    211925713322\n",
       "Name: business_id, Length: 1000, dtype: int64"
      ]
     },
     "execution_count": 21,
     "metadata": {},
     "output_type": "execute_result"
    }
   ],
   "source": [
    "# pandas stores as int, but actually nominal\n",
    "rest['business_id']"
   ]
  },
  {
   "cell_type": "code",
   "execution_count": 22,
   "id": "7586f76d",
   "metadata": {},
   "outputs": [
    {
     "data": {
      "text/plain": [
       "0      2002-05-05\n",
       "1      2023-07-24\n",
       "2      2019-01-22\n",
       "3      2020-11-20\n",
       "          ...    \n",
       "996    2017-01-18\n",
       "997    2002-05-05\n",
       "998    2016-11-03\n",
       "999    2022-11-03\n",
       "Name: opened_date, Length: 1000, dtype: object"
      ]
     },
     "execution_count": 22,
     "metadata": {},
     "output_type": "execute_result"
    }
   ],
   "source": [
    "# pandas stores as string, but actually numeric\n",
    "rest['opened_date']"
   ]
  },
  {
   "cell_type": "markdown",
   "id": "31d7f482",
   "metadata": {
    "slideshow": {
     "slide_type": "slide"
    }
   },
   "source": [
    "## Data Cleaning: Quality Checks\n",
    "\n",
    "We often start an analysis by checking the quality of the data.\n",
    "\n",
    "- Scope: Do the data match your understanding of the population? \n",
    "- Measurements and values: Are the values reasonable?\n",
    "- Relationships: Are related features in agreement?\n",
    "- Analysis: Which features might be useful in a future analysis? "
   ]
  },
  {
   "cell_type": "markdown",
   "id": "6fdeb3ef",
   "metadata": {
    "slideshow": {
     "slide_type": "slide"
    }
   },
   "source": [
    "### Scope"
   ]
  },
  {
   "cell_type": "code",
   "execution_count": 23,
   "id": "4ef21b6b",
   "metadata": {},
   "outputs": [
    {
     "data": {
      "text/html": [
       "<div>\n",
       "<style scoped>\n",
       "    .dataframe tbody tr th:only-of-type {\n",
       "        vertical-align: middle;\n",
       "    }\n",
       "\n",
       "    .dataframe tbody tr th {\n",
       "        vertical-align: top;\n",
       "    }\n",
       "\n",
       "    .dataframe thead th {\n",
       "        text-align: right;\n",
       "    }\n",
       "</style>\n",
       "<table border=\"1\" class=\"dataframe\">\n",
       "  <thead>\n",
       "    <tr style=\"text-align: right;\">\n",
       "      <th></th>\n",
       "      <th>business_id</th>\n",
       "      <th>name</th>\n",
       "      <th>business_type</th>\n",
       "      <th>address</th>\n",
       "      <th>...</th>\n",
       "      <th>lat</th>\n",
       "      <th>long</th>\n",
       "      <th>opened_date</th>\n",
       "      <th>distance</th>\n",
       "    </tr>\n",
       "  </thead>\n",
       "  <tbody>\n",
       "    <tr>\n",
       "      <th>0</th>\n",
       "      <td>211898487641</td>\n",
       "      <td>MOBIL MART LA JOLLA VILLAGE</td>\n",
       "      <td>Pre-Packaged Retail Market</td>\n",
       "      <td>3233 LA JOLLA VILLAGE DR, LA JOLLA, CA 92037</td>\n",
       "      <td>...</td>\n",
       "      <td>32.87</td>\n",
       "      <td>-117.23</td>\n",
       "      <td>2002-05-05</td>\n",
       "      <td>0.62</td>\n",
       "    </tr>\n",
       "    <tr>\n",
       "      <th>1</th>\n",
       "      <td>211930769329</td>\n",
       "      <td>CAFE 477</td>\n",
       "      <td>Low Risk Food Facility</td>\n",
       "      <td>8950 VILLA LA JOLLA DR, SUITE# B123, LA JOLLA,...</td>\n",
       "      <td>...</td>\n",
       "      <td>32.87</td>\n",
       "      <td>-117.24</td>\n",
       "      <td>2023-07-24</td>\n",
       "      <td>0.64</td>\n",
       "    </tr>\n",
       "  </tbody>\n",
       "</table>\n",
       "<p>2 rows × 12 columns</p>\n",
       "</div>"
      ],
      "text/plain": [
       "    business_id                         name               business_type  \\\n",
       "0  211898487641  MOBIL MART LA JOLLA VILLAGE  Pre-Packaged Retail Market   \n",
       "1  211930769329                     CAFE 477      Low Risk Food Facility   \n",
       "\n",
       "                                             address  ...    lat    long  \\\n",
       "0       3233 LA JOLLA VILLAGE DR, LA JOLLA, CA 92037  ...  32.87 -117.23   \n",
       "1  8950 VILLA LA JOLLA DR, SUITE# B123, LA JOLLA,...  ...  32.87 -117.24   \n",
       "\n",
       "  opened_date distance  \n",
       "0  2002-05-05     0.62  \n",
       "1  2023-07-24     0.64  \n",
       "\n",
       "[2 rows x 12 columns]"
      ]
     },
     "execution_count": 23,
     "metadata": {},
     "output_type": "execute_result"
    }
   ],
   "source": [
    "rest.head(2)"
   ]
  },
  {
   "cell_type": "markdown",
   "id": "e1df0230",
   "metadata": {},
   "source": [
    "### Measurements and Values"
   ]
  },
  {
   "cell_type": "code",
   "execution_count": 24,
   "id": "dce83dff",
   "metadata": {},
   "outputs": [
    {
     "data": {
      "text/plain": [
       "A    2978\n",
       "B      11\n",
       "Name: grade, dtype: int64"
      ]
     },
     "execution_count": 24,
     "metadata": {},
     "output_type": "execute_result"
    }
   ],
   "source": [
    "insp['grade'].value_counts()"
   ]
  },
  {
   "cell_type": "code",
   "execution_count": 25,
   "id": "a3206cb6",
   "metadata": {},
   "outputs": [
    {
     "name": "stdout",
     "output_type": "stream",
     "text": [
      "<class 'pandas.core.frame.DataFrame'>\n",
      "RangeIndex: 5179 entries, 0 to 5178\n",
      "Data columns (total 11 columns):\n",
      " #   Column          Non-Null Count  Dtype  \n",
      "---  ------          --------------  -----  \n",
      " 0   custom_id       5179 non-null   object \n",
      " 1   business_id     5179 non-null   int64  \n",
      " 2   inspection_id   5179 non-null   int64  \n",
      " 3   description     0 non-null      float64\n",
      " 4   type            5179 non-null   object \n",
      " 5   score           5179 non-null   int64  \n",
      " 6   grade           2989 non-null   object \n",
      " 7   completed_date  5179 non-null   object \n",
      " 8   status          5179 non-null   object \n",
      " 9   link            5179 non-null   object \n",
      " 10  status_link     5179 non-null   object \n",
      "dtypes: float64(1), int64(3), object(7)\n",
      "memory usage: 445.2+ KB\n"
     ]
    }
   ],
   "source": [
    "insp.info()"
   ]
  },
  {
   "cell_type": "code",
   "execution_count": 12,
   "id": "c6228b7f",
   "metadata": {},
   "outputs": [
    {
     "data": {
      "text/html": [
       "<div>\n",
       "<style scoped>\n",
       "    .dataframe tbody tr th:only-of-type {\n",
       "        vertical-align: middle;\n",
       "    }\n",
       "\n",
       "    .dataframe tbody tr th {\n",
       "        vertical-align: top;\n",
       "    }\n",
       "\n",
       "    .dataframe thead th {\n",
       "        text-align: right;\n",
       "    }\n",
       "</style>\n",
       "<table border=\"1\" class=\"dataframe\">\n",
       "  <thead>\n",
       "    <tr style=\"text-align: right;\">\n",
       "      <th></th>\n",
       "      <th>business_id</th>\n",
       "      <th>name</th>\n",
       "      <th>business_type</th>\n",
       "      <th>address</th>\n",
       "      <th>...</th>\n",
       "      <th>lat</th>\n",
       "      <th>long</th>\n",
       "      <th>opened_date</th>\n",
       "      <th>distance</th>\n",
       "    </tr>\n",
       "  </thead>\n",
       "  <tbody>\n",
       "    <tr>\n",
       "      <th>402</th>\n",
       "      <td>211898699154</td>\n",
       "      <td>HANAYA SUSHI CAFE</td>\n",
       "      <td>Restaurant Food Facility</td>\n",
       "      <td>10066 PACIFIC HEIGHTS BLVD, SAN DIEGO, CA 92121</td>\n",
       "      <td>...</td>\n",
       "      <td>32.90</td>\n",
       "      <td>-117.19</td>\n",
       "      <td>2011-03-22</td>\n",
       "      <td>2.77</td>\n",
       "    </tr>\n",
       "    <tr>\n",
       "      <th>406</th>\n",
       "      <td>211899308875</td>\n",
       "      <td>NASEEMS BAKERY &amp; KABOB</td>\n",
       "      <td>Restaurant Food Facility</td>\n",
       "      <td>10066 PACIFIC HEIGHTS BLVD, SAN DIEGO, CA 92121</td>\n",
       "      <td>...</td>\n",
       "      <td>32.90</td>\n",
       "      <td>-117.19</td>\n",
       "      <td>2012-04-17</td>\n",
       "      <td>2.77</td>\n",
       "    </tr>\n",
       "    <tr>\n",
       "      <th>412</th>\n",
       "      <td>211976116534</td>\n",
       "      <td>QUALCOMM CAFE AZ</td>\n",
       "      <td>Restaurant Food Facility</td>\n",
       "      <td>10165 PACIFIC HEIGHTS BLVD, SAN DIEGO, CA 9212...</td>\n",
       "      <td>...</td>\n",
       "      <td>32.90</td>\n",
       "      <td>-117.19</td>\n",
       "      <td>2014-01-16</td>\n",
       "      <td>2.81</td>\n",
       "    </tr>\n",
       "    <tr>\n",
       "      <th>132</th>\n",
       "      <td>211921220423</td>\n",
       "      <td>INTERNATIONAL COFFEE SCRIPPS GEISEL HEALTH CLINIC</td>\n",
       "      <td>Single Operating Site</td>\n",
       "      <td>10666 N TORREY PINES RD, LA JOLLA, CA 92037-1027</td>\n",
       "      <td>...</td>\n",
       "      <td>32.90</td>\n",
       "      <td>-117.24</td>\n",
       "      <td>2020-11-20</td>\n",
       "      <td>1.39</td>\n",
       "    </tr>\n",
       "    <tr>\n",
       "      <th>...</th>\n",
       "      <td>...</td>\n",
       "      <td>...</td>\n",
       "      <td>...</td>\n",
       "      <td>...</td>\n",
       "      <td>...</td>\n",
       "      <td>...</td>\n",
       "      <td>...</td>\n",
       "      <td>...</td>\n",
       "      <td>...</td>\n",
       "    </tr>\n",
       "    <tr>\n",
       "      <th>572</th>\n",
       "      <td>211943123695</td>\n",
       "      <td>DAILY CHEW CATERING</td>\n",
       "      <td>Caterer</td>\n",
       "      <td>9932 MESA RIM RD, SUITE# A, SAN DIEGO, CA 9212...</td>\n",
       "      <td>...</td>\n",
       "      <td>32.90</td>\n",
       "      <td>-117.18</td>\n",
       "      <td>2020-11-04</td>\n",
       "      <td>3.51</td>\n",
       "    </tr>\n",
       "    <tr>\n",
       "      <th>540</th>\n",
       "      <td>211911015928</td>\n",
       "      <td>KUMO</td>\n",
       "      <td>Retail Food Processing</td>\n",
       "      <td>9932 MESA RIM RD, SUITE# A, SAN DIEGO, CA 9212...</td>\n",
       "      <td>...</td>\n",
       "      <td>32.90</td>\n",
       "      <td>-117.18</td>\n",
       "      <td>2022-05-31</td>\n",
       "      <td>3.40</td>\n",
       "    </tr>\n",
       "    <tr>\n",
       "      <th>575</th>\n",
       "      <td>211972411855</td>\n",
       "      <td>TARA HEATHER CAKE DESIGN</td>\n",
       "      <td>Caterer</td>\n",
       "      <td>9932 MESA RIM RD, SUITE# A, SAN DIEGO, CA 9212...</td>\n",
       "      <td>...</td>\n",
       "      <td>32.90</td>\n",
       "      <td>-117.18</td>\n",
       "      <td>2014-04-24</td>\n",
       "      <td>3.51</td>\n",
       "    </tr>\n",
       "    <tr>\n",
       "      <th>344</th>\n",
       "      <td>211990537315</td>\n",
       "      <td>COMPASS GROUP FEDEX EXPRESS OLSON</td>\n",
       "      <td>Pre-Packaged Retail Market</td>\n",
       "      <td>9999 OLSON DR, SAN DIEGO, CA 92121-2837</td>\n",
       "      <td>...</td>\n",
       "      <td>32.89</td>\n",
       "      <td>-117.20</td>\n",
       "      <td>2022-10-19</td>\n",
       "      <td>2.27</td>\n",
       "    </tr>\n",
       "  </tbody>\n",
       "</table>\n",
       "<p>137 rows × 12 columns</p>\n",
       "</div>"
      ],
      "text/plain": [
       "      business_id                                               name  \\\n",
       "402  211898699154                                  HANAYA SUSHI CAFE   \n",
       "406  211899308875                             NASEEMS BAKERY & KABOB   \n",
       "412  211976116534                                   QUALCOMM CAFE AZ   \n",
       "132  211921220423  INTERNATIONAL COFFEE SCRIPPS GEISEL HEALTH CLINIC   \n",
       "..            ...                                                ...   \n",
       "572  211943123695                                DAILY CHEW CATERING   \n",
       "540  211911015928                                               KUMO   \n",
       "575  211972411855                           TARA HEATHER CAKE DESIGN   \n",
       "344  211990537315                  COMPASS GROUP FEDEX EXPRESS OLSON   \n",
       "\n",
       "                  business_type  \\\n",
       "402    Restaurant Food Facility   \n",
       "406    Restaurant Food Facility   \n",
       "412    Restaurant Food Facility   \n",
       "132       Single Operating Site   \n",
       "..                          ...   \n",
       "572                     Caterer   \n",
       "540      Retail Food Processing   \n",
       "575                     Caterer   \n",
       "344  Pre-Packaged Retail Market   \n",
       "\n",
       "                                               address  ...    lat    long  \\\n",
       "402    10066 PACIFIC HEIGHTS BLVD, SAN DIEGO, CA 92121  ...  32.90 -117.19   \n",
       "406    10066 PACIFIC HEIGHTS BLVD, SAN DIEGO, CA 92121  ...  32.90 -117.19   \n",
       "412  10165 PACIFIC HEIGHTS BLVD, SAN DIEGO, CA 9212...  ...  32.90 -117.19   \n",
       "132   10666 N TORREY PINES RD, LA JOLLA, CA 92037-1027  ...  32.90 -117.24   \n",
       "..                                                 ...  ...    ...     ...   \n",
       "572  9932 MESA RIM RD, SUITE# A, SAN DIEGO, CA 9212...  ...  32.90 -117.18   \n",
       "540  9932 MESA RIM RD, SUITE# A, SAN DIEGO, CA 9212...  ...  32.90 -117.18   \n",
       "575  9932 MESA RIM RD, SUITE# A, SAN DIEGO, CA 9212...  ...  32.90 -117.18   \n",
       "344            9999 OLSON DR, SAN DIEGO, CA 92121-2837  ...  32.89 -117.20   \n",
       "\n",
       "    opened_date distance  \n",
       "402  2011-03-22     2.77  \n",
       "406  2012-04-17     2.77  \n",
       "412  2014-01-16     2.81  \n",
       "132  2020-11-20     1.39  \n",
       "..          ...      ...  \n",
       "572  2020-11-04     3.51  \n",
       "540  2022-05-31     3.40  \n",
       "575  2014-04-24     3.51  \n",
       "344  2022-10-19     2.27  \n",
       "\n",
       "[137 rows x 12 columns]"
      ]
     },
     "execution_count": 12,
     "metadata": {},
     "output_type": "execute_result"
    }
   ],
   "source": [
    "(rest[rest.duplicated(subset=['address'])]\n",
    " .sort_values('address')\n",
    ")"
   ]
  },
  {
   "cell_type": "markdown",
   "id": "f773936b",
   "metadata": {},
   "source": [
    "### Relationships"
   ]
  },
  {
   "cell_type": "code",
   "execution_count": 26,
   "id": "e4895b26",
   "metadata": {},
   "outputs": [
    {
     "data": {
      "text/html": [
       "<div>\n",
       "<style scoped>\n",
       "    .dataframe tbody tr th:only-of-type {\n",
       "        vertical-align: middle;\n",
       "    }\n",
       "\n",
       "    .dataframe tbody tr th {\n",
       "        vertical-align: top;\n",
       "    }\n",
       "\n",
       "    .dataframe thead th {\n",
       "        text-align: right;\n",
       "    }\n",
       "</style>\n",
       "<table border=\"1\" class=\"dataframe\">\n",
       "  <thead>\n",
       "    <tr style=\"text-align: right;\">\n",
       "      <th></th>\n",
       "      <th>address</th>\n",
       "      <th>zip</th>\n",
       "    </tr>\n",
       "  </thead>\n",
       "  <tbody>\n",
       "    <tr>\n",
       "      <th>0</th>\n",
       "      <td>3233 LA JOLLA VILLAGE DR, LA JOLLA, CA 92037</td>\n",
       "      <td>92037</td>\n",
       "    </tr>\n",
       "    <tr>\n",
       "      <th>1</th>\n",
       "      <td>8950 VILLA LA JOLLA DR, SUITE# B123, LA JOLLA,...</td>\n",
       "      <td>92037-1704</td>\n",
       "    </tr>\n",
       "    <tr>\n",
       "      <th>2</th>\n",
       "      <td>6902 LA JOLLA BLVD, LA JOLLA, CA 92037</td>\n",
       "      <td>92037</td>\n",
       "    </tr>\n",
       "    <tr>\n",
       "      <th>3</th>\n",
       "      <td>9888 GENESEE AVE, LA JOLLA, CA 92037-1205</td>\n",
       "      <td>92037-1205</td>\n",
       "    </tr>\n",
       "    <tr>\n",
       "      <th>...</th>\n",
       "      <td>...</td>\n",
       "      <td>...</td>\n",
       "    </tr>\n",
       "    <tr>\n",
       "      <th>996</th>\n",
       "      <td>12873 EL CAMINO REAL, SUITE# M4, SAN DIEGO, CA...</td>\n",
       "      <td>92130</td>\n",
       "    </tr>\n",
       "    <tr>\n",
       "      <th>997</th>\n",
       "      <td>1234 TOURMALINE ST, SAN DIEGO, CA 92109-1856</td>\n",
       "      <td>92109-1856</td>\n",
       "    </tr>\n",
       "    <tr>\n",
       "      <th>998</th>\n",
       "      <td>12925 EL CAMINO REAL, SUITE# AA4, SAN DIEGO, C...</td>\n",
       "      <td>92130</td>\n",
       "    </tr>\n",
       "    <tr>\n",
       "      <th>999</th>\n",
       "      <td>2672 DEL MAR HEIGHTS RD, DEL MAR, CA 92014</td>\n",
       "      <td>92014</td>\n",
       "    </tr>\n",
       "  </tbody>\n",
       "</table>\n",
       "<p>1000 rows × 2 columns</p>\n",
       "</div>"
      ],
      "text/plain": [
       "                                               address         zip\n",
       "0         3233 LA JOLLA VILLAGE DR, LA JOLLA, CA 92037       92037\n",
       "1    8950 VILLA LA JOLLA DR, SUITE# B123, LA JOLLA,...  92037-1704\n",
       "2               6902 LA JOLLA BLVD, LA JOLLA, CA 92037       92037\n",
       "3            9888 GENESEE AVE, LA JOLLA, CA 92037-1205  92037-1205\n",
       "..                                                 ...         ...\n",
       "996  12873 EL CAMINO REAL, SUITE# M4, SAN DIEGO, CA...       92130\n",
       "997       1234 TOURMALINE ST, SAN DIEGO, CA 92109-1856  92109-1856\n",
       "998  12925 EL CAMINO REAL, SUITE# AA4, SAN DIEGO, C...       92130\n",
       "999         2672 DEL MAR HEIGHTS RD, DEL MAR, CA 92014       92014\n",
       "\n",
       "[1000 rows x 2 columns]"
      ]
     },
     "execution_count": 26,
     "metadata": {},
     "output_type": "execute_result"
    }
   ],
   "source": [
    "# Useful to check whether ZIP codes match!\n",
    "rest[['address', 'zip']]"
   ]
  },
  {
   "cell_type": "code",
   "execution_count": 27,
   "id": "48fd4ed0",
   "metadata": {},
   "outputs": [
    {
     "data": {
      "text/html": [
       "<div>\n",
       "<style scoped>\n",
       "    .dataframe tbody tr th:only-of-type {\n",
       "        vertical-align: middle;\n",
       "    }\n",
       "\n",
       "    .dataframe tbody tr th {\n",
       "        vertical-align: top;\n",
       "    }\n",
       "\n",
       "    .dataframe thead th {\n",
       "        text-align: right;\n",
       "    }\n",
       "</style>\n",
       "<table border=\"1\" class=\"dataframe\">\n",
       "  <thead>\n",
       "    <tr style=\"text-align: right;\">\n",
       "      <th></th>\n",
       "      <th>score</th>\n",
       "      <th>grade</th>\n",
       "    </tr>\n",
       "  </thead>\n",
       "  <tbody>\n",
       "    <tr>\n",
       "      <th>0</th>\n",
       "      <td>96</td>\n",
       "      <td>NaN</td>\n",
       "    </tr>\n",
       "    <tr>\n",
       "      <th>1</th>\n",
       "      <td>98</td>\n",
       "      <td>NaN</td>\n",
       "    </tr>\n",
       "    <tr>\n",
       "      <th>2</th>\n",
       "      <td>98</td>\n",
       "      <td>NaN</td>\n",
       "    </tr>\n",
       "    <tr>\n",
       "      <th>3</th>\n",
       "      <td>100</td>\n",
       "      <td>A</td>\n",
       "    </tr>\n",
       "    <tr>\n",
       "      <th>...</th>\n",
       "      <td>...</td>\n",
       "      <td>...</td>\n",
       "    </tr>\n",
       "    <tr>\n",
       "      <th>5175</th>\n",
       "      <td>84</td>\n",
       "      <td>B</td>\n",
       "    </tr>\n",
       "    <tr>\n",
       "      <th>5176</th>\n",
       "      <td>0</td>\n",
       "      <td>NaN</td>\n",
       "    </tr>\n",
       "    <tr>\n",
       "      <th>5177</th>\n",
       "      <td>0</td>\n",
       "      <td>NaN</td>\n",
       "    </tr>\n",
       "    <tr>\n",
       "      <th>5178</th>\n",
       "      <td>90</td>\n",
       "      <td>A</td>\n",
       "    </tr>\n",
       "  </tbody>\n",
       "</table>\n",
       "<p>5179 rows × 2 columns</p>\n",
       "</div>"
      ],
      "text/plain": [
       "      score grade\n",
       "0        96   NaN\n",
       "1        98   NaN\n",
       "2        98   NaN\n",
       "3       100     A\n",
       "...     ...   ...\n",
       "5175     84     B\n",
       "5176      0   NaN\n",
       "5177      0   NaN\n",
       "5178     90     A\n",
       "\n",
       "[5179 rows x 2 columns]"
      ]
     },
     "execution_count": 27,
     "metadata": {},
     "output_type": "execute_result"
    }
   ],
   "source": [
    "insp[['score', 'grade']]"
   ]
  },
  {
   "cell_type": "markdown",
   "id": "baa7a3c2",
   "metadata": {
    "slideshow": {
     "slide_type": "slide"
    }
   },
   "source": [
    "### Analysis\n",
    "\n",
    "- Most interested in:\n",
    "    - `rest` df: `business_id`, `name`, `address`, `opened_date` from `rest`\n",
    "    - `insp` df: `business_id`, `inspection_id`, `score`, `grade`, `completed_date`, `status`\n",
    "    - `viol` df: `inspection_id`, `violation`, `major_violation`, `violation_text`, `violation_accela`\n",
    "- Also, let's rename a few columns to make them easier to work with."
   ]
  },
  {
   "cell_type": "markdown",
   "id": "26694343",
   "metadata": {
    "slideshow": {
     "slide_type": "slide"
    }
   },
   "source": [
    "### 💡 Pro-Tip: Using `pipe`\n",
    "\n",
    "When we manipulate dataframes, we prefer to define individual functions for each step, then use `df.pipe` to chain them all together.\n",
    "\n",
    "- In practice, we would add functions one by one to the top of a notebook, then `pipe` them all.\n",
    "- For today, will keep re-running `pipe` to show data cleaning process."
   ]
  },
  {
   "cell_type": "code",
   "execution_count": 30,
   "id": "49cbc16e",
   "metadata": {},
   "outputs": [
    {
     "data": {
      "text/html": [
       "<div>\n",
       "<style scoped>\n",
       "    .dataframe tbody tr th:only-of-type {\n",
       "        vertical-align: middle;\n",
       "    }\n",
       "\n",
       "    .dataframe tbody tr th {\n",
       "        vertical-align: top;\n",
       "    }\n",
       "\n",
       "    .dataframe thead th {\n",
       "        text-align: right;\n",
       "    }\n",
       "</style>\n",
       "<table border=\"1\" class=\"dataframe\">\n",
       "  <thead>\n",
       "    <tr style=\"text-align: right;\">\n",
       "      <th></th>\n",
       "      <th>business_id</th>\n",
       "      <th>name</th>\n",
       "      <th>address</th>\n",
       "      <th>opened_date</th>\n",
       "    </tr>\n",
       "  </thead>\n",
       "  <tbody>\n",
       "    <tr>\n",
       "      <th>0</th>\n",
       "      <td>211898487641</td>\n",
       "      <td>MOBIL MART LA JOLLA VILLAGE</td>\n",
       "      <td>3233 LA JOLLA VILLAGE DR, LA JOLLA, CA 92037</td>\n",
       "      <td>2002-05-05</td>\n",
       "    </tr>\n",
       "    <tr>\n",
       "      <th>1</th>\n",
       "      <td>211930769329</td>\n",
       "      <td>CAFE 477</td>\n",
       "      <td>8950 VILLA LA JOLLA DR, SUITE# B123, LA JOLLA,...</td>\n",
       "      <td>2023-07-24</td>\n",
       "    </tr>\n",
       "    <tr>\n",
       "      <th>2</th>\n",
       "      <td>211909057778</td>\n",
       "      <td>VALLEY FARM MARKET</td>\n",
       "      <td>6902 LA JOLLA BLVD, LA JOLLA, CA 92037</td>\n",
       "      <td>2019-01-22</td>\n",
       "    </tr>\n",
       "    <tr>\n",
       "      <th>3</th>\n",
       "      <td>211921416009</td>\n",
       "      <td>INTERNATIONAL COFFEE</td>\n",
       "      <td>9888 GENESEE AVE, LA JOLLA, CA 92037-1205</td>\n",
       "      <td>2020-11-20</td>\n",
       "    </tr>\n",
       "    <tr>\n",
       "      <th>...</th>\n",
       "      <td>...</td>\n",
       "      <td>...</td>\n",
       "      <td>...</td>\n",
       "      <td>...</td>\n",
       "    </tr>\n",
       "    <tr>\n",
       "      <th>996</th>\n",
       "      <td>211924765619</td>\n",
       "      <td>MENDOCINO FARMS SANDWICH MARKET</td>\n",
       "      <td>12873 EL CAMINO REAL, SUITE# M4, SAN DIEGO, CA...</td>\n",
       "      <td>2017-01-18</td>\n",
       "    </tr>\n",
       "    <tr>\n",
       "      <th>997</th>\n",
       "      <td>211899338714</td>\n",
       "      <td>PACIFIC BEACH ELEMENTARY</td>\n",
       "      <td>1234 TOURMALINE ST, SAN DIEGO, CA 92109-1856</td>\n",
       "      <td>2002-05-05</td>\n",
       "    </tr>\n",
       "    <tr>\n",
       "      <th>998</th>\n",
       "      <td>211942150255</td>\n",
       "      <td>POKEWAN DEL MAR</td>\n",
       "      <td>12925 EL CAMINO REAL, SUITE# AA4, SAN DIEGO, C...</td>\n",
       "      <td>2016-11-03</td>\n",
       "    </tr>\n",
       "    <tr>\n",
       "      <th>999</th>\n",
       "      <td>211925713322</td>\n",
       "      <td>SAFFRONO LOUNGE RESTAURANT</td>\n",
       "      <td>2672 DEL MAR HEIGHTS RD, DEL MAR, CA 92014</td>\n",
       "      <td>2022-11-03</td>\n",
       "    </tr>\n",
       "  </tbody>\n",
       "</table>\n",
       "<p>1000 rows × 4 columns</p>\n",
       "</div>"
      ],
      "text/plain": [
       "      business_id                             name  \\\n",
       "0    211898487641      MOBIL MART LA JOLLA VILLAGE   \n",
       "1    211930769329                         CAFE 477   \n",
       "2    211909057778               VALLEY FARM MARKET   \n",
       "3    211921416009             INTERNATIONAL COFFEE   \n",
       "..            ...                              ...   \n",
       "996  211924765619  MENDOCINO FARMS SANDWICH MARKET   \n",
       "997  211899338714         PACIFIC BEACH ELEMENTARY   \n",
       "998  211942150255                  POKEWAN DEL MAR   \n",
       "999  211925713322       SAFFRONO LOUNGE RESTAURANT   \n",
       "\n",
       "                                               address opened_date  \n",
       "0         3233 LA JOLLA VILLAGE DR, LA JOLLA, CA 92037  2002-05-05  \n",
       "1    8950 VILLA LA JOLLA DR, SUITE# B123, LA JOLLA,...  2023-07-24  \n",
       "2               6902 LA JOLLA BLVD, LA JOLLA, CA 92037  2019-01-22  \n",
       "3            9888 GENESEE AVE, LA JOLLA, CA 92037-1205  2020-11-20  \n",
       "..                                                 ...         ...  \n",
       "996  12873 EL CAMINO REAL, SUITE# M4, SAN DIEGO, CA...  2017-01-18  \n",
       "997       1234 TOURMALINE ST, SAN DIEGO, CA 92109-1856  2002-05-05  \n",
       "998  12925 EL CAMINO REAL, SUITE# AA4, SAN DIEGO, C...  2016-11-03  \n",
       "999         2672 DEL MAR HEIGHTS RD, DEL MAR, CA 92014  2022-11-03  \n",
       "\n",
       "[1000 rows x 4 columns]"
      ]
     },
     "execution_count": 30,
     "metadata": {},
     "output_type": "execute_result"
    }
   ],
   "source": [
    "def subset_rest(rest):\n",
    "    return rest[['business_id', 'name', 'address', 'opened_date']]\n",
    "\n",
    "rest = (\n",
    "    pd.read_csv('data/restaurants.csv')\n",
    "    .pipe(subset_rest)\n",
    ")\n",
    "rest"
   ]
  },
  {
   "cell_type": "code",
   "execution_count": 31,
   "id": "4a9e07d4",
   "metadata": {},
   "outputs": [],
   "source": [
    "def subset_insp(insp):\n",
    "    return (\n",
    "        insp[['business_id', 'inspection_id', 'score', 'grade', 'completed_date', 'status']]\n",
    "        .rename(columns={'completed_date': 'date'})\n",
    "    )\n",
    "\n",
    "insp = (\n",
    "    pd.read_csv('data/inspections.csv')\n",
    "    .pipe(subset_insp)\n",
    ")"
   ]
  },
  {
   "cell_type": "code",
   "execution_count": 32,
   "id": "b5be8c9d",
   "metadata": {},
   "outputs": [],
   "source": [
    "def subset_viol(viol):\n",
    "    return (\n",
    "        viol[['inspection_id', 'violation', 'major_violation', 'violation_accela']]\n",
    "        .rename(columns={'violation': 'kind',\n",
    "                         'major_violation': 'is_major',\n",
    "                         'violation_accela': 'violation'})\n",
    "    )\n",
    "\n",
    "viol = (\n",
    "    pd.read_csv('data/violations.csv')\n",
    "    .pipe(subset_viol)\n",
    ")"
   ]
  },
  {
   "cell_type": "markdown",
   "id": "4e1fd7f8",
   "metadata": {
    "slideshow": {
     "slide_type": "slide"
    }
   },
   "source": [
    "### Joining the Restaurant Data\n",
    "\n",
    "Let's join all three dataframes together so that we have all the data in one dataframe:"
   ]
  },
  {
   "cell_type": "code",
   "execution_count": 33,
   "id": "e31ca1bc",
   "metadata": {},
   "outputs": [
    {
     "data": {
      "text/html": [
       "<div>\n",
       "<style scoped>\n",
       "    .dataframe tbody tr th:only-of-type {\n",
       "        vertical-align: middle;\n",
       "    }\n",
       "\n",
       "    .dataframe tbody tr th {\n",
       "        vertical-align: top;\n",
       "    }\n",
       "\n",
       "    .dataframe thead th {\n",
       "        text-align: right;\n",
       "    }\n",
       "</style>\n",
       "<table border=\"1\" class=\"dataframe\">\n",
       "  <thead>\n",
       "    <tr style=\"text-align: right;\">\n",
       "      <th></th>\n",
       "      <th>business_id</th>\n",
       "      <th>name</th>\n",
       "      <th>address</th>\n",
       "      <th>opened_date</th>\n",
       "      <th>...</th>\n",
       "      <th>status</th>\n",
       "      <th>kind</th>\n",
       "      <th>is_major</th>\n",
       "      <th>violation</th>\n",
       "    </tr>\n",
       "  </thead>\n",
       "  <tbody>\n",
       "    <tr>\n",
       "      <th>0</th>\n",
       "      <td>211898487641</td>\n",
       "      <td>MOBIL MART LA JOLLA VILLAGE</td>\n",
       "      <td>3233 LA JOLLA VILLAGE DR, LA JOLLA, CA 92037</td>\n",
       "      <td>2002-05-05</td>\n",
       "      <td>...</td>\n",
       "      <td>Complete</td>\n",
       "      <td>Hot and Cold Water</td>\n",
       "      <td>Y</td>\n",
       "      <td>21. Hot &amp; cold water available</td>\n",
       "    </tr>\n",
       "    <tr>\n",
       "      <th>1</th>\n",
       "      <td>211898487641</td>\n",
       "      <td>MOBIL MART LA JOLLA VILLAGE</td>\n",
       "      <td>3233 LA JOLLA VILLAGE DR, LA JOLLA, CA 92037</td>\n",
       "      <td>2002-05-05</td>\n",
       "      <td>...</td>\n",
       "      <td>Complete</td>\n",
       "      <td>Hot and Cold Water</td>\n",
       "      <td>N</td>\n",
       "      <td>21. Hot &amp; cold water available</td>\n",
       "    </tr>\n",
       "    <tr>\n",
       "      <th>2</th>\n",
       "      <td>211898487641</td>\n",
       "      <td>MOBIL MART LA JOLLA VILLAGE</td>\n",
       "      <td>3233 LA JOLLA VILLAGE DR, LA JOLLA, CA 92037</td>\n",
       "      <td>2002-05-05</td>\n",
       "      <td>...</td>\n",
       "      <td>Complete</td>\n",
       "      <td>Holding Temperatures</td>\n",
       "      <td>N</td>\n",
       "      <td>7. Proper hot &amp; cold holding temperatures</td>\n",
       "    </tr>\n",
       "    <tr>\n",
       "      <th>3</th>\n",
       "      <td>211930769329</td>\n",
       "      <td>CAFE 477</td>\n",
       "      <td>8950 VILLA LA JOLLA DR, SUITE# B123, LA JOLLA,...</td>\n",
       "      <td>2023-07-24</td>\n",
       "      <td>...</td>\n",
       "      <td>Complete</td>\n",
       "      <td>NaN</td>\n",
       "      <td>NaN</td>\n",
       "      <td>NaN</td>\n",
       "    </tr>\n",
       "    <tr>\n",
       "      <th>...</th>\n",
       "      <td>...</td>\n",
       "      <td>...</td>\n",
       "      <td>...</td>\n",
       "      <td>...</td>\n",
       "      <td>...</td>\n",
       "      <td>...</td>\n",
       "      <td>...</td>\n",
       "      <td>...</td>\n",
       "      <td>...</td>\n",
       "    </tr>\n",
       "    <tr>\n",
       "      <th>8727</th>\n",
       "      <td>211925713322</td>\n",
       "      <td>SAFFRONO LOUNGE RESTAURANT</td>\n",
       "      <td>2672 DEL MAR HEIGHTS RD, DEL MAR, CA 92014</td>\n",
       "      <td>2022-11-03</td>\n",
       "      <td>...</td>\n",
       "      <td>Complete</td>\n",
       "      <td>Nonfood Contact Surfaces Clean</td>\n",
       "      <td>N</td>\n",
       "      <td>33. Nonfood contact surfaces clean</td>\n",
       "    </tr>\n",
       "    <tr>\n",
       "      <th>8728</th>\n",
       "      <td>211925713322</td>\n",
       "      <td>SAFFRONO LOUNGE RESTAURANT</td>\n",
       "      <td>2672 DEL MAR HEIGHTS RD, DEL MAR, CA 92014</td>\n",
       "      <td>2022-11-03</td>\n",
       "      <td>...</td>\n",
       "      <td>Complete</td>\n",
       "      <td>Equipment and Utensil Storage, Use</td>\n",
       "      <td>N</td>\n",
       "      <td>35. Equipment / Utensils -approved, installed,...</td>\n",
       "    </tr>\n",
       "    <tr>\n",
       "      <th>8729</th>\n",
       "      <td>211925713322</td>\n",
       "      <td>SAFFRONO LOUNGE RESTAURANT</td>\n",
       "      <td>2672 DEL MAR HEIGHTS RD, DEL MAR, CA 92014</td>\n",
       "      <td>2022-11-03</td>\n",
       "      <td>...</td>\n",
       "      <td>Complete</td>\n",
       "      <td>Toilet Facilities</td>\n",
       "      <td>N</td>\n",
       "      <td>43. Toilet facilities -properly constructed, s...</td>\n",
       "    </tr>\n",
       "    <tr>\n",
       "      <th>8730</th>\n",
       "      <td>211925713322</td>\n",
       "      <td>SAFFRONO LOUNGE RESTAURANT</td>\n",
       "      <td>2672 DEL MAR HEIGHTS RD, DEL MAR, CA 92014</td>\n",
       "      <td>2022-11-03</td>\n",
       "      <td>...</td>\n",
       "      <td>Complete</td>\n",
       "      <td>Floors, Walls, and Ceilings</td>\n",
       "      <td>N</td>\n",
       "      <td>45. Floor, walls and ceilings - built, maintai...</td>\n",
       "    </tr>\n",
       "  </tbody>\n",
       "</table>\n",
       "<p>8731 rows × 12 columns</p>\n",
       "</div>"
      ],
      "text/plain": [
       "       business_id                         name  \\\n",
       "0     211898487641  MOBIL MART LA JOLLA VILLAGE   \n",
       "1     211898487641  MOBIL MART LA JOLLA VILLAGE   \n",
       "2     211898487641  MOBIL MART LA JOLLA VILLAGE   \n",
       "3     211930769329                     CAFE 477   \n",
       "...            ...                          ...   \n",
       "8727  211925713322   SAFFRONO LOUNGE RESTAURANT   \n",
       "8728  211925713322   SAFFRONO LOUNGE RESTAURANT   \n",
       "8729  211925713322   SAFFRONO LOUNGE RESTAURANT   \n",
       "8730  211925713322   SAFFRONO LOUNGE RESTAURANT   \n",
       "\n",
       "                                                address opened_date  ...  \\\n",
       "0          3233 LA JOLLA VILLAGE DR, LA JOLLA, CA 92037  2002-05-05  ...   \n",
       "1          3233 LA JOLLA VILLAGE DR, LA JOLLA, CA 92037  2002-05-05  ...   \n",
       "2          3233 LA JOLLA VILLAGE DR, LA JOLLA, CA 92037  2002-05-05  ...   \n",
       "3     8950 VILLA LA JOLLA DR, SUITE# B123, LA JOLLA,...  2023-07-24  ...   \n",
       "...                                                 ...         ...  ...   \n",
       "8727         2672 DEL MAR HEIGHTS RD, DEL MAR, CA 92014  2022-11-03  ...   \n",
       "8728         2672 DEL MAR HEIGHTS RD, DEL MAR, CA 92014  2022-11-03  ...   \n",
       "8729         2672 DEL MAR HEIGHTS RD, DEL MAR, CA 92014  2022-11-03  ...   \n",
       "8730         2672 DEL MAR HEIGHTS RD, DEL MAR, CA 92014  2022-11-03  ...   \n",
       "\n",
       "        status                                kind is_major  \\\n",
       "0     Complete                  Hot and Cold Water        Y   \n",
       "1     Complete                  Hot and Cold Water        N   \n",
       "2     Complete                Holding Temperatures        N   \n",
       "3     Complete                                 NaN      NaN   \n",
       "...        ...                                 ...      ...   \n",
       "8727  Complete      Nonfood Contact Surfaces Clean        N   \n",
       "8728  Complete  Equipment and Utensil Storage, Use        N   \n",
       "8729  Complete                   Toilet Facilities        N   \n",
       "8730  Complete         Floors, Walls, and Ceilings        N   \n",
       "\n",
       "                                              violation  \n",
       "0                        21. Hot & cold water available  \n",
       "1                        21. Hot & cold water available  \n",
       "2             7. Proper hot & cold holding temperatures  \n",
       "3                                                   NaN  \n",
       "...                                                 ...  \n",
       "8727                 33. Nonfood contact surfaces clean  \n",
       "8728  35. Equipment / Utensils -approved, installed,...  \n",
       "8729  43. Toilet facilities -properly constructed, s...  \n",
       "8730  45. Floor, walls and ceilings - built, maintai...  \n",
       "\n",
       "[8731 rows x 12 columns]"
      ]
     },
     "execution_count": 33,
     "metadata": {},
     "output_type": "execute_result"
    }
   ],
   "source": [
    "def merge_all_restaurant_data():\n",
    "    return (\n",
    "        rest\n",
    "        .merge(insp, on='business_id', how='left')\n",
    "        .merge(viol, on='inspection_id', how='left')\n",
    "    )\n",
    "\n",
    "df = merge_all_restaurant_data()\n",
    "df"
   ]
  },
  {
   "cell_type": "markdown",
   "id": "7007e6ac",
   "metadata": {
    "slideshow": {
     "slide_type": "slide"
    }
   },
   "source": [
    "## Data Cleaning: Looking for Missing Values\n",
    "\n",
    "Next, it's important to check for missing values, as they can have a big effect on your analysis."
   ]
  },
  {
   "cell_type": "code",
   "execution_count": 34,
   "id": "d8190fca",
   "metadata": {},
   "outputs": [
    {
     "data": {
      "text/html": [
       "<div>\n",
       "<style scoped>\n",
       "    .dataframe tbody tr th:only-of-type {\n",
       "        vertical-align: middle;\n",
       "    }\n",
       "\n",
       "    .dataframe tbody tr th {\n",
       "        vertical-align: top;\n",
       "    }\n",
       "\n",
       "    .dataframe thead th {\n",
       "        text-align: right;\n",
       "    }\n",
       "</style>\n",
       "<table border=\"1\" class=\"dataframe\">\n",
       "  <thead>\n",
       "    <tr style=\"text-align: right;\">\n",
       "      <th></th>\n",
       "      <th>score</th>\n",
       "      <th>grade</th>\n",
       "    </tr>\n",
       "  </thead>\n",
       "  <tbody>\n",
       "    <tr>\n",
       "      <th>0</th>\n",
       "      <td>96</td>\n",
       "      <td>NaN</td>\n",
       "    </tr>\n",
       "    <tr>\n",
       "      <th>1</th>\n",
       "      <td>98</td>\n",
       "      <td>NaN</td>\n",
       "    </tr>\n",
       "    <tr>\n",
       "      <th>2</th>\n",
       "      <td>98</td>\n",
       "      <td>NaN</td>\n",
       "    </tr>\n",
       "    <tr>\n",
       "      <th>3</th>\n",
       "      <td>100</td>\n",
       "      <td>A</td>\n",
       "    </tr>\n",
       "    <tr>\n",
       "      <th>...</th>\n",
       "      <td>...</td>\n",
       "      <td>...</td>\n",
       "    </tr>\n",
       "    <tr>\n",
       "      <th>5175</th>\n",
       "      <td>84</td>\n",
       "      <td>B</td>\n",
       "    </tr>\n",
       "    <tr>\n",
       "      <th>5176</th>\n",
       "      <td>0</td>\n",
       "      <td>NaN</td>\n",
       "    </tr>\n",
       "    <tr>\n",
       "      <th>5177</th>\n",
       "      <td>0</td>\n",
       "      <td>NaN</td>\n",
       "    </tr>\n",
       "    <tr>\n",
       "      <th>5178</th>\n",
       "      <td>90</td>\n",
       "      <td>A</td>\n",
       "    </tr>\n",
       "  </tbody>\n",
       "</table>\n",
       "<p>5179 rows × 2 columns</p>\n",
       "</div>"
      ],
      "text/plain": [
       "      score grade\n",
       "0        96   NaN\n",
       "1        98   NaN\n",
       "2        98   NaN\n",
       "3       100     A\n",
       "...     ...   ...\n",
       "5175     84     B\n",
       "5176      0   NaN\n",
       "5177      0   NaN\n",
       "5178     90     A\n",
       "\n",
       "[5179 rows x 2 columns]"
      ]
     },
     "execution_count": 34,
     "metadata": {},
     "output_type": "execute_result"
    }
   ],
   "source": [
    "insp[['score', 'grade']]"
   ]
  },
  {
   "cell_type": "code",
   "execution_count": 35,
   "id": "08fdee4d",
   "metadata": {},
   "outputs": [
    {
     "data": {
      "text/html": [
       "<div>\n",
       "<style scoped>\n",
       "    .dataframe tbody tr th:only-of-type {\n",
       "        vertical-align: middle;\n",
       "    }\n",
       "\n",
       "    .dataframe tbody tr th {\n",
       "        vertical-align: top;\n",
       "    }\n",
       "\n",
       "    .dataframe thead th {\n",
       "        text-align: right;\n",
       "    }\n",
       "</style>\n",
       "<table border=\"1\" class=\"dataframe\">\n",
       "  <thead>\n",
       "    <tr style=\"text-align: right;\">\n",
       "      <th></th>\n",
       "      <th>business_id</th>\n",
       "      <th>name</th>\n",
       "      <th>address</th>\n",
       "      <th>opened_date</th>\n",
       "      <th>...</th>\n",
       "      <th>status</th>\n",
       "      <th>kind</th>\n",
       "      <th>is_major</th>\n",
       "      <th>violation</th>\n",
       "    </tr>\n",
       "  </thead>\n",
       "  <tbody>\n",
       "    <tr>\n",
       "      <th>759</th>\n",
       "      <td>211941133403</td>\n",
       "      <td>TASTY CHAI</td>\n",
       "      <td>8878 REGENTS RD 105, SAN DIEGO, CA 92122-5853</td>\n",
       "      <td>2019-01-07</td>\n",
       "      <td>...</td>\n",
       "      <td>NaN</td>\n",
       "      <td>NaN</td>\n",
       "      <td>NaN</td>\n",
       "      <td>NaN</td>\n",
       "    </tr>\n",
       "    <tr>\n",
       "      <th>1498</th>\n",
       "      <td>211915545446</td>\n",
       "      <td>EMBASSY SUITES SAN DIEGO LA JOLLA</td>\n",
       "      <td>4550 LA JOLLA VILLAGE DR, SAN DIEGO, CA 92122-...</td>\n",
       "      <td>2022-11-22</td>\n",
       "      <td>...</td>\n",
       "      <td>NaN</td>\n",
       "      <td>NaN</td>\n",
       "      <td>NaN</td>\n",
       "      <td>NaN</td>\n",
       "    </tr>\n",
       "    <tr>\n",
       "      <th>1672</th>\n",
       "      <td>211937443689</td>\n",
       "      <td>SERVICENOW</td>\n",
       "      <td>4770 EASTGATE MALL, SAN DIEGO, CA 92121-1970</td>\n",
       "      <td>2023-06-06</td>\n",
       "      <td>...</td>\n",
       "      <td>NaN</td>\n",
       "      <td>NaN</td>\n",
       "      <td>NaN</td>\n",
       "      <td>NaN</td>\n",
       "    </tr>\n",
       "    <tr>\n",
       "      <th>2526</th>\n",
       "      <td>211915567037</td>\n",
       "      <td>CAFE BOLERO</td>\n",
       "      <td>5623 STRESEMANN ST, SAN DIEGO, CA 92122-3125</td>\n",
       "      <td>2022-09-14</td>\n",
       "      <td>...</td>\n",
       "      <td>NaN</td>\n",
       "      <td>NaN</td>\n",
       "      <td>NaN</td>\n",
       "      <td>NaN</td>\n",
       "    </tr>\n",
       "    <tr>\n",
       "      <th>...</th>\n",
       "      <td>...</td>\n",
       "      <td>...</td>\n",
       "      <td>...</td>\n",
       "      <td>...</td>\n",
       "      <td>...</td>\n",
       "      <td>...</td>\n",
       "      <td>...</td>\n",
       "      <td>...</td>\n",
       "      <td>...</td>\n",
       "    </tr>\n",
       "    <tr>\n",
       "      <th>8008</th>\n",
       "      <td>211999542439</td>\n",
       "      <td>CANDRA'S DELIGHTFUL DESSERTS LLC</td>\n",
       "      <td>4233 MT VOSS DR, SAN DIEGO, CA 92117-4753</td>\n",
       "      <td>2022-08-30</td>\n",
       "      <td>...</td>\n",
       "      <td>NaN</td>\n",
       "      <td>NaN</td>\n",
       "      <td>NaN</td>\n",
       "      <td>NaN</td>\n",
       "    </tr>\n",
       "    <tr>\n",
       "      <th>8094</th>\n",
       "      <td>211997340975</td>\n",
       "      <td>COOKIE SCOOP</td>\n",
       "      <td>7759 GASTON DR, SAN DIEGO, CA 92126-3036</td>\n",
       "      <td>2016-05-04</td>\n",
       "      <td>...</td>\n",
       "      <td>NaN</td>\n",
       "      <td>NaN</td>\n",
       "      <td>NaN</td>\n",
       "      <td>NaN</td>\n",
       "    </tr>\n",
       "    <tr>\n",
       "      <th>8450</th>\n",
       "      <td>211900595220</td>\n",
       "      <td>I LOVE BANANA BREAD CO</td>\n",
       "      <td>4068 DALLES AVE, SAN DIEGO, CA 92117-5518</td>\n",
       "      <td>2020-08-26</td>\n",
       "      <td>...</td>\n",
       "      <td>NaN</td>\n",
       "      <td>NaN</td>\n",
       "      <td>NaN</td>\n",
       "      <td>NaN</td>\n",
       "    </tr>\n",
       "    <tr>\n",
       "      <th>8545</th>\n",
       "      <td>211963768842</td>\n",
       "      <td>PETRA KITCHEN</td>\n",
       "      <td>5252 BALBOA ARMS DR 175, SAN DIEGO, CA 92117-4949</td>\n",
       "      <td>2020-07-30</td>\n",
       "      <td>...</td>\n",
       "      <td>NaN</td>\n",
       "      <td>NaN</td>\n",
       "      <td>NaN</td>\n",
       "      <td>NaN</td>\n",
       "    </tr>\n",
       "  </tbody>\n",
       "</table>\n",
       "<p>29 rows × 12 columns</p>\n",
       "</div>"
      ],
      "text/plain": [
       "       business_id                               name  \\\n",
       "759   211941133403                         TASTY CHAI   \n",
       "1498  211915545446  EMBASSY SUITES SAN DIEGO LA JOLLA   \n",
       "1672  211937443689                         SERVICENOW   \n",
       "2526  211915567037                        CAFE BOLERO   \n",
       "...            ...                                ...   \n",
       "8008  211999542439   CANDRA'S DELIGHTFUL DESSERTS LLC   \n",
       "8094  211997340975                       COOKIE SCOOP   \n",
       "8450  211900595220             I LOVE BANANA BREAD CO   \n",
       "8545  211963768842                      PETRA KITCHEN   \n",
       "\n",
       "                                                address opened_date  ...  \\\n",
       "759       8878 REGENTS RD 105, SAN DIEGO, CA 92122-5853  2019-01-07  ...   \n",
       "1498  4550 LA JOLLA VILLAGE DR, SAN DIEGO, CA 92122-...  2022-11-22  ...   \n",
       "1672       4770 EASTGATE MALL, SAN DIEGO, CA 92121-1970  2023-06-06  ...   \n",
       "2526       5623 STRESEMANN ST, SAN DIEGO, CA 92122-3125  2022-09-14  ...   \n",
       "...                                                 ...         ...  ...   \n",
       "8008          4233 MT VOSS DR, SAN DIEGO, CA 92117-4753  2022-08-30  ...   \n",
       "8094           7759 GASTON DR, SAN DIEGO, CA 92126-3036  2016-05-04  ...   \n",
       "8450          4068 DALLES AVE, SAN DIEGO, CA 92117-5518  2020-08-26  ...   \n",
       "8545  5252 BALBOA ARMS DR 175, SAN DIEGO, CA 92117-4949  2020-07-30  ...   \n",
       "\n",
       "      status  kind is_major violation  \n",
       "759      NaN   NaN      NaN       NaN  \n",
       "1498     NaN   NaN      NaN       NaN  \n",
       "1672     NaN   NaN      NaN       NaN  \n",
       "2526     NaN   NaN      NaN       NaN  \n",
       "...      ...   ...      ...       ...  \n",
       "8008     NaN   NaN      NaN       NaN  \n",
       "8094     NaN   NaN      NaN       NaN  \n",
       "8450     NaN   NaN      NaN       NaN  \n",
       "8545     NaN   NaN      NaN       NaN  \n",
       "\n",
       "[29 rows x 12 columns]"
      ]
     },
     "execution_count": 35,
     "metadata": {},
     "output_type": "execute_result"
    }
   ],
   "source": [
    "df[df['inspection_id'].isna()]"
   ]
  },
  {
   "cell_type": "code",
   "execution_count": 36,
   "id": "96398117",
   "metadata": {},
   "outputs": [
    {
     "data": {
      "text/html": [
       "<div>\n",
       "<style scoped>\n",
       "    .dataframe tbody tr th:only-of-type {\n",
       "        vertical-align: middle;\n",
       "    }\n",
       "\n",
       "    .dataframe tbody tr th {\n",
       "        vertical-align: top;\n",
       "    }\n",
       "\n",
       "    .dataframe thead th {\n",
       "        text-align: right;\n",
       "    }\n",
       "</style>\n",
       "<table border=\"1\" class=\"dataframe\">\n",
       "  <thead>\n",
       "    <tr style=\"text-align: right;\">\n",
       "      <th></th>\n",
       "      <th>business_id</th>\n",
       "      <th>name</th>\n",
       "      <th>address</th>\n",
       "      <th>opened_date</th>\n",
       "      <th>...</th>\n",
       "      <th>status</th>\n",
       "      <th>kind</th>\n",
       "      <th>is_major</th>\n",
       "      <th>violation</th>\n",
       "    </tr>\n",
       "  </thead>\n",
       "  <tbody>\n",
       "    <tr>\n",
       "      <th>4</th>\n",
       "      <td>211909057778</td>\n",
       "      <td>VALLEY FARM MARKET</td>\n",
       "      <td>6902 LA JOLLA BLVD, LA JOLLA, CA 92037</td>\n",
       "      <td>2019-01-22</td>\n",
       "      <td>...</td>\n",
       "      <td>Complete</td>\n",
       "      <td>NaN</td>\n",
       "      <td>NaN</td>\n",
       "      <td>NaN</td>\n",
       "    </tr>\n",
       "    <tr>\n",
       "      <th>9</th>\n",
       "      <td>211909057778</td>\n",
       "      <td>VALLEY FARM MARKET</td>\n",
       "      <td>6902 LA JOLLA BLVD, LA JOLLA, CA 92037</td>\n",
       "      <td>2019-01-22</td>\n",
       "      <td>...</td>\n",
       "      <td>Complete</td>\n",
       "      <td>NaN</td>\n",
       "      <td>NaN</td>\n",
       "      <td>NaN</td>\n",
       "    </tr>\n",
       "    <tr>\n",
       "      <th>13</th>\n",
       "      <td>211909057778</td>\n",
       "      <td>VALLEY FARM MARKET</td>\n",
       "      <td>6902 LA JOLLA BLVD, LA JOLLA, CA 92037</td>\n",
       "      <td>2019-01-22</td>\n",
       "      <td>...</td>\n",
       "      <td>Complete</td>\n",
       "      <td>NaN</td>\n",
       "      <td>NaN</td>\n",
       "      <td>NaN</td>\n",
       "    </tr>\n",
       "    <tr>\n",
       "      <th>15</th>\n",
       "      <td>211909057778</td>\n",
       "      <td>VALLEY FARM MARKET</td>\n",
       "      <td>6902 LA JOLLA BLVD, LA JOLLA, CA 92037</td>\n",
       "      <td>2019-01-22</td>\n",
       "      <td>...</td>\n",
       "      <td>Complete</td>\n",
       "      <td>NaN</td>\n",
       "      <td>NaN</td>\n",
       "      <td>NaN</td>\n",
       "    </tr>\n",
       "    <tr>\n",
       "      <th>...</th>\n",
       "      <td>...</td>\n",
       "      <td>...</td>\n",
       "      <td>...</td>\n",
       "      <td>...</td>\n",
       "      <td>...</td>\n",
       "      <td>...</td>\n",
       "      <td>...</td>\n",
       "      <td>...</td>\n",
       "      <td>...</td>\n",
       "    </tr>\n",
       "    <tr>\n",
       "      <th>8708</th>\n",
       "      <td>211942150255</td>\n",
       "      <td>POKEWAN DEL MAR</td>\n",
       "      <td>12925 EL CAMINO REAL, SUITE# AA4, SAN DIEGO, C...</td>\n",
       "      <td>2016-11-03</td>\n",
       "      <td>...</td>\n",
       "      <td>Complete</td>\n",
       "      <td>Holding Temperatures</td>\n",
       "      <td>N</td>\n",
       "      <td>7. Proper hot &amp; cold holding temperatures</td>\n",
       "    </tr>\n",
       "    <tr>\n",
       "      <th>8712</th>\n",
       "      <td>211925713322</td>\n",
       "      <td>SAFFRONO LOUNGE RESTAURANT</td>\n",
       "      <td>2672 DEL MAR HEIGHTS RD, DEL MAR, CA 92014</td>\n",
       "      <td>2022-11-03</td>\n",
       "      <td>...</td>\n",
       "      <td>Complete</td>\n",
       "      <td>NaN</td>\n",
       "      <td>NaN</td>\n",
       "      <td>NaN</td>\n",
       "    </tr>\n",
       "    <tr>\n",
       "      <th>8723</th>\n",
       "      <td>211925713322</td>\n",
       "      <td>SAFFRONO LOUNGE RESTAURANT</td>\n",
       "      <td>2672 DEL MAR HEIGHTS RD, DEL MAR, CA 92014</td>\n",
       "      <td>2022-11-03</td>\n",
       "      <td>...</td>\n",
       "      <td>Complete</td>\n",
       "      <td>NaN</td>\n",
       "      <td>NaN</td>\n",
       "      <td>NaN</td>\n",
       "    </tr>\n",
       "    <tr>\n",
       "      <th>8724</th>\n",
       "      <td>211925713322</td>\n",
       "      <td>SAFFRONO LOUNGE RESTAURANT</td>\n",
       "      <td>2672 DEL MAR HEIGHTS RD, DEL MAR, CA 92014</td>\n",
       "      <td>2022-11-03</td>\n",
       "      <td>...</td>\n",
       "      <td>Complete</td>\n",
       "      <td>NaN</td>\n",
       "      <td>NaN</td>\n",
       "      <td>NaN</td>\n",
       "    </tr>\n",
       "  </tbody>\n",
       "</table>\n",
       "<p>2005 rows × 12 columns</p>\n",
       "</div>"
      ],
      "text/plain": [
       "       business_id                        name  \\\n",
       "4     211909057778          VALLEY FARM MARKET   \n",
       "9     211909057778          VALLEY FARM MARKET   \n",
       "13    211909057778          VALLEY FARM MARKET   \n",
       "15    211909057778          VALLEY FARM MARKET   \n",
       "...            ...                         ...   \n",
       "8708  211942150255             POKEWAN DEL MAR   \n",
       "8712  211925713322  SAFFRONO LOUNGE RESTAURANT   \n",
       "8723  211925713322  SAFFRONO LOUNGE RESTAURANT   \n",
       "8724  211925713322  SAFFRONO LOUNGE RESTAURANT   \n",
       "\n",
       "                                                address opened_date  ...  \\\n",
       "4                6902 LA JOLLA BLVD, LA JOLLA, CA 92037  2019-01-22  ...   \n",
       "9                6902 LA JOLLA BLVD, LA JOLLA, CA 92037  2019-01-22  ...   \n",
       "13               6902 LA JOLLA BLVD, LA JOLLA, CA 92037  2019-01-22  ...   \n",
       "15               6902 LA JOLLA BLVD, LA JOLLA, CA 92037  2019-01-22  ...   \n",
       "...                                                 ...         ...  ...   \n",
       "8708  12925 EL CAMINO REAL, SUITE# AA4, SAN DIEGO, C...  2016-11-03  ...   \n",
       "8712         2672 DEL MAR HEIGHTS RD, DEL MAR, CA 92014  2022-11-03  ...   \n",
       "8723         2672 DEL MAR HEIGHTS RD, DEL MAR, CA 92014  2022-11-03  ...   \n",
       "8724         2672 DEL MAR HEIGHTS RD, DEL MAR, CA 92014  2022-11-03  ...   \n",
       "\n",
       "        status                  kind is_major  \\\n",
       "4     Complete                   NaN      NaN   \n",
       "9     Complete                   NaN      NaN   \n",
       "13    Complete                   NaN      NaN   \n",
       "15    Complete                   NaN      NaN   \n",
       "...        ...                   ...      ...   \n",
       "8708  Complete  Holding Temperatures        N   \n",
       "8712  Complete                   NaN      NaN   \n",
       "8723  Complete                   NaN      NaN   \n",
       "8724  Complete                   NaN      NaN   \n",
       "\n",
       "                                      violation  \n",
       "4                                           NaN  \n",
       "9                                           NaN  \n",
       "13                                          NaN  \n",
       "15                                          NaN  \n",
       "...                                         ...  \n",
       "8708  7. Proper hot & cold holding temperatures  \n",
       "8712                                        NaN  \n",
       "8723                                        NaN  \n",
       "8724                                        NaN  \n",
       "\n",
       "[2005 rows x 12 columns]"
      ]
     },
     "execution_count": 36,
     "metadata": {},
     "output_type": "execute_result"
    }
   ],
   "source": [
    "df.query('score == 0')"
   ]
  },
  {
   "cell_type": "markdown",
   "id": "afddb353",
   "metadata": {},
   "source": [
    "Many ways of handling missing values which we'll go into soon, but you must check to see how many you have!"
   ]
  },
  {
   "cell_type": "markdown",
   "id": "7ce00205",
   "metadata": {
    "slideshow": {
     "slide_type": "slide"
    }
   },
   "source": [
    "## Data Cleaning: Transformations and Timestamps\n",
    "\n",
    "It's often useful to look at ways of transforming your data to make it easier to work with, for example:\n",
    "\n",
    "- Type conversions (changing the string `\"$2.99\"` to the number `2.99`).\n",
    "- Converting units (feet to meters)\n",
    "- Extraction (Getting `'vermin'` out of `'Vermin Violation Recorded on 10/10/2023'`).\n",
    "\n",
    "Most commonly, we'll parse dates into `pd.Timestamp` objects."
   ]
  },
  {
   "cell_type": "code",
   "execution_count": 38,
   "id": "9c909418",
   "metadata": {},
   "outputs": [
    {
     "data": {
      "text/plain": [
       "0       2023-02-16\n",
       "1       2022-01-03\n",
       "2       2020-12-03\n",
       "3       2023-09-20\n",
       "           ...    \n",
       "5175    2023-09-14\n",
       "5176    2023-03-06\n",
       "5177    2022-12-09\n",
       "5178    2022-11-30\n",
       "Name: date, Length: 5179, dtype: object"
      ]
     },
     "execution_count": 38,
     "metadata": {},
     "output_type": "execute_result"
    }
   ],
   "source": [
    "insp['date']"
   ]
  },
  {
   "cell_type": "code",
   "execution_count": 39,
   "id": "3adaa896",
   "metadata": {},
   "outputs": [
    {
     "data": {
      "text/plain": [
       "0      2023-02-16\n",
       "1      2022-01-03\n",
       "2      2020-12-03\n",
       "3      2023-09-20\n",
       "          ...    \n",
       "5175   2023-09-14\n",
       "5176   2023-03-06\n",
       "5177   2022-12-09\n",
       "5178   2022-11-30\n",
       "Name: date, Length: 5179, dtype: datetime64[ns]"
      ]
     },
     "execution_count": 39,
     "metadata": {},
     "output_type": "execute_result"
    }
   ],
   "source": [
    "# This magical string tells Python what format the date is in.\n",
    "# For more info: https://docs.python.org/3/library/datetime.html#strftime-and-strptime-behavior\n",
    "date_format = '%Y-%m-%d'\n",
    "\n",
    "pd.to_datetime(insp['date'], format=date_format)"
   ]
  },
  {
   "cell_type": "code",
   "execution_count": 40,
   "id": "e54dee4d",
   "metadata": {
    "slideshow": {
     "slide_type": "slide"
    }
   },
   "outputs": [
    {
     "name": "stderr",
     "output_type": "stream",
     "text": [
      "Bad pipe message: %s [b'\\xc7Va4X\\xc3\\xea\\xf6\\xd0\\rIu\\xc0\\xc68S\\xeeo \\xa3\\x82t\\x84\\xccW7\\r\\x84\\x95-;\\xe3cj\\xb1\\x1bz#F\\xc9\\xa0\\x18\\xd6\\x97\\x02\\x9b\\x16\\x15\\x8d\\x9d\\xa4\\x00 jj\\x13\\x01\\x13\\x02\\x13\\x03\\xc0+\\xc0/\\xc0,\\xc00\\xcc\\xa9\\xcc\\xa8\\xc0\\x13\\xc0\\x14\\x00\\x9c\\x00\\x9d\\x00/\\x005\\x01\\x00\\x01\\x93\\xea\\xea\\x00\\x00\\x00-\\x00\\x02\\x01\\x01\\x00\\x05\\x00\\x05\\x01\\x00\\x00\\x00\\x00\\x00\\r\\x00\\x12\\x00\\x10\\x04\\x03\\x08\\x04\\x04\\x01\\x05\\x03\\x08\\x05\\x05\\x01\\x08\\x06\\x06\\x01\\x00\\x0b\\x00\\x02\\x01\\x00\\x00\\x12\\x00\\x00\\x00\\n\\x00\\n\\x00\\x08ZZ\\x00\\x1d\\x00\\x17\\x00\\x18\\x00\\x17\\x00\\x00\\x00\\x1b\\x00\\x03\\x02\\x00\\x02\\xff\\x01\\x00\\x01\\x00\\x003\\x00+\\x00)ZZ\\x00\\x01\\x00\\x00\\x1d\\x00 \\xf6x\\xef\\xb3AU\\x16\\xb2\\xe3\\x020@\\xc8:\\x9a7x\\xa0e\\x17\\xe8\\xfa=\\x1a\\xb0\\x83\\xd8\\x1c\\xcc\\x01#\\n\\x00\\x10\\x00\\x0e\\x00\\x0c', b'2']\n",
      "Bad pipe message: %s [b'ttp/1.1']\n",
      "Bad pipe message: %s [b'Za\\xdd\\xb3\\x04\\x16\\x9c\\x99\\x13e?\\xcb\\xe1\\x1cC\\x1c\\xd7\\xc9 \\xb0A\\xa8d\\x95\\xfd\\xc63\\xe6\\x16\\xd4Q\\xc8\\x83\\xa8\\xab\\x89y,\\xd9C\\xad\\xfb\\xf4\\x8e\\xe2\\x1c\\x81\\x1br\\x1f\\x94\\x00 jj\\x13\\x01\\x13\\x02\\x13\\x03\\xc0+\\xc0/\\xc0,\\xc00\\xcc\\xa9\\xcc\\xa8\\xc0\\x13\\xc0\\x14\\x00\\x9c\\x00\\x9d\\x00/\\x005\\x01\\x00\\x01\\x93zz\\x00\\x00\\xfe\\r\\x00\\xda\\x00\\x00\\x01\\x00\\x01\\x92\\x00 \\x00\\xfc\\xce\\x1a2T\\x85?\\x1c\\x04b-3\\xfc-\\x16\\xcc;\\x14\\xee\\xb8\\xfba\\xca\\xde|h\\x05\\xd3\\xe5\\xf9y\\x00\\xb0\\x16\\xb1S6\\x8a\\xf7\\xad:\\x81\\tW_|\\x12\\x8drc']\n",
      "Bad pipe message: %s [b\"\\xc6U'*\\xe4\\xcb&\\xa1{Dg~\\x88\\xd9=\\xcf\\x7f\\xa7 \\xc6\\x9e\\xdd\"]\n",
      "Bad pipe message: %s [b'IZ\\xe9\\x1e\\x0eLB\\xd8?MR\\x9e\\x10\\x01l\\xb8\\x9c\\xbf\\xaa\\xc43(f1\\xa8=>\\x00 \\xca\\xca\\x13\\x01\\x13\\x02\\x13\\x03\\xc0+\\xc0/\\xc0,\\xc00\\xcc\\xa9\\xcc\\xa8\\xc0\\x13\\xc0\\x14\\x00\\x9c\\x00\\x9d\\x00/\\x005\\x01\\x00\\x01\\x93\\xca\\xca\\x00\\x00Di\\x00\\x05\\x00\\x03\\x02h2\\x00#\\x00\\x00\\x00\\r\\x00\\x12\\x00\\x10\\x04\\x03\\x08\\x04\\x04\\x01\\x05\\x03\\x08\\x05\\x05\\x01\\x08\\x06\\x06\\x01\\xff\\x01\\x00\\x01\\x00\\x00-\\x00\\x02\\x01\\x01\\x00\\x1b\\x00\\x03\\x02\\x00\\x02\\x00\\x10\\x00\\x0e\\x00\\x0c\\x02h2\\x08http/1.1\\x00\\x05\\x00\\x05\\x01\\x00\\x00\\x00\\x00\\x00\\x12\\x00\\x00\\x00\\n\\x00\\n\\x00\\x08\\x9a\\x9a\\x00\\x1d\\x00\\x17\\x00\\x18\\x00\\x0b\\x00\\x02\\x01']\n",
      "Bad pipe message: %s [b't\\xfe\\xcf\\xfa\\xc9z\\xba\\x89b\\xb6\\xc7\\xe9\\xc5$\\x80\\x11{\\xe9 \\xd4\\x18i\\xdah\\xe7\\xbb\\xa4\\xf4\\xc7`\\x98\\x10k\\x13\\x92\\xb0\\xb6a`\\xa8s\\xc7\\xc2\\t\\x94\\x1b\\xf0Ti\\x97W\\x00 \\x1a\\x1a\\x13\\x01\\x13\\x02\\x13\\x03\\xc0+\\xc0/\\xc0,\\xc00\\xcc\\xa9\\xcc\\xa8\\xc0\\x13\\xc0\\x14\\x00\\x9c\\x00\\x9d\\x00/\\x005\\x01\\x00\\x01\\xad**\\x00\\x00\\x003\\x00+\\x00)\\xaa\\xaa\\x00\\x01\\x00\\x00\\x1d\\x00 \\xed\\xa2\\x85\\x04_\\x84\\x8f*~bn\\xcd\\x83\\x92\\x81h\\xb7F%\\xe1\\xfb/\\x16\\x9e\\xbc\\xf4r\\x9cycx\\x13\\x00+\\x00\\x07\\x06\\x8a\\x8a\\x03\\x04\\x03\\x03\\x00\\r\\x00\\x12\\x00\\x10\\x04\\x03\\x08\\x04\\x04\\x01\\x05\\x03\\x08\\x05\\x05\\x01\\x08\\x06\\x06\\x01\\x00-\\x00\\x02\\x01\\x01\\x00\\n\\x00\\n\\x00\\x08\\xaa\\xaa\\x00\\x1d\\x00\\x17\\x00\\x18\\x00', b'\\x00\\x00\\x05\\x00\\x05\\x01\\x00\\x00\\x00\\x00\\x00\\x0b\\x00\\x02\\x01\\x00\\x00\\x17\\x00\\x00\\x00\\x1b\\x00\\x03\\x02\\x00\\x02\\x00\\x12\\x00\\x00\\xfe\\r\\x00']\n",
      "Bad pipe message: %s [b'\\x00\\x01\\x00\\x01\\r\\x00 \\x88h\\xc9s\\xfe\\xcb\\x7f\\xe5\\x00\\xe6BrY] \\xdeOd\\xaa\\xd9No\\x7f\\x1a\\x1bU|\\x8d\\x06\\xf1\\xbat\\x00\\xd04\\x85\\xe3\\xc2\\xba\\x8c\\xa6\\xe2kd%\\xe1\\xfe\\xc0\\x1b?\\xb5\\x9c7\\x98\\xbb\\xf7\\x88\\r\\xc6:YN\\xfb 4\\xebD-{(\\xe7W\\x11\\xf9\\xf1\\xc5\\x11\\xa6Q\\x8a\\xb9u+0R\\xb2\\xbb}\\xad4\\x06\\xed\\x7f\\x9e\\x0e\\xb8Y\\xaeQ\\x1f\\xfa{F\\xedAUr\\xacs\\xeex\\xbe\\x1d\\xe5\\x9e\\xc1\\x15\\xb7N\\x19=:\\x84k\\x7f\\xd1\\x1e\\xe6j\\x8d\\x81S0\\xb7{\\x1a\\xfb\\xba\\x94D%nW~0Cb\\xf1vE\\xe1k`\\xa8\\x06\\xafCji\\x03\\xc8\\x90\\xb97\\x1f\\x1f2\\x13t6\\x99h\\xb7`\\xc0v\\xb5\\x1b}\\xaaEE\\xebg\\x87\\xea\\'\\xac\\x11\\xf9dp\\xbb*>\\x8aL\\x0b\\xc4\\x81\\x17\\x92\\x04\\x07Z\\x91<\\x00X\\xd1#\"3M\\xe2\\xbe\\x12\\xd5\\x02\\x84\\xad\\xaf3\\x8d\\xde\\xb9\\x04@\\x1a\\x89\\xc0u\\xe8\\xcc\\xc4=\\xf7\\xab\\xbc\\x9da<']\n",
      "Bad pipe message: %s [b'$\\x10\\xa8\\xf7PK:#\\xc6\\x93\\xd8K\\x0c^\\x8a\\x86le \\x86\\x132w']\n",
      "Bad pipe message: %s [b'\\xb9\\xc8\\n\\n\\xeb\\x88H!\\n\\xc0\\x18\\xde g\\xe9\\x80\\xc4\" \\xb0 #j\\x92\\x0f\\x84\\x89b#`B\\x1e\\x96\\xa9p\\xafeN\\x91[m\\xa6\\x90\\xdfY\\x17\\x00\\xa9\\x05\\xd7\\xdb\\x00 \\xea\\xea\\x13\\x01\\x13\\x02\\x13\\x03\\xc0+\\xc0/\\xc0,\\xc00\\xcc\\xa9\\xcc\\xa8\\xc0\\x13\\xc0\\x14\\x00\\x9c\\x00\\x9d\\x00/\\x005\\x01\\x00\\x01\\xcd::\\x00\\x00\\xfe\\r\\x01\\x1a\\x00\\x00\\x01\\x00\\x01\\xda\\x00 M\\xe3\\x019\\xb2\\x86\\x0fr\\xe6n\\xccB\\x8b\\xb6\\x08P\\x11`\\xecQ@x\\x7f\\xbb\\xb66\\xc9\\xf7\\x17D\\x81^\\x00\\xf0\\xc0\\\\']\n",
      "Bad pipe message: %s [b'\\x1d<\\xe8\\x05\\x80\\xc6\\xb7\\xa5\\x1c\\xa6\\xd28\\xabbz\\x9d\\xef\\xbe\\x93\\xfa:<Z65\\xb4\\xbe\\xf6\\x0c\\x00\\xea\\xd5\\xce\\xb7n\\x7f\\xe9f\\xa4\\xa9\\xf1%\\x91\\xed\\xa9Fr\\xa9J\\x08']\n",
      "Bad pipe message: %s [b'\\xa4o\\xde\\x9fx\\x9d\\x84\\xd5/\\xf6\\xa8\\xa6\\xbc\\x9d\\xbe\\xa0\\xfd+\\x7f,\\xed.\\xe1\\xdf\\x1c\\x07\\xf9\\xbc\\xe6\\x80\\x97\\x17\\xe8[\\x92\\x89\\x7f7p]\\xba\\x9a\\xabO0\\xcb\\xf5\\x88rJ\\x9c\\xf6\\xe49\\xb6,`\\xb4{yV\\xeceML\\xd9<\\x15\\x08\\xf2>\\xa0\\x96\\x0cJe\\xee5\\xb8\\x01\\xab2\\xfd\\x1c\\xd4.#\\xe8\\\\\\xc5\\x19\\xda\\xb7]d\\xab\\xac\\xf9\\xa2\\xb5\\xf9\\xb7#\\xef \\xd5/\\xf8\\x12\\xf6\\xbf\\x8e\\xa35\\xab\\xad[h\\xf4\\x7fU\\xf6\\x1c\\xc9)\\xdaW\\x19\\x11\\xf3\\xb3q\\xa8\\x85\\n\\x95\\xc1E;\\xc4\\xe8Om\\xd4\\xfa\\xb1\\xce\\x93\\x87c\\x97>[vP+#\\x1b\\tmM\\xaccj\\xf7G4z+aM\\x08k\\x1eJt+QG\\xb9\\x8f;\\x9e\\x85\\x00\\x1b\\x00\\x03\\x02\\x00\\x02\\x00\\x05\\x00\\x05\\x01\\x00\\x00\\x00\\x00\\x00\\x17\\x00\\x00\\x00#\\x00\\x00\\x003\\x00+\\x00)::\\x00\\x01\\x00\\x00\\x1d\\x00 \\x8c#\\xb9]\\xf4Y\\xfd\\xb9\\x98\\xb0xw\\x9b\\xd6\\x1b\\x83\\xc2\\x95v_+\\xa6P\\xd7=\\x80\\xcd']\n",
      "Bad pipe message: %s [b'_\\t\\x079\"\\xdd\\xae\\n\\xe8\\xf8\\xea\\xa67\\xc49-0\\xbd \\xec\\xb6cB\\xa2]:\\x82T\\x0c\\x91y\\x98[\\x93\\x16G\\x02\\xbb^\\r5].=\\xf5\\xe6.\\x91\\'\\x1e3\\x00 \\xaa\\xaa\\x13\\x01\\x13\\x02\\x13']\n",
      "Bad pipe message: %s [b'+\\xc0']\n",
      "Bad pipe message: %s [b',\\xc00\\xcc\\xa9\\xcc\\xa8\\xc0\\x13\\xc0\\x14\\x00\\x9c\\x00\\x9d\\x00/\\x005\\x01\\x00\\x01\\xcdjj\\x00\\x00\\x00\\r\\x00\\x12\\x00\\x10\\x04\\x03\\x08\\x04\\x04\\x01\\x05\\x03\\x08\\x05\\x05\\x01\\x08']\n",
      "Bad pipe message: %s [b'\\x01\\x00\\n\\x00\\n']\n",
      "Bad pipe message: %s [b'\\xd6\\x04\\xd5\\xd2`B^\\xa28^\\xce\\x86)e5m\\xbf\\xd4 `La\\xc1\\x11\\x90\\xa0\\x173\\x85U\\xb7\\x10]\\xff\\x19\\xa4\\xb0\\x99\\xb8q)\\xf3f.\\xca\\nL)\\x0c\\xe1\\xd6\\x00 ZZ\\x13\\x01\\x13\\x02\\x13\\x03\\xc0+\\xc0/\\xc0,\\xc00\\xcc\\xa9\\xcc\\xa8\\xc0\\x13\\xc0\\x14\\x00\\x9c\\x00\\x9d\\x00/\\x005\\x01\\x00\\x01\\x93ZZ\\x00\\x00\\x00\\x1b\\x00\\x03\\x02\\x00\\x02\\x00\\r\\x00\\x12\\x00\\x10\\x04\\x03\\x08\\x04\\x04\\x01\\x05\\x03\\x08\\x05\\x05\\x01\\x08\\x06\\x06\\x01\\x00#\\x00\\x00\\x003\\x00+\\x00)JJ\\x00\\x01\\x00\\x00\\x1d\\x00 \\xa9W\\xc6q\\x9a\\x05h\\xe3\\xd4m1\\x8b\\xa6\\x16)| a-\\x12^&\\x8f\\xff\\xee\\xa8\\x9cAiG\\x88Y\\x00\\n\\x00\\n\\x00\\x08JJ\\x00\\x1d\\x00\\x17\\x00\\x18\\x00-\\x00\\x02']\n",
      "Bad pipe message: %s [b'\\xfd\\xc5\\x8a/\\xda\\x8d\\xda:\\x10\\x88\\x1c\\xdf\\xb2\\x90Y\\xe15B \\xfaB8\\xea\\x12ZC\\xe7<\\x9e\"\\xdf\\xbc\\x8f\\x12\\x9aY\\x919D\\x18\\x93r\\x9be\\xf1o\\x08\\\\\\xc0\\xf2\\xc8\\x00 zz\\x13\\x01\\x13\\x02\\x13\\x03\\xc0+\\xc0/\\xc0,\\xc00\\xcc\\xa9\\xcc\\xa8\\xc0\\x13\\xc0\\x14\\x00\\x9c\\x00\\x9d\\x00/\\x005\\x01\\x00\\x01\\x93\\xfa\\xfa\\x00\\x00\\x00\\x1b\\x00\\x03\\x02\\x00\\x02\\x00#\\x00\\x00\\x00\\x17']\n"
     ]
    }
   ],
   "source": [
    "# Another advantage of defining functions is that we can reuse this function\n",
    "# for the opened_date column in `rest` if we wanted to\n",
    "def parse_dates(insp, col):\n",
    "    date_format = '%Y-%m-%d'\n",
    "    dates = pd.to_datetime(insp[col], format=date_format)\n",
    "    return insp.assign(**{col: dates})\n",
    "\n",
    "insp = (\n",
    "    pd.read_csv('data/inspections.csv')\n",
    "    .pipe(subset_insp)\n",
    "    .pipe(parse_dates, 'date')\n",
    ")\n",
    "\n",
    "# Should also remake df, since it depends on insp\n",
    "df = merge_all_restaurant_data()"
   ]
  },
  {
   "cell_type": "code",
   "execution_count": 70,
   "id": "8f62bf1d",
   "metadata": {},
   "outputs": [
    {
     "data": {
      "text/plain": [
       "0      2023-02-16\n",
       "1      2022-01-03\n",
       "2      2020-12-03\n",
       "3      2023-09-20\n",
       "          ...    \n",
       "5175   2023-09-14\n",
       "5176   2023-03-06\n",
       "5177   2022-12-09\n",
       "5178   2022-11-30\n",
       "Name: date, Length: 5179, dtype: datetime64[ns]"
      ]
     },
     "execution_count": 70,
     "metadata": {},
     "output_type": "execute_result"
    }
   ],
   "source": [
    "insp['date']"
   ]
  },
  {
   "cell_type": "markdown",
   "id": "dbb9739b",
   "metadata": {},
   "source": [
    "### Working with Timestamps\n",
    "\n",
    "- We often want to adjust granularity of timestamps to see overall trends, or seasonality.\n",
    "- Use the `resample` method in `pandas`."
   ]
  },
  {
   "cell_type": "code",
   "execution_count": 71,
   "id": "02d55148",
   "metadata": {},
   "outputs": [
    {
     "data": {
      "image/svg+xml": [
       "<?xml version=\"1.0\" encoding=\"utf-8\" standalone=\"no\"?>\n",
       "<!DOCTYPE svg PUBLIC \"-//W3C//DTD SVG 1.1//EN\"\n",
       "  \"http://www.w3.org/Graphics/SVG/1.1/DTD/svg11.dtd\">\n",
       "<svg xmlns:xlink=\"http://www.w3.org/1999/xlink\" width=\"624.602187pt\" height=\"376.437563pt\" viewBox=\"0 0 624.602187 376.437563\" xmlns=\"http://www.w3.org/2000/svg\" version=\"1.1\">\n",
       " <metadata>\n",
       "  <rdf:RDF xmlns:dc=\"http://purl.org/dc/elements/1.1/\" xmlns:cc=\"http://creativecommons.org/ns#\" xmlns:rdf=\"http://www.w3.org/1999/02/22-rdf-syntax-ns#\">\n",
       "   <cc:Work>\n",
       "    <dc:type rdf:resource=\"http://purl.org/dc/dcmitype/StillImage\"/>\n",
       "    <dc:date>2023-10-16T23:05:37.776541</dc:date>\n",
       "    <dc:format>image/svg+xml</dc:format>\n",
       "    <dc:creator>\n",
       "     <cc:Agent>\n",
       "      <dc:title>Matplotlib v3.5.1, https://matplotlib.org/</dc:title>\n",
       "     </cc:Agent>\n",
       "    </dc:creator>\n",
       "   </cc:Work>\n",
       "  </rdf:RDF>\n",
       " </metadata>\n",
       " <defs>\n",
       "  <style type=\"text/css\">*{stroke-linejoin: round; stroke-linecap: butt}</style>\n",
       " </defs>\n",
       " <g id=\"figure_1\">\n",
       "  <g id=\"patch_1\">\n",
       "   <path d=\"M -0 376.437563 \n",
       "L 624.602187 376.437563 \n",
       "L 624.602187 0 \n",
       "L -0 0 \n",
       "z\n",
       "\" style=\"fill: #ffffff\"/>\n",
       "  </g>\n",
       "  <g id=\"axes_1\">\n",
       "   <g id=\"patch_2\">\n",
       "    <path d=\"M 59.402187 284.4 \n",
       "L 617.402187 284.4 \n",
       "L 617.402187 7.2 \n",
       "L 59.402187 7.2 \n",
       "z\n",
       "\" style=\"fill: #ffffff\"/>\n",
       "   </g>\n",
       "   <g id=\"matplotlib.axis_1\">\n",
       "    <g id=\"xtick_1\">\n",
       "     <g id=\"line2d_1\">\n",
       "      <path d=\"M 59.402187 284.4 \n",
       "L 59.402187 7.2 \n",
       "\" clip-path=\"url(#p098e990cd9)\" style=\"fill: none; stroke: #cccccc; stroke-width: 2; stroke-linecap: round\"/>\n",
       "     </g>\n",
       "     <g id=\"text_1\">\n",
       "      <!-- Jan -->\n",
       "      <g style=\"fill: #262626\" transform=\"translate(41.668125 315.647188)scale(0.22 -0.22)\">\n",
       "       <defs>\n",
       "        <path id=\"ArialMT-4a\" d=\"M 184 1300 \n",
       "L 731 1375 \n",
       "Q 753 850 928 656 \n",
       "Q 1103 463 1413 463 \n",
       "Q 1641 463 1806 567 \n",
       "Q 1972 672 2034 851 \n",
       "Q 2097 1031 2097 1425 \n",
       "L 2097 4581 \n",
       "L 2703 4581 \n",
       "L 2703 1459 \n",
       "Q 2703 884 2564 568 \n",
       "Q 2425 253 2123 87 \n",
       "Q 1822 -78 1416 -78 \n",
       "Q 813 -78 492 269 \n",
       "Q 172 616 184 1300 \n",
       "z\n",
       "\" transform=\"scale(0.015625)\"/>\n",
       "        <path id=\"ArialMT-61\" d=\"M 2588 409 \n",
       "Q 2275 144 1986 34 \n",
       "Q 1697 -75 1366 -75 \n",
       "Q 819 -75 525 192 \n",
       "Q 231 459 231 875 \n",
       "Q 231 1119 342 1320 \n",
       "Q 453 1522 633 1644 \n",
       "Q 813 1766 1038 1828 \n",
       "Q 1203 1872 1538 1913 \n",
       "Q 2219 1994 2541 2106 \n",
       "Q 2544 2222 2544 2253 \n",
       "Q 2544 2597 2384 2738 \n",
       "Q 2169 2928 1744 2928 \n",
       "Q 1347 2928 1158 2789 \n",
       "Q 969 2650 878 2297 \n",
       "L 328 2372 \n",
       "Q 403 2725 575 2942 \n",
       "Q 747 3159 1072 3276 \n",
       "Q 1397 3394 1825 3394 \n",
       "Q 2250 3394 2515 3294 \n",
       "Q 2781 3194 2906 3042 \n",
       "Q 3031 2891 3081 2659 \n",
       "Q 3109 2516 3109 2141 \n",
       "L 3109 1391 \n",
       "Q 3109 606 3145 398 \n",
       "Q 3181 191 3288 0 \n",
       "L 2700 0 \n",
       "Q 2613 175 2588 409 \n",
       "z\n",
       "M 2541 1666 \n",
       "Q 2234 1541 1622 1453 \n",
       "Q 1275 1403 1131 1340 \n",
       "Q 988 1278 909 1158 \n",
       "Q 831 1038 831 891 \n",
       "Q 831 666 1001 516 \n",
       "Q 1172 366 1500 366 \n",
       "Q 1825 366 2078 508 \n",
       "Q 2331 650 2450 897 \n",
       "Q 2541 1088 2541 1459 \n",
       "L 2541 1666 \n",
       "z\n",
       "\" transform=\"scale(0.015625)\"/>\n",
       "        <path id=\"ArialMT-6e\" d=\"M 422 0 \n",
       "L 422 3319 \n",
       "L 928 3319 \n",
       "L 928 2847 \n",
       "Q 1294 3394 1984 3394 \n",
       "Q 2284 3394 2536 3286 \n",
       "Q 2788 3178 2913 3003 \n",
       "Q 3038 2828 3088 2588 \n",
       "Q 3119 2431 3119 2041 \n",
       "L 3119 0 \n",
       "L 2556 0 \n",
       "L 2556 2019 \n",
       "Q 2556 2363 2490 2533 \n",
       "Q 2425 2703 2258 2804 \n",
       "Q 2091 2906 1866 2906 \n",
       "Q 1506 2906 1245 2678 \n",
       "Q 984 2450 984 1813 \n",
       "L 984 0 \n",
       "L 422 0 \n",
       "z\n",
       "\" transform=\"scale(0.015625)\"/>\n",
       "       </defs>\n",
       "       <use xlink:href=\"#ArialMT-4a\"/>\n",
       "       <use xlink:href=\"#ArialMT-61\" x=\"50\"/>\n",
       "       <use xlink:href=\"#ArialMT-6e\" x=\"105.615234\"/>\n",
       "      </g>\n",
       "      <!-- 2020 -->\n",
       "      <g style=\"fill: #262626\" transform=\"translate(34.934062 338.916313)scale(0.22 -0.22)\">\n",
       "       <defs>\n",
       "        <path id=\"ArialMT-32\" d=\"M 3222 541 \n",
       "L 3222 0 \n",
       "L 194 0 \n",
       "Q 188 203 259 391 \n",
       "Q 375 700 629 1000 \n",
       "Q 884 1300 1366 1694 \n",
       "Q 2113 2306 2375 2664 \n",
       "Q 2638 3022 2638 3341 \n",
       "Q 2638 3675 2398 3904 \n",
       "Q 2159 4134 1775 4134 \n",
       "Q 1369 4134 1125 3890 \n",
       "Q 881 3647 878 3216 \n",
       "L 300 3275 \n",
       "Q 359 3922 746 4261 \n",
       "Q 1134 4600 1788 4600 \n",
       "Q 2447 4600 2831 4234 \n",
       "Q 3216 3869 3216 3328 \n",
       "Q 3216 3053 3103 2787 \n",
       "Q 2991 2522 2730 2228 \n",
       "Q 2469 1934 1863 1422 \n",
       "Q 1356 997 1212 845 \n",
       "Q 1069 694 975 541 \n",
       "L 3222 541 \n",
       "z\n",
       "\" transform=\"scale(0.015625)\"/>\n",
       "        <path id=\"ArialMT-30\" d=\"M 266 2259 \n",
       "Q 266 3072 433 3567 \n",
       "Q 600 4063 929 4331 \n",
       "Q 1259 4600 1759 4600 \n",
       "Q 2128 4600 2406 4451 \n",
       "Q 2684 4303 2865 4023 \n",
       "Q 3047 3744 3150 3342 \n",
       "Q 3253 2941 3253 2259 \n",
       "Q 3253 1453 3087 958 \n",
       "Q 2922 463 2592 192 \n",
       "Q 2263 -78 1759 -78 \n",
       "Q 1097 -78 719 397 \n",
       "Q 266 969 266 2259 \n",
       "z\n",
       "M 844 2259 \n",
       "Q 844 1131 1108 757 \n",
       "Q 1372 384 1759 384 \n",
       "Q 2147 384 2411 759 \n",
       "Q 2675 1134 2675 2259 \n",
       "Q 2675 3391 2411 3762 \n",
       "Q 2147 4134 1753 4134 \n",
       "Q 1366 4134 1134 3806 \n",
       "Q 844 3388 844 2259 \n",
       "z\n",
       "\" transform=\"scale(0.015625)\"/>\n",
       "       </defs>\n",
       "       <use xlink:href=\"#ArialMT-32\"/>\n",
       "       <use xlink:href=\"#ArialMT-30\" x=\"55.615234\"/>\n",
       "       <use xlink:href=\"#ArialMT-32\" x=\"111.230469\"/>\n",
       "       <use xlink:href=\"#ArialMT-30\" x=\"166.845703\"/>\n",
       "      </g>\n",
       "     </g>\n",
       "    </g>\n",
       "    <g id=\"xtick_2\">\n",
       "     <g id=\"line2d_2\">\n",
       "      <path d=\"M 205.947642 284.4 \n",
       "L 205.947642 7.2 \n",
       "\" clip-path=\"url(#p098e990cd9)\" style=\"fill: none; stroke: #cccccc; stroke-width: 2; stroke-linecap: round\"/>\n",
       "     </g>\n",
       "     <g id=\"text_2\">\n",
       "      <!-- Jan -->\n",
       "      <g style=\"fill: #262626\" transform=\"translate(188.21358 315.647188)scale(0.22 -0.22)\">\n",
       "       <use xlink:href=\"#ArialMT-4a\"/>\n",
       "       <use xlink:href=\"#ArialMT-61\" x=\"50\"/>\n",
       "       <use xlink:href=\"#ArialMT-6e\" x=\"105.615234\"/>\n",
       "      </g>\n",
       "      <!-- 2021 -->\n",
       "      <g style=\"fill: #262626\" transform=\"translate(181.479517 338.916313)scale(0.22 -0.22)\">\n",
       "       <defs>\n",
       "        <path id=\"ArialMT-31\" d=\"M 2384 0 \n",
       "L 1822 0 \n",
       "L 1822 3584 \n",
       "Q 1619 3391 1289 3197 \n",
       "Q 959 3003 697 2906 \n",
       "L 697 3450 \n",
       "Q 1169 3672 1522 3987 \n",
       "Q 1875 4303 2022 4600 \n",
       "L 2384 4600 \n",
       "L 2384 0 \n",
       "z\n",
       "\" transform=\"scale(0.015625)\"/>\n",
       "       </defs>\n",
       "       <use xlink:href=\"#ArialMT-32\"/>\n",
       "       <use xlink:href=\"#ArialMT-30\" x=\"55.615234\"/>\n",
       "       <use xlink:href=\"#ArialMT-32\" x=\"111.230469\"/>\n",
       "       <use xlink:href=\"#ArialMT-31\" x=\"166.845703\"/>\n",
       "      </g>\n",
       "     </g>\n",
       "    </g>\n",
       "    <g id=\"xtick_3\">\n",
       "     <g id=\"line2d_3\">\n",
       "      <path d=\"M 352.493097 284.4 \n",
       "L 352.493097 7.2 \n",
       "\" clip-path=\"url(#p098e990cd9)\" style=\"fill: none; stroke: #cccccc; stroke-width: 2; stroke-linecap: round\"/>\n",
       "     </g>\n",
       "     <g id=\"text_3\">\n",
       "      <!-- Jan -->\n",
       "      <g style=\"fill: #262626\" transform=\"translate(334.759034 315.647188)scale(0.22 -0.22)\">\n",
       "       <use xlink:href=\"#ArialMT-4a\"/>\n",
       "       <use xlink:href=\"#ArialMT-61\" x=\"50\"/>\n",
       "       <use xlink:href=\"#ArialMT-6e\" x=\"105.615234\"/>\n",
       "      </g>\n",
       "      <!-- 2022 -->\n",
       "      <g style=\"fill: #262626\" transform=\"translate(328.024972 338.916313)scale(0.22 -0.22)\">\n",
       "       <use xlink:href=\"#ArialMT-32\"/>\n",
       "       <use xlink:href=\"#ArialMT-30\" x=\"55.615234\"/>\n",
       "       <use xlink:href=\"#ArialMT-32\" x=\"111.230469\"/>\n",
       "       <use xlink:href=\"#ArialMT-32\" x=\"166.845703\"/>\n",
       "      </g>\n",
       "     </g>\n",
       "    </g>\n",
       "    <g id=\"xtick_4\">\n",
       "     <g id=\"line2d_4\">\n",
       "      <path d=\"M 499.038551 284.4 \n",
       "L 499.038551 7.2 \n",
       "\" clip-path=\"url(#p098e990cd9)\" style=\"fill: none; stroke: #cccccc; stroke-width: 2; stroke-linecap: round\"/>\n",
       "     </g>\n",
       "     <g id=\"text_4\">\n",
       "      <!-- Jan -->\n",
       "      <g style=\"fill: #262626\" transform=\"translate(481.304489 315.647188)scale(0.22 -0.22)\">\n",
       "       <use xlink:href=\"#ArialMT-4a\"/>\n",
       "       <use xlink:href=\"#ArialMT-61\" x=\"50\"/>\n",
       "       <use xlink:href=\"#ArialMT-6e\" x=\"105.615234\"/>\n",
       "      </g>\n",
       "      <!-- 2023 -->\n",
       "      <g style=\"fill: #262626\" transform=\"translate(474.570426 338.916313)scale(0.22 -0.22)\">\n",
       "       <defs>\n",
       "        <path id=\"ArialMT-33\" d=\"M 269 1209 \n",
       "L 831 1284 \n",
       "Q 928 806 1161 595 \n",
       "Q 1394 384 1728 384 \n",
       "Q 2125 384 2398 659 \n",
       "Q 2672 934 2672 1341 \n",
       "Q 2672 1728 2419 1979 \n",
       "Q 2166 2231 1775 2231 \n",
       "Q 1616 2231 1378 2169 \n",
       "L 1441 2663 \n",
       "Q 1497 2656 1531 2656 \n",
       "Q 1891 2656 2178 2843 \n",
       "Q 2466 3031 2466 3422 \n",
       "Q 2466 3731 2256 3934 \n",
       "Q 2047 4138 1716 4138 \n",
       "Q 1388 4138 1169 3931 \n",
       "Q 950 3725 888 3313 \n",
       "L 325 3413 \n",
       "Q 428 3978 793 4289 \n",
       "Q 1159 4600 1703 4600 \n",
       "Q 2078 4600 2393 4439 \n",
       "Q 2709 4278 2876 4000 \n",
       "Q 3044 3722 3044 3409 \n",
       "Q 3044 3113 2884 2869 \n",
       "Q 2725 2625 2413 2481 \n",
       "Q 2819 2388 3044 2092 \n",
       "Q 3269 1797 3269 1353 \n",
       "Q 3269 753 2831 336 \n",
       "Q 2394 -81 1725 -81 \n",
       "Q 1122 -81 723 278 \n",
       "Q 325 638 269 1209 \n",
       "z\n",
       "\" transform=\"scale(0.015625)\"/>\n",
       "       </defs>\n",
       "       <use xlink:href=\"#ArialMT-32\"/>\n",
       "       <use xlink:href=\"#ArialMT-30\" x=\"55.615234\"/>\n",
       "       <use xlink:href=\"#ArialMT-32\" x=\"111.230469\"/>\n",
       "       <use xlink:href=\"#ArialMT-33\" x=\"166.845703\"/>\n",
       "      </g>\n",
       "     </g>\n",
       "    </g>\n",
       "    <g id=\"xtick_5\">\n",
       "     <g id=\"line2d_5\">\n",
       "      <path d=\"M 617.402187 284.4 \n",
       "L 617.402187 7.2 \n",
       "\" clip-path=\"url(#p098e990cd9)\" style=\"fill: none; stroke: #cccccc; stroke-width: 2; stroke-linecap: round\"/>\n",
       "     </g>\n",
       "    </g>\n",
       "    <g id=\"xtick_6\"/>\n",
       "    <g id=\"xtick_7\"/>\n",
       "    <g id=\"xtick_8\"/>\n",
       "    <g id=\"xtick_9\"/>\n",
       "    <g id=\"xtick_10\"/>\n",
       "    <g id=\"xtick_11\">\n",
       "     <g id=\"text_5\">\n",
       "      <!-- Jul -->\n",
       "      <g style=\"fill: #262626\" transform=\"translate(118.613821 311.547188)scale(0.22 -0.22)\">\n",
       "       <defs>\n",
       "        <path id=\"ArialMT-75\" d=\"M 2597 0 \n",
       "L 2597 488 \n",
       "Q 2209 -75 1544 -75 \n",
       "Q 1250 -75 995 37 \n",
       "Q 741 150 617 320 \n",
       "Q 494 491 444 738 \n",
       "Q 409 903 409 1263 \n",
       "L 409 3319 \n",
       "L 972 3319 \n",
       "L 972 1478 \n",
       "Q 972 1038 1006 884 \n",
       "Q 1059 663 1231 536 \n",
       "Q 1403 409 1656 409 \n",
       "Q 1909 409 2131 539 \n",
       "Q 2353 669 2445 892 \n",
       "Q 2538 1116 2538 1541 \n",
       "L 2538 3319 \n",
       "L 3100 3319 \n",
       "L 3100 0 \n",
       "L 2597 0 \n",
       "z\n",
       "\" transform=\"scale(0.015625)\"/>\n",
       "        <path id=\"ArialMT-6c\" d=\"M 409 0 \n",
       "L 409 4581 \n",
       "L 972 4581 \n",
       "L 972 0 \n",
       "L 409 0 \n",
       "z\n",
       "\" transform=\"scale(0.015625)\"/>\n",
       "       </defs>\n",
       "       <use xlink:href=\"#ArialMT-4a\"/>\n",
       "       <use xlink:href=\"#ArialMT-75\" x=\"50\"/>\n",
       "       <use xlink:href=\"#ArialMT-6c\" x=\"105.615234\"/>\n",
       "      </g>\n",
       "     </g>\n",
       "    </g>\n",
       "    <g id=\"xtick_12\"/>\n",
       "    <g id=\"xtick_13\"/>\n",
       "    <g id=\"xtick_14\"/>\n",
       "    <g id=\"xtick_15\"/>\n",
       "    <g id=\"xtick_16\"/>\n",
       "    <g id=\"xtick_17\"/>\n",
       "    <g id=\"xtick_18\"/>\n",
       "    <g id=\"xtick_19\"/>\n",
       "    <g id=\"xtick_20\"/>\n",
       "    <g id=\"xtick_21\"/>\n",
       "    <g id=\"xtick_22\">\n",
       "     <g id=\"text_6\">\n",
       "      <!-- Jul -->\n",
       "      <g style=\"fill: #262626\" transform=\"translate(265.159276 311.547188)scale(0.22 -0.22)\">\n",
       "       <use xlink:href=\"#ArialMT-4a\"/>\n",
       "       <use xlink:href=\"#ArialMT-75\" x=\"50\"/>\n",
       "       <use xlink:href=\"#ArialMT-6c\" x=\"105.615234\"/>\n",
       "      </g>\n",
       "     </g>\n",
       "    </g>\n",
       "    <g id=\"xtick_23\"/>\n",
       "    <g id=\"xtick_24\"/>\n",
       "    <g id=\"xtick_25\"/>\n",
       "    <g id=\"xtick_26\"/>\n",
       "    <g id=\"xtick_27\"/>\n",
       "    <g id=\"xtick_28\"/>\n",
       "    <g id=\"xtick_29\"/>\n",
       "    <g id=\"xtick_30\"/>\n",
       "    <g id=\"xtick_31\"/>\n",
       "    <g id=\"xtick_32\"/>\n",
       "    <g id=\"xtick_33\">\n",
       "     <g id=\"text_7\">\n",
       "      <!-- Jul -->\n",
       "      <g style=\"fill: #262626\" transform=\"translate(411.70473 311.547188)scale(0.22 -0.22)\">\n",
       "       <use xlink:href=\"#ArialMT-4a\"/>\n",
       "       <use xlink:href=\"#ArialMT-75\" x=\"50\"/>\n",
       "       <use xlink:href=\"#ArialMT-6c\" x=\"105.615234\"/>\n",
       "      </g>\n",
       "     </g>\n",
       "    </g>\n",
       "    <g id=\"xtick_34\"/>\n",
       "    <g id=\"xtick_35\"/>\n",
       "    <g id=\"xtick_36\"/>\n",
       "    <g id=\"xtick_37\"/>\n",
       "    <g id=\"xtick_38\"/>\n",
       "    <g id=\"xtick_39\"/>\n",
       "    <g id=\"xtick_40\"/>\n",
       "    <g id=\"xtick_41\"/>\n",
       "    <g id=\"xtick_42\"/>\n",
       "    <g id=\"xtick_43\"/>\n",
       "    <g id=\"xtick_44\">\n",
       "     <g id=\"text_8\">\n",
       "      <!-- Jul -->\n",
       "      <g style=\"fill: #262626\" transform=\"translate(558.250185 311.547188)scale(0.22 -0.22)\">\n",
       "       <use xlink:href=\"#ArialMT-4a\"/>\n",
       "       <use xlink:href=\"#ArialMT-75\" x=\"50\"/>\n",
       "       <use xlink:href=\"#ArialMT-6c\" x=\"105.615234\"/>\n",
       "      </g>\n",
       "     </g>\n",
       "    </g>\n",
       "    <g id=\"xtick_45\"/>\n",
       "    <g id=\"xtick_46\"/>\n",
       "    <g id=\"xtick_47\"/>\n",
       "    <g id=\"text_9\">\n",
       "     <!-- date -->\n",
       "     <g style=\"fill: #262626\" transform=\"translate(315.049062 364.467562)scale(0.24 -0.24)\">\n",
       "      <defs>\n",
       "       <path id=\"ArialMT-64\" d=\"M 2575 0 \n",
       "L 2575 419 \n",
       "Q 2259 -75 1647 -75 \n",
       "Q 1250 -75 917 144 \n",
       "Q 584 363 401 755 \n",
       "Q 219 1147 219 1656 \n",
       "Q 219 2153 384 2558 \n",
       "Q 550 2963 881 3178 \n",
       "Q 1213 3394 1622 3394 \n",
       "Q 1922 3394 2156 3267 \n",
       "Q 2391 3141 2538 2938 \n",
       "L 2538 4581 \n",
       "L 3097 4581 \n",
       "L 3097 0 \n",
       "L 2575 0 \n",
       "z\n",
       "M 797 1656 \n",
       "Q 797 1019 1065 703 \n",
       "Q 1334 388 1700 388 \n",
       "Q 2069 388 2326 689 \n",
       "Q 2584 991 2584 1609 \n",
       "Q 2584 2291 2321 2609 \n",
       "Q 2059 2928 1675 2928 \n",
       "Q 1300 2928 1048 2622 \n",
       "Q 797 2316 797 1656 \n",
       "z\n",
       "\" transform=\"scale(0.015625)\"/>\n",
       "       <path id=\"ArialMT-74\" d=\"M 1650 503 \n",
       "L 1731 6 \n",
       "Q 1494 -44 1306 -44 \n",
       "Q 1000 -44 831 53 \n",
       "Q 663 150 594 308 \n",
       "Q 525 466 525 972 \n",
       "L 525 2881 \n",
       "L 113 2881 \n",
       "L 113 3319 \n",
       "L 525 3319 \n",
       "L 525 4141 \n",
       "L 1084 4478 \n",
       "L 1084 3319 \n",
       "L 1650 3319 \n",
       "L 1650 2881 \n",
       "L 1084 2881 \n",
       "L 1084 941 \n",
       "Q 1084 700 1114 631 \n",
       "Q 1144 563 1211 522 \n",
       "Q 1278 481 1403 481 \n",
       "Q 1497 481 1650 503 \n",
       "z\n",
       "\" transform=\"scale(0.015625)\"/>\n",
       "       <path id=\"ArialMT-65\" d=\"M 2694 1069 \n",
       "L 3275 997 \n",
       "Q 3138 488 2766 206 \n",
       "Q 2394 -75 1816 -75 \n",
       "Q 1088 -75 661 373 \n",
       "Q 234 822 234 1631 \n",
       "Q 234 2469 665 2931 \n",
       "Q 1097 3394 1784 3394 \n",
       "Q 2450 3394 2872 2941 \n",
       "Q 3294 2488 3294 1666 \n",
       "Q 3294 1616 3291 1516 \n",
       "L 816 1516 \n",
       "Q 847 969 1125 678 \n",
       "Q 1403 388 1819 388 \n",
       "Q 2128 388 2347 550 \n",
       "Q 2566 713 2694 1069 \n",
       "z\n",
       "M 847 1978 \n",
       "L 2700 1978 \n",
       "Q 2663 2397 2488 2606 \n",
       "Q 2219 2931 1791 2931 \n",
       "Q 1403 2931 1139 2672 \n",
       "Q 875 2413 847 1978 \n",
       "z\n",
       "\" transform=\"scale(0.015625)\"/>\n",
       "      </defs>\n",
       "      <use xlink:href=\"#ArialMT-64\"/>\n",
       "      <use xlink:href=\"#ArialMT-61\" x=\"55.615234\"/>\n",
       "      <use xlink:href=\"#ArialMT-74\" x=\"111.230469\"/>\n",
       "      <use xlink:href=\"#ArialMT-65\" x=\"139.013672\"/>\n",
       "     </g>\n",
       "    </g>\n",
       "   </g>\n",
       "   <g id=\"matplotlib.axis_2\">\n",
       "    <g id=\"ytick_1\">\n",
       "     <g id=\"line2d_6\">\n",
       "      <path d=\"M 59.402187 280.963636 \n",
       "L 617.402187 280.963636 \n",
       "\" clip-path=\"url(#p098e990cd9)\" style=\"fill: none; stroke: #cccccc; stroke-width: 2; stroke-linecap: round\"/>\n",
       "     </g>\n",
       "     <g id=\"text_10\">\n",
       "      <!-- 0 -->\n",
       "      <g style=\"fill: #262626\" transform=\"translate(31.668125 288.83723)scale(0.22 -0.22)\">\n",
       "       <use xlink:href=\"#ArialMT-30\"/>\n",
       "      </g>\n",
       "     </g>\n",
       "    </g>\n",
       "    <g id=\"ytick_2\">\n",
       "     <g id=\"line2d_7\">\n",
       "      <path d=\"M 59.402187 223.690909 \n",
       "L 617.402187 223.690909 \n",
       "\" clip-path=\"url(#p098e990cd9)\" style=\"fill: none; stroke: #cccccc; stroke-width: 2; stroke-linecap: round\"/>\n",
       "     </g>\n",
       "     <g id=\"text_11\">\n",
       "      <!-- 25 -->\n",
       "      <g style=\"fill: #262626\" transform=\"translate(19.434062 231.564503)scale(0.22 -0.22)\">\n",
       "       <defs>\n",
       "        <path id=\"ArialMT-35\" d=\"M 266 1200 \n",
       "L 856 1250 \n",
       "Q 922 819 1161 601 \n",
       "Q 1400 384 1738 384 \n",
       "Q 2144 384 2425 690 \n",
       "Q 2706 997 2706 1503 \n",
       "Q 2706 1984 2436 2262 \n",
       "Q 2166 2541 1728 2541 \n",
       "Q 1456 2541 1237 2417 \n",
       "Q 1019 2294 894 2097 \n",
       "L 366 2166 \n",
       "L 809 4519 \n",
       "L 3088 4519 \n",
       "L 3088 3981 \n",
       "L 1259 3981 \n",
       "L 1013 2750 \n",
       "Q 1425 3038 1878 3038 \n",
       "Q 2478 3038 2890 2622 \n",
       "Q 3303 2206 3303 1553 \n",
       "Q 3303 931 2941 478 \n",
       "Q 2500 -78 1738 -78 \n",
       "Q 1113 -78 717 272 \n",
       "Q 322 622 266 1200 \n",
       "z\n",
       "\" transform=\"scale(0.015625)\"/>\n",
       "       </defs>\n",
       "       <use xlink:href=\"#ArialMT-32\"/>\n",
       "       <use xlink:href=\"#ArialMT-35\" x=\"55.615234\"/>\n",
       "      </g>\n",
       "     </g>\n",
       "    </g>\n",
       "    <g id=\"ytick_3\">\n",
       "     <g id=\"line2d_8\">\n",
       "      <path d=\"M 59.402187 166.418182 \n",
       "L 617.402187 166.418182 \n",
       "\" clip-path=\"url(#p098e990cd9)\" style=\"fill: none; stroke: #cccccc; stroke-width: 2; stroke-linecap: round\"/>\n",
       "     </g>\n",
       "     <g id=\"text_12\">\n",
       "      <!-- 50 -->\n",
       "      <g style=\"fill: #262626\" transform=\"translate(19.434062 174.291776)scale(0.22 -0.22)\">\n",
       "       <use xlink:href=\"#ArialMT-35\"/>\n",
       "       <use xlink:href=\"#ArialMT-30\" x=\"55.615234\"/>\n",
       "      </g>\n",
       "     </g>\n",
       "    </g>\n",
       "    <g id=\"ytick_4\">\n",
       "     <g id=\"line2d_9\">\n",
       "      <path d=\"M 59.402187 109.145455 \n",
       "L 617.402187 109.145455 \n",
       "\" clip-path=\"url(#p098e990cd9)\" style=\"fill: none; stroke: #cccccc; stroke-width: 2; stroke-linecap: round\"/>\n",
       "     </g>\n",
       "     <g id=\"text_13\">\n",
       "      <!-- 75 -->\n",
       "      <g style=\"fill: #262626\" transform=\"translate(19.434062 117.019048)scale(0.22 -0.22)\">\n",
       "       <defs>\n",
       "        <path id=\"ArialMT-37\" d=\"M 303 3981 \n",
       "L 303 4522 \n",
       "L 3269 4522 \n",
       "L 3269 4084 \n",
       "Q 2831 3619 2401 2847 \n",
       "Q 1972 2075 1738 1259 \n",
       "Q 1569 684 1522 0 \n",
       "L 944 0 \n",
       "Q 953 541 1156 1306 \n",
       "Q 1359 2072 1739 2783 \n",
       "Q 2119 3494 2547 3981 \n",
       "L 303 3981 \n",
       "z\n",
       "\" transform=\"scale(0.015625)\"/>\n",
       "       </defs>\n",
       "       <use xlink:href=\"#ArialMT-37\"/>\n",
       "       <use xlink:href=\"#ArialMT-35\" x=\"55.615234\"/>\n",
       "      </g>\n",
       "     </g>\n",
       "    </g>\n",
       "    <g id=\"ytick_5\">\n",
       "     <g id=\"line2d_10\">\n",
       "      <path d=\"M 59.402187 51.872727 \n",
       "L 617.402187 51.872727 \n",
       "\" clip-path=\"url(#p098e990cd9)\" style=\"fill: none; stroke: #cccccc; stroke-width: 2; stroke-linecap: round\"/>\n",
       "     </g>\n",
       "     <g id=\"text_14\">\n",
       "      <!-- 100 -->\n",
       "      <g style=\"fill: #262626\" transform=\"translate(7.2 59.746321)scale(0.22 -0.22)\">\n",
       "       <use xlink:href=\"#ArialMT-31\"/>\n",
       "       <use xlink:href=\"#ArialMT-30\" x=\"55.615234\"/>\n",
       "       <use xlink:href=\"#ArialMT-30\" x=\"111.230469\"/>\n",
       "      </g>\n",
       "     </g>\n",
       "    </g>\n",
       "   </g>\n",
       "   <g id=\"line2d_11\">\n",
       "    <path d=\"M 59.402187 260.345455 \n",
       "L 65.038551 83.945455 \n",
       "L 70.674915 180.163636 \n",
       "L 76.311278 148.090909 \n",
       "L 81.947642 116.018182 \n",
       "L 87.584006 207.654545 \n",
       "L 93.220369 271.8 \n",
       "L 98.856733 255.763636 \n",
       "L 104.493097 152.672727 \n",
       "L 110.12946 214.527273 \n",
       "L 115.765824 205.363636 \n",
       "L 121.402187 164.127273 \n",
       "L 127.038551 148.090909 \n",
       "L 132.674915 150.381818 \n",
       "L 138.311278 161.836364 \n",
       "L 143.947642 136.636364 \n",
       "L 149.584006 159.545455 \n",
       "L 155.220369 184.745455 \n",
       "L 160.856733 258.054545 \n",
       "L 166.493097 193.909091 \n",
       "L 172.12946 228.272727 \n",
       "L 177.765824 154.963636 \n",
       "L 183.402187 193.909091 \n",
       "L 189.038551 187.036364 \n",
       "L 194.674915 205.363636 \n",
       "L 200.311278 132.054545 \n",
       "L 205.947642 129.763636 \n",
       "L 211.584006 152.672727 \n",
       "L 217.220369 196.2 \n",
       "L 222.856733 193.909091 \n",
       "L 228.493097 230.563636 \n",
       "L 234.12946 193.909091 \n",
       "L 239.765824 228.272727 \n",
       "L 245.402187 235.145455 \n",
       "L 251.038551 219.109091 \n",
       "L 256.674915 171 \n",
       "L 262.311278 157.254545 \n",
       "L 267.947642 125.181818 \n",
       "L 273.584006 189.327273 \n",
       "L 279.220369 164.127273 \n",
       "L 284.856733 145.8 \n",
       "L 290.493097 182.454545 \n",
       "L 296.12946 171 \n",
       "L 301.765824 168.709091 \n",
       "L 307.402187 191.618182 \n",
       "L 313.038551 191.618182 \n",
       "L 318.674915 171 \n",
       "L 324.311278 161.836364 \n",
       "L 329.947642 150.381818 \n",
       "L 335.584006 177.872727 \n",
       "L 341.220369 148.090909 \n",
       "L 346.856733 145.8 \n",
       "L 352.493097 182.454545 \n",
       "L 358.12946 184.745455 \n",
       "L 363.765824 184.745455 \n",
       "L 369.402187 159.545455 \n",
       "L 375.038551 168.709091 \n",
       "L 380.674915 152.672727 \n",
       "L 386.311278 157.254545 \n",
       "L 391.947642 152.672727 \n",
       "L 397.584006 49.581818 \n",
       "L 403.220369 19.8 \n",
       "L 408.856733 125.181818 \n",
       "L 414.493097 184.745455 \n",
       "L 420.12946 221.4 \n",
       "L 425.765824 180.163636 \n",
       "L 431.402187 93.109091 \n",
       "L 437.038551 129.763636 \n",
       "L 442.674915 134.345455 \n",
       "L 448.311278 120.6 \n",
       "L 453.947642 83.945455 \n",
       "L 459.584006 159.545455 \n",
       "L 465.220369 113.727273 \n",
       "L 470.856733 116.018182 \n",
       "L 476.493097 104.563636 \n",
       "L 482.12946 157.254545 \n",
       "L 487.765824 193.909091 \n",
       "L 493.402187 106.854545 \n",
       "L 499.038551 26.672727 \n",
       "L 504.674915 26.672727 \n",
       "L 510.311278 67.909091 \n",
       "L 515.947642 171 \n",
       "L 521.584006 125.181818 \n",
       "L 527.220369 104.563636 \n",
       "L 532.856733 129.763636 \n",
       "L 538.493097 159.545455 \n",
       "L 544.12946 198.490909 \n",
       "L 549.765824 198.490909 \n",
       "L 555.402187 72.490909 \n",
       "L 561.038551 138.927273 \n",
       "L 566.674915 90.818182 \n",
       "L 572.311278 184.745455 \n",
       "L 577.947642 232.854545 \n",
       "L 583.584006 244.309091 \n",
       "L 589.220369 189.327273 \n",
       "L 594.856733 214.527273 \n",
       "L 600.493097 200.781818 \n",
       "L 606.12946 120.6 \n",
       "L 611.765824 127.472727 \n",
       "L 617.402187 221.4 \n",
       "\" clip-path=\"url(#p098e990cd9)\" style=\"fill: none; stroke: #1f77b4; stroke-width: 3; stroke-linecap: round\"/>\n",
       "   </g>\n",
       "   <g id=\"patch_3\">\n",
       "    <path d=\"M 59.402187 284.4 \n",
       "L 59.402187 7.2 \n",
       "\" style=\"fill: none; stroke: #cccccc; stroke-width: 2.5; stroke-linejoin: miter; stroke-linecap: square\"/>\n",
       "   </g>\n",
       "   <g id=\"patch_4\">\n",
       "    <path d=\"M 617.402187 284.4 \n",
       "L 617.402187 7.2 \n",
       "\" style=\"fill: none; stroke: #cccccc; stroke-width: 2.5; stroke-linejoin: miter; stroke-linecap: square\"/>\n",
       "   </g>\n",
       "   <g id=\"patch_5\">\n",
       "    <path d=\"M 59.402187 284.4 \n",
       "L 617.402187 284.4 \n",
       "\" style=\"fill: none; stroke: #cccccc; stroke-width: 2.5; stroke-linejoin: miter; stroke-linecap: square\"/>\n",
       "   </g>\n",
       "   <g id=\"patch_6\">\n",
       "    <path d=\"M 59.402187 7.2 \n",
       "L 617.402187 7.2 \n",
       "\" style=\"fill: none; stroke: #cccccc; stroke-width: 2.5; stroke-linejoin: miter; stroke-linecap: square\"/>\n",
       "   </g>\n",
       "  </g>\n",
       " </g>\n",
       " <defs>\n",
       "  <clipPath id=\"p098e990cd9\">\n",
       "   <rect x=\"59.402187\" y=\"7.2\" width=\"558\" height=\"277.2\"/>\n",
       "  </clipPath>\n",
       " </defs>\n",
       "</svg>\n"
      ],
      "text/plain": [
       "<Figure size 1000x500 with 1 Axes>"
      ]
     },
     "metadata": {},
     "output_type": "display_data"
    }
   ],
   "source": [
    "(insp.resample('2W', on='date')\n",
    " .size()\n",
    " .plot()\n",
    ");"
   ]
  },
  {
   "cell_type": "markdown",
   "id": "622796b4",
   "metadata": {
    "slideshow": {
     "slide_type": "slide"
    }
   },
   "source": [
    "### The `.dt` accessor\n",
    "\n",
    "- Like with Series of strings, `pandas` has a `.dt` accessor for properties of Timestamps.\n",
    "- https://pandas.pydata.org/docs/user_guide/basics.html#basics-dt-accessors"
   ]
  },
  {
   "cell_type": "code",
   "execution_count": 72,
   "id": "14818dc0",
   "metadata": {
    "slideshow": {
     "slide_type": ""
    }
   },
   "outputs": [
    {
     "data": {
      "text/plain": [
       "0       16\n",
       "1        3\n",
       "2        3\n",
       "3       20\n",
       "        ..\n",
       "5175    14\n",
       "5176     6\n",
       "5177     9\n",
       "5178    30\n",
       "Name: date, Length: 5179, dtype: int64"
      ]
     },
     "execution_count": 72,
     "metadata": {},
     "output_type": "execute_result"
    }
   ],
   "source": [
    "insp['date'].dt.day"
   ]
  },
  {
   "cell_type": "code",
   "execution_count": 73,
   "id": "71848903",
   "metadata": {
    "slideshow": {
     "slide_type": ""
    }
   },
   "outputs": [
    {
     "data": {
      "text/plain": [
       "0       3\n",
       "1       0\n",
       "2       3\n",
       "3       2\n",
       "       ..\n",
       "5175    3\n",
       "5176    0\n",
       "5177    4\n",
       "5178    2\n",
       "Name: date, Length: 5179, dtype: int64"
      ]
     },
     "execution_count": 73,
     "metadata": {},
     "output_type": "execute_result"
    }
   ],
   "source": [
    "insp['date'].dt.dayofweek"
   ]
  },
  {
   "cell_type": "code",
   "execution_count": 74,
   "id": "6b6ae178",
   "metadata": {
    "slideshow": {
     "slide_type": ""
    }
   },
   "outputs": [
    {
     "data": {
      "application/vnd.plotly.v1+json": {
       "config": {
        "plotlyServerURL": "https://plot.ly"
       },
       "data": [
        {
         "alignmentgroup": "True",
         "hovertemplate": "variable=0<br>dow=%{x}<br>value=%{y}<extra></extra>",
         "legendgroup": "0",
         "marker": {
          "color": "#1F77B4",
          "pattern": {
           "shape": ""
          }
         },
         "name": "0",
         "offsetgroup": "0",
         "orientation": "v",
         "showlegend": true,
         "textposition": "auto",
         "type": "bar",
         "x": [
          0,
          1,
          2,
          3,
          4,
          5,
          6
         ],
         "xaxis": "x",
         "y": [
          793,
          1277,
          1185,
          1018,
          892,
          12,
          2
         ],
         "yaxis": "y"
        }
       ],
       "layout": {
        "barmode": "relative",
        "legend": {
         "title": {
          "text": "variable"
         },
         "tracegroupgap": 0
        },
        "template": {
         "data": {
          "bar": [
           {
            "error_x": {
             "color": "rgb(36,36,36)"
            },
            "error_y": {
             "color": "rgb(36,36,36)"
            },
            "marker": {
             "line": {
              "color": "white",
              "width": 0.5
             },
             "pattern": {
              "fillmode": "overlay",
              "size": 10,
              "solidity": 0.2
             }
            },
            "type": "bar"
           }
          ],
          "barpolar": [
           {
            "marker": {
             "line": {
              "color": "white",
              "width": 0.5
             },
             "pattern": {
              "fillmode": "overlay",
              "size": 10,
              "solidity": 0.2
             }
            },
            "type": "barpolar"
           }
          ],
          "carpet": [
           {
            "aaxis": {
             "endlinecolor": "rgb(36,36,36)",
             "gridcolor": "white",
             "linecolor": "white",
             "minorgridcolor": "white",
             "startlinecolor": "rgb(36,36,36)"
            },
            "baxis": {
             "endlinecolor": "rgb(36,36,36)",
             "gridcolor": "white",
             "linecolor": "white",
             "minorgridcolor": "white",
             "startlinecolor": "rgb(36,36,36)"
            },
            "type": "carpet"
           }
          ],
          "choropleth": [
           {
            "colorbar": {
             "outlinewidth": 1,
             "tickcolor": "rgb(36,36,36)",
             "ticks": "outside"
            },
            "type": "choropleth"
           }
          ],
          "contour": [
           {
            "colorbar": {
             "outlinewidth": 1,
             "tickcolor": "rgb(36,36,36)",
             "ticks": "outside"
            },
            "colorscale": [
             [
              0,
              "#440154"
             ],
             [
              0.1111111111111111,
              "#482878"
             ],
             [
              0.2222222222222222,
              "#3e4989"
             ],
             [
              0.3333333333333333,
              "#31688e"
             ],
             [
              0.4444444444444444,
              "#26828e"
             ],
             [
              0.5555555555555556,
              "#1f9e89"
             ],
             [
              0.6666666666666666,
              "#35b779"
             ],
             [
              0.7777777777777778,
              "#6ece58"
             ],
             [
              0.8888888888888888,
              "#b5de2b"
             ],
             [
              1,
              "#fde725"
             ]
            ],
            "type": "contour"
           }
          ],
          "contourcarpet": [
           {
            "colorbar": {
             "outlinewidth": 1,
             "tickcolor": "rgb(36,36,36)",
             "ticks": "outside"
            },
            "type": "contourcarpet"
           }
          ],
          "heatmap": [
           {
            "colorbar": {
             "outlinewidth": 1,
             "tickcolor": "rgb(36,36,36)",
             "ticks": "outside"
            },
            "colorscale": [
             [
              0,
              "#440154"
             ],
             [
              0.1111111111111111,
              "#482878"
             ],
             [
              0.2222222222222222,
              "#3e4989"
             ],
             [
              0.3333333333333333,
              "#31688e"
             ],
             [
              0.4444444444444444,
              "#26828e"
             ],
             [
              0.5555555555555556,
              "#1f9e89"
             ],
             [
              0.6666666666666666,
              "#35b779"
             ],
             [
              0.7777777777777778,
              "#6ece58"
             ],
             [
              0.8888888888888888,
              "#b5de2b"
             ],
             [
              1,
              "#fde725"
             ]
            ],
            "type": "heatmap"
           }
          ],
          "heatmapgl": [
           {
            "colorbar": {
             "outlinewidth": 1,
             "tickcolor": "rgb(36,36,36)",
             "ticks": "outside"
            },
            "colorscale": [
             [
              0,
              "#440154"
             ],
             [
              0.1111111111111111,
              "#482878"
             ],
             [
              0.2222222222222222,
              "#3e4989"
             ],
             [
              0.3333333333333333,
              "#31688e"
             ],
             [
              0.4444444444444444,
              "#26828e"
             ],
             [
              0.5555555555555556,
              "#1f9e89"
             ],
             [
              0.6666666666666666,
              "#35b779"
             ],
             [
              0.7777777777777778,
              "#6ece58"
             ],
             [
              0.8888888888888888,
              "#b5de2b"
             ],
             [
              1,
              "#fde725"
             ]
            ],
            "type": "heatmapgl"
           }
          ],
          "histogram": [
           {
            "marker": {
             "line": {
              "color": "white",
              "width": 0.6
             }
            },
            "type": "histogram"
           }
          ],
          "histogram2d": [
           {
            "colorbar": {
             "outlinewidth": 1,
             "tickcolor": "rgb(36,36,36)",
             "ticks": "outside"
            },
            "colorscale": [
             [
              0,
              "#440154"
             ],
             [
              0.1111111111111111,
              "#482878"
             ],
             [
              0.2222222222222222,
              "#3e4989"
             ],
             [
              0.3333333333333333,
              "#31688e"
             ],
             [
              0.4444444444444444,
              "#26828e"
             ],
             [
              0.5555555555555556,
              "#1f9e89"
             ],
             [
              0.6666666666666666,
              "#35b779"
             ],
             [
              0.7777777777777778,
              "#6ece58"
             ],
             [
              0.8888888888888888,
              "#b5de2b"
             ],
             [
              1,
              "#fde725"
             ]
            ],
            "type": "histogram2d"
           }
          ],
          "histogram2dcontour": [
           {
            "colorbar": {
             "outlinewidth": 1,
             "tickcolor": "rgb(36,36,36)",
             "ticks": "outside"
            },
            "colorscale": [
             [
              0,
              "#440154"
             ],
             [
              0.1111111111111111,
              "#482878"
             ],
             [
              0.2222222222222222,
              "#3e4989"
             ],
             [
              0.3333333333333333,
              "#31688e"
             ],
             [
              0.4444444444444444,
              "#26828e"
             ],
             [
              0.5555555555555556,
              "#1f9e89"
             ],
             [
              0.6666666666666666,
              "#35b779"
             ],
             [
              0.7777777777777778,
              "#6ece58"
             ],
             [
              0.8888888888888888,
              "#b5de2b"
             ],
             [
              1,
              "#fde725"
             ]
            ],
            "type": "histogram2dcontour"
           }
          ],
          "mesh3d": [
           {
            "colorbar": {
             "outlinewidth": 1,
             "tickcolor": "rgb(36,36,36)",
             "ticks": "outside"
            },
            "type": "mesh3d"
           }
          ],
          "parcoords": [
           {
            "line": {
             "colorbar": {
              "outlinewidth": 1,
              "tickcolor": "rgb(36,36,36)",
              "ticks": "outside"
             }
            },
            "type": "parcoords"
           }
          ],
          "pie": [
           {
            "automargin": true,
            "type": "pie"
           }
          ],
          "scatter": [
           {
            "fillpattern": {
             "fillmode": "overlay",
             "size": 10,
             "solidity": 0.2
            },
            "type": "scatter"
           }
          ],
          "scatter3d": [
           {
            "line": {
             "colorbar": {
              "outlinewidth": 1,
              "tickcolor": "rgb(36,36,36)",
              "ticks": "outside"
             }
            },
            "marker": {
             "colorbar": {
              "outlinewidth": 1,
              "tickcolor": "rgb(36,36,36)",
              "ticks": "outside"
             }
            },
            "type": "scatter3d"
           }
          ],
          "scattercarpet": [
           {
            "marker": {
             "colorbar": {
              "outlinewidth": 1,
              "tickcolor": "rgb(36,36,36)",
              "ticks": "outside"
             }
            },
            "type": "scattercarpet"
           }
          ],
          "scattergeo": [
           {
            "marker": {
             "colorbar": {
              "outlinewidth": 1,
              "tickcolor": "rgb(36,36,36)",
              "ticks": "outside"
             }
            },
            "type": "scattergeo"
           }
          ],
          "scattergl": [
           {
            "marker": {
             "colorbar": {
              "outlinewidth": 1,
              "tickcolor": "rgb(36,36,36)",
              "ticks": "outside"
             }
            },
            "type": "scattergl"
           }
          ],
          "scattermapbox": [
           {
            "marker": {
             "colorbar": {
              "outlinewidth": 1,
              "tickcolor": "rgb(36,36,36)",
              "ticks": "outside"
             }
            },
            "type": "scattermapbox"
           }
          ],
          "scatterpolar": [
           {
            "marker": {
             "colorbar": {
              "outlinewidth": 1,
              "tickcolor": "rgb(36,36,36)",
              "ticks": "outside"
             }
            },
            "type": "scatterpolar"
           }
          ],
          "scatterpolargl": [
           {
            "marker": {
             "colorbar": {
              "outlinewidth": 1,
              "tickcolor": "rgb(36,36,36)",
              "ticks": "outside"
             }
            },
            "type": "scatterpolargl"
           }
          ],
          "scatterternary": [
           {
            "marker": {
             "colorbar": {
              "outlinewidth": 1,
              "tickcolor": "rgb(36,36,36)",
              "ticks": "outside"
             }
            },
            "type": "scatterternary"
           }
          ],
          "surface": [
           {
            "colorbar": {
             "outlinewidth": 1,
             "tickcolor": "rgb(36,36,36)",
             "ticks": "outside"
            },
            "colorscale": [
             [
              0,
              "#440154"
             ],
             [
              0.1111111111111111,
              "#482878"
             ],
             [
              0.2222222222222222,
              "#3e4989"
             ],
             [
              0.3333333333333333,
              "#31688e"
             ],
             [
              0.4444444444444444,
              "#26828e"
             ],
             [
              0.5555555555555556,
              "#1f9e89"
             ],
             [
              0.6666666666666666,
              "#35b779"
             ],
             [
              0.7777777777777778,
              "#6ece58"
             ],
             [
              0.8888888888888888,
              "#b5de2b"
             ],
             [
              1,
              "#fde725"
             ]
            ],
            "type": "surface"
           }
          ],
          "table": [
           {
            "cells": {
             "fill": {
              "color": "rgb(237,237,237)"
             },
             "line": {
              "color": "white"
             }
            },
            "header": {
             "fill": {
              "color": "rgb(217,217,217)"
             },
             "line": {
              "color": "white"
             }
            },
            "type": "table"
           }
          ]
         },
         "layout": {
          "annotationdefaults": {
           "arrowhead": 0,
           "arrowwidth": 1
          },
          "autosize": true,
          "autotypenumbers": "strict",
          "coloraxis": {
           "colorbar": {
            "outlinewidth": 1,
            "tickcolor": "rgb(36,36,36)",
            "ticks": "outside"
           }
          },
          "colorscale": {
           "diverging": [
            [
             0,
             "rgb(103,0,31)"
            ],
            [
             0.1,
             "rgb(178,24,43)"
            ],
            [
             0.2,
             "rgb(214,96,77)"
            ],
            [
             0.3,
             "rgb(244,165,130)"
            ],
            [
             0.4,
             "rgb(253,219,199)"
            ],
            [
             0.5,
             "rgb(247,247,247)"
            ],
            [
             0.6,
             "rgb(209,229,240)"
            ],
            [
             0.7,
             "rgb(146,197,222)"
            ],
            [
             0.8,
             "rgb(67,147,195)"
            ],
            [
             0.9,
             "rgb(33,102,172)"
            ],
            [
             1,
             "rgb(5,48,97)"
            ]
           ],
           "sequential": [
            [
             0,
             "#440154"
            ],
            [
             0.1111111111111111,
             "#482878"
            ],
            [
             0.2222222222222222,
             "#3e4989"
            ],
            [
             0.3333333333333333,
             "#31688e"
            ],
            [
             0.4444444444444444,
             "#26828e"
            ],
            [
             0.5555555555555556,
             "#1f9e89"
            ],
            [
             0.6666666666666666,
             "#35b779"
            ],
            [
             0.7777777777777778,
             "#6ece58"
            ],
            [
             0.8888888888888888,
             "#b5de2b"
            ],
            [
             1,
             "#fde725"
            ]
           ],
           "sequentialminus": [
            [
             0,
             "#440154"
            ],
            [
             0.1111111111111111,
             "#482878"
            ],
            [
             0.2222222222222222,
             "#3e4989"
            ],
            [
             0.3333333333333333,
             "#31688e"
            ],
            [
             0.4444444444444444,
             "#26828e"
            ],
            [
             0.5555555555555556,
             "#1f9e89"
            ],
            [
             0.6666666666666666,
             "#35b779"
            ],
            [
             0.7777777777777778,
             "#6ece58"
            ],
            [
             0.8888888888888888,
             "#b5de2b"
            ],
            [
             1,
             "#fde725"
            ]
           ]
          },
          "colorway": [
           "#1F77B4",
           "#FF7F0E",
           "#2CA02C",
           "#D62728",
           "#9467BD",
           "#8C564B",
           "#E377C2",
           "#7F7F7F",
           "#BCBD22",
           "#17BECF"
          ],
          "font": {
           "color": "rgb(36,36,36)"
          },
          "geo": {
           "bgcolor": "white",
           "lakecolor": "white",
           "landcolor": "white",
           "showlakes": true,
           "showland": true,
           "subunitcolor": "white"
          },
          "height": 400,
          "hoverlabel": {
           "align": "left"
          },
          "hovermode": "closest",
          "mapbox": {
           "style": "light"
          },
          "margin": {
           "b": 30,
           "l": 30,
           "r": 30,
           "t": 30
          },
          "paper_bgcolor": "white",
          "plot_bgcolor": "white",
          "polar": {
           "angularaxis": {
            "gridcolor": "rgb(232,232,232)",
            "linecolor": "rgb(36,36,36)",
            "showgrid": false,
            "showline": true,
            "ticks": "outside"
           },
           "bgcolor": "white",
           "radialaxis": {
            "gridcolor": "rgb(232,232,232)",
            "linecolor": "rgb(36,36,36)",
            "showgrid": false,
            "showline": true,
            "ticks": "outside"
           }
          },
          "scene": {
           "xaxis": {
            "backgroundcolor": "white",
            "gridcolor": "rgb(232,232,232)",
            "gridwidth": 2,
            "linecolor": "rgb(36,36,36)",
            "showbackground": true,
            "showgrid": false,
            "showline": true,
            "ticks": "outside",
            "zeroline": false,
            "zerolinecolor": "rgb(36,36,36)"
           },
           "yaxis": {
            "backgroundcolor": "white",
            "gridcolor": "rgb(232,232,232)",
            "gridwidth": 2,
            "linecolor": "rgb(36,36,36)",
            "showbackground": true,
            "showgrid": false,
            "showline": true,
            "ticks": "outside",
            "zeroline": false,
            "zerolinecolor": "rgb(36,36,36)"
           },
           "zaxis": {
            "backgroundcolor": "white",
            "gridcolor": "rgb(232,232,232)",
            "gridwidth": 2,
            "linecolor": "rgb(36,36,36)",
            "showbackground": true,
            "showgrid": false,
            "showline": true,
            "ticks": "outside",
            "zeroline": false,
            "zerolinecolor": "rgb(36,36,36)"
           }
          },
          "shapedefaults": {
           "fillcolor": "black",
           "line": {
            "width": 0
           },
           "opacity": 0.3
          },
          "ternary": {
           "aaxis": {
            "gridcolor": "rgb(232,232,232)",
            "linecolor": "rgb(36,36,36)",
            "showgrid": false,
            "showline": true,
            "ticks": "outside"
           },
           "baxis": {
            "gridcolor": "rgb(232,232,232)",
            "linecolor": "rgb(36,36,36)",
            "showgrid": false,
            "showline": true,
            "ticks": "outside"
           },
           "bgcolor": "white",
           "caxis": {
            "gridcolor": "rgb(232,232,232)",
            "linecolor": "rgb(36,36,36)",
            "showgrid": false,
            "showline": true,
            "ticks": "outside"
           }
          },
          "title": {
           "x": 0.5,
           "xanchor": "center"
          },
          "width": 600,
          "xaxis": {
           "automargin": true,
           "gridcolor": "rgb(232,232,232)",
           "linecolor": "rgb(36,36,36)",
           "showgrid": true,
           "showline": true,
           "ticks": "outside",
           "title": {
            "standoff": 15
           },
           "zeroline": false,
           "zerolinecolor": "rgb(36,36,36)"
          },
          "yaxis": {
           "automargin": true,
           "gridcolor": "rgb(232,232,232)",
           "linecolor": "rgb(36,36,36)",
           "showgrid": true,
           "showline": true,
           "ticks": "outside",
           "title": {
            "standoff": 15
           },
           "zeroline": false,
           "zerolinecolor": "rgb(36,36,36)"
          }
         }
        },
        "xaxis": {
         "anchor": "y",
         "domain": [
          0,
          1
         ],
         "title": {
          "text": "dow"
         }
        },
        "yaxis": {
         "anchor": "x",
         "domain": [
          0,
          1
         ],
         "title": {
          "text": "value"
         }
        }
       }
      },
      "text/html": [
       "<div>                            <div id=\"1fef9d2b-96e6-45c8-b221-6f8c0eb604ea\" class=\"plotly-graph-div\" style=\"height:400px; width:600px;\"></div>            <script type=\"text/javascript\">                require([\"plotly\"], function(Plotly) {                    window.PLOTLYENV=window.PLOTLYENV || {};                                    if (document.getElementById(\"1fef9d2b-96e6-45c8-b221-6f8c0eb604ea\")) {                    Plotly.newPlot(                        \"1fef9d2b-96e6-45c8-b221-6f8c0eb604ea\",                        [{\"alignmentgroup\":\"True\",\"hovertemplate\":\"variable=0\\u003cbr\\u003edow=%{x}\\u003cbr\\u003evalue=%{y}\\u003cextra\\u003e\\u003c\\u002fextra\\u003e\",\"legendgroup\":\"0\",\"marker\":{\"color\":\"#1F77B4\",\"pattern\":{\"shape\":\"\"}},\"name\":\"0\",\"offsetgroup\":\"0\",\"orientation\":\"v\",\"showlegend\":true,\"textposition\":\"auto\",\"x\":[0,1,2,3,4,5,6],\"xaxis\":\"x\",\"y\":[793,1277,1185,1018,892,12,2],\"yaxis\":\"y\",\"type\":\"bar\"}],                        {\"template\":{\"data\":{\"barpolar\":[{\"marker\":{\"line\":{\"color\":\"white\",\"width\":0.5},\"pattern\":{\"fillmode\":\"overlay\",\"size\":10,\"solidity\":0.2}},\"type\":\"barpolar\"}],\"bar\":[{\"error_x\":{\"color\":\"rgb(36,36,36)\"},\"error_y\":{\"color\":\"rgb(36,36,36)\"},\"marker\":{\"line\":{\"color\":\"white\",\"width\":0.5},\"pattern\":{\"fillmode\":\"overlay\",\"size\":10,\"solidity\":0.2}},\"type\":\"bar\"}],\"carpet\":[{\"aaxis\":{\"endlinecolor\":\"rgb(36,36,36)\",\"gridcolor\":\"white\",\"linecolor\":\"white\",\"minorgridcolor\":\"white\",\"startlinecolor\":\"rgb(36,36,36)\"},\"baxis\":{\"endlinecolor\":\"rgb(36,36,36)\",\"gridcolor\":\"white\",\"linecolor\":\"white\",\"minorgridcolor\":\"white\",\"startlinecolor\":\"rgb(36,36,36)\"},\"type\":\"carpet\"}],\"choropleth\":[{\"colorbar\":{\"outlinewidth\":1,\"tickcolor\":\"rgb(36,36,36)\",\"ticks\":\"outside\"},\"type\":\"choropleth\"}],\"contourcarpet\":[{\"colorbar\":{\"outlinewidth\":1,\"tickcolor\":\"rgb(36,36,36)\",\"ticks\":\"outside\"},\"type\":\"contourcarpet\"}],\"contour\":[{\"colorbar\":{\"outlinewidth\":1,\"tickcolor\":\"rgb(36,36,36)\",\"ticks\":\"outside\"},\"colorscale\":[[0.0,\"#440154\"],[0.1111111111111111,\"#482878\"],[0.2222222222222222,\"#3e4989\"],[0.3333333333333333,\"#31688e\"],[0.4444444444444444,\"#26828e\"],[0.5555555555555556,\"#1f9e89\"],[0.6666666666666666,\"#35b779\"],[0.7777777777777778,\"#6ece58\"],[0.8888888888888888,\"#b5de2b\"],[1.0,\"#fde725\"]],\"type\":\"contour\"}],\"heatmapgl\":[{\"colorbar\":{\"outlinewidth\":1,\"tickcolor\":\"rgb(36,36,36)\",\"ticks\":\"outside\"},\"colorscale\":[[0.0,\"#440154\"],[0.1111111111111111,\"#482878\"],[0.2222222222222222,\"#3e4989\"],[0.3333333333333333,\"#31688e\"],[0.4444444444444444,\"#26828e\"],[0.5555555555555556,\"#1f9e89\"],[0.6666666666666666,\"#35b779\"],[0.7777777777777778,\"#6ece58\"],[0.8888888888888888,\"#b5de2b\"],[1.0,\"#fde725\"]],\"type\":\"heatmapgl\"}],\"heatmap\":[{\"colorbar\":{\"outlinewidth\":1,\"tickcolor\":\"rgb(36,36,36)\",\"ticks\":\"outside\"},\"colorscale\":[[0.0,\"#440154\"],[0.1111111111111111,\"#482878\"],[0.2222222222222222,\"#3e4989\"],[0.3333333333333333,\"#31688e\"],[0.4444444444444444,\"#26828e\"],[0.5555555555555556,\"#1f9e89\"],[0.6666666666666666,\"#35b779\"],[0.7777777777777778,\"#6ece58\"],[0.8888888888888888,\"#b5de2b\"],[1.0,\"#fde725\"]],\"type\":\"heatmap\"}],\"histogram2dcontour\":[{\"colorbar\":{\"outlinewidth\":1,\"tickcolor\":\"rgb(36,36,36)\",\"ticks\":\"outside\"},\"colorscale\":[[0.0,\"#440154\"],[0.1111111111111111,\"#482878\"],[0.2222222222222222,\"#3e4989\"],[0.3333333333333333,\"#31688e\"],[0.4444444444444444,\"#26828e\"],[0.5555555555555556,\"#1f9e89\"],[0.6666666666666666,\"#35b779\"],[0.7777777777777778,\"#6ece58\"],[0.8888888888888888,\"#b5de2b\"],[1.0,\"#fde725\"]],\"type\":\"histogram2dcontour\"}],\"histogram2d\":[{\"colorbar\":{\"outlinewidth\":1,\"tickcolor\":\"rgb(36,36,36)\",\"ticks\":\"outside\"},\"colorscale\":[[0.0,\"#440154\"],[0.1111111111111111,\"#482878\"],[0.2222222222222222,\"#3e4989\"],[0.3333333333333333,\"#31688e\"],[0.4444444444444444,\"#26828e\"],[0.5555555555555556,\"#1f9e89\"],[0.6666666666666666,\"#35b779\"],[0.7777777777777778,\"#6ece58\"],[0.8888888888888888,\"#b5de2b\"],[1.0,\"#fde725\"]],\"type\":\"histogram2d\"}],\"histogram\":[{\"marker\":{\"line\":{\"color\":\"white\",\"width\":0.6}},\"type\":\"histogram\"}],\"mesh3d\":[{\"colorbar\":{\"outlinewidth\":1,\"tickcolor\":\"rgb(36,36,36)\",\"ticks\":\"outside\"},\"type\":\"mesh3d\"}],\"parcoords\":[{\"line\":{\"colorbar\":{\"outlinewidth\":1,\"tickcolor\":\"rgb(36,36,36)\",\"ticks\":\"outside\"}},\"type\":\"parcoords\"}],\"pie\":[{\"automargin\":true,\"type\":\"pie\"}],\"scatter3d\":[{\"line\":{\"colorbar\":{\"outlinewidth\":1,\"tickcolor\":\"rgb(36,36,36)\",\"ticks\":\"outside\"}},\"marker\":{\"colorbar\":{\"outlinewidth\":1,\"tickcolor\":\"rgb(36,36,36)\",\"ticks\":\"outside\"}},\"type\":\"scatter3d\"}],\"scattercarpet\":[{\"marker\":{\"colorbar\":{\"outlinewidth\":1,\"tickcolor\":\"rgb(36,36,36)\",\"ticks\":\"outside\"}},\"type\":\"scattercarpet\"}],\"scattergeo\":[{\"marker\":{\"colorbar\":{\"outlinewidth\":1,\"tickcolor\":\"rgb(36,36,36)\",\"ticks\":\"outside\"}},\"type\":\"scattergeo\"}],\"scattergl\":[{\"marker\":{\"colorbar\":{\"outlinewidth\":1,\"tickcolor\":\"rgb(36,36,36)\",\"ticks\":\"outside\"}},\"type\":\"scattergl\"}],\"scattermapbox\":[{\"marker\":{\"colorbar\":{\"outlinewidth\":1,\"tickcolor\":\"rgb(36,36,36)\",\"ticks\":\"outside\"}},\"type\":\"scattermapbox\"}],\"scatterpolargl\":[{\"marker\":{\"colorbar\":{\"outlinewidth\":1,\"tickcolor\":\"rgb(36,36,36)\",\"ticks\":\"outside\"}},\"type\":\"scatterpolargl\"}],\"scatterpolar\":[{\"marker\":{\"colorbar\":{\"outlinewidth\":1,\"tickcolor\":\"rgb(36,36,36)\",\"ticks\":\"outside\"}},\"type\":\"scatterpolar\"}],\"scatter\":[{\"fillpattern\":{\"fillmode\":\"overlay\",\"size\":10,\"solidity\":0.2},\"type\":\"scatter\"}],\"scatterternary\":[{\"marker\":{\"colorbar\":{\"outlinewidth\":1,\"tickcolor\":\"rgb(36,36,36)\",\"ticks\":\"outside\"}},\"type\":\"scatterternary\"}],\"surface\":[{\"colorbar\":{\"outlinewidth\":1,\"tickcolor\":\"rgb(36,36,36)\",\"ticks\":\"outside\"},\"colorscale\":[[0.0,\"#440154\"],[0.1111111111111111,\"#482878\"],[0.2222222222222222,\"#3e4989\"],[0.3333333333333333,\"#31688e\"],[0.4444444444444444,\"#26828e\"],[0.5555555555555556,\"#1f9e89\"],[0.6666666666666666,\"#35b779\"],[0.7777777777777778,\"#6ece58\"],[0.8888888888888888,\"#b5de2b\"],[1.0,\"#fde725\"]],\"type\":\"surface\"}],\"table\":[{\"cells\":{\"fill\":{\"color\":\"rgb(237,237,237)\"},\"line\":{\"color\":\"white\"}},\"header\":{\"fill\":{\"color\":\"rgb(217,217,217)\"},\"line\":{\"color\":\"white\"}},\"type\":\"table\"}]},\"layout\":{\"annotationdefaults\":{\"arrowhead\":0,\"arrowwidth\":1},\"autotypenumbers\":\"strict\",\"coloraxis\":{\"colorbar\":{\"outlinewidth\":1,\"tickcolor\":\"rgb(36,36,36)\",\"ticks\":\"outside\"}},\"colorscale\":{\"diverging\":[[0.0,\"rgb(103,0,31)\"],[0.1,\"rgb(178,24,43)\"],[0.2,\"rgb(214,96,77)\"],[0.3,\"rgb(244,165,130)\"],[0.4,\"rgb(253,219,199)\"],[0.5,\"rgb(247,247,247)\"],[0.6,\"rgb(209,229,240)\"],[0.7,\"rgb(146,197,222)\"],[0.8,\"rgb(67,147,195)\"],[0.9,\"rgb(33,102,172)\"],[1.0,\"rgb(5,48,97)\"]],\"sequential\":[[0.0,\"#440154\"],[0.1111111111111111,\"#482878\"],[0.2222222222222222,\"#3e4989\"],[0.3333333333333333,\"#31688e\"],[0.4444444444444444,\"#26828e\"],[0.5555555555555556,\"#1f9e89\"],[0.6666666666666666,\"#35b779\"],[0.7777777777777778,\"#6ece58\"],[0.8888888888888888,\"#b5de2b\"],[1.0,\"#fde725\"]],\"sequentialminus\":[[0.0,\"#440154\"],[0.1111111111111111,\"#482878\"],[0.2222222222222222,\"#3e4989\"],[0.3333333333333333,\"#31688e\"],[0.4444444444444444,\"#26828e\"],[0.5555555555555556,\"#1f9e89\"],[0.6666666666666666,\"#35b779\"],[0.7777777777777778,\"#6ece58\"],[0.8888888888888888,\"#b5de2b\"],[1.0,\"#fde725\"]]},\"colorway\":[\"#1F77B4\",\"#FF7F0E\",\"#2CA02C\",\"#D62728\",\"#9467BD\",\"#8C564B\",\"#E377C2\",\"#7F7F7F\",\"#BCBD22\",\"#17BECF\"],\"font\":{\"color\":\"rgb(36,36,36)\"},\"geo\":{\"bgcolor\":\"white\",\"lakecolor\":\"white\",\"landcolor\":\"white\",\"showlakes\":true,\"showland\":true,\"subunitcolor\":\"white\"},\"hoverlabel\":{\"align\":\"left\"},\"hovermode\":\"closest\",\"mapbox\":{\"style\":\"light\"},\"paper_bgcolor\":\"white\",\"plot_bgcolor\":\"white\",\"polar\":{\"angularaxis\":{\"gridcolor\":\"rgb(232,232,232)\",\"linecolor\":\"rgb(36,36,36)\",\"showgrid\":false,\"showline\":true,\"ticks\":\"outside\"},\"bgcolor\":\"white\",\"radialaxis\":{\"gridcolor\":\"rgb(232,232,232)\",\"linecolor\":\"rgb(36,36,36)\",\"showgrid\":false,\"showline\":true,\"ticks\":\"outside\"}},\"scene\":{\"xaxis\":{\"backgroundcolor\":\"white\",\"gridcolor\":\"rgb(232,232,232)\",\"gridwidth\":2,\"linecolor\":\"rgb(36,36,36)\",\"showbackground\":true,\"showgrid\":false,\"showline\":true,\"ticks\":\"outside\",\"zeroline\":false,\"zerolinecolor\":\"rgb(36,36,36)\"},\"yaxis\":{\"backgroundcolor\":\"white\",\"gridcolor\":\"rgb(232,232,232)\",\"gridwidth\":2,\"linecolor\":\"rgb(36,36,36)\",\"showbackground\":true,\"showgrid\":false,\"showline\":true,\"ticks\":\"outside\",\"zeroline\":false,\"zerolinecolor\":\"rgb(36,36,36)\"},\"zaxis\":{\"backgroundcolor\":\"white\",\"gridcolor\":\"rgb(232,232,232)\",\"gridwidth\":2,\"linecolor\":\"rgb(36,36,36)\",\"showbackground\":true,\"showgrid\":false,\"showline\":true,\"ticks\":\"outside\",\"zeroline\":false,\"zerolinecolor\":\"rgb(36,36,36)\"}},\"shapedefaults\":{\"fillcolor\":\"black\",\"line\":{\"width\":0},\"opacity\":0.3},\"ternary\":{\"aaxis\":{\"gridcolor\":\"rgb(232,232,232)\",\"linecolor\":\"rgb(36,36,36)\",\"showgrid\":false,\"showline\":true,\"ticks\":\"outside\"},\"baxis\":{\"gridcolor\":\"rgb(232,232,232)\",\"linecolor\":\"rgb(36,36,36)\",\"showgrid\":false,\"showline\":true,\"ticks\":\"outside\"},\"bgcolor\":\"white\",\"caxis\":{\"gridcolor\":\"rgb(232,232,232)\",\"linecolor\":\"rgb(36,36,36)\",\"showgrid\":false,\"showline\":true,\"ticks\":\"outside\"}},\"title\":{\"x\":0.5,\"xanchor\":\"center\"},\"xaxis\":{\"automargin\":true,\"gridcolor\":\"rgb(232,232,232)\",\"linecolor\":\"rgb(36,36,36)\",\"showgrid\":true,\"showline\":true,\"ticks\":\"outside\",\"title\":{\"standoff\":15},\"zeroline\":false,\"zerolinecolor\":\"rgb(36,36,36)\"},\"yaxis\":{\"automargin\":true,\"gridcolor\":\"rgb(232,232,232)\",\"linecolor\":\"rgb(36,36,36)\",\"showgrid\":true,\"showline\":true,\"ticks\":\"outside\",\"title\":{\"standoff\":15},\"zeroline\":false,\"zerolinecolor\":\"rgb(36,36,36)\"},\"autosize\":true,\"height\":400,\"margin\":{\"b\":30,\"l\":30,\"r\":30,\"t\":30},\"width\":600}},\"xaxis\":{\"anchor\":\"y\",\"domain\":[0.0,1.0],\"title\":{\"text\":\"dow\"}},\"yaxis\":{\"anchor\":\"x\",\"domain\":[0.0,1.0],\"title\":{\"text\":\"value\"}},\"legend\":{\"title\":{\"text\":\"variable\"},\"tracegroupgap\":0},\"barmode\":\"relative\"},                        {\"responsive\": true}                    ).then(function(){\n",
       "                            \n",
       "var gd = document.getElementById('1fef9d2b-96e6-45c8-b221-6f8c0eb604ea');\n",
       "var x = new MutationObserver(function (mutations, observer) {{\n",
       "        var display = window.getComputedStyle(gd).display;\n",
       "        if (!display || display === 'none') {{\n",
       "            console.log([gd, 'removed!']);\n",
       "            Plotly.purge(gd);\n",
       "            observer.disconnect();\n",
       "        }}\n",
       "}});\n",
       "\n",
       "// Listen for the removal of the full notebook cells\n",
       "var notebookContainer = gd.closest('#notebook-container');\n",
       "if (notebookContainer) {{\n",
       "    x.observe(notebookContainer, {childList: true});\n",
       "}}\n",
       "\n",
       "// Listen for the clearing of the current output cell\n",
       "var outputEl = gd.closest('.output');\n",
       "if (outputEl) {{\n",
       "    x.observe(outputEl, {childList: true});\n",
       "}}\n",
       "\n",
       "                        })                };                });            </script>        </div>"
      ]
     },
     "metadata": {},
     "output_type": "display_data"
    }
   ],
   "source": [
    "dow_counts = (\n",
    "    insp.assign(dow=insp['date'].dt.dayofweek)\n",
    "    .groupby('dow')\n",
    "    .size()\n",
    ")\n",
    "px.bar(dow_counts)"
   ]
  },
  {
   "cell_type": "markdown",
   "id": "df7ddb97",
   "metadata": {
    "slideshow": {
     "slide_type": "slide"
    }
   },
   "source": [
    "## Data Cleaning: Modifying Structure\n",
    "\n",
    "We often reshape the dataframe's structure to make it more convenient for analysis. For example, we can:\n",
    "\n",
    "- Simplify structure by removing columns or taking a set of rows for a particular period of time or geographic area.\n",
    "    - Already did this!\n",
    "- Adjust granularity by aggregating rows together.\n",
    "- Reshape structure, most commonly by using `df.melt()` to un-pivot a dataframe."
   ]
  },
  {
   "cell_type": "markdown",
   "id": "4a6e99cf",
   "metadata": {
    "slideshow": {
     "slide_type": "slide"
    }
   },
   "source": [
    "### Using `melt`\n",
    "\n",
    "- `melt()` is common enough that we'll give it a special mention.\n",
    "- Often encounter pivot tables (esp from government data), which we call *wide* data, and we want to reshape into *long* form:\n",
    "\n",
    "<center><img src='imgs/wide-vs-long.svg' width=40%></center>\n",
    "\n",
    "- With long-form data, we can group by both year and month. Hard to do that with the wide-form data!\n",
    "- Long-form data is also called *tidy* data."
   ]
  },
  {
   "cell_type": "markdown",
   "id": "a694dc36",
   "metadata": {
    "slideshow": {
     "slide_type": "slide"
    }
   },
   "source": [
    "## Student-Submitted Questions\n",
    "\n",
    "- Come up with a question or two that you want to answer with the data.\n",
    "    - E.g. \"What are the most common violations around UCSD?\"\n",
    "- I will (attempt to) answer them live and explain as we go!\n",
    "- Will go until no more questions or we run out of time.\n",
    "- https://wall.sli.do/event/g2dESFa2co9kwmUwqfuCNL?section=e82e38eb-254e-4eb9-9de3-341347c52119"
   ]
  },
  {
   "cell_type": "markdown",
   "id": "72848334",
   "metadata": {},
   "source": [
    "### Fill this in with student questions\n",
    "\n",
    "..."
   ]
  },
  {
   "cell_type": "markdown",
   "id": "a3b25459",
   "metadata": {
    "slideshow": {
     "slide_type": "slide"
    }
   },
   "source": [
    "### Example question: What are the most common violations?"
   ]
  },
  {
   "cell_type": "code",
   "execution_count": 82,
   "id": "398f1439",
   "metadata": {},
   "outputs": [
    {
     "data": {
      "application/vnd.plotly.v1+json": {
       "config": {
        "plotlyServerURL": "https://plot.ly"
       },
       "data": [
        {
         "alignmentgroup": "True",
         "hovertemplate": "variable=kind<br>value=%{x}<br>index=%{y}<extra></extra>",
         "legendgroup": "kind",
         "marker": {
          "color": "#1F77B4",
          "pattern": {
           "shape": ""
          }
         },
         "name": "kind",
         "offsetgroup": "kind",
         "orientation": "h",
         "showlegend": true,
         "textposition": "auto",
         "type": "bar",
         "x": [
          1,
          1,
          1,
          1,
          1,
          2,
          2,
          3,
          4,
          6,
          6,
          7,
          9,
          10,
          12,
          14,
          16,
          20,
          25,
          27,
          29,
          29,
          35,
          38,
          41,
          50,
          53,
          64,
          73,
          82,
          99,
          109,
          143,
          155,
          193,
          203,
          206,
          243,
          274,
          307,
          313,
          333,
          354,
          366,
          388,
          444,
          463,
          715
         ],
         "xaxis": "x",
         "y": [
          "Food Labeling",
          "Commissary/MSU Operation",
          "No discharge from eyes, nose, or mouth",
          "Highly Susceptible Populations",
          "Gulf Oysters",
          "Approved Source",
          "Person in Charge",
          "Proper Cooking",
          "Grade Card, Last Inspection Report, Permit Available",
          "Garbage and Refuse",
          "Grade Card, Last Inspection Report, Permit Available, Written Procedures",
          "Proper Cooling",
          "Proper Reheating",
          "Impoundment",
          "Proper Eating, Tasting, Drinking, or Tobacco Use",
          "Sewage disposal",
          "Personal Cleanliness",
          "Shellfish Tags",
          "Storage of Toxic Substances",
          "Consumer Advisory",
          "Time as Public Health Control",
          "Food Properly Labeled & Honestly Presented",
          "Toilet Facilities",
          "Handwashing",
          "Fruits and Vegetables Washed",
          "Thermometers",
          "Thawing Methods",
          "Food in Good Condition, Safe and Unadulterated",
          "Approved Procedures",
          "Permit",
          "Food Storage",
          "Ventilation and Lighting",
          "Plumbing",
          "Food Separated and Protected",
          "Vermin",
          "Premises, Vermin-proofing, Personal/Cleaning Items",
          "Wiping Cloths",
          "Food Safety Certification",
          "Hot and Cold Water",
          "Food Handler Training",
          "Equipment, Utensils, Linens Storage and Use",
          "Nonfood Contact Surfaces Clean",
          "Floors, Walls, and Ceilings",
          "Equipment and Utensil Storage, Use",
          "Warewashing Facilities Maintained",
          "Food Contact Surfaces",
          "Proper Handwashing Facilities",
          "Holding Temperatures"
         ],
         "yaxis": "y"
        }
       ],
       "layout": {
        "barmode": "relative",
        "height": 800,
        "legend": {
         "title": {
          "text": "variable"
         },
         "tracegroupgap": 0
        },
        "template": {
         "data": {
          "bar": [
           {
            "error_x": {
             "color": "rgb(36,36,36)"
            },
            "error_y": {
             "color": "rgb(36,36,36)"
            },
            "marker": {
             "line": {
              "color": "white",
              "width": 0.5
             },
             "pattern": {
              "fillmode": "overlay",
              "size": 10,
              "solidity": 0.2
             }
            },
            "type": "bar"
           }
          ],
          "barpolar": [
           {
            "marker": {
             "line": {
              "color": "white",
              "width": 0.5
             },
             "pattern": {
              "fillmode": "overlay",
              "size": 10,
              "solidity": 0.2
             }
            },
            "type": "barpolar"
           }
          ],
          "carpet": [
           {
            "aaxis": {
             "endlinecolor": "rgb(36,36,36)",
             "gridcolor": "white",
             "linecolor": "white",
             "minorgridcolor": "white",
             "startlinecolor": "rgb(36,36,36)"
            },
            "baxis": {
             "endlinecolor": "rgb(36,36,36)",
             "gridcolor": "white",
             "linecolor": "white",
             "minorgridcolor": "white",
             "startlinecolor": "rgb(36,36,36)"
            },
            "type": "carpet"
           }
          ],
          "choropleth": [
           {
            "colorbar": {
             "outlinewidth": 1,
             "tickcolor": "rgb(36,36,36)",
             "ticks": "outside"
            },
            "type": "choropleth"
           }
          ],
          "contour": [
           {
            "colorbar": {
             "outlinewidth": 1,
             "tickcolor": "rgb(36,36,36)",
             "ticks": "outside"
            },
            "colorscale": [
             [
              0,
              "#440154"
             ],
             [
              0.1111111111111111,
              "#482878"
             ],
             [
              0.2222222222222222,
              "#3e4989"
             ],
             [
              0.3333333333333333,
              "#31688e"
             ],
             [
              0.4444444444444444,
              "#26828e"
             ],
             [
              0.5555555555555556,
              "#1f9e89"
             ],
             [
              0.6666666666666666,
              "#35b779"
             ],
             [
              0.7777777777777778,
              "#6ece58"
             ],
             [
              0.8888888888888888,
              "#b5de2b"
             ],
             [
              1,
              "#fde725"
             ]
            ],
            "type": "contour"
           }
          ],
          "contourcarpet": [
           {
            "colorbar": {
             "outlinewidth": 1,
             "tickcolor": "rgb(36,36,36)",
             "ticks": "outside"
            },
            "type": "contourcarpet"
           }
          ],
          "heatmap": [
           {
            "colorbar": {
             "outlinewidth": 1,
             "tickcolor": "rgb(36,36,36)",
             "ticks": "outside"
            },
            "colorscale": [
             [
              0,
              "#440154"
             ],
             [
              0.1111111111111111,
              "#482878"
             ],
             [
              0.2222222222222222,
              "#3e4989"
             ],
             [
              0.3333333333333333,
              "#31688e"
             ],
             [
              0.4444444444444444,
              "#26828e"
             ],
             [
              0.5555555555555556,
              "#1f9e89"
             ],
             [
              0.6666666666666666,
              "#35b779"
             ],
             [
              0.7777777777777778,
              "#6ece58"
             ],
             [
              0.8888888888888888,
              "#b5de2b"
             ],
             [
              1,
              "#fde725"
             ]
            ],
            "type": "heatmap"
           }
          ],
          "heatmapgl": [
           {
            "colorbar": {
             "outlinewidth": 1,
             "tickcolor": "rgb(36,36,36)",
             "ticks": "outside"
            },
            "colorscale": [
             [
              0,
              "#440154"
             ],
             [
              0.1111111111111111,
              "#482878"
             ],
             [
              0.2222222222222222,
              "#3e4989"
             ],
             [
              0.3333333333333333,
              "#31688e"
             ],
             [
              0.4444444444444444,
              "#26828e"
             ],
             [
              0.5555555555555556,
              "#1f9e89"
             ],
             [
              0.6666666666666666,
              "#35b779"
             ],
             [
              0.7777777777777778,
              "#6ece58"
             ],
             [
              0.8888888888888888,
              "#b5de2b"
             ],
             [
              1,
              "#fde725"
             ]
            ],
            "type": "heatmapgl"
           }
          ],
          "histogram": [
           {
            "marker": {
             "line": {
              "color": "white",
              "width": 0.6
             }
            },
            "type": "histogram"
           }
          ],
          "histogram2d": [
           {
            "colorbar": {
             "outlinewidth": 1,
             "tickcolor": "rgb(36,36,36)",
             "ticks": "outside"
            },
            "colorscale": [
             [
              0,
              "#440154"
             ],
             [
              0.1111111111111111,
              "#482878"
             ],
             [
              0.2222222222222222,
              "#3e4989"
             ],
             [
              0.3333333333333333,
              "#31688e"
             ],
             [
              0.4444444444444444,
              "#26828e"
             ],
             [
              0.5555555555555556,
              "#1f9e89"
             ],
             [
              0.6666666666666666,
              "#35b779"
             ],
             [
              0.7777777777777778,
              "#6ece58"
             ],
             [
              0.8888888888888888,
              "#b5de2b"
             ],
             [
              1,
              "#fde725"
             ]
            ],
            "type": "histogram2d"
           }
          ],
          "histogram2dcontour": [
           {
            "colorbar": {
             "outlinewidth": 1,
             "tickcolor": "rgb(36,36,36)",
             "ticks": "outside"
            },
            "colorscale": [
             [
              0,
              "#440154"
             ],
             [
              0.1111111111111111,
              "#482878"
             ],
             [
              0.2222222222222222,
              "#3e4989"
             ],
             [
              0.3333333333333333,
              "#31688e"
             ],
             [
              0.4444444444444444,
              "#26828e"
             ],
             [
              0.5555555555555556,
              "#1f9e89"
             ],
             [
              0.6666666666666666,
              "#35b779"
             ],
             [
              0.7777777777777778,
              "#6ece58"
             ],
             [
              0.8888888888888888,
              "#b5de2b"
             ],
             [
              1,
              "#fde725"
             ]
            ],
            "type": "histogram2dcontour"
           }
          ],
          "mesh3d": [
           {
            "colorbar": {
             "outlinewidth": 1,
             "tickcolor": "rgb(36,36,36)",
             "ticks": "outside"
            },
            "type": "mesh3d"
           }
          ],
          "parcoords": [
           {
            "line": {
             "colorbar": {
              "outlinewidth": 1,
              "tickcolor": "rgb(36,36,36)",
              "ticks": "outside"
             }
            },
            "type": "parcoords"
           }
          ],
          "pie": [
           {
            "automargin": true,
            "type": "pie"
           }
          ],
          "scatter": [
           {
            "fillpattern": {
             "fillmode": "overlay",
             "size": 10,
             "solidity": 0.2
            },
            "type": "scatter"
           }
          ],
          "scatter3d": [
           {
            "line": {
             "colorbar": {
              "outlinewidth": 1,
              "tickcolor": "rgb(36,36,36)",
              "ticks": "outside"
             }
            },
            "marker": {
             "colorbar": {
              "outlinewidth": 1,
              "tickcolor": "rgb(36,36,36)",
              "ticks": "outside"
             }
            },
            "type": "scatter3d"
           }
          ],
          "scattercarpet": [
           {
            "marker": {
             "colorbar": {
              "outlinewidth": 1,
              "tickcolor": "rgb(36,36,36)",
              "ticks": "outside"
             }
            },
            "type": "scattercarpet"
           }
          ],
          "scattergeo": [
           {
            "marker": {
             "colorbar": {
              "outlinewidth": 1,
              "tickcolor": "rgb(36,36,36)",
              "ticks": "outside"
             }
            },
            "type": "scattergeo"
           }
          ],
          "scattergl": [
           {
            "marker": {
             "colorbar": {
              "outlinewidth": 1,
              "tickcolor": "rgb(36,36,36)",
              "ticks": "outside"
             }
            },
            "type": "scattergl"
           }
          ],
          "scattermapbox": [
           {
            "marker": {
             "colorbar": {
              "outlinewidth": 1,
              "tickcolor": "rgb(36,36,36)",
              "ticks": "outside"
             }
            },
            "type": "scattermapbox"
           }
          ],
          "scatterpolar": [
           {
            "marker": {
             "colorbar": {
              "outlinewidth": 1,
              "tickcolor": "rgb(36,36,36)",
              "ticks": "outside"
             }
            },
            "type": "scatterpolar"
           }
          ],
          "scatterpolargl": [
           {
            "marker": {
             "colorbar": {
              "outlinewidth": 1,
              "tickcolor": "rgb(36,36,36)",
              "ticks": "outside"
             }
            },
            "type": "scatterpolargl"
           }
          ],
          "scatterternary": [
           {
            "marker": {
             "colorbar": {
              "outlinewidth": 1,
              "tickcolor": "rgb(36,36,36)",
              "ticks": "outside"
             }
            },
            "type": "scatterternary"
           }
          ],
          "surface": [
           {
            "colorbar": {
             "outlinewidth": 1,
             "tickcolor": "rgb(36,36,36)",
             "ticks": "outside"
            },
            "colorscale": [
             [
              0,
              "#440154"
             ],
             [
              0.1111111111111111,
              "#482878"
             ],
             [
              0.2222222222222222,
              "#3e4989"
             ],
             [
              0.3333333333333333,
              "#31688e"
             ],
             [
              0.4444444444444444,
              "#26828e"
             ],
             [
              0.5555555555555556,
              "#1f9e89"
             ],
             [
              0.6666666666666666,
              "#35b779"
             ],
             [
              0.7777777777777778,
              "#6ece58"
             ],
             [
              0.8888888888888888,
              "#b5de2b"
             ],
             [
              1,
              "#fde725"
             ]
            ],
            "type": "surface"
           }
          ],
          "table": [
           {
            "cells": {
             "fill": {
              "color": "rgb(237,237,237)"
             },
             "line": {
              "color": "white"
             }
            },
            "header": {
             "fill": {
              "color": "rgb(217,217,217)"
             },
             "line": {
              "color": "white"
             }
            },
            "type": "table"
           }
          ]
         },
         "layout": {
          "annotationdefaults": {
           "arrowhead": 0,
           "arrowwidth": 1
          },
          "autosize": true,
          "autotypenumbers": "strict",
          "coloraxis": {
           "colorbar": {
            "outlinewidth": 1,
            "tickcolor": "rgb(36,36,36)",
            "ticks": "outside"
           }
          },
          "colorscale": {
           "diverging": [
            [
             0,
             "rgb(103,0,31)"
            ],
            [
             0.1,
             "rgb(178,24,43)"
            ],
            [
             0.2,
             "rgb(214,96,77)"
            ],
            [
             0.3,
             "rgb(244,165,130)"
            ],
            [
             0.4,
             "rgb(253,219,199)"
            ],
            [
             0.5,
             "rgb(247,247,247)"
            ],
            [
             0.6,
             "rgb(209,229,240)"
            ],
            [
             0.7,
             "rgb(146,197,222)"
            ],
            [
             0.8,
             "rgb(67,147,195)"
            ],
            [
             0.9,
             "rgb(33,102,172)"
            ],
            [
             1,
             "rgb(5,48,97)"
            ]
           ],
           "sequential": [
            [
             0,
             "#440154"
            ],
            [
             0.1111111111111111,
             "#482878"
            ],
            [
             0.2222222222222222,
             "#3e4989"
            ],
            [
             0.3333333333333333,
             "#31688e"
            ],
            [
             0.4444444444444444,
             "#26828e"
            ],
            [
             0.5555555555555556,
             "#1f9e89"
            ],
            [
             0.6666666666666666,
             "#35b779"
            ],
            [
             0.7777777777777778,
             "#6ece58"
            ],
            [
             0.8888888888888888,
             "#b5de2b"
            ],
            [
             1,
             "#fde725"
            ]
           ],
           "sequentialminus": [
            [
             0,
             "#440154"
            ],
            [
             0.1111111111111111,
             "#482878"
            ],
            [
             0.2222222222222222,
             "#3e4989"
            ],
            [
             0.3333333333333333,
             "#31688e"
            ],
            [
             0.4444444444444444,
             "#26828e"
            ],
            [
             0.5555555555555556,
             "#1f9e89"
            ],
            [
             0.6666666666666666,
             "#35b779"
            ],
            [
             0.7777777777777778,
             "#6ece58"
            ],
            [
             0.8888888888888888,
             "#b5de2b"
            ],
            [
             1,
             "#fde725"
            ]
           ]
          },
          "colorway": [
           "#1F77B4",
           "#FF7F0E",
           "#2CA02C",
           "#D62728",
           "#9467BD",
           "#8C564B",
           "#E377C2",
           "#7F7F7F",
           "#BCBD22",
           "#17BECF"
          ],
          "font": {
           "color": "rgb(36,36,36)"
          },
          "geo": {
           "bgcolor": "white",
           "lakecolor": "white",
           "landcolor": "white",
           "showlakes": true,
           "showland": true,
           "subunitcolor": "white"
          },
          "height": 400,
          "hoverlabel": {
           "align": "left"
          },
          "hovermode": "closest",
          "mapbox": {
           "style": "light"
          },
          "margin": {
           "b": 30,
           "l": 30,
           "r": 30,
           "t": 30
          },
          "paper_bgcolor": "white",
          "plot_bgcolor": "white",
          "polar": {
           "angularaxis": {
            "gridcolor": "rgb(232,232,232)",
            "linecolor": "rgb(36,36,36)",
            "showgrid": false,
            "showline": true,
            "ticks": "outside"
           },
           "bgcolor": "white",
           "radialaxis": {
            "gridcolor": "rgb(232,232,232)",
            "linecolor": "rgb(36,36,36)",
            "showgrid": false,
            "showline": true,
            "ticks": "outside"
           }
          },
          "scene": {
           "xaxis": {
            "backgroundcolor": "white",
            "gridcolor": "rgb(232,232,232)",
            "gridwidth": 2,
            "linecolor": "rgb(36,36,36)",
            "showbackground": true,
            "showgrid": false,
            "showline": true,
            "ticks": "outside",
            "zeroline": false,
            "zerolinecolor": "rgb(36,36,36)"
           },
           "yaxis": {
            "backgroundcolor": "white",
            "gridcolor": "rgb(232,232,232)",
            "gridwidth": 2,
            "linecolor": "rgb(36,36,36)",
            "showbackground": true,
            "showgrid": false,
            "showline": true,
            "ticks": "outside",
            "zeroline": false,
            "zerolinecolor": "rgb(36,36,36)"
           },
           "zaxis": {
            "backgroundcolor": "white",
            "gridcolor": "rgb(232,232,232)",
            "gridwidth": 2,
            "linecolor": "rgb(36,36,36)",
            "showbackground": true,
            "showgrid": false,
            "showline": true,
            "ticks": "outside",
            "zeroline": false,
            "zerolinecolor": "rgb(36,36,36)"
           }
          },
          "shapedefaults": {
           "fillcolor": "black",
           "line": {
            "width": 0
           },
           "opacity": 0.3
          },
          "ternary": {
           "aaxis": {
            "gridcolor": "rgb(232,232,232)",
            "linecolor": "rgb(36,36,36)",
            "showgrid": false,
            "showline": true,
            "ticks": "outside"
           },
           "baxis": {
            "gridcolor": "rgb(232,232,232)",
            "linecolor": "rgb(36,36,36)",
            "showgrid": false,
            "showline": true,
            "ticks": "outside"
           },
           "bgcolor": "white",
           "caxis": {
            "gridcolor": "rgb(232,232,232)",
            "linecolor": "rgb(36,36,36)",
            "showgrid": false,
            "showline": true,
            "ticks": "outside"
           }
          },
          "title": {
           "x": 0.5,
           "xanchor": "center"
          },
          "width": 600,
          "xaxis": {
           "automargin": true,
           "gridcolor": "rgb(232,232,232)",
           "linecolor": "rgb(36,36,36)",
           "showgrid": true,
           "showline": true,
           "ticks": "outside",
           "title": {
            "standoff": 15
           },
           "zeroline": false,
           "zerolinecolor": "rgb(36,36,36)"
          },
          "yaxis": {
           "automargin": true,
           "gridcolor": "rgb(232,232,232)",
           "linecolor": "rgb(36,36,36)",
           "showgrid": true,
           "showline": true,
           "ticks": "outside",
           "title": {
            "standoff": 15
           },
           "zeroline": false,
           "zerolinecolor": "rgb(36,36,36)"
          }
         }
        },
        "width": 1000,
        "xaxis": {
         "anchor": "y",
         "domain": [
          0,
          1
         ],
         "title": {
          "text": "value"
         }
        },
        "yaxis": {
         "anchor": "x",
         "domain": [
          0,
          1
         ],
         "title": {
          "text": "index"
         }
        }
       }
      },
      "text/html": [
       "<div>                            <div id=\"f17771f6-e7f7-464d-9186-90e087a9d5ce\" class=\"plotly-graph-div\" style=\"height:800px; width:1000px;\"></div>            <script type=\"text/javascript\">                require([\"plotly\"], function(Plotly) {                    window.PLOTLYENV=window.PLOTLYENV || {};                                    if (document.getElementById(\"f17771f6-e7f7-464d-9186-90e087a9d5ce\")) {                    Plotly.newPlot(                        \"f17771f6-e7f7-464d-9186-90e087a9d5ce\",                        [{\"alignmentgroup\":\"True\",\"hovertemplate\":\"variable=kind\\u003cbr\\u003evalue=%{x}\\u003cbr\\u003eindex=%{y}\\u003cextra\\u003e\\u003c\\u002fextra\\u003e\",\"legendgroup\":\"kind\",\"marker\":{\"color\":\"#1F77B4\",\"pattern\":{\"shape\":\"\"}},\"name\":\"kind\",\"offsetgroup\":\"kind\",\"orientation\":\"h\",\"showlegend\":true,\"textposition\":\"auto\",\"x\":[1,1,1,1,1,2,2,3,4,6,6,7,9,10,12,14,16,20,25,27,29,29,35,38,41,50,53,64,73,82,99,109,143,155,193,203,206,243,274,307,313,333,354,366,388,444,463,715],\"xaxis\":\"x\",\"y\":[\"Food Labeling\",\"Commissary\\u002fMSU Operation\",\"No discharge from eyes, nose, or mouth\",\"Highly Susceptible Populations\",\"Gulf Oysters\",\"Approved Source\",\"Person in Charge\",\"Proper Cooking\",\"Grade Card, Last Inspection Report, Permit Available\",\"Garbage and Refuse\",\"Grade Card, Last Inspection Report, Permit Available, Written Procedures\",\"Proper Cooling\",\"Proper Reheating\",\"Impoundment\",\"Proper Eating, Tasting, Drinking, or Tobacco Use\",\"Sewage disposal\",\"Personal Cleanliness\",\"Shellfish Tags\",\"Storage of Toxic Substances\",\"Consumer Advisory\",\"Time as Public Health Control\",\"Food Properly Labeled & Honestly Presented\",\"Toilet Facilities\",\"Handwashing\",\"Fruits and Vegetables Washed\",\"Thermometers\",\"Thawing Methods\",\"Food in Good Condition, Safe and Unadulterated\",\"Approved Procedures\",\"Permit\",\"Food Storage\",\"Ventilation and Lighting\",\"Plumbing\",\"Food Separated and Protected\",\"Vermin\",\"Premises, Vermin-proofing, Personal\\u002fCleaning Items\",\"Wiping Cloths\",\"Food Safety Certification\",\"Hot and Cold Water\",\"Food Handler Training\",\"Equipment, Utensils, Linens Storage and Use\",\"Nonfood Contact Surfaces Clean\",\"Floors, Walls, and Ceilings\",\"Equipment and Utensil Storage, Use\",\"Warewashing Facilities Maintained\",\"Food Contact Surfaces\",\"Proper Handwashing Facilities\",\"Holding Temperatures\"],\"yaxis\":\"y\",\"type\":\"bar\"}],                        {\"template\":{\"data\":{\"barpolar\":[{\"marker\":{\"line\":{\"color\":\"white\",\"width\":0.5},\"pattern\":{\"fillmode\":\"overlay\",\"size\":10,\"solidity\":0.2}},\"type\":\"barpolar\"}],\"bar\":[{\"error_x\":{\"color\":\"rgb(36,36,36)\"},\"error_y\":{\"color\":\"rgb(36,36,36)\"},\"marker\":{\"line\":{\"color\":\"white\",\"width\":0.5},\"pattern\":{\"fillmode\":\"overlay\",\"size\":10,\"solidity\":0.2}},\"type\":\"bar\"}],\"carpet\":[{\"aaxis\":{\"endlinecolor\":\"rgb(36,36,36)\",\"gridcolor\":\"white\",\"linecolor\":\"white\",\"minorgridcolor\":\"white\",\"startlinecolor\":\"rgb(36,36,36)\"},\"baxis\":{\"endlinecolor\":\"rgb(36,36,36)\",\"gridcolor\":\"white\",\"linecolor\":\"white\",\"minorgridcolor\":\"white\",\"startlinecolor\":\"rgb(36,36,36)\"},\"type\":\"carpet\"}],\"choropleth\":[{\"colorbar\":{\"outlinewidth\":1,\"tickcolor\":\"rgb(36,36,36)\",\"ticks\":\"outside\"},\"type\":\"choropleth\"}],\"contourcarpet\":[{\"colorbar\":{\"outlinewidth\":1,\"tickcolor\":\"rgb(36,36,36)\",\"ticks\":\"outside\"},\"type\":\"contourcarpet\"}],\"contour\":[{\"colorbar\":{\"outlinewidth\":1,\"tickcolor\":\"rgb(36,36,36)\",\"ticks\":\"outside\"},\"colorscale\":[[0.0,\"#440154\"],[0.1111111111111111,\"#482878\"],[0.2222222222222222,\"#3e4989\"],[0.3333333333333333,\"#31688e\"],[0.4444444444444444,\"#26828e\"],[0.5555555555555556,\"#1f9e89\"],[0.6666666666666666,\"#35b779\"],[0.7777777777777778,\"#6ece58\"],[0.8888888888888888,\"#b5de2b\"],[1.0,\"#fde725\"]],\"type\":\"contour\"}],\"heatmapgl\":[{\"colorbar\":{\"outlinewidth\":1,\"tickcolor\":\"rgb(36,36,36)\",\"ticks\":\"outside\"},\"colorscale\":[[0.0,\"#440154\"],[0.1111111111111111,\"#482878\"],[0.2222222222222222,\"#3e4989\"],[0.3333333333333333,\"#31688e\"],[0.4444444444444444,\"#26828e\"],[0.5555555555555556,\"#1f9e89\"],[0.6666666666666666,\"#35b779\"],[0.7777777777777778,\"#6ece58\"],[0.8888888888888888,\"#b5de2b\"],[1.0,\"#fde725\"]],\"type\":\"heatmapgl\"}],\"heatmap\":[{\"colorbar\":{\"outlinewidth\":1,\"tickcolor\":\"rgb(36,36,36)\",\"ticks\":\"outside\"},\"colorscale\":[[0.0,\"#440154\"],[0.1111111111111111,\"#482878\"],[0.2222222222222222,\"#3e4989\"],[0.3333333333333333,\"#31688e\"],[0.4444444444444444,\"#26828e\"],[0.5555555555555556,\"#1f9e89\"],[0.6666666666666666,\"#35b779\"],[0.7777777777777778,\"#6ece58\"],[0.8888888888888888,\"#b5de2b\"],[1.0,\"#fde725\"]],\"type\":\"heatmap\"}],\"histogram2dcontour\":[{\"colorbar\":{\"outlinewidth\":1,\"tickcolor\":\"rgb(36,36,36)\",\"ticks\":\"outside\"},\"colorscale\":[[0.0,\"#440154\"],[0.1111111111111111,\"#482878\"],[0.2222222222222222,\"#3e4989\"],[0.3333333333333333,\"#31688e\"],[0.4444444444444444,\"#26828e\"],[0.5555555555555556,\"#1f9e89\"],[0.6666666666666666,\"#35b779\"],[0.7777777777777778,\"#6ece58\"],[0.8888888888888888,\"#b5de2b\"],[1.0,\"#fde725\"]],\"type\":\"histogram2dcontour\"}],\"histogram2d\":[{\"colorbar\":{\"outlinewidth\":1,\"tickcolor\":\"rgb(36,36,36)\",\"ticks\":\"outside\"},\"colorscale\":[[0.0,\"#440154\"],[0.1111111111111111,\"#482878\"],[0.2222222222222222,\"#3e4989\"],[0.3333333333333333,\"#31688e\"],[0.4444444444444444,\"#26828e\"],[0.5555555555555556,\"#1f9e89\"],[0.6666666666666666,\"#35b779\"],[0.7777777777777778,\"#6ece58\"],[0.8888888888888888,\"#b5de2b\"],[1.0,\"#fde725\"]],\"type\":\"histogram2d\"}],\"histogram\":[{\"marker\":{\"line\":{\"color\":\"white\",\"width\":0.6}},\"type\":\"histogram\"}],\"mesh3d\":[{\"colorbar\":{\"outlinewidth\":1,\"tickcolor\":\"rgb(36,36,36)\",\"ticks\":\"outside\"},\"type\":\"mesh3d\"}],\"parcoords\":[{\"line\":{\"colorbar\":{\"outlinewidth\":1,\"tickcolor\":\"rgb(36,36,36)\",\"ticks\":\"outside\"}},\"type\":\"parcoords\"}],\"pie\":[{\"automargin\":true,\"type\":\"pie\"}],\"scatter3d\":[{\"line\":{\"colorbar\":{\"outlinewidth\":1,\"tickcolor\":\"rgb(36,36,36)\",\"ticks\":\"outside\"}},\"marker\":{\"colorbar\":{\"outlinewidth\":1,\"tickcolor\":\"rgb(36,36,36)\",\"ticks\":\"outside\"}},\"type\":\"scatter3d\"}],\"scattercarpet\":[{\"marker\":{\"colorbar\":{\"outlinewidth\":1,\"tickcolor\":\"rgb(36,36,36)\",\"ticks\":\"outside\"}},\"type\":\"scattercarpet\"}],\"scattergeo\":[{\"marker\":{\"colorbar\":{\"outlinewidth\":1,\"tickcolor\":\"rgb(36,36,36)\",\"ticks\":\"outside\"}},\"type\":\"scattergeo\"}],\"scattergl\":[{\"marker\":{\"colorbar\":{\"outlinewidth\":1,\"tickcolor\":\"rgb(36,36,36)\",\"ticks\":\"outside\"}},\"type\":\"scattergl\"}],\"scattermapbox\":[{\"marker\":{\"colorbar\":{\"outlinewidth\":1,\"tickcolor\":\"rgb(36,36,36)\",\"ticks\":\"outside\"}},\"type\":\"scattermapbox\"}],\"scatterpolargl\":[{\"marker\":{\"colorbar\":{\"outlinewidth\":1,\"tickcolor\":\"rgb(36,36,36)\",\"ticks\":\"outside\"}},\"type\":\"scatterpolargl\"}],\"scatterpolar\":[{\"marker\":{\"colorbar\":{\"outlinewidth\":1,\"tickcolor\":\"rgb(36,36,36)\",\"ticks\":\"outside\"}},\"type\":\"scatterpolar\"}],\"scatter\":[{\"fillpattern\":{\"fillmode\":\"overlay\",\"size\":10,\"solidity\":0.2},\"type\":\"scatter\"}],\"scatterternary\":[{\"marker\":{\"colorbar\":{\"outlinewidth\":1,\"tickcolor\":\"rgb(36,36,36)\",\"ticks\":\"outside\"}},\"type\":\"scatterternary\"}],\"surface\":[{\"colorbar\":{\"outlinewidth\":1,\"tickcolor\":\"rgb(36,36,36)\",\"ticks\":\"outside\"},\"colorscale\":[[0.0,\"#440154\"],[0.1111111111111111,\"#482878\"],[0.2222222222222222,\"#3e4989\"],[0.3333333333333333,\"#31688e\"],[0.4444444444444444,\"#26828e\"],[0.5555555555555556,\"#1f9e89\"],[0.6666666666666666,\"#35b779\"],[0.7777777777777778,\"#6ece58\"],[0.8888888888888888,\"#b5de2b\"],[1.0,\"#fde725\"]],\"type\":\"surface\"}],\"table\":[{\"cells\":{\"fill\":{\"color\":\"rgb(237,237,237)\"},\"line\":{\"color\":\"white\"}},\"header\":{\"fill\":{\"color\":\"rgb(217,217,217)\"},\"line\":{\"color\":\"white\"}},\"type\":\"table\"}]},\"layout\":{\"annotationdefaults\":{\"arrowhead\":0,\"arrowwidth\":1},\"autotypenumbers\":\"strict\",\"coloraxis\":{\"colorbar\":{\"outlinewidth\":1,\"tickcolor\":\"rgb(36,36,36)\",\"ticks\":\"outside\"}},\"colorscale\":{\"diverging\":[[0.0,\"rgb(103,0,31)\"],[0.1,\"rgb(178,24,43)\"],[0.2,\"rgb(214,96,77)\"],[0.3,\"rgb(244,165,130)\"],[0.4,\"rgb(253,219,199)\"],[0.5,\"rgb(247,247,247)\"],[0.6,\"rgb(209,229,240)\"],[0.7,\"rgb(146,197,222)\"],[0.8,\"rgb(67,147,195)\"],[0.9,\"rgb(33,102,172)\"],[1.0,\"rgb(5,48,97)\"]],\"sequential\":[[0.0,\"#440154\"],[0.1111111111111111,\"#482878\"],[0.2222222222222222,\"#3e4989\"],[0.3333333333333333,\"#31688e\"],[0.4444444444444444,\"#26828e\"],[0.5555555555555556,\"#1f9e89\"],[0.6666666666666666,\"#35b779\"],[0.7777777777777778,\"#6ece58\"],[0.8888888888888888,\"#b5de2b\"],[1.0,\"#fde725\"]],\"sequentialminus\":[[0.0,\"#440154\"],[0.1111111111111111,\"#482878\"],[0.2222222222222222,\"#3e4989\"],[0.3333333333333333,\"#31688e\"],[0.4444444444444444,\"#26828e\"],[0.5555555555555556,\"#1f9e89\"],[0.6666666666666666,\"#35b779\"],[0.7777777777777778,\"#6ece58\"],[0.8888888888888888,\"#b5de2b\"],[1.0,\"#fde725\"]]},\"colorway\":[\"#1F77B4\",\"#FF7F0E\",\"#2CA02C\",\"#D62728\",\"#9467BD\",\"#8C564B\",\"#E377C2\",\"#7F7F7F\",\"#BCBD22\",\"#17BECF\"],\"font\":{\"color\":\"rgb(36,36,36)\"},\"geo\":{\"bgcolor\":\"white\",\"lakecolor\":\"white\",\"landcolor\":\"white\",\"showlakes\":true,\"showland\":true,\"subunitcolor\":\"white\"},\"hoverlabel\":{\"align\":\"left\"},\"hovermode\":\"closest\",\"mapbox\":{\"style\":\"light\"},\"paper_bgcolor\":\"white\",\"plot_bgcolor\":\"white\",\"polar\":{\"angularaxis\":{\"gridcolor\":\"rgb(232,232,232)\",\"linecolor\":\"rgb(36,36,36)\",\"showgrid\":false,\"showline\":true,\"ticks\":\"outside\"},\"bgcolor\":\"white\",\"radialaxis\":{\"gridcolor\":\"rgb(232,232,232)\",\"linecolor\":\"rgb(36,36,36)\",\"showgrid\":false,\"showline\":true,\"ticks\":\"outside\"}},\"scene\":{\"xaxis\":{\"backgroundcolor\":\"white\",\"gridcolor\":\"rgb(232,232,232)\",\"gridwidth\":2,\"linecolor\":\"rgb(36,36,36)\",\"showbackground\":true,\"showgrid\":false,\"showline\":true,\"ticks\":\"outside\",\"zeroline\":false,\"zerolinecolor\":\"rgb(36,36,36)\"},\"yaxis\":{\"backgroundcolor\":\"white\",\"gridcolor\":\"rgb(232,232,232)\",\"gridwidth\":2,\"linecolor\":\"rgb(36,36,36)\",\"showbackground\":true,\"showgrid\":false,\"showline\":true,\"ticks\":\"outside\",\"zeroline\":false,\"zerolinecolor\":\"rgb(36,36,36)\"},\"zaxis\":{\"backgroundcolor\":\"white\",\"gridcolor\":\"rgb(232,232,232)\",\"gridwidth\":2,\"linecolor\":\"rgb(36,36,36)\",\"showbackground\":true,\"showgrid\":false,\"showline\":true,\"ticks\":\"outside\",\"zeroline\":false,\"zerolinecolor\":\"rgb(36,36,36)\"}},\"shapedefaults\":{\"fillcolor\":\"black\",\"line\":{\"width\":0},\"opacity\":0.3},\"ternary\":{\"aaxis\":{\"gridcolor\":\"rgb(232,232,232)\",\"linecolor\":\"rgb(36,36,36)\",\"showgrid\":false,\"showline\":true,\"ticks\":\"outside\"},\"baxis\":{\"gridcolor\":\"rgb(232,232,232)\",\"linecolor\":\"rgb(36,36,36)\",\"showgrid\":false,\"showline\":true,\"ticks\":\"outside\"},\"bgcolor\":\"white\",\"caxis\":{\"gridcolor\":\"rgb(232,232,232)\",\"linecolor\":\"rgb(36,36,36)\",\"showgrid\":false,\"showline\":true,\"ticks\":\"outside\"}},\"title\":{\"x\":0.5,\"xanchor\":\"center\"},\"xaxis\":{\"automargin\":true,\"gridcolor\":\"rgb(232,232,232)\",\"linecolor\":\"rgb(36,36,36)\",\"showgrid\":true,\"showline\":true,\"ticks\":\"outside\",\"title\":{\"standoff\":15},\"zeroline\":false,\"zerolinecolor\":\"rgb(36,36,36)\"},\"yaxis\":{\"automargin\":true,\"gridcolor\":\"rgb(232,232,232)\",\"linecolor\":\"rgb(36,36,36)\",\"showgrid\":true,\"showline\":true,\"ticks\":\"outside\",\"title\":{\"standoff\":15},\"zeroline\":false,\"zerolinecolor\":\"rgb(36,36,36)\"},\"autosize\":true,\"height\":400,\"margin\":{\"b\":30,\"l\":30,\"r\":30,\"t\":30},\"width\":600}},\"xaxis\":{\"anchor\":\"y\",\"domain\":[0.0,1.0],\"title\":{\"text\":\"value\"}},\"yaxis\":{\"anchor\":\"x\",\"domain\":[0.0,1.0],\"title\":{\"text\":\"index\"}},\"legend\":{\"title\":{\"text\":\"variable\"},\"tracegroupgap\":0},\"barmode\":\"relative\",\"width\":1000,\"height\":800},                        {\"responsive\": true}                    ).then(function(){\n",
       "                            \n",
       "var gd = document.getElementById('f17771f6-e7f7-464d-9186-90e087a9d5ce');\n",
       "var x = new MutationObserver(function (mutations, observer) {{\n",
       "        var display = window.getComputedStyle(gd).display;\n",
       "        if (!display || display === 'none') {{\n",
       "            console.log([gd, 'removed!']);\n",
       "            Plotly.purge(gd);\n",
       "            observer.disconnect();\n",
       "        }}\n",
       "}});\n",
       "\n",
       "// Listen for the removal of the full notebook cells\n",
       "var notebookContainer = gd.closest('#notebook-container');\n",
       "if (notebookContainer) {{\n",
       "    x.observe(notebookContainer, {childList: true});\n",
       "}}\n",
       "\n",
       "// Listen for the clearing of the current output cell\n",
       "var outputEl = gd.closest('.output');\n",
       "if (outputEl) {{\n",
       "    x.observe(outputEl, {childList: true});\n",
       "}}\n",
       "\n",
       "                        })                };                });            </script>        </div>"
      ]
     },
     "metadata": {},
     "output_type": "display_data"
    }
   ],
   "source": [
    "fig = px.bar(\n",
    "    viol['kind'].value_counts().sort_values(),\n",
    "    orientation='h'\n",
    ")\n",
    "fig.update_layout(width=1000, height=800)"
   ]
  },
  {
   "cell_type": "markdown",
   "id": "02dd620d",
   "metadata": {},
   "source": [
    "## Takeaways\n",
    "\n",
    "- Data cleaning is a necessary starting step in data analysis. 4 main things to watch out for:\n",
    "    - Quality checks\n",
    "    - Missing values\n",
    "    - Transformations and timestamps\n",
    "    - Modifying structure"
   ]
  }
 ],
 "metadata": {
  "kernelspec": {
   "display_name": "Python 3 (ipykernel)",
   "language": "python",
   "name": "python3"
  },
  "language_info": {
   "codemirror_mode": {
    "name": "ipython",
    "version": 3
   },
   "file_extension": ".py",
   "mimetype": "text/x-python",
   "name": "python",
   "nbconvert_exporter": "python",
   "pygments_lexer": "ipython3",
   "version": "3.9.18"
  }
 },
 "nbformat": 4,
 "nbformat_minor": 5
}
