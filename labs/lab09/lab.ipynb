{
 "cells": [
  {
   "cell_type": "code",
   "execution_count": 1,
   "id": "1e14cebd",
   "metadata": {
    "deletable": false,
    "editable": false
   },
   "outputs": [],
   "source": [
    "# Initialize Otter\n",
    "import otter\n",
    "grader = otter.Notebook(\"lab.ipynb\")"
   ]
  },
  {
   "cell_type": "markdown",
   "id": "05818497",
   "metadata": {},
   "source": [
    "# Lab 9 – Models and Pipelines 🔁\n",
    "\n",
    "## DSC 80, Fall 2023\n",
    "\n",
    "### Due Date: Monday, December 4th at 11:59PM"
   ]
  },
  {
   "cell_type": "markdown",
   "id": "dedc4ace",
   "metadata": {},
   "source": [
    "## Instructions\n",
    "Welcome to the ninth lab assignment in DSC 80 this quarter!\n",
    "\n",
    "Much like in DSC 10, this Jupyter Notebook contains the statements of the problems and provides code and Markdown cells to display your answers to the problems. Unlike DSC 10, the notebook is *only* for displaying a readable version of your final answers. The coding will be done in an accompanying `lab.py` file that is imported into the current notebook, and **you will only submit that `lab.py` file**, not this notebook!\n",
    "\n",
    "Some additional guidelines:\n",
    "- **Unlike in DSC 10, labs will have both public tests and hidden tests.** The bulk of your grade will come from your scores on hidden tests, which you will only see on Gradescope after the assignment deadline.\n",
    "- **Do not change the function names in the `lab.py` file!** The functions in the `lab.py` file are how your assignment is graded, and they are graded by their name. If you changed something you weren't supposed to, you can find the original code in the [course GitHub repository](https://github.com/dsc-courses/dsc80-2023-wi).\n",
    "- Notebooks are nice for testing and experimenting with different implementations before designing your function in your `lab.py` file. You can write code here, but make sure that all of your real work is in the `lab.py` file, since that's all you're submitting.\n",
    "- **To ensure that all of your work to be submitted is in `lab.py`, we've provided an additional uneditable notebook, called `lab-validation.ipynb`, that contains only the tests and their setup. Make sure you are able to run it top-to-bottom without error before submitting!**\n",
    "- You are encouraged to write your own additional helper functions to solve the lab, as long as they also end up in `lab.py`.\n",
    "\n",
    "**Importing code from `lab.py`**:\n",
    "\n",
    "* Below, we import the `.py` file that's contained in the same directory as this notebook.\n",
    "* We use the `autoreload` notebook extension to make changes to our `lab.py` file immediately available in our notebook. Without this extension, we would need to restart the notebook kernel to see any changes to `lab.py` in the notebook.\n",
    "    - `autoreload` is necessary because, upon import, `lab.py` is compiled to bytecode (in the directory `__pycache__`). Subsequent imports of `lab` merely import the existing compiled python."
   ]
  },
  {
   "cell_type": "code",
   "execution_count": 2,
   "id": "0d60bb32",
   "metadata": {},
   "outputs": [],
   "source": [
    "%load_ext autoreload\n",
    "%autoreload 2"
   ]
  },
  {
   "cell_type": "code",
   "execution_count": 3,
   "id": "b35797b3",
   "metadata": {},
   "outputs": [],
   "source": [
    "from lab import *"
   ]
  },
  {
   "cell_type": "code",
   "execution_count": 4,
   "id": "f0f5b657",
   "metadata": {},
   "outputs": [],
   "source": [
    "import pandas as pd\n",
    "import numpy as np\n",
    "import os\n",
    "import plotly.express as px\n",
    "\n",
    "from sklearn.linear_model import LinearRegression\n",
    "from sklearn.preprocessing import FunctionTransformer\n",
    "from sklearn.preprocessing import OneHotEncoder\n",
    "from sklearn.pipeline import Pipeline\n",
    "from sklearn.compose import ColumnTransformer\n",
    "\n",
    "from pipeline_testing_util import get_transformers\n",
    "\n",
    "from plotly.subplots import make_subplots\n",
    "import plotly.graph_objects as go\n",
    "\n",
    "import warnings\n",
    "warnings.simplefilter('ignore')"
   ]
  },
  {
   "cell_type": "markdown",
   "id": "e06e60d5",
   "metadata": {},
   "source": [
    "## Part 1: `sklearn` Pipelines 🧠\n",
    "\n",
    "The file `data/toy.csv` contains an example dataset that consists of 4 columns:\n",
    "\n",
    "- `'group'`: a categorical column with 3 categories\n",
    "- `'c1'`: a numeric attribute\n",
    "- `'c2'`: a numeric attribute\n",
    "- `'y'`: the target variable (that you want to predict) \n",
    "```\n",
    "\n",
    "In the following questions, you will build `Pipeline`s that combine feature engineering with a linear regression model."
   ]
  },
  {
   "cell_type": "code",
   "execution_count": 5,
   "id": "f45f55ca",
   "metadata": {
    "scrolled": true
   },
   "outputs": [
    {
     "data": {
      "text/html": [
       "<div>\n",
       "<style scoped>\n",
       "    .dataframe tbody tr th:only-of-type {\n",
       "        vertical-align: middle;\n",
       "    }\n",
       "\n",
       "    .dataframe tbody tr th {\n",
       "        vertical-align: top;\n",
       "    }\n",
       "\n",
       "    .dataframe thead th {\n",
       "        text-align: right;\n",
       "    }\n",
       "</style>\n",
       "<table border=\"1\" class=\"dataframe\">\n",
       "  <thead>\n",
       "    <tr style=\"text-align: right;\">\n",
       "      <th></th>\n",
       "      <th>group</th>\n",
       "      <th>c1</th>\n",
       "      <th>c2</th>\n",
       "      <th>y</th>\n",
       "    </tr>\n",
       "  </thead>\n",
       "  <tbody>\n",
       "    <tr>\n",
       "      <th>0</th>\n",
       "      <td>B</td>\n",
       "      <td>4.058118</td>\n",
       "      <td>5.329582</td>\n",
       "      <td>12.649035</td>\n",
       "    </tr>\n",
       "    <tr>\n",
       "      <th>1</th>\n",
       "      <td>A</td>\n",
       "      <td>4.194945</td>\n",
       "      <td>3.839476</td>\n",
       "      <td>17.309083</td>\n",
       "    </tr>\n",
       "    <tr>\n",
       "      <th>2</th>\n",
       "      <td>A</td>\n",
       "      <td>2.246411</td>\n",
       "      <td>10.694666</td>\n",
       "      <td>15.695646</td>\n",
       "    </tr>\n",
       "    <tr>\n",
       "      <th>3</th>\n",
       "      <td>B</td>\n",
       "      <td>2.510912</td>\n",
       "      <td>6.414960</td>\n",
       "      <td>11.535752</td>\n",
       "    </tr>\n",
       "    <tr>\n",
       "      <th>4</th>\n",
       "      <td>B</td>\n",
       "      <td>3.194722</td>\n",
       "      <td>6.116839</td>\n",
       "      <td>14.954389</td>\n",
       "    </tr>\n",
       "  </tbody>\n",
       "</table>\n",
       "</div>"
      ],
      "text/plain": [
       "  group        c1         c2          y\n",
       "0     B  4.058118   5.329582  12.649035\n",
       "1     A  4.194945   3.839476  17.309083\n",
       "2     A  2.246411  10.694666  15.695646\n",
       "3     B  2.510912   6.414960  11.535752\n",
       "4     B  3.194722   6.116839  14.954389"
      ]
     },
     "execution_count": 5,
     "metadata": {},
     "output_type": "execute_result"
    }
   ],
   "source": [
    "fp = os.path.join('data', 'toy.csv')\n",
    "data = pd.read_csv(fp)\n",
    "data.head()"
   ]
  },
  {
   "cell_type": "markdown",
   "id": "13afbee5",
   "metadata": {},
   "source": [
    "### Question 1\n",
    "\n",
    "First, you will train a regression model using only a *log-scaled* `'c2'` variable. Create a `Pipeline` that:\n",
    "1. log-scales `'c2'`, then\n",
    "2. predicts `'y'` using a linear regression model (using your transformed `'c2'`).\n",
    "\n",
    "That is, complete the implementation of the function `simple_pipeline`, which takes in a DataFrame like `data` and returns a **tuple** consisting of \n",
    "- An already-fit `Pipeline`, and\n",
    "- An array containing the predictions your model makes on `data` (after being trained on `data`).\n",
    "\n",
    "***Note:*** By \"log\", we're referring to the natural logarithm. In order to log-scale `'c2'`, you'll need to use a `FunctionTransformer`."
   ]
  },
  {
   "cell_type": "code",
   "execution_count": 6,
   "id": "583d462d",
   "metadata": {},
   "outputs": [
    {
     "data": {
      "text/html": [
       "<div>\n",
       "<style scoped>\n",
       "    .dataframe tbody tr th:only-of-type {\n",
       "        vertical-align: middle;\n",
       "    }\n",
       "\n",
       "    .dataframe tbody tr th {\n",
       "        vertical-align: top;\n",
       "    }\n",
       "\n",
       "    .dataframe thead th {\n",
       "        text-align: right;\n",
       "    }\n",
       "</style>\n",
       "<table border=\"1\" class=\"dataframe\">\n",
       "  <thead>\n",
       "    <tr style=\"text-align: right;\">\n",
       "      <th></th>\n",
       "      <th>group</th>\n",
       "      <th>c1</th>\n",
       "      <th>c2</th>\n",
       "      <th>y</th>\n",
       "    </tr>\n",
       "  </thead>\n",
       "  <tbody>\n",
       "    <tr>\n",
       "      <th>0</th>\n",
       "      <td>B</td>\n",
       "      <td>4.058118</td>\n",
       "      <td>5.329582</td>\n",
       "      <td>12.649035</td>\n",
       "    </tr>\n",
       "    <tr>\n",
       "      <th>1</th>\n",
       "      <td>A</td>\n",
       "      <td>4.194945</td>\n",
       "      <td>3.839476</td>\n",
       "      <td>17.309083</td>\n",
       "    </tr>\n",
       "    <tr>\n",
       "      <th>2</th>\n",
       "      <td>A</td>\n",
       "      <td>2.246411</td>\n",
       "      <td>10.694666</td>\n",
       "      <td>15.695646</td>\n",
       "    </tr>\n",
       "    <tr>\n",
       "      <th>3</th>\n",
       "      <td>B</td>\n",
       "      <td>2.510912</td>\n",
       "      <td>6.414960</td>\n",
       "      <td>11.535752</td>\n",
       "    </tr>\n",
       "    <tr>\n",
       "      <th>4</th>\n",
       "      <td>B</td>\n",
       "      <td>3.194722</td>\n",
       "      <td>6.116839</td>\n",
       "      <td>14.954389</td>\n",
       "    </tr>\n",
       "    <tr>\n",
       "      <th>...</th>\n",
       "      <td>...</td>\n",
       "      <td>...</td>\n",
       "      <td>...</td>\n",
       "      <td>...</td>\n",
       "    </tr>\n",
       "    <tr>\n",
       "      <th>995</th>\n",
       "      <td>C</td>\n",
       "      <td>0.436382</td>\n",
       "      <td>2.718282</td>\n",
       "      <td>7.725205</td>\n",
       "    </tr>\n",
       "    <tr>\n",
       "      <th>996</th>\n",
       "      <td>A</td>\n",
       "      <td>3.121212</td>\n",
       "      <td>8.636007</td>\n",
       "      <td>17.852916</td>\n",
       "    </tr>\n",
       "    <tr>\n",
       "      <th>997</th>\n",
       "      <td>B</td>\n",
       "      <td>2.215070</td>\n",
       "      <td>7.197776</td>\n",
       "      <td>13.864179</td>\n",
       "    </tr>\n",
       "    <tr>\n",
       "      <th>998</th>\n",
       "      <td>C</td>\n",
       "      <td>2.002297</td>\n",
       "      <td>2.718282</td>\n",
       "      <td>7.826493</td>\n",
       "    </tr>\n",
       "    <tr>\n",
       "      <th>999</th>\n",
       "      <td>C</td>\n",
       "      <td>1.932084</td>\n",
       "      <td>2.718282</td>\n",
       "      <td>6.611313</td>\n",
       "    </tr>\n",
       "  </tbody>\n",
       "</table>\n",
       "<p>1000 rows × 4 columns</p>\n",
       "</div>"
      ],
      "text/plain": [
       "    group        c1         c2          y\n",
       "0       B  4.058118   5.329582  12.649035\n",
       "1       A  4.194945   3.839476  17.309083\n",
       "2       A  2.246411  10.694666  15.695646\n",
       "3       B  2.510912   6.414960  11.535752\n",
       "4       B  3.194722   6.116839  14.954389\n",
       "..    ...       ...        ...        ...\n",
       "995     C  0.436382   2.718282   7.725205\n",
       "996     A  3.121212   8.636007  17.852916\n",
       "997     B  2.215070   7.197776  13.864179\n",
       "998     C  2.002297   2.718282   7.826493\n",
       "999     C  1.932084   2.718282   6.611313\n",
       "\n",
       "[1000 rows x 4 columns]"
      ]
     },
     "execution_count": 6,
     "metadata": {},
     "output_type": "execute_result"
    }
   ],
   "source": [
    "q1_fp = os.path.join('data', 'toy.csv')\n",
    "q1_data = pd.read_csv(q1_fp)\n",
    "q1_data"
   ]
  },
  {
   "cell_type": "code",
   "execution_count": 7,
   "id": "ad11bee1",
   "metadata": {},
   "outputs": [
    {
     "data": {
      "text/plain": [
       "array([12.62080258, 11.33240999, 15.35709202, 13.34904182, 13.16208199,\n",
       "       12.58730638, 10.32010771,  9.97565958, 12.4341862 ,  9.97565958,\n",
       "       11.00176451, 11.72576886, 13.29324648, 13.52069629, 12.69877755,\n",
       "       16.56022602, 10.90515178, 11.59328864, 13.75185396, 10.13914047,\n",
       "       16.45741691, 12.22981832, 10.03041175, 13.6458863 , 10.40933462,\n",
       "        9.97565958, 12.6181805 , 13.2395772 , 17.80416143,  9.97565958,\n",
       "       17.31864025, 11.70631644, 10.04917783, 13.54303459, 10.23465198,\n",
       "        9.97565958,  9.97565958, 14.13802627, 15.54064641,  9.97565958,\n",
       "        9.97565958, 15.66902784,  9.97565958, 14.88720712, 10.67109288,\n",
       "       11.29811807, 13.80545472, 10.23529717, 10.40456903, 13.08402701,\n",
       "        9.97565958,  9.97565958,  9.97565958,  9.97565958, 15.10329322,\n",
       "       12.32722694, 13.95698297,  9.97565958,  9.97565958,  9.97565958,\n",
       "        9.97565958, 11.05800145,  9.97565958,  9.97565958, 13.77397551,\n",
       "       17.70287735, 10.31042233, 15.31536588, 16.33383322,  9.97565958,\n",
       "       14.97079869,  9.97565958,  9.98941903,  9.97565958,  9.97565958,\n",
       "       12.13115627, 13.08264655, 10.7803003 , 10.10361658, 12.50925298,\n",
       "       11.81374969,  9.97565958, 13.92511727, 12.32665705, 16.39950047,\n",
       "       12.03158679, 13.53876868, 10.51132597, 10.54800032,  9.97565958,\n",
       "       11.77860887, 11.85689079,  9.97565958,  9.97565958,  9.97565958,\n",
       "       15.30979672, 12.83403068,  9.97565958,  9.97565958, 12.48678172,\n",
       "       12.83662321, 17.19677166,  9.97565958, 11.07949006, 11.75638585,\n",
       "        9.97565958,  9.97565958, 15.48895222, 16.44897237, 10.22508261,\n",
       "       11.76346936, 10.65584042,  9.97565958, 13.36049064, 12.94928047,\n",
       "        9.97565958, 15.21954177,  9.97565958,  9.97565958, 13.54993378,\n",
       "       13.561096  , 14.43596118,  9.97565958, 11.55771178,  9.97565958,\n",
       "        9.97565958, 13.27936289, 10.25134273, 12.99433539, 12.24478839,\n",
       "       17.16461764, 16.16340779, 11.91935422,  9.97565958, 12.91275162,\n",
       "       12.06812144, 13.70607754, 10.93894617,  9.97565958,  9.97565958,\n",
       "       16.95568066, 14.17948161,  9.97565958, 10.09150604,  9.97565958,\n",
       "        9.97565958, 15.5245347 , 15.69166602,  9.97565958, 12.16121561,\n",
       "        9.97565958, 15.20778645,  9.97565958, 13.66935098, 12.85299909,\n",
       "       11.1169081 ,  9.97565958, 13.15247854, 13.17396895,  9.97565958,\n",
       "        9.97565958, 10.67882736,  9.97565958, 15.11138844, 11.59727103,\n",
       "       11.60776838,  9.97565958,  9.97565958, 11.37678765,  9.97565958,\n",
       "        9.97565958, 10.78401688, 16.61547736, 11.65824063, 16.61259132,\n",
       "       11.17821344, 10.22916637, 11.37745497, 11.31561077, 11.95768093,\n",
       "       12.44785701, 11.52709598, 14.51876791, 11.25801369,  9.97565958,\n",
       "       16.95047842, 15.66171267,  9.97565958,  9.97565958, 12.46368585,\n",
       "       13.33723475,  9.97565958, 11.42996096,  9.99737386, 12.35950949,\n",
       "       13.35478251, 10.19181867, 12.92463884, 16.97302338, 17.57926795,\n",
       "       11.87437159, 11.77028686, 11.8893785 , 15.99889197, 15.36768212,\n",
       "        9.97565958,  9.97565958,  9.97565958, 12.87627787, 17.09109771,\n",
       "       17.45244492, 11.61042586, 10.66161341, 15.33385765, 12.58358769,\n",
       "       12.68124667, 16.05583385, 15.22617885,  9.97565958, 11.57587922,\n",
       "        9.97565958,  9.97565958,  9.97565958,  9.97565958,  9.97565958,\n",
       "       10.01440475, 13.86781388, 12.19758444, 13.62519929,  9.97565958,\n",
       "        9.97565958, 11.22330338,  9.97565958, 13.32666444, 11.04178574,\n",
       "       11.3693541 , 17.19195619, 11.20587562, 17.01821599,  9.97565958,\n",
       "       11.88632292, 12.80093113, 15.50143365, 12.77772219,  9.97565958,\n",
       "       10.41193255,  9.97565958, 14.51204242,  9.97565958,  9.97565958,\n",
       "       10.27706103, 10.04047086,  9.97565958, 13.02676223,  9.97565958,\n",
       "        9.97565958,  9.97565958, 12.74344643,  9.97565958, 11.46221303,\n",
       "        9.97565958,  9.97565958, 10.93915291, 10.35627437,  9.97565958,\n",
       "       13.11539395,  9.97565958,  9.97565958,  9.97565958, 10.52865504,\n",
       "        9.97565958, 10.52971618, 13.22522968, 14.04751392,  9.97565958,\n",
       "        9.97565958, 17.69846674, 17.61394016,  9.97565958, 12.04230792,\n",
       "       10.75025581, 10.40807705, 10.75233232,  9.97565958, 13.38179119,\n",
       "        9.97565958, 16.96040179,  9.97565958,  9.97565958, 11.81973849,\n",
       "       16.8108996 , 15.30804614, 11.25883912,  9.97565958, 11.12233312,\n",
       "        9.97565958, 13.13982838,  9.97565958, 13.76442954, 10.46288759,\n",
       "       10.62007072,  9.97565958, 12.32083736, 10.81357597, 11.12772182,\n",
       "        9.97565958,  9.97565958, 13.41439573,  9.97565958,  9.97565958,\n",
       "       16.97055326, 11.49112927, 10.4981806 ,  9.97565958, 15.78959252,\n",
       "        9.97565958, 11.46653935,  9.97565958, 10.32845142, 13.05367366,\n",
       "       15.33809366, 10.65945241, 13.18366573,  9.97565958,  9.97565958,\n",
       "       13.71013213, 13.74644658, 11.90355806,  9.97565958, 16.47962223,\n",
       "        9.97565958, 17.82545175, 13.07417451, 14.09228198,  9.97565958,\n",
       "       11.67483493, 10.59804431, 12.63698105, 12.76283502, 10.28237809,\n",
       "       15.78219854, 13.3691373 , 10.99163155,  9.97565958, 10.10603872,\n",
       "       17.58320268, 10.43602798, 11.70814523, 10.1618998 , 10.27285872,\n",
       "       13.12108083, 12.19997426, 13.83270531,  9.97565958, 12.41565244,\n",
       "        9.97565958, 13.43423824, 10.0902715 , 16.74339555, 10.46035902,\n",
       "       12.78781094, 16.1490684 ,  9.97565958,  9.97565958,  9.97565958,\n",
       "       12.55975452, 16.07801388, 12.75242448,  9.97565958,  9.97565958,\n",
       "       14.4994008 , 17.18366433, 11.21256101, 12.40302373,  9.97565958,\n",
       "        9.97565958, 11.38528483, 11.97882261,  9.97565958,  9.97565958,\n",
       "       15.93974844,  9.97565958, 10.35542641, 10.90812587, 13.81281609,\n",
       "       15.15556833,  9.97565958, 13.37815447, 15.38691098,  9.97565958,\n",
       "        9.99971641, 17.32061718, 10.7555004 , 10.63219403, 13.48690591,\n",
       "       15.69198269,  9.97565958, 13.04596471, 13.43805111,  9.97565958,\n",
       "        9.97565958, 14.042934  ,  9.97565958, 15.92840483, 16.82167524,\n",
       "       14.22093142, 13.76276229, 17.71516554, 15.88755989, 12.9449486 ,\n",
       "       17.71546077,  9.97565958, 11.31295278, 13.70127095, 10.3780194 ,\n",
       "       11.76161729, 14.71961744,  9.97565958,  9.97565958,  9.97565958,\n",
       "        9.97565958, 17.64075363, 10.92989648, 10.91755973, 10.73117707,\n",
       "       10.15927622,  9.97565958,  9.97565958, 13.59399732, 12.9357942 ,\n",
       "       15.40366445, 10.90862295, 13.73589925, 17.70347119, 13.27571655,\n",
       "        9.97565958, 11.97818654,  9.97565958, 14.08321257, 10.75929469,\n",
       "       11.10898544,  9.97565958, 13.68355085,  9.97565958, 11.98825433,\n",
       "       12.80707139, 11.50966114,  9.97565958, 13.58303118, 10.60642725,\n",
       "        9.97565958, 16.72318793, 12.3264533 ,  9.97565958, 15.2184814 ,\n",
       "       13.29978323, 12.97034507,  9.97565958,  9.97565958, 11.98695249,\n",
       "       11.8990132 ,  9.97565958,  9.97565958, 11.91706476, 10.91155378,\n",
       "        9.97565958, 11.38215145,  9.97565958,  9.97565958,  9.97565958,\n",
       "        9.97565958,  9.97565958, 16.56691362, 10.12066751,  9.97565958,\n",
       "       11.87006024,  9.97565958, 13.09818697,  9.97565958,  9.97565958,\n",
       "        9.97565958, 13.38591582, 17.49040014,  9.97565958,  9.97565958,\n",
       "       10.22317257, 13.88312785,  9.97565958, 10.42482477, 10.94443286,\n",
       "       13.884551  ,  9.97565958,  9.97565958, 13.22976778,  9.97565958,\n",
       "       10.53971169, 16.06344627, 17.41637944, 12.64468728,  9.97565958,\n",
       "       12.25836558, 13.42098748, 13.79078882, 12.49506072, 10.78275677,\n",
       "       11.23317629, 11.53154154, 10.97546763, 15.00491495,  9.97565958,\n",
       "        9.97565958, 13.78590081,  9.97565958, 12.75410524, 12.74683941,\n",
       "       10.11983434,  9.97565958,  9.97565958, 16.86508271,  9.97565958,\n",
       "       15.25623441,  9.97565958, 16.60618568,  9.97565958,  9.97565958,\n",
       "       11.27288853,  9.97565958, 10.95352145, 11.42793026, 17.19172569,\n",
       "        9.97565958, 11.04556234, 10.3383521 , 12.7745725 , 12.26070194,\n",
       "        9.97565958, 10.70640022,  9.97565958, 11.12037546, 12.79908607,\n",
       "       10.47143541, 16.42717866,  9.97565958, 11.1482248 , 12.11315514,\n",
       "       13.03794349,  9.97565958, 11.98644183, 11.41196228, 12.51536703,\n",
       "        9.97565958, 11.94763047, 14.51746747, 10.42605268, 13.76390148,\n",
       "       14.0939867 , 10.55193634, 10.65498488, 10.65601278,  9.97565958,\n",
       "       11.31162224, 13.49656182, 13.85910957, 12.29863487,  9.97565958,\n",
       "        9.97565958, 13.19112394, 12.59473678, 13.3210707 , 13.16187343,\n",
       "       11.33364678, 15.7811    ,  9.97565958,  9.97565958, 12.95418428,\n",
       "       13.46329589, 10.89456271,  9.97565958,  9.97565958, 10.53114945,\n",
       "       12.30817737, 16.7157405 ,  9.97565958, 13.02389138,  9.97565958,\n",
       "       11.76495614, 17.2991513 ,  9.97565958, 13.26850328,  9.97565958,\n",
       "        9.97565958, 14.16123963, 11.5912912 ,  9.97565958, 12.89903369,\n",
       "       15.8310652 , 10.45267729, 13.60720075, 15.45100049, 10.17030895,\n",
       "        9.97565958,  9.97565958, 13.81906688,  9.97565958, 11.17747759,\n",
       "       12.2162966 ,  9.97565958, 10.7122958 ,  9.97565958,  9.97565958,\n",
       "       13.09701822,  9.97565958,  9.97565958,  9.97565958, 10.47265501,\n",
       "       13.6713085 , 12.73887688,  9.97565958, 12.49094396,  9.97565958,\n",
       "        9.97565958, 10.13737275, 13.84929437, 13.75757825, 17.13526349,\n",
       "       10.70989791,  9.97565958,  9.97565958,  9.97565958,  9.993585  ,\n",
       "        9.97565958, 10.97037769, 10.92666962,  9.97565958, 11.09260823,\n",
       "        9.97565958,  9.97565958,  9.97565958, 12.5012178 , 10.21479206,\n",
       "        9.97565958, 10.91382297,  9.97565958, 10.33924892,  9.97565958,\n",
       "       17.5898811 , 11.18214284, 11.23533698, 12.24799262, 15.94691672,\n",
       "       10.35165026,  9.97565958, 13.73636792, 16.3321004 ,  9.97565958,\n",
       "        9.97565958, 10.41438668, 13.01912144, 17.28711596, 16.34284274,\n",
       "        9.97565958, 11.28530007,  9.97565958, 13.71104368,  9.97565958,\n",
       "       17.56361205, 10.61696234,  9.97565958, 10.09000327, 11.65393767,\n",
       "       15.52587135, 15.60353223,  9.97565958, 12.91592323, 16.17869377,\n",
       "       14.17112878, 17.34280162,  9.97565958,  9.97565958,  9.97565958,\n",
       "       10.91997874, 11.68661681, 10.52969153,  9.97565958,  9.97565958,\n",
       "       15.39256293, 17.12227775, 13.10105484, 15.72883017, 10.7952956 ,\n",
       "       10.53799897,  9.97565958, 14.98020969,  9.97565958,  9.97565958,\n",
       "       15.49208391,  9.97565958, 12.70333373, 10.26542107, 10.32526258,\n",
       "        9.97565958,  9.97565958, 12.07488455,  9.97565958,  9.97565958,\n",
       "       13.06109593, 17.12699538, 11.42585625, 11.36102565,  9.97565958,\n",
       "       14.86195151,  9.97565958,  9.97565958,  9.97565958,  9.97565958,\n",
       "       12.8267471 ,  9.97565958, 12.4035911 ,  9.97565958, 13.76791879,\n",
       "        9.97565958, 11.19705566, 13.74229995,  9.97565958,  9.97565958,\n",
       "        9.97565958,  9.97565958,  9.97565958, 10.20054896,  9.97565958,\n",
       "       11.01740052,  9.97565958, 12.64234202, 16.32486981,  9.97565958,\n",
       "       11.76197637, 17.67828823, 13.93969331, 14.26761992, 13.49358659,\n",
       "        9.97565958, 12.2881965 , 10.59794208, 13.99770861,  9.97565958,\n",
       "       11.08845292,  9.97565958, 12.44481556, 12.06732622, 13.46990942,\n",
       "        9.97565958, 15.16895504, 10.75625872,  9.97565958,  9.97565958,\n",
       "        9.97565958, 13.55721554,  9.97565958, 15.06035577,  9.97565958,\n",
       "       12.77018624, 14.864076  , 11.19882269,  9.97565958,  9.97565958,\n",
       "        9.97565958, 12.82357501,  9.97565958, 13.79019395,  9.97565958,\n",
       "        9.97565958, 12.98661954,  9.97565958,  9.97565958, 13.58863444,\n",
       "        9.97565958,  9.97565958, 12.89918505,  9.97565958, 10.83373105,\n",
       "        9.97565958, 15.57987081,  9.97565958, 12.24942525, 13.13774433,\n",
       "       10.24701557, 11.45129553, 13.46730627, 13.21358229,  9.97565958,\n",
       "       12.93870081, 12.4956441 , 11.71425277, 10.20476395, 10.75354936,\n",
       "        9.97565958, 15.75314214,  9.97565958,  9.97565958,  9.97565958,\n",
       "        9.97565958, 11.17721913, 10.07931159, 11.76449165,  9.97565958,\n",
       "       12.68856169, 13.18923536, 14.54583991, 11.77239358, 12.51032587,\n",
       "       15.0430019 , 14.79365433, 10.30058681, 13.05513441,  9.97565958,\n",
       "       12.60210772,  9.97565958,  9.97565958, 13.99001569, 12.11639546,\n",
       "        9.97565958,  9.97565958, 15.14417906,  9.97565958, 10.62376849,\n",
       "        9.97565958, 13.56758631, 10.64252948, 11.95125538, 11.86352339,\n",
       "       13.09670436, 12.37696051,  9.97565958,  9.97565958, 11.38617054,\n",
       "       10.32501516,  9.97565958,  9.97565958,  9.97565958,  9.97565958,\n",
       "       11.52742717,  9.97565958, 13.80071516, 12.02489433, 16.00703476,\n",
       "       12.84747845, 15.75299456, 13.44286055, 13.40694364, 15.69013931,\n",
       "        9.97565958, 14.02221589, 12.96195769,  9.97565958, 10.05807227,\n",
       "       16.92958097, 14.82777417,  9.97565958,  9.97565958, 12.70900592,\n",
       "       12.25215438, 17.51853315,  9.97565958, 12.54734446, 10.08023582,\n",
       "       13.26627247,  9.97565958, 16.41547002, 14.4285397 , 11.81757478,\n",
       "       10.38831895, 11.93280492, 12.89989679, 11.26201196, 10.6228103 ,\n",
       "       15.32428304,  9.97565958, 12.40955245, 10.12724203,  9.97565958,\n",
       "        9.97565958, 16.99459092, 15.63216373, 11.76673713,  9.97565958,\n",
       "       11.97696422, 14.99058325, 14.86402971, 12.01088689,  9.97565958,\n",
       "       13.10785302,  9.97565958, 13.00188306, 11.23364152,  9.97565958,\n",
       "       16.88326227, 11.39499669,  9.97565958, 13.18284039, 12.37558032,\n",
       "       13.85286048, 17.01264007, 12.95421718, 15.31017443,  9.97565958,\n",
       "       15.40331386, 10.96171678, 10.46024776,  9.97565958,  9.97565958,\n",
       "        9.97565958, 11.29209231, 10.12395704, 15.69652679,  9.97565958,\n",
       "       12.150477  , 13.15586761, 14.94778375, 14.37110033, 10.67087349,\n",
       "       11.63765392, 17.00664773,  9.97565958,  9.97565958, 16.13419664,\n",
       "       16.89267844, 13.39314687, 13.40687981, 12.49989409, 16.18019237,\n",
       "        9.97565958, 13.85163289,  9.97565958, 10.81447183, 15.59747331,\n",
       "       16.14675954, 13.60971356, 10.4318057 ,  9.97565958,  9.97565958,\n",
       "       12.82273258, 12.17465763, 12.60014657,  9.97565958, 13.86114296,\n",
       "       10.48746387, 13.8159025 , 12.92830624, 10.44587545, 16.05306139,\n",
       "        9.97565958,  9.97565958, 10.35318988,  9.97565958, 16.89278246,\n",
       "       13.87428726,  9.97565958,  9.97565958, 13.21569808, 13.27316617,\n",
       "        9.97565958, 15.66846787, 12.31638323, 14.71867157,  9.97565958,\n",
       "       16.77067106, 12.30487956,  9.97565958, 12.58350096, 13.88246359,\n",
       "       16.82276247, 11.87434833,  9.97565958,  9.97565958, 11.54015012,\n",
       "        9.97565958, 13.07613496, 14.57507625, 12.5648947 , 16.68805304,\n",
       "        9.97565958, 13.49076308, 12.09301547, 13.65674302,  9.97565958,\n",
       "       11.52977678, 13.06336949,  9.97565958, 10.01720376, 12.21720691,\n",
       "       15.13731862, 11.04490255, 13.29734439, 13.32979283,  9.97565958,\n",
       "        9.97565958, 14.51709931, 13.80139968,  9.97565958,  9.97565958])"
      ]
     },
     "execution_count": 7,
     "metadata": {},
     "output_type": "execute_result"
    }
   ],
   "source": [
    "# q1_data['c2_log'] = np.log(q1_data['c2'])\n",
    "log_transformer = FunctionTransformer(np.log, validate=True)\n",
    "# c2_model_log = LinearRegression()\n",
    "# c2_model_log.fit(q1_data[['c2_log']], q1_data['y'])\n",
    "pl = Pipeline(steps=[\n",
    "    ('log_scaler', log_transformer),\n",
    "    ('regressor', LinearRegression())\n",
    "])\n",
    "pl.fit(q1_data[['c2']], q1_data['y'])\n",
    "pl.predict(q1_data[['c2']])"
   ]
  },
  {
   "cell_type": "code",
   "execution_count": 8,
   "metadata": {},
   "outputs": [],
   "source": [
    "# q1_data['c2_log'] = np.log(q1_data['c2'])\n",
    "# log_transformer = FunctionTransformer(np.log, validate=True)\n",
    "# c2_model_log = LinearRegression()\n",
    "# c2_model_log.fit(q1_data[['c2_log']], q1_data['y'])\n",
    "# pl = Pipeline(steps=[\n",
    "#     ('regressor', LinearRegression())\n",
    "# ])\n",
    "# pl.fit(q1_data[['c2_log']], q1_data['y'])\n",
    "# pl.predict(q1_data[['c2_log']])"
   ]
  },
  {
   "cell_type": "code",
   "execution_count": 9,
   "id": "bff9ade1",
   "metadata": {},
   "outputs": [],
   "source": [
    "# don't change this cell, but do run it -- it is needed for the tests to work\n",
    "q1_fp = os.path.join('data', 'toy.csv')\n",
    "q1_data = pd.read_csv(q1_fp)\n",
    "q1_pl, q1_preds = simple_pipeline(q1_data)"
   ]
  },
  {
   "cell_type": "code",
   "execution_count": 10,
   "id": "82fc14b2",
   "metadata": {
    "deletable": false,
    "editable": false
   },
   "outputs": [
    {
     "data": {
      "text/html": [
       "<p><strong><pre style='display: inline;'>q1</pre></strong> passed!</p>"
      ],
      "text/plain": [
       "q1 results: All test cases passed!"
      ]
     },
     "execution_count": 10,
     "metadata": {},
     "output_type": "execute_result"
    }
   ],
   "source": [
    "grader.check(\"q1\")"
   ]
  },
  {
   "cell_type": "markdown",
   "id": "40653122",
   "metadata": {},
   "source": [
    "### Question 2\n",
    "\n",
    "Now, you will engineer features from the other columns and use them to train a regression model.  Create a `Pipeline` that:\n",
    "1. uses `'c1'` as is,\n",
    "1. log-scales `'c2'`,\n",
    "1. one-hot encodes `'group'`, and\n",
    "1. predicts `'y'` using a linear regression model built on the three variables above. (Note that your model will have more than three \"features\", because one-hot encoding `'group'` will create multiple columns. Don't drop any of them.)\n",
    "\n",
    "That is, complete the implementation of the function `multi_type_pipeline`, which takes in a DataFrame like `data` and returns a **tuple** consisting of\n",
    "- An already-fit `Pipeline`, and\n",
    "- An array containing the predictions your model makes on `data` (after being trained on `data`).\n",
    "\n",
    "***Hint:*** Use `ColumnTransformer`, as we did in [Lecture 22](https://dsc80.com/resources/lectures/lec22/lec22.html#Planning-our-first-ColumnTransformer)."
   ]
  },
  {
   "cell_type": "code",
   "execution_count": 11,
   "metadata": {},
   "outputs": [
    {
     "data": {
      "text/html": [
       "<div>\n",
       "<style scoped>\n",
       "    .dataframe tbody tr th:only-of-type {\n",
       "        vertical-align: middle;\n",
       "    }\n",
       "\n",
       "    .dataframe tbody tr th {\n",
       "        vertical-align: top;\n",
       "    }\n",
       "\n",
       "    .dataframe thead th {\n",
       "        text-align: right;\n",
       "    }\n",
       "</style>\n",
       "<table border=\"1\" class=\"dataframe\">\n",
       "  <thead>\n",
       "    <tr style=\"text-align: right;\">\n",
       "      <th></th>\n",
       "      <th>group</th>\n",
       "      <th>c1</th>\n",
       "      <th>c2</th>\n",
       "      <th>y</th>\n",
       "    </tr>\n",
       "  </thead>\n",
       "  <tbody>\n",
       "    <tr>\n",
       "      <th>0</th>\n",
       "      <td>B</td>\n",
       "      <td>4.058118</td>\n",
       "      <td>5.329582</td>\n",
       "      <td>12.649035</td>\n",
       "    </tr>\n",
       "    <tr>\n",
       "      <th>1</th>\n",
       "      <td>A</td>\n",
       "      <td>4.194945</td>\n",
       "      <td>3.839476</td>\n",
       "      <td>17.309083</td>\n",
       "    </tr>\n",
       "    <tr>\n",
       "      <th>2</th>\n",
       "      <td>A</td>\n",
       "      <td>2.246411</td>\n",
       "      <td>10.694666</td>\n",
       "      <td>15.695646</td>\n",
       "    </tr>\n",
       "    <tr>\n",
       "      <th>3</th>\n",
       "      <td>B</td>\n",
       "      <td>2.510912</td>\n",
       "      <td>6.414960</td>\n",
       "      <td>11.535752</td>\n",
       "    </tr>\n",
       "    <tr>\n",
       "      <th>4</th>\n",
       "      <td>B</td>\n",
       "      <td>3.194722</td>\n",
       "      <td>6.116839</td>\n",
       "      <td>14.954389</td>\n",
       "    </tr>\n",
       "    <tr>\n",
       "      <th>...</th>\n",
       "      <td>...</td>\n",
       "      <td>...</td>\n",
       "      <td>...</td>\n",
       "      <td>...</td>\n",
       "    </tr>\n",
       "    <tr>\n",
       "      <th>995</th>\n",
       "      <td>C</td>\n",
       "      <td>0.436382</td>\n",
       "      <td>2.718282</td>\n",
       "      <td>7.725205</td>\n",
       "    </tr>\n",
       "    <tr>\n",
       "      <th>996</th>\n",
       "      <td>A</td>\n",
       "      <td>3.121212</td>\n",
       "      <td>8.636007</td>\n",
       "      <td>17.852916</td>\n",
       "    </tr>\n",
       "    <tr>\n",
       "      <th>997</th>\n",
       "      <td>B</td>\n",
       "      <td>2.215070</td>\n",
       "      <td>7.197776</td>\n",
       "      <td>13.864179</td>\n",
       "    </tr>\n",
       "    <tr>\n",
       "      <th>998</th>\n",
       "      <td>C</td>\n",
       "      <td>2.002297</td>\n",
       "      <td>2.718282</td>\n",
       "      <td>7.826493</td>\n",
       "    </tr>\n",
       "    <tr>\n",
       "      <th>999</th>\n",
       "      <td>C</td>\n",
       "      <td>1.932084</td>\n",
       "      <td>2.718282</td>\n",
       "      <td>6.611313</td>\n",
       "    </tr>\n",
       "  </tbody>\n",
       "</table>\n",
       "<p>1000 rows × 4 columns</p>\n",
       "</div>"
      ],
      "text/plain": [
       "    group        c1         c2          y\n",
       "0       B  4.058118   5.329582  12.649035\n",
       "1       A  4.194945   3.839476  17.309083\n",
       "2       A  2.246411  10.694666  15.695646\n",
       "3       B  2.510912   6.414960  11.535752\n",
       "4       B  3.194722   6.116839  14.954389\n",
       "..    ...       ...        ...        ...\n",
       "995     C  0.436382   2.718282   7.725205\n",
       "996     A  3.121212   8.636007  17.852916\n",
       "997     B  2.215070   7.197776  13.864179\n",
       "998     C  2.002297   2.718282   7.826493\n",
       "999     C  1.932084   2.718282   6.611313\n",
       "\n",
       "[1000 rows x 4 columns]"
      ]
     },
     "execution_count": 11,
     "metadata": {},
     "output_type": "execute_result"
    }
   ],
   "source": [
    "q2_fp = os.path.join('data', 'toy.csv')\n",
    "q2_data = pd.read_csv(q2_fp)\n",
    "q2_data"
   ]
  },
  {
   "cell_type": "code",
   "execution_count": 12,
   "id": "ee16bd9e",
   "metadata": {},
   "outputs": [],
   "source": [
    "preproc = ColumnTransformer(\n",
    "    transformers=[\n",
    "        ('c2_log', log_transformer, ['c2']),\n",
    "        ('ohe_group', OneHotEncoder(), ['group'])\n",
    "    ]\n",
    ")"
   ]
  },
  {
   "cell_type": "code",
   "execution_count": 13,
   "id": "c98c3fcb",
   "metadata": {},
   "outputs": [
    {
     "data": {
      "text/plain": [
       "Pipeline(steps=[('preprocessor',\n",
       "                 ColumnTransformer(transformers=[('c2_log',\n",
       "                                                  FunctionTransformer(func=<ufunc 'log'>,\n",
       "                                                                      validate=True),\n",
       "                                                  ['c2']),\n",
       "                                                 ('ohe_group', OneHotEncoder(),\n",
       "                                                  ['group'])])),\n",
       "                ('lin-reg', LinearRegression())])"
      ]
     },
     "execution_count": 13,
     "metadata": {},
     "output_type": "execute_result"
    }
   ],
   "source": [
    "pl = Pipeline([\n",
    "    ('preprocessor', preproc), \n",
    "    ('lin-reg', LinearRegression())\n",
    "])\n",
    "pl.fit(q2_data.drop(columns='y'), q2_data['y'])\n"
   ]
  },
  {
   "cell_type": "code",
   "execution_count": null,
   "metadata": {},
   "outputs": [],
   "source": []
  },
  {
   "cell_type": "code",
   "execution_count": null,
   "metadata": {},
   "outputs": [],
   "source": []
  },
  {
   "cell_type": "code",
   "execution_count": 14,
   "id": "1aae6ca9",
   "metadata": {},
   "outputs": [],
   "source": [
    "# don't change this cell, but do run it -- it is needed for the tests to work\n",
    "q2_fp = os.path.join('data', 'toy.csv')\n",
    "q2_data = pd.read_csv(q2_fp)\n",
    "q2_pl, q2_preds = multi_type_pipeline(q2_data)"
   ]
  },
  {
   "cell_type": "code",
   "execution_count": 15,
   "id": "c86676ee",
   "metadata": {
    "deletable": false,
    "editable": false
   },
   "outputs": [
    {
     "data": {
      "text/html": [
       "<p><strong><pre style='display: inline;'>q2</pre></strong> passed!</p>"
      ],
      "text/plain": [
       "q2 results: All test cases passed!"
      ]
     },
     "execution_count": 15,
     "metadata": {},
     "output_type": "execute_result"
    }
   ],
   "source": [
    "grader.check(\"q2\")"
   ]
  },
  {
   "cell_type": "markdown",
   "id": "ec4950ae",
   "metadata": {},
   "source": [
    "### Question 3\n",
    "\n",
    "It seems like `'c1'` and `'c2'` have strong associations with the values of `'group'` (to see this, run the cell below). This suggests that group-wise scaling might make good features. \n",
    "\n",
    "\n",
    "Now, we want to standardize (i.e. z-score) both `'c1'` and `'c2'` **within each `'group'`** (`'A'`, `'B'`, and `'C'`). Unfortunately, there is no built-in transformer in `sklearn` that performs group-wise standardization, so **you will need to create your own transformer!**\n",
    "\n",
    "Your job is to complete the implementation of the `StdScalerByGroup` transformer class, meaning that you need to implement the `fit` and `transform` methods, along with the constructor (`__init__`).\n",
    "- The `StdScalerByGroup` transformer works on an input array/DataFrame `X` whose first column contains groups, and whose remaining columns are quantitative and need to be standardized (within each group).\n",
    "- The `fit` method should determine the mean and standard deviation of each quantitative column within each group in the input data `X` and save them in the instance variable `grps_`. (For instance, one of the quantities you may calculate here is the standard deviation of `'c1'`, but only for the rows whose `'group'` is `'B'`.)\n",
    "- The `transform` method should take in an input array/DataFrame `X`, standardize each quantitative column separately using the means and standard deviations stored in `grps_`, and return a DataFrame containing the transformed quantitative columns.\n",
    "\n",
    "\n",
    "If you `fit` and `transform` a `StdScalerByGroup` transformer on the `toy` DataFrame (without the `'y'` column), you should get back a DataFrame with two columns, `'c1'` and `'c2'`, with groups stored in the index (if you end up creating a `MultiIndex`, that is fine).\n",
    "\n",
    "\n",
    "***Notes:***\n",
    "1. You may decide on whatever structure you'd like for the `grps_` variable. This question will be graded on the correctness of the output of your transformer. (Check the correctness of your work by checking the output by-hand!)    \n",
    "2. At no point should you loop over the **rows** of `data` (in fact, our solution doesn't use any loops), but you are allowed to use loop in this question.\n",
    "3. The `'group'` column in the public tests is named `'g'` instead of `'group'`. Remember, the first column will **always** contain the groups, even if the first column's name is something other than `'group'`.\n",
    "4. Do not worry about cases where the standard deviation is equal to 0, the function `std` might work in this case."
   ]
  },
  {
   "cell_type": "code",
   "execution_count": 16,
   "id": "a45ff4bc",
   "metadata": {},
   "outputs": [
    {
     "data": {
      "application/vnd.plotly.v1+json": {
       "config": {
        "plotlyServerURL": "https://plot.ly"
       },
       "data": [
        {
         "hovertemplate": "group=B<br>c1=%{x}<br>y=%{y}<extra></extra>",
         "legendgroup": "B",
         "marker": {
          "color": "#636efa",
          "symbol": "circle"
         },
         "mode": "markers",
         "name": "B",
         "orientation": "v",
         "showlegend": true,
         "type": "scatter",
         "x": [
          4.058117888138774,
          2.5109121205320517,
          3.1947221710466,
          1.736451078468056,
          4.261710729059337,
          1.26841104235928,
          3.4378084497060373,
          1.6876246815082134,
          3.347918882159645,
          0.2458660763390714,
          3.160618526672987,
          1.8045405824204523,
          2.399608467411986,
          2.555394827270628,
          1.0979941134099989,
          2.5904679077095434,
          1.8795209330125855,
          3.0953390159813257,
          2.52415093573228,
          1.3571539851148082,
          3.3002040976817346,
          2.1313772698143856,
          1.2431929292752923,
          0.7780160996075992,
          1.1418000470120395,
          1.9003461993974595,
          2.139308130857521,
          3.5495786900295903,
          2.822584173244997,
          1.5613148642071013,
          1.1379269185563643,
          1.20213621705015,
          2.123060578001717,
          2.7868133994340023,
          1.8994772567502327,
          1.836208083282065,
          0.5814969539803605,
          3.174394947693555,
          2.5409712568841627,
          2.80193259906387,
          1.2372257312993944,
          0.4532835705441995,
          1.9373382739202811,
          2.094754528200838,
          1.9839764497343944,
          4.866026478166608,
          2.168697329631718,
          0.0628952122277959,
          1.9334007461809055,
          1.503205469601748,
          4.764474273310023,
          2.177410090912009,
          1.5693233787128458,
          1.5812325166242251,
          2.101643070398383,
          1.7739181986936792,
          2.151519596571307,
          3.1136479776428247,
          0.4464134411840891,
          1.804682307414109,
          2.1800239194695457,
          2.836066974641013,
          1.0247700137847366,
          1.4932969204184028,
          4.851689808460229,
          3.0086525116637297,
          2.3779736738313217,
          0.9900789152298356,
          0.4889638281022757,
          1.7865863410810645,
          1.5013359042871195,
          2.686803148463337,
          4.407292309023273,
          2.8639365070288423,
          1.228464009649347,
          1.7200142609756663,
          2.0437053702446626,
          2.8984704684950646,
          1.3664781397474477,
          2.947921443004788,
          1.699177770025081,
          0.3433725899697887,
          1.2772282753397963,
          0.675062594452565,
          2.136711125862471,
          3.223289221403469,
          1.616923359653193,
          1.9980664613196408,
          1.4578224118413723,
          1.5956495330699816,
          0.9573186549456848,
          2.408826783024806,
          0.3332668318201461,
          3.052502408583563,
          2.2164577147248865,
          2.031737584513012,
          2.4206207800882065,
          2.345496328409884,
          1.3051112591306886,
          2.708397047494325,
          0.9830040591293072,
          1.635316989915164,
          1.67877577121383,
          1.9125247644335093,
          2.186266861602713,
          1.9618519741027252,
          1.6560145935229038,
          3.5742755298196416,
          2.9185328543121742,
          2.7957831916349543,
          1.2289874114599666,
          2.323795063344348,
          1.5228768148234169,
          2.163105744399853,
          2.112710332555585,
          1.8515221941429572,
          2.047298818295946,
          1.8460511171510656,
          1.1777449871858436,
          -0.3483107196696293,
          2.5442505844626657,
          3.623203736382421,
          -0.3882263541727746,
          2.2175631458528224,
          3.4128481416092926,
          -0.1092861620228073,
          1.2887710211923578,
          2.0803406024762987,
          2.29995566015506,
          1.5420378503142058,
          0.3940971068445749,
          1.6964944136218798,
          3.5101448053625672,
          0.2760981342805999,
          1.922210151798019,
          -0.45511835899982,
          2.692082772584323,
          1.314502619667281,
          3.356264251293563,
          2.4531378984289214,
          1.34625870696573,
          2.842039273958392,
          2.1900516026130714,
          2.2274183594373147,
          2.74460778213047,
          2.525833442011941,
          1.6683850560353877,
          2.846660563600988,
          1.5141086779512416,
          0.4556884355406621,
          2.768270450184593,
          1.3963615031881416,
          1.3385299769042829,
          1.8794667120184816,
          3.6508339542751935,
          1.6803286944430056,
          2.723693984232213,
          0.6834523366838241,
          0.499869770182324,
          2.4490995146326453,
          2.4711003642215426,
          0.5736904293554659,
          1.283453252095041,
          1.1263783346839171,
          1.670031943550209,
          1.8389763468445053,
          1.6834560257415374,
          1.0724076073330304,
          2.1727922013780816,
          3.812014686652956,
          1.0560410869838583,
          2.609198510384266,
          2.5159301383908392,
          2.639383839109496,
          1.931671183352062,
          2.1730260748853474,
          1.8344476098229412,
          3.1979430675834597,
          1.5521643859915806,
          0.9907233524108529,
          2.2241939896424574,
          1.8559892748087403,
          2.2992387515967696,
          1.03989837666201,
          3.5957675806304605,
          2.3980600739450453,
          1.515676811029407,
          1.6005415044348437,
          1.878913410408877,
          0.9078928212002876,
          1.4071270109982643,
          0.6792091117645327,
          4.251763767524814,
          3.300225243313688,
          2.6484373306683304,
          1.1580734369422756,
          2.478402108338931,
          1.883285146378327,
          1.6346639158482907,
          1.5459257369660273,
          2.8053946437850086,
          3.012579654381721,
          2.9540900100169143,
          2.4968053960973724,
          1.765297870144236,
          0.6281004168004136,
          0.4996243706640058,
          3.0162377918058825,
          1.4424877092269155,
          2.7558149163604924,
          3.3337311909425926,
          2.298657309975367,
          3.536041283051179,
          0.7937367412578005,
          1.0248478884798815,
          3.716284451778855,
          3.0661933293458308,
          2.438377667251629,
          2.093969263905015,
          0.8677554979464284,
          3.133735570290796,
          2.601173717611376,
          0.4949633808734139,
          0.1890886977447288,
          2.303237542947878,
          2.2809918445652517,
          4.276416887137692,
          1.5637453000797563,
          0.1535441375942778,
          1.483817517049054,
          4.019058815008979,
          2.522856045680824,
          1.8209709817445507,
          2.3612216384198432,
          0.6882449588379305,
          2.1694035428555947,
          2.3811570595923723,
          2.072672877175502,
          2.49767249121804,
          1.8169192378296917,
          3.5225274969682747,
          2.936216985772064,
          1.1440596103007508,
          0.3773257766710334,
          1.3128782236562817,
          3.3187544533053512,
          3.0692981850469483,
          1.4373711633822632,
          1.290293062427247,
          1.2673739202630836,
          3.293714510332034,
          1.1013894823082158,
          0.7056661211863466,
          1.7130816398261852,
          1.1893190390457722,
          3.2848632882005253,
          1.802465738208464,
          1.949513386716206,
          0.6275111605158392,
          2.6356203766435717,
          1.6137187837247635,
          3.3782459539934946,
          2.226885213310089,
          1.3016671149797134,
          1.223760556256028,
          3.8377103986259065,
          3.014242372589538,
          0.7311742338764624,
          3.784413066425341,
          3.5566182875064847,
          1.0393937763336267,
          3.144923444193328,
          2.5222125667487467,
          1.291016473932635,
          -0.3094694855004944,
          1.4076631176597587,
          2.21051320980302,
          0.508505073880335,
          0.4107047028229773,
          2.307028676910795,
          0.6929778806607623,
          0.4846995457451035,
          2.4359939359123404,
          2.5726679954558,
          2.447098045292511,
          1.6538757280204477,
          1.071667038598235,
          3.650456886795048,
          2.277751960678871,
          3.116445078528998,
          1.0343011457952525,
          1.7744786023427708,
          1.5671290198001535,
          1.126161358375025,
          1.1865951202086666,
          3.427381739442258,
          1.8796529269180533,
          2.043948096138831,
          1.478629044654684,
          0.7135808273576001,
          1.908848653715392,
          -0.6316297973338996,
          2.078477555798953,
          1.6211760783030027,
          4.09570918076915,
          2.0979524873631403,
          1.575017930188392,
          3.452195820860635,
          0.9785850536449588,
          2.6809451442561687,
          1.6053150568466583,
          2.8513097526569977,
          1.6917813257348406,
          1.5948155247727007,
          2.768449411679228,
          1.7866973519349236,
          2.198312983268874,
          2.8134005444075463,
          0.0725616864888643,
          1.827967338976753,
          0.7487381224412073,
          1.944357062242724,
          1.0762125144384171,
          -0.3179688460718242,
          2.577101635720595,
          0.9980723575873702,
          0.6279444558144331,
          1.8093830247430265,
          1.2688963111642435,
          2.530654586343595,
          1.6568112502206322,
          1.300359353957182,
          1.6506993167374635,
          1.3081707579361923,
          2.2150700056460395
         ],
         "xaxis": "x",
         "y": [
          12.649034977381444,
          11.535752355564618,
          14.954389254136643,
          13.59763947588919,
          13.6191093212276,
          11.763043936570162,
          14.577333776269716,
          13.482156835507848,
          14.951031135992457,
          7.749102762408572,
          10.7408365352589,
          10.968142508784863,
          13.9237384250483,
          9.869841069988976,
          8.678619107260122,
          13.06052052227146,
          11.094596914919371,
          14.512093816442018,
          13.884696198505477,
          9.477818314826331,
          11.08177771624428,
          11.404437717630223,
          13.234185225533498,
          9.413680735213756,
          13.791675778168951,
          10.840541622593197,
          13.49632623300568,
          13.781449480273732,
          9.940533906922504,
          12.264392098501308,
          10.434252408888003,
          6.959827759152683,
          13.88852576586876,
          9.517172086680215,
          10.841276093075615,
          14.02086501748477,
          15.149862537114275,
          8.218577181879226,
          13.225856488787056,
          10.3314375221348,
          8.526967864593736,
          12.030297965064827,
          13.914256185794532,
          11.794927456536236,
          11.705766187888138,
          11.56928371368324,
          13.228666175715844,
          9.34742617893849,
          12.121625796366905,
          13.013892187103725,
          20.331063134745,
          13.080732827286276,
          13.72461054404263,
          15.662180257684788,
          12.127222278066489,
          15.134008014460807,
          16.224717989326457,
          12.439383316590083,
          8.142871986390738,
          8.76069687461979,
          14.256115943732274,
          9.836822397982008,
          13.984365159319127,
          11.522430279137406,
          11.271399437678522,
          15.892889791440036,
          14.711685524929171,
          9.419581664698914,
          8.176611110818323,
          11.275441271264498,
          8.87027565317393,
          9.930357630989354,
          10.035232499119273,
          11.568783575434388,
          11.518254833011994,
          7.743755548429627,
          12.009128843351297,
          14.246600583138816,
          10.583291175955631,
          14.086592670753614,
          14.145969654533898,
          8.47104579095836,
          13.52275278283349,
          12.578055359939553,
          12.421431620831786,
          10.9231727552697,
          15.207214237347117,
          14.07741573888832,
          12.197040906207937,
          8.147204158922651,
          12.671411160506338,
          11.300440645660087,
          13.30788294596561,
          9.119097021513014,
          15.66029095154075,
          9.44242015348279,
          11.57775907901678,
          11.104850991886403,
          15.245920343882394,
          13.185864613957582,
          13.394432748707082,
          11.977131672418103,
          15.241197558438024,
          13.839467392479865,
          10.438519833332254,
          12.198332211134968,
          16.029878823028817,
          11.407381089515416,
          7.207239423565396,
          12.261909800849995,
          8.123514705369768,
          7.901868510654179,
          14.53512923846847,
          9.981200878334402,
          12.138187065500103,
          9.904644481131523,
          8.074878711404955,
          13.059230973035618,
          12.361418605219448,
          15.008375876002734,
          9.238038464819509,
          12.82856878161065,
          12.321483532293213,
          9.79807161975845,
          12.961427960059265,
          9.411356446603818,
          11.407131827529977,
          8.484320989275247,
          15.30684494979263,
          12.711409369995971,
          8.316958955476203,
          15.547470369964312,
          10.703087006070154,
          12.859114242315805,
          13.867076156273129,
          10.88332482565364,
          9.117111268260093,
          12.098526451929695,
          14.790451675226914,
          11.4803850725955,
          14.203972563349106,
          9.992562282822783,
          11.68581462025618,
          15.73775695191632,
          12.846865812696464,
          8.641800492066217,
          10.652035392388203,
          14.083725895127415,
          12.841238586065344,
          12.244030637546562,
          10.256856550424729,
          11.949293964374707,
          8.605373986718728,
          10.701952696537449,
          13.07135643085945,
          13.893309348171936,
          13.515399228542629,
          12.32981768463073,
          13.061853279762898,
          14.217025788324651,
          11.454098802564216,
          14.504048824888692,
          14.892713154188565,
          8.11829564923089,
          9.32777352059522,
          12.871381967602924,
          13.055055204814195,
          8.600997937119946,
          10.477070222274252,
          12.319426768000197,
          11.42239225594923,
          10.98715900673377,
          15.891711414737712,
          14.249426132944414,
          10.483300237308232,
          10.648521755105284,
          11.143318811265372,
          6.816054862515214,
          16.401800158907573,
          11.338812854643908,
          11.390732680586256,
          13.175230363544824,
          12.511222045203182,
          11.878416136195082,
          12.73337836034374,
          9.886087802319633,
          11.082500594258288,
          12.9148464974527,
          13.622320214897472,
          10.017127159595532,
          11.89495120254404,
          14.593908824436625,
          13.917942569649824,
          12.834831709502309,
          12.969012682260724,
          11.396402971683877,
          10.277251379468806,
          11.838389669877769,
          13.886527767292868,
          15.577739661912926,
          12.412993239415032,
          9.44740921843578,
          11.810771602516544,
          12.233133324481493,
          10.13936347698369,
          11.73242738412214,
          15.095724784989946,
          13.022190935978465,
          14.658766275000309,
          11.850001198610451,
          11.709357848377248,
          14.369828656587524,
          13.164997975754986,
          10.879906445056818,
          11.236899715735223,
          9.79601535457521,
          12.83905299378657,
          10.517842708254651,
          11.987756165552664,
          11.009193100126875,
          14.001534827441253,
          12.362211669496672,
          12.885865248437431,
          9.58012767672384,
          12.208609064253492,
          11.743881293333123,
          12.17230725012408,
          12.94169185311096,
          10.256862293427904,
          15.42759152022861,
          8.378254638500096,
          13.42523462061769,
          15.441025222338943,
          14.314258931041344,
          13.44510589540384,
          11.808320685820291,
          14.92820022326122,
          8.659079177793767,
          15.212575929628876,
          11.056735457609271,
          12.6154010822423,
          9.236494391071355,
          15.553984960187613,
          11.550024963376725,
          9.627916249458254,
          16.024249751458207,
          10.052125691989934,
          12.404222906554187,
          9.870737853337292,
          14.038276754471031,
          10.503112854303538,
          12.239228168265932,
          12.2396818045107,
          12.938013108246334,
          7.744338376456474,
          12.273678164302146,
          12.01245135678366,
          14.805448111397004,
          8.485979626455219,
          12.528318124166034,
          13.203227694316046,
          15.307159463183824,
          8.701245664192154,
          11.288292093604852,
          12.61350300939931,
          14.563501743720837,
          14.250732627542504,
          11.302861579570669,
          9.762905910931714,
          11.409164510067892,
          12.702711490080617,
          12.44725510024933,
          12.322575255195034,
          17.39001615746741,
          14.18033772602812,
          12.928204638254666,
          12.440202211871137,
          11.67671751662143,
          9.445266771925514,
          12.926408867365293,
          9.600188986966648,
          12.234434543665431,
          8.113870689837013,
          8.908589108220703,
          11.98481983401192,
          10.929690579754936,
          16.059646900497917,
          12.4942437441128,
          11.08688389320601,
          10.651019915865517,
          15.27243305040562,
          15.896998456222306,
          12.747823594290736,
          13.608666084177356,
          11.25039921427926,
          10.631628435082368,
          11.528339094902334,
          14.419637427769516,
          9.266018214607584,
          12.654236507281508,
          13.244974389286504,
          7.101540880229258,
          10.911447984088378,
          12.90571678831206,
          16.528487217381226,
          12.491119635959734,
          13.337520882550386,
          9.47482532467762,
          14.043636209951682,
          12.380347102840696,
          9.072383777620798,
          19.650049644683328,
          12.406738412757988,
          14.254566543337384,
          9.549479325670957,
          13.172741984411376,
          12.49627571167955,
          10.584331443061863,
          4.439107004254009,
          11.658472653195748,
          10.836898746092375,
          13.300586321966447,
          12.803910474993335,
          8.54388945725608,
          13.519334739306991,
          9.8333525318438,
          10.715231029584627,
          15.258937829585555,
          14.55974476037817,
          12.249101207468655,
          12.870807177071836,
          12.709857604187478,
          13.735173264843018,
          15.999278586070034,
          13.864179299047285
         ],
         "yaxis": "y"
        },
        {
         "hovertemplate": "group=A<br>c1=%{x}<br>y=%{y}<extra></extra>",
         "legendgroup": "A",
         "marker": {
          "color": "#EF553B",
          "symbol": "circle"
         },
         "mode": "markers",
         "name": "A",
         "orientation": "v",
         "showlegend": true,
         "type": "scatter",
         "x": [
          4.19494483833423,
          2.24641066619721,
          3.4318813752021,
          3.759346686276604,
          2.882724368952294,
          4.713130523056423,
          1.950037439769524,
          1.942941600507676,
          2.1248822632765134,
          2.946656400118564,
          3.847922506078681,
          2.971805939997813,
          3.200341791072232,
          3.431222128919736,
          3.778980290260035,
          3.096471493684564,
          4.100852554423672,
          2.9820683208198897,
          1.5514196652619794,
          4.019703768229316,
          4.987358396084983,
          2.6092721515459485,
          1.9133803753627232,
          3.921041407714557,
          1.848314137146295,
          3.860687877107004,
          1.088591039680474,
          3.0331952696657787,
          4.917121365278005,
          2.2053843943083806,
          3.025278638778285,
          2.6268929183156398,
          3.479958224708947,
          1.5285858325958113,
          3.2234027684388256,
          2.750781393907927,
          0.660054988928479,
          4.055611660084537,
          4.41176266011577,
          3.5875585741101674,
          3.804272735413245,
          3.176035936156535,
          2.5853740086829577,
          2.8093618877806947,
          2.481042691619963,
          1.151897702419586,
          3.771395173946277,
          4.162580354649773,
          2.53683061998133,
          2.4743938024526053,
          3.597160365441214,
          2.6083582481170158,
          2.955021427677769,
          2.50490676173981,
          2.4978992018383823,
          2.4240010459758383,
          3.308975747070929,
          2.276573970758411,
          1.1372786432600237,
          2.3327590662995474,
          2.094524997803208,
          4.075261857139869,
          3.163375945334989,
          2.4418625266643685,
          3.399659802294336,
          1.048831902925098,
          3.721730883816915,
          4.4757160618291465,
          1.9394764368658977,
          2.842168230593056,
          3.1088146643735004,
          4.290173362993346,
          2.5798741973042416,
          3.570639399772377,
          2.0885297907492566,
          2.3142178998531127,
          2.3206556611109628,
          1.1463187975799671,
          0.925034143624092,
          4.481511980803401,
          3.494767340326889,
          2.7552103559119328,
          1.8191543407672643,
          4.606587817326339,
          2.8395514629839864,
          3.8378587797253143,
          0.0893620415910301,
          3.427524624871173,
          2.6117064589263395,
          1.479702381738855,
          4.343195567595544,
          1.6821988868627495,
          2.5190395351807906,
          3.707715086767117,
          4.341338453157442,
          3.864482539410985,
          3.229074523659589,
          3.78670908439542,
          5.378215772153824,
          2.576267391230032,
          2.7971299864437933,
          1.3686095932281332,
          2.067822140031879,
          2.1326182501314617,
          3.778413352334576,
          4.147499034808106,
          2.458413953097248,
          3.092850663019473,
          2.1483241228513856,
          2.5593069215678304,
          3.3815757267589115,
          3.479329019859577,
          3.4765617353958627,
          4.085892166510309,
          3.349433969958136,
          3.99119803569823,
          2.6577573089814246,
          1.8517603789301345,
          4.776724826915251,
          2.9689521187960386,
          3.0490160793512384,
          2.770305132634239,
          2.0989564069066984,
          2.635985182352384,
          1.201567228223048,
          3.939553999658876,
          2.828416203949092,
          2.144735291557869,
          3.357581800719448,
          1.679713852816484,
          2.540694131753872,
          3.076216975038262,
          5.97251539254443,
          3.4160316468631637,
          4.024531441299402,
          1.7541577989274868,
          1.107537351352874,
          2.601608416676904,
          3.7573549127704897,
          3.0358285871955104,
          3.7143391285416287,
          1.6695701642888083,
          2.41770861571494,
          1.1738865368602478,
          3.235309603588229,
          1.6951539797328872,
          0.8378598233893657,
          3.875678456710335,
          1.7389393360626093,
          3.076035466085379,
          -0.6925512219740342,
          3.167903135440888,
          4.734507784274671,
          1.409314529510437,
          3.721905063867509,
          1.833668828460767,
          3.0447775629654976,
          4.074969861652285,
          5.356058145547596,
          3.557271050987307,
          2.833297666019129,
          3.4060527269089502,
          2.7320259591117395,
          2.3875949820111666,
          3.4513663077769188,
          4.163826661871723,
          3.786269856365338,
          2.4625961751388874,
          2.6165486843370704,
          3.566161762677144,
          2.516051368913208,
          3.2944992954304078,
          1.844879136244498,
          3.8101963942276185,
          3.302330109380356,
          1.7240218194577617,
          3.817287484614816,
          3.524046803452027,
          2.103164808687826,
          3.145541660880934,
          2.125277308127896,
          3.993852716057879,
          1.683084600941076,
          2.330029141850477,
          2.045715548557049,
          4.338995578038433,
          2.4095463914979365,
          1.4968951465152294,
          2.887809952525471,
          3.102316403986894,
          3.399796498324431,
          2.7381723350892577,
          1.254108663135499,
          3.294084094604877,
          3.35153605225552,
          2.806000922205467,
          2.45919505156045,
          3.809263682097002,
          1.6602424601100023,
          3.648593577986397,
          3.139633602206961,
          1.7259495638012232,
          3.0242975417710145,
          3.3094085653549072,
          2.144719895117015,
          2.350128857672668,
          2.327382233468392,
          2.3788495441378483,
          1.5792336152761683,
          0.7877257439793856,
          3.857373565682663,
          1.623169369849202,
          3.023857117077166,
          4.409019014807232,
          6.07093730952446,
          0.9203617619636216,
          3.4829476348094657,
          0.6801210117267281,
          1.9138580257768625,
          4.060563793101135,
          1.6772237952606064,
          1.5232546325266951,
          0.3886566471983426,
          2.3873385901302178,
          3.639990885847045,
          1.3506147178905186,
          0.6724212930331319,
          5.585287390859225,
          3.1174578401933024,
          1.0498653693156546,
          2.9797625339547444,
          3.4234761262707467,
          1.7008176143013587,
          1.2157761707608494,
          4.035031516494838,
          3.5822471053044485,
          3.585003500005441,
          4.375415829054711,
          2.412580490671518,
          2.191587298558174,
          3.648206581430778,
          3.8866248385770903,
          -0.0574277845786626,
          3.998811398391294,
          2.709797440466219,
          4.230759835451092,
          3.214987302474466,
          4.090999453544738,
          1.7555792366431082,
          3.73253685422907,
          2.1516044353579487,
          4.807491254436627,
          2.5224996723821547,
          1.7793074074014072,
          2.8454858532833223,
          2.865758635650844,
          3.260444415658317,
          2.9481075236983405,
          3.538376835568493,
          3.5675947906284944,
          4.104200271958977,
          2.1196531855101384,
          2.222037120117225,
          4.439207560974641,
          3.093984756298205,
          3.76269598649544,
          5.131396781110077,
          2.513020532009569,
          1.7894817137628654,
          3.1235665838974613,
          3.251042664642582,
          4.034169490732749,
          3.0772543645774717,
          2.826027447158049,
          4.478260952666323,
          1.9906695438586128,
          3.4289774625077896,
          1.826669187494009,
          2.535806955549978,
          1.9685446251238956,
          2.061966859502321,
          2.687704046091972,
          1.175281684089761,
          2.556772179906921,
          5.755115207445513,
          2.057748711963318,
          2.792180809311533,
          4.406559430714915,
          3.515564938516727,
          3.1247519554040046,
          2.559982930590892,
          3.52081877121786,
          2.3116293050158228,
          2.250115190053825,
          4.430645638129722,
          3.986287826245325,
          3.2188630139518044,
          4.248525344172143,
          2.7487537015111023,
          2.8343871237444924,
          4.656848893662927,
          1.85065128515568,
          3.4597799078840823,
          2.438990853270991,
          3.1636324372077964,
          2.7848533964015765,
          3.961974127396888,
          3.2401113808040565,
          3.194109835652808,
          3.0247924054695194,
          2.2728271645938936,
          3.872650831740248,
          3.3511316651379843,
          1.3970854973225322,
          1.8814325427363063,
          3.386381458428641,
          0.5577560363049822,
          1.9564286394701609,
          1.2230736197502463,
          3.275513602932982,
          3.121211712927641
         ],
         "xaxis": "x",
         "y": [
          17.30908342509048,
          15.69564607680518,
          14.456803353414015,
          15.735418195079632,
          13.762228246468286,
          17.160792478146213,
          15.410453447277208,
          19.839855589130607,
          13.546810211393502,
          15.135594393533411,
          16.47808075208385,
          13.75813261922062,
          13.295226957953211,
          15.188368497364657,
          15.803101012000528,
          17.543458726575395,
          17.103027783684432,
          12.68776232684267,
          14.229732968272057,
          17.76165243681909,
          17.559445103996847,
          12.297517190510977,
          16.774980566761876,
          16.518830205006502,
          14.34848667171858,
          17.488653483179668,
          16.368123775983783,
          17.637159204552283,
          19.44655744582132,
          19.414512357850885,
          18.14900040959474,
          12.89405745491677,
          13.451221166290042,
          11.434481112466733,
          17.841164011610648,
          13.912599879806203,
          7.608617373538602,
          12.240248661700331,
          16.70663182368456,
          15.907579073391112,
          15.914841196723888,
          11.916676504799852,
          14.902363345912145,
          16.021707411459076,
          16.959515878934376,
          13.015836142505435,
          18.08062019876699,
          13.56610269735964,
          12.95531232088819,
          17.438905439139802,
          19.02162446206247,
          14.356582480942492,
          14.277560800762345,
          11.945384215374972,
          15.312874309467691,
          11.884468098348384,
          15.133189885156352,
          11.358678433458843,
          13.62533346542715,
          18.450174574254746,
          18.43101232434924,
          16.30285145537422,
          16.68778148838439,
          16.544121385945623,
          14.812960625650016,
          17.712447061823678,
          16.88693975337253,
          19.073640317994496,
          8.39088949026499,
          15.216440582055547,
          16.57839612253033,
          14.986236473402643,
          9.740428488158887,
          15.344544829409545,
          15.35861455497907,
          16.418261151551555,
          16.809423645334245,
          10.658684399641151,
          7.719946532824897,
          20.96450782229497,
          16.79067804127815,
          16.4933509187585,
          15.606278317850228,
          14.581861163434748,
          15.399993511397456,
          11.432456044919428,
          9.15158250110564,
          15.63970724262776,
          16.5923152807609,
          10.521701903137163,
          14.32380045375776,
          14.900121599704594,
          14.596416927193516,
          15.253401731524896,
          13.648824646664002,
          15.918817896039878,
          15.564999090856835,
          14.100375413070203,
          13.531660991141852,
          10.834726927403324,
          13.020127694268307,
          14.815851643852763,
          13.914494981582944,
          12.663486759424128,
          12.631070867762986,
          17.41532829505319,
          15.162534474170888,
          14.381861185828091,
          16.104880883598536,
          17.729275433576184,
          14.993518361707654,
          8.896301558945868,
          15.749243306437162,
          14.05733135114735,
          14.077004793551511,
          13.17669419080948,
          13.072934868947364,
          15.567218941579654,
          12.899923052452444,
          17.657010911106422,
          15.730603094603278,
          14.522381957651426,
          17.34468108836743,
          14.256551900009626,
          16.812147088522288,
          18.83158304432014,
          16.346777109118843,
          11.581225210093976,
          14.19237801182272,
          16.488889225321653,
          13.554633797045256,
          11.848548460055673,
          14.282930167213792,
          17.41761413766713,
          13.538884813652972,
          14.40515303748927,
          13.084893084925891,
          16.601363303507235,
          15.343984994965547,
          14.840600157841852,
          11.05159045185248,
          17.911639498524565,
          14.67867115440605,
          14.31845967683966,
          16.914526811951234,
          13.427884351068194,
          6.605817242332927,
          14.504164470845176,
          17.60301248077723,
          17.10692888686415,
          16.032061043692423,
          10.670823129619505,
          13.634137446775629,
          12.78459761858608,
          17.39435223809663,
          16.033342251270632,
          15.085623657058797,
          14.416815945689606,
          15.338558866842568,
          15.86430782563101,
          15.735091435279571,
          11.879871211265163,
          16.206680212722613,
          15.674730127653948,
          16.445473463424378,
          17.90336214595494,
          14.364736301251249,
          14.721348960348305,
          14.3158079253117,
          12.205074772629152,
          17.640669124402724,
          16.702351825564143,
          16.88993046100953,
          13.631426293438755,
          14.923105504214266,
          17.313929180536718,
          16.968540746176988,
          12.77504900742404,
          15.473866346811,
          15.80058242422807,
          16.39650965334944,
          14.202401234159089,
          12.706405972964577,
          19.46974199570849,
          16.044584078171408,
          15.49331070540111,
          16.808177719622755,
          17.36545566071085,
          13.298201079218078,
          18.80930772654893,
          15.176552151946163,
          11.523252223851475,
          13.17959649876115,
          17.474861166785544,
          14.296024175278305,
          15.151982021912872,
          13.713681100379542,
          17.20523296600474,
          15.031771572501276,
          14.76646881041748,
          16.415995683113984,
          14.279038718380976,
          16.724391084113854,
          14.818553806033975,
          13.705647518644376,
          14.408587330118978,
          14.41408553159105,
          15.11378385806966,
          17.673433535127202,
          7.318484347706315,
          9.160296380325008,
          15.808721622766486,
          17.5990062575178,
          18.43522570635135,
          16.656465997487267,
          16.134102896980696,
          17.98630401311231,
          9.471142216256874,
          13.666565876059485,
          13.359500480022852,
          15.301642004910356,
          15.14865223389466,
          14.8665849501908,
          14.931650924186968,
          17.063665614756147,
          16.102163455786002,
          13.811556504961755,
          14.786477039402785,
          17.12043169397047,
          13.979729637932984,
          15.15783226854122,
          16.928061382003335,
          10.500671545589702,
          15.474028876270522,
          15.538198696253218,
          17.006520702440447,
          16.70096202742866,
          14.930291082089015,
          19.20901743108749,
          13.381480647459046,
          15.802371048903606,
          14.78101590822396,
          8.997026926501784,
          15.201242166505867,
          14.850509463741243,
          17.490342489935266,
          16.715960757201323,
          16.49306087782575,
          14.615084390628464,
          15.571106378678008,
          19.3328552744326,
          15.519478384391192,
          15.068539178165205,
          17.536438526715628,
          12.732761286854032,
          12.96533599168072,
          18.793619154177705,
          16.707448042164724,
          14.37939602708677,
          15.894772312108316,
          14.436224980739183,
          21.314914777504743,
          16.717781392303873,
          18.797934236918444,
          15.86207301942595,
          11.782523687751643,
          15.23922605033857,
          14.577216858277712,
          12.31291262585247,
          16.49398339148187,
          14.863559773287747,
          16.977340133303983,
          17.36216412965246,
          17.648349056260713,
          16.225690063743752,
          16.590961034133073,
          18.884980624524925,
          12.85924755462888,
          13.14184332561382,
          12.44028462610551,
          20.05565688437704,
          14.651870797985753,
          15.841660931819366,
          13.799083154277335,
          12.384403756185325,
          14.468290028115018,
          19.604251389773957,
          17.141938952554124,
          16.184439545802686,
          17.88497569265565,
          17.332049886263245,
          13.14403494683933,
          15.344105199776894,
          16.553662658470557,
          17.44135258758211,
          17.59226292967105,
          14.56421057462551,
          17.45412695928439,
          12.3323765690632,
          12.541720829603555,
          16.125940635530533,
          12.61880988139665,
          16.008985335756478,
          11.799746279255778,
          17.608416163750924,
          12.945393278844378,
          15.081937457418874,
          20.25884459402755,
          19.742622157604693,
          16.18313954871661,
          16.465495519331355,
          15.835150469509813,
          15.986503501967556,
          16.700349814620658,
          19.223188723327127,
          17.104474959179576,
          10.344100914385404,
          16.570053884917098,
          12.503982044414531,
          12.533330011475847,
          17.85291615693841
         ],
         "yaxis": "y"
        },
        {
         "hovertemplate": "group=C<br>c1=%{x}<br>y=%{y}<extra></extra>",
         "legendgroup": "C",
         "marker": {
          "color": "#00cc96",
          "symbol": "circle"
         },
         "mode": "markers",
         "name": "C",
         "orientation": "v",
         "showlegend": true,
         "type": "scatter",
         "x": [
          0.9972272035219292,
          0.2143257487574857,
          2.7422040007421766,
          1.856931313180402,
          -0.0350874157930365,
          2.624799567088723,
          0.4199397766551062,
          -0.0308699775513616,
          -0.1037896889622516,
          0.4772048633702768,
          2.316723294318256,
          -0.1890345700786255,
          2.650066975551608,
          2.5965888307560068,
          -0.3967643517648698,
          2.6957886743148465,
          1.9990939642236232,
          0.8620628724631149,
          2.453504153247648,
          -0.3116734457992969,
          1.3709312074893103,
          -0.3346353557337751,
          2.888481901620921,
          -0.2641675203705196,
          2.439630223781636,
          1.9233555696201825,
          2.385633696904964,
          1.5042976757521116,
          0.0407555483240344,
          -0.138215650886081,
          2.1846246267553,
          0.80787705502918,
          1.3550252869025547,
          1.4974991714715018,
          0.3620343685356503,
          -1.2247662657347438,
          -0.608214524881675,
          1.5228477867286108,
          2.1445043988166983,
          0.6469140554094528,
          0.4059344640339658,
          0.6475798457529369,
          0.4745886877980317,
          3.6135294623551344,
          1.0272161900739405,
          0.46279828641107,
          1.0301676550860066,
          0.0758016371787073,
          1.3869334954186423,
          0.819638216260851,
          1.635078755364049,
          1.5531649902482416,
          0.175454696220887,
          0.9845840164634372,
          1.384333683687831,
          1.3836475145009286,
          -1.2090926076679986,
          3.5322192273603,
          2.5390622080658805,
          0.5422927403172817,
          1.4143889016193638,
          1.4112857937387824,
          1.1321382847014616,
          0.1466876005438281,
          -1.77747591704561,
          3.759718191899297,
          0.4298469528731206,
          -0.2801797384454594,
          1.311594202056548,
          0.3068439273675021,
          2.031236747167877,
          2.034868616890771,
          0.1060494725789039,
          1.0026479495184395,
          1.899870334024223,
          2.9506101187910825,
          -1.3882228130849392,
          1.7998414284660862,
          2.913671888879944,
          -0.3925232914858783,
          2.422105367590018,
          1.173454386747404,
          2.013770368223052,
          1.668913217963516,
          0.9212926893146064,
          0.982530625133076,
          0.0577373749742293,
          1.020857863203517,
          -0.1972178092694234,
          1.110949985857049,
          0.7225805637816072,
          -0.5707955977468575,
          0.620460916565065,
          0.8893500080022771,
          0.3482612904009783,
          2.129546951129492,
          0.4295799528920969,
          -0.5039265732469778,
          2.315926903544982,
          0.7853784138818541,
          0.2915499281070319,
          1.809422791380773,
          2.113746127956801,
          0.4689112974163614,
          -0.0722006285198018,
          1.3348310871758535,
          0.0679469761784639,
          0.2755112264906698,
          3.398367333100167,
          1.7713821474207956,
          2.419269030192861,
          -0.1674363252123261,
          2.1029571499650004,
          -0.1431238237457401,
          -0.0579238341323273,
          0.1085946413248657,
          0.1344385148689618,
          1.1554038496504653,
          1.6567326795420865,
          1.964730900422444,
          -1.0899434914274695,
          1.030980227491646,
          2.201402957785975,
          -0.8924573347910794,
          2.449686051080759,
          1.243870399625574,
          -0.6414023871026349,
          1.3882424540610736,
          0.7753926708993192,
          0.2279683158460136,
          1.862231743592715,
          1.4770808518761722,
          0.7760262390825826,
          2.372888143145733,
          1.2634900741638369,
          1.5131005605376695,
          0.5766366839245077,
          -0.1948515204907572,
          1.3903243326575492,
          -0.0886807459278129,
          -0.5043667866285744,
          0.3281268274602382,
          1.6357584129230296,
          0.917349750644148,
          -0.426328578858089,
          0.953686681868646,
          1.0756202046488434,
          0.824093024858238,
          0.8047193612374459,
          0.5353641780297553,
          -0.0980238872158039,
          2.2388154140956344,
          0.7800725411469488,
          -0.4178929622208598,
          1.0208153855454354,
          2.5541616984563573,
          -0.3557915768946413,
          0.1043335526605067,
          1.707890367186827,
          2.250402319091589,
          1.9437888650514408,
          1.3069189138545132,
          -0.409947648585133,
          1.7970716293420137,
          -0.3180181873615471,
          1.998640802056531,
          1.7806926477231622,
          1.3972545739200872,
          0.7890847156354378,
          0.3024163958220051,
          1.702890935746561,
          0.8680940521441667,
          -0.6292706733642146,
          1.9222347311139272,
          1.2699663148184512,
          1.4149664470337673,
          1.7343407956990842,
          -0.4792615762023344,
          1.2891874739851792,
          1.911518681276471,
          1.1392799489693088,
          2.3217787863401824,
          0.8782193401071295,
          3.4294467445881,
          1.954818451404904,
          -0.1770805604383696,
          1.2144604259334786,
          -0.2918159086995457,
          -0.6885553493046053,
          1.7988234114206776,
          -0.2070217785706334,
          2.225883977751607,
          -0.0111809263582789,
          0.4495669033442351,
          0.9349668758779254,
          3.6693943436193353,
          2.402942970622452,
          0.5343808371352743,
          1.5259712902030116,
          2.605037163699641,
          1.50314654691825,
          0.1613258948437522,
          0.3641436357048422,
          0.8985883950587527,
          1.684655723848534,
          0.5655243628604443,
          0.6917292168200407,
          2.4254540364019213,
          -0.9272879605335392,
          1.9829914692417536,
          -0.1353692594495517,
          0.4695370406265308,
          1.3737839759915067,
          0.7301909328181913,
          2.7019360932236247,
          3.652849623015402,
          1.631935867267785,
          1.7680293706430232,
          1.9410293376070216,
          -0.7179391950797966,
          0.8164159200631261,
          2.0857338365493074,
          1.6016844545498166,
          0.9419143037548776,
          -0.2794412091021991,
          1.160982691580425,
          2.391581715570334,
          1.642230995349194,
          2.3346263032804755,
          0.3424793735670132,
          0.4571232718619679,
          1.638057421772773,
          -0.6645037204908986,
          2.634524014851949,
          0.4057650942302451,
          1.0615159380175134,
          0.1910097058766982,
          3.3321281167765497,
          -0.8381003338342508,
          1.9407677861222496,
          0.1677736173319765,
          1.7516995002920717,
          1.9295306550945652,
          -0.5662478206031833,
          0.944613786754174,
          2.284205284722101,
          2.5236935367902165,
          1.7298254261493478,
          2.97177229913982,
          1.5814637655136896,
          2.7862190146710635,
          0.814708449244145,
          2.975286827228118,
          3.420843330567381,
          0.0133344419978992,
          1.468392055428913,
          0.8921573741822122,
          0.520552047155392,
          -0.7472343342555194,
          0.5178545278870343,
          -0.7595503752754496,
          2.0498758249305444,
          2.579350175886513,
          1.864155738183936,
          1.0051357007601414,
          1.9506548951730367,
          1.194678826001364,
          1.8383990577791525,
          0.7374239594649925,
          2.0033677016460745,
          2.178970606888292,
          0.8536149370592917,
          0.6130065560003962,
          1.073461772033044,
          0.6648247332068895,
          -0.4526269029771845,
          1.9613942508894435,
          1.695259143074057,
          1.820210295114235,
          0.545865164603786,
          1.13941834128285,
          2.201605942456018,
          1.7059364145314442,
          1.7388626754573262,
          1.0491666825745762,
          -0.3088905360881746,
          0.1096742924734929,
          1.770031140078015,
          1.1461796226206444,
          0.5108583996667915,
          -0.3288216714183576,
          -0.4507102061293651,
          2.280869634662321,
          0.6921263432343434,
          2.581926092732602,
          0.826577056258868,
          2.3783082391342507,
          1.2493646461405916,
          2.795186282821349,
          0.8574600941343711,
          1.2248950977583517,
          -1.0001161427927814,
          -0.1833173272173927,
          1.7841481639966918,
          0.566188058612992,
          0.5467442241600489,
          1.1819271928238628,
          0.7900538422325507,
          0.4908844643067597,
          2.289800710834583,
          3.66859336352164,
          1.35050280476199,
          2.785705189186777,
          3.051921038965624,
          0.8643160512565754,
          1.3521587780191278,
          -0.7653482224837693,
          0.3222308099398958,
          0.2405124524489331,
          2.0691168293032534,
          1.3901806182615393,
          2.123010043562304,
          0.3588840564495241,
          0.9033374906898036,
          0.6448492343597539,
          1.1384369444827944,
          0.1491012384776734,
          1.6225689952327698,
          -0.6493261907153074,
          3.6330699304889498,
          1.3138454947088474,
          2.0641736500793195,
          0.6044441564448221,
          2.319500754830596,
          1.0053651759154212,
          -1.452431587978479,
          0.0119487064293222,
          2.2415773756569024,
          0.2545294042499161,
          2.3787991157802577,
          0.3353757054658206,
          0.4363816235382819,
          2.002296593728924,
          1.932083874161079
         ],
         "xaxis": "x",
         "y": [
          5.476909327042826,
          6.804637792347664,
          16.986126536312995,
          9.70630129646249,
          9.07049224853348,
          4.324730858141868,
          11.232101048229987,
          8.252863067740705,
          8.978958700719627,
          9.741587186627772,
          13.981396895324568,
          10.4230703559964,
          9.243036603717048,
          8.98870499680098,
          12.011326283159685,
          14.085062464320051,
          6.94641385282416,
          6.468679353755586,
          6.898932195015775,
          8.917470505358517,
          7.371706086663037,
          5.797889613733066,
          8.43869090437741,
          9.193016523891645,
          8.622297163554087,
          10.054473470638587,
          6.305468008979348,
          11.384547312915997,
          6.475862733748967,
          6.780465772325068,
          5.36850979498552,
          4.485447302376359,
          11.3442772762931,
          7.7126755494471055,
          10.728484702530931,
          6.282899019695394,
          11.710330842488773,
          10.566984341637886,
          8.43409109942375,
          10.102151857015045,
          7.042407771530109,
          7.773485376849953,
          9.83273544904051,
          19.77536323659876,
          9.261012274154082,
          10.376769988276502,
          8.952352601424762,
          9.171113904582734,
          6.821453185839703,
          8.595405241176033,
          7.658894730310751,
          8.131313824977026,
          7.15711375857212,
          7.694029218613777,
          7.74588779704608,
          6.438800701723469,
          8.76241758683908,
          19.32843301201122,
          5.312593631318775,
          9.260112820294292,
          9.962941655612571,
          10.145676611385284,
          4.572171982962311,
          5.0754878851838905,
          8.64534991016603,
          14.613100795074883,
          9.722024456955824,
          9.996255765223502,
          7.783159957527785,
          6.92556560741688,
          15.325236470523798,
          7.080333936537711,
          7.087421897476536,
          9.175764796123758,
          6.788497580156347,
          8.118910497304107,
          7.242879388308367,
          7.32514970096844,
          8.072883442665741,
          9.308272805177218,
          8.711233691428731,
          7.501725244195518,
          21.68274262059724,
          8.383770795185255,
          7.0286211484505765,
          8.573945121580383,
          10.208128251753148,
          6.235560383061068,
          8.00928538672635,
          9.249508464744594,
          6.079526052358671,
          10.53948825544365,
          8.845868894641566,
          8.649565365438592,
          5.471922920657869,
          10.786774733998747,
          9.605387647435805,
          10.163204584043523,
          8.54284197399977,
          7.419617532914385,
          8.466779358834277,
          9.629397342174308,
          7.045551548832403,
          8.048062487088327,
          9.281866696942975,
          8.781087229063546,
          9.32236911404618,
          7.948817965556927,
          14.329998078864534,
          10.450203009443817,
          5.177384281885772,
          8.448138337839417,
          8.799208050557583,
          11.611146171821996,
          9.776757252655432,
          9.715062245089776,
          9.770271356424937,
          8.890622423420245,
          10.951631491146074,
          9.24332764179234,
          8.267601882435965,
          8.470734941453117,
          10.874726592174484,
          8.024457201011266,
          10.361810111397132,
          8.072794785105721,
          4.503782286925913,
          9.504622123562218,
          8.471560198040157,
          8.287689541294139,
          8.968641313212327,
          9.530260206794216,
          9.103903999103231,
          9.800743518646248,
          6.369344017719686,
          4.082548176854313,
          7.640386761524974,
          5.355678925123042,
          14.419329104139242,
          5.134340907452781,
          10.61609383494079,
          13.314680420758656,
          7.681260741409112,
          6.930983113793295,
          12.37914837165514,
          7.797507030281493,
          6.929013978291776,
          9.054626973751825,
          10.306041025879104,
          8.260888805238093,
          9.108033805573424,
          8.601757964835818,
          5.119109571311928,
          7.26426795281444,
          10.472082168795003,
          7.682078838158016,
          8.615546299419181,
          7.350036963855279,
          11.602591548387068,
          9.794578931205,
          9.850108934842766,
          8.36490771371859,
          8.418180917935075,
          12.161731552526222,
          6.144376875080405,
          8.803604195357055,
          9.24194429202648,
          8.365370292277555,
          4.719706643743822,
          8.372922970910022,
          9.25775980851872,
          4.250429537296538,
          8.119956993355778,
          12.875860617141882,
          7.850854167941895,
          17.277653645894116,
          9.955647859135174,
          7.408078151723094,
          8.150056828100452,
          9.133499439641604,
          6.9158092132979325,
          16.781489831746498,
          10.996080671692347,
          17.28286345507701,
          9.418123298588736,
          11.349454393734929,
          8.25928446296817,
          9.641382399904009,
          5.7333037936714,
          16.18199330053816,
          11.81701452200737,
          4.849584646940755,
          9.07247468731616,
          8.656063192917603,
          10.295706004110343,
          12.671085480653304,
          12.68288273800846,
          6.740112766720526,
          7.974332414873936,
          7.315097616945804,
          10.246470606947916,
          10.127771508924823,
          10.033064926547304,
          10.42618252899108,
          5.627233814738161,
          6.953824686095606,
          11.185648464775774,
          5.221411909065765,
          8.69596438799077,
          6.050391117244512,
          6.941324858528885,
          6.42513881125556,
          8.5207995364242,
          9.17606075718115,
          5.555377592268982,
          7.572649869799362,
          8.44664361264649,
          7.584152141949993,
          9.77311540205041,
          5.585901406935742,
          5.143874348324856,
          12.875023136419657,
          9.249574876873863,
          10.385609305080193,
          7.136297423339349,
          6.082393581581638,
          7.6770081642860415,
          6.697854328659179,
          10.788916484840414,
          9.0821604672011,
          7.908660180474382,
          11.127051015762214,
          7.307312618545095,
          10.49529113444775,
          7.874931478266749,
          5.52673578762152,
          8.813248777772392,
          6.908847073197018,
          9.846077607583425,
          3.5565164024851166,
          9.008074056502332,
          9.392197162413268,
          7.521351099466942,
          7.760739604223522,
          5.018292876713904,
          8.259587666750305,
          6.401245545837821,
          10.89262298585664,
          6.709455479324818,
          10.920038607649388,
          6.785637831605227,
          11.696789605297138,
          7.994867942931391,
          8.544034168152027,
          10.046224167510516,
          7.685336931995498,
          9.043594336674817,
          9.774645956512517,
          7.883467625978946,
          3.8471167496009446,
          6.36959802148535,
          4.43707306329203,
          10.926387024455764,
          12.835763926362027,
          8.564114279436055,
          7.491453708395754,
          10.257172934262972,
          10.630139714294131,
          8.894261416245481,
          10.767286584498024,
          10.631460794454105,
          6.414753091855103,
          7.066013609463271,
          7.544785383771139,
          9.780790444990856,
          6.4772352019490445,
          9.006583931273415,
          6.9235563417497525,
          9.053984330300375,
          11.639227946336614,
          8.721716612232049,
          11.386586022623476,
          7.8534079747506045,
          8.36047035557282,
          10.83022703731698,
          9.82446591774356,
          8.855126014495195,
          8.096326246414131,
          4.450288911243266,
          4.153361568060866,
          7.340281433707284,
          7.629204111416054,
          5.581700211419733,
          10.584344774305473,
          5.743937995665412,
          6.627567561618825,
          4.798327059979616,
          9.021707392654005,
          16.377656036648215,
          6.086544976701648,
          6.64424555446281,
          10.161816029007298,
          9.798848683318797,
          11.662234161773664,
          8.348948106320735,
          6.623233045622266,
          7.701407838224835,
          8.19245412012326,
          9.383774244082408,
          7.054108154076328,
          14.10768420925161,
          9.584702426276278,
          16.27695781255355,
          14.460166325800955,
          8.08899739763204,
          5.868066243136457,
          11.326245903166932,
          8.317519643427529,
          8.586995171781632,
          9.100640492662484,
          8.776642268184379,
          13.214614134246414,
          9.67547598450246,
          7.998674164166848,
          11.62357816940411,
          10.311432814237918,
          8.133711172990427,
          9.394233779585228,
          8.880158288279283,
          11.656699900998252,
          9.228858599527983,
          13.206829871632534,
          11.71917611367407,
          9.908056822581893,
          9.793217526347998,
          7.680969945212818,
          9.785582101721689,
          5.858017491425827,
          9.168846536300157,
          7.2463820643805725,
          6.885355279960702,
          7.725205174022014,
          7.826493345804707,
          6.611313200875669
         ],
         "yaxis": "y"
        }
       ],
       "layout": {
        "legend": {
         "title": {
          "text": "group"
         },
         "tracegroupgap": 0
        },
        "margin": {
         "t": 60
        },
        "template": {
         "data": {
          "bar": [
           {
            "error_x": {
             "color": "#2a3f5f"
            },
            "error_y": {
             "color": "#2a3f5f"
            },
            "marker": {
             "line": {
              "color": "#E5ECF6",
              "width": 0.5
             },
             "pattern": {
              "fillmode": "overlay",
              "size": 10,
              "solidity": 0.2
             }
            },
            "type": "bar"
           }
          ],
          "barpolar": [
           {
            "marker": {
             "line": {
              "color": "#E5ECF6",
              "width": 0.5
             },
             "pattern": {
              "fillmode": "overlay",
              "size": 10,
              "solidity": 0.2
             }
            },
            "type": "barpolar"
           }
          ],
          "carpet": [
           {
            "aaxis": {
             "endlinecolor": "#2a3f5f",
             "gridcolor": "white",
             "linecolor": "white",
             "minorgridcolor": "white",
             "startlinecolor": "#2a3f5f"
            },
            "baxis": {
             "endlinecolor": "#2a3f5f",
             "gridcolor": "white",
             "linecolor": "white",
             "minorgridcolor": "white",
             "startlinecolor": "#2a3f5f"
            },
            "type": "carpet"
           }
          ],
          "choropleth": [
           {
            "colorbar": {
             "outlinewidth": 0,
             "ticks": ""
            },
            "type": "choropleth"
           }
          ],
          "contour": [
           {
            "colorbar": {
             "outlinewidth": 0,
             "ticks": ""
            },
            "colorscale": [
             [
              0,
              "#0d0887"
             ],
             [
              0.1111111111111111,
              "#46039f"
             ],
             [
              0.2222222222222222,
              "#7201a8"
             ],
             [
              0.3333333333333333,
              "#9c179e"
             ],
             [
              0.4444444444444444,
              "#bd3786"
             ],
             [
              0.5555555555555556,
              "#d8576b"
             ],
             [
              0.6666666666666666,
              "#ed7953"
             ],
             [
              0.7777777777777778,
              "#fb9f3a"
             ],
             [
              0.8888888888888888,
              "#fdca26"
             ],
             [
              1,
              "#f0f921"
             ]
            ],
            "type": "contour"
           }
          ],
          "contourcarpet": [
           {
            "colorbar": {
             "outlinewidth": 0,
             "ticks": ""
            },
            "type": "contourcarpet"
           }
          ],
          "heatmap": [
           {
            "colorbar": {
             "outlinewidth": 0,
             "ticks": ""
            },
            "colorscale": [
             [
              0,
              "#0d0887"
             ],
             [
              0.1111111111111111,
              "#46039f"
             ],
             [
              0.2222222222222222,
              "#7201a8"
             ],
             [
              0.3333333333333333,
              "#9c179e"
             ],
             [
              0.4444444444444444,
              "#bd3786"
             ],
             [
              0.5555555555555556,
              "#d8576b"
             ],
             [
              0.6666666666666666,
              "#ed7953"
             ],
             [
              0.7777777777777778,
              "#fb9f3a"
             ],
             [
              0.8888888888888888,
              "#fdca26"
             ],
             [
              1,
              "#f0f921"
             ]
            ],
            "type": "heatmap"
           }
          ],
          "heatmapgl": [
           {
            "colorbar": {
             "outlinewidth": 0,
             "ticks": ""
            },
            "colorscale": [
             [
              0,
              "#0d0887"
             ],
             [
              0.1111111111111111,
              "#46039f"
             ],
             [
              0.2222222222222222,
              "#7201a8"
             ],
             [
              0.3333333333333333,
              "#9c179e"
             ],
             [
              0.4444444444444444,
              "#bd3786"
             ],
             [
              0.5555555555555556,
              "#d8576b"
             ],
             [
              0.6666666666666666,
              "#ed7953"
             ],
             [
              0.7777777777777778,
              "#fb9f3a"
             ],
             [
              0.8888888888888888,
              "#fdca26"
             ],
             [
              1,
              "#f0f921"
             ]
            ],
            "type": "heatmapgl"
           }
          ],
          "histogram": [
           {
            "marker": {
             "pattern": {
              "fillmode": "overlay",
              "size": 10,
              "solidity": 0.2
             }
            },
            "type": "histogram"
           }
          ],
          "histogram2d": [
           {
            "colorbar": {
             "outlinewidth": 0,
             "ticks": ""
            },
            "colorscale": [
             [
              0,
              "#0d0887"
             ],
             [
              0.1111111111111111,
              "#46039f"
             ],
             [
              0.2222222222222222,
              "#7201a8"
             ],
             [
              0.3333333333333333,
              "#9c179e"
             ],
             [
              0.4444444444444444,
              "#bd3786"
             ],
             [
              0.5555555555555556,
              "#d8576b"
             ],
             [
              0.6666666666666666,
              "#ed7953"
             ],
             [
              0.7777777777777778,
              "#fb9f3a"
             ],
             [
              0.8888888888888888,
              "#fdca26"
             ],
             [
              1,
              "#f0f921"
             ]
            ],
            "type": "histogram2d"
           }
          ],
          "histogram2dcontour": [
           {
            "colorbar": {
             "outlinewidth": 0,
             "ticks": ""
            },
            "colorscale": [
             [
              0,
              "#0d0887"
             ],
             [
              0.1111111111111111,
              "#46039f"
             ],
             [
              0.2222222222222222,
              "#7201a8"
             ],
             [
              0.3333333333333333,
              "#9c179e"
             ],
             [
              0.4444444444444444,
              "#bd3786"
             ],
             [
              0.5555555555555556,
              "#d8576b"
             ],
             [
              0.6666666666666666,
              "#ed7953"
             ],
             [
              0.7777777777777778,
              "#fb9f3a"
             ],
             [
              0.8888888888888888,
              "#fdca26"
             ],
             [
              1,
              "#f0f921"
             ]
            ],
            "type": "histogram2dcontour"
           }
          ],
          "mesh3d": [
           {
            "colorbar": {
             "outlinewidth": 0,
             "ticks": ""
            },
            "type": "mesh3d"
           }
          ],
          "parcoords": [
           {
            "line": {
             "colorbar": {
              "outlinewidth": 0,
              "ticks": ""
             }
            },
            "type": "parcoords"
           }
          ],
          "pie": [
           {
            "automargin": true,
            "type": "pie"
           }
          ],
          "scatter": [
           {
            "fillpattern": {
             "fillmode": "overlay",
             "size": 10,
             "solidity": 0.2
            },
            "type": "scatter"
           }
          ],
          "scatter3d": [
           {
            "line": {
             "colorbar": {
              "outlinewidth": 0,
              "ticks": ""
             }
            },
            "marker": {
             "colorbar": {
              "outlinewidth": 0,
              "ticks": ""
             }
            },
            "type": "scatter3d"
           }
          ],
          "scattercarpet": [
           {
            "marker": {
             "colorbar": {
              "outlinewidth": 0,
              "ticks": ""
             }
            },
            "type": "scattercarpet"
           }
          ],
          "scattergeo": [
           {
            "marker": {
             "colorbar": {
              "outlinewidth": 0,
              "ticks": ""
             }
            },
            "type": "scattergeo"
           }
          ],
          "scattergl": [
           {
            "marker": {
             "colorbar": {
              "outlinewidth": 0,
              "ticks": ""
             }
            },
            "type": "scattergl"
           }
          ],
          "scattermapbox": [
           {
            "marker": {
             "colorbar": {
              "outlinewidth": 0,
              "ticks": ""
             }
            },
            "type": "scattermapbox"
           }
          ],
          "scatterpolar": [
           {
            "marker": {
             "colorbar": {
              "outlinewidth": 0,
              "ticks": ""
             }
            },
            "type": "scatterpolar"
           }
          ],
          "scatterpolargl": [
           {
            "marker": {
             "colorbar": {
              "outlinewidth": 0,
              "ticks": ""
             }
            },
            "type": "scatterpolargl"
           }
          ],
          "scatterternary": [
           {
            "marker": {
             "colorbar": {
              "outlinewidth": 0,
              "ticks": ""
             }
            },
            "type": "scatterternary"
           }
          ],
          "surface": [
           {
            "colorbar": {
             "outlinewidth": 0,
             "ticks": ""
            },
            "colorscale": [
             [
              0,
              "#0d0887"
             ],
             [
              0.1111111111111111,
              "#46039f"
             ],
             [
              0.2222222222222222,
              "#7201a8"
             ],
             [
              0.3333333333333333,
              "#9c179e"
             ],
             [
              0.4444444444444444,
              "#bd3786"
             ],
             [
              0.5555555555555556,
              "#d8576b"
             ],
             [
              0.6666666666666666,
              "#ed7953"
             ],
             [
              0.7777777777777778,
              "#fb9f3a"
             ],
             [
              0.8888888888888888,
              "#fdca26"
             ],
             [
              1,
              "#f0f921"
             ]
            ],
            "type": "surface"
           }
          ],
          "table": [
           {
            "cells": {
             "fill": {
              "color": "#EBF0F8"
             },
             "line": {
              "color": "white"
             }
            },
            "header": {
             "fill": {
              "color": "#C8D4E3"
             },
             "line": {
              "color": "white"
             }
            },
            "type": "table"
           }
          ]
         },
         "layout": {
          "annotationdefaults": {
           "arrowcolor": "#2a3f5f",
           "arrowhead": 0,
           "arrowwidth": 1
          },
          "autotypenumbers": "strict",
          "coloraxis": {
           "colorbar": {
            "outlinewidth": 0,
            "ticks": ""
           }
          },
          "colorscale": {
           "diverging": [
            [
             0,
             "#8e0152"
            ],
            [
             0.1,
             "#c51b7d"
            ],
            [
             0.2,
             "#de77ae"
            ],
            [
             0.3,
             "#f1b6da"
            ],
            [
             0.4,
             "#fde0ef"
            ],
            [
             0.5,
             "#f7f7f7"
            ],
            [
             0.6,
             "#e6f5d0"
            ],
            [
             0.7,
             "#b8e186"
            ],
            [
             0.8,
             "#7fbc41"
            ],
            [
             0.9,
             "#4d9221"
            ],
            [
             1,
             "#276419"
            ]
           ],
           "sequential": [
            [
             0,
             "#0d0887"
            ],
            [
             0.1111111111111111,
             "#46039f"
            ],
            [
             0.2222222222222222,
             "#7201a8"
            ],
            [
             0.3333333333333333,
             "#9c179e"
            ],
            [
             0.4444444444444444,
             "#bd3786"
            ],
            [
             0.5555555555555556,
             "#d8576b"
            ],
            [
             0.6666666666666666,
             "#ed7953"
            ],
            [
             0.7777777777777778,
             "#fb9f3a"
            ],
            [
             0.8888888888888888,
             "#fdca26"
            ],
            [
             1,
             "#f0f921"
            ]
           ],
           "sequentialminus": [
            [
             0,
             "#0d0887"
            ],
            [
             0.1111111111111111,
             "#46039f"
            ],
            [
             0.2222222222222222,
             "#7201a8"
            ],
            [
             0.3333333333333333,
             "#9c179e"
            ],
            [
             0.4444444444444444,
             "#bd3786"
            ],
            [
             0.5555555555555556,
             "#d8576b"
            ],
            [
             0.6666666666666666,
             "#ed7953"
            ],
            [
             0.7777777777777778,
             "#fb9f3a"
            ],
            [
             0.8888888888888888,
             "#fdca26"
            ],
            [
             1,
             "#f0f921"
            ]
           ]
          },
          "colorway": [
           "#636efa",
           "#EF553B",
           "#00cc96",
           "#ab63fa",
           "#FFA15A",
           "#19d3f3",
           "#FF6692",
           "#B6E880",
           "#FF97FF",
           "#FECB52"
          ],
          "font": {
           "color": "#2a3f5f"
          },
          "geo": {
           "bgcolor": "white",
           "lakecolor": "white",
           "landcolor": "#E5ECF6",
           "showlakes": true,
           "showland": true,
           "subunitcolor": "white"
          },
          "hoverlabel": {
           "align": "left"
          },
          "hovermode": "closest",
          "mapbox": {
           "style": "light"
          },
          "paper_bgcolor": "white",
          "plot_bgcolor": "#E5ECF6",
          "polar": {
           "angularaxis": {
            "gridcolor": "white",
            "linecolor": "white",
            "ticks": ""
           },
           "bgcolor": "#E5ECF6",
           "radialaxis": {
            "gridcolor": "white",
            "linecolor": "white",
            "ticks": ""
           }
          },
          "scene": {
           "xaxis": {
            "backgroundcolor": "#E5ECF6",
            "gridcolor": "white",
            "gridwidth": 2,
            "linecolor": "white",
            "showbackground": true,
            "ticks": "",
            "zerolinecolor": "white"
           },
           "yaxis": {
            "backgroundcolor": "#E5ECF6",
            "gridcolor": "white",
            "gridwidth": 2,
            "linecolor": "white",
            "showbackground": true,
            "ticks": "",
            "zerolinecolor": "white"
           },
           "zaxis": {
            "backgroundcolor": "#E5ECF6",
            "gridcolor": "white",
            "gridwidth": 2,
            "linecolor": "white",
            "showbackground": true,
            "ticks": "",
            "zerolinecolor": "white"
           }
          },
          "shapedefaults": {
           "line": {
            "color": "#2a3f5f"
           }
          },
          "ternary": {
           "aaxis": {
            "gridcolor": "white",
            "linecolor": "white",
            "ticks": ""
           },
           "baxis": {
            "gridcolor": "white",
            "linecolor": "white",
            "ticks": ""
           },
           "bgcolor": "#E5ECF6",
           "caxis": {
            "gridcolor": "white",
            "linecolor": "white",
            "ticks": ""
           }
          },
          "title": {
           "x": 0.05
          },
          "xaxis": {
           "automargin": true,
           "gridcolor": "white",
           "linecolor": "white",
           "ticks": "",
           "title": {
            "standoff": 15
           },
           "zerolinecolor": "white",
           "zerolinewidth": 2
          },
          "yaxis": {
           "automargin": true,
           "gridcolor": "white",
           "linecolor": "white",
           "ticks": "",
           "title": {
            "standoff": 15
           },
           "zerolinecolor": "white",
           "zerolinewidth": 2
          }
         }
        },
        "xaxis": {
         "anchor": "y",
         "domain": [
          0,
          1
         ],
         "title": {
          "text": "c1"
         }
        },
        "yaxis": {
         "anchor": "x",
         "domain": [
          0,
          1
         ],
         "title": {
          "text": "y"
         }
        }
       }
      }
     },
     "metadata": {},
     "output_type": "display_data"
    }
   ],
   "source": [
    "# The scatter plot referenced at the start of Question 3\n",
    "# This is not needed to answer the question, but motivates why we are standardizing\n",
    "px.scatter(data, x='c1', y='y', color='group')"
   ]
  },
  {
   "cell_type": "code",
   "execution_count": 17,
   "id": "ba5371b3",
   "metadata": {},
   "outputs": [
    {
     "data": {
      "text/html": [
       "<div>\n",
       "<style scoped>\n",
       "    .dataframe tbody tr th:only-of-type {\n",
       "        vertical-align: middle;\n",
       "    }\n",
       "\n",
       "    .dataframe tbody tr th {\n",
       "        vertical-align: top;\n",
       "    }\n",
       "\n",
       "    .dataframe thead th {\n",
       "        text-align: right;\n",
       "    }\n",
       "</style>\n",
       "<table border=\"1\" class=\"dataframe\">\n",
       "  <thead>\n",
       "    <tr style=\"text-align: right;\">\n",
       "      <th></th>\n",
       "      <th>group</th>\n",
       "      <th>c1</th>\n",
       "      <th>c2</th>\n",
       "      <th>y</th>\n",
       "    </tr>\n",
       "  </thead>\n",
       "  <tbody>\n",
       "    <tr>\n",
       "      <th>0</th>\n",
       "      <td>B</td>\n",
       "      <td>4.058118</td>\n",
       "      <td>5.329582</td>\n",
       "      <td>12.649035</td>\n",
       "    </tr>\n",
       "    <tr>\n",
       "      <th>1</th>\n",
       "      <td>A</td>\n",
       "      <td>4.194945</td>\n",
       "      <td>3.839476</td>\n",
       "      <td>17.309083</td>\n",
       "    </tr>\n",
       "    <tr>\n",
       "      <th>2</th>\n",
       "      <td>A</td>\n",
       "      <td>2.246411</td>\n",
       "      <td>10.694666</td>\n",
       "      <td>15.695646</td>\n",
       "    </tr>\n",
       "    <tr>\n",
       "      <th>3</th>\n",
       "      <td>B</td>\n",
       "      <td>2.510912</td>\n",
       "      <td>6.414960</td>\n",
       "      <td>11.535752</td>\n",
       "    </tr>\n",
       "    <tr>\n",
       "      <th>4</th>\n",
       "      <td>B</td>\n",
       "      <td>3.194722</td>\n",
       "      <td>6.116839</td>\n",
       "      <td>14.954389</td>\n",
       "    </tr>\n",
       "    <tr>\n",
       "      <th>...</th>\n",
       "      <td>...</td>\n",
       "      <td>...</td>\n",
       "      <td>...</td>\n",
       "      <td>...</td>\n",
       "    </tr>\n",
       "    <tr>\n",
       "      <th>995</th>\n",
       "      <td>C</td>\n",
       "      <td>0.436382</td>\n",
       "      <td>2.718282</td>\n",
       "      <td>7.725205</td>\n",
       "    </tr>\n",
       "    <tr>\n",
       "      <th>996</th>\n",
       "      <td>A</td>\n",
       "      <td>3.121212</td>\n",
       "      <td>8.636007</td>\n",
       "      <td>17.852916</td>\n",
       "    </tr>\n",
       "    <tr>\n",
       "      <th>997</th>\n",
       "      <td>B</td>\n",
       "      <td>2.215070</td>\n",
       "      <td>7.197776</td>\n",
       "      <td>13.864179</td>\n",
       "    </tr>\n",
       "    <tr>\n",
       "      <th>998</th>\n",
       "      <td>C</td>\n",
       "      <td>2.002297</td>\n",
       "      <td>2.718282</td>\n",
       "      <td>7.826493</td>\n",
       "    </tr>\n",
       "    <tr>\n",
       "      <th>999</th>\n",
       "      <td>C</td>\n",
       "      <td>1.932084</td>\n",
       "      <td>2.718282</td>\n",
       "      <td>6.611313</td>\n",
       "    </tr>\n",
       "  </tbody>\n",
       "</table>\n",
       "<p>1000 rows × 4 columns</p>\n",
       "</div>"
      ],
      "text/plain": [
       "    group        c1         c2          y\n",
       "0       B  4.058118   5.329582  12.649035\n",
       "1       A  4.194945   3.839476  17.309083\n",
       "2       A  2.246411  10.694666  15.695646\n",
       "3       B  2.510912   6.414960  11.535752\n",
       "4       B  3.194722   6.116839  14.954389\n",
       "..    ...       ...        ...        ...\n",
       "995     C  0.436382   2.718282   7.725205\n",
       "996     A  3.121212   8.636007  17.852916\n",
       "997     B  2.215070   7.197776  13.864179\n",
       "998     C  2.002297   2.718282   7.826493\n",
       "999     C  1.932084   2.718282   6.611313\n",
       "\n",
       "[1000 rows x 4 columns]"
      ]
     },
     "execution_count": 17,
     "metadata": {},
     "output_type": "execute_result"
    }
   ],
   "source": [
    "q2_data.groupby('group')['c1', 'c2'].agg(['mean', 'std']).to_dict()\n",
    "q2_data"
   ]
  },
  {
   "cell_type": "code",
   "execution_count": 18,
   "id": "ba97da6d",
   "metadata": {},
   "outputs": [
    {
     "data": {
      "text/html": [
       "<div>\n",
       "<style scoped>\n",
       "    .dataframe tbody tr th:only-of-type {\n",
       "        vertical-align: middle;\n",
       "    }\n",
       "\n",
       "    .dataframe tbody tr th {\n",
       "        vertical-align: top;\n",
       "    }\n",
       "\n",
       "    .dataframe thead tr th {\n",
       "        text-align: left;\n",
       "    }\n",
       "\n",
       "    .dataframe thead tr:last-of-type th {\n",
       "        text-align: right;\n",
       "    }\n",
       "</style>\n",
       "<table border=\"1\" class=\"dataframe\">\n",
       "  <thead>\n",
       "    <tr>\n",
       "      <th></th>\n",
       "      <th colspan=\"2\" halign=\"left\">c1</th>\n",
       "      <th colspan=\"2\" halign=\"left\">c2</th>\n",
       "    </tr>\n",
       "    <tr>\n",
       "      <th></th>\n",
       "      <th>mean</th>\n",
       "      <th>std</th>\n",
       "      <th>mean</th>\n",
       "      <th>std</th>\n",
       "    </tr>\n",
       "    <tr>\n",
       "      <th>group</th>\n",
       "      <th></th>\n",
       "      <th></th>\n",
       "      <th></th>\n",
       "      <th></th>\n",
       "    </tr>\n",
       "  </thead>\n",
       "  <tbody>\n",
       "    <tr>\n",
       "      <th>A</th>\n",
       "      <td>2.896205</td>\n",
       "      <td>1.080452</td>\n",
       "      <td>8.867695</td>\n",
       "      <td>4.925313</td>\n",
       "    </tr>\n",
       "    <tr>\n",
       "      <th>B</th>\n",
       "      <td>1.968927</td>\n",
       "      <td>1.001601</td>\n",
       "      <td>4.667865</td>\n",
       "      <td>1.683758</td>\n",
       "    </tr>\n",
       "    <tr>\n",
       "      <th>C</th>\n",
       "      <td>1.105136</td>\n",
       "      <td>1.094182</td>\n",
       "      <td>3.003989</td>\n",
       "      <td>1.341565</td>\n",
       "    </tr>\n",
       "  </tbody>\n",
       "</table>\n",
       "</div>"
      ],
      "text/plain": [
       "             c1                  c2          \n",
       "           mean       std      mean       std\n",
       "group                                        \n",
       "A      2.896205  1.080452  8.867695  4.925313\n",
       "B      1.968927  1.001601  4.667865  1.683758\n",
       "C      1.105136  1.094182  3.003989  1.341565"
      ]
     },
     "execution_count": 18,
     "metadata": {},
     "output_type": "execute_result"
    }
   ],
   "source": [
    "q2_data.groupby(q2_data.columns[0])['c1', 'c2'].agg(['mean', 'std'])"
   ]
  },
  {
   "cell_type": "code",
   "execution_count": 19,
   "metadata": {},
   "outputs": [
    {
     "data": {
      "text/plain": [
       "0      B\n",
       "1      A\n",
       "2      A\n",
       "3      B\n",
       "4      B\n",
       "      ..\n",
       "995    C\n",
       "996    A\n",
       "997    B\n",
       "998    C\n",
       "999    C\n",
       "Name: group, Length: 1000, dtype: object"
      ]
     },
     "execution_count": 19,
     "metadata": {},
     "output_type": "execute_result"
    }
   ],
   "source": [
    "q2_data['group']"
   ]
  },
  {
   "cell_type": "code",
   "execution_count": 20,
   "id": "1b0943bb",
   "metadata": {},
   "outputs": [],
   "source": [
    "# don't change this cell, but do run it -- it is needed for the tests to work\n",
    "# test fit \n",
    "q3_test_fit_cols = {'g': ['A', 'A', 'B', 'B'], 'c1': [1, 2, 2, 2], 'c2': [3, 1, 2, 0]}\n",
    "q3_test_fit_X = pd.DataFrame(q3_test_fit_cols)\n",
    "q3_test_fit_std = StdScalerByGroup().fit(q3_test_fit_X)\n",
    "\n",
    "# test transform\n",
    "q3_test_transform_cols = {'g': ['A', 'A', 'B', 'B'], 'c1': [1, 2, 3, 4], 'c2': [1, 2, 3, 4]}\n",
    "q3_test_transform_X = pd.DataFrame(q3_test_transform_cols)\n",
    "q3_test_transform_std = StdScalerByGroup().fit(q3_test_transform_X)\n",
    "q3_test_transform_out = q3_test_transform_std.transform(q3_test_transform_X)"
   ]
  },
  {
   "cell_type": "code",
   "execution_count": 21,
   "id": "b6223998",
   "metadata": {},
   "outputs": [],
   "source": [
    "# don't change this cell, but do run it -- it is needed for the tests to work\n",
    "q3_fit_data = pd.read_csv('data/toy.csv')\n",
    "\n",
    "N = 2*10**6\n",
    "a = np.random.choice(['A', 'B'], size=(N,1)).astype('object')\n",
    "b = np.random.multivariate_normal([1, 2], [[1, 0],[0, 100]], size=N)\n",
    "arr = np.hstack([a, b])\n",
    "q3_transform_data = pd.DataFrame(arr)\n",
    "q3_transform_data[1] = q3_transform_data[1].astype(float)\n",
    "q3_transform_data[2] = q3_transform_data[2].astype(float)"
   ]
  },
  {
   "cell_type": "code",
   "execution_count": 22,
   "metadata": {},
   "outputs": [
    {
     "data": {
      "text/html": [
       "<div>\n",
       "<style scoped>\n",
       "    .dataframe tbody tr th:only-of-type {\n",
       "        vertical-align: middle;\n",
       "    }\n",
       "\n",
       "    .dataframe tbody tr th {\n",
       "        vertical-align: top;\n",
       "    }\n",
       "\n",
       "    .dataframe thead th {\n",
       "        text-align: right;\n",
       "    }\n",
       "</style>\n",
       "<table border=\"1\" class=\"dataframe\">\n",
       "  <thead>\n",
       "    <tr style=\"text-align: right;\">\n",
       "      <th></th>\n",
       "      <th>c1</th>\n",
       "      <th>c2</th>\n",
       "    </tr>\n",
       "  </thead>\n",
       "  <tbody>\n",
       "    <tr>\n",
       "      <th>0</th>\n",
       "      <td>-0.707107</td>\n",
       "      <td>-0.707107</td>\n",
       "    </tr>\n",
       "    <tr>\n",
       "      <th>1</th>\n",
       "      <td>0.707107</td>\n",
       "      <td>0.707107</td>\n",
       "    </tr>\n",
       "    <tr>\n",
       "      <th>2</th>\n",
       "      <td>-0.707107</td>\n",
       "      <td>-0.707107</td>\n",
       "    </tr>\n",
       "    <tr>\n",
       "      <th>3</th>\n",
       "      <td>0.707107</td>\n",
       "      <td>0.707107</td>\n",
       "    </tr>\n",
       "  </tbody>\n",
       "</table>\n",
       "</div>"
      ],
      "text/plain": [
       "         c1        c2\n",
       "0 -0.707107 -0.707107\n",
       "1  0.707107  0.707107\n",
       "2 -0.707107 -0.707107\n",
       "3  0.707107  0.707107"
      ]
     },
     "execution_count": 22,
     "metadata": {},
     "output_type": "execute_result"
    }
   ],
   "source": [
    "q3_test_transform_out"
   ]
  },
  {
   "cell_type": "code",
   "execution_count": 23,
   "id": "5e78cfd3",
   "metadata": {
    "deletable": false,
    "editable": false
   },
   "outputs": [
    {
     "data": {
      "text/html": [
       "<p><strong><pre style='display: inline;'>q3</pre></strong> passed!</p>"
      ],
      "text/plain": [
       "q3 results: All test cases passed!"
      ]
     },
     "execution_count": 23,
     "metadata": {},
     "output_type": "execute_result"
    }
   ],
   "source": [
    "grader.check(\"q3\")"
   ]
  },
  {
   "cell_type": "markdown",
   "id": "bcf4b356",
   "metadata": {},
   "source": [
    "### Question 4\n",
    "\n",
    "`Pipeline`s are supposed to help you easily try different model configurations. Complete the implementation of the function `eval_toy_model`, which returns a hard-coded **list of tuples** consisting of the (RMSE, $R^2$) of three different modeling `Pipeline`s, fit and evaluated on the entire input dataset `data`. The three different `Pipeline`s are:\n",
    "1. The `Pipeline` in Question 1.\n",
    "1. The `Pipeline` in Question 2.\n",
    "1. A `Pipeline` consisting of a linear regression model fit on features generated by applying `StdScalerByGroup` to `'c1'`, log-scaling `'c2'`, and applying `OneHotEncoder` to `'group'`."
   ]
  },
  {
   "cell_type": "code",
   "execution_count": 24,
   "metadata": {},
   "outputs": [],
   "source": [
    "toy_fp = os.path.join('data', 'toy.csv')\n",
    "toy_data = pd.read_csv(toy_fp)\n",
    "toy_pl1, toy_preds1 = simple_pipeline(toy_data)\n",
    "toy_pl2, toy_preds2 = multi_type_pipeline(toy_data)"
   ]
  },
  {
   "cell_type": "code",
   "execution_count": 25,
   "metadata": {},
   "outputs": [
    {
     "data": {
      "text/plain": [
       "(2.3148336164355268, 0.573324931567333)"
      ]
     },
     "execution_count": 25,
     "metadata": {},
     "output_type": "execute_result"
    }
   ],
   "source": [
    "from sklearn.metrics import mean_squared_error, r2_score\n",
    "rmse = np.sqrt(mean_squared_error(q2_data['y'], toy_preds2))\n",
    "r_squared = r2_score(q2_data['y'], toy_preds2)\n",
    "(rmse, r_squared)"
   ]
  },
  {
   "cell_type": "code",
   "execution_count": 26,
   "id": "2434bf2c",
   "metadata": {},
   "outputs": [
    {
     "data": {
      "text/plain": [
       "[(2.315733947782385, 0.5729929650348397)]"
      ]
     },
     "execution_count": 26,
     "metadata": {},
     "output_type": "execute_result"
    }
   ],
   "source": [
    "from sklearn.metrics import mean_squared_error, r2_score\n",
    "\n",
    "log_transformer = FunctionTransformer(np.log, validate=True)\n",
    "preproc = ColumnTransformer(\n",
    "    transformers=[\n",
    "        ('c1_stdscaler', StdScalerByGroup(), ['group','c1']),\n",
    "        ('c2_log', log_transformer, ['c2']),\n",
    "        ('ohe_group', OneHotEncoder(), ['group'])\n",
    "    ],\n",
    "    remainder='passthrough'\n",
    ")\n",
    "pl3 = Pipeline([\n",
    "    ('preprocessor', preproc), \n",
    "    ('lin-reg', LinearRegression())\n",
    "])\n",
    "results = []\n",
    "pl3.fit(q2_data.drop('y', axis=1), q2_data['y'])\n",
    "pl3_y_pred = pl3.predict(q2_data.drop('y', axis=1))\n",
    "# Calculate RMSE and R²\n",
    "rmse = np.sqrt(mean_squared_error(q2_data['y'], pl3_y_pred))\n",
    "r_squared = r2_score(q2_data['y'], pl3_y_pred)\n",
    "\n",
    "# Append the results\n",
    "results.append((rmse, r_squared))\n",
    "results"
   ]
  },
  {
   "cell_type": "code",
   "execution_count": null,
   "metadata": {},
   "outputs": [],
   "source": []
  },
  {
   "cell_type": "code",
   "execution_count": 27,
   "id": "94353648",
   "metadata": {
    "deletable": false,
    "editable": false
   },
   "outputs": [
    {
     "data": {
      "text/html": [
       "<p><strong><pre style='display: inline;'>q4</pre></strong> passed!</p>"
      ],
      "text/plain": [
       "q4 results: All test cases passed!"
      ]
     },
     "execution_count": 27,
     "metadata": {},
     "output_type": "execute_result"
    }
   ],
   "source": [
    "grader.check(\"q4\")"
   ]
  },
  {
   "cell_type": "markdown",
   "id": "da917bc2",
   "metadata": {},
   "source": [
    "## Part 2: Overfitting 😟"
   ]
  },
  {
   "cell_type": "markdown",
   "id": "7d6b8e39",
   "metadata": {},
   "source": [
    "### Question 5\n",
    "\n",
    "In this question, you will train two different classes of prediction models – **decision tree and k-Nearest Neighbor regressors** – and explore different ways in which overfitting can appear. You'll use Galton's child heights dataset from the missingness lectures and Lab 5.\n",
    "\n",
    "#### `tree_reg_perf` 🌲\n",
    "\n",
    "A decision tree regressor is trained similar to a decision tree classifier: the splits of the tree are created by minimizing the variance of the (training data) response values in the leaves given by making the split in question. A decision tree regressor predicts the response value of a (new) observation based on the **average target value** of the training observations lying in the same leaf node. \n",
    "\n",
    "One **hyperparameter** of a decision tree regressor that affects model complexity is the **depth** of the tree. Larger depths correspond to more complicated decision trees. We will explore this parameter in this question.\n",
    "\n",
    "Complete the implementation of the function `tree_reg_perf`, which takes in a DataFrame like `galton` and:\n",
    "- Splits the data into training and test sets,\n",
    "- Trains 20 decision trees – one for each depth between 1 and 20, and\n",
    "- Computes both the training RMSE and testing RMSE of each tree.\n",
    "\n",
    "Store and return your results in a DataFrame that has two columns, `'train_err'` and `'test_err'`, and an index that corresponds to tree depths (i.e. 1, 2, ..., 20).\n",
    "\n",
    "<br>\n",
    "\n",
    "#### `knn_reg_perf` 👉👈\n",
    "\n",
    "A k-Nearest Neighbors (k-NN) regressor predicts the response value of a (new) observation by computing the average value of the k-closest observations in the training set. The most common distance metric is Euclidean distance, i.e. $L_2$ distance.\n",
    "\n",
    "One **hyperparameter** of a k-NN regressor that affects model complexity is k, **the number of neighbors averaged over**. Larger values of k correspond to more complicated regressors. We will explore this hyperparameter in this question.\n",
    "\n",
    "Complete the implementation of the function `knn_reg_perf`, which takes in a DataFrame like `galton` and:\n",
    "- Splits the data into training and test sets,\n",
    "- Trains 20 k-NN regressors – one for each value of k between 1 and 20, and\n",
    "- Computes both the training RMSE and testing RMSE of each regressor.\n",
    "\n",
    "Again, store and return your results in a DataFrame that has two columns, `'train_err'` and `'test_err'`, and an index that corresponds to values of k (i.e. 1, 2, ..., 20).\n",
    "\n",
    "<br>\n",
    "\n",
    "**Some guidelines for both subparts:**\n",
    "\n",
    "- In all cases, we are using all other columns in `galton` to predict `'childHeight'`.\n",
    "- You need to import the necessary classes from `sklearn` **inside** the functions you create. (Unlike before, we haven't imported them for you because we want you to figure out what to import!)\n",
    "- If you're unsure how to create training and testing sets, refer to [Lecture 23](https://dsc80.com/resources/lectures/lec23/lec23.html). Use a test set size of 0.25. Within each function, you should only perform a single train-test split – that is, you should not be creating training and testing sets within a `for`-loop (though you will need to use a `for`-loop for something else).\n",
    "    - For the purposes of this question, do not use any cross-validation.\n",
    "- Don't write the formula for RMSE four times – define a helper function!"
   ]
  },
  {
   "cell_type": "code",
   "execution_count": 28,
   "id": "8bff9808",
   "metadata": {},
   "outputs": [
    {
     "data": {
      "text/html": [
       "<div>\n",
       "<style scoped>\n",
       "    .dataframe tbody tr th:only-of-type {\n",
       "        vertical-align: middle;\n",
       "    }\n",
       "\n",
       "    .dataframe tbody tr th {\n",
       "        vertical-align: top;\n",
       "    }\n",
       "\n",
       "    .dataframe thead th {\n",
       "        text-align: right;\n",
       "    }\n",
       "</style>\n",
       "<table border=\"1\" class=\"dataframe\">\n",
       "  <thead>\n",
       "    <tr style=\"text-align: right;\">\n",
       "      <th></th>\n",
       "      <th>father</th>\n",
       "      <th>mother</th>\n",
       "      <th>children</th>\n",
       "      <th>childNum</th>\n",
       "      <th>gender</th>\n",
       "      <th>childHeight</th>\n",
       "    </tr>\n",
       "  </thead>\n",
       "  <tbody>\n",
       "    <tr>\n",
       "      <th>0</th>\n",
       "      <td>78.5</td>\n",
       "      <td>67.0</td>\n",
       "      <td>4</td>\n",
       "      <td>1</td>\n",
       "      <td>1</td>\n",
       "      <td>73.2</td>\n",
       "    </tr>\n",
       "    <tr>\n",
       "      <th>1</th>\n",
       "      <td>78.5</td>\n",
       "      <td>67.0</td>\n",
       "      <td>4</td>\n",
       "      <td>2</td>\n",
       "      <td>0</td>\n",
       "      <td>69.2</td>\n",
       "    </tr>\n",
       "    <tr>\n",
       "      <th>2</th>\n",
       "      <td>78.5</td>\n",
       "      <td>67.0</td>\n",
       "      <td>4</td>\n",
       "      <td>3</td>\n",
       "      <td>0</td>\n",
       "      <td>69.0</td>\n",
       "    </tr>\n",
       "    <tr>\n",
       "      <th>3</th>\n",
       "      <td>78.5</td>\n",
       "      <td>67.0</td>\n",
       "      <td>4</td>\n",
       "      <td>4</td>\n",
       "      <td>0</td>\n",
       "      <td>69.0</td>\n",
       "    </tr>\n",
       "    <tr>\n",
       "      <th>4</th>\n",
       "      <td>75.5</td>\n",
       "      <td>66.5</td>\n",
       "      <td>4</td>\n",
       "      <td>1</td>\n",
       "      <td>1</td>\n",
       "      <td>73.5</td>\n",
       "    </tr>\n",
       "  </tbody>\n",
       "</table>\n",
       "</div>"
      ],
      "text/plain": [
       "   father  mother  children  childNum  gender  childHeight\n",
       "0    78.5    67.0         4         1       1         73.2\n",
       "1    78.5    67.0         4         2       0         69.2\n",
       "2    78.5    67.0         4         3       0         69.0\n",
       "3    78.5    67.0         4         4       0         69.0\n",
       "4    75.5    66.5         4         1       1         73.5"
      ]
     },
     "execution_count": 28,
     "metadata": {},
     "output_type": "execute_result"
    }
   ],
   "source": [
    "# Use `galton` to test your work.\n",
    "galton = pd.read_csv('data/galton.csv')\n",
    "galton.head()"
   ]
  },
  {
   "cell_type": "code",
   "execution_count": 29,
   "id": "0af56087",
   "metadata": {},
   "outputs": [
    {
     "data": {
      "text/html": [
       "<div>\n",
       "<style scoped>\n",
       "    .dataframe tbody tr th:only-of-type {\n",
       "        vertical-align: middle;\n",
       "    }\n",
       "\n",
       "    .dataframe tbody tr th {\n",
       "        vertical-align: top;\n",
       "    }\n",
       "\n",
       "    .dataframe thead th {\n",
       "        text-align: right;\n",
       "    }\n",
       "</style>\n",
       "<table border=\"1\" class=\"dataframe\">\n",
       "  <thead>\n",
       "    <tr style=\"text-align: right;\">\n",
       "      <th></th>\n",
       "      <th>train_err</th>\n",
       "      <th>test_err</th>\n",
       "    </tr>\n",
       "  </thead>\n",
       "  <tbody>\n",
       "    <tr>\n",
       "      <th>1</th>\n",
       "      <td>2.464331</td>\n",
       "      <td>2.617308</td>\n",
       "    </tr>\n",
       "    <tr>\n",
       "      <th>2</th>\n",
       "      <td>2.277170</td>\n",
       "      <td>2.524155</td>\n",
       "    </tr>\n",
       "    <tr>\n",
       "      <th>3</th>\n",
       "      <td>2.089859</td>\n",
       "      <td>2.357113</td>\n",
       "    </tr>\n",
       "    <tr>\n",
       "      <th>4</th>\n",
       "      <td>1.953536</td>\n",
       "      <td>2.257664</td>\n",
       "    </tr>\n",
       "    <tr>\n",
       "      <th>5</th>\n",
       "      <td>1.790380</td>\n",
       "      <td>2.158941</td>\n",
       "    </tr>\n",
       "    <tr>\n",
       "      <th>6</th>\n",
       "      <td>1.628651</td>\n",
       "      <td>2.261597</td>\n",
       "    </tr>\n",
       "    <tr>\n",
       "      <th>7</th>\n",
       "      <td>1.472174</td>\n",
       "      <td>2.339587</td>\n",
       "    </tr>\n",
       "    <tr>\n",
       "      <th>8</th>\n",
       "      <td>1.253968</td>\n",
       "      <td>2.434571</td>\n",
       "    </tr>\n",
       "    <tr>\n",
       "      <th>9</th>\n",
       "      <td>1.026741</td>\n",
       "      <td>2.442450</td>\n",
       "    </tr>\n",
       "    <tr>\n",
       "      <th>10</th>\n",
       "      <td>0.809883</td>\n",
       "      <td>2.628770</td>\n",
       "    </tr>\n",
       "    <tr>\n",
       "      <th>11</th>\n",
       "      <td>0.632864</td>\n",
       "      <td>2.591383</td>\n",
       "    </tr>\n",
       "    <tr>\n",
       "      <th>12</th>\n",
       "      <td>0.469206</td>\n",
       "      <td>2.660232</td>\n",
       "    </tr>\n",
       "    <tr>\n",
       "      <th>13</th>\n",
       "      <td>0.353907</td>\n",
       "      <td>2.707128</td>\n",
       "    </tr>\n",
       "    <tr>\n",
       "      <th>14</th>\n",
       "      <td>0.302622</td>\n",
       "      <td>2.721160</td>\n",
       "    </tr>\n",
       "    <tr>\n",
       "      <th>15</th>\n",
       "      <td>0.278603</td>\n",
       "      <td>2.610134</td>\n",
       "    </tr>\n",
       "    <tr>\n",
       "      <th>16</th>\n",
       "      <td>0.271196</td>\n",
       "      <td>2.655551</td>\n",
       "    </tr>\n",
       "    <tr>\n",
       "      <th>17</th>\n",
       "      <td>0.271196</td>\n",
       "      <td>2.655551</td>\n",
       "    </tr>\n",
       "    <tr>\n",
       "      <th>18</th>\n",
       "      <td>0.271196</td>\n",
       "      <td>2.655551</td>\n",
       "    </tr>\n",
       "    <tr>\n",
       "      <th>19</th>\n",
       "      <td>0.271196</td>\n",
       "      <td>2.655551</td>\n",
       "    </tr>\n",
       "    <tr>\n",
       "      <th>20</th>\n",
       "      <td>0.271196</td>\n",
       "      <td>2.655551</td>\n",
       "    </tr>\n",
       "  </tbody>\n",
       "</table>\n",
       "</div>"
      ],
      "text/plain": [
       "    train_err  test_err\n",
       "1    2.464331  2.617308\n",
       "2    2.277170  2.524155\n",
       "3    2.089859  2.357113\n",
       "4    1.953536  2.257664\n",
       "5    1.790380  2.158941\n",
       "6    1.628651  2.261597\n",
       "7    1.472174  2.339587\n",
       "8    1.253968  2.434571\n",
       "9    1.026741  2.442450\n",
       "10   0.809883  2.628770\n",
       "11   0.632864  2.591383\n",
       "12   0.469206  2.660232\n",
       "13   0.353907  2.707128\n",
       "14   0.302622  2.721160\n",
       "15   0.278603  2.610134\n",
       "16   0.271196  2.655551\n",
       "17   0.271196  2.655551\n",
       "18   0.271196  2.655551\n",
       "19   0.271196  2.655551\n",
       "20   0.271196  2.655551"
      ]
     },
     "execution_count": 29,
     "metadata": {},
     "output_type": "execute_result"
    }
   ],
   "source": [
    "from sklearn.model_selection import train_test_split\n",
    "from sklearn.tree import DecisionTreeRegressor\n",
    "X = galton.drop('childHeight', axis=1)\n",
    "y = galton['childHeight']\n",
    "X_train, X_test, y_train, y_test = train_test_split(X, y, test_size=0.2)\n",
    "errors = {'train_err': [], 'test_err': []}\n",
    "# Loop over tree depths from 1 to 20\n",
    "for depth in range(1, 21):\n",
    "    # Initialize the DecisionTreeRegressor with the current depth\n",
    "    tree = DecisionTreeRegressor(max_depth=depth, random_state=42)\n",
    "\n",
    "    # Train the model\n",
    "    tree.fit(X_train, y_train)\n",
    "\n",
    "    # Predict and calculate the RMSE for training set\n",
    "    train_pred = tree.predict(X_train)\n",
    "    train_err = np.sqrt(mean_squared_error(y_train, train_pred))\n",
    "    errors['train_err'].append(train_err)\n",
    "\n",
    "    # Predict and calculate the RMSE for test set\n",
    "    test_pred = tree.predict(X_test)\n",
    "    test_err = np.sqrt(mean_squared_error(y_test, test_pred))\n",
    "    errors['test_err'].append(test_err)\n",
    "\n",
    "# Create a DataFrame from the errors dictionary\n",
    "results_df = pd.DataFrame(errors, index=range(1, 21))\n",
    "results_df"
   ]
  },
  {
   "cell_type": "code",
   "execution_count": 30,
   "id": "1806fa0a",
   "metadata": {},
   "outputs": [
    {
     "data": {
      "text/html": [
       "<div>\n",
       "<style scoped>\n",
       "    .dataframe tbody tr th:only-of-type {\n",
       "        vertical-align: middle;\n",
       "    }\n",
       "\n",
       "    .dataframe tbody tr th {\n",
       "        vertical-align: top;\n",
       "    }\n",
       "\n",
       "    .dataframe thead th {\n",
       "        text-align: right;\n",
       "    }\n",
       "</style>\n",
       "<table border=\"1\" class=\"dataframe\">\n",
       "  <thead>\n",
       "    <tr style=\"text-align: right;\">\n",
       "      <th></th>\n",
       "      <th>train_err</th>\n",
       "      <th>test_err</th>\n",
       "    </tr>\n",
       "  </thead>\n",
       "  <tbody>\n",
       "    <tr>\n",
       "      <th>1</th>\n",
       "      <td>0.411742</td>\n",
       "      <td>2.826091</td>\n",
       "    </tr>\n",
       "    <tr>\n",
       "      <th>2</th>\n",
       "      <td>1.250642</td>\n",
       "      <td>2.637943</td>\n",
       "    </tr>\n",
       "    <tr>\n",
       "      <th>3</th>\n",
       "      <td>1.448085</td>\n",
       "      <td>2.439990</td>\n",
       "    </tr>\n",
       "    <tr>\n",
       "      <th>4</th>\n",
       "      <td>1.572848</td>\n",
       "      <td>2.327089</td>\n",
       "    </tr>\n",
       "    <tr>\n",
       "      <th>5</th>\n",
       "      <td>1.666598</td>\n",
       "      <td>2.277360</td>\n",
       "    </tr>\n",
       "    <tr>\n",
       "      <th>6</th>\n",
       "      <td>1.728301</td>\n",
       "      <td>2.298541</td>\n",
       "    </tr>\n",
       "    <tr>\n",
       "      <th>7</th>\n",
       "      <td>1.796734</td>\n",
       "      <td>2.319836</td>\n",
       "    </tr>\n",
       "    <tr>\n",
       "      <th>8</th>\n",
       "      <td>1.847978</td>\n",
       "      <td>2.303731</td>\n",
       "    </tr>\n",
       "    <tr>\n",
       "      <th>9</th>\n",
       "      <td>1.909552</td>\n",
       "      <td>2.244363</td>\n",
       "    </tr>\n",
       "    <tr>\n",
       "      <th>10</th>\n",
       "      <td>1.921027</td>\n",
       "      <td>2.271129</td>\n",
       "    </tr>\n",
       "    <tr>\n",
       "      <th>11</th>\n",
       "      <td>1.955320</td>\n",
       "      <td>2.263537</td>\n",
       "    </tr>\n",
       "    <tr>\n",
       "      <th>12</th>\n",
       "      <td>1.974021</td>\n",
       "      <td>2.253266</td>\n",
       "    </tr>\n",
       "    <tr>\n",
       "      <th>13</th>\n",
       "      <td>1.999612</td>\n",
       "      <td>2.292505</td>\n",
       "    </tr>\n",
       "    <tr>\n",
       "      <th>14</th>\n",
       "      <td>2.024333</td>\n",
       "      <td>2.304866</td>\n",
       "    </tr>\n",
       "    <tr>\n",
       "      <th>15</th>\n",
       "      <td>2.036840</td>\n",
       "      <td>2.296873</td>\n",
       "    </tr>\n",
       "    <tr>\n",
       "      <th>16</th>\n",
       "      <td>2.048273</td>\n",
       "      <td>2.312984</td>\n",
       "    </tr>\n",
       "    <tr>\n",
       "      <th>17</th>\n",
       "      <td>2.064764</td>\n",
       "      <td>2.331174</td>\n",
       "    </tr>\n",
       "    <tr>\n",
       "      <th>18</th>\n",
       "      <td>2.080133</td>\n",
       "      <td>2.374621</td>\n",
       "    </tr>\n",
       "    <tr>\n",
       "      <th>19</th>\n",
       "      <td>2.085591</td>\n",
       "      <td>2.365848</td>\n",
       "    </tr>\n",
       "    <tr>\n",
       "      <th>20</th>\n",
       "      <td>2.094317</td>\n",
       "      <td>2.381950</td>\n",
       "    </tr>\n",
       "  </tbody>\n",
       "</table>\n",
       "</div>"
      ],
      "text/plain": [
       "    train_err  test_err\n",
       "1    0.411742  2.826091\n",
       "2    1.250642  2.637943\n",
       "3    1.448085  2.439990\n",
       "4    1.572848  2.327089\n",
       "5    1.666598  2.277360\n",
       "6    1.728301  2.298541\n",
       "7    1.796734  2.319836\n",
       "8    1.847978  2.303731\n",
       "9    1.909552  2.244363\n",
       "10   1.921027  2.271129\n",
       "11   1.955320  2.263537\n",
       "12   1.974021  2.253266\n",
       "13   1.999612  2.292505\n",
       "14   2.024333  2.304866\n",
       "15   2.036840  2.296873\n",
       "16   2.048273  2.312984\n",
       "17   2.064764  2.331174\n",
       "18   2.080133  2.374621\n",
       "19   2.085591  2.365848\n",
       "20   2.094317  2.381950"
      ]
     },
     "execution_count": 30,
     "metadata": {},
     "output_type": "execute_result"
    }
   ],
   "source": [
    "from sklearn.neighbors import KNeighborsRegressor\n",
    "\n",
    "X = galton.drop('childHeight', axis=1)\n",
    "y = galton['childHeight']\n",
    "X_train, X_test, y_train, y_test = train_test_split(X, y, test_size=0.2)\n",
    "errors = {'train_err': [], 'test_err': []}\n",
    "# Loop over tree depths from 1 to 20\n",
    "for k in range(1, 21):\n",
    "    knn = KNeighborsRegressor(n_neighbors=k)\n",
    "    # Train the model\n",
    "    knn.fit(X_train, y_train)\n",
    "\n",
    "    # Predict and calculate the RMSE for training set\n",
    "    train_pred = knn.predict(X_train)\n",
    "    train_err = np.sqrt(mean_squared_error(y_train, train_pred))\n",
    "    errors['train_err'].append(train_err)\n",
    "\n",
    "    # Predict and calculate the RMSE for test set\n",
    "    test_pred = knn.predict(X_test)\n",
    "    test_err = np.sqrt(mean_squared_error(y_test, test_pred))\n",
    "    errors['test_err'].append(test_err)\n",
    "\n",
    "# Create a DataFrame from the errors dictionary\n",
    "results_df = pd.DataFrame(errors, index=range(1, 21))\n",
    "results_df"
   ]
  },
  {
   "cell_type": "code",
   "execution_count": 31,
   "id": "aba5dcc3",
   "metadata": {},
   "outputs": [],
   "source": [
    "# don't change this cell, but do run it -- it is needed for the tests\n",
    "galton_test = pd.read_csv('data/galton.csv')\n",
    "out_tree_test = tree_reg_perf(galton_test)\n",
    "out_knn_test = knn_reg_perf(galton_test)"
   ]
  },
  {
   "cell_type": "code",
   "execution_count": 32,
   "id": "58674469",
   "metadata": {
    "deletable": false,
    "editable": false
   },
   "outputs": [
    {
     "data": {
      "text/html": [
       "<p><strong><pre style='display: inline;'>q5</pre></strong> passed!</p>"
      ],
      "text/plain": [
       "q5 results: All test cases passed!"
      ]
     },
     "execution_count": 32,
     "metadata": {},
     "output_type": "execute_result"
    }
   ],
   "source": [
    "grader.check(\"q5\")"
   ]
  },
  {
   "cell_type": "markdown",
   "id": "83e86952",
   "metadata": {},
   "source": [
    "After you've implemented both functions, run the cells below to plot training and testing error for both models."
   ]
  },
  {
   "cell_type": "code",
   "execution_count": 33,
   "id": "9ac67035",
   "metadata": {},
   "outputs": [
    {
     "data": {
      "application/vnd.plotly.v1+json": {
       "config": {
        "plotlyServerURL": "https://plot.ly"
       },
       "data": [
        {
         "line": {
          "color": "blue"
         },
         "name": "Training Error",
         "type": "scatter",
         "x": [
          1,
          2,
          3,
          4,
          5,
          6,
          7,
          8,
          9,
          10,
          11,
          12,
          13,
          14,
          15,
          16,
          17,
          18,
          19,
          20
         ],
         "xaxis": "x",
         "y": [
          2.4733015479052964,
          2.291815074862593,
          2.137698012383197,
          1.9774582640703464,
          1.856420169867097,
          1.718144988688573,
          1.5642386686449934,
          1.400513507665671,
          1.2378886521491872,
          1.113184606507495,
          0.9494947100842402,
          0.7490247536760096,
          0.613492604063525,
          0.482618505531507,
          0.38432974896862676,
          0.3300174527085529,
          0.29295232039682034,
          0.2876143235437715,
          0.2724400134163627,
          0.2688664289689325
         ],
         "yaxis": "y"
        },
        {
         "line": {
          "color": "red"
         },
         "name": "Testing Error",
         "type": "scatter",
         "x": [
          1,
          2,
          3,
          4,
          5,
          6,
          7,
          8,
          9,
          10,
          11,
          12,
          13,
          14,
          15,
          16,
          17,
          18,
          19,
          20
         ],
         "xaxis": "x",
         "y": [
          2.585646956668994,
          2.4879427222772024,
          2.279594617457706,
          2.20413168301873,
          2.116195500012858,
          2.149026888972657,
          2.158257037300642,
          2.118373794535738,
          2.1602971248369283,
          2.261136494983446,
          2.2660512362137766,
          2.3009212880691607,
          2.4048414275969323,
          2.3636953383178527,
          2.409338196132273,
          2.4933307795638,
          2.462987753722122,
          2.400425789126336,
          2.421364908763315,
          2.4229296802206455
         ],
         "yaxis": "y"
        },
        {
         "line": {
          "color": "blue"
         },
         "name": "Training Error",
         "showlegend": false,
         "type": "scatter",
         "x": [
          1,
          2,
          3,
          4,
          5,
          6,
          7,
          8,
          9,
          10,
          11,
          12,
          13,
          14,
          15,
          16,
          17,
          18,
          19,
          20
         ],
         "xaxis": "x2",
         "y": [
          0.37271391528973324,
          1.3238012687698961,
          1.4741493032855295,
          1.6167836251321062,
          1.7086119373171615,
          1.766051415520198,
          1.8262915482087043,
          1.867792259603157,
          1.902785803917925,
          1.9217797697099424,
          1.9441203189895082,
          1.9830058995724404,
          1.9914185207098771,
          2.0157931579329302,
          2.035629357436358,
          2.059714941456764,
          2.076263361203886,
          2.0863822303165227,
          2.1031038210862034,
          2.120041794124668
         ],
         "yaxis": "y2"
        },
        {
         "line": {
          "color": "red"
         },
         "name": "Testing Error",
         "showlegend": false,
         "type": "scatter",
         "x": [
          1,
          2,
          3,
          4,
          5,
          6,
          7,
          8,
          9,
          10,
          11,
          12,
          13,
          14,
          15,
          16,
          17,
          18,
          19,
          20
         ],
         "xaxis": "x2",
         "y": [
          2.4923948494493198,
          2.243832902926749,
          2.191063793375925,
          2.184148502081391,
          2.1727274069764797,
          2.1130174024550383,
          2.0951342370722164,
          2.141172924039932,
          2.102676963449916,
          2.1053157828350937,
          2.1350417408268965,
          2.1477282315842268,
          2.148033674378933,
          2.147247412479135,
          2.1300856518308064,
          2.132053016893557,
          2.1302816788998653,
          2.1168363356266826,
          2.12663170317199,
          2.121753796066592
         ],
         "yaxis": "y2"
        }
       ],
       "layout": {
        "annotations": [
         {
          "font": {
           "size": 16
          },
          "showarrow": false,
          "text": "Error vs. Tree Depth<br>for Decision Tree Regressor",
          "x": 0.225,
          "xanchor": "center",
          "xref": "paper",
          "y": 1,
          "yanchor": "bottom",
          "yref": "paper"
         },
         {
          "font": {
           "size": 16
          },
          "showarrow": false,
          "text": "Error vs. k (# Neighbors)<br>for k-NN Regressor",
          "x": 0.775,
          "xanchor": "center",
          "xref": "paper",
          "y": 1,
          "yanchor": "bottom",
          "yref": "paper"
         }
        ],
        "height": 450,
        "template": {
         "data": {
          "bar": [
           {
            "error_x": {
             "color": "#2a3f5f"
            },
            "error_y": {
             "color": "#2a3f5f"
            },
            "marker": {
             "line": {
              "color": "#E5ECF6",
              "width": 0.5
             },
             "pattern": {
              "fillmode": "overlay",
              "size": 10,
              "solidity": 0.2
             }
            },
            "type": "bar"
           }
          ],
          "barpolar": [
           {
            "marker": {
             "line": {
              "color": "#E5ECF6",
              "width": 0.5
             },
             "pattern": {
              "fillmode": "overlay",
              "size": 10,
              "solidity": 0.2
             }
            },
            "type": "barpolar"
           }
          ],
          "carpet": [
           {
            "aaxis": {
             "endlinecolor": "#2a3f5f",
             "gridcolor": "white",
             "linecolor": "white",
             "minorgridcolor": "white",
             "startlinecolor": "#2a3f5f"
            },
            "baxis": {
             "endlinecolor": "#2a3f5f",
             "gridcolor": "white",
             "linecolor": "white",
             "minorgridcolor": "white",
             "startlinecolor": "#2a3f5f"
            },
            "type": "carpet"
           }
          ],
          "choropleth": [
           {
            "colorbar": {
             "outlinewidth": 0,
             "ticks": ""
            },
            "type": "choropleth"
           }
          ],
          "contour": [
           {
            "colorbar": {
             "outlinewidth": 0,
             "ticks": ""
            },
            "colorscale": [
             [
              0,
              "#0d0887"
             ],
             [
              0.1111111111111111,
              "#46039f"
             ],
             [
              0.2222222222222222,
              "#7201a8"
             ],
             [
              0.3333333333333333,
              "#9c179e"
             ],
             [
              0.4444444444444444,
              "#bd3786"
             ],
             [
              0.5555555555555556,
              "#d8576b"
             ],
             [
              0.6666666666666666,
              "#ed7953"
             ],
             [
              0.7777777777777778,
              "#fb9f3a"
             ],
             [
              0.8888888888888888,
              "#fdca26"
             ],
             [
              1,
              "#f0f921"
             ]
            ],
            "type": "contour"
           }
          ],
          "contourcarpet": [
           {
            "colorbar": {
             "outlinewidth": 0,
             "ticks": ""
            },
            "type": "contourcarpet"
           }
          ],
          "heatmap": [
           {
            "colorbar": {
             "outlinewidth": 0,
             "ticks": ""
            },
            "colorscale": [
             [
              0,
              "#0d0887"
             ],
             [
              0.1111111111111111,
              "#46039f"
             ],
             [
              0.2222222222222222,
              "#7201a8"
             ],
             [
              0.3333333333333333,
              "#9c179e"
             ],
             [
              0.4444444444444444,
              "#bd3786"
             ],
             [
              0.5555555555555556,
              "#d8576b"
             ],
             [
              0.6666666666666666,
              "#ed7953"
             ],
             [
              0.7777777777777778,
              "#fb9f3a"
             ],
             [
              0.8888888888888888,
              "#fdca26"
             ],
             [
              1,
              "#f0f921"
             ]
            ],
            "type": "heatmap"
           }
          ],
          "heatmapgl": [
           {
            "colorbar": {
             "outlinewidth": 0,
             "ticks": ""
            },
            "colorscale": [
             [
              0,
              "#0d0887"
             ],
             [
              0.1111111111111111,
              "#46039f"
             ],
             [
              0.2222222222222222,
              "#7201a8"
             ],
             [
              0.3333333333333333,
              "#9c179e"
             ],
             [
              0.4444444444444444,
              "#bd3786"
             ],
             [
              0.5555555555555556,
              "#d8576b"
             ],
             [
              0.6666666666666666,
              "#ed7953"
             ],
             [
              0.7777777777777778,
              "#fb9f3a"
             ],
             [
              0.8888888888888888,
              "#fdca26"
             ],
             [
              1,
              "#f0f921"
             ]
            ],
            "type": "heatmapgl"
           }
          ],
          "histogram": [
           {
            "marker": {
             "pattern": {
              "fillmode": "overlay",
              "size": 10,
              "solidity": 0.2
             }
            },
            "type": "histogram"
           }
          ],
          "histogram2d": [
           {
            "colorbar": {
             "outlinewidth": 0,
             "ticks": ""
            },
            "colorscale": [
             [
              0,
              "#0d0887"
             ],
             [
              0.1111111111111111,
              "#46039f"
             ],
             [
              0.2222222222222222,
              "#7201a8"
             ],
             [
              0.3333333333333333,
              "#9c179e"
             ],
             [
              0.4444444444444444,
              "#bd3786"
             ],
             [
              0.5555555555555556,
              "#d8576b"
             ],
             [
              0.6666666666666666,
              "#ed7953"
             ],
             [
              0.7777777777777778,
              "#fb9f3a"
             ],
             [
              0.8888888888888888,
              "#fdca26"
             ],
             [
              1,
              "#f0f921"
             ]
            ],
            "type": "histogram2d"
           }
          ],
          "histogram2dcontour": [
           {
            "colorbar": {
             "outlinewidth": 0,
             "ticks": ""
            },
            "colorscale": [
             [
              0,
              "#0d0887"
             ],
             [
              0.1111111111111111,
              "#46039f"
             ],
             [
              0.2222222222222222,
              "#7201a8"
             ],
             [
              0.3333333333333333,
              "#9c179e"
             ],
             [
              0.4444444444444444,
              "#bd3786"
             ],
             [
              0.5555555555555556,
              "#d8576b"
             ],
             [
              0.6666666666666666,
              "#ed7953"
             ],
             [
              0.7777777777777778,
              "#fb9f3a"
             ],
             [
              0.8888888888888888,
              "#fdca26"
             ],
             [
              1,
              "#f0f921"
             ]
            ],
            "type": "histogram2dcontour"
           }
          ],
          "mesh3d": [
           {
            "colorbar": {
             "outlinewidth": 0,
             "ticks": ""
            },
            "type": "mesh3d"
           }
          ],
          "parcoords": [
           {
            "line": {
             "colorbar": {
              "outlinewidth": 0,
              "ticks": ""
             }
            },
            "type": "parcoords"
           }
          ],
          "pie": [
           {
            "automargin": true,
            "type": "pie"
           }
          ],
          "scatter": [
           {
            "fillpattern": {
             "fillmode": "overlay",
             "size": 10,
             "solidity": 0.2
            },
            "type": "scatter"
           }
          ],
          "scatter3d": [
           {
            "line": {
             "colorbar": {
              "outlinewidth": 0,
              "ticks": ""
             }
            },
            "marker": {
             "colorbar": {
              "outlinewidth": 0,
              "ticks": ""
             }
            },
            "type": "scatter3d"
           }
          ],
          "scattercarpet": [
           {
            "marker": {
             "colorbar": {
              "outlinewidth": 0,
              "ticks": ""
             }
            },
            "type": "scattercarpet"
           }
          ],
          "scattergeo": [
           {
            "marker": {
             "colorbar": {
              "outlinewidth": 0,
              "ticks": ""
             }
            },
            "type": "scattergeo"
           }
          ],
          "scattergl": [
           {
            "marker": {
             "colorbar": {
              "outlinewidth": 0,
              "ticks": ""
             }
            },
            "type": "scattergl"
           }
          ],
          "scattermapbox": [
           {
            "marker": {
             "colorbar": {
              "outlinewidth": 0,
              "ticks": ""
             }
            },
            "type": "scattermapbox"
           }
          ],
          "scatterpolar": [
           {
            "marker": {
             "colorbar": {
              "outlinewidth": 0,
              "ticks": ""
             }
            },
            "type": "scatterpolar"
           }
          ],
          "scatterpolargl": [
           {
            "marker": {
             "colorbar": {
              "outlinewidth": 0,
              "ticks": ""
             }
            },
            "type": "scatterpolargl"
           }
          ],
          "scatterternary": [
           {
            "marker": {
             "colorbar": {
              "outlinewidth": 0,
              "ticks": ""
             }
            },
            "type": "scatterternary"
           }
          ],
          "surface": [
           {
            "colorbar": {
             "outlinewidth": 0,
             "ticks": ""
            },
            "colorscale": [
             [
              0,
              "#0d0887"
             ],
             [
              0.1111111111111111,
              "#46039f"
             ],
             [
              0.2222222222222222,
              "#7201a8"
             ],
             [
              0.3333333333333333,
              "#9c179e"
             ],
             [
              0.4444444444444444,
              "#bd3786"
             ],
             [
              0.5555555555555556,
              "#d8576b"
             ],
             [
              0.6666666666666666,
              "#ed7953"
             ],
             [
              0.7777777777777778,
              "#fb9f3a"
             ],
             [
              0.8888888888888888,
              "#fdca26"
             ],
             [
              1,
              "#f0f921"
             ]
            ],
            "type": "surface"
           }
          ],
          "table": [
           {
            "cells": {
             "fill": {
              "color": "#EBF0F8"
             },
             "line": {
              "color": "white"
             }
            },
            "header": {
             "fill": {
              "color": "#C8D4E3"
             },
             "line": {
              "color": "white"
             }
            },
            "type": "table"
           }
          ]
         },
         "layout": {
          "annotationdefaults": {
           "arrowcolor": "#2a3f5f",
           "arrowhead": 0,
           "arrowwidth": 1
          },
          "autotypenumbers": "strict",
          "coloraxis": {
           "colorbar": {
            "outlinewidth": 0,
            "ticks": ""
           }
          },
          "colorscale": {
           "diverging": [
            [
             0,
             "#8e0152"
            ],
            [
             0.1,
             "#c51b7d"
            ],
            [
             0.2,
             "#de77ae"
            ],
            [
             0.3,
             "#f1b6da"
            ],
            [
             0.4,
             "#fde0ef"
            ],
            [
             0.5,
             "#f7f7f7"
            ],
            [
             0.6,
             "#e6f5d0"
            ],
            [
             0.7,
             "#b8e186"
            ],
            [
             0.8,
             "#7fbc41"
            ],
            [
             0.9,
             "#4d9221"
            ],
            [
             1,
             "#276419"
            ]
           ],
           "sequential": [
            [
             0,
             "#0d0887"
            ],
            [
             0.1111111111111111,
             "#46039f"
            ],
            [
             0.2222222222222222,
             "#7201a8"
            ],
            [
             0.3333333333333333,
             "#9c179e"
            ],
            [
             0.4444444444444444,
             "#bd3786"
            ],
            [
             0.5555555555555556,
             "#d8576b"
            ],
            [
             0.6666666666666666,
             "#ed7953"
            ],
            [
             0.7777777777777778,
             "#fb9f3a"
            ],
            [
             0.8888888888888888,
             "#fdca26"
            ],
            [
             1,
             "#f0f921"
            ]
           ],
           "sequentialminus": [
            [
             0,
             "#0d0887"
            ],
            [
             0.1111111111111111,
             "#46039f"
            ],
            [
             0.2222222222222222,
             "#7201a8"
            ],
            [
             0.3333333333333333,
             "#9c179e"
            ],
            [
             0.4444444444444444,
             "#bd3786"
            ],
            [
             0.5555555555555556,
             "#d8576b"
            ],
            [
             0.6666666666666666,
             "#ed7953"
            ],
            [
             0.7777777777777778,
             "#fb9f3a"
            ],
            [
             0.8888888888888888,
             "#fdca26"
            ],
            [
             1,
             "#f0f921"
            ]
           ]
          },
          "colorway": [
           "#636efa",
           "#EF553B",
           "#00cc96",
           "#ab63fa",
           "#FFA15A",
           "#19d3f3",
           "#FF6692",
           "#B6E880",
           "#FF97FF",
           "#FECB52"
          ],
          "font": {
           "color": "#2a3f5f"
          },
          "geo": {
           "bgcolor": "white",
           "lakecolor": "white",
           "landcolor": "#E5ECF6",
           "showlakes": true,
           "showland": true,
           "subunitcolor": "white"
          },
          "hoverlabel": {
           "align": "left"
          },
          "hovermode": "closest",
          "mapbox": {
           "style": "light"
          },
          "paper_bgcolor": "white",
          "plot_bgcolor": "#E5ECF6",
          "polar": {
           "angularaxis": {
            "gridcolor": "white",
            "linecolor": "white",
            "ticks": ""
           },
           "bgcolor": "#E5ECF6",
           "radialaxis": {
            "gridcolor": "white",
            "linecolor": "white",
            "ticks": ""
           }
          },
          "scene": {
           "xaxis": {
            "backgroundcolor": "#E5ECF6",
            "gridcolor": "white",
            "gridwidth": 2,
            "linecolor": "white",
            "showbackground": true,
            "ticks": "",
            "zerolinecolor": "white"
           },
           "yaxis": {
            "backgroundcolor": "#E5ECF6",
            "gridcolor": "white",
            "gridwidth": 2,
            "linecolor": "white",
            "showbackground": true,
            "ticks": "",
            "zerolinecolor": "white"
           },
           "zaxis": {
            "backgroundcolor": "#E5ECF6",
            "gridcolor": "white",
            "gridwidth": 2,
            "linecolor": "white",
            "showbackground": true,
            "ticks": "",
            "zerolinecolor": "white"
           }
          },
          "shapedefaults": {
           "line": {
            "color": "#2a3f5f"
           }
          },
          "ternary": {
           "aaxis": {
            "gridcolor": "white",
            "linecolor": "white",
            "ticks": ""
           },
           "baxis": {
            "gridcolor": "white",
            "linecolor": "white",
            "ticks": ""
           },
           "bgcolor": "#E5ECF6",
           "caxis": {
            "gridcolor": "white",
            "linecolor": "white",
            "ticks": ""
           }
          },
          "title": {
           "x": 0.05
          },
          "xaxis": {
           "automargin": true,
           "gridcolor": "white",
           "linecolor": "white",
           "ticks": "",
           "title": {
            "standoff": 15
           },
           "zerolinecolor": "white",
           "zerolinewidth": 2
          },
          "yaxis": {
           "automargin": true,
           "gridcolor": "white",
           "linecolor": "white",
           "ticks": "",
           "title": {
            "standoff": 15
           },
           "zerolinecolor": "white",
           "zerolinewidth": 2
          }
         }
        },
        "width": 975,
        "xaxis": {
         "anchor": "y",
         "domain": [
          0,
          0.45
         ],
         "tickvals": [
          1,
          3,
          5,
          7,
          9,
          11,
          13,
          15,
          17,
          19
         ],
         "title": {
          "text": "Tree Depth"
         }
        },
        "xaxis2": {
         "anchor": "y2",
         "domain": [
          0.55,
          1
         ],
         "tickvals": [
          1,
          3,
          5,
          7,
          9,
          11,
          13,
          15,
          17,
          19
         ],
         "title": {
          "text": "k (# Neighbors)"
         }
        },
        "yaxis": {
         "anchor": "x",
         "domain": [
          0,
          1
         ]
        },
        "yaxis2": {
         "anchor": "x2",
         "domain": [
          0,
          1
         ]
        }
       }
      }
     },
     "metadata": {},
     "output_type": "display_data"
    }
   ],
   "source": [
    "np.random.seed(9) # For reproducibility\n",
    "\n",
    "tree = tree_reg_perf(galton)\n",
    "knn = knn_reg_perf(galton)\n",
    "hyp = np.arange(1, 21)\n",
    "\n",
    "fig = make_subplots(rows=1, cols=2, subplot_titles=('Error vs. Tree Depth<br>for Decision Tree Regressor',\n",
    "                                                    'Error vs. k (# Neighbors)<br>for k-NN Regressor'))\n",
    "\n",
    "fig.add_trace(\n",
    "    go.Scatter(x=hyp, y=tree.iloc[:, 0], line=dict(color='blue'), name='Training Error'),\n",
    "    row=1, col=1).add_trace(go.Scatter(x=hyp, y=tree.iloc[:, 1], line=dict(color='red'), name='Testing Error'), \n",
    "                            row=1, col=1)\n",
    "\n",
    "fig.add_trace(\n",
    "    go.Scatter(x=hyp, y=knn.iloc[:, 0], line=dict(color='blue'), name='Training Error', showlegend=False),\n",
    "    row=1, col=2).add_trace(go.Scatter(x=hyp, y=knn.iloc[:, 1], line=dict(color='red'),  name='Testing Error',\n",
    "                                       showlegend=False), row=1, col=2)\n",
    "\n",
    "fig.update_layout(height=450, width=975)\n",
    "fig.update_xaxes(title_text='Tree Depth', row=1, col=1, tickvals=np.arange(1,21,2))\n",
    "fig.update_xaxes(title_text='k (# Neighbors)', row=1, col=2, tickvals=np.arange(1,21,2))\n",
    "\n",
    "fig.show()"
   ]
  },
  {
   "cell_type": "markdown",
   "id": "9705287e",
   "metadata": {},
   "source": [
    "If your training and evaluation routines are correct, you should notice a few things:\n",
    "- In both models, testing error initially decreases, and then (perhaps slowly) increases.\n",
    "- With the decision tree, training error **decreases** as depth increases.\n",
    "- With the k-NN regressor, training error **increases** as k (the number of neighbors looked at) increases.\n",
    "\n",
    "You should think about **why** you observe each of the above phenomena. In particular, the last point may seem confusing – one would think that because larger values of k correspond to more complicated models (because the regressor is looking at more information to make a prediction), larger values of k should have lower training errors. But the nature of k-NN regressors is quite different than, say, decision tree regressors or linear regression models.\n",
    "\n",
    "Lastly, in both cases, identify the ideal **hyperparameter** choice based on the graphs of testing error. You don't have to write the answer anywhere."
   ]
  },
  {
   "cell_type": "markdown",
   "id": "8a36a060",
   "metadata": {},
   "source": [
    "## Part 3: Predicting Survival on the Titanic 🛳🧊"
   ]
  },
  {
   "cell_type": "markdown",
   "id": "325c28b3",
   "metadata": {},
   "source": [
    "### Question 6\n",
    "\n",
    "Predicting whether or not passengers on the Titanic survived is a common first assignment when learning about classification – now it's your turn!\n",
    "\n",
    "Complete the implementation of the function `titanic_model`, which takes in a DataFrame `titanic` containing **training data only** and returns a `Pipeline` object fit to the training data. \n",
    "\n",
    "\n",
    "#### Requirements\n",
    "\n",
    "You have freedom to build your own model. That is, **you can use any classification algorithm**, but your model should satisfy the following requirements:\n",
    "\n",
    "- The model is built on the (binary) response column `'Survived'`.\n",
    "* The model uses features derived from **all other columns in `titanic`**. Below, we specify which columns to \"engineer\"; you may \"engineer\" features using other columns, but be sure to include every column in your model (even if you choose to leave some columns as-is).\n",
    "\n",
    "* Required feature engineering:\n",
    "    * Derive a feature from the \"title\" in the `'Name'` field (e.g. \"Mr\", \"Miss\", \"Mrs\" – the names themselves should not be used as a feature; think about why).\n",
    "    * Derive a feature that standardizes passengers' ages among their `'Pclass'` (use Question 3!).\n",
    "    \n",
    "#### Evaluation\n",
    "    \n",
    "Your model must achieve an accuracy of 0.78 on both the training set and the test set. Note that while you have access to the test set, it is still encouraged to perform your own model validation.\n",
    "\n",
    "**Extra credit: If your model can consistently earn an accuracy of above 0.83 on the test set, you can earn 5 points of extra credit on the lab!** That is, you can earn up to 60 points on the lab, even though it is only graded out of 55 points (meaning you _can_ have a score above 100% on the lab).\n",
    "\n",
    "Some guidance:\n",
    "\n",
    "- `Pipeline` objects can have other `Pipeline` objects within them. While this isn't a requirement, you may find this useful to break down your model into smaller, more manageable steps.\n",
    "\n",
    "- You can make make `Pipeline` of just transformers.\n",
    "\n",
    "- Your submitted `titanic_model` function should have the model's hyperparameters (e.g. tree depth) hard-coded in it. That is, the `Pipeline` object doesn't have to include the hyperparameter selection process.\n",
    "\n",
    "- You will find [FunctionTransformer](https://scikit-learn.org/stable/modules/generated/sklearn.preprocessing.FunctionTransformer.html) useful. If you want your transformer to output a categorical feature, you will need to select `validate=False`.\n",
    "\n",
    "- When using [ColumnTransformer](https://scikit-learn.org/stable/modules/generated/sklearn.compose.ColumnTransformer.html#sklearn.compose.ColumnTransformer), you may find the `remainder` keyword helpful.\n",
    "\n",
    "- If you are set out to get those extra 5 points, consider building some meaningful features before fine-tuning the hyperparameters of your model. Do an EDA on the dataset – what kinds of people are more prone to survive?"
   ]
  },
  {
   "cell_type": "code",
   "execution_count": 65,
   "id": "f77b0332",
   "metadata": {},
   "outputs": [
    {
     "data": {
      "text/html": [
       "<div>\n",
       "<style scoped>\n",
       "    .dataframe tbody tr th:only-of-type {\n",
       "        vertical-align: middle;\n",
       "    }\n",
       "\n",
       "    .dataframe tbody tr th {\n",
       "        vertical-align: top;\n",
       "    }\n",
       "\n",
       "    .dataframe thead th {\n",
       "        text-align: right;\n",
       "    }\n",
       "</style>\n",
       "<table border=\"1\" class=\"dataframe\">\n",
       "  <thead>\n",
       "    <tr style=\"text-align: right;\">\n",
       "      <th></th>\n",
       "      <th>Survived</th>\n",
       "      <th>Pclass</th>\n",
       "      <th>Name</th>\n",
       "      <th>Sex</th>\n",
       "      <th>Age</th>\n",
       "      <th>Siblings/Spouses Aboard</th>\n",
       "      <th>Parents/Children Aboard</th>\n",
       "      <th>Fare</th>\n",
       "    </tr>\n",
       "  </thead>\n",
       "  <tbody>\n",
       "    <tr>\n",
       "      <th>0</th>\n",
       "      <td>0</td>\n",
       "      <td>2</td>\n",
       "      <td>Mr. William John Berriman</td>\n",
       "      <td>male</td>\n",
       "      <td>23.0</td>\n",
       "      <td>0</td>\n",
       "      <td>0</td>\n",
       "      <td>13.0000</td>\n",
       "    </tr>\n",
       "    <tr>\n",
       "      <th>1</th>\n",
       "      <td>1</td>\n",
       "      <td>3</td>\n",
       "      <td>Mrs. (Beila) Moor</td>\n",
       "      <td>female</td>\n",
       "      <td>27.0</td>\n",
       "      <td>0</td>\n",
       "      <td>1</td>\n",
       "      <td>12.4750</td>\n",
       "    </tr>\n",
       "    <tr>\n",
       "      <th>2</th>\n",
       "      <td>0</td>\n",
       "      <td>3</td>\n",
       "      <td>Mr. Nestor Cyriel Vande Walle</td>\n",
       "      <td>male</td>\n",
       "      <td>28.0</td>\n",
       "      <td>0</td>\n",
       "      <td>0</td>\n",
       "      <td>9.5000</td>\n",
       "    </tr>\n",
       "    <tr>\n",
       "      <th>3</th>\n",
       "      <td>0</td>\n",
       "      <td>3</td>\n",
       "      <td>Mr. Khalil Saad</td>\n",
       "      <td>male</td>\n",
       "      <td>25.0</td>\n",
       "      <td>0</td>\n",
       "      <td>0</td>\n",
       "      <td>7.2250</td>\n",
       "    </tr>\n",
       "    <tr>\n",
       "      <th>4</th>\n",
       "      <td>0</td>\n",
       "      <td>3</td>\n",
       "      <td>Miss. Gerda Ulrika Dahlberg</td>\n",
       "      <td>female</td>\n",
       "      <td>22.0</td>\n",
       "      <td>0</td>\n",
       "      <td>0</td>\n",
       "      <td>10.5167</td>\n",
       "    </tr>\n",
       "  </tbody>\n",
       "</table>\n",
       "</div>"
      ],
      "text/plain": [
       "   Survived  Pclass                           Name     Sex   Age  \\\n",
       "0         0       2      Mr. William John Berriman    male  23.0   \n",
       "1         1       3              Mrs. (Beila) Moor  female  27.0   \n",
       "2         0       3  Mr. Nestor Cyriel Vande Walle    male  28.0   \n",
       "3         0       3                Mr. Khalil Saad    male  25.0   \n",
       "4         0       3    Miss. Gerda Ulrika Dahlberg  female  22.0   \n",
       "\n",
       "   Siblings/Spouses Aboard  Parents/Children Aboard     Fare  \n",
       "0                        0                        0  13.0000  \n",
       "1                        0                        1  12.4750  \n",
       "2                        0                        0   9.5000  \n",
       "3                        0                        0   7.2250  \n",
       "4                        0                        0  10.5167  "
      ]
     },
     "execution_count": 65,
     "metadata": {},
     "output_type": "execute_result"
    }
   ],
   "source": [
    "# Experiment using `titanic` below – remember, this is only your training data\n",
    "titanic = pd.read_csv('data/titanic.csv')\n",
    "titanic.head()"
   ]
  },
  {
   "cell_type": "code",
   "execution_count": 66,
   "id": "09287ca6",
   "metadata": {},
   "outputs": [
    {
     "data": {
      "text/plain": [
       "0.8755020080321285"
      ]
     },
     "execution_count": 66,
     "metadata": {},
     "output_type": "execute_result"
    }
   ],
   "source": [
    "from sklearn.model_selection import train_test_split\n",
    "X = titanic.drop(columns = 'Survived')\n",
    "y = titanic['Survived']\n",
    "X_train, X_test, y_train, y_test = train_test_split(X, y, test_size=0.35)\n",
    "pre = titanic_model(titanic)\n",
    "(pre.predict(X_test)==y_test).mean()\n",
    "# results = []\n",
    "# for i in range(1000):\n",
    "#     X_train, X_test, y_train, y_test = train_test_split(X, y, test_size=0.35)\n",
    "#     pre = titanic_model(titanic)\n",
    "#     results.append((pre.predict(X_test)==y_test).mean())"
   ]
  },
  {
   "cell_type": "code",
   "execution_count": 37,
   "metadata": {},
   "outputs": [
    {
     "data": {
      "text/plain": [
       "(2.315733947782385, 0.5729929650348397)"
      ]
     },
     "execution_count": 37,
     "metadata": {},
     "output_type": "execute_result"
    }
   ],
   "source": [
    "min(results)"
   ]
  },
  {
   "cell_type": "code",
   "execution_count": 38,
   "id": "378de75f",
   "metadata": {},
   "outputs": [
    {
     "data": {
      "text/plain": [
       "0.8459869848156182"
      ]
     },
     "execution_count": 38,
     "metadata": {},
     "output_type": "execute_result"
    }
   ],
   "source": [
    "(pre.predict(X_train)==y_train).mean()"
   ]
  },
  {
   "cell_type": "code",
   "execution_count": 39,
   "id": "014ea868",
   "metadata": {},
   "outputs": [],
   "source": [
    "# don't change this cell, but do run it -- it is needed for the tests\n",
    "q6_data_test = pd.read_csv('data/titanic.csv')\n",
    "pl_test = titanic_model(q6_data_test)"
   ]
  },
  {
   "cell_type": "code",
   "execution_count": 40,
   "metadata": {},
   "outputs": [
    {
     "data": {
      "text/html": [
       "<div>\n",
       "<style scoped>\n",
       "    .dataframe tbody tr th:only-of-type {\n",
       "        vertical-align: middle;\n",
       "    }\n",
       "\n",
       "    .dataframe tbody tr th {\n",
       "        vertical-align: top;\n",
       "    }\n",
       "\n",
       "    .dataframe thead th {\n",
       "        text-align: right;\n",
       "    }\n",
       "</style>\n",
       "<table border=\"1\" class=\"dataframe\">\n",
       "  <thead>\n",
       "    <tr style=\"text-align: right;\">\n",
       "      <th></th>\n",
       "      <th>Survived</th>\n",
       "      <th>Pclass</th>\n",
       "      <th>Name</th>\n",
       "      <th>Sex</th>\n",
       "      <th>Age</th>\n",
       "      <th>Siblings/Spouses Aboard</th>\n",
       "      <th>Parents/Children Aboard</th>\n",
       "      <th>Fare</th>\n",
       "      <th>Title</th>\n",
       "    </tr>\n",
       "  </thead>\n",
       "  <tbody>\n",
       "    <tr>\n",
       "      <th>0</th>\n",
       "      <td>0</td>\n",
       "      <td>2</td>\n",
       "      <td>Mr. William John Berriman</td>\n",
       "      <td>male</td>\n",
       "      <td>23.0</td>\n",
       "      <td>0</td>\n",
       "      <td>0</td>\n",
       "      <td>13.0000</td>\n",
       "      <td>Mr</td>\n",
       "    </tr>\n",
       "    <tr>\n",
       "      <th>1</th>\n",
       "      <td>1</td>\n",
       "      <td>3</td>\n",
       "      <td>Mrs. (Beila) Moor</td>\n",
       "      <td>female</td>\n",
       "      <td>27.0</td>\n",
       "      <td>0</td>\n",
       "      <td>1</td>\n",
       "      <td>12.4750</td>\n",
       "      <td>Mrs</td>\n",
       "    </tr>\n",
       "    <tr>\n",
       "      <th>2</th>\n",
       "      <td>0</td>\n",
       "      <td>3</td>\n",
       "      <td>Mr. Nestor Cyriel Vande Walle</td>\n",
       "      <td>male</td>\n",
       "      <td>28.0</td>\n",
       "      <td>0</td>\n",
       "      <td>0</td>\n",
       "      <td>9.5000</td>\n",
       "      <td>Mr</td>\n",
       "    </tr>\n",
       "    <tr>\n",
       "      <th>3</th>\n",
       "      <td>0</td>\n",
       "      <td>3</td>\n",
       "      <td>Mr. Khalil Saad</td>\n",
       "      <td>male</td>\n",
       "      <td>25.0</td>\n",
       "      <td>0</td>\n",
       "      <td>0</td>\n",
       "      <td>7.2250</td>\n",
       "      <td>Mr</td>\n",
       "    </tr>\n",
       "    <tr>\n",
       "      <th>4</th>\n",
       "      <td>0</td>\n",
       "      <td>3</td>\n",
       "      <td>Miss. Gerda Ulrika Dahlberg</td>\n",
       "      <td>female</td>\n",
       "      <td>22.0</td>\n",
       "      <td>0</td>\n",
       "      <td>0</td>\n",
       "      <td>10.5167</td>\n",
       "      <td>Miss</td>\n",
       "    </tr>\n",
       "    <tr>\n",
       "      <th>...</th>\n",
       "      <td>...</td>\n",
       "      <td>...</td>\n",
       "      <td>...</td>\n",
       "      <td>...</td>\n",
       "      <td>...</td>\n",
       "      <td>...</td>\n",
       "      <td>...</td>\n",
       "      <td>...</td>\n",
       "      <td>...</td>\n",
       "    </tr>\n",
       "    <tr>\n",
       "      <th>705</th>\n",
       "      <td>0</td>\n",
       "      <td>3</td>\n",
       "      <td>Mr. Raihed Razi</td>\n",
       "      <td>male</td>\n",
       "      <td>30.0</td>\n",
       "      <td>0</td>\n",
       "      <td>0</td>\n",
       "      <td>7.2292</td>\n",
       "      <td>Mr</td>\n",
       "    </tr>\n",
       "    <tr>\n",
       "      <th>706</th>\n",
       "      <td>0</td>\n",
       "      <td>2</td>\n",
       "      <td>Mr. John Henry Chapman</td>\n",
       "      <td>male</td>\n",
       "      <td>37.0</td>\n",
       "      <td>1</td>\n",
       "      <td>0</td>\n",
       "      <td>26.0000</td>\n",
       "      <td>Mr</td>\n",
       "    </tr>\n",
       "    <tr>\n",
       "      <th>707</th>\n",
       "      <td>1</td>\n",
       "      <td>2</td>\n",
       "      <td>Mrs. Sidney (Emily Hocking) Richards</td>\n",
       "      <td>female</td>\n",
       "      <td>24.0</td>\n",
       "      <td>2</td>\n",
       "      <td>3</td>\n",
       "      <td>18.7500</td>\n",
       "      <td>Mrs</td>\n",
       "    </tr>\n",
       "    <tr>\n",
       "      <th>708</th>\n",
       "      <td>0</td>\n",
       "      <td>3</td>\n",
       "      <td>Mr. Karl Gideon Gustafsson</td>\n",
       "      <td>male</td>\n",
       "      <td>19.0</td>\n",
       "      <td>0</td>\n",
       "      <td>0</td>\n",
       "      <td>7.7750</td>\n",
       "      <td>Mr</td>\n",
       "    </tr>\n",
       "    <tr>\n",
       "      <th>709</th>\n",
       "      <td>1</td>\n",
       "      <td>1</td>\n",
       "      <td>Mrs. Samuel L (Edwiga Grabowska) Goldenberg</td>\n",
       "      <td>female</td>\n",
       "      <td>40.0</td>\n",
       "      <td>1</td>\n",
       "      <td>0</td>\n",
       "      <td>89.1042</td>\n",
       "      <td>Mrs</td>\n",
       "    </tr>\n",
       "  </tbody>\n",
       "</table>\n",
       "<p>710 rows × 9 columns</p>\n",
       "</div>"
      ],
      "text/plain": [
       "     Survived  Pclass                                         Name     Sex  \\\n",
       "0           0       2                    Mr. William John Berriman    male   \n",
       "1           1       3                            Mrs. (Beila) Moor  female   \n",
       "2           0       3                Mr. Nestor Cyriel Vande Walle    male   \n",
       "3           0       3                              Mr. Khalil Saad    male   \n",
       "4           0       3                  Miss. Gerda Ulrika Dahlberg  female   \n",
       "..        ...     ...                                          ...     ...   \n",
       "705         0       3                              Mr. Raihed Razi    male   \n",
       "706         0       2                       Mr. John Henry Chapman    male   \n",
       "707         1       2         Mrs. Sidney (Emily Hocking) Richards  female   \n",
       "708         0       3                   Mr. Karl Gideon Gustafsson    male   \n",
       "709         1       1  Mrs. Samuel L (Edwiga Grabowska) Goldenberg  female   \n",
       "\n",
       "      Age  Siblings/Spouses Aboard  Parents/Children Aboard     Fare Title  \n",
       "0    23.0                        0                        0  13.0000    Mr  \n",
       "1    27.0                        0                        1  12.4750   Mrs  \n",
       "2    28.0                        0                        0   9.5000    Mr  \n",
       "3    25.0                        0                        0   7.2250    Mr  \n",
       "4    22.0                        0                        0  10.5167  Miss  \n",
       "..    ...                      ...                      ...      ...   ...  \n",
       "705  30.0                        0                        0   7.2292    Mr  \n",
       "706  37.0                        1                        0  26.0000    Mr  \n",
       "707  24.0                        2                        3  18.7500   Mrs  \n",
       "708  19.0                        0                        0   7.7750    Mr  \n",
       "709  40.0                        1                        0  89.1042   Mrs  \n",
       "\n",
       "[710 rows x 9 columns]"
      ]
     },
     "execution_count": 40,
     "metadata": {},
     "output_type": "execute_result"
    }
   ],
   "source": [
    "q6_data_test"
   ]
  },
  {
   "cell_type": "code",
   "execution_count": 41,
   "id": "b7451373",
   "metadata": {
    "deletable": false,
    "editable": false
   },
   "outputs": [
    {
     "data": {
      "text/html": [
       "<p><strong><pre style='display: inline;'>q6</pre></strong> passed!</p>"
      ],
      "text/plain": [
       "q6 results: All test cases passed!"
      ]
     },
     "execution_count": 41,
     "metadata": {},
     "output_type": "execute_result"
    }
   ],
   "source": [
    "grader.check(\"q6\")"
   ]
  },
  {
   "cell_type": "markdown",
   "id": "d07137fe",
   "metadata": {},
   "source": [
    "There is **a ton** of material out there on analyzing data from the Titanic. After you build your model, look online for other examples (e.g. [on Kaggle](https://www.kaggle.com/c/titanic)) and think about how you could improve your model."
   ]
  },
  {
   "cell_type": "markdown",
   "id": "8ee2de3f",
   "metadata": {},
   "source": [
    "## Congratulations! You've finished _the final lab of the quarter_! 🎉🥳\n",
    "\n",
    "As a reminder, all of the work you want to submit needs to be in `lab.py`.\n",
    "\n",
    "To verify that all of your work is indeed in `lab.py`, and that you didn't accidentally implement a function in this notebook and not in `lab.py`, we've included another notebook in the lab folder, called `lab-validation.ipynb`. `lab-validation.ipynb` is a version of this notebook with only the `grader.check` cells and the code needed to set up the tests. \n",
    "\n",
    "### **Go to `lab-validation.ipynb`, and go to Kernel > Restart & Run All.** This will check if all `grader.check` test cases pass using just the code in `lab.py`.\n",
    "\n",
    "Once you're able to pass all test cases in `lab-validation.ipynb`, including the call to `grader.check_all()` at the very bottom, then you're ready to submit your `lab.py` (and only your `lab.py`) to Gradescope. Once submitting to Gradescope, make sure to stick around until all test cases pass.\n",
    "\n",
    "There is also a call to `grader.check_all()` below in _this_ notebook, but make sure to also follow the steps above."
   ]
  },
  {
   "cell_type": "markdown",
   "id": "82304eb5",
   "metadata": {
    "deletable": false,
    "editable": false
   },
   "source": [
    "---\n",
    "\n",
    "To double-check your work, the cell below will rerun all of the autograder tests."
   ]
  },
  {
   "cell_type": "code",
   "execution_count": 42,
   "id": "9fbcd00e",
   "metadata": {
    "deletable": false,
    "editable": false
   },
   "outputs": [
    {
     "data": {
      "text/plain": [
       "q1 results: All test cases passed!\n",
       "\n",
       "q2 results: All test cases passed!\n",
       "\n",
       "q3 results: All test cases passed!\n",
       "\n",
       "q4 results: All test cases passed!\n",
       "\n",
       "q5 results: All test cases passed!\n",
       "\n",
       "q6 results: All test cases passed!"
      ]
     },
     "execution_count": 42,
     "metadata": {},
     "output_type": "execute_result"
    }
   ],
   "source": [
    "grader.check_all()"
   ]
  }
 ],
 "metadata": {
  "kernelspec": {
   "display_name": "Python 3 (ipykernel)",
   "language": "python",
   "name": "python3"
  },
  "language_info": {
   "codemirror_mode": {
    "name": "ipython",
    "version": 3
   },
   "file_extension": ".py",
   "mimetype": "text/x-python",
   "name": "python",
   "nbconvert_exporter": "python",
   "pygments_lexer": "ipython3",
   "version": "3.9.18"
  },
  "otter": {
   "tests": {
    "q1": {
     "name": "q1",
     "points": null,
     "suites": [
      {
       "cases": [
        {
         "code": ">>> isinstance(q1_pl, Pipeline)\nTrue",
         "hidden": false,
         "locked": false,
         "points": 0.5
        },
        {
         "code": ">>> isinstance(q1_pl.steps[-1][1], LinearRegression)\nTrue",
         "hidden": false,
         "locked": false,
         "points": 0.5
        },
        {
         "code": ">>> isinstance(q1_pl.steps[0][1], FunctionTransformer)\nTrue",
         "hidden": false,
         "locked": false,
         "points": 0.5
        },
        {
         "code": ">>> q1_preds.shape[0] == q1_data.shape[0]\nTrue",
         "hidden": false,
         "locked": false,
         "points": 0.5
        }
       ],
       "scored": true,
       "setup": "",
       "teardown": "",
       "type": "doctest"
      }
     ]
    },
    "q2": {
     "name": "q2",
     "points": null,
     "suites": [
      {
       "cases": [
        {
         "code": ">>> isinstance(q2_pl, Pipeline)\nTrue",
         "hidden": false,
         "locked": false,
         "points": 0.5
        },
        {
         "code": ">>> isinstance(q2_pl.steps[-1][1], LinearRegression)\nTrue",
         "hidden": false,
         "locked": false,
         "points": 0.5
        },
        {
         "code": ">>> isinstance(q2_pl.steps[0][1], ColumnTransformer)\nTrue",
         "hidden": false,
         "locked": false,
         "points": 0.5
        },
        {
         "code": ">>> q2_data.shape[0] == q2_preds.shape[0]\nTrue",
         "hidden": false,
         "locked": false,
         "points": 0.5
        }
       ],
       "scored": true,
       "setup": "",
       "teardown": "",
       "type": "doctest"
      }
     ]
    },
    "q3": {
     "name": "q3",
     "points": null,
     "suites": [
      {
       "cases": [
        {
         "code": ">>> q3_test_fit_std.grps_ is not None\nTrue",
         "hidden": false,
         "locked": false,
         "points": 0.5
        },
        {
         "code": ">>> q3_test_transform_out.shape == (4, 2)\nTrue",
         "hidden": false,
         "locked": false,
         "points": 0.5
        },
        {
         "code": ">>> np.isclose(q3_test_transform_out.abs(), 0.707107, atol=0.001).all().all()\nTrue",
         "hidden": false,
         "locked": false,
         "points": 1
        }
       ],
       "scored": true,
       "setup": "",
       "teardown": "",
       "type": "doctest"
      }
     ]
    },
    "q4": {
     "name": "q4",
     "points": null,
     "suites": [
      {
       "cases": [
        {
         "code": ">>> out = eval_toy_model()\n>>> len(out) == 3\nTrue",
         "hidden": false,
         "locked": false,
         "points": 0.5
        },
        {
         "code": ">>> out = eval_toy_model()\n>>> np.all([len(t) == 2 for t in out])\nTrue",
         "hidden": false,
         "locked": false,
         "points": 0.5
        }
       ],
       "scored": true,
       "setup": "",
       "teardown": "",
       "type": "doctest"
      }
     ]
    },
    "q5": {
     "name": "q5",
     "points": null,
     "suites": [
      {
       "cases": [
        {
         "code": ">>> (out_tree_test.columns.tolist() == ['train_err', 'test_err']) == True\nTrue",
         "hidden": false,
         "locked": false,
         "points": 1
        },
        {
         "code": ">>> (out_tree_test['train_err'].iloc[-1] < out_tree_test['test_err'].iloc[-1]) == True\nTrue",
         "hidden": false,
         "locked": false,
         "points": 1
        },
        {
         "code": ">>> (out_knn_test.columns.tolist() == ['train_err', 'test_err']) == True\nTrue",
         "hidden": false,
         "locked": false,
         "points": 1
        }
       ],
       "scored": true,
       "setup": "",
       "teardown": "",
       "type": "doctest"
      }
     ]
    },
    "q6": {
     "name": "q6",
     "points": null,
     "suites": [
      {
       "cases": [
        {
         "code": ">>> isinstance(pl_test, Pipeline)\nTrue",
         "hidden": false,
         "locked": false,
         "points": 1
        },
        {
         "code": ">>> isinstance(pl_test.steps[-1][-1], BaseEstimator)\nTrue",
         "hidden": false,
         "locked": false,
         "points": 1
        },
        {
         "code": ">>> preds_test = pl_test.predict(q6_data_test.drop('Survived', axis=1))\n>>> ((preds_test == 0) | (preds_test == 1)).all()\nTrue",
         "hidden": false,
         "locked": false,
         "points": 1
        }
       ],
       "scored": true,
       "setup": "",
       "teardown": "",
       "type": "doctest"
      }
     ]
    }
   }
  }
 },
 "nbformat": 4,
 "nbformat_minor": 5
}
