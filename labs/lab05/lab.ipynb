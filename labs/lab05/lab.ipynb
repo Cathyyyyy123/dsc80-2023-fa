{
 "cells": [
  {
   "cell_type": "code",
   "execution_count": 6,
   "id": "6507641e",
   "metadata": {
    "deletable": false,
    "editable": false
   },
   "outputs": [],
   "source": [
    "# Initialize Otter\n",
    "import otter\n",
    "grader = otter.Notebook(\"lab.ipynb\")"
   ]
  },
  {
   "cell_type": "markdown",
   "id": "e5353320",
   "metadata": {},
   "source": [
    "# Lab 5 – Missing Values and Imputation\n",
    "\n",
    "## DSC 80, Fall 2023\n",
    "\n",
    "### Due Date: Monday, November 6th at 11:59 PM"
   ]
  },
  {
   "cell_type": "markdown",
   "id": "19f09c23",
   "metadata": {},
   "source": [
    "## Instructions\n",
    "Welcome to the fifth lab assignment in DSC 80 this quarter!\n",
    "\n",
    "Much like in DSC 10, this Jupyter Notebook contains the statements of the problems and provides code and Markdown cells to display your answers to the problems. Unlike DSC 10, the notebook is *only* for displaying a readable version of your final answers. The coding will be done in an accompanying `lab.py` file that is imported into the current notebook, and **you will only submit that `lab.py` file**, not this notebook!\n",
    "\n",
    "<div class=\"alert alert-block alert-danger\">\n",
    "<b>Note: For Lab 5 only, there are no hidden tests!</b> The tests you see when you run <code>grader.check</code> are the final tests that will determine your grade. In addition, when you submit Lab 5 to Gradescope you will see your final score on the assignment right away. (This is because the lab is due very close to the Midterm Exam.)\n",
    "</div>\n",
    "\n",
    "Some additional guidelines:\n",
    "- **Do not change the function names in the `lab.py` file!** The functions in the `lab.py` file are how your assignment is graded, and they are graded by their name. If you changed something you weren't supposed to, you can find the original code in the [course GitHub repository](https://github.com/dsc-courses/dsc80-2023-fa).\n",
    "- Notebooks are nice for testing and experimenting with different implementations before designing your function in your `lab.py` file. You can write code here, but make sure that all of your real work is in the `lab.py` file, since that's all you're submitting.\n",
    "- **To ensure that all of your work to be submitted is in `lab.py`, we've provided an additional uneditable notebook, called `lab-validation.ipynb`, that contains only the tests and their setup. Make sure you are able to run it top-to-bottom without error before submitting!**\n",
    "- You are encouraged to write your own additional helper functions to solve the lab, as long as they also end up in `lab.py`.\n",
    "\n",
    "**Importing code from `lab.py`**:\n",
    "\n",
    "* Below, we import the `.py` file that's contained in the same directory as this notebook.\n",
    "* We use the `autoreload` notebook extension to make changes to our `lab.py` file immediately available in our notebook. Without this extension, we would need to restart the notebook kernel to see any changes to `lab.py` in the notebook.\n",
    "    - `autoreload` is necessary because, upon import, `lab.py` is compiled to bytecode (in the directory `__pycache__`). Subsequent imports of `lab` merely import the existing compiled python."
   ]
  },
  {
   "cell_type": "code",
   "execution_count": 7,
   "id": "63496bbb",
   "metadata": {},
   "outputs": [
    {
     "name": "stdout",
     "output_type": "stream",
     "text": [
      "The autoreload extension is already loaded. To reload it, use:\n",
      "  %reload_ext autoreload\n"
     ]
    }
   ],
   "source": [
    "%load_ext autoreload\n",
    "%autoreload 2"
   ]
  },
  {
   "cell_type": "code",
   "execution_count": 8,
   "id": "5474a05d",
   "metadata": {},
   "outputs": [],
   "source": [
    "from lab import *"
   ]
  },
  {
   "cell_type": "code",
   "execution_count": 9,
   "id": "90bdc927",
   "metadata": {},
   "outputs": [],
   "source": [
    "import os\n",
    "import pandas as pd\n",
    "import numpy as np\n",
    "from scipy import stats\n",
    "\n",
    "import plotly.express as px\n",
    "pd.options.plotting.backend = 'plotly'\n",
    "\n",
    "import requests\n",
    "import bs4"
   ]
  },
  {
   "cell_type": "markdown",
   "id": "8327d8b2",
   "metadata": {},
   "source": [
    "## Part 1: Missingness Mechanisms\n",
    "\n",
    "First, let's recap the different mechanisms of missingness we studied in lecture.\n",
    "\n",
    "### Missing by Design (MD)\n",
    "- The missing field is deliberately missing. The missing field is deliberately set to null or not collected (hence, \"missing by design\").\n",
    "- The missingness can be exactly predicted when a column will be null, with only knowledge of the other columns using a function of the rows of the dataset.\n",
    "\n",
    "### Missing Completely at Random (MCAR)\n",
    "- The missingness of missing value isn't related to the actual, unreported value itself, nor the values in any other fields. The missingness is not systematic.\n",
    "- The missingness is unconditionally uniform across rows. MCAR doesn't bias the observed data.\n",
    "- There is no relationship between the missing data and the any of the other data, observed or missing.\n",
    "\n",
    "### Missing at Random (MAR)\n",
    "- The missingness of the missing value has nothing to do with the value itself, but may be related to another field.\n",
    "- The missingness is uniform across rows, perhaps conditional on another column. MAR biases the observed data, but is fixable.\n",
    "- There is a systematic relationship between the missing values and the observed data (but not the missing values themselves).\n",
    "- Difference between MD and MAR: If you can *exactly/always* determine missingness using the other columns, the missingness is MD. If there is just some sort of systematic relationship between the missing columns/values and other columns/values that may help us predict missingness, the missingness is MAR.\n",
    "\n",
    "### Not Missing At Random (NMAR)\n",
    "- The missingness of the missing value is related to the actual, unreported value.\n",
    "- NMAR biases the observed data in unobservable ways.\n",
    "- There is relationship between the propensity of a value to be missing and its value."
   ]
  },
  {
   "cell_type": "markdown",
   "id": "aeff6825",
   "metadata": {},
   "source": [
    "### Question 1 – After-Purchase Surveys 🛒\n",
    "\n",
    "You run a small e-commerce website and send surveys out to customers after they purchase an item from your store. The survey asks whether the customer is satisfied with their purchase (\"Yes\" or \"No\"). Below, you are presented with possible datasets, each of which contains a column `'satisfied'` as described above, as well as a `'customer_id'` number corresponding to the customer and an `'item'` column describing the item that the customer purchased. **The column `'satisfied'` is missing data.**\n",
    "\n",
    "For each of the following datasets, label the column `'satisfied'` as being `'MD'`, `'MCAR'`, `'MAR'`, or `'NMAR'`.\n",
    "\n",
    "1. The dataset consists only of the columns `'customer_id'` and `'satisfied'`.\n",
    "2. The dataset contains the `'customer_id'` of every customer with an account, even if they didn't make a purchase. Also, in this case, you notice everyone who was sent a survey filled it out.\n",
    "3. The dataset contains a column specifying if the user later returned the item.\n",
    "4. The dataset contains a column with the serial number for the item purchased.\n",
    "5. The dataset contains a column with the price of the item purchased.\n",
    "\n",
    "Complete the implementation of the function `after_purchase`, which records your answers and returns a list of length 5, containing the values `'MD'`, `'MCAR'`, `'MAR'`, or `'NMAR'`. For some questions there may be multiple good answers, but there is generally one answer that is \"best\". If you are unsure, ask a tutor, but be prepared to provide justification for whichever answer(s) you think might be right.\n",
    "\n",
    "***Disclaimer:*** We know that this lab has no hidden tests, and so it is possible to just look at the correct answers by running `grader.check`. This is not a good idea – you should really think about all of the questions here, since similar questions will be on the Midterm Exam."
   ]
  },
  {
   "cell_type": "code",
   "execution_count": null,
   "id": "18428285",
   "metadata": {},
   "outputs": [],
   "source": []
  },
  {
   "cell_type": "code",
   "execution_count": null,
   "id": "c0800b83",
   "metadata": {},
   "outputs": [],
   "source": []
  },
  {
   "cell_type": "code",
   "execution_count": 18,
   "id": "53fabe30",
   "metadata": {},
   "outputs": [],
   "source": [
    "# don't change this cell -- it is needed for the tests to work\n",
    "out_q1 = after_purchase()"
   ]
  },
  {
   "cell_type": "code",
   "execution_count": 19,
   "id": "4e1716e4",
   "metadata": {
    "deletable": false,
    "editable": false
   },
   "outputs": [
    {
     "data": {
      "text/html": [
       "<p><strong><pre style='display: inline;'>q1</pre></strong> passed!</p>"
      ],
      "text/plain": [
       "q1 results: All test cases passed!"
      ]
     },
     "execution_count": 19,
     "metadata": {},
     "output_type": "execute_result"
    }
   ],
   "source": [
    "grader.check(\"q1\")"
   ]
  },
  {
   "cell_type": "markdown",
   "id": "519ef022",
   "metadata": {},
   "source": [
    "### Question 2 – Miscellaneous Missingness Questions 🕵️\n",
    "\n",
    "In each of the following scenarios, choose the best answer out of the missingness types: `'MD'`, `'MCAR'`, `'MAR'`, and `'NMAR'`. Store your answers in a list of length 5, and complete the implementation of the function `multiple_choice`, which returns that list.\n",
    "\n",
    "1. UCSD has recently adopted GrubHub as the food pre-ordering app for campus restaurants, so you can order your food ahead of time and stop by before your next class. In a DataFrame of GrubHub app orders, which contains information such as `'restaurant'`, `'name'`, `'items'`, and `'total'`, the column `'delivery_address'` is often missing for UCSD students. Which is the most likely missingness mechanism for this column?\n",
    "\n",
    "\n",
    "2. In a database of student records that records student profile data, such as `'name'`, `'home_address'`, `'ethnicity'`, etc., sometimes the `'middle_name'` column is missing. Which is the most likely missingness mechanism for this column?\n",
    "\n",
    "\n",
    "3. The UCSD Club Basketball team creates a signup sheet for potential new members. The sheet contains the columns `'full_name'`, `'year'`, `'email'`, `'favorite_sports'`, `'number_of_sports_played'`, and `'sports_previously_played'`. The team president notices that many students left the `'sports_previously_played'` column blank. Which is the most likely missingness mechanism for this column?\n",
    "\n",
    "\n",
    "4. After the 2022 Sun God Festival, Associated Students sends out a survey to all students about whether their expectations for the 2022 Sun God Festival were met, with all questions being optional. They notice that many students left the \"Were you satisfied with the 2022 Sun God Festival?\" question blank. Which is the most likely missingness mechanism for answers to this question?\n",
    "\n",
    "\n",
    "5. UCSD has been using a two-factor authentication system, DUO, since October 16th, 2019. When using DUO, all UCSD accounts are assigned a unique code. UCSD's Service Desk, who maintains DUO, has a database that stores each user's code and their phone number, which users must provide when they sign up for DUO. They notice that many phone numbers are missing. Which is the most likely missingness mechanism for phone numbers?"
   ]
  },
  {
   "cell_type": "code",
   "execution_count": null,
   "id": "bbb020b9",
   "metadata": {},
   "outputs": [],
   "source": []
  },
  {
   "cell_type": "code",
   "execution_count": null,
   "id": "f5c481c3",
   "metadata": {},
   "outputs": [],
   "source": []
  },
  {
   "cell_type": "code",
   "execution_count": 26,
   "id": "829f67d4",
   "metadata": {},
   "outputs": [],
   "source": [
    "# don't change this cell -- it is needed for the tests to work\n",
    "out_q2 = multiple_choice()"
   ]
  },
  {
   "cell_type": "code",
   "execution_count": 27,
   "id": "bae3a365",
   "metadata": {
    "deletable": false,
    "editable": false
   },
   "outputs": [
    {
     "data": {
      "text/html": [
       "<p><strong><pre style='display: inline;'>q2</pre></strong> passed!</p>"
      ],
      "text/plain": [
       "q2 results: All test cases passed!"
      ]
     },
     "execution_count": 27,
     "metadata": {},
     "output_type": "execute_result"
    }
   ],
   "source": [
    "grader.check(\"q2\")"
   ]
  },
  {
   "cell_type": "markdown",
   "id": "516d3160",
   "metadata": {},
   "source": [
    "## Part 2: Assessing Missingness Through Data\n",
    "\n",
    "Great, we're familiar with the various ways in which data can be missing. Let's now focus on deciding whether data in a particular column look MCAR or MAR through permutation tests."
   ]
  },
  {
   "cell_type": "markdown",
   "id": "a0a38d91",
   "metadata": {},
   "source": [
    "### Question 3 – Payment Data 💰\n",
    "\n",
    "In `data/payment.csv`, you are given a dataset of payment information for purchases made on January 1st, 2019. The dataset contains the purchaser's `'id'`, `'credit_card_type'`, `'credit_card_number'`, and `'date_of_birth'`.\n",
    "\n",
    "Your job is to assess the missingness in the payments data. The question you need to answer is, **is `'credit_card_number'` missing at random dependent on the age of the shopper?**. Let's approach this question in two ways.\n",
    "\n",
    "***Hint:*** \n",
    "- You don't need to consider the case where the potentially-depended-on-column also has missing values, just take `mean` of that column.\n",
    "\n",
    "#### `first_round`\n",
    "\n",
    "Look at distribution of ages by missingness of `'credit_card_number'` and determine if the missingness is dependent on age or not.\n",
    "\n",
    "Use the following steps to approach this problem:\n",
    "\n",
    "- Compute the ages of the purchasers.\n",
    "- Draw the distribution of ages by missingness of `'credit_card_number'`. Specifically, you will draw two histograms or density curves:\n",
    "    - One of ages where `'credit_card_number'` is missing.\n",
    "    - One of ages where `'credit_card_number'` is not missing.\n",
    "- Perform a permutation test for whether or not the two distributions mentioned above are drawn from the same population distribution. Use a 5% significance level. Use the **absolute difference of means** as your test statistic.\n",
    "\n",
    "Complete the implementation of the function `first_round`, which takes in no arguments that returns a **list** with two values:\n",
    "* The first value is the p-value from your permutation test. \n",
    "* The second value is either `'R'` if you reject the null hypothesis, or `'NR'` if you fail to reject the null.\n",
    "\n",
    "**Does the result match your guess? If not, what might be a problem?**\n",
    "\n",
    "***Hint:*** \n",
    "- Look at [Lecture 7](https://dsc80.com/resources/lectures/lec07/lec07.html).\n",
    "- To find a customer's age, compute the number of years between their birth year and 2023.\n",
    "\n",
    "<br>\n",
    "\n",
    "#### `second_round`\n",
    "\n",
    "Run another permutation test for the empirical distribution of age conditional on `'credit_card_number'` with a 5% significance level. This time, use the **Kolmogorov-Smirnov statistic** as your test statistic.\n",
    "\n",
    "Complete the implementation of the function `second_round` with no arguments that returns a __list__ with three values: \n",
    "* The first value is the p-value from your new permutation test.\n",
    "* The second value is either `'R'` if you reject the null hypothesis, or `'NR'` if you fail to reject the null. \n",
    "* The third value is your final conclusion: `'D'` (the missingness of `'credit_card_number'` is dependent on age) or `'ND'` (the missingness of `'credit_card_number'` is not dependent on age).\n",
    "\n",
    "***Hint:*** \n",
    "- In [Lecture 8](https://dsc80.com/resources/lectures/lec08/lec08.html), we ran permutation tests using the Kolmogorov-Smirnov test statistic **without `for`-loops**. You can use this same procedure; we have already imported `stats` from `scipy`."
   ]
  },
  {
   "cell_type": "code",
   "execution_count": 45,
   "id": "ecf451f4",
   "metadata": {},
   "outputs": [
    {
     "data": {
      "text/html": [
       "<div>\n",
       "<style scoped>\n",
       "    .dataframe tbody tr th:only-of-type {\n",
       "        vertical-align: middle;\n",
       "    }\n",
       "\n",
       "    .dataframe tbody tr th {\n",
       "        vertical-align: top;\n",
       "    }\n",
       "\n",
       "    .dataframe thead th {\n",
       "        text-align: right;\n",
       "    }\n",
       "</style>\n",
       "<table border=\"1\" class=\"dataframe\">\n",
       "  <thead>\n",
       "    <tr style=\"text-align: right;\">\n",
       "      <th></th>\n",
       "      <th>id</th>\n",
       "      <th>credit_card_type</th>\n",
       "      <th>credit_card_number</th>\n",
       "      <th>date_of_birth</th>\n",
       "    </tr>\n",
       "  </thead>\n",
       "  <tbody>\n",
       "    <tr>\n",
       "      <th>0</th>\n",
       "      <td>1</td>\n",
       "      <td>diners-club-enroute</td>\n",
       "      <td>2.018706e+14</td>\n",
       "      <td>25-Sep-1982</td>\n",
       "    </tr>\n",
       "    <tr>\n",
       "      <th>1</th>\n",
       "      <td>2</td>\n",
       "      <td>americanexpress</td>\n",
       "      <td>3.737511e+14</td>\n",
       "      <td>08-Jan-1946</td>\n",
       "    </tr>\n",
       "    <tr>\n",
       "      <th>2</th>\n",
       "      <td>3</td>\n",
       "      <td>jcb</td>\n",
       "      <td>3.570296e+15</td>\n",
       "      <td>NaN</td>\n",
       "    </tr>\n",
       "    <tr>\n",
       "      <th>3</th>\n",
       "      <td>4</td>\n",
       "      <td>mastercard</td>\n",
       "      <td>5.318327e+15</td>\n",
       "      <td>NaN</td>\n",
       "    </tr>\n",
       "    <tr>\n",
       "      <th>4</th>\n",
       "      <td>5</td>\n",
       "      <td>maestro</td>\n",
       "      <td>6.759827e+17</td>\n",
       "      <td>20-Apr-1975</td>\n",
       "    </tr>\n",
       "  </tbody>\n",
       "</table>\n",
       "</div>"
      ],
      "text/plain": [
       "   id     credit_card_type  credit_card_number date_of_birth\n",
       "0   1  diners-club-enroute        2.018706e+14   25-Sep-1982\n",
       "1   2      americanexpress        3.737511e+14   08-Jan-1946\n",
       "2   3                  jcb        3.570296e+15           NaN\n",
       "3   4           mastercard        5.318327e+15           NaN\n",
       "4   5              maestro        6.759827e+17   20-Apr-1975"
      ]
     },
     "execution_count": 45,
     "metadata": {},
     "output_type": "execute_result"
    }
   ],
   "source": [
    "# Run your permutation tests in the Jupyter Notebook;\n",
    "# put your final results in lab.py\n",
    "payments_fp = os.path.join('data', 'payment.csv')\n",
    "payments = pd.read_csv(payments_fp)\n",
    "payments.head()"
   ]
  },
  {
   "cell_type": "code",
   "execution_count": 92,
   "id": "78767beb",
   "metadata": {},
   "outputs": [
    {
     "data": {
      "text/html": [
       "<div>\n",
       "<style scoped>\n",
       "    .dataframe tbody tr th:only-of-type {\n",
       "        vertical-align: middle;\n",
       "    }\n",
       "\n",
       "    .dataframe tbody tr th {\n",
       "        vertical-align: top;\n",
       "    }\n",
       "\n",
       "    .dataframe thead th {\n",
       "        text-align: right;\n",
       "    }\n",
       "</style>\n",
       "<table border=\"1\" class=\"dataframe\">\n",
       "  <thead>\n",
       "    <tr style=\"text-align: right;\">\n",
       "      <th></th>\n",
       "      <th>id</th>\n",
       "      <th>credit_card_type</th>\n",
       "      <th>credit_card_number</th>\n",
       "      <th>date_of_birth</th>\n",
       "      <th>age</th>\n",
       "      <th>credit_missing</th>\n",
       "    </tr>\n",
       "  </thead>\n",
       "  <tbody>\n",
       "    <tr>\n",
       "      <th>0</th>\n",
       "      <td>1</td>\n",
       "      <td>diners-club-enroute</td>\n",
       "      <td>2.018706e+14</td>\n",
       "      <td>1982-09-25</td>\n",
       "      <td>41.0</td>\n",
       "      <td>False</td>\n",
       "    </tr>\n",
       "    <tr>\n",
       "      <th>1</th>\n",
       "      <td>2</td>\n",
       "      <td>americanexpress</td>\n",
       "      <td>3.737511e+14</td>\n",
       "      <td>1946-01-08</td>\n",
       "      <td>77.0</td>\n",
       "      <td>False</td>\n",
       "    </tr>\n",
       "    <tr>\n",
       "      <th>2</th>\n",
       "      <td>3</td>\n",
       "      <td>jcb</td>\n",
       "      <td>3.570296e+15</td>\n",
       "      <td>NaT</td>\n",
       "      <td>NaN</td>\n",
       "      <td>False</td>\n",
       "    </tr>\n",
       "    <tr>\n",
       "      <th>3</th>\n",
       "      <td>4</td>\n",
       "      <td>mastercard</td>\n",
       "      <td>5.318327e+15</td>\n",
       "      <td>NaT</td>\n",
       "      <td>NaN</td>\n",
       "      <td>False</td>\n",
       "    </tr>\n",
       "    <tr>\n",
       "      <th>4</th>\n",
       "      <td>5</td>\n",
       "      <td>maestro</td>\n",
       "      <td>6.759827e+17</td>\n",
       "      <td>1975-04-20</td>\n",
       "      <td>48.0</td>\n",
       "      <td>False</td>\n",
       "    </tr>\n",
       "    <tr>\n",
       "      <th>...</th>\n",
       "      <td>...</td>\n",
       "      <td>...</td>\n",
       "      <td>...</td>\n",
       "      <td>...</td>\n",
       "      <td>...</td>\n",
       "      <td>...</td>\n",
       "    </tr>\n",
       "    <tr>\n",
       "      <th>995</th>\n",
       "      <td>996</td>\n",
       "      <td>visa-electron</td>\n",
       "      <td>NaN</td>\n",
       "      <td>1987-02-16</td>\n",
       "      <td>36.0</td>\n",
       "      <td>True</td>\n",
       "    </tr>\n",
       "    <tr>\n",
       "      <th>996</th>\n",
       "      <td>997</td>\n",
       "      <td>jcb</td>\n",
       "      <td>3.570380e+15</td>\n",
       "      <td>1994-01-12</td>\n",
       "      <td>29.0</td>\n",
       "      <td>False</td>\n",
       "    </tr>\n",
       "    <tr>\n",
       "      <th>997</th>\n",
       "      <td>998</td>\n",
       "      <td>mastercard</td>\n",
       "      <td>5.010121e+15</td>\n",
       "      <td>1961-01-22</td>\n",
       "      <td>62.0</td>\n",
       "      <td>False</td>\n",
       "    </tr>\n",
       "    <tr>\n",
       "      <th>998</th>\n",
       "      <td>999</td>\n",
       "      <td>visa-electron</td>\n",
       "      <td>NaN</td>\n",
       "      <td>NaT</td>\n",
       "      <td>NaN</td>\n",
       "      <td>True</td>\n",
       "    </tr>\n",
       "    <tr>\n",
       "      <th>999</th>\n",
       "      <td>1000</td>\n",
       "      <td>jcb</td>\n",
       "      <td>3.549735e+15</td>\n",
       "      <td>2000-09-20</td>\n",
       "      <td>23.0</td>\n",
       "      <td>False</td>\n",
       "    </tr>\n",
       "  </tbody>\n",
       "</table>\n",
       "<p>1000 rows × 6 columns</p>\n",
       "</div>"
      ],
      "text/plain": [
       "       id     credit_card_type  credit_card_number date_of_birth   age  \\\n",
       "0       1  diners-club-enroute        2.018706e+14    1982-09-25  41.0   \n",
       "1       2      americanexpress        3.737511e+14    1946-01-08  77.0   \n",
       "2       3                  jcb        3.570296e+15           NaT   NaN   \n",
       "3       4           mastercard        5.318327e+15           NaT   NaN   \n",
       "4       5              maestro        6.759827e+17    1975-04-20  48.0   \n",
       "..    ...                  ...                 ...           ...   ...   \n",
       "995   996        visa-electron                 NaN    1987-02-16  36.0   \n",
       "996   997                  jcb        3.570380e+15    1994-01-12  29.0   \n",
       "997   998           mastercard        5.010121e+15    1961-01-22  62.0   \n",
       "998   999        visa-electron                 NaN           NaT   NaN   \n",
       "999  1000                  jcb        3.549735e+15    2000-09-20  23.0   \n",
       "\n",
       "     credit_missing  \n",
       "0             False  \n",
       "1             False  \n",
       "2             False  \n",
       "3             False  \n",
       "4             False  \n",
       "..              ...  \n",
       "995            True  \n",
       "996           False  \n",
       "997           False  \n",
       "998            True  \n",
       "999           False  \n",
       "\n",
       "[1000 rows x 6 columns]"
      ]
     },
     "execution_count": 92,
     "metadata": {},
     "output_type": "execute_result"
    }
   ],
   "source": [
    "# def split_date_of_birth(dob):\n",
    "#     return dob.split('-')[2]\n",
    "# date_format = '%Y-%m-%d'\n",
    "# clean_payments = payments.assign(Time = pd.to_datetime(payments['date_of_birth'], format=date_format))\n",
    "\n",
    "from datetime import datetime\n",
    "\n",
    "payments['date_of_birth'] = pd.to_datetime(payments['date_of_birth'], errors='coerce')\n",
    "\n",
    "def calculate_age(born):\n",
    "    today = datetime.today()\n",
    "    age = today.year - born.year - ((today.month, today.day) < (born.month, born.day))\n",
    "    return age\n",
    "\n",
    "payments['age'] = payments['date_of_birth'].apply(lambda x: calculate_age(x) if pd.notnull(x) else None)\n",
    "payments['credit_missing'] = payments['credit_card_number'].isna()\n",
    "payments"
   ]
  },
  {
   "cell_type": "code",
   "execution_count": 93,
   "id": "2c21422b",
   "metadata": {},
   "outputs": [
    {
     "data": {
      "text/html": [
       "<div>\n",
       "<style scoped>\n",
       "    .dataframe tbody tr th:only-of-type {\n",
       "        vertical-align: middle;\n",
       "    }\n",
       "\n",
       "    .dataframe tbody tr th {\n",
       "        vertical-align: top;\n",
       "    }\n",
       "\n",
       "    .dataframe thead th {\n",
       "        text-align: right;\n",
       "    }\n",
       "</style>\n",
       "<table border=\"1\" class=\"dataframe\">\n",
       "  <thead>\n",
       "    <tr style=\"text-align: right;\">\n",
       "      <th></th>\n",
       "      <th>credit_missing = False</th>\n",
       "      <th>credit_missing = True</th>\n",
       "    </tr>\n",
       "    <tr>\n",
       "      <th>age</th>\n",
       "      <th></th>\n",
       "      <th></th>\n",
       "    </tr>\n",
       "  </thead>\n",
       "  <tbody>\n",
       "    <tr>\n",
       "      <th>17.0</th>\n",
       "      <td>NaN</td>\n",
       "      <td>0.008197</td>\n",
       "    </tr>\n",
       "    <tr>\n",
       "      <th>18.0</th>\n",
       "      <td>0.004458</td>\n",
       "      <td>0.049180</td>\n",
       "    </tr>\n",
       "    <tr>\n",
       "      <th>19.0</th>\n",
       "      <td>0.008915</td>\n",
       "      <td>0.016393</td>\n",
       "    </tr>\n",
       "    <tr>\n",
       "      <th>20.0</th>\n",
       "      <td>0.008915</td>\n",
       "      <td>0.040984</td>\n",
       "    </tr>\n",
       "    <tr>\n",
       "      <th>21.0</th>\n",
       "      <td>0.007429</td>\n",
       "      <td>0.016393</td>\n",
       "    </tr>\n",
       "    <tr>\n",
       "      <th>...</th>\n",
       "      <td>...</td>\n",
       "      <td>...</td>\n",
       "    </tr>\n",
       "    <tr>\n",
       "      <th>87.0</th>\n",
       "      <td>0.014859</td>\n",
       "      <td>0.016393</td>\n",
       "    </tr>\n",
       "    <tr>\n",
       "      <th>88.0</th>\n",
       "      <td>0.014859</td>\n",
       "      <td>0.008197</td>\n",
       "    </tr>\n",
       "    <tr>\n",
       "      <th>89.0</th>\n",
       "      <td>0.016345</td>\n",
       "      <td>NaN</td>\n",
       "    </tr>\n",
       "    <tr>\n",
       "      <th>90.0</th>\n",
       "      <td>0.011887</td>\n",
       "      <td>0.016393</td>\n",
       "    </tr>\n",
       "    <tr>\n",
       "      <th>91.0</th>\n",
       "      <td>0.013373</td>\n",
       "      <td>NaN</td>\n",
       "    </tr>\n",
       "  </tbody>\n",
       "</table>\n",
       "<p>75 rows × 2 columns</p>\n",
       "</div>"
      ],
      "text/plain": [
       "      credit_missing = False  credit_missing = True\n",
       "age                                                \n",
       "17.0                     NaN               0.008197\n",
       "18.0                0.004458               0.049180\n",
       "19.0                0.008915               0.016393\n",
       "20.0                0.008915               0.040984\n",
       "21.0                0.007429               0.016393\n",
       "...                      ...                    ...\n",
       "87.0                0.014859               0.016393\n",
       "88.0                0.014859               0.008197\n",
       "89.0                0.016345                    NaN\n",
       "90.0                0.011887               0.016393\n",
       "91.0                0.013373                    NaN\n",
       "\n",
       "[75 rows x 2 columns]"
      ]
     },
     "execution_count": 93,
     "metadata": {},
     "output_type": "execute_result"
    }
   ],
   "source": [
    "age_dist = (\n",
    "    payments\n",
    "    .assign(credit_missing=payments['credit_card_number'].isna())\n",
    "    .pivot_table(index='age', columns='credit_missing', aggfunc='size')\n",
    ")\n",
    "\n",
    "# Added just to make the resulting pivot table easier to read.\n",
    "age_dist.columns = ['credit_missing = False', 'credit_missing = True']\n",
    "\n",
    "age_dist = age_dist / age_dist.sum()\n",
    "age_dist"
   ]
  },
  {
   "cell_type": "code",
   "execution_count": 94,
   "id": "bc2f4817",
   "metadata": {},
   "outputs": [
    {
     "data": {
      "application/vnd.plotly.v1+json": {
       "config": {
        "plotlyServerURL": "https://plot.ly"
       },
       "data": [
        {
         "alignmentgroup": "True",
         "bingroup": "x",
         "histnorm": "probability",
         "hovertemplate": "credit_missing=False<br>age=%{x}<br>probability=%{y}<extra></extra>",
         "legendgroup": "False",
         "marker": {
          "color": "#636efa",
          "opacity": 0.7,
          "pattern": {
           "shape": ""
          }
         },
         "name": "False",
         "offsetgroup": "False",
         "orientation": "v",
         "showlegend": true,
         "type": "histogram",
         "x": [
          41,
          77,
          null,
          null,
          48,
          37,
          null,
          68,
          40,
          75,
          48,
          37,
          29,
          54,
          64,
          null,
          null,
          37,
          31,
          28,
          null,
          47,
          85,
          74,
          32,
          84,
          41,
          null,
          54,
          74,
          null,
          35,
          79,
          64,
          23,
          null,
          22,
          29,
          56,
          20,
          40,
          30,
          null,
          45,
          56,
          25,
          null,
          81,
          79,
          82,
          29,
          null,
          48,
          27,
          70,
          90,
          48,
          null,
          78,
          79,
          91,
          85,
          40,
          37,
          61,
          35,
          36,
          null,
          20,
          68,
          49,
          77,
          50,
          null,
          null,
          45,
          32,
          75,
          28,
          20,
          23,
          89,
          null,
          52,
          65,
          null,
          24,
          42,
          61,
          26,
          38,
          44,
          63,
          22,
          null,
          null,
          77,
          39,
          80,
          69,
          34,
          null,
          84,
          43,
          29,
          55,
          19,
          44,
          85,
          79,
          null,
          76,
          78,
          24,
          82,
          70,
          53,
          47,
          26,
          51,
          null,
          33,
          null,
          86,
          60,
          70,
          null,
          25,
          null,
          37,
          null,
          null,
          50,
          73,
          null,
          30,
          35,
          null,
          39,
          66,
          null,
          83,
          null,
          29,
          61,
          38,
          66,
          61,
          27,
          null,
          25,
          null,
          30,
          90,
          62,
          51,
          72,
          75,
          87,
          25,
          null,
          87,
          91,
          60,
          30,
          42,
          null,
          69,
          72,
          82,
          88,
          61,
          54,
          45,
          54,
          69,
          null,
          73,
          null,
          null,
          null,
          56,
          85,
          44,
          48,
          48,
          null,
          null,
          70,
          19,
          25,
          null,
          85,
          null,
          83,
          80,
          87,
          null,
          null,
          44,
          58,
          null,
          53,
          75,
          82,
          null,
          33,
          24,
          63,
          24,
          54,
          38,
          50,
          69,
          27,
          64,
          59,
          69,
          41,
          null,
          56,
          60,
          52,
          null,
          24,
          46,
          19,
          73,
          null,
          null,
          41,
          68,
          34,
          25,
          60,
          27,
          68,
          21,
          43,
          31,
          79,
          67,
          29,
          70,
          null,
          42,
          null,
          null,
          74,
          29,
          89,
          60,
          61,
          68,
          86,
          50,
          65,
          34,
          26,
          null,
          70,
          null,
          82,
          51,
          null,
          90,
          null,
          88,
          35,
          66,
          67,
          68,
          67,
          55,
          88,
          83,
          null,
          69,
          18,
          28,
          90,
          40,
          55,
          25,
          21,
          84,
          23,
          58,
          48,
          85,
          69,
          91,
          31,
          38,
          51,
          88,
          20,
          64,
          null,
          34,
          null,
          33,
          88,
          null,
          31,
          45,
          37,
          null,
          25,
          88,
          34,
          23,
          61,
          null,
          61,
          85,
          58,
          null,
          59,
          76,
          90,
          null,
          59,
          51,
          null,
          43,
          null,
          57,
          null,
          81,
          42,
          null,
          18,
          86,
          null,
          null,
          20,
          null,
          null,
          73,
          50,
          66,
          30,
          83,
          null,
          null,
          72,
          85,
          38,
          60,
          null,
          null,
          70,
          34,
          33,
          52,
          24,
          19,
          60,
          28,
          73,
          59,
          null,
          37,
          65,
          56,
          null,
          52,
          null,
          40,
          75,
          36,
          48,
          52,
          86,
          null,
          61,
          null,
          74,
          73,
          52,
          null,
          39,
          81,
          84,
          32,
          62,
          55,
          73,
          84,
          null,
          26,
          60,
          51,
          21,
          40,
          85,
          70,
          45,
          null,
          67,
          35,
          68,
          68,
          40,
          58,
          null,
          89,
          60,
          25,
          37,
          null,
          53,
          67,
          40,
          40,
          null,
          34,
          60,
          71,
          22,
          79,
          30,
          43,
          84,
          89,
          53,
          46,
          65,
          28,
          null,
          null,
          46,
          null,
          69,
          null,
          20,
          88,
          32,
          31,
          48,
          22,
          null,
          66,
          39,
          null,
          36,
          73,
          19,
          27,
          89,
          47,
          65,
          62,
          37,
          47,
          35,
          50,
          46,
          90,
          76,
          null,
          72,
          67,
          55,
          null,
          38,
          40,
          78,
          45,
          null,
          53,
          89,
          43,
          71,
          76,
          71,
          42,
          null,
          61,
          87,
          56,
          78,
          null,
          69,
          89,
          null,
          null,
          75,
          43,
          52,
          84,
          43,
          57,
          38,
          69,
          40,
          60,
          64,
          64,
          63,
          74,
          45,
          49,
          null,
          45,
          null,
          72,
          46,
          75,
          53,
          27,
          32,
          null,
          null,
          71,
          23,
          null,
          91,
          40,
          null,
          null,
          53,
          63,
          79,
          40,
          52,
          45,
          77,
          78,
          33,
          null,
          57,
          40,
          32,
          62,
          77,
          25,
          85,
          89,
          69,
          null,
          79,
          48,
          67,
          null,
          51,
          null,
          79,
          22,
          null,
          37,
          89,
          35,
          84,
          28,
          29,
          85,
          null,
          61,
          90,
          null,
          42,
          74,
          64,
          71,
          78,
          45,
          32,
          null,
          32,
          null,
          49,
          49,
          88,
          null,
          42,
          48,
          61,
          null,
          89,
          38,
          null,
          87,
          73,
          80,
          33,
          48,
          70,
          75,
          54,
          null,
          35,
          33,
          null,
          35,
          null,
          65,
          33,
          87,
          26,
          58,
          null,
          38,
          null,
          40,
          23,
          61,
          null,
          67,
          45,
          null,
          31,
          80,
          65,
          57,
          25,
          42,
          52,
          null,
          null,
          68,
          49,
          null,
          32,
          37,
          78,
          60,
          29,
          30,
          19,
          91,
          66,
          null,
          23,
          41,
          38,
          53,
          58,
          64,
          63,
          46,
          44,
          null,
          81,
          null,
          null,
          38,
          51,
          86,
          null,
          29,
          null,
          86,
          30,
          null,
          74,
          24,
          null,
          42,
          38,
          64,
          54,
          49,
          83,
          null,
          73,
          44,
          null,
          66,
          null,
          91,
          51,
          84,
          52,
          84,
          28,
          62,
          null,
          26,
          51,
          38,
          null,
          34,
          38,
          null,
          42,
          82,
          64,
          49,
          87,
          null,
          34,
          49,
          88,
          49,
          84,
          49,
          42,
          78,
          65,
          74,
          35,
          30,
          57,
          29,
          59,
          43,
          29,
          56,
          88,
          41,
          87,
          42,
          null,
          null,
          null,
          null,
          45,
          49,
          60,
          null,
          91,
          84,
          null,
          null,
          25,
          36,
          33,
          21,
          null,
          null,
          null,
          42,
          83,
          43,
          51,
          null,
          null,
          60,
          null,
          64,
          null,
          null,
          50,
          85,
          51,
          null,
          null,
          21,
          76,
          null,
          33,
          33,
          46,
          51,
          28,
          26,
          null,
          46,
          79,
          91,
          35,
          null,
          72,
          70,
          75,
          66,
          50,
          59,
          28,
          50,
          70,
          40,
          49,
          85,
          18,
          34,
          null,
          58,
          null,
          91,
          null,
          null,
          42,
          22,
          null,
          53,
          66,
          null,
          46,
          89,
          58,
          80,
          84,
          24,
          null,
          62,
          32,
          59,
          42,
          71,
          30,
          58,
          69,
          74,
          36,
          36,
          81,
          41,
          68,
          null,
          27,
          40,
          76,
          null,
          59,
          47,
          null,
          25,
          23,
          null,
          51,
          null,
          71,
          77,
          null,
          32,
          69,
          35,
          45,
          null,
          36,
          90,
          23,
          87,
          63,
          58,
          40,
          67,
          null,
          49,
          50,
          73,
          22,
          74,
          87,
          66,
          null,
          null,
          46,
          40,
          52,
          81,
          29,
          62,
          23
         ],
         "xaxis": "x",
         "yaxis": "y"
        },
        {
         "alignmentgroup": "True",
         "hovertemplate": "credit_missing=False<br>age=%{x}<extra></extra>",
         "legendgroup": "False",
         "marker": {
          "color": "#636efa"
         },
         "name": "False",
         "notched": true,
         "offsetgroup": "False",
         "showlegend": false,
         "type": "box",
         "x": [
          41,
          77,
          null,
          null,
          48,
          37,
          null,
          68,
          40,
          75,
          48,
          37,
          29,
          54,
          64,
          null,
          null,
          37,
          31,
          28,
          null,
          47,
          85,
          74,
          32,
          84,
          41,
          null,
          54,
          74,
          null,
          35,
          79,
          64,
          23,
          null,
          22,
          29,
          56,
          20,
          40,
          30,
          null,
          45,
          56,
          25,
          null,
          81,
          79,
          82,
          29,
          null,
          48,
          27,
          70,
          90,
          48,
          null,
          78,
          79,
          91,
          85,
          40,
          37,
          61,
          35,
          36,
          null,
          20,
          68,
          49,
          77,
          50,
          null,
          null,
          45,
          32,
          75,
          28,
          20,
          23,
          89,
          null,
          52,
          65,
          null,
          24,
          42,
          61,
          26,
          38,
          44,
          63,
          22,
          null,
          null,
          77,
          39,
          80,
          69,
          34,
          null,
          84,
          43,
          29,
          55,
          19,
          44,
          85,
          79,
          null,
          76,
          78,
          24,
          82,
          70,
          53,
          47,
          26,
          51,
          null,
          33,
          null,
          86,
          60,
          70,
          null,
          25,
          null,
          37,
          null,
          null,
          50,
          73,
          null,
          30,
          35,
          null,
          39,
          66,
          null,
          83,
          null,
          29,
          61,
          38,
          66,
          61,
          27,
          null,
          25,
          null,
          30,
          90,
          62,
          51,
          72,
          75,
          87,
          25,
          null,
          87,
          91,
          60,
          30,
          42,
          null,
          69,
          72,
          82,
          88,
          61,
          54,
          45,
          54,
          69,
          null,
          73,
          null,
          null,
          null,
          56,
          85,
          44,
          48,
          48,
          null,
          null,
          70,
          19,
          25,
          null,
          85,
          null,
          83,
          80,
          87,
          null,
          null,
          44,
          58,
          null,
          53,
          75,
          82,
          null,
          33,
          24,
          63,
          24,
          54,
          38,
          50,
          69,
          27,
          64,
          59,
          69,
          41,
          null,
          56,
          60,
          52,
          null,
          24,
          46,
          19,
          73,
          null,
          null,
          41,
          68,
          34,
          25,
          60,
          27,
          68,
          21,
          43,
          31,
          79,
          67,
          29,
          70,
          null,
          42,
          null,
          null,
          74,
          29,
          89,
          60,
          61,
          68,
          86,
          50,
          65,
          34,
          26,
          null,
          70,
          null,
          82,
          51,
          null,
          90,
          null,
          88,
          35,
          66,
          67,
          68,
          67,
          55,
          88,
          83,
          null,
          69,
          18,
          28,
          90,
          40,
          55,
          25,
          21,
          84,
          23,
          58,
          48,
          85,
          69,
          91,
          31,
          38,
          51,
          88,
          20,
          64,
          null,
          34,
          null,
          33,
          88,
          null,
          31,
          45,
          37,
          null,
          25,
          88,
          34,
          23,
          61,
          null,
          61,
          85,
          58,
          null,
          59,
          76,
          90,
          null,
          59,
          51,
          null,
          43,
          null,
          57,
          null,
          81,
          42,
          null,
          18,
          86,
          null,
          null,
          20,
          null,
          null,
          73,
          50,
          66,
          30,
          83,
          null,
          null,
          72,
          85,
          38,
          60,
          null,
          null,
          70,
          34,
          33,
          52,
          24,
          19,
          60,
          28,
          73,
          59,
          null,
          37,
          65,
          56,
          null,
          52,
          null,
          40,
          75,
          36,
          48,
          52,
          86,
          null,
          61,
          null,
          74,
          73,
          52,
          null,
          39,
          81,
          84,
          32,
          62,
          55,
          73,
          84,
          null,
          26,
          60,
          51,
          21,
          40,
          85,
          70,
          45,
          null,
          67,
          35,
          68,
          68,
          40,
          58,
          null,
          89,
          60,
          25,
          37,
          null,
          53,
          67,
          40,
          40,
          null,
          34,
          60,
          71,
          22,
          79,
          30,
          43,
          84,
          89,
          53,
          46,
          65,
          28,
          null,
          null,
          46,
          null,
          69,
          null,
          20,
          88,
          32,
          31,
          48,
          22,
          null,
          66,
          39,
          null,
          36,
          73,
          19,
          27,
          89,
          47,
          65,
          62,
          37,
          47,
          35,
          50,
          46,
          90,
          76,
          null,
          72,
          67,
          55,
          null,
          38,
          40,
          78,
          45,
          null,
          53,
          89,
          43,
          71,
          76,
          71,
          42,
          null,
          61,
          87,
          56,
          78,
          null,
          69,
          89,
          null,
          null,
          75,
          43,
          52,
          84,
          43,
          57,
          38,
          69,
          40,
          60,
          64,
          64,
          63,
          74,
          45,
          49,
          null,
          45,
          null,
          72,
          46,
          75,
          53,
          27,
          32,
          null,
          null,
          71,
          23,
          null,
          91,
          40,
          null,
          null,
          53,
          63,
          79,
          40,
          52,
          45,
          77,
          78,
          33,
          null,
          57,
          40,
          32,
          62,
          77,
          25,
          85,
          89,
          69,
          null,
          79,
          48,
          67,
          null,
          51,
          null,
          79,
          22,
          null,
          37,
          89,
          35,
          84,
          28,
          29,
          85,
          null,
          61,
          90,
          null,
          42,
          74,
          64,
          71,
          78,
          45,
          32,
          null,
          32,
          null,
          49,
          49,
          88,
          null,
          42,
          48,
          61,
          null,
          89,
          38,
          null,
          87,
          73,
          80,
          33,
          48,
          70,
          75,
          54,
          null,
          35,
          33,
          null,
          35,
          null,
          65,
          33,
          87,
          26,
          58,
          null,
          38,
          null,
          40,
          23,
          61,
          null,
          67,
          45,
          null,
          31,
          80,
          65,
          57,
          25,
          42,
          52,
          null,
          null,
          68,
          49,
          null,
          32,
          37,
          78,
          60,
          29,
          30,
          19,
          91,
          66,
          null,
          23,
          41,
          38,
          53,
          58,
          64,
          63,
          46,
          44,
          null,
          81,
          null,
          null,
          38,
          51,
          86,
          null,
          29,
          null,
          86,
          30,
          null,
          74,
          24,
          null,
          42,
          38,
          64,
          54,
          49,
          83,
          null,
          73,
          44,
          null,
          66,
          null,
          91,
          51,
          84,
          52,
          84,
          28,
          62,
          null,
          26,
          51,
          38,
          null,
          34,
          38,
          null,
          42,
          82,
          64,
          49,
          87,
          null,
          34,
          49,
          88,
          49,
          84,
          49,
          42,
          78,
          65,
          74,
          35,
          30,
          57,
          29,
          59,
          43,
          29,
          56,
          88,
          41,
          87,
          42,
          null,
          null,
          null,
          null,
          45,
          49,
          60,
          null,
          91,
          84,
          null,
          null,
          25,
          36,
          33,
          21,
          null,
          null,
          null,
          42,
          83,
          43,
          51,
          null,
          null,
          60,
          null,
          64,
          null,
          null,
          50,
          85,
          51,
          null,
          null,
          21,
          76,
          null,
          33,
          33,
          46,
          51,
          28,
          26,
          null,
          46,
          79,
          91,
          35,
          null,
          72,
          70,
          75,
          66,
          50,
          59,
          28,
          50,
          70,
          40,
          49,
          85,
          18,
          34,
          null,
          58,
          null,
          91,
          null,
          null,
          42,
          22,
          null,
          53,
          66,
          null,
          46,
          89,
          58,
          80,
          84,
          24,
          null,
          62,
          32,
          59,
          42,
          71,
          30,
          58,
          69,
          74,
          36,
          36,
          81,
          41,
          68,
          null,
          27,
          40,
          76,
          null,
          59,
          47,
          null,
          25,
          23,
          null,
          51,
          null,
          71,
          77,
          null,
          32,
          69,
          35,
          45,
          null,
          36,
          90,
          23,
          87,
          63,
          58,
          40,
          67,
          null,
          49,
          50,
          73,
          22,
          74,
          87,
          66,
          null,
          null,
          46,
          40,
          52,
          81,
          29,
          62,
          23
         ],
         "xaxis": "x2",
         "yaxis": "y2"
        },
        {
         "alignmentgroup": "True",
         "bingroup": "x",
         "histnorm": "probability",
         "hovertemplate": "credit_missing=True<br>age=%{x}<br>probability=%{y}<extra></extra>",
         "legendgroup": "True",
         "marker": {
          "color": "#EF553B",
          "opacity": 0.7,
          "pattern": {
           "shape": ""
          }
         },
         "name": "True",
         "offsetgroup": "True",
         "orientation": "v",
         "showlegend": true,
         "type": "histogram",
         "x": [
          90,
          68,
          null,
          59,
          45,
          40,
          76,
          23,
          48,
          44,
          39,
          84,
          77,
          75,
          35,
          52,
          20,
          70,
          null,
          46,
          73,
          86,
          31,
          40,
          null,
          null,
          22,
          87,
          39,
          29,
          null,
          58,
          84,
          35,
          71,
          39,
          32,
          88,
          20,
          67,
          47,
          80,
          47,
          77,
          82,
          42,
          66,
          57,
          19,
          87,
          80,
          82,
          22,
          40,
          18,
          45,
          70,
          18,
          26,
          42,
          null,
          90,
          23,
          18,
          86,
          21,
          84,
          79,
          null,
          32,
          19,
          null,
          18,
          null,
          35,
          32,
          79,
          26,
          57,
          38,
          30,
          45,
          30,
          18,
          null,
          null,
          50,
          67,
          null,
          64,
          22,
          79,
          85,
          26,
          84,
          null,
          null,
          72,
          null,
          49,
          54,
          42,
          null,
          56,
          20,
          64,
          76,
          68,
          62,
          null,
          33,
          62,
          32,
          82,
          22,
          20,
          37,
          54,
          23,
          null,
          77,
          20,
          null,
          18,
          65,
          21,
          47,
          59,
          76,
          85,
          61,
          76,
          60,
          84,
          83,
          null,
          17,
          86,
          44,
          44,
          22,
          36,
          null
         ],
         "xaxis": "x",
         "yaxis": "y"
        },
        {
         "alignmentgroup": "True",
         "hovertemplate": "credit_missing=True<br>age=%{x}<extra></extra>",
         "legendgroup": "True",
         "marker": {
          "color": "#EF553B"
         },
         "name": "True",
         "notched": true,
         "offsetgroup": "True",
         "showlegend": false,
         "type": "box",
         "x": [
          90,
          68,
          null,
          59,
          45,
          40,
          76,
          23,
          48,
          44,
          39,
          84,
          77,
          75,
          35,
          52,
          20,
          70,
          null,
          46,
          73,
          86,
          31,
          40,
          null,
          null,
          22,
          87,
          39,
          29,
          null,
          58,
          84,
          35,
          71,
          39,
          32,
          88,
          20,
          67,
          47,
          80,
          47,
          77,
          82,
          42,
          66,
          57,
          19,
          87,
          80,
          82,
          22,
          40,
          18,
          45,
          70,
          18,
          26,
          42,
          null,
          90,
          23,
          18,
          86,
          21,
          84,
          79,
          null,
          32,
          19,
          null,
          18,
          null,
          35,
          32,
          79,
          26,
          57,
          38,
          30,
          45,
          30,
          18,
          null,
          null,
          50,
          67,
          null,
          64,
          22,
          79,
          85,
          26,
          84,
          null,
          null,
          72,
          null,
          49,
          54,
          42,
          null,
          56,
          20,
          64,
          76,
          68,
          62,
          null,
          33,
          62,
          32,
          82,
          22,
          20,
          37,
          54,
          23,
          null,
          77,
          20,
          null,
          18,
          65,
          21,
          47,
          59,
          76,
          85,
          61,
          76,
          60,
          84,
          83,
          null,
          17,
          86,
          44,
          44,
          22,
          36,
          null
         ],
         "xaxis": "x2",
         "yaxis": "y2"
        }
       ],
       "layout": {
        "barmode": "overlay",
        "legend": {
         "title": {
          "text": "credit_missing"
         },
         "tracegroupgap": 0
        },
        "template": {
         "data": {
          "bar": [
           {
            "error_x": {
             "color": "#2a3f5f"
            },
            "error_y": {
             "color": "#2a3f5f"
            },
            "marker": {
             "line": {
              "color": "#E5ECF6",
              "width": 0.5
             },
             "pattern": {
              "fillmode": "overlay",
              "size": 10,
              "solidity": 0.2
             }
            },
            "type": "bar"
           }
          ],
          "barpolar": [
           {
            "marker": {
             "line": {
              "color": "#E5ECF6",
              "width": 0.5
             },
             "pattern": {
              "fillmode": "overlay",
              "size": 10,
              "solidity": 0.2
             }
            },
            "type": "barpolar"
           }
          ],
          "carpet": [
           {
            "aaxis": {
             "endlinecolor": "#2a3f5f",
             "gridcolor": "white",
             "linecolor": "white",
             "minorgridcolor": "white",
             "startlinecolor": "#2a3f5f"
            },
            "baxis": {
             "endlinecolor": "#2a3f5f",
             "gridcolor": "white",
             "linecolor": "white",
             "minorgridcolor": "white",
             "startlinecolor": "#2a3f5f"
            },
            "type": "carpet"
           }
          ],
          "choropleth": [
           {
            "colorbar": {
             "outlinewidth": 0,
             "ticks": ""
            },
            "type": "choropleth"
           }
          ],
          "contour": [
           {
            "colorbar": {
             "outlinewidth": 0,
             "ticks": ""
            },
            "colorscale": [
             [
              0,
              "#0d0887"
             ],
             [
              0.1111111111111111,
              "#46039f"
             ],
             [
              0.2222222222222222,
              "#7201a8"
             ],
             [
              0.3333333333333333,
              "#9c179e"
             ],
             [
              0.4444444444444444,
              "#bd3786"
             ],
             [
              0.5555555555555556,
              "#d8576b"
             ],
             [
              0.6666666666666666,
              "#ed7953"
             ],
             [
              0.7777777777777778,
              "#fb9f3a"
             ],
             [
              0.8888888888888888,
              "#fdca26"
             ],
             [
              1,
              "#f0f921"
             ]
            ],
            "type": "contour"
           }
          ],
          "contourcarpet": [
           {
            "colorbar": {
             "outlinewidth": 0,
             "ticks": ""
            },
            "type": "contourcarpet"
           }
          ],
          "heatmap": [
           {
            "colorbar": {
             "outlinewidth": 0,
             "ticks": ""
            },
            "colorscale": [
             [
              0,
              "#0d0887"
             ],
             [
              0.1111111111111111,
              "#46039f"
             ],
             [
              0.2222222222222222,
              "#7201a8"
             ],
             [
              0.3333333333333333,
              "#9c179e"
             ],
             [
              0.4444444444444444,
              "#bd3786"
             ],
             [
              0.5555555555555556,
              "#d8576b"
             ],
             [
              0.6666666666666666,
              "#ed7953"
             ],
             [
              0.7777777777777778,
              "#fb9f3a"
             ],
             [
              0.8888888888888888,
              "#fdca26"
             ],
             [
              1,
              "#f0f921"
             ]
            ],
            "type": "heatmap"
           }
          ],
          "heatmapgl": [
           {
            "colorbar": {
             "outlinewidth": 0,
             "ticks": ""
            },
            "colorscale": [
             [
              0,
              "#0d0887"
             ],
             [
              0.1111111111111111,
              "#46039f"
             ],
             [
              0.2222222222222222,
              "#7201a8"
             ],
             [
              0.3333333333333333,
              "#9c179e"
             ],
             [
              0.4444444444444444,
              "#bd3786"
             ],
             [
              0.5555555555555556,
              "#d8576b"
             ],
             [
              0.6666666666666666,
              "#ed7953"
             ],
             [
              0.7777777777777778,
              "#fb9f3a"
             ],
             [
              0.8888888888888888,
              "#fdca26"
             ],
             [
              1,
              "#f0f921"
             ]
            ],
            "type": "heatmapgl"
           }
          ],
          "histogram": [
           {
            "marker": {
             "pattern": {
              "fillmode": "overlay",
              "size": 10,
              "solidity": 0.2
             }
            },
            "type": "histogram"
           }
          ],
          "histogram2d": [
           {
            "colorbar": {
             "outlinewidth": 0,
             "ticks": ""
            },
            "colorscale": [
             [
              0,
              "#0d0887"
             ],
             [
              0.1111111111111111,
              "#46039f"
             ],
             [
              0.2222222222222222,
              "#7201a8"
             ],
             [
              0.3333333333333333,
              "#9c179e"
             ],
             [
              0.4444444444444444,
              "#bd3786"
             ],
             [
              0.5555555555555556,
              "#d8576b"
             ],
             [
              0.6666666666666666,
              "#ed7953"
             ],
             [
              0.7777777777777778,
              "#fb9f3a"
             ],
             [
              0.8888888888888888,
              "#fdca26"
             ],
             [
              1,
              "#f0f921"
             ]
            ],
            "type": "histogram2d"
           }
          ],
          "histogram2dcontour": [
           {
            "colorbar": {
             "outlinewidth": 0,
             "ticks": ""
            },
            "colorscale": [
             [
              0,
              "#0d0887"
             ],
             [
              0.1111111111111111,
              "#46039f"
             ],
             [
              0.2222222222222222,
              "#7201a8"
             ],
             [
              0.3333333333333333,
              "#9c179e"
             ],
             [
              0.4444444444444444,
              "#bd3786"
             ],
             [
              0.5555555555555556,
              "#d8576b"
             ],
             [
              0.6666666666666666,
              "#ed7953"
             ],
             [
              0.7777777777777778,
              "#fb9f3a"
             ],
             [
              0.8888888888888888,
              "#fdca26"
             ],
             [
              1,
              "#f0f921"
             ]
            ],
            "type": "histogram2dcontour"
           }
          ],
          "mesh3d": [
           {
            "colorbar": {
             "outlinewidth": 0,
             "ticks": ""
            },
            "type": "mesh3d"
           }
          ],
          "parcoords": [
           {
            "line": {
             "colorbar": {
              "outlinewidth": 0,
              "ticks": ""
             }
            },
            "type": "parcoords"
           }
          ],
          "pie": [
           {
            "automargin": true,
            "type": "pie"
           }
          ],
          "scatter": [
           {
            "fillpattern": {
             "fillmode": "overlay",
             "size": 10,
             "solidity": 0.2
            },
            "type": "scatter"
           }
          ],
          "scatter3d": [
           {
            "line": {
             "colorbar": {
              "outlinewidth": 0,
              "ticks": ""
             }
            },
            "marker": {
             "colorbar": {
              "outlinewidth": 0,
              "ticks": ""
             }
            },
            "type": "scatter3d"
           }
          ],
          "scattercarpet": [
           {
            "marker": {
             "colorbar": {
              "outlinewidth": 0,
              "ticks": ""
             }
            },
            "type": "scattercarpet"
           }
          ],
          "scattergeo": [
           {
            "marker": {
             "colorbar": {
              "outlinewidth": 0,
              "ticks": ""
             }
            },
            "type": "scattergeo"
           }
          ],
          "scattergl": [
           {
            "marker": {
             "colorbar": {
              "outlinewidth": 0,
              "ticks": ""
             }
            },
            "type": "scattergl"
           }
          ],
          "scattermapbox": [
           {
            "marker": {
             "colorbar": {
              "outlinewidth": 0,
              "ticks": ""
             }
            },
            "type": "scattermapbox"
           }
          ],
          "scatterpolar": [
           {
            "marker": {
             "colorbar": {
              "outlinewidth": 0,
              "ticks": ""
             }
            },
            "type": "scatterpolar"
           }
          ],
          "scatterpolargl": [
           {
            "marker": {
             "colorbar": {
              "outlinewidth": 0,
              "ticks": ""
             }
            },
            "type": "scatterpolargl"
           }
          ],
          "scatterternary": [
           {
            "marker": {
             "colorbar": {
              "outlinewidth": 0,
              "ticks": ""
             }
            },
            "type": "scatterternary"
           }
          ],
          "surface": [
           {
            "colorbar": {
             "outlinewidth": 0,
             "ticks": ""
            },
            "colorscale": [
             [
              0,
              "#0d0887"
             ],
             [
              0.1111111111111111,
              "#46039f"
             ],
             [
              0.2222222222222222,
              "#7201a8"
             ],
             [
              0.3333333333333333,
              "#9c179e"
             ],
             [
              0.4444444444444444,
              "#bd3786"
             ],
             [
              0.5555555555555556,
              "#d8576b"
             ],
             [
              0.6666666666666666,
              "#ed7953"
             ],
             [
              0.7777777777777778,
              "#fb9f3a"
             ],
             [
              0.8888888888888888,
              "#fdca26"
             ],
             [
              1,
              "#f0f921"
             ]
            ],
            "type": "surface"
           }
          ],
          "table": [
           {
            "cells": {
             "fill": {
              "color": "#EBF0F8"
             },
             "line": {
              "color": "white"
             }
            },
            "header": {
             "fill": {
              "color": "#C8D4E3"
             },
             "line": {
              "color": "white"
             }
            },
            "type": "table"
           }
          ]
         },
         "layout": {
          "annotationdefaults": {
           "arrowcolor": "#2a3f5f",
           "arrowhead": 0,
           "arrowwidth": 1
          },
          "autotypenumbers": "strict",
          "coloraxis": {
           "colorbar": {
            "outlinewidth": 0,
            "ticks": ""
           }
          },
          "colorscale": {
           "diverging": [
            [
             0,
             "#8e0152"
            ],
            [
             0.1,
             "#c51b7d"
            ],
            [
             0.2,
             "#de77ae"
            ],
            [
             0.3,
             "#f1b6da"
            ],
            [
             0.4,
             "#fde0ef"
            ],
            [
             0.5,
             "#f7f7f7"
            ],
            [
             0.6,
             "#e6f5d0"
            ],
            [
             0.7,
             "#b8e186"
            ],
            [
             0.8,
             "#7fbc41"
            ],
            [
             0.9,
             "#4d9221"
            ],
            [
             1,
             "#276419"
            ]
           ],
           "sequential": [
            [
             0,
             "#0d0887"
            ],
            [
             0.1111111111111111,
             "#46039f"
            ],
            [
             0.2222222222222222,
             "#7201a8"
            ],
            [
             0.3333333333333333,
             "#9c179e"
            ],
            [
             0.4444444444444444,
             "#bd3786"
            ],
            [
             0.5555555555555556,
             "#d8576b"
            ],
            [
             0.6666666666666666,
             "#ed7953"
            ],
            [
             0.7777777777777778,
             "#fb9f3a"
            ],
            [
             0.8888888888888888,
             "#fdca26"
            ],
            [
             1,
             "#f0f921"
            ]
           ],
           "sequentialminus": [
            [
             0,
             "#0d0887"
            ],
            [
             0.1111111111111111,
             "#46039f"
            ],
            [
             0.2222222222222222,
             "#7201a8"
            ],
            [
             0.3333333333333333,
             "#9c179e"
            ],
            [
             0.4444444444444444,
             "#bd3786"
            ],
            [
             0.5555555555555556,
             "#d8576b"
            ],
            [
             0.6666666666666666,
             "#ed7953"
            ],
            [
             0.7777777777777778,
             "#fb9f3a"
            ],
            [
             0.8888888888888888,
             "#fdca26"
            ],
            [
             1,
             "#f0f921"
            ]
           ]
          },
          "colorway": [
           "#636efa",
           "#EF553B",
           "#00cc96",
           "#ab63fa",
           "#FFA15A",
           "#19d3f3",
           "#FF6692",
           "#B6E880",
           "#FF97FF",
           "#FECB52"
          ],
          "font": {
           "color": "#2a3f5f"
          },
          "geo": {
           "bgcolor": "white",
           "lakecolor": "white",
           "landcolor": "#E5ECF6",
           "showlakes": true,
           "showland": true,
           "subunitcolor": "white"
          },
          "hoverlabel": {
           "align": "left"
          },
          "hovermode": "closest",
          "mapbox": {
           "style": "light"
          },
          "paper_bgcolor": "white",
          "plot_bgcolor": "#E5ECF6",
          "polar": {
           "angularaxis": {
            "gridcolor": "white",
            "linecolor": "white",
            "ticks": ""
           },
           "bgcolor": "#E5ECF6",
           "radialaxis": {
            "gridcolor": "white",
            "linecolor": "white",
            "ticks": ""
           }
          },
          "scene": {
           "xaxis": {
            "backgroundcolor": "#E5ECF6",
            "gridcolor": "white",
            "gridwidth": 2,
            "linecolor": "white",
            "showbackground": true,
            "ticks": "",
            "zerolinecolor": "white"
           },
           "yaxis": {
            "backgroundcolor": "#E5ECF6",
            "gridcolor": "white",
            "gridwidth": 2,
            "linecolor": "white",
            "showbackground": true,
            "ticks": "",
            "zerolinecolor": "white"
           },
           "zaxis": {
            "backgroundcolor": "#E5ECF6",
            "gridcolor": "white",
            "gridwidth": 2,
            "linecolor": "white",
            "showbackground": true,
            "ticks": "",
            "zerolinecolor": "white"
           }
          },
          "shapedefaults": {
           "line": {
            "color": "#2a3f5f"
           }
          },
          "ternary": {
           "aaxis": {
            "gridcolor": "white",
            "linecolor": "white",
            "ticks": ""
           },
           "baxis": {
            "gridcolor": "white",
            "linecolor": "white",
            "ticks": ""
           },
           "bgcolor": "#E5ECF6",
           "caxis": {
            "gridcolor": "white",
            "linecolor": "white",
            "ticks": ""
           }
          },
          "title": {
           "x": 0.05
          },
          "xaxis": {
           "automargin": true,
           "gridcolor": "white",
           "linecolor": "white",
           "ticks": "",
           "title": {
            "standoff": 15
           },
           "zerolinecolor": "white",
           "zerolinewidth": 2
          },
          "yaxis": {
           "automargin": true,
           "gridcolor": "white",
           "linecolor": "white",
           "ticks": "",
           "title": {
            "standoff": 15
           },
           "zerolinecolor": "white",
           "zerolinewidth": 2
          }
         }
        },
        "title": {
         "text": "Age distribution by Missingness of credit card number"
        },
        "xaxis": {
         "anchor": "y",
         "domain": [
          0,
          1
         ],
         "title": {
          "text": "age"
         }
        },
        "xaxis2": {
         "anchor": "y2",
         "domain": [
          0,
          1
         ],
         "matches": "x",
         "showgrid": true,
         "showticklabels": false
        },
        "yaxis": {
         "anchor": "x",
         "domain": [
          0,
          0.7326
         ],
         "title": {
          "text": "probability"
         }
        },
        "yaxis2": {
         "anchor": "x2",
         "domain": [
          0.7426,
          1
         ],
         "matches": "y2",
         "showgrid": false,
         "showline": false,
         "showticklabels": false,
         "ticks": ""
        }
       }
      }
     },
     "metadata": {},
     "output_type": "display_data"
    }
   ],
   "source": [
    "px.histogram(payments, x='age', color='credit_missing', histnorm='probability', marginal='box',\n",
    "             title=\"Age distribution by Missingness of credit card number\", barmode='overlay', opacity=0.7)"
   ]
  },
  {
   "cell_type": "code",
   "execution_count": 128,
   "id": "c6e0b4ff",
   "metadata": {},
   "outputs": [],
   "source": [
    "n_repetitions = 500\n",
    "shuffled = payments.copy()\n",
    "\n",
    "differences = []\n",
    "for _ in range(n_repetitions):\n",
    "    shuffled['age'] = np.random.permutation(shuffled['age'])\n",
    "    group_means = (\n",
    "        shuffled\n",
    "        .groupby('credit_missing')\n",
    "        .mean()\n",
    "        .loc[:, 'age']\n",
    "    )\n",
    "    difference = group_means.diff().abs().iloc[-1]\n",
    "    differences.append(difference)"
   ]
  },
  {
   "cell_type": "code",
   "execution_count": 129,
   "id": "c1105e75",
   "metadata": {},
   "outputs": [
    {
     "data": {
      "text/plain": [
       "2.9902930358317334"
      ]
     },
     "execution_count": 129,
     "metadata": {},
     "output_type": "execute_result"
    }
   ],
   "source": [
    "observed_tvd = payments.groupby('credit_missing')['age'].mean().diff().abs().iloc[-1]\n",
    "observed_tvd"
   ]
  },
  {
   "cell_type": "code",
   "execution_count": 130,
   "id": "e5f7968c",
   "metadata": {},
   "outputs": [
    {
     "data": {
      "text/plain": [
       "0.196"
      ]
     },
     "execution_count": 130,
     "metadata": {},
     "output_type": "execute_result"
    }
   ],
   "source": [
    "np.mean(np.array(differences) >= observed_tvd)"
   ]
  },
  {
   "cell_type": "code",
   "execution_count": 125,
   "id": "90f0de46",
   "metadata": {},
   "outputs": [
    {
     "data": {
      "text/plain": [
       "KstestResult(statistic=0.12465830552178277, pvalue=0.03988260008261473, statistic_location=23.0, statistic_sign=1)"
      ]
     },
     "execution_count": 125,
     "metadata": {},
     "output_type": "execute_result"
    }
   ],
   "source": [
    "from scipy.stats import ks_2samp\n",
    "observed_ks = ks_2samp(payments.query('credit_missing')['age'], payments.query('not credit_missing')['age'])\n",
    "observed_ks"
   ]
  },
  {
   "cell_type": "code",
   "execution_count": 126,
   "id": "842f1220",
   "metadata": {},
   "outputs": [],
   "source": [
    "# don't change this cell, but do run it -- it is needed for the tests to work\n",
    "first_pval, first_result = first_round()\n",
    "second_pval, second_result, second_result1 = second_round()"
   ]
  },
  {
   "cell_type": "code",
   "execution_count": 127,
   "id": "febedc8c",
   "metadata": {
    "deletable": false,
    "editable": false
   },
   "outputs": [
    {
     "data": {
      "text/html": [
       "<p><strong><pre style='display: inline;'>q3</pre></strong> passed!</p>"
      ],
      "text/plain": [
       "q3 results: All test cases passed!"
      ]
     },
     "execution_count": 127,
     "metadata": {},
     "output_type": "execute_result"
    }
   ],
   "source": [
    "grader.check(\"q3\")"
   ]
  },
  {
   "cell_type": "markdown",
   "id": "9c81126e",
   "metadata": {},
   "source": [
    "### Question 4 – Missing Heights 🕵️\n",
    "\n",
    "In the file `data/missing_heights.csv` are the heights of adult children and their fathers (`'child'` and `'father'`). The `'child_X'` columns are missing values in varying proportions; for each X, `'child_X'` is X\\% not missing (and hence (100-X)\\% missing). **The missingness of these `'child_X'` columns were created as MAR dependent on father's heights (similar to what was done in [Lecture 7](https://dsc80.com/resources/lectures/lec07/lec07.html)). The missingness of these `'child_X'` columns are all equally dependent on father's heights.**\n",
    "\n",
    "You will attempt to **verify** the missingness of the `'child_X'` columns as being dependent on the `'father'` column by using permutation tests. Your permutation tests should use the Kolmogorov-Smirnov test statistic. You can use `scipy.stats`' built-in K-S function to run your permutation tests and compute your p-values; you don't need to simulate manually using a `for`-loop.\n",
    "\n",
    "To do this, complete the implementation of the function `verify_child`, which takes in the `heights` DataFrame and returns a Series of p-values from your permutation tests, indexed by the names of the columns in `heights` that are formatted like `'child_X'` (that is, its index should be `'child_95'`, `'child_90'`, ..., `'child_5'`; the order of the Series is not important).\n",
    "\n",
    "***Notes:*** \n",
    "\n",
    "- Unlike in Question 3, your permutation tests should run within your `verify_child` function.\n",
    "- You may loop over the **columns** of `heights`."
   ]
  },
  {
   "cell_type": "code",
   "execution_count": 148,
   "id": "b6f2ef7d",
   "metadata": {},
   "outputs": [
    {
     "data": {
      "text/html": [
       "<div>\n",
       "<style scoped>\n",
       "    .dataframe tbody tr th:only-of-type {\n",
       "        vertical-align: middle;\n",
       "    }\n",
       "\n",
       "    .dataframe tbody tr th {\n",
       "        vertical-align: top;\n",
       "    }\n",
       "\n",
       "    .dataframe thead th {\n",
       "        text-align: right;\n",
       "    }\n",
       "</style>\n",
       "<table border=\"1\" class=\"dataframe\">\n",
       "  <thead>\n",
       "    <tr style=\"text-align: right;\">\n",
       "      <th></th>\n",
       "      <th>child</th>\n",
       "      <th>father</th>\n",
       "      <th>child_95</th>\n",
       "      <th>child_90</th>\n",
       "      <th>child_75</th>\n",
       "      <th>child_50</th>\n",
       "      <th>child_25</th>\n",
       "      <th>child_10</th>\n",
       "      <th>child_5</th>\n",
       "    </tr>\n",
       "  </thead>\n",
       "  <tbody>\n",
       "    <tr>\n",
       "      <th>0</th>\n",
       "      <td>73.2</td>\n",
       "      <td>78.5</td>\n",
       "      <td>73.2</td>\n",
       "      <td>73.2</td>\n",
       "      <td>73.2</td>\n",
       "      <td>NaN</td>\n",
       "      <td>NaN</td>\n",
       "      <td>NaN</td>\n",
       "      <td>NaN</td>\n",
       "    </tr>\n",
       "    <tr>\n",
       "      <th>1</th>\n",
       "      <td>69.2</td>\n",
       "      <td>78.5</td>\n",
       "      <td>69.2</td>\n",
       "      <td>69.2</td>\n",
       "      <td>69.2</td>\n",
       "      <td>NaN</td>\n",
       "      <td>NaN</td>\n",
       "      <td>NaN</td>\n",
       "      <td>69.2</td>\n",
       "    </tr>\n",
       "    <tr>\n",
       "      <th>2</th>\n",
       "      <td>69.0</td>\n",
       "      <td>78.5</td>\n",
       "      <td>69.0</td>\n",
       "      <td>69.0</td>\n",
       "      <td>69.0</td>\n",
       "      <td>69.0</td>\n",
       "      <td>NaN</td>\n",
       "      <td>NaN</td>\n",
       "      <td>NaN</td>\n",
       "    </tr>\n",
       "    <tr>\n",
       "      <th>3</th>\n",
       "      <td>69.0</td>\n",
       "      <td>78.5</td>\n",
       "      <td>69.0</td>\n",
       "      <td>69.0</td>\n",
       "      <td>NaN</td>\n",
       "      <td>69.0</td>\n",
       "      <td>NaN</td>\n",
       "      <td>NaN</td>\n",
       "      <td>NaN</td>\n",
       "    </tr>\n",
       "    <tr>\n",
       "      <th>4</th>\n",
       "      <td>73.5</td>\n",
       "      <td>75.5</td>\n",
       "      <td>73.5</td>\n",
       "      <td>73.5</td>\n",
       "      <td>NaN</td>\n",
       "      <td>73.5</td>\n",
       "      <td>73.5</td>\n",
       "      <td>NaN</td>\n",
       "      <td>NaN</td>\n",
       "    </tr>\n",
       "    <tr>\n",
       "      <th>...</th>\n",
       "      <td>...</td>\n",
       "      <td>...</td>\n",
       "      <td>...</td>\n",
       "      <td>...</td>\n",
       "      <td>...</td>\n",
       "      <td>...</td>\n",
       "      <td>...</td>\n",
       "      <td>...</td>\n",
       "      <td>...</td>\n",
       "    </tr>\n",
       "    <tr>\n",
       "      <th>929</th>\n",
       "      <td>64.0</td>\n",
       "      <td>62.0</td>\n",
       "      <td>64.0</td>\n",
       "      <td>64.0</td>\n",
       "      <td>64.0</td>\n",
       "      <td>64.0</td>\n",
       "      <td>NaN</td>\n",
       "      <td>NaN</td>\n",
       "      <td>NaN</td>\n",
       "    </tr>\n",
       "    <tr>\n",
       "      <th>930</th>\n",
       "      <td>62.0</td>\n",
       "      <td>62.0</td>\n",
       "      <td>62.0</td>\n",
       "      <td>62.0</td>\n",
       "      <td>62.0</td>\n",
       "      <td>62.0</td>\n",
       "      <td>62.0</td>\n",
       "      <td>NaN</td>\n",
       "      <td>NaN</td>\n",
       "    </tr>\n",
       "    <tr>\n",
       "      <th>931</th>\n",
       "      <td>61.0</td>\n",
       "      <td>62.0</td>\n",
       "      <td>61.0</td>\n",
       "      <td>61.0</td>\n",
       "      <td>61.0</td>\n",
       "      <td>NaN</td>\n",
       "      <td>NaN</td>\n",
       "      <td>NaN</td>\n",
       "      <td>NaN</td>\n",
       "    </tr>\n",
       "    <tr>\n",
       "      <th>932</th>\n",
       "      <td>66.5</td>\n",
       "      <td>62.5</td>\n",
       "      <td>66.5</td>\n",
       "      <td>66.5</td>\n",
       "      <td>66.5</td>\n",
       "      <td>66.5</td>\n",
       "      <td>66.5</td>\n",
       "      <td>NaN</td>\n",
       "      <td>NaN</td>\n",
       "    </tr>\n",
       "    <tr>\n",
       "      <th>933</th>\n",
       "      <td>57.0</td>\n",
       "      <td>62.5</td>\n",
       "      <td>57.0</td>\n",
       "      <td>57.0</td>\n",
       "      <td>NaN</td>\n",
       "      <td>NaN</td>\n",
       "      <td>NaN</td>\n",
       "      <td>NaN</td>\n",
       "      <td>57.0</td>\n",
       "    </tr>\n",
       "  </tbody>\n",
       "</table>\n",
       "<p>934 rows × 9 columns</p>\n",
       "</div>"
      ],
      "text/plain": [
       "     child  father  child_95  child_90  child_75  child_50  child_25  \\\n",
       "0     73.2    78.5      73.2      73.2      73.2       NaN       NaN   \n",
       "1     69.2    78.5      69.2      69.2      69.2       NaN       NaN   \n",
       "2     69.0    78.5      69.0      69.0      69.0      69.0       NaN   \n",
       "3     69.0    78.5      69.0      69.0       NaN      69.0       NaN   \n",
       "4     73.5    75.5      73.5      73.5       NaN      73.5      73.5   \n",
       "..     ...     ...       ...       ...       ...       ...       ...   \n",
       "929   64.0    62.0      64.0      64.0      64.0      64.0       NaN   \n",
       "930   62.0    62.0      62.0      62.0      62.0      62.0      62.0   \n",
       "931   61.0    62.0      61.0      61.0      61.0       NaN       NaN   \n",
       "932   66.5    62.5      66.5      66.5      66.5      66.5      66.5   \n",
       "933   57.0    62.5      57.0      57.0       NaN       NaN       NaN   \n",
       "\n",
       "     child_10  child_5  \n",
       "0         NaN      NaN  \n",
       "1         NaN     69.2  \n",
       "2         NaN      NaN  \n",
       "3         NaN      NaN  \n",
       "4         NaN      NaN  \n",
       "..        ...      ...  \n",
       "929       NaN      NaN  \n",
       "930       NaN      NaN  \n",
       "931       NaN      NaN  \n",
       "932       NaN      NaN  \n",
       "933       NaN     57.0  \n",
       "\n",
       "[934 rows x 9 columns]"
      ]
     },
     "execution_count": 148,
     "metadata": {},
     "output_type": "execute_result"
    }
   ],
   "source": [
    "heights_fp = os.path.join('data', 'missing_heights.csv')\n",
    "heights = pd.read_csv(heights_fp)\n",
    "heights_copy = heights.copy()\n",
    "heights_copy"
   ]
  },
  {
   "cell_type": "code",
   "execution_count": 158,
   "id": "23a4b2dc",
   "metadata": {},
   "outputs": [
    {
     "data": {
      "text/plain": [
       "[0.9450768645016309,\n",
       " 0.933161016432727,\n",
       " 0.5702404648370792,\n",
       " 0.00017413198206581807,\n",
       " 0.19561453079563365,\n",
       " 0.26919269732467943,\n",
       " 0.2198082380871209]"
      ]
     },
     "execution_count": 158,
     "metadata": {},
     "output_type": "execute_result"
    }
   ],
   "source": [
    "pvalues = []\n",
    "columns = heights.filter(like='child_').columns\n",
    "for col in columns:\n",
    "    heights_copy[f'{col}_missing'] = heights_copy[col].isna()\n",
    "    pvalues.append(ks_2samp(heights_copy.query(f'{col}_missing')['father'], heights_copy.query('not 'f'{col}_missing')['father']).pvalue)\n",
    "# heights_copy\n",
    "pvalues"
   ]
  },
  {
   "cell_type": "code",
   "execution_count": 166,
   "id": "bfb4c49e",
   "metadata": {},
   "outputs": [],
   "source": [
    "# don't change this cell, but do run it -- it is needed for the tests to work\n",
    "heights_fp = os.path.join('data', 'missing_heights.csv')\n",
    "heights = pd.read_csv(heights_fp)\n",
    "out_q4 = verify_child(heights.copy())"
   ]
  },
  {
   "cell_type": "code",
   "execution_count": 168,
   "id": "e17fbbf8",
   "metadata": {
    "deletable": false,
    "editable": false
   },
   "outputs": [
    {
     "data": {
      "text/html": [
       "<p><strong><pre style='display: inline;'>q4</pre></strong> passed!</p>"
      ],
      "text/plain": [
       "q4 results: All test cases passed!"
      ]
     },
     "execution_count": 168,
     "metadata": {},
     "output_type": "execute_result"
    }
   ],
   "source": [
    "grader.check(\"q4\")"
   ]
  },
  {
   "cell_type": "markdown",
   "id": "90f43439",
   "metadata": {},
   "source": [
    "Let's reflect on the $p$-values you discovered:"
   ]
  },
  {
   "cell_type": "code",
   "execution_count": 169,
   "id": "a7ed052d",
   "metadata": {
    "scrolled": false
   },
   "outputs": [
    {
     "data": {
      "application/vnd.plotly.v1+json": {
       "config": {
        "plotlyServerURL": "https://plot.ly"
       },
       "data": [
        {
         "alignmentgroup": "True",
         "hovertemplate": "variable=p-value<br>value=%{x}<br>index=%{y}<extra></extra>",
         "legendgroup": "p-value",
         "marker": {
          "color": "#636efa",
          "pattern": {
           "shape": ""
          }
         },
         "name": "p-value",
         "offsetgroup": "p-value",
         "orientation": "h",
         "showlegend": true,
         "textposition": "auto",
         "type": "bar",
         "x": [
          0.9450768645016309,
          0.933161016432727,
          0.5702404648370792,
          0.00017413198206581807,
          0.19561453079563365,
          0.26919269732467943,
          0.2198082380871209
         ],
         "xaxis": "x",
         "y": [
          "child_95",
          "child_90",
          "child_75",
          "child_50",
          "child_25",
          "child_10",
          "child_5"
         ],
         "yaxis": "y"
        }
       ],
       "layout": {
        "barmode": "relative",
        "height": 400,
        "legend": {
         "title": {
          "text": "variable"
         },
         "tracegroupgap": 0
        },
        "margin": {
         "t": 60
        },
        "template": {
         "data": {
          "bar": [
           {
            "error_x": {
             "color": "#2a3f5f"
            },
            "error_y": {
             "color": "#2a3f5f"
            },
            "marker": {
             "line": {
              "color": "#E5ECF6",
              "width": 0.5
             },
             "pattern": {
              "fillmode": "overlay",
              "size": 10,
              "solidity": 0.2
             }
            },
            "type": "bar"
           }
          ],
          "barpolar": [
           {
            "marker": {
             "line": {
              "color": "#E5ECF6",
              "width": 0.5
             },
             "pattern": {
              "fillmode": "overlay",
              "size": 10,
              "solidity": 0.2
             }
            },
            "type": "barpolar"
           }
          ],
          "carpet": [
           {
            "aaxis": {
             "endlinecolor": "#2a3f5f",
             "gridcolor": "white",
             "linecolor": "white",
             "minorgridcolor": "white",
             "startlinecolor": "#2a3f5f"
            },
            "baxis": {
             "endlinecolor": "#2a3f5f",
             "gridcolor": "white",
             "linecolor": "white",
             "minorgridcolor": "white",
             "startlinecolor": "#2a3f5f"
            },
            "type": "carpet"
           }
          ],
          "choropleth": [
           {
            "colorbar": {
             "outlinewidth": 0,
             "ticks": ""
            },
            "type": "choropleth"
           }
          ],
          "contour": [
           {
            "colorbar": {
             "outlinewidth": 0,
             "ticks": ""
            },
            "colorscale": [
             [
              0,
              "#0d0887"
             ],
             [
              0.1111111111111111,
              "#46039f"
             ],
             [
              0.2222222222222222,
              "#7201a8"
             ],
             [
              0.3333333333333333,
              "#9c179e"
             ],
             [
              0.4444444444444444,
              "#bd3786"
             ],
             [
              0.5555555555555556,
              "#d8576b"
             ],
             [
              0.6666666666666666,
              "#ed7953"
             ],
             [
              0.7777777777777778,
              "#fb9f3a"
             ],
             [
              0.8888888888888888,
              "#fdca26"
             ],
             [
              1,
              "#f0f921"
             ]
            ],
            "type": "contour"
           }
          ],
          "contourcarpet": [
           {
            "colorbar": {
             "outlinewidth": 0,
             "ticks": ""
            },
            "type": "contourcarpet"
           }
          ],
          "heatmap": [
           {
            "colorbar": {
             "outlinewidth": 0,
             "ticks": ""
            },
            "colorscale": [
             [
              0,
              "#0d0887"
             ],
             [
              0.1111111111111111,
              "#46039f"
             ],
             [
              0.2222222222222222,
              "#7201a8"
             ],
             [
              0.3333333333333333,
              "#9c179e"
             ],
             [
              0.4444444444444444,
              "#bd3786"
             ],
             [
              0.5555555555555556,
              "#d8576b"
             ],
             [
              0.6666666666666666,
              "#ed7953"
             ],
             [
              0.7777777777777778,
              "#fb9f3a"
             ],
             [
              0.8888888888888888,
              "#fdca26"
             ],
             [
              1,
              "#f0f921"
             ]
            ],
            "type": "heatmap"
           }
          ],
          "heatmapgl": [
           {
            "colorbar": {
             "outlinewidth": 0,
             "ticks": ""
            },
            "colorscale": [
             [
              0,
              "#0d0887"
             ],
             [
              0.1111111111111111,
              "#46039f"
             ],
             [
              0.2222222222222222,
              "#7201a8"
             ],
             [
              0.3333333333333333,
              "#9c179e"
             ],
             [
              0.4444444444444444,
              "#bd3786"
             ],
             [
              0.5555555555555556,
              "#d8576b"
             ],
             [
              0.6666666666666666,
              "#ed7953"
             ],
             [
              0.7777777777777778,
              "#fb9f3a"
             ],
             [
              0.8888888888888888,
              "#fdca26"
             ],
             [
              1,
              "#f0f921"
             ]
            ],
            "type": "heatmapgl"
           }
          ],
          "histogram": [
           {
            "marker": {
             "pattern": {
              "fillmode": "overlay",
              "size": 10,
              "solidity": 0.2
             }
            },
            "type": "histogram"
           }
          ],
          "histogram2d": [
           {
            "colorbar": {
             "outlinewidth": 0,
             "ticks": ""
            },
            "colorscale": [
             [
              0,
              "#0d0887"
             ],
             [
              0.1111111111111111,
              "#46039f"
             ],
             [
              0.2222222222222222,
              "#7201a8"
             ],
             [
              0.3333333333333333,
              "#9c179e"
             ],
             [
              0.4444444444444444,
              "#bd3786"
             ],
             [
              0.5555555555555556,
              "#d8576b"
             ],
             [
              0.6666666666666666,
              "#ed7953"
             ],
             [
              0.7777777777777778,
              "#fb9f3a"
             ],
             [
              0.8888888888888888,
              "#fdca26"
             ],
             [
              1,
              "#f0f921"
             ]
            ],
            "type": "histogram2d"
           }
          ],
          "histogram2dcontour": [
           {
            "colorbar": {
             "outlinewidth": 0,
             "ticks": ""
            },
            "colorscale": [
             [
              0,
              "#0d0887"
             ],
             [
              0.1111111111111111,
              "#46039f"
             ],
             [
              0.2222222222222222,
              "#7201a8"
             ],
             [
              0.3333333333333333,
              "#9c179e"
             ],
             [
              0.4444444444444444,
              "#bd3786"
             ],
             [
              0.5555555555555556,
              "#d8576b"
             ],
             [
              0.6666666666666666,
              "#ed7953"
             ],
             [
              0.7777777777777778,
              "#fb9f3a"
             ],
             [
              0.8888888888888888,
              "#fdca26"
             ],
             [
              1,
              "#f0f921"
             ]
            ],
            "type": "histogram2dcontour"
           }
          ],
          "mesh3d": [
           {
            "colorbar": {
             "outlinewidth": 0,
             "ticks": ""
            },
            "type": "mesh3d"
           }
          ],
          "parcoords": [
           {
            "line": {
             "colorbar": {
              "outlinewidth": 0,
              "ticks": ""
             }
            },
            "type": "parcoords"
           }
          ],
          "pie": [
           {
            "automargin": true,
            "type": "pie"
           }
          ],
          "scatter": [
           {
            "fillpattern": {
             "fillmode": "overlay",
             "size": 10,
             "solidity": 0.2
            },
            "type": "scatter"
           }
          ],
          "scatter3d": [
           {
            "line": {
             "colorbar": {
              "outlinewidth": 0,
              "ticks": ""
             }
            },
            "marker": {
             "colorbar": {
              "outlinewidth": 0,
              "ticks": ""
             }
            },
            "type": "scatter3d"
           }
          ],
          "scattercarpet": [
           {
            "marker": {
             "colorbar": {
              "outlinewidth": 0,
              "ticks": ""
             }
            },
            "type": "scattercarpet"
           }
          ],
          "scattergeo": [
           {
            "marker": {
             "colorbar": {
              "outlinewidth": 0,
              "ticks": ""
             }
            },
            "type": "scattergeo"
           }
          ],
          "scattergl": [
           {
            "marker": {
             "colorbar": {
              "outlinewidth": 0,
              "ticks": ""
             }
            },
            "type": "scattergl"
           }
          ],
          "scattermapbox": [
           {
            "marker": {
             "colorbar": {
              "outlinewidth": 0,
              "ticks": ""
             }
            },
            "type": "scattermapbox"
           }
          ],
          "scatterpolar": [
           {
            "marker": {
             "colorbar": {
              "outlinewidth": 0,
              "ticks": ""
             }
            },
            "type": "scatterpolar"
           }
          ],
          "scatterpolargl": [
           {
            "marker": {
             "colorbar": {
              "outlinewidth": 0,
              "ticks": ""
             }
            },
            "type": "scatterpolargl"
           }
          ],
          "scatterternary": [
           {
            "marker": {
             "colorbar": {
              "outlinewidth": 0,
              "ticks": ""
             }
            },
            "type": "scatterternary"
           }
          ],
          "surface": [
           {
            "colorbar": {
             "outlinewidth": 0,
             "ticks": ""
            },
            "colorscale": [
             [
              0,
              "#0d0887"
             ],
             [
              0.1111111111111111,
              "#46039f"
             ],
             [
              0.2222222222222222,
              "#7201a8"
             ],
             [
              0.3333333333333333,
              "#9c179e"
             ],
             [
              0.4444444444444444,
              "#bd3786"
             ],
             [
              0.5555555555555556,
              "#d8576b"
             ],
             [
              0.6666666666666666,
              "#ed7953"
             ],
             [
              0.7777777777777778,
              "#fb9f3a"
             ],
             [
              0.8888888888888888,
              "#fdca26"
             ],
             [
              1,
              "#f0f921"
             ]
            ],
            "type": "surface"
           }
          ],
          "table": [
           {
            "cells": {
             "fill": {
              "color": "#EBF0F8"
             },
             "line": {
              "color": "white"
             }
            },
            "header": {
             "fill": {
              "color": "#C8D4E3"
             },
             "line": {
              "color": "white"
             }
            },
            "type": "table"
           }
          ]
         },
         "layout": {
          "annotationdefaults": {
           "arrowcolor": "#2a3f5f",
           "arrowhead": 0,
           "arrowwidth": 1
          },
          "autotypenumbers": "strict",
          "coloraxis": {
           "colorbar": {
            "outlinewidth": 0,
            "ticks": ""
           }
          },
          "colorscale": {
           "diverging": [
            [
             0,
             "#8e0152"
            ],
            [
             0.1,
             "#c51b7d"
            ],
            [
             0.2,
             "#de77ae"
            ],
            [
             0.3,
             "#f1b6da"
            ],
            [
             0.4,
             "#fde0ef"
            ],
            [
             0.5,
             "#f7f7f7"
            ],
            [
             0.6,
             "#e6f5d0"
            ],
            [
             0.7,
             "#b8e186"
            ],
            [
             0.8,
             "#7fbc41"
            ],
            [
             0.9,
             "#4d9221"
            ],
            [
             1,
             "#276419"
            ]
           ],
           "sequential": [
            [
             0,
             "#0d0887"
            ],
            [
             0.1111111111111111,
             "#46039f"
            ],
            [
             0.2222222222222222,
             "#7201a8"
            ],
            [
             0.3333333333333333,
             "#9c179e"
            ],
            [
             0.4444444444444444,
             "#bd3786"
            ],
            [
             0.5555555555555556,
             "#d8576b"
            ],
            [
             0.6666666666666666,
             "#ed7953"
            ],
            [
             0.7777777777777778,
             "#fb9f3a"
            ],
            [
             0.8888888888888888,
             "#fdca26"
            ],
            [
             1,
             "#f0f921"
            ]
           ],
           "sequentialminus": [
            [
             0,
             "#0d0887"
            ],
            [
             0.1111111111111111,
             "#46039f"
            ],
            [
             0.2222222222222222,
             "#7201a8"
            ],
            [
             0.3333333333333333,
             "#9c179e"
            ],
            [
             0.4444444444444444,
             "#bd3786"
            ],
            [
             0.5555555555555556,
             "#d8576b"
            ],
            [
             0.6666666666666666,
             "#ed7953"
            ],
            [
             0.7777777777777778,
             "#fb9f3a"
            ],
            [
             0.8888888888888888,
             "#fdca26"
            ],
            [
             1,
             "#f0f921"
            ]
           ]
          },
          "colorway": [
           "#636efa",
           "#EF553B",
           "#00cc96",
           "#ab63fa",
           "#FFA15A",
           "#19d3f3",
           "#FF6692",
           "#B6E880",
           "#FF97FF",
           "#FECB52"
          ],
          "font": {
           "color": "#2a3f5f"
          },
          "geo": {
           "bgcolor": "white",
           "lakecolor": "white",
           "landcolor": "#E5ECF6",
           "showlakes": true,
           "showland": true,
           "subunitcolor": "white"
          },
          "hoverlabel": {
           "align": "left"
          },
          "hovermode": "closest",
          "mapbox": {
           "style": "light"
          },
          "paper_bgcolor": "white",
          "plot_bgcolor": "#E5ECF6",
          "polar": {
           "angularaxis": {
            "gridcolor": "white",
            "linecolor": "white",
            "ticks": ""
           },
           "bgcolor": "#E5ECF6",
           "radialaxis": {
            "gridcolor": "white",
            "linecolor": "white",
            "ticks": ""
           }
          },
          "scene": {
           "xaxis": {
            "backgroundcolor": "#E5ECF6",
            "gridcolor": "white",
            "gridwidth": 2,
            "linecolor": "white",
            "showbackground": true,
            "ticks": "",
            "zerolinecolor": "white"
           },
           "yaxis": {
            "backgroundcolor": "#E5ECF6",
            "gridcolor": "white",
            "gridwidth": 2,
            "linecolor": "white",
            "showbackground": true,
            "ticks": "",
            "zerolinecolor": "white"
           },
           "zaxis": {
            "backgroundcolor": "#E5ECF6",
            "gridcolor": "white",
            "gridwidth": 2,
            "linecolor": "white",
            "showbackground": true,
            "ticks": "",
            "zerolinecolor": "white"
           }
          },
          "shapedefaults": {
           "line": {
            "color": "#2a3f5f"
           }
          },
          "ternary": {
           "aaxis": {
            "gridcolor": "white",
            "linecolor": "white",
            "ticks": ""
           },
           "baxis": {
            "gridcolor": "white",
            "linecolor": "white",
            "ticks": ""
           },
           "bgcolor": "#E5ECF6",
           "caxis": {
            "gridcolor": "white",
            "linecolor": "white",
            "ticks": ""
           }
          },
          "title": {
           "x": 0.05
          },
          "xaxis": {
           "automargin": true,
           "gridcolor": "white",
           "linecolor": "white",
           "ticks": "",
           "title": {
            "standoff": 15
           },
           "zerolinecolor": "white",
           "zerolinewidth": 2
          },
          "yaxis": {
           "automargin": true,
           "gridcolor": "white",
           "linecolor": "white",
           "ticks": "",
           "title": {
            "standoff": 15
           },
           "zerolinecolor": "white",
           "zerolinewidth": 2
          }
         }
        },
        "width": 800,
        "xaxis": {
         "anchor": "y",
         "domain": [
          0,
          1
         ],
         "title": {
          "text": "value"
         }
        },
        "yaxis": {
         "anchor": "x",
         "domain": [
          0,
          1
         ],
         "title": {
          "text": "index"
         }
        }
       }
      }
     },
     "metadata": {},
     "output_type": "display_data"
    }
   ],
   "source": [
    "out_q4.to_frame().rename(columns={0: 'p-value'}).plot(kind='barh', width=800, height=400)"
   ]
  },
  {
   "cell_type": "markdown",
   "id": "193090f9",
   "metadata": {},
   "source": [
    "Remember, **in all seven columns, the data are truly MAR** – we know this for a fact since we were told in the question:\n",
    "\n",
    "> The missingness of these <code>'child_X'</code> columns were created as MAR dependent on father's heights (similar to what was done in [Lecture 7](https://dsc80.com/resources/lectures/lec07/lec07.html)). The missingness of these <code>'child_X'</code> columns are all equally dependent on father's heights.\n",
    "\n",
    "- If our permutation test returned a small $p$-value for a particular column, it means that the distribution of father's heights in rows where the child's height was missing looked significantly different than the distribution of father's heights in rows where the child's height was present. That's evidence that the missingness of that column depends on father's heights.\n",
    "\n",
    "- If our permutation test returned a large $p$-value for a particular column, that's evidence that the missingness of that column doesn't depend on father's heights.\n",
    "\n",
    "Despite the fact that the missingness of each `'child_X'` column truly depends on father's heights (by design), it appears that **in all cases except `'child_50'`, we'd conclude that the child's height columns are MCAR** at the 5% significance level! We should be precise – we cannot **prove** that heights are MCAR or MAR, just like we cannot prove either hypothesis in a hypothesis test. Instead, all we can say, for instance, is that two samples don't look like they were drawn from the same population distribution, and hence, the missingness of a particular column **appears** to be dependent on another column.\n",
    "\n",
    "One thing you'll notice is that when a column contains relatively few missing values, it is exceedingly difficult to conclude that values in that column are missing at random dependent on another column. Think about why this is the case."
   ]
  },
  {
   "cell_type": "markdown",
   "id": "3665a226",
   "metadata": {},
   "source": [
    "## Part 3: Imputation\n",
    "\n",
    "Now that we're comfortable with missingness mechanisms and how to detect them through data, let's focus on filling in missing values."
   ]
  },
  {
   "cell_type": "markdown",
   "id": "c41e19d6",
   "metadata": {},
   "source": [
    "### Question 5 – Imputing Heights 🧍📏\n",
    "\n",
    "In [Lecture 8](https://dsc80.com/resources/lectures/lec08/lec08.html), you learned how to perform single-valued imputation conditionally on a **categorical** column: impute with the mean for each group. That is, for each distinct value of the **categorical** column, there is a single imputed value.\n",
    "\n",
    "Here, you will perform single-valued imputation conditionally on a **quantitative** column. \n",
    "\n",
    "You will work with a version of the `heights` DataFrame, `new_heights`, that has a `'father'` column and a single `'child'` column. The `'child'` column has missing values. To impute the `'child'` column, transform the `'father'` column into a categorical column by binning the values of `'father'` into [quartiles](https://en.wikipedia.org/wiki/Quartile). Once this is done, you can impute `'child'` as in lecture (and described above).\n",
    "\n",
    "<br>\n",
    "\n",
    "#### `cond_single_imputation`\n",
    "\n",
    "Complete the implementation of the function `cond_single_imputation`, which takes in a DataFrame with columns `'father'` and `'child'` (where `'child'` has missing values) and performs a single-valued mean imputation of the `'child'` column, conditional on `'father'`. Your function should return a **Series**.\n",
    "\n",
    "***Hints:*** \n",
    "- `pd.qcut` may be helpful!\n",
    "- The `transform` method is useful for this question (see [Lecture 4](https://dsc80.com/resources/lectures/lec04/lec04.html)), though it's also possible to do this using the `aggregate` method.\n",
    "- As a reminder, *loops are not allowed*, and functions mentioned in \"Hints\" are not required."
   ]
  },
  {
   "cell_type": "code",
   "execution_count": 176,
   "id": "624c90f5",
   "metadata": {},
   "outputs": [
    {
     "data": {
      "text/html": [
       "<div>\n",
       "<style scoped>\n",
       "    .dataframe tbody tr th:only-of-type {\n",
       "        vertical-align: middle;\n",
       "    }\n",
       "\n",
       "    .dataframe tbody tr th {\n",
       "        vertical-align: top;\n",
       "    }\n",
       "\n",
       "    .dataframe thead th {\n",
       "        text-align: right;\n",
       "    }\n",
       "</style>\n",
       "<table border=\"1\" class=\"dataframe\">\n",
       "  <thead>\n",
       "    <tr style=\"text-align: right;\">\n",
       "      <th></th>\n",
       "      <th>father</th>\n",
       "      <th>child</th>\n",
       "      <th>father_quartile</th>\n",
       "    </tr>\n",
       "  </thead>\n",
       "  <tbody>\n",
       "    <tr>\n",
       "      <th>0</th>\n",
       "      <td>78.5</td>\n",
       "      <td>66.648608</td>\n",
       "      <td>3</td>\n",
       "    </tr>\n",
       "    <tr>\n",
       "      <th>1</th>\n",
       "      <td>78.5</td>\n",
       "      <td>66.648608</td>\n",
       "      <td>3</td>\n",
       "    </tr>\n",
       "    <tr>\n",
       "      <th>2</th>\n",
       "      <td>78.5</td>\n",
       "      <td>69.000000</td>\n",
       "      <td>3</td>\n",
       "    </tr>\n",
       "    <tr>\n",
       "      <th>3</th>\n",
       "      <td>78.5</td>\n",
       "      <td>69.000000</td>\n",
       "      <td>3</td>\n",
       "    </tr>\n",
       "    <tr>\n",
       "      <th>4</th>\n",
       "      <td>75.5</td>\n",
       "      <td>73.500000</td>\n",
       "      <td>3</td>\n",
       "    </tr>\n",
       "    <tr>\n",
       "      <th>...</th>\n",
       "      <td>...</td>\n",
       "      <td>...</td>\n",
       "      <td>...</td>\n",
       "    </tr>\n",
       "    <tr>\n",
       "      <th>929</th>\n",
       "      <td>62.0</td>\n",
       "      <td>64.000000</td>\n",
       "      <td>0</td>\n",
       "    </tr>\n",
       "    <tr>\n",
       "      <th>930</th>\n",
       "      <td>62.0</td>\n",
       "      <td>62.000000</td>\n",
       "      <td>0</td>\n",
       "    </tr>\n",
       "    <tr>\n",
       "      <th>931</th>\n",
       "      <td>62.0</td>\n",
       "      <td>66.648608</td>\n",
       "      <td>0</td>\n",
       "    </tr>\n",
       "    <tr>\n",
       "      <th>932</th>\n",
       "      <td>62.5</td>\n",
       "      <td>66.500000</td>\n",
       "      <td>0</td>\n",
       "    </tr>\n",
       "    <tr>\n",
       "      <th>933</th>\n",
       "      <td>62.5</td>\n",
       "      <td>66.648608</td>\n",
       "      <td>0</td>\n",
       "    </tr>\n",
       "  </tbody>\n",
       "</table>\n",
       "<p>934 rows × 3 columns</p>\n",
       "</div>"
      ],
      "text/plain": [
       "     father      child  father_quartile\n",
       "0      78.5  66.648608                3\n",
       "1      78.5  66.648608                3\n",
       "2      78.5  69.000000                3\n",
       "3      78.5  69.000000                3\n",
       "4      75.5  73.500000                3\n",
       "..      ...        ...              ...\n",
       "929    62.0  64.000000                0\n",
       "930    62.0  62.000000                0\n",
       "931    62.0  66.648608                0\n",
       "932    62.5  66.500000                0\n",
       "933    62.5  66.648608                0\n",
       "\n",
       "[934 rows x 3 columns]"
      ]
     },
     "execution_count": 176,
     "metadata": {},
     "output_type": "execute_result"
    }
   ],
   "source": [
    "heights_fp = os.path.join('data', 'missing_heights.csv')\n",
    "new_heights = pd.read_csv(heights_fp)[['father', 'child_50']]\n",
    "new_heights = new_heights.rename(columns={'child_50': 'child'})\n",
    "new_heights['father_quartile'] = pd.qcut(new_heights['father'], 4, labels=False)\n",
    "new_heights\n",
    "new_heights_mfilled = new_heights.fillna(new_heights['child'].mean())\n",
    "new_heights_mfilled"
   ]
  },
  {
   "cell_type": "code",
   "execution_count": null,
   "id": "dfc683bc",
   "metadata": {},
   "outputs": [],
   "source": []
  },
  {
   "cell_type": "code",
   "execution_count": 182,
   "id": "a664030a",
   "metadata": {},
   "outputs": [],
   "source": [
    "# don't change this cell, but do run it -- it is needed for the tests to work\n",
    "heights_fp = os.path.join('data', 'missing_heights.csv')\n",
    "new_heights = pd.read_csv(heights_fp)[['father', 'child_50']]\n",
    "new_heights = new_heights.rename(columns={'child_50': 'child'})\n",
    "out_q5 = cond_single_imputation(new_heights.copy())"
   ]
  },
  {
   "cell_type": "code",
   "execution_count": 183,
   "id": "13abb9c4",
   "metadata": {},
   "outputs": [],
   "source": [
    "# don't change this cell, but do run it -- it is needed for the tests to work\n",
    "heights_q5 = pd.read_csv('data/missing_heights.csv')\n",
    "heights_q5['child'] = heights_q5['child_50']\n",
    "inp_q5 = heights_q5\n",
    "out_q5 = cond_single_imputation(inp_q5)\n",
    "df_q5 = inp_q5.copy()\n",
    "df_q5['imputed'] = out_q5\n",
    "gp1_q5 = df_q5.groupby('father')['imputed'].mean()\n",
    "gp2_q5 = df_q5.groupby('father')['child'].mean()\n",
    "m_q5 = (pd.concat([gp1_q5, gp2_q5], axis=1)\n",
    "     .dropna().diff(axis=1).abs().iloc[:, -1])"
   ]
  },
  {
   "cell_type": "code",
   "execution_count": 184,
   "id": "7d0262d0",
   "metadata": {
    "deletable": false,
    "editable": false
   },
   "outputs": [
    {
     "data": {
      "text/html": [
       "<p><strong><pre style='display: inline;'>q5</pre></strong> passed!</p>"
      ],
      "text/plain": [
       "q5 results: All test cases passed!"
      ]
     },
     "execution_count": 184,
     "metadata": {},
     "output_type": "execute_result"
    }
   ],
   "source": [
    "grader.check(\"q5\")"
   ]
  },
  {
   "cell_type": "markdown",
   "id": "940b7a58",
   "metadata": {},
   "source": [
    "### Question 6 – Probabilistic Imputation 🎲\n",
    "\n",
    "In [Lecture 8](https://dsc80.com/resources/lectures/lec08/lec08.html), you learned how to impute a quantitative column by sampling from the observed values. **One problem with this technique is that the imputation will never generate imputed values that weren't already in the dataset.** For example, 57, 57.5, and 59 are values in the `'child'` column of `new_heights` while 58 is not. Thus, any imputation done by sampling from the observed values in the `'child'` column will not be able to generate a height of 58, even though it's clearly a reasonable value to occur in the dataset.\n",
    "\n",
    "To keep things simple, you will impute the `'child'` column **unconditionally** from the distribution of `'child'` heights present in the dataset. This means that you will use the values present in `'child'` to impute missing values, without looking at other columns.\n",
    "\n",
    "An approach to quantitative imputation that overcomes the limitation mentioned above is as follows:\n",
    "- Create a histogram of observed `'child'` heights, using 10 bins.\n",
    "- Use the histogram to generate a number within the observed range of `'child'` heights:\n",
    "    - The likelihood a generated number belongs to a given bin is equal to the area of that bin. (Remember, in histograms, areas are proportions.)\n",
    "    - Any number within a fixed bin is equally likely to occur.\n",
    "    \n",
    "Let's illustrate this approach with an example. Let `demo` be the array of 10 numbers defined below.\n",
    "\n",
    "```py\n",
    "demo = np.array([10, 11, 11, 13, 14, 14, 13.5, 14, 15, 16])\n",
    "```\n",
    "\n",
    "- The first step is creating a histogram of `demo`. Note that with this small dataset, we will use 3 bins, but you will be using 10 bins in your imputation process.\n",
    "\n",
    "<img src='imgs/demo_histogram.png' width=300>\n",
    "\n",
    "- Note that in your process, you don't actually need to draw a histogram – instead, use `np.histogram`.\n",
    "- In the histogram above, we see that $2 \\cdot 0.15 = 0.3 = 30\\%$ of values lie in the [10, 12) bin, $2 \\cdot 0.1 = 0.2 = 20\\%$ of values lie in the [12, 14) bin, and $2 \\cdot 0.25 = 0.5 = 50\\%$ of values lie in the [14, 16] bin.\n",
    "- Next, we need to pick a bin at random. There's a 30\\% chance we pick the [10, 12) bin, a 20\\% chance we pick the [12, 14) bin, and a 50\\% chance we pick the [14, 16] bin. `np.random.choice` will be helpful in picking a bin at random.\n",
    "- Once we pick a bin, we pick a number **uniformly at random** from within the bin. For instance, suppose we randomly chose the [14, 16] bin in the previous step. We then must select a (real) number between 14 and 16 uniformly at random. `np.random.uniform` can help you here.\n",
    "\n",
    "<br>\n",
    "\n",
    "#### `quantitative_distribution`\n",
    "    \n",
    "Complete the implementation of the function `quantitative_distribution`, which takes in a Series, `child`, in which some values are missing, and an integer `N > 0`, and returns an **array** of `N` imputed values using the method described above. \n",
    "\n",
    "***Note:*** You may use a `for`-loop.\n",
    "\n",
    "<br>\n",
    "\n",
    "#### `impute_height_quant`\n",
    "\n",
    "Complete the implementation of the function `impute_height_quant`, which takes in a Series, `child`, in which some values are missing and imputes them using the scheme above. `impute_height_quant` should return a Series that is the same length of `child` but with no missing values. **You should use `quantitative_distribution` to help you do this.**"
   ]
  },
  {
   "cell_type": "code",
   "execution_count": 198,
   "id": "b887992d",
   "metadata": {},
   "outputs": [
    {
     "data": {
      "text/plain": [
       "array([70.76242058, 62.02927427, 69.76799904, 69.39429126, 71.85233008,\n",
       "       68.06304271, 70.8365539 , 67.97901309, 62.30908885, 63.61757401,\n",
       "       63.55308698, 70.20693525, 73.84389269, 61.04036676, 71.81323342,\n",
       "       70.26083033, 68.61715853, 71.49331924, 71.29149702, 61.78283108,\n",
       "       70.02960119, 69.22937229, 61.81213803, 61.04282305, 65.10339891,\n",
       "       72.6112454 , 70.32910945, 61.9184107 , 64.58450257, 62.5896138 ,\n",
       "       70.12878306, 69.18656092, 67.07760801, 63.99642477, 66.42033833,\n",
       "       66.03337411, 65.73457879, 62.61766058, 70.23113564, 64.73528032,\n",
       "       69.74640075, 61.73344414, 63.04129696, 67.64598053, 67.37199563,\n",
       "       64.52697132, 70.08332613, 61.7619611 , 63.18619381, 71.01510894,\n",
       "       63.50830913, 67.26808757, 63.37522029, 59.47143686, 63.04926552,\n",
       "       68.21386381, 70.70379826, 62.11869107, 68.4096504 , 71.27564993,\n",
       "       63.82699333, 70.7195879 , 69.80684315, 66.90772498, 66.80830254,\n",
       "       61.32069459, 64.26253117, 71.81830453, 71.17704422, 71.80812803,\n",
       "       63.81782608, 69.42331765, 70.69757674, 65.90117896, 66.17838869,\n",
       "       67.93407745, 70.70956784, 62.75614039, 72.03913188, 64.24010247,\n",
       "       64.88362228, 70.78180749, 60.71300735, 71.40798581, 63.34506205,\n",
       "       67.7508379 , 69.35379446, 66.07829165, 67.02883147, 69.77574569,\n",
       "       63.4706574 , 67.75034048, 72.0335028 , 68.1389114 , 65.57973318,\n",
       "       74.98256952, 66.1824326 , 61.60773674, 67.55110441, 71.13494292])"
      ]
     },
     "execution_count": 198,
     "metadata": {},
     "output_type": "execute_result"
    }
   ],
   "source": [
    "heights_fp = os.path.join('data', 'missing_heights.csv')\n",
    "heights = pd.read_csv(heights_fp)\n",
    "child = heights['child_50']\n",
    "child = child.dropna()\n",
    "hist_prob, bin_edges = np.histogram(child, bins=10, density=True)\n",
    "bin_widths = np.diff(bin_edges)\n",
    "hist_prob *= bin_widths\n",
    "cdf_bins = np.cumsum(hist_prob)\n",
    "imputed_values = np.zeros(100)\n",
    "for i in range(100):\n",
    "    random_num = np.random.rand()\n",
    "    bin_index = np.searchsorted(cdf_bins, random_num)\n",
    "    if bin_index == len(cdf_bins):\n",
    "        bin_index -= 1\n",
    "    random_value_in_bin = np.random.uniform(bin_edges[bin_index], bin_edges[bin_index + 1])\n",
    "    imputed_values[i] = random_value_in_bin\n",
    "\n",
    "imputed_values"
   ]
  },
  {
   "cell_type": "code",
   "execution_count": 210,
   "id": "c268a396",
   "metadata": {},
   "outputs": [],
   "source": [
    "values = quantitative_distribution(child, child.isna().sum())\n",
    "child.loc[child.isnull()] = values"
   ]
  },
  {
   "cell_type": "code",
   "execution_count": 211,
   "id": "50448f02",
   "metadata": {},
   "outputs": [],
   "source": [
    "# don't change this cell, but do run it -- it is needed for the tests to work\n",
    "heights_fp = os.path.join('data', 'missing_heights.csv')\n",
    "heights = pd.read_csv(heights_fp)\n",
    "child = heights['child_50']\n",
    "quantitative_distribution_out_q6 = quantitative_distribution(child.copy(), 100)\n",
    "impute_height_quant_out_q6 = impute_height_quant(child.copy())"
   ]
  },
  {
   "cell_type": "code",
   "execution_count": 212,
   "id": "e1da5d49",
   "metadata": {
    "deletable": false,
    "editable": false
   },
   "outputs": [
    {
     "data": {
      "text/html": [
       "<p><strong><pre style='display: inline;'>q6</pre></strong> passed!</p>"
      ],
      "text/plain": [
       "q6 results: All test cases passed!"
      ]
     },
     "execution_count": 212,
     "metadata": {},
     "output_type": "execute_result"
    }
   ],
   "source": [
    "grader.check(\"q6\")"
   ]
  },
  {
   "cell_type": "markdown",
   "id": "58d713df",
   "metadata": {},
   "source": [
    "### Question 7 – The Rules of Web Scraping 🚔\n",
    "\n",
    "In Lecture 14, we will start studying web scraping. This question will give you an introduction to the rules behind it.\n",
    "\n",
    "Many sites have a published policy allowing or disallowing automatic access to their site. Often, this policy is in a text file named `robots.txt`. [Here is a good article](https://moz.com/learn/seo/robotstxt) that explains what these files are, where to find them, and how to use them. **After reading the article**, please answer the following questions.\n",
    "\n",
    "<br>\n",
    "\n",
    "#### Multiple-Choice Questions\n",
    "\n",
    "**1. What is the purpose of `robots.txt`?**\n",
    "\n",
    "1. To informs agents which pages to crawl.\n",
    "\n",
    "2. To informs agents that the site is automated.\n",
    "\n",
    "3. To inform agents that robots will chase them down if their info is stolen.\n",
    "\n",
    "\n",
    "**2. Where do you put your `robots.txt` file?**\n",
    "\n",
    "1. In the folder you want to disallow.\n",
    "\n",
    "2. In the root directory of your website.\n",
    "\n",
    "3. In a Google search.\n",
    "\n",
    "**3. Is it illegal to scrape a site if there is no `robots.txt` present?** (***Hint:*** [Read this](https://medium.com/@tjwaterman99/web-scraping-is-now-legal-6bf0e5730a78) if you're not sure. If you aren't able to access the article because Medium says \"You've read all your free member-only stories...\", try opening the article in a new incognito or private browsing window 😅.)\n",
    "\n",
    "1. Yes.\n",
    "\n",
    "2. No.\n",
    "\n",
    "**4. Can each subdomain on a root domain use separate `robots.txt` files?**\n",
    "\n",
    "1. Yes.\n",
    "\n",
    "2. No.\n",
    "\n",
    "\n",
    "<br>\n",
    "\n",
    "\n",
    "#### Website Hunt\n",
    "\n",
    "1. Find at least one website that explicitly uses a `robots.txt` file and allows scraping by everyone. One such site is [singleplatform.com](https://places.singleplatform.com) (see [https://places.singleplatform.com/robots.txt](https://places.singleplatform.com/robots.txt)); find another one.\n",
    "\n",
    "2. Find at least one website that explicitly uses a `robots.txt` file and does not allow scraping by generic user-agents. One such site is [linkedin.com](https://www.linkedin.com) (see [linkedin.com/robots.txt](https://www.linkedin.com/robots.txt)); find another one.\n",
    "\n",
    "\n",
    "When browsing through `robots.txt` files, you may notice that some have entries for several different user-agents. The user-agent you are interested in for this question is the generic user-agent, which is denoted by `*`. A `/` after a `Disallow:` indicates that no scraping is allowed, whereas nothing after the `Disallow:` or a `/` after `Allow:` indicates that all scraping is allowed.\n",
    "\n",
    "***Notes:***\n",
    "- During your search, you may notice that very few websites allow scraping by everyone. When trying to find websites that satisfy this criteria, you are encouraged to think contextually about what kinds of websites would and wouldn't mind you scraping their data. Would a government website likely mind scraping by everyone? How about a website someone created just for fun?\n",
    "\n",
    "- Some websites may cause Gradescope to time out. Please change a website if you encounter this issue. \n",
    "\n",
    "- Below, you are asked to store the URLs of the websites you find in a list. When storing URLs, you can add `'/robots.txt'` to the end, but you don't have to – either format will be accepted.\n",
    "- **You cannot use waymo.com or linkedin.com as your examples!**\n",
    "\n",
    "<br>\n",
    "\n",
    "\n",
    "#### `answers`\n",
    "\n",
    "Complete the implementation of the function `answers`, which takes in no arguments and returns **two lists**:\n",
    "\n",
    "* one containing your answers to the multiple-choice questions, and\n",
    "* one containing the URLs of the two sites you found, in any order."
   ]
  },
  {
   "cell_type": "code",
   "execution_count": null,
   "id": "e6153c43",
   "metadata": {},
   "outputs": [],
   "source": []
  },
  {
   "cell_type": "code",
   "execution_count": null,
   "id": "3efb6128",
   "metadata": {},
   "outputs": [],
   "source": []
  },
  {
   "cell_type": "code",
   "execution_count": 258,
   "id": "caf0515b",
   "metadata": {},
   "outputs": [],
   "source": [
    "# don't change this cell, but do run it -- it is needed for the tests to work\n",
    "mc_answers, websites = answers()"
   ]
  },
  {
   "cell_type": "code",
   "execution_count": 259,
   "id": "c65f5f33",
   "metadata": {},
   "outputs": [],
   "source": [
    "# don't change this cell, but do run it -- it is needed for the tests to work\n",
    "from urllib.parse import urlparse\n",
    "import urllib.robotparser\n",
    "\n",
    "# This code checks the robots.txt file\n",
    "def canFetch(url):\n",
    "    if url[:4] != 'http':\n",
    "        url = 'https://' + url\n",
    "    parsed_uri = urlparse(url)\n",
    "\n",
    "    domain = '{uri.scheme}://{uri.netloc}/'.format(uri=parsed_uri)\n",
    "\n",
    "    rp = urllib.robotparser.RobotFileParser()\n",
    "    rp.set_url(domain + \"/robots.txt\")\n",
    "    try:\n",
    "        rp.read()\n",
    "        canFetchBool = rp.can_fetch(\"*\", url)\n",
    "    except:\n",
    "        canFetchBool = None\n",
    "    \n",
    "    return canFetchBool\n",
    "\n",
    "ans_q7, websites_q7 = answers()\n",
    "canfetch_q7 = []\n",
    "for site in websites_q7:\n",
    "    try:\n",
    "        canfetch_q7.append(canFetch(site))\n",
    "    except:\n",
    "        canfetch_q7.append(None)"
   ]
  },
  {
   "cell_type": "code",
   "execution_count": 260,
   "id": "232e252e",
   "metadata": {
    "deletable": false,
    "editable": false
   },
   "outputs": [
    {
     "data": {
      "text/html": [
       "<p><strong><pre style='display: inline;'>q7</pre></strong> passed!</p>"
      ],
      "text/plain": [
       "q7 results: All test cases passed!"
      ]
     },
     "execution_count": 260,
     "metadata": {},
     "output_type": "execute_result"
    }
   ],
   "source": [
    "grader.check(\"q7\")"
   ]
  },
  {
   "cell_type": "markdown",
   "id": "1facd69d",
   "metadata": {},
   "source": [
    "## Congratulations! You're done with Lab 5! 🏁\n",
    "\n",
    "As a reminder, all of the work you want to submit needs to be in `lab.py`.\n",
    "\n",
    "To verify that all of your work is indeed in `lab.py`, and that you didn't accidentally implement a function in this notebook and not in `lab.py`, we've included another notebook in the lab folder, called `lab-validation.ipynb`. `lab-validation.ipynb` is a version of this notebook with only the `grader.check` cells and the code needed to set up the tests. \n",
    "\n",
    "### **Go to `lab-validation.ipynb`, and go to Kernel > Restart & Run All.** This will check if all `grader.check` test cases pass using just the code in `lab.py`.\n",
    "\n",
    "Once you're able to pass all test cases in `lab-validation.ipynb`, including the call to `grader.check_all()` at the very bottom, then you're ready to submit your `lab.py` (and only your `lab.py`) to Gradescope. Once submitting to Gradescope, make sure to stick around until all test cases pass.\n",
    "\n",
    "There is also a call to `grader.check_all()` below in _this_ notebook, but make sure to also follow the steps above."
   ]
  },
  {
   "cell_type": "markdown",
   "id": "5582632c",
   "metadata": {
    "deletable": false,
    "editable": false
   },
   "source": [
    "---\n",
    "\n",
    "To double-check your work, the cell below will rerun all of the autograder tests."
   ]
  },
  {
   "cell_type": "code",
   "execution_count": null,
   "id": "add43569",
   "metadata": {
    "deletable": false,
    "editable": false
   },
   "outputs": [],
   "source": [
    "grader.check_all()"
   ]
  }
 ],
 "metadata": {
  "kernelspec": {
   "display_name": "Python 3 (ipykernel)",
   "language": "python",
   "name": "python3"
  },
  "language_info": {
   "codemirror_mode": {
    "name": "ipython",
    "version": 3
   },
   "file_extension": ".py",
   "mimetype": "text/x-python",
   "name": "python",
   "nbconvert_exporter": "python",
   "pygments_lexer": "ipython3",
   "version": "3.9.18"
  },
  "otter": {
   "tests": {
    "q1": {
     "name": "q1",
     "points": null,
     "suites": [
      {
       "cases": [
        {
         "code": ">>> len(out_q1) == 5\nTrue",
         "failure_message": "output length should be 5",
         "hidden": false,
         "locked": false,
         "points": 1
        },
        {
         "code": ">>> set(out_q1) <= set(['MD', 'MCAR', 'MAR', 'NMAR'])\nTrue",
         "failure_message": "output contains answers other than the specified options",
         "hidden": false,
         "locked": false,
         "points": 1
        },
        {
         "code": ">>> out_q1[0] == 'NMAR'\nTrue",
         "failure_message": "sub-question 1: reviewers are more likely to review when dissatified",
         "hidden": false,
         "locked": false,
         "points": 1
        },
        {
         "code": ">>> out_q1[0] in ['NMAR', 'MCAR']\nTrue",
         "failure_message": "sub-question 1: partial; one column must be NMAR or MCAR",
         "hidden": false,
         "locked": false,
         "points": 1
        },
        {
         "code": ">>> out_q1[1] == 'MD'\nTrue",
         "failure_message": "sub-question 2: not the optimal answer",
         "hidden": false,
         "locked": false,
         "points": 1
        },
        {
         "code": ">>> out_q1[1] in ['MD', 'MAR']\nTrue",
         "failure_message": "sub-question 2: partial",
         "hidden": false,
         "locked": false,
         "points": 0.5
        },
        {
         "code": ">>> out_q1[2] == 'MAR'\nTrue",
         "failure_message": "sub-question 3: not the optimal answer",
         "hidden": false,
         "locked": false,
         "points": 1
        },
        {
         "code": ">>> out_q1[2] in ['NMAR', 'MAR']\nTrue",
         "failure_message": "sub-question 3: partial",
         "hidden": false,
         "locked": false,
         "points": 0.5
        },
        {
         "code": ">>> out_q1[3] in ['NMAR', 'MAR']\nTrue",
         "failure_message": "sub-question 4: not the optimal answer, how does having a serial number affect missingness?",
         "hidden": false,
         "locked": false,
         "points": 1
        },
        {
         "code": ">>> out_q1[3] in ['NMAR', 'MAR', 'MCAR']\nTrue",
         "failure_message": "sub-question 4: partial",
         "hidden": false,
         "locked": false,
         "points": 0.5
        },
        {
         "code": ">>> out_q1[4] == 'MAR'\nTrue",
         "failure_message": "sub-question 5: not the optimal answer",
         "hidden": false,
         "locked": false,
         "points": 1
        },
        {
         "code": ">>> out_q1[4] in ['MAR', 'NMAR', 'MCAR']\nTrue",
         "failure_message": "sub-question 5: partial",
         "hidden": false,
         "locked": false,
         "points": 0.5
        }
       ],
       "scored": true,
       "setup": "",
       "teardown": "",
       "type": "doctest"
      }
     ]
    },
    "q2": {
     "name": "q2",
     "points": null,
     "suites": [
      {
       "cases": [
        {
         "code": ">>> len(out_q2) == 5\nTrue",
         "failure_message": "output length should be 5",
         "hidden": false,
         "locked": false,
         "points": 1
        },
        {
         "code": ">>> set(out_q2) <= set(['MD', 'MCAR', 'MAR', 'NMAR'])\nTrue",
         "failure_message": "output contains answers other than the specified options",
         "hidden": false,
         "locked": false,
         "points": 1
        },
        {
         "code": ">>> out_q2[0] == 'MAR'\nTrue",
         "failure_message": "sub-question 1",
         "hidden": false,
         "locked": false,
         "points": 1
        },
        {
         "code": ">>> out_q2[0] in ['MCAR', 'MAR', 'NMAR']\nTrue",
         "failure_message": "sub-question 1: partial",
         "hidden": false,
         "locked": false,
         "points": 1
        },
        {
         "code": ">>> out_q2[1] in ['MAR', 'NMAR']\nTrue",
         "failure_message": "sub-question 2",
         "hidden": false,
         "locked": false,
         "points": 1
        },
        {
         "code": ">>> out_q2[2] in ['MD', 'MAR']\nTrue",
         "failure_message": "sub-question 3",
         "hidden": false,
         "locked": false,
         "points": 1
        },
        {
         "code": ">>> out_q2[3] == 'NMAR'\nTrue",
         "failure_message": "sub-question 4",
         "hidden": false,
         "locked": false,
         "points": 1
        },
        {
         "code": ">>> out_q2[3] in ['NMAR', 'MCAR']\nTrue",
         "failure_message": "sub-question 4: partial",
         "hidden": false,
         "locked": false,
         "points": 1
        },
        {
         "code": ">>> out_q2[4] == 'MCAR'\nTrue",
         "failure_message": "sub-question 5",
         "hidden": false,
         "locked": false,
         "points": 1
        },
        {
         "code": ">>> out_q2[4] in ['MAR', 'NMAR', 'MCAR']\nTrue",
         "failure_message": "sub-question 5: partial",
         "hidden": false,
         "locked": false,
         "points": 1
        }
       ],
       "scored": true,
       "setup": "",
       "teardown": "",
       "type": "doctest"
      }
     ]
    },
    "q3": {
     "name": "q3",
     "points": null,
     "suites": [
      {
       "cases": [
        {
         "code": ">>> isinstance(first_round(), list) and isinstance(second_round(), list)\nTrue",
         "hidden": false,
         "locked": false,
         "points": 0.25
        },
        {
         "code": ">>> len(first_round()) == 2 and len(second_round()) == 3\nTrue",
         "hidden": false,
         "locked": false,
         "points": 0.25
        },
        {
         "code": ">>> first_pval < 1\nTrue",
         "hidden": false,
         "locked": false,
         "points": 0.5
        },
        {
         "code": ">>> first_result in ['NR', 'R']\nTrue",
         "hidden": false,
         "locked": false,
         "points": 0.5
        },
        {
         "code": ">>> second_pval < 1\nTrue",
         "hidden": false,
         "locked": false,
         "points": 0.5
        },
        {
         "code": ">>> second_result in ['NR', 'R']\nTrue",
         "hidden": false,
         "locked": false,
         "points": 0.5
        },
        {
         "code": ">>> second_result1 in ['ND', 'D']\nTrue",
         "hidden": false,
         "locked": false,
         "points": 0.5
        },
        {
         "code": ">>> np.isclose(first_pval, 0.16, atol=0.4)\nTrue",
         "failure_message": "first_round p-value approximate",
         "hidden": false,
         "locked": false,
         "points": 3
        },
        {
         "code": ">>> first_result == 'NR'\nTrue",
         "failure_message": "first_round result -- reject / do not reject",
         "hidden": false,
         "locked": false,
         "points": 2
        },
        {
         "code": ">>> second_result1 == 'D'\nTrue",
         "failure_message": "part 3 multiple choice",
         "hidden": false,
         "locked": false,
         "points": 1
        },
        {
         "code": ">>> np.isclose(second_pval, 0.02, atol=0.2)\nTrue",
         "failure_message": "second_round p-value approximate",
         "hidden": false,
         "locked": false,
         "points": 1
        },
        {
         "code": ">>> np.isclose(second_pval, 0.02, atol=0.1)\nTrue",
         "failure_message": "second_round p-value approximate",
         "hidden": false,
         "locked": false,
         "points": 1
        },
        {
         "code": ">>> np.isclose(second_pval, 0.02, atol=0.02)\nTrue",
         "failure_message": "second_round p-value",
         "hidden": false,
         "locked": false,
         "points": 1
        },
        {
         "code": ">>> second_result == 'R'\nTrue",
         "failure_message": "second_round result -- reject / do not reject",
         "hidden": false,
         "locked": false,
         "points": 1
        }
       ],
       "scored": true,
       "setup": "",
       "teardown": "",
       "type": "doctest"
      }
     ]
    },
    "q4": {
     "name": "q4",
     "points": null,
     "suites": [
      {
       "cases": [
        {
         "code": ">>> out_q4['child_50'] < out_q4['child_95']\nTrue",
         "hidden": false,
         "locked": false,
         "points": 0.5
        },
        {
         "code": ">>> out_q4['child_5'] > out_q4['child_50']\nTrue",
         "hidden": false,
         "locked": false,
         "points": 0.5
        },
        {
         "code": ">>> out_q4['child_95'] > out_q4['child_5']\nTrue",
         "failure_message": "95 > 5",
         "hidden": false,
         "locked": false,
         "points": 1
        },
        {
         "code": ">>> out_q4['child_75'] > out_q4['child_25']\nTrue",
         "failure_message": "75 > 25",
         "hidden": false,
         "locked": false,
         "points": 1
        },
        {
         "code": ">>> np.isclose(out_q4['child_50'], 0, atol=0.02)\nTrue",
         "failure_message": "pvalue of child_50",
         "hidden": false,
         "locked": false,
         "points": 1
        },
        {
         "code": ">>> np.isclose(out_q4['child_25'], 0.06, atol=0.2)\nTrue",
         "failure_message": "pvalue of child_25",
         "hidden": false,
         "locked": false,
         "points": 1
        },
        {
         "code": ">>> np.isclose(out_q4['child_95'], 0.8, atol=0.2)\nTrue",
         "failure_message": "pvalue of child_95",
         "hidden": false,
         "locked": false,
         "points": 1
        }
       ],
       "scored": true,
       "setup": "",
       "teardown": "",
       "type": "doctest"
      }
     ]
    },
    "q5": {
     "name": "q5",
     "points": null,
     "suites": [
      {
       "cases": [
        {
         "code": ">>> out_q5.isna().sum() == 0\nTrue",
         "hidden": false,
         "locked": false,
         "points": 1
        },
        {
         "code": ">>> (new_heights['child'].std() - out_q5.std()) > 0.5\nTrue",
         "hidden": false,
         "locked": false,
         "points": 1
        },
        {
         "code": ">>> np.isclose(out_q5.mean(), inp_q5['child'].mean(),atol=0.2)\nTrue",
         "failure_message": "means are close",
         "hidden": false,
         "locked": false,
         "points": 1
        },
        {
         "code": ">>> np.all(np.isclose(m_q5, 0, atol=2))\nTrue",
         "failure_message": "group-wise means are close: very approx",
         "hidden": false,
         "locked": false,
         "points": 1
        },
        {
         "code": ">>> np.isclose(m_q5.median(), 0.314, atol=0.1)\nTrue",
         "failure_message": "group-wise means are close: approx",
         "hidden": false,
         "locked": false,
         "points": 1
        },
        {
         "code": ">>> np.isclose(m_q5.median(), 0.31439, atol=0.01)\nTrue",
         "failure_message": "group-wise means are close",
         "hidden": false,
         "locked": false,
         "points": 1
        }
       ],
       "scored": true,
       "setup": "",
       "teardown": "",
       "type": "doctest"
      }
     ]
    },
    "q6": {
     "name": "q6",
     "points": null,
     "suites": [
      {
       "cases": [
        {
         "code": ">>> quantitative_distribution_out_q6.min() >= 56\nTrue",
         "hidden": false,
         "locked": false,
         "points": 0.5
        },
        {
         "code": ">>> quantitative_distribution_out_q6.max() <= 79\nTrue",
         "hidden": false,
         "locked": false,
         "points": 0.5
        },
        {
         "code": ">>> np.isclose(quantitative_distribution_out_q6.mean(), child.mean(), atol=1)\nTrue",
         "hidden": false,
         "locked": false,
         "points": 0.5
        },
        {
         "code": ">>> np.isclose(quantitative_distribution_out_q6.std(), 3.5, atol=0.65)\nTrue",
         "hidden": false,
         "locked": false,
         "points": 0.5
        },
        {
         "code": ">>> impute_height_quant_out_q6.isna().sum() == 0\nTrue",
         "hidden": false,
         "locked": false,
         "points": 0.5
        },
        {
         "code": ">>> np.isclose(impute_height_quant_out_q6.mean(), child.mean(), atol=0.5)\nTrue",
         "hidden": false,
         "locked": false,
         "points": 0.5
        },
        {
         "code": ">>> (set(quantitative_distribution_out_q6) - set(child.dropna())) != {}\nTrue",
         "failure_message": "new values",
         "hidden": false,
         "locked": false,
         "points": 1
        },
        {
         "code": ">>> (set(impute_height_quant_out_q6) - set(child.dropna())) != {}\nTrue",
         "failure_message": "new values",
         "hidden": false,
         "locked": false,
         "points": 1
        }
       ],
       "scored": true,
       "setup": "",
       "teardown": "",
       "type": "doctest"
      }
     ]
    },
    "q7": {
     "name": "q7",
     "points": null,
     "suites": [
      {
       "cases": [
        {
         "code": ">>> len(mc_answers) == 4\nTrue",
         "hidden": false,
         "locked": false,
         "points": 1
        },
        {
         "code": ">>> len(websites) >= 2\nTrue",
         "hidden": false,
         "locked": false,
         "points": 1
        },
        {
         "code": ">>> ans_q7[0] == 1\nTrue",
         "failure_message": "multiple choice: 1",
         "hidden": false,
         "locked": false,
         "points": 1
        },
        {
         "code": ">>> ans_q7[1] == 2\nTrue",
         "failure_message": "multiple choice: 2",
         "hidden": false,
         "locked": false,
         "points": 1
        },
        {
         "code": ">>> ans_q7[2] == 2\nTrue",
         "failure_message": "multiple choice: 3",
         "hidden": false,
         "locked": false,
         "points": 1
        },
        {
         "code": ">>> ans_q7[3] == 1\nTrue",
         "failure_message": "multiple choice: 4",
         "hidden": false,
         "locked": false,
         "points": 1
        },
        {
         "code": ">>> ('waymo.com' not in ''.join(websites)) and ('linkedin.com' not in ''.join(websites))\nTrue",
         "failure_message": "no waymo or linkedin!",
         "hidden": false,
         "locked": false,
         "points": 1
        },
        {
         "code": ">>> True in canfetch_q7\nTrue",
         "failure_message": "at least one that can scrape",
         "hidden": false,
         "locked": false,
         "points": 2
        },
        {
         "code": ">>> False in canfetch_q7\nTrue",
         "failure_message": "at least one that can not scrape",
         "hidden": false,
         "locked": false,
         "points": 2
        }
       ],
       "scored": true,
       "setup": "",
       "teardown": "",
       "type": "doctest"
      }
     ]
    }
   }
  }
 },
 "nbformat": 4,
 "nbformat_minor": 5
}
