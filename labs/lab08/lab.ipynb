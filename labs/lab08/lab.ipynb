{
 "cells": [
  {
   "cell_type": "code",
   "execution_count": 4,
   "id": "a467d8b8",
   "metadata": {
    "deletable": false,
    "editable": false
   },
   "outputs": [],
   "source": [
    "# Initialize Otter\n",
    "import otter\n",
    "grader = otter.Notebook(\"lab.ipynb\")"
   ]
  },
  {
   "cell_type": "markdown",
   "id": "4feeb4fc",
   "metadata": {},
   "source": [
    "# Lab 8 – Feature Engineering ⚙️\n",
    "\n",
    "## DSC 80, Fall 2023\n",
    "\n",
    "### Due Date: Monday, November 27th at 11:59pm"
   ]
  },
  {
   "cell_type": "markdown",
   "id": "df926ef3",
   "metadata": {},
   "source": [
    "## Instructions\n",
    "Welcome to the eighth lab assignment in DSC 80 this quarter!\n",
    "\n",
    "Much like in DSC 10, this Jupyter Notebook contains the statements of the problems and provides code and Markdown cells to display your answers to the problems. Unlike DSC 10, the notebook is *only* for displaying a readable version of your final answers. The coding will be done in an accompanying `lab.py` file that is imported into the current notebook, and **you will only submit that `lab.py` file**, not this notebook!\n",
    "\n",
    "Some additional guidelines:\n",
    "- **Unlike in DSC 10, labs will have both public tests and hidden tests.** The bulk of your grade will come from your scores on hidden tests, which you will only see on Gradescope after the assignment deadline.\n",
    "- **Do not change the function names in the `lab.py` file!** The functions in the `lab.py` file are how your assignment is graded, and they are graded by their name. If you changed something you weren't supposed to, you can find the original code in the [course GitHub repository](https://github.com/dsc-courses/dsc80-2023-fa).\n",
    "- Notebooks are nice for testing and experimenting with different implementations before designing your function in your `lab.py` file. You can write code here, but make sure that all of your real work is in the `lab.py` file, since that's all you're submitting.\n",
    "- **To ensure that all of your work to be submitted is in `lab.py`, we've provided an additional uneditable notebook, called `lab-validation.ipynb`, that contains only the tests and their setup. Make sure you are able to run it top-to-bottom without error before submitting!**\n",
    "- You are encouraged to write your own additional helper functions to solve the lab, as long as they also end up in `lab.py`.\n",
    "\n",
    "**Importing code from `lab.py`**:\n",
    "\n",
    "* Below, we import the `.py` file that's contained in the same directory as this notebook.\n",
    "* We use the `autoreload` notebook extension to make changes to our `lab.py` file immediately available in our notebook. Without this extension, we would need to restart the notebook kernel to see any changes to `lab.py` in the notebook.\n",
    "    - `autoreload` is necessary because, upon import, `lab.py` is compiled to bytecode (in the directory `__pycache__`). Subsequent imports of `lab` merely import the existing compiled python.\n",
    "    \n",
    "***Note***: In addition to the usual imports below, we'll need the `statsmodels` package that isn't included in the standard `dsc80` conda environment we had you configure. (We need it for some of the `plotly` graphs created in Part 1.)\n",
    "\n",
    "Before running the cell below for the first time, run the following line in your Terminal after activating your `dsc80` conda environment, and then restart your kernel. If you've already installed `statsmodels`, you should be able to run this cell without error.\n",
    "\n",
    "```\n",
    "    pip install statsmodels\n",
    "```"
   ]
  },
  {
   "cell_type": "code",
   "execution_count": 5,
   "id": "da5a2e17",
   "metadata": {
    "scrolled": true
   },
   "outputs": [
    {
     "name": "stdout",
     "output_type": "stream",
     "text": [
      "The autoreload extension is already loaded. To reload it, use:\n",
      "  %reload_ext autoreload\n"
     ]
    }
   ],
   "source": [
    "%load_ext autoreload\n",
    "%autoreload 2"
   ]
  },
  {
   "cell_type": "code",
   "execution_count": 6,
   "id": "e83eddcf",
   "metadata": {},
   "outputs": [],
   "source": [
    "from lab import *"
   ]
  },
  {
   "cell_type": "code",
   "execution_count": 205,
   "id": "96061402",
   "metadata": {},
   "outputs": [],
   "source": [
    "import pandas as pd\n",
    "import numpy as np\n",
    "import plotly.express as px\n",
    "import statsmodels.api as sm\n",
    "from pathlib import Path\n",
    "from sklearn.preprocessing import Binarizer, QuantileTransformer, FunctionTransformer\n",
    "import itertools\n",
    "import warnings\n",
    "warnings.filterwarnings('ignore')"
   ]
  },
  {
   "cell_type": "markdown",
   "id": "70d0813f",
   "metadata": {},
   "source": [
    "## Part 1: Scaling Transformations 📐\n",
    "\n",
    "A scaling transformation transforms the scale of the data of a particular quantitative column. Mathematically, each data point $d_i$ is replaced with a transformed value $t_i = f(d_i)$, where $f$ is a transformation function. We can transform any column in a dataset, whether it corresponds to a feature or a target.\n",
    "\n",
    "Generally, the goal of a scaling transformation is to change the data from a complicated, non-linear relationship into a **linear** relationship. Linear relationships are very easy to understand and are easily used by models, like linear regression.\n",
    "\n",
    "However, non-linear growth is a commonly seen relationship in data. Sometimes this growth is by a **fixed power** and sometimes it is **exponential**. The scaling transformations that turn these types of growth linear are **root** and **log** transformations respectively. (Generally, it is more difficult to determine which transformation is appropriate for a given dataset, though the [Tukey-Mosteller bulge diagram](https://freakonometrics.hypotheses.org/files/2014/06/Selection_005.png) is useful.)\n",
    "\n",
    "Let's start by looking at some examples of transformations."
   ]
  },
  {
   "cell_type": "markdown",
   "id": "bd826ff5",
   "metadata": {},
   "source": [
    "#### Example 1\n",
    "\n",
    "Run the cell below to generate a scatter plot."
   ]
  },
  {
   "cell_type": "code",
   "execution_count": 8,
   "id": "3342e216",
   "metadata": {},
   "outputs": [
    {
     "data": {
      "application/vnd.plotly.v1+json": {
       "config": {
        "plotlyServerURL": "https://plot.ly"
       },
       "data": [
        {
         "hovertemplate": "x=%{x}<br>y=%{y}<extra></extra>",
         "legendgroup": "",
         "marker": {
          "color": "#636efa",
          "symbol": "circle"
         },
         "mode": "markers",
         "name": "",
         "orientation": "v",
         "showlegend": false,
         "type": "scatter",
         "x": [
          1.3334940281767342,
          2.012906540533137,
          2.611190293404091,
          4.474316911247471,
          5.350835897323757,
          5.474459218046441,
          6.816225941941417,
          7.431270154637486,
          8.33892623870457,
          10.886129139153715,
          10.826270504489068,
          12.335070081448576,
          13.161135760174652,
          14.030171467085244,
          14.478274999126636,
          15.495029061706077,
          17.220868186191105,
          18.5644384267234,
          18.080966116121026,
          19.530615684439937,
          20.89907973878431,
          22.52268563867706,
          23.26908098290725,
          24.406059334886127,
          25.120553150314763,
          25.523745234498506,
          26.931866621840683,
          28.633624104278088,
          29.08681682229509,
          29.38837261289643,
          31.707659990558877,
          32.22885548989133,
          33.36443792144573,
          34.98421736545491,
          34.72610599608749,
          35.66029086417425,
          35.74688484148996,
          38.07348024745351,
          39.30309774522677,
          39.9887305549735,
          41.00671112869007,
          42.46797244687282,
          43.21031133008538,
          44.205809820452664,
          44.96433803761893,
          45.97728121222439,
          47.52044298649494,
          47.95298263267223,
          48.789578023359766,
          49.72400571756281,
          50.939451226027174,
          52.095070679515,
          53.256068697373195,
          54.06576923333343,
          54.83419143789176,
          55.18380685969189,
          57.30955703637515,
          57.503713109716045,
          58.919326806597496,
          60.596202165340415,
          61.12536827598895,
          61.593191876264754,
          63.35181181506139,
          63.8659289304322,
          64.75872026067347,
          66.62230524012053,
          67.3384300585266,
          69.59375134328317,
          68.4597176226692,
          70.00511465072638,
          71.21891484021818,
          72.66389381148909,
          72.87442748457717,
          74.79655531358348,
          75.08540885355,
          75.64537304892008,
          76.93348770446904,
          77.99132153025484,
          78.94945354330945,
          79.71798018622445,
          80.9104822024308,
          82.50552941405732,
          83.460497917877,
          84.96654491707238,
          84.60231839055565,
          85.49423240163344,
          88.07538997279127,
          88.21257004190318,
          89.22057575353669,
          89.59128033656711,
          91.2189462398995,
          92.0498616389471,
          93.03270303426204,
          94.61221533571333,
          94.61520047551814,
          96.09605983956332,
          96.13837346912635,
          98.23062960130152,
          98.45731661056149,
          100.91168911732761
         ],
         "xaxis": "x",
         "y": [
          22.920753043397713,
          -12.779724936945986,
          138.82899499135644,
          126.69779702313319,
          79.8022686364038,
          -59.8096355143432,
          -101.70830514795452,
          -84.88263937407467,
          273.49378113560925,
          -52.757347963372155,
          547.4787294329273,
          1083.8563487112756,
          -169.59280973833006,
          227.03733524935456,
          817.6370902087476,
          656.5826326094747,
          191.59587710718733,
          618.4855987790022,
          664.2859770119368,
          1121.7285220895,
          372.03616139554674,
          990.739868305774,
          963.2374704318458,
          1400.1628062515333,
          908.131612728823,
          378.77972661038916,
          604.3852788304825,
          2640.3525633248028,
          1290.1206834808847,
          1819.5201380007156,
          2224.0613071635353,
          2256.9597049883705,
          3694.815261425011,
          2197.9369224377365,
          3349.325473083215,
          3005.466884408579,
          3044.7420558137314,
          1738.5577761651173,
          2486.226718360496,
          4219.211150473849,
          2803.8932025297518,
          3472.937440762097,
          3578.536340828953,
          2222.433801498799,
          2712.523270087474,
          4610.759622032107,
          3275.3940189067316,
          2690.143803430548,
          5851.178825808349,
          6314.1032554386975,
          5098.997721340042,
          4007.988478933152,
          7258.8857604283,
          6600.850986586598,
          3313.5948364311184,
          4698.650718386465,
          4112.723229636089,
          2975.411149941616,
          9215.114987457786,
          9860.193032006418,
          3495.7132325463886,
          8663.88697341136,
          7864.076901369791,
          8156.182901121289,
          9820.51303700965,
          10470.951313609272,
          8645.407924154239,
          8498.623177425507,
          10463.251725677303,
          13221.310770766959,
          6755.064820387253,
          8340.680730944634,
          10083.033185115151,
          9624.85794735366,
          10067.571217450648,
          12681.821021908298,
          12922.923413471495,
          11633.433084486482,
          12592.534320137474,
          10523.392327764599,
          14997.859965551079,
          12247.141142240125,
          10553.883385243027,
          12698.174422349659,
          14094.596906850538,
          17872.05401895161,
          15563.806114015837,
          14032.834543760842,
          21667.282037066718,
          15623.84655347914,
          20190.39440608535,
          18197.371428074384,
          18178.161901581436,
          14356.219351696664,
          18923.068886245568,
          16650.691613126874,
          15536.731654479374,
          20563.644688474044,
          18205.58247167097,
          20374.95811153422
         ],
         "yaxis": "y"
        },
        {
         "hovertemplate": "<b>OLS trendline</b><br>y = 200.569 * x + -3485.84<br>R<sup>2</sup>=0.872782<br><br>x=%{x}<br>y=%{y} <b>(trend)</b><extra></extra>",
         "legendgroup": "",
         "line": {
          "color": "red"
         },
         "marker": {
          "color": "#636efa",
          "symbol": "circle"
         },
         "mode": "lines",
         "name": "",
         "showlegend": false,
         "type": "scatter",
         "x": [
          1.3334940281767342,
          2.012906540533137,
          2.611190293404091,
          4.474316911247471,
          5.350835897323757,
          5.474459218046441,
          6.816225941941417,
          7.431270154637486,
          8.33892623870457,
          10.826270504489068,
          10.886129139153715,
          12.335070081448576,
          13.161135760174652,
          14.030171467085244,
          14.478274999126636,
          15.495029061706077,
          17.220868186191105,
          18.080966116121026,
          18.5644384267234,
          19.530615684439937,
          20.89907973878431,
          22.52268563867706,
          23.26908098290725,
          24.406059334886127,
          25.120553150314763,
          25.523745234498506,
          26.931866621840683,
          28.633624104278088,
          29.08681682229509,
          29.38837261289643,
          31.707659990558877,
          32.22885548989133,
          33.36443792144573,
          34.72610599608749,
          34.98421736545491,
          35.66029086417425,
          35.74688484148996,
          38.07348024745351,
          39.30309774522677,
          39.9887305549735,
          41.00671112869007,
          42.46797244687282,
          43.21031133008538,
          44.205809820452664,
          44.96433803761893,
          45.97728121222439,
          47.52044298649494,
          47.95298263267223,
          48.789578023359766,
          49.72400571756281,
          50.939451226027174,
          52.095070679515,
          53.256068697373195,
          54.06576923333343,
          54.83419143789176,
          55.18380685969189,
          57.30955703637515,
          57.503713109716045,
          58.919326806597496,
          60.596202165340415,
          61.12536827598895,
          61.593191876264754,
          63.35181181506139,
          63.8659289304322,
          64.75872026067347,
          66.62230524012053,
          67.3384300585266,
          68.4597176226692,
          69.59375134328317,
          70.00511465072638,
          71.21891484021818,
          72.66389381148909,
          72.87442748457717,
          74.79655531358348,
          75.08540885355,
          75.64537304892008,
          76.93348770446904,
          77.99132153025484,
          78.94945354330945,
          79.71798018622445,
          80.9104822024308,
          82.50552941405732,
          83.460497917877,
          84.60231839055565,
          84.96654491707238,
          85.49423240163344,
          88.07538997279127,
          88.21257004190318,
          89.22057575353669,
          89.59128033656711,
          91.2189462398995,
          92.0498616389471,
          93.03270303426204,
          94.61221533571333,
          94.61520047551814,
          96.09605983956332,
          96.13837346912635,
          98.23062960130152,
          98.45731661056149,
          100.91168911732761
         ],
         "xaxis": "x",
         "y": [
          -3218.381533006661,
          -3082.1121758220434,
          -2962.114764919257,
          -2588.428584653732,
          -2412.6257011029625,
          -2387.830646343843,
          -2118.713305065082,
          -1995.354258859811,
          -1813.3062263742886,
          -1314.4210895378708,
          -1302.4152793425158,
          -1011.8020698209644,
          -846.1185756476525,
          -671.8166088786559,
          -581.940754146965,
          -378.0110060149969,
          -31.860495359889942,
          140.64882687921516,
          237.61857616135217,
          431.40416509434425,
          705.8761738140493,
          1031.5218283696088,
          1181.2258916802423,
          1409.2689529121085,
          1552.574545862052,
          1633.4425386269886,
          1915.8685946699086,
          2257.1890649267334,
          2348.0856546152836,
          2408.568517372729,
          2873.7465856781128,
          2978.282452136063,
          3206.0455344516376,
          3479.1544776276974,
          3530.9237190621106,
          3666.52337229857,
          3683.8914740191944,
          4150.535309146306,
          4397.158947888806,
          4534.675906363452,
          4738.8516550932845,
          5031.935954964192,
          5180.826416338941,
          5380.492947192358,
          5532.630493498568,
          5735.795894131672,
          6045.3069190057795,
          6132.061134551521,
          6299.856566692167,
          6487.274164850496,
          6731.05533625831,
          6962.837231959131,
          7195.697903066642,
          7358.099050441244,
          7512.221027821934,
          7582.343181777116,
          8008.703610593828,
          8047.64537693824,
          8331.574160979506,
          8667.904038717692,
          8774.03856587243,
          8867.869662777422,
          9220.595001556812,
          9323.711160819477,
          9502.777778609641,
          9876.555892185128,
          10020.188614417002,
          10245.08458381102,
          10472.537042108817,
          10555.043932186842,
          10798.49510296223,
          11088.31366234885,
          11130.540273981194,
          11516.060291528287,
          11573.99547154907,
          11686.307151951936,
          11944.663530292615,
          12156.832621715466,
          12349.004580786577,
          12503.147505305376,
          12742.326914330677,
          13062.244570032377,
          13253.782025967248,
          13482.796268422846,
          13555.848962824777,
          13661.686922838357,
          14179.388137662874,
          14206.902261257075,
          14409.077357924512,
          14483.429352208137,
          14809.889319201022,
          14976.54551884961,
          15173.673423794262,
          15490.475251946425,
          15491.073979633817,
          15788.089047724588,
          15796.575866845276,
          16216.218415388043,
          16261.684891898496,
          16753.956902946138
         ],
         "yaxis": "y"
        }
       ],
       "layout": {
        "legend": {
         "tracegroupgap": 0
        },
        "margin": {
         "t": 60
        },
        "template": {
         "data": {
          "bar": [
           {
            "error_x": {
             "color": "#2a3f5f"
            },
            "error_y": {
             "color": "#2a3f5f"
            },
            "marker": {
             "line": {
              "color": "#E5ECF6",
              "width": 0.5
             },
             "pattern": {
              "fillmode": "overlay",
              "size": 10,
              "solidity": 0.2
             }
            },
            "type": "bar"
           }
          ],
          "barpolar": [
           {
            "marker": {
             "line": {
              "color": "#E5ECF6",
              "width": 0.5
             },
             "pattern": {
              "fillmode": "overlay",
              "size": 10,
              "solidity": 0.2
             }
            },
            "type": "barpolar"
           }
          ],
          "carpet": [
           {
            "aaxis": {
             "endlinecolor": "#2a3f5f",
             "gridcolor": "white",
             "linecolor": "white",
             "minorgridcolor": "white",
             "startlinecolor": "#2a3f5f"
            },
            "baxis": {
             "endlinecolor": "#2a3f5f",
             "gridcolor": "white",
             "linecolor": "white",
             "minorgridcolor": "white",
             "startlinecolor": "#2a3f5f"
            },
            "type": "carpet"
           }
          ],
          "choropleth": [
           {
            "colorbar": {
             "outlinewidth": 0,
             "ticks": ""
            },
            "type": "choropleth"
           }
          ],
          "contour": [
           {
            "colorbar": {
             "outlinewidth": 0,
             "ticks": ""
            },
            "colorscale": [
             [
              0,
              "#0d0887"
             ],
             [
              0.1111111111111111,
              "#46039f"
             ],
             [
              0.2222222222222222,
              "#7201a8"
             ],
             [
              0.3333333333333333,
              "#9c179e"
             ],
             [
              0.4444444444444444,
              "#bd3786"
             ],
             [
              0.5555555555555556,
              "#d8576b"
             ],
             [
              0.6666666666666666,
              "#ed7953"
             ],
             [
              0.7777777777777778,
              "#fb9f3a"
             ],
             [
              0.8888888888888888,
              "#fdca26"
             ],
             [
              1,
              "#f0f921"
             ]
            ],
            "type": "contour"
           }
          ],
          "contourcarpet": [
           {
            "colorbar": {
             "outlinewidth": 0,
             "ticks": ""
            },
            "type": "contourcarpet"
           }
          ],
          "heatmap": [
           {
            "colorbar": {
             "outlinewidth": 0,
             "ticks": ""
            },
            "colorscale": [
             [
              0,
              "#0d0887"
             ],
             [
              0.1111111111111111,
              "#46039f"
             ],
             [
              0.2222222222222222,
              "#7201a8"
             ],
             [
              0.3333333333333333,
              "#9c179e"
             ],
             [
              0.4444444444444444,
              "#bd3786"
             ],
             [
              0.5555555555555556,
              "#d8576b"
             ],
             [
              0.6666666666666666,
              "#ed7953"
             ],
             [
              0.7777777777777778,
              "#fb9f3a"
             ],
             [
              0.8888888888888888,
              "#fdca26"
             ],
             [
              1,
              "#f0f921"
             ]
            ],
            "type": "heatmap"
           }
          ],
          "heatmapgl": [
           {
            "colorbar": {
             "outlinewidth": 0,
             "ticks": ""
            },
            "colorscale": [
             [
              0,
              "#0d0887"
             ],
             [
              0.1111111111111111,
              "#46039f"
             ],
             [
              0.2222222222222222,
              "#7201a8"
             ],
             [
              0.3333333333333333,
              "#9c179e"
             ],
             [
              0.4444444444444444,
              "#bd3786"
             ],
             [
              0.5555555555555556,
              "#d8576b"
             ],
             [
              0.6666666666666666,
              "#ed7953"
             ],
             [
              0.7777777777777778,
              "#fb9f3a"
             ],
             [
              0.8888888888888888,
              "#fdca26"
             ],
             [
              1,
              "#f0f921"
             ]
            ],
            "type": "heatmapgl"
           }
          ],
          "histogram": [
           {
            "marker": {
             "pattern": {
              "fillmode": "overlay",
              "size": 10,
              "solidity": 0.2
             }
            },
            "type": "histogram"
           }
          ],
          "histogram2d": [
           {
            "colorbar": {
             "outlinewidth": 0,
             "ticks": ""
            },
            "colorscale": [
             [
              0,
              "#0d0887"
             ],
             [
              0.1111111111111111,
              "#46039f"
             ],
             [
              0.2222222222222222,
              "#7201a8"
             ],
             [
              0.3333333333333333,
              "#9c179e"
             ],
             [
              0.4444444444444444,
              "#bd3786"
             ],
             [
              0.5555555555555556,
              "#d8576b"
             ],
             [
              0.6666666666666666,
              "#ed7953"
             ],
             [
              0.7777777777777778,
              "#fb9f3a"
             ],
             [
              0.8888888888888888,
              "#fdca26"
             ],
             [
              1,
              "#f0f921"
             ]
            ],
            "type": "histogram2d"
           }
          ],
          "histogram2dcontour": [
           {
            "colorbar": {
             "outlinewidth": 0,
             "ticks": ""
            },
            "colorscale": [
             [
              0,
              "#0d0887"
             ],
             [
              0.1111111111111111,
              "#46039f"
             ],
             [
              0.2222222222222222,
              "#7201a8"
             ],
             [
              0.3333333333333333,
              "#9c179e"
             ],
             [
              0.4444444444444444,
              "#bd3786"
             ],
             [
              0.5555555555555556,
              "#d8576b"
             ],
             [
              0.6666666666666666,
              "#ed7953"
             ],
             [
              0.7777777777777778,
              "#fb9f3a"
             ],
             [
              0.8888888888888888,
              "#fdca26"
             ],
             [
              1,
              "#f0f921"
             ]
            ],
            "type": "histogram2dcontour"
           }
          ],
          "mesh3d": [
           {
            "colorbar": {
             "outlinewidth": 0,
             "ticks": ""
            },
            "type": "mesh3d"
           }
          ],
          "parcoords": [
           {
            "line": {
             "colorbar": {
              "outlinewidth": 0,
              "ticks": ""
             }
            },
            "type": "parcoords"
           }
          ],
          "pie": [
           {
            "automargin": true,
            "type": "pie"
           }
          ],
          "scatter": [
           {
            "fillpattern": {
             "fillmode": "overlay",
             "size": 10,
             "solidity": 0.2
            },
            "type": "scatter"
           }
          ],
          "scatter3d": [
           {
            "line": {
             "colorbar": {
              "outlinewidth": 0,
              "ticks": ""
             }
            },
            "marker": {
             "colorbar": {
              "outlinewidth": 0,
              "ticks": ""
             }
            },
            "type": "scatter3d"
           }
          ],
          "scattercarpet": [
           {
            "marker": {
             "colorbar": {
              "outlinewidth": 0,
              "ticks": ""
             }
            },
            "type": "scattercarpet"
           }
          ],
          "scattergeo": [
           {
            "marker": {
             "colorbar": {
              "outlinewidth": 0,
              "ticks": ""
             }
            },
            "type": "scattergeo"
           }
          ],
          "scattergl": [
           {
            "marker": {
             "colorbar": {
              "outlinewidth": 0,
              "ticks": ""
             }
            },
            "type": "scattergl"
           }
          ],
          "scattermapbox": [
           {
            "marker": {
             "colorbar": {
              "outlinewidth": 0,
              "ticks": ""
             }
            },
            "type": "scattermapbox"
           }
          ],
          "scatterpolar": [
           {
            "marker": {
             "colorbar": {
              "outlinewidth": 0,
              "ticks": ""
             }
            },
            "type": "scatterpolar"
           }
          ],
          "scatterpolargl": [
           {
            "marker": {
             "colorbar": {
              "outlinewidth": 0,
              "ticks": ""
             }
            },
            "type": "scatterpolargl"
           }
          ],
          "scatterternary": [
           {
            "marker": {
             "colorbar": {
              "outlinewidth": 0,
              "ticks": ""
             }
            },
            "type": "scatterternary"
           }
          ],
          "surface": [
           {
            "colorbar": {
             "outlinewidth": 0,
             "ticks": ""
            },
            "colorscale": [
             [
              0,
              "#0d0887"
             ],
             [
              0.1111111111111111,
              "#46039f"
             ],
             [
              0.2222222222222222,
              "#7201a8"
             ],
             [
              0.3333333333333333,
              "#9c179e"
             ],
             [
              0.4444444444444444,
              "#bd3786"
             ],
             [
              0.5555555555555556,
              "#d8576b"
             ],
             [
              0.6666666666666666,
              "#ed7953"
             ],
             [
              0.7777777777777778,
              "#fb9f3a"
             ],
             [
              0.8888888888888888,
              "#fdca26"
             ],
             [
              1,
              "#f0f921"
             ]
            ],
            "type": "surface"
           }
          ],
          "table": [
           {
            "cells": {
             "fill": {
              "color": "#EBF0F8"
             },
             "line": {
              "color": "white"
             }
            },
            "header": {
             "fill": {
              "color": "#C8D4E3"
             },
             "line": {
              "color": "white"
             }
            },
            "type": "table"
           }
          ]
         },
         "layout": {
          "annotationdefaults": {
           "arrowcolor": "#2a3f5f",
           "arrowhead": 0,
           "arrowwidth": 1
          },
          "autotypenumbers": "strict",
          "coloraxis": {
           "colorbar": {
            "outlinewidth": 0,
            "ticks": ""
           }
          },
          "colorscale": {
           "diverging": [
            [
             0,
             "#8e0152"
            ],
            [
             0.1,
             "#c51b7d"
            ],
            [
             0.2,
             "#de77ae"
            ],
            [
             0.3,
             "#f1b6da"
            ],
            [
             0.4,
             "#fde0ef"
            ],
            [
             0.5,
             "#f7f7f7"
            ],
            [
             0.6,
             "#e6f5d0"
            ],
            [
             0.7,
             "#b8e186"
            ],
            [
             0.8,
             "#7fbc41"
            ],
            [
             0.9,
             "#4d9221"
            ],
            [
             1,
             "#276419"
            ]
           ],
           "sequential": [
            [
             0,
             "#0d0887"
            ],
            [
             0.1111111111111111,
             "#46039f"
            ],
            [
             0.2222222222222222,
             "#7201a8"
            ],
            [
             0.3333333333333333,
             "#9c179e"
            ],
            [
             0.4444444444444444,
             "#bd3786"
            ],
            [
             0.5555555555555556,
             "#d8576b"
            ],
            [
             0.6666666666666666,
             "#ed7953"
            ],
            [
             0.7777777777777778,
             "#fb9f3a"
            ],
            [
             0.8888888888888888,
             "#fdca26"
            ],
            [
             1,
             "#f0f921"
            ]
           ],
           "sequentialminus": [
            [
             0,
             "#0d0887"
            ],
            [
             0.1111111111111111,
             "#46039f"
            ],
            [
             0.2222222222222222,
             "#7201a8"
            ],
            [
             0.3333333333333333,
             "#9c179e"
            ],
            [
             0.4444444444444444,
             "#bd3786"
            ],
            [
             0.5555555555555556,
             "#d8576b"
            ],
            [
             0.6666666666666666,
             "#ed7953"
            ],
            [
             0.7777777777777778,
             "#fb9f3a"
            ],
            [
             0.8888888888888888,
             "#fdca26"
            ],
            [
             1,
             "#f0f921"
            ]
           ]
          },
          "colorway": [
           "#636efa",
           "#EF553B",
           "#00cc96",
           "#ab63fa",
           "#FFA15A",
           "#19d3f3",
           "#FF6692",
           "#B6E880",
           "#FF97FF",
           "#FECB52"
          ],
          "font": {
           "color": "#2a3f5f"
          },
          "geo": {
           "bgcolor": "white",
           "lakecolor": "white",
           "landcolor": "#E5ECF6",
           "showlakes": true,
           "showland": true,
           "subunitcolor": "white"
          },
          "hoverlabel": {
           "align": "left"
          },
          "hovermode": "closest",
          "mapbox": {
           "style": "light"
          },
          "paper_bgcolor": "white",
          "plot_bgcolor": "#E5ECF6",
          "polar": {
           "angularaxis": {
            "gridcolor": "white",
            "linecolor": "white",
            "ticks": ""
           },
           "bgcolor": "#E5ECF6",
           "radialaxis": {
            "gridcolor": "white",
            "linecolor": "white",
            "ticks": ""
           }
          },
          "scene": {
           "xaxis": {
            "backgroundcolor": "#E5ECF6",
            "gridcolor": "white",
            "gridwidth": 2,
            "linecolor": "white",
            "showbackground": true,
            "ticks": "",
            "zerolinecolor": "white"
           },
           "yaxis": {
            "backgroundcolor": "#E5ECF6",
            "gridcolor": "white",
            "gridwidth": 2,
            "linecolor": "white",
            "showbackground": true,
            "ticks": "",
            "zerolinecolor": "white"
           },
           "zaxis": {
            "backgroundcolor": "#E5ECF6",
            "gridcolor": "white",
            "gridwidth": 2,
            "linecolor": "white",
            "showbackground": true,
            "ticks": "",
            "zerolinecolor": "white"
           }
          },
          "shapedefaults": {
           "line": {
            "color": "#2a3f5f"
           }
          },
          "ternary": {
           "aaxis": {
            "gridcolor": "white",
            "linecolor": "white",
            "ticks": ""
           },
           "baxis": {
            "gridcolor": "white",
            "linecolor": "white",
            "ticks": ""
           },
           "bgcolor": "#E5ECF6",
           "caxis": {
            "gridcolor": "white",
            "linecolor": "white",
            "ticks": ""
           }
          },
          "title": {
           "x": 0.05
          },
          "xaxis": {
           "automargin": true,
           "gridcolor": "white",
           "linecolor": "white",
           "ticks": "",
           "title": {
            "standoff": 15
           },
           "zerolinecolor": "white",
           "zerolinewidth": 2
          },
          "yaxis": {
           "automargin": true,
           "gridcolor": "white",
           "linecolor": "white",
           "ticks": "",
           "title": {
            "standoff": 15
           },
           "zerolinecolor": "white",
           "zerolinewidth": 2
          }
         }
        },
        "xaxis": {
         "anchor": "y",
         "domain": [
          0,
          1
         ],
         "title": {
          "text": "x"
         }
        },
        "yaxis": {
         "anchor": "x",
         "domain": [
          0,
          1
         ],
         "title": {
          "text": "y"
         }
        }
       }
      }
     },
     "metadata": {},
     "output_type": "display_data"
    }
   ],
   "source": [
    "# By setting a seed, we guarantee that we will see the same results each time we run this cell.\n",
    "np.random.seed(23)\n",
    "\n",
    "# Generates a random scatter plot\n",
    "x = np.arange(1, 101) + np.random.normal(0, 0.5, 100)\n",
    "y = 2 * ((x + np.random.normal(0, 1, 100)) ** 2) + np.abs(x) * np.random.normal(0, 30, 100)\n",
    "df_1 = pd.DataFrame().assign(x=x, y=y)\n",
    "\n",
    "px.scatter(df_1, x='x', y='y', trendline=\"ols\", trendline_color_override=\"red\")"
   ]
  },
  {
   "cell_type": "markdown",
   "id": "b3d52567",
   "metadata": {},
   "source": [
    "It doesn't appear to be the case that `'x'` and `'y'` are linearly associated here, and they aren't – there is a **quadratic** relationship between them. Note that if we were to create a **residual plot** above, there would be a pattern – the residuals for smaller `'x'` would mostly be positive, and the residuals for larger `'x'` would mostly be negative. From [DSC 10](https://inferentialthinking.com/chapters/15/5/Visual_Diagnostics.html), we know that patterns in a residual plot imply that the relationship between the two variables is non-linear.\n",
    "\n",
    "To linearize the relationship, we can take the square root of each `'y'` value:"
   ]
  },
  {
   "cell_type": "code",
   "execution_count": 9,
   "id": "5ff41fa3",
   "metadata": {},
   "outputs": [
    {
     "data": {
      "application/vnd.plotly.v1+json": {
       "config": {
        "plotlyServerURL": "https://plot.ly"
       },
       "data": [
        {
         "hovertemplate": "x=%{x}<br>root y=%{y}<extra></extra>",
         "legendgroup": "",
         "marker": {
          "color": "#636efa",
          "symbol": "circle"
         },
         "mode": "markers",
         "name": "",
         "orientation": "v",
         "showlegend": false,
         "type": "scatter",
         "x": [
          1.3334940281767342,
          2.012906540533137,
          2.611190293404091,
          4.474316911247471,
          5.350835897323757,
          5.474459218046441,
          6.816225941941417,
          7.431270154637486,
          8.33892623870457,
          10.886129139153715,
          10.826270504489068,
          12.335070081448576,
          13.161135760174652,
          14.030171467085244,
          14.478274999126636,
          15.495029061706077,
          17.220868186191105,
          18.5644384267234,
          18.080966116121026,
          19.530615684439937,
          20.89907973878431,
          22.52268563867706,
          23.26908098290725,
          24.406059334886127,
          25.120553150314763,
          25.523745234498506,
          26.931866621840683,
          28.633624104278088,
          29.08681682229509,
          29.38837261289643,
          31.707659990558877,
          32.22885548989133,
          33.36443792144573,
          34.98421736545491,
          34.72610599608749,
          35.66029086417425,
          35.74688484148996,
          38.07348024745351,
          39.30309774522677,
          39.9887305549735,
          41.00671112869007,
          42.46797244687282,
          43.21031133008538,
          44.205809820452664,
          44.96433803761893,
          45.97728121222439,
          47.52044298649494,
          47.95298263267223,
          48.789578023359766,
          49.72400571756281,
          50.939451226027174,
          52.095070679515,
          53.256068697373195,
          54.06576923333343,
          54.83419143789176,
          55.18380685969189,
          57.30955703637515,
          57.503713109716045,
          58.919326806597496,
          60.596202165340415,
          61.12536827598895,
          61.593191876264754,
          63.35181181506139,
          63.8659289304322,
          64.75872026067347,
          66.62230524012053,
          67.3384300585266,
          69.59375134328317,
          68.4597176226692,
          70.00511465072638,
          71.21891484021818,
          72.66389381148909,
          72.87442748457717,
          74.79655531358348,
          75.08540885355,
          75.64537304892008,
          76.93348770446904,
          77.99132153025484,
          78.94945354330945,
          79.71798018622445,
          80.9104822024308,
          82.50552941405732,
          83.460497917877,
          84.96654491707238,
          84.60231839055565,
          85.49423240163344,
          88.07538997279127,
          88.21257004190318,
          89.22057575353669,
          89.59128033656711,
          91.2189462398995,
          92.0498616389471,
          93.03270303426204,
          94.61221533571333,
          94.61520047551814,
          96.09605983956332,
          96.13837346912635,
          98.23062960130152,
          98.45731661056149,
          100.91168911732761
         ],
         "xaxis": "x",
         "y": [
          4.787562327886469,
          null,
          11.782571662899251,
          11.256011594838252,
          8.933211552202478,
          null,
          null,
          null,
          16.537647388174936,
          null,
          23.398263384980673,
          32.92197364544349,
          null,
          15.067758136144692,
          28.59435416666632,
          25.62386841617547,
          13.84181625030427,
          24.869370695274984,
          25.77374588630719,
          33.4922158432299,
          19.288238939715225,
          31.47602052842408,
          31.036067251374583,
          37.41874939454195,
          30.135222128413506,
          19.462264169679464,
          24.584248591943634,
          51.38436107732393,
          35.91825000582413,
          42.65583357526513,
          47.1599544864447,
          47.5074699914484,
          60.78499207390761,
          46.882159959175695,
          57.873357195545644,
          54.822138634027944,
          55.17918136230123,
          41.69601631049563,
          49.86207695594414,
          64.95545512483035,
          52.95180074869741,
          58.93163361694717,
          59.820868773605696,
          47.142696162807646,
          52.081890039508686,
          67.90257448751193,
          57.2310581669318,
          51.86659621982676,
          76.49299854109753,
          79.46133182522614,
          71.4072665863919,
          63.30867617422712,
          85.199094833386,
          81.2456213379318,
          57.56383271144407,
          68.5467046500885,
          64.13051714773621,
          54.54732944830219,
          95.9953904490095,
          99.29850468162357,
          59.12455693319307,
          93.08000308020708,
          88.67963070158666,
          90.31158785627285,
          99.0985016890248,
          102.32766641338632,
          92.98068575867914,
          92.18797740174966,
          102.29003727478694,
          114.98395875411039,
          82.18920136117185,
          91.32732740502502,
          100.41430767134308,
          98.10636038174925,
          100.33728727372815,
          112.61359163932343,
          113.67903682505185,
          107.85839366728248,
          112.21646189457888,
          102.58358702913736,
          122.46575017347128,
          110.6668023493953,
          102.73209520516471,
          112.68617671369306,
          118.72066756403679,
          133.68640177277422,
          124.75498432534003,
          118.46026567487024,
          147.19810473327,
          124.99538612876533,
          142.09290765581986,
          134.8976331448198,
          134.82641396099444,
          119.81744176745164,
          137.56114599059418,
          129.03755892424064,
          124.64642656121103,
          143.40029528726237,
          134.9280640625625,
          142.74087750723064
         ],
         "yaxis": "y"
        },
        {
         "hovertemplate": "<b>OLS trendline</b><br>root y = 1.38582 * x + 0.49141<br>R<sup>2</sup>=0.942240<br><br>x=%{x}<br>root y=%{y} <b>(trend)</b><extra></extra>",
         "legendgroup": "",
         "line": {
          "color": "red"
         },
         "marker": {
          "color": "#636efa",
          "symbol": "circle"
         },
         "mode": "lines",
         "name": "",
         "showlegend": false,
         "type": "scatter",
         "x": [
          1.3334940281767342,
          2.611190293404091,
          4.474316911247471,
          5.350835897323757,
          8.33892623870457,
          10.826270504489068,
          12.335070081448576,
          14.030171467085244,
          14.478274999126636,
          15.495029061706077,
          17.220868186191105,
          18.080966116121026,
          18.5644384267234,
          19.530615684439937,
          20.89907973878431,
          22.52268563867706,
          23.26908098290725,
          24.406059334886127,
          25.120553150314763,
          25.523745234498506,
          26.931866621840683,
          28.633624104278088,
          29.08681682229509,
          29.38837261289643,
          31.707659990558877,
          32.22885548989133,
          33.36443792144573,
          34.72610599608749,
          34.98421736545491,
          35.66029086417425,
          35.74688484148996,
          38.07348024745351,
          39.30309774522677,
          39.9887305549735,
          41.00671112869007,
          42.46797244687282,
          43.21031133008538,
          44.205809820452664,
          44.96433803761893,
          45.97728121222439,
          47.52044298649494,
          47.95298263267223,
          48.789578023359766,
          49.72400571756281,
          50.939451226027174,
          52.095070679515,
          53.256068697373195,
          54.06576923333343,
          54.83419143789176,
          55.18380685969189,
          57.30955703637515,
          57.503713109716045,
          58.919326806597496,
          60.596202165340415,
          61.12536827598895,
          61.593191876264754,
          63.35181181506139,
          63.8659289304322,
          64.75872026067347,
          66.62230524012053,
          67.3384300585266,
          68.4597176226692,
          69.59375134328317,
          70.00511465072638,
          71.21891484021818,
          72.66389381148909,
          72.87442748457717,
          74.79655531358348,
          75.08540885355,
          75.64537304892008,
          76.93348770446904,
          77.99132153025484,
          78.94945354330945,
          79.71798018622445,
          80.9104822024308,
          82.50552941405732,
          83.460497917877,
          84.60231839055565,
          84.96654491707238,
          85.49423240163344,
          88.07538997279127,
          88.21257004190318,
          89.22057575353669,
          89.59128033656711,
          91.2189462398995,
          92.0498616389471,
          93.03270303426204,
          94.61221533571333,
          94.61520047551814,
          96.09605983956332,
          96.13837346912635,
          98.23062960130152,
          98.45731661056149,
          100.91168911732761
         ],
         "xaxis": "x",
         "y": [
          2.3393889979350595,
          4.110042709603725,
          6.691995988308853,
          7.906691247489141,
          12.047638824592495,
          15.494643778954943,
          17.58556448038791,
          19.934665469266655,
          20.555655139358354,
          21.96469060714234,
          24.356388489243173,
          25.548327163148553,
          26.218331501859513,
          27.55727675361011,
          29.453718046469994,
          31.70373934744068,
          32.7381070000676,
          34.31375137957127,
          35.3039093386132,
          35.86265994296622,
          37.81405905778932,
          40.17238418140666,
          40.80042653395688,
          41.21832779455767,
          44.43243658977557,
          45.15471837967639,
          46.72842826837183,
          48.61545157433425,
          48.973146800212504,
          49.91006121598346,
          50.03006465617112,
          53.254301044142075,
          54.95832636347534,
          55.908488238765656,
          57.31922342702036,
          59.34426478244588,
          60.373010920826744,
          61.75259004686866,
          62.80377164587872,
          64.20752591881262,
          66.3460663510578,
          66.94548731736343,
          68.10485576352711,
          69.39980191783256,
          71.08418744783995,
          72.6856649901028,
          74.29459624043777,
          75.41669332904668,
          76.48158618790444,
          76.96608932148513,
          79.91199089673532,
          80.18105576078803,
          82.14283784850988,
          84.466680892252,
          85.2000084939746,
          85.84832657768376,
          88.28545268252581,
          88.99792512479418,
          90.23517088159853,
          92.81775936578788,
          93.81017759712952,
          95.36407740988646,
          96.93564106801865,
          97.50571549571451,
          99.18782091406707,
          101.19029790988795,
          101.4820591365816,
          104.14577732012505,
          104.54607558082267,
          105.32208370412822,
          107.10717540234707,
          108.57313992062244,
          109.90093593236224,
          110.96597352371151,
          112.61856356301355,
          114.8290077369665,
          116.15241970257486,
          117.73477437717975,
          118.23952583385736,
          118.97080432982516,
          122.54781739478784,
          122.73792392100262,
          124.13483577185592,
          124.64856463194505,
          126.90421235631183,
          128.0557093712495,
          129.41774807477998,
          131.60666369996056,
          131.61080055863275,
          133.6630012269499,
          133.7216401909032,
          136.62112513659824,
          136.93527193756884,
          140.33658405469367
         ],
         "yaxis": "y"
        }
       ],
       "layout": {
        "legend": {
         "tracegroupgap": 0
        },
        "margin": {
         "t": 60
        },
        "template": {
         "data": {
          "bar": [
           {
            "error_x": {
             "color": "#2a3f5f"
            },
            "error_y": {
             "color": "#2a3f5f"
            },
            "marker": {
             "line": {
              "color": "#E5ECF6",
              "width": 0.5
             },
             "pattern": {
              "fillmode": "overlay",
              "size": 10,
              "solidity": 0.2
             }
            },
            "type": "bar"
           }
          ],
          "barpolar": [
           {
            "marker": {
             "line": {
              "color": "#E5ECF6",
              "width": 0.5
             },
             "pattern": {
              "fillmode": "overlay",
              "size": 10,
              "solidity": 0.2
             }
            },
            "type": "barpolar"
           }
          ],
          "carpet": [
           {
            "aaxis": {
             "endlinecolor": "#2a3f5f",
             "gridcolor": "white",
             "linecolor": "white",
             "minorgridcolor": "white",
             "startlinecolor": "#2a3f5f"
            },
            "baxis": {
             "endlinecolor": "#2a3f5f",
             "gridcolor": "white",
             "linecolor": "white",
             "minorgridcolor": "white",
             "startlinecolor": "#2a3f5f"
            },
            "type": "carpet"
           }
          ],
          "choropleth": [
           {
            "colorbar": {
             "outlinewidth": 0,
             "ticks": ""
            },
            "type": "choropleth"
           }
          ],
          "contour": [
           {
            "colorbar": {
             "outlinewidth": 0,
             "ticks": ""
            },
            "colorscale": [
             [
              0,
              "#0d0887"
             ],
             [
              0.1111111111111111,
              "#46039f"
             ],
             [
              0.2222222222222222,
              "#7201a8"
             ],
             [
              0.3333333333333333,
              "#9c179e"
             ],
             [
              0.4444444444444444,
              "#bd3786"
             ],
             [
              0.5555555555555556,
              "#d8576b"
             ],
             [
              0.6666666666666666,
              "#ed7953"
             ],
             [
              0.7777777777777778,
              "#fb9f3a"
             ],
             [
              0.8888888888888888,
              "#fdca26"
             ],
             [
              1,
              "#f0f921"
             ]
            ],
            "type": "contour"
           }
          ],
          "contourcarpet": [
           {
            "colorbar": {
             "outlinewidth": 0,
             "ticks": ""
            },
            "type": "contourcarpet"
           }
          ],
          "heatmap": [
           {
            "colorbar": {
             "outlinewidth": 0,
             "ticks": ""
            },
            "colorscale": [
             [
              0,
              "#0d0887"
             ],
             [
              0.1111111111111111,
              "#46039f"
             ],
             [
              0.2222222222222222,
              "#7201a8"
             ],
             [
              0.3333333333333333,
              "#9c179e"
             ],
             [
              0.4444444444444444,
              "#bd3786"
             ],
             [
              0.5555555555555556,
              "#d8576b"
             ],
             [
              0.6666666666666666,
              "#ed7953"
             ],
             [
              0.7777777777777778,
              "#fb9f3a"
             ],
             [
              0.8888888888888888,
              "#fdca26"
             ],
             [
              1,
              "#f0f921"
             ]
            ],
            "type": "heatmap"
           }
          ],
          "heatmapgl": [
           {
            "colorbar": {
             "outlinewidth": 0,
             "ticks": ""
            },
            "colorscale": [
             [
              0,
              "#0d0887"
             ],
             [
              0.1111111111111111,
              "#46039f"
             ],
             [
              0.2222222222222222,
              "#7201a8"
             ],
             [
              0.3333333333333333,
              "#9c179e"
             ],
             [
              0.4444444444444444,
              "#bd3786"
             ],
             [
              0.5555555555555556,
              "#d8576b"
             ],
             [
              0.6666666666666666,
              "#ed7953"
             ],
             [
              0.7777777777777778,
              "#fb9f3a"
             ],
             [
              0.8888888888888888,
              "#fdca26"
             ],
             [
              1,
              "#f0f921"
             ]
            ],
            "type": "heatmapgl"
           }
          ],
          "histogram": [
           {
            "marker": {
             "pattern": {
              "fillmode": "overlay",
              "size": 10,
              "solidity": 0.2
             }
            },
            "type": "histogram"
           }
          ],
          "histogram2d": [
           {
            "colorbar": {
             "outlinewidth": 0,
             "ticks": ""
            },
            "colorscale": [
             [
              0,
              "#0d0887"
             ],
             [
              0.1111111111111111,
              "#46039f"
             ],
             [
              0.2222222222222222,
              "#7201a8"
             ],
             [
              0.3333333333333333,
              "#9c179e"
             ],
             [
              0.4444444444444444,
              "#bd3786"
             ],
             [
              0.5555555555555556,
              "#d8576b"
             ],
             [
              0.6666666666666666,
              "#ed7953"
             ],
             [
              0.7777777777777778,
              "#fb9f3a"
             ],
             [
              0.8888888888888888,
              "#fdca26"
             ],
             [
              1,
              "#f0f921"
             ]
            ],
            "type": "histogram2d"
           }
          ],
          "histogram2dcontour": [
           {
            "colorbar": {
             "outlinewidth": 0,
             "ticks": ""
            },
            "colorscale": [
             [
              0,
              "#0d0887"
             ],
             [
              0.1111111111111111,
              "#46039f"
             ],
             [
              0.2222222222222222,
              "#7201a8"
             ],
             [
              0.3333333333333333,
              "#9c179e"
             ],
             [
              0.4444444444444444,
              "#bd3786"
             ],
             [
              0.5555555555555556,
              "#d8576b"
             ],
             [
              0.6666666666666666,
              "#ed7953"
             ],
             [
              0.7777777777777778,
              "#fb9f3a"
             ],
             [
              0.8888888888888888,
              "#fdca26"
             ],
             [
              1,
              "#f0f921"
             ]
            ],
            "type": "histogram2dcontour"
           }
          ],
          "mesh3d": [
           {
            "colorbar": {
             "outlinewidth": 0,
             "ticks": ""
            },
            "type": "mesh3d"
           }
          ],
          "parcoords": [
           {
            "line": {
             "colorbar": {
              "outlinewidth": 0,
              "ticks": ""
             }
            },
            "type": "parcoords"
           }
          ],
          "pie": [
           {
            "automargin": true,
            "type": "pie"
           }
          ],
          "scatter": [
           {
            "fillpattern": {
             "fillmode": "overlay",
             "size": 10,
             "solidity": 0.2
            },
            "type": "scatter"
           }
          ],
          "scatter3d": [
           {
            "line": {
             "colorbar": {
              "outlinewidth": 0,
              "ticks": ""
             }
            },
            "marker": {
             "colorbar": {
              "outlinewidth": 0,
              "ticks": ""
             }
            },
            "type": "scatter3d"
           }
          ],
          "scattercarpet": [
           {
            "marker": {
             "colorbar": {
              "outlinewidth": 0,
              "ticks": ""
             }
            },
            "type": "scattercarpet"
           }
          ],
          "scattergeo": [
           {
            "marker": {
             "colorbar": {
              "outlinewidth": 0,
              "ticks": ""
             }
            },
            "type": "scattergeo"
           }
          ],
          "scattergl": [
           {
            "marker": {
             "colorbar": {
              "outlinewidth": 0,
              "ticks": ""
             }
            },
            "type": "scattergl"
           }
          ],
          "scattermapbox": [
           {
            "marker": {
             "colorbar": {
              "outlinewidth": 0,
              "ticks": ""
             }
            },
            "type": "scattermapbox"
           }
          ],
          "scatterpolar": [
           {
            "marker": {
             "colorbar": {
              "outlinewidth": 0,
              "ticks": ""
             }
            },
            "type": "scatterpolar"
           }
          ],
          "scatterpolargl": [
           {
            "marker": {
             "colorbar": {
              "outlinewidth": 0,
              "ticks": ""
             }
            },
            "type": "scatterpolargl"
           }
          ],
          "scatterternary": [
           {
            "marker": {
             "colorbar": {
              "outlinewidth": 0,
              "ticks": ""
             }
            },
            "type": "scatterternary"
           }
          ],
          "surface": [
           {
            "colorbar": {
             "outlinewidth": 0,
             "ticks": ""
            },
            "colorscale": [
             [
              0,
              "#0d0887"
             ],
             [
              0.1111111111111111,
              "#46039f"
             ],
             [
              0.2222222222222222,
              "#7201a8"
             ],
             [
              0.3333333333333333,
              "#9c179e"
             ],
             [
              0.4444444444444444,
              "#bd3786"
             ],
             [
              0.5555555555555556,
              "#d8576b"
             ],
             [
              0.6666666666666666,
              "#ed7953"
             ],
             [
              0.7777777777777778,
              "#fb9f3a"
             ],
             [
              0.8888888888888888,
              "#fdca26"
             ],
             [
              1,
              "#f0f921"
             ]
            ],
            "type": "surface"
           }
          ],
          "table": [
           {
            "cells": {
             "fill": {
              "color": "#EBF0F8"
             },
             "line": {
              "color": "white"
             }
            },
            "header": {
             "fill": {
              "color": "#C8D4E3"
             },
             "line": {
              "color": "white"
             }
            },
            "type": "table"
           }
          ]
         },
         "layout": {
          "annotationdefaults": {
           "arrowcolor": "#2a3f5f",
           "arrowhead": 0,
           "arrowwidth": 1
          },
          "autotypenumbers": "strict",
          "coloraxis": {
           "colorbar": {
            "outlinewidth": 0,
            "ticks": ""
           }
          },
          "colorscale": {
           "diverging": [
            [
             0,
             "#8e0152"
            ],
            [
             0.1,
             "#c51b7d"
            ],
            [
             0.2,
             "#de77ae"
            ],
            [
             0.3,
             "#f1b6da"
            ],
            [
             0.4,
             "#fde0ef"
            ],
            [
             0.5,
             "#f7f7f7"
            ],
            [
             0.6,
             "#e6f5d0"
            ],
            [
             0.7,
             "#b8e186"
            ],
            [
             0.8,
             "#7fbc41"
            ],
            [
             0.9,
             "#4d9221"
            ],
            [
             1,
             "#276419"
            ]
           ],
           "sequential": [
            [
             0,
             "#0d0887"
            ],
            [
             0.1111111111111111,
             "#46039f"
            ],
            [
             0.2222222222222222,
             "#7201a8"
            ],
            [
             0.3333333333333333,
             "#9c179e"
            ],
            [
             0.4444444444444444,
             "#bd3786"
            ],
            [
             0.5555555555555556,
             "#d8576b"
            ],
            [
             0.6666666666666666,
             "#ed7953"
            ],
            [
             0.7777777777777778,
             "#fb9f3a"
            ],
            [
             0.8888888888888888,
             "#fdca26"
            ],
            [
             1,
             "#f0f921"
            ]
           ],
           "sequentialminus": [
            [
             0,
             "#0d0887"
            ],
            [
             0.1111111111111111,
             "#46039f"
            ],
            [
             0.2222222222222222,
             "#7201a8"
            ],
            [
             0.3333333333333333,
             "#9c179e"
            ],
            [
             0.4444444444444444,
             "#bd3786"
            ],
            [
             0.5555555555555556,
             "#d8576b"
            ],
            [
             0.6666666666666666,
             "#ed7953"
            ],
            [
             0.7777777777777778,
             "#fb9f3a"
            ],
            [
             0.8888888888888888,
             "#fdca26"
            ],
            [
             1,
             "#f0f921"
            ]
           ]
          },
          "colorway": [
           "#636efa",
           "#EF553B",
           "#00cc96",
           "#ab63fa",
           "#FFA15A",
           "#19d3f3",
           "#FF6692",
           "#B6E880",
           "#FF97FF",
           "#FECB52"
          ],
          "font": {
           "color": "#2a3f5f"
          },
          "geo": {
           "bgcolor": "white",
           "lakecolor": "white",
           "landcolor": "#E5ECF6",
           "showlakes": true,
           "showland": true,
           "subunitcolor": "white"
          },
          "hoverlabel": {
           "align": "left"
          },
          "hovermode": "closest",
          "mapbox": {
           "style": "light"
          },
          "paper_bgcolor": "white",
          "plot_bgcolor": "#E5ECF6",
          "polar": {
           "angularaxis": {
            "gridcolor": "white",
            "linecolor": "white",
            "ticks": ""
           },
           "bgcolor": "#E5ECF6",
           "radialaxis": {
            "gridcolor": "white",
            "linecolor": "white",
            "ticks": ""
           }
          },
          "scene": {
           "xaxis": {
            "backgroundcolor": "#E5ECF6",
            "gridcolor": "white",
            "gridwidth": 2,
            "linecolor": "white",
            "showbackground": true,
            "ticks": "",
            "zerolinecolor": "white"
           },
           "yaxis": {
            "backgroundcolor": "#E5ECF6",
            "gridcolor": "white",
            "gridwidth": 2,
            "linecolor": "white",
            "showbackground": true,
            "ticks": "",
            "zerolinecolor": "white"
           },
           "zaxis": {
            "backgroundcolor": "#E5ECF6",
            "gridcolor": "white",
            "gridwidth": 2,
            "linecolor": "white",
            "showbackground": true,
            "ticks": "",
            "zerolinecolor": "white"
           }
          },
          "shapedefaults": {
           "line": {
            "color": "#2a3f5f"
           }
          },
          "ternary": {
           "aaxis": {
            "gridcolor": "white",
            "linecolor": "white",
            "ticks": ""
           },
           "baxis": {
            "gridcolor": "white",
            "linecolor": "white",
            "ticks": ""
           },
           "bgcolor": "#E5ECF6",
           "caxis": {
            "gridcolor": "white",
            "linecolor": "white",
            "ticks": ""
           }
          },
          "title": {
           "x": 0.05
          },
          "xaxis": {
           "automargin": true,
           "gridcolor": "white",
           "linecolor": "white",
           "ticks": "",
           "title": {
            "standoff": 15
           },
           "zerolinecolor": "white",
           "zerolinewidth": 2
          },
          "yaxis": {
           "automargin": true,
           "gridcolor": "white",
           "linecolor": "white",
           "ticks": "",
           "title": {
            "standoff": 15
           },
           "zerolinecolor": "white",
           "zerolinewidth": 2
          }
         }
        },
        "xaxis": {
         "anchor": "y",
         "domain": [
          0,
          1
         ],
         "title": {
          "text": "x"
         }
        },
        "yaxis": {
         "anchor": "x",
         "domain": [
          0,
          1
         ],
         "title": {
          "text": "root y"
         }
        }
       }
      }
     },
     "metadata": {},
     "output_type": "display_data"
    }
   ],
   "source": [
    "df_1['root y'] = np.sqrt(df_1['y'])\n",
    "\n",
    "px.scatter(df_1, x='x', y='root y', trendline=\"ols\", trendline_color_override=\"red\")"
   ]
  },
  {
   "cell_type": "markdown",
   "id": "112862ad",
   "metadata": {},
   "source": [
    "That looks much better!"
   ]
  },
  {
   "cell_type": "markdown",
   "id": "be7949cf",
   "metadata": {},
   "source": [
    "#### Example 2\n",
    "\n",
    "Run the cell below to generate another scatter plot."
   ]
  },
  {
   "cell_type": "code",
   "execution_count": 10,
   "id": "b81fadd9",
   "metadata": {},
   "outputs": [
    {
     "data": {
      "application/vnd.plotly.v1+json": {
       "config": {
        "plotlyServerURL": "https://plot.ly"
       },
       "data": [
        {
         "hovertemplate": "x=%{x}<br>y=%{y}<extra></extra>",
         "legendgroup": "",
         "marker": {
          "color": "#636efa",
          "symbol": "circle"
         },
         "mode": "markers",
         "name": "",
         "orientation": "v",
         "showlegend": false,
         "type": "scatter",
         "x": [
          2,
          2.0303030303030303,
          2.0606060606060606,
          2.090909090909091,
          2.121212121212121,
          2.1515151515151514,
          2.1818181818181817,
          2.212121212121212,
          2.242424242424242,
          2.2727272727272725,
          2.303030303030303,
          2.3333333333333335,
          2.3636363636363638,
          2.393939393939394,
          2.4242424242424243,
          2.4545454545454546,
          2.484848484848485,
          2.515151515151515,
          2.5454545454545454,
          2.5757575757575757,
          2.606060606060606,
          2.6363636363636362,
          2.666666666666667,
          2.6969696969696972,
          2.7272727272727275,
          2.757575757575758,
          2.787878787878788,
          2.8181818181818183,
          2.8484848484848486,
          2.878787878787879,
          2.909090909090909,
          2.9393939393939394,
          2.9696969696969697,
          3,
          3.0303030303030303,
          3.0606060606060606,
          3.090909090909091,
          3.121212121212121,
          3.1515151515151514,
          3.1818181818181817,
          3.212121212121212,
          3.242424242424242,
          3.2727272727272725,
          3.3030303030303028,
          3.3333333333333335,
          3.3636363636363638,
          3.393939393939394,
          3.4242424242424243,
          3.4545454545454546,
          3.484848484848485,
          3.515151515151515,
          3.5454545454545454,
          3.5757575757575757,
          3.6060606060606064,
          3.6363636363636367,
          3.666666666666667,
          3.6969696969696972,
          3.7272727272727275,
          3.757575757575758,
          3.787878787878788,
          3.8181818181818183,
          3.8484848484848486,
          3.878787878787879,
          3.909090909090909,
          3.9393939393939394,
          3.9696969696969697,
          4,
          4.03030303030303,
          4.0606060606060606,
          4.090909090909091,
          4.121212121212121,
          4.151515151515151,
          4.181818181818182,
          4.212121212121213,
          4.242424242424242,
          4.272727272727273,
          4.303030303030303,
          4.333333333333334,
          4.363636363636363,
          4.3939393939393945,
          4.424242424242424,
          4.454545454545455,
          4.484848484848484,
          4.515151515151516,
          4.545454545454545,
          4.575757575757576,
          4.6060606060606055,
          4.636363636363637,
          4.666666666666667,
          4.696969696969697,
          4.7272727272727275,
          4.757575757575758,
          4.787878787878788,
          4.818181818181818,
          4.848484848484849,
          4.878787878787879,
          4.909090909090909,
          4.9393939393939394,
          4.96969696969697,
          5
         ],
         "xaxis": "x",
         "y": [
          26.208763493567176,
          61.925982380222194,
          53.50984989711234,
          107.24282107554222,
          67.80720271102038,
          120.20400821162806,
          155.71489372002614,
          113.18271717510773,
          82.81211638478487,
          54.43856322223938,
          152.2746595710632,
          125.5471413190048,
          145.46415194418287,
          117.63097776553522,
          96.66291649011706,
          129.4259725342059,
          99.4479763419966,
          184.14720957528434,
          108.84458474509671,
          141.31213770267246,
          142.16320095534817,
          121.86946266129598,
          188.5524937959253,
          86.65949453110437,
          165.12613129653948,
          194.12977205755197,
          144.54230701224208,
          141.36623265694755,
          229.38135262136976,
          183.24187921288205,
          123.04297789531425,
          259.43276247820575,
          288.2813153852144,
          158.1669669776928,
          239.63529912947683,
          200.8374995492895,
          204.55634051336975,
          160.86284647112248,
          268.40264848134404,
          275.48010396241943,
          245.78645639306538,
          224.1601461173096,
          251.54644999768362,
          261.25074586555576,
          268.22747143867576,
          327.4025613573661,
          246.08494669855742,
          339.2889068194531,
          353.80094019143604,
          329.0119957205983,
          368.7103000816962,
          331.47302713175446,
          383.454292545306,
          351.8472059388524,
          329.4846121315459,
          424.65163163667114,
          466.9670248137561,
          432.3066205889843,
          431.0767983105392,
          382.0397269926399,
          396.43233049278604,
          443.03177434706856,
          532.5134485228731,
          467.0436459747958,
          541.0742761595185,
          539.0485330172553,
          577.3317983642002,
          558.559515958953,
          606.9197292585355,
          637.9626151820737,
          608.9481586986306,
          609.5096655594825,
          604.7044307344363,
          643.1008532427225,
          674.220989325344,
          687.3902533733154,
          724.154933058414,
          808.3286043528386,
          828.0445554360854,
          810.86276426455,
          856.9981001464332,
          915.3116389123522,
          911.2415986956338,
          921.2551136032771,
          984.9680784915498,
          1002.6761507320138,
          1059.3876906728551,
          984.7502588016507,
          1066.3541077327798,
          1086.888938050981,
          1148.323074604285,
          1235.280666833249,
          1220.1200202712403,
          1248.9550726976313,
          1218.2325134117068,
          1279.926537667901,
          1393.8660180970792,
          1409.1005082461468,
          1442.8440418439284,
          1451.8131678415164
         ],
         "yaxis": "y"
        },
        {
         "hovertemplate": "<b>OLS trendline</b><br>y = 414.144 * x + -971.449<br>R<sup>2</sup>=0.866068<br><br>x=%{x}<br>y=%{y} <b>(trend)</b><extra></extra>",
         "legendgroup": "",
         "line": {
          "color": "red"
         },
         "marker": {
          "color": "#636efa",
          "symbol": "circle"
         },
         "mode": "lines",
         "name": "",
         "showlegend": false,
         "type": "scatter",
         "x": [
          2,
          2.0303030303030303,
          2.0606060606060606,
          2.090909090909091,
          2.121212121212121,
          2.1515151515151514,
          2.1818181818181817,
          2.212121212121212,
          2.242424242424242,
          2.2727272727272725,
          2.303030303030303,
          2.3333333333333335,
          2.3636363636363638,
          2.393939393939394,
          2.4242424242424243,
          2.4545454545454546,
          2.484848484848485,
          2.515151515151515,
          2.5454545454545454,
          2.5757575757575757,
          2.606060606060606,
          2.6363636363636362,
          2.666666666666667,
          2.6969696969696972,
          2.7272727272727275,
          2.757575757575758,
          2.787878787878788,
          2.8181818181818183,
          2.8484848484848486,
          2.878787878787879,
          2.909090909090909,
          2.9393939393939394,
          2.9696969696969697,
          3,
          3.0303030303030303,
          3.0606060606060606,
          3.090909090909091,
          3.121212121212121,
          3.1515151515151514,
          3.1818181818181817,
          3.212121212121212,
          3.242424242424242,
          3.2727272727272725,
          3.3030303030303028,
          3.3333333333333335,
          3.3636363636363638,
          3.393939393939394,
          3.4242424242424243,
          3.4545454545454546,
          3.484848484848485,
          3.515151515151515,
          3.5454545454545454,
          3.5757575757575757,
          3.6060606060606064,
          3.6363636363636367,
          3.666666666666667,
          3.6969696969696972,
          3.7272727272727275,
          3.757575757575758,
          3.787878787878788,
          3.8181818181818183,
          3.8484848484848486,
          3.878787878787879,
          3.909090909090909,
          3.9393939393939394,
          3.9696969696969697,
          4,
          4.03030303030303,
          4.0606060606060606,
          4.090909090909091,
          4.121212121212121,
          4.151515151515151,
          4.181818181818182,
          4.212121212121213,
          4.242424242424242,
          4.272727272727273,
          4.303030303030303,
          4.333333333333334,
          4.363636363636363,
          4.3939393939393945,
          4.424242424242424,
          4.454545454545455,
          4.484848484848484,
          4.515151515151516,
          4.545454545454545,
          4.575757575757576,
          4.6060606060606055,
          4.636363636363637,
          4.666666666666667,
          4.696969696969697,
          4.7272727272727275,
          4.757575757575758,
          4.787878787878788,
          4.818181818181818,
          4.848484848484849,
          4.878787878787879,
          4.909090909090909,
          4.9393939393939394,
          4.96969696969697,
          5
         ],
         "xaxis": "x",
         "y": [
          -143.16062139785026,
          -130.61079394186248,
          -118.06096648587469,
          -105.5111390298869,
          -92.96131157389911,
          -80.41148411791133,
          -67.86165666192353,
          -55.31182920593575,
          -42.76200174994796,
          -30.212174293960178,
          -17.662346837972205,
          -5.112519381984418,
          7.4373080740033695,
          19.987135529991157,
          32.536962985978946,
          45.086790441966734,
          57.63661789795452,
          70.1864453539423,
          82.7362728099301,
          95.28610026591788,
          107.83592772190566,
          120.38575517789346,
          132.93558263388144,
          145.48541008986922,
          158.035237545857,
          170.58506500184478,
          183.1348924578326,
          195.68471991382037,
          208.23454736980815,
          220.78437482579594,
          233.33420228178372,
          245.88402973777153,
          258.4338571937593,
          270.9836846497471,
          283.53351210573487,
          296.08333956172265,
          308.63316701771043,
          321.1829944736982,
          333.73282192968605,
          346.28264938567384,
          358.8324768416616,
          371.3823042976494,
          383.9321317536372,
          396.48195920962496,
          409.0317866656129,
          421.58161412160075,
          434.13144157758853,
          446.6812690335763,
          459.2310964895641,
          471.7809239455519,
          484.33075140153966,
          496.88057885752744,
          509.4304063135152,
          521.9802337695032,
          534.530061225491,
          547.0798886814788,
          559.6297161374665,
          572.1795435934544,
          584.7293710494422,
          597.2791985054299,
          609.8290259614178,
          622.3788534174055,
          634.9286808733933,
          647.478508329381,
          660.0283357853689,
          672.5781632413566,
          685.1279906973444,
          697.6778181533323,
          710.22764560932,
          722.7774730653078,
          735.3273005212956,
          747.8771279772834,
          760.4269554332711,
          772.9767828892593,
          785.5266103452467,
          798.0764378012349,
          810.6262652572224,
          823.1760927132104,
          835.7259201691979,
          848.275747625186,
          860.8255750811735,
          873.3754025371617,
          885.9252299931491,
          898.4750574491372,
          911.0248849051246,
          923.5747123611128,
          936.1245398171002,
          948.6743672730884,
          961.2241947290761,
          973.7740221850639,
          986.3238496410518,
          998.8736770970395,
          1011.4235045530273,
          1023.973332009015,
          1036.523159465003,
          1049.0729869209906,
          1061.6228143769783,
          1074.1726418329663,
          1086.722469288954,
          1099.2722967449417
         ],
         "yaxis": "y"
        }
       ],
       "layout": {
        "legend": {
         "tracegroupgap": 0
        },
        "margin": {
         "t": 60
        },
        "template": {
         "data": {
          "bar": [
           {
            "error_x": {
             "color": "#2a3f5f"
            },
            "error_y": {
             "color": "#2a3f5f"
            },
            "marker": {
             "line": {
              "color": "#E5ECF6",
              "width": 0.5
             },
             "pattern": {
              "fillmode": "overlay",
              "size": 10,
              "solidity": 0.2
             }
            },
            "type": "bar"
           }
          ],
          "barpolar": [
           {
            "marker": {
             "line": {
              "color": "#E5ECF6",
              "width": 0.5
             },
             "pattern": {
              "fillmode": "overlay",
              "size": 10,
              "solidity": 0.2
             }
            },
            "type": "barpolar"
           }
          ],
          "carpet": [
           {
            "aaxis": {
             "endlinecolor": "#2a3f5f",
             "gridcolor": "white",
             "linecolor": "white",
             "minorgridcolor": "white",
             "startlinecolor": "#2a3f5f"
            },
            "baxis": {
             "endlinecolor": "#2a3f5f",
             "gridcolor": "white",
             "linecolor": "white",
             "minorgridcolor": "white",
             "startlinecolor": "#2a3f5f"
            },
            "type": "carpet"
           }
          ],
          "choropleth": [
           {
            "colorbar": {
             "outlinewidth": 0,
             "ticks": ""
            },
            "type": "choropleth"
           }
          ],
          "contour": [
           {
            "colorbar": {
             "outlinewidth": 0,
             "ticks": ""
            },
            "colorscale": [
             [
              0,
              "#0d0887"
             ],
             [
              0.1111111111111111,
              "#46039f"
             ],
             [
              0.2222222222222222,
              "#7201a8"
             ],
             [
              0.3333333333333333,
              "#9c179e"
             ],
             [
              0.4444444444444444,
              "#bd3786"
             ],
             [
              0.5555555555555556,
              "#d8576b"
             ],
             [
              0.6666666666666666,
              "#ed7953"
             ],
             [
              0.7777777777777778,
              "#fb9f3a"
             ],
             [
              0.8888888888888888,
              "#fdca26"
             ],
             [
              1,
              "#f0f921"
             ]
            ],
            "type": "contour"
           }
          ],
          "contourcarpet": [
           {
            "colorbar": {
             "outlinewidth": 0,
             "ticks": ""
            },
            "type": "contourcarpet"
           }
          ],
          "heatmap": [
           {
            "colorbar": {
             "outlinewidth": 0,
             "ticks": ""
            },
            "colorscale": [
             [
              0,
              "#0d0887"
             ],
             [
              0.1111111111111111,
              "#46039f"
             ],
             [
              0.2222222222222222,
              "#7201a8"
             ],
             [
              0.3333333333333333,
              "#9c179e"
             ],
             [
              0.4444444444444444,
              "#bd3786"
             ],
             [
              0.5555555555555556,
              "#d8576b"
             ],
             [
              0.6666666666666666,
              "#ed7953"
             ],
             [
              0.7777777777777778,
              "#fb9f3a"
             ],
             [
              0.8888888888888888,
              "#fdca26"
             ],
             [
              1,
              "#f0f921"
             ]
            ],
            "type": "heatmap"
           }
          ],
          "heatmapgl": [
           {
            "colorbar": {
             "outlinewidth": 0,
             "ticks": ""
            },
            "colorscale": [
             [
              0,
              "#0d0887"
             ],
             [
              0.1111111111111111,
              "#46039f"
             ],
             [
              0.2222222222222222,
              "#7201a8"
             ],
             [
              0.3333333333333333,
              "#9c179e"
             ],
             [
              0.4444444444444444,
              "#bd3786"
             ],
             [
              0.5555555555555556,
              "#d8576b"
             ],
             [
              0.6666666666666666,
              "#ed7953"
             ],
             [
              0.7777777777777778,
              "#fb9f3a"
             ],
             [
              0.8888888888888888,
              "#fdca26"
             ],
             [
              1,
              "#f0f921"
             ]
            ],
            "type": "heatmapgl"
           }
          ],
          "histogram": [
           {
            "marker": {
             "pattern": {
              "fillmode": "overlay",
              "size": 10,
              "solidity": 0.2
             }
            },
            "type": "histogram"
           }
          ],
          "histogram2d": [
           {
            "colorbar": {
             "outlinewidth": 0,
             "ticks": ""
            },
            "colorscale": [
             [
              0,
              "#0d0887"
             ],
             [
              0.1111111111111111,
              "#46039f"
             ],
             [
              0.2222222222222222,
              "#7201a8"
             ],
             [
              0.3333333333333333,
              "#9c179e"
             ],
             [
              0.4444444444444444,
              "#bd3786"
             ],
             [
              0.5555555555555556,
              "#d8576b"
             ],
             [
              0.6666666666666666,
              "#ed7953"
             ],
             [
              0.7777777777777778,
              "#fb9f3a"
             ],
             [
              0.8888888888888888,
              "#fdca26"
             ],
             [
              1,
              "#f0f921"
             ]
            ],
            "type": "histogram2d"
           }
          ],
          "histogram2dcontour": [
           {
            "colorbar": {
             "outlinewidth": 0,
             "ticks": ""
            },
            "colorscale": [
             [
              0,
              "#0d0887"
             ],
             [
              0.1111111111111111,
              "#46039f"
             ],
             [
              0.2222222222222222,
              "#7201a8"
             ],
             [
              0.3333333333333333,
              "#9c179e"
             ],
             [
              0.4444444444444444,
              "#bd3786"
             ],
             [
              0.5555555555555556,
              "#d8576b"
             ],
             [
              0.6666666666666666,
              "#ed7953"
             ],
             [
              0.7777777777777778,
              "#fb9f3a"
             ],
             [
              0.8888888888888888,
              "#fdca26"
             ],
             [
              1,
              "#f0f921"
             ]
            ],
            "type": "histogram2dcontour"
           }
          ],
          "mesh3d": [
           {
            "colorbar": {
             "outlinewidth": 0,
             "ticks": ""
            },
            "type": "mesh3d"
           }
          ],
          "parcoords": [
           {
            "line": {
             "colorbar": {
              "outlinewidth": 0,
              "ticks": ""
             }
            },
            "type": "parcoords"
           }
          ],
          "pie": [
           {
            "automargin": true,
            "type": "pie"
           }
          ],
          "scatter": [
           {
            "fillpattern": {
             "fillmode": "overlay",
             "size": 10,
             "solidity": 0.2
            },
            "type": "scatter"
           }
          ],
          "scatter3d": [
           {
            "line": {
             "colorbar": {
              "outlinewidth": 0,
              "ticks": ""
             }
            },
            "marker": {
             "colorbar": {
              "outlinewidth": 0,
              "ticks": ""
             }
            },
            "type": "scatter3d"
           }
          ],
          "scattercarpet": [
           {
            "marker": {
             "colorbar": {
              "outlinewidth": 0,
              "ticks": ""
             }
            },
            "type": "scattercarpet"
           }
          ],
          "scattergeo": [
           {
            "marker": {
             "colorbar": {
              "outlinewidth": 0,
              "ticks": ""
             }
            },
            "type": "scattergeo"
           }
          ],
          "scattergl": [
           {
            "marker": {
             "colorbar": {
              "outlinewidth": 0,
              "ticks": ""
             }
            },
            "type": "scattergl"
           }
          ],
          "scattermapbox": [
           {
            "marker": {
             "colorbar": {
              "outlinewidth": 0,
              "ticks": ""
             }
            },
            "type": "scattermapbox"
           }
          ],
          "scatterpolar": [
           {
            "marker": {
             "colorbar": {
              "outlinewidth": 0,
              "ticks": ""
             }
            },
            "type": "scatterpolar"
           }
          ],
          "scatterpolargl": [
           {
            "marker": {
             "colorbar": {
              "outlinewidth": 0,
              "ticks": ""
             }
            },
            "type": "scatterpolargl"
           }
          ],
          "scatterternary": [
           {
            "marker": {
             "colorbar": {
              "outlinewidth": 0,
              "ticks": ""
             }
            },
            "type": "scatterternary"
           }
          ],
          "surface": [
           {
            "colorbar": {
             "outlinewidth": 0,
             "ticks": ""
            },
            "colorscale": [
             [
              0,
              "#0d0887"
             ],
             [
              0.1111111111111111,
              "#46039f"
             ],
             [
              0.2222222222222222,
              "#7201a8"
             ],
             [
              0.3333333333333333,
              "#9c179e"
             ],
             [
              0.4444444444444444,
              "#bd3786"
             ],
             [
              0.5555555555555556,
              "#d8576b"
             ],
             [
              0.6666666666666666,
              "#ed7953"
             ],
             [
              0.7777777777777778,
              "#fb9f3a"
             ],
             [
              0.8888888888888888,
              "#fdca26"
             ],
             [
              1,
              "#f0f921"
             ]
            ],
            "type": "surface"
           }
          ],
          "table": [
           {
            "cells": {
             "fill": {
              "color": "#EBF0F8"
             },
             "line": {
              "color": "white"
             }
            },
            "header": {
             "fill": {
              "color": "#C8D4E3"
             },
             "line": {
              "color": "white"
             }
            },
            "type": "table"
           }
          ]
         },
         "layout": {
          "annotationdefaults": {
           "arrowcolor": "#2a3f5f",
           "arrowhead": 0,
           "arrowwidth": 1
          },
          "autotypenumbers": "strict",
          "coloraxis": {
           "colorbar": {
            "outlinewidth": 0,
            "ticks": ""
           }
          },
          "colorscale": {
           "diverging": [
            [
             0,
             "#8e0152"
            ],
            [
             0.1,
             "#c51b7d"
            ],
            [
             0.2,
             "#de77ae"
            ],
            [
             0.3,
             "#f1b6da"
            ],
            [
             0.4,
             "#fde0ef"
            ],
            [
             0.5,
             "#f7f7f7"
            ],
            [
             0.6,
             "#e6f5d0"
            ],
            [
             0.7,
             "#b8e186"
            ],
            [
             0.8,
             "#7fbc41"
            ],
            [
             0.9,
             "#4d9221"
            ],
            [
             1,
             "#276419"
            ]
           ],
           "sequential": [
            [
             0,
             "#0d0887"
            ],
            [
             0.1111111111111111,
             "#46039f"
            ],
            [
             0.2222222222222222,
             "#7201a8"
            ],
            [
             0.3333333333333333,
             "#9c179e"
            ],
            [
             0.4444444444444444,
             "#bd3786"
            ],
            [
             0.5555555555555556,
             "#d8576b"
            ],
            [
             0.6666666666666666,
             "#ed7953"
            ],
            [
             0.7777777777777778,
             "#fb9f3a"
            ],
            [
             0.8888888888888888,
             "#fdca26"
            ],
            [
             1,
             "#f0f921"
            ]
           ],
           "sequentialminus": [
            [
             0,
             "#0d0887"
            ],
            [
             0.1111111111111111,
             "#46039f"
            ],
            [
             0.2222222222222222,
             "#7201a8"
            ],
            [
             0.3333333333333333,
             "#9c179e"
            ],
            [
             0.4444444444444444,
             "#bd3786"
            ],
            [
             0.5555555555555556,
             "#d8576b"
            ],
            [
             0.6666666666666666,
             "#ed7953"
            ],
            [
             0.7777777777777778,
             "#fb9f3a"
            ],
            [
             0.8888888888888888,
             "#fdca26"
            ],
            [
             1,
             "#f0f921"
            ]
           ]
          },
          "colorway": [
           "#636efa",
           "#EF553B",
           "#00cc96",
           "#ab63fa",
           "#FFA15A",
           "#19d3f3",
           "#FF6692",
           "#B6E880",
           "#FF97FF",
           "#FECB52"
          ],
          "font": {
           "color": "#2a3f5f"
          },
          "geo": {
           "bgcolor": "white",
           "lakecolor": "white",
           "landcolor": "#E5ECF6",
           "showlakes": true,
           "showland": true,
           "subunitcolor": "white"
          },
          "hoverlabel": {
           "align": "left"
          },
          "hovermode": "closest",
          "mapbox": {
           "style": "light"
          },
          "paper_bgcolor": "white",
          "plot_bgcolor": "#E5ECF6",
          "polar": {
           "angularaxis": {
            "gridcolor": "white",
            "linecolor": "white",
            "ticks": ""
           },
           "bgcolor": "#E5ECF6",
           "radialaxis": {
            "gridcolor": "white",
            "linecolor": "white",
            "ticks": ""
           }
          },
          "scene": {
           "xaxis": {
            "backgroundcolor": "#E5ECF6",
            "gridcolor": "white",
            "gridwidth": 2,
            "linecolor": "white",
            "showbackground": true,
            "ticks": "",
            "zerolinecolor": "white"
           },
           "yaxis": {
            "backgroundcolor": "#E5ECF6",
            "gridcolor": "white",
            "gridwidth": 2,
            "linecolor": "white",
            "showbackground": true,
            "ticks": "",
            "zerolinecolor": "white"
           },
           "zaxis": {
            "backgroundcolor": "#E5ECF6",
            "gridcolor": "white",
            "gridwidth": 2,
            "linecolor": "white",
            "showbackground": true,
            "ticks": "",
            "zerolinecolor": "white"
           }
          },
          "shapedefaults": {
           "line": {
            "color": "#2a3f5f"
           }
          },
          "ternary": {
           "aaxis": {
            "gridcolor": "white",
            "linecolor": "white",
            "ticks": ""
           },
           "baxis": {
            "gridcolor": "white",
            "linecolor": "white",
            "ticks": ""
           },
           "bgcolor": "#E5ECF6",
           "caxis": {
            "gridcolor": "white",
            "linecolor": "white",
            "ticks": ""
           }
          },
          "title": {
           "x": 0.05
          },
          "xaxis": {
           "automargin": true,
           "gridcolor": "white",
           "linecolor": "white",
           "ticks": "",
           "title": {
            "standoff": 15
           },
           "zerolinecolor": "white",
           "zerolinewidth": 2
          },
          "yaxis": {
           "automargin": true,
           "gridcolor": "white",
           "linecolor": "white",
           "ticks": "",
           "title": {
            "standoff": 15
           },
           "zerolinecolor": "white",
           "zerolinewidth": 2
          }
         }
        },
        "xaxis": {
         "anchor": "y",
         "domain": [
          0,
          1
         ],
         "title": {
          "text": "x"
         }
        },
        "yaxis": {
         "anchor": "x",
         "domain": [
          0,
          1
         ],
         "title": {
          "text": "y"
         }
        }
       }
      }
     },
     "metadata": {},
     "output_type": "display_data"
    }
   ],
   "source": [
    "# By setting a seed, we guarantee that we will see the same results each time we run this cell\n",
    "np.random.seed(32)\n",
    "\n",
    "# Generates a different random scatter plot\n",
    "x = np.linspace(2, 5, 100)\n",
    "y = 10 * (np.e ** x) + np.abs(x) * np.random.normal(0, 5, 100) + np.random.normal(0, 30, 100)\n",
    "df_2 = pd.DataFrame().assign(x=x, y=y)\n",
    "\n",
    "px.scatter(df_2, x='x', y='y', trendline=\"ols\", trendline_color_override=\"red\")"
   ]
  },
  {
   "cell_type": "markdown",
   "id": "c6740e1a",
   "metadata": {},
   "source": [
    "Again, the relationship between `'x'` and `'y'` is not quite linear. Let's try the square root transformation we tried in Example 1:"
   ]
  },
  {
   "cell_type": "code",
   "execution_count": 19,
   "id": "00c51276",
   "metadata": {},
   "outputs": [
    {
     "data": {
      "application/vnd.plotly.v1+json": {
       "config": {
        "plotlyServerURL": "https://plot.ly"
       },
       "data": [
        {
         "hovertemplate": "x=%{x}<br>root y=%{y}<extra></extra>",
         "legendgroup": "",
         "marker": {
          "color": "#636efa",
          "symbol": "circle"
         },
         "mode": "markers",
         "name": "",
         "orientation": "v",
         "showlegend": false,
         "type": "scatter",
         "x": [
          2,
          2.0303030303030303,
          2.0606060606060606,
          2.090909090909091,
          2.121212121212121,
          2.1515151515151514,
          2.1818181818181817,
          2.212121212121212,
          2.242424242424242,
          2.2727272727272725,
          2.303030303030303,
          2.3333333333333335,
          2.3636363636363638,
          2.393939393939394,
          2.4242424242424243,
          2.4545454545454546,
          2.484848484848485,
          2.515151515151515,
          2.5454545454545454,
          2.5757575757575757,
          2.606060606060606,
          2.6363636363636362,
          2.666666666666667,
          2.6969696969696972,
          2.7272727272727275,
          2.757575757575758,
          2.787878787878788,
          2.8181818181818183,
          2.8484848484848486,
          2.878787878787879,
          2.909090909090909,
          2.9393939393939394,
          2.9696969696969697,
          3,
          3.0303030303030303,
          3.0606060606060606,
          3.090909090909091,
          3.121212121212121,
          3.1515151515151514,
          3.1818181818181817,
          3.212121212121212,
          3.242424242424242,
          3.2727272727272725,
          3.3030303030303028,
          3.3333333333333335,
          3.3636363636363638,
          3.393939393939394,
          3.4242424242424243,
          3.4545454545454546,
          3.484848484848485,
          3.515151515151515,
          3.5454545454545454,
          3.5757575757575757,
          3.6060606060606064,
          3.6363636363636367,
          3.666666666666667,
          3.6969696969696972,
          3.7272727272727275,
          3.757575757575758,
          3.787878787878788,
          3.8181818181818183,
          3.8484848484848486,
          3.878787878787879,
          3.909090909090909,
          3.9393939393939394,
          3.9696969696969697,
          4,
          4.03030303030303,
          4.0606060606060606,
          4.090909090909091,
          4.121212121212121,
          4.151515151515151,
          4.181818181818182,
          4.212121212121213,
          4.242424242424242,
          4.272727272727273,
          4.303030303030303,
          4.333333333333334,
          4.363636363636363,
          4.3939393939393945,
          4.424242424242424,
          4.454545454545455,
          4.484848484848484,
          4.515151515151516,
          4.545454545454545,
          4.575757575757576,
          4.6060606060606055,
          4.636363636363637,
          4.666666666666667,
          4.696969696969697,
          4.7272727272727275,
          4.757575757575758,
          4.787878787878788,
          4.818181818181818,
          4.848484848484849,
          4.878787878787879,
          4.909090909090909,
          4.9393939393939394,
          4.96969696969697,
          5
         ],
         "xaxis": "x",
         "y": [
          5.119449530327179,
          7.869306346827667,
          7.3150427132801035,
          10.355810981064797,
          8.234512900652982,
          10.963758854135204,
          12.478577391675149,
          10.638736634352208,
          9.100116284135323,
          7.37824933315752,
          12.339961895040974,
          11.204782073695355,
          12.060852040555961,
          10.845781565453695,
          9.831730086313245,
          11.376553631667452,
          9.972360620334415,
          13.570085098306654,
          10.432860813079829,
          11.887478189366846,
          11.923221081375123,
          11.039450288003293,
          13.731441795963208,
          9.30910814907123,
          12.850141294808376,
          13.933046043760566,
          12.022574891105569,
          11.889753263081095,
          15.145340954279298,
          13.536686419241677,
          11.09247393034188,
          16.106916603689413,
          16.97884905949795,
          12.576444926039027,
          15.480158239807396,
          14.171714770954484,
          14.302319410269432,
          12.683171782764848,
          16.38299876339323,
          16.59759331838262,
          15.67757814182616,
          14.971978697463793,
          15.860215950537484,
          16.16325294813998,
          16.377651584970167,
          18.09426874337192,
          15.68709490946483,
          18.41979660092513,
          18.80959702363227,
          18.138687816945257,
          19.20183064402184,
          18.206400718751482,
          19.581988983382306,
          18.75759062190164,
          18.151710997356307,
          20.607077222077642,
          21.60941981668541,
          20.7919845274323,
          20.762389031865748,
          19.545836564154524,
          19.91060849127384,
          21.048319988708567,
          23.076252913392874,
          21.611192608803332,
          23.261003335185663,
          23.217418741480614,
          24.027729779656674,
          23.633863754345228,
          24.63574089120389,
          25.257921830231275,
          24.67687497838068,
          24.688249544256525,
          24.59073871876232,
          25.359433220060783,
          25.96576571806316,
          26.218128334671707,
          26.91012696102369,
          28.431120349941164,
          28.77576333368214,
          28.475652130628195,
          29.274529887710123,
          30.25411771829336,
          30.186778541202997,
          30.352184659481715,
          31.38420109691419,
          31.6650619884442,
          32.548236368086904,
          31.380730692602597,
          32.65507782463211,
          32.96799869647809,
          33.88691597953825,
          35.14655981505514,
          34.93021643607781,
          35.34055846612545,
          34.903187725646305,
          35.77606095796323,
          37.33451510461973,
          37.53798753591016,
          37.984786979051606,
          38.102666151353716
         ],
         "yaxis": "y"
        },
        {
         "hovertemplate": "<b>OLS trendline</b><br>root y = 9.63148 * x + -13.6349<br>R<sup>2</sup>=0.945913<br><br>x=%{x}<br>root y=%{y} <b>(trend)</b><extra></extra>",
         "legendgroup": "",
         "line": {
          "color": "red"
         },
         "marker": {
          "color": "#636efa",
          "symbol": "circle"
         },
         "mode": "lines",
         "name": "",
         "showlegend": false,
         "type": "scatter",
         "x": [
          2,
          2.0303030303030303,
          2.0606060606060606,
          2.090909090909091,
          2.121212121212121,
          2.1515151515151514,
          2.1818181818181817,
          2.212121212121212,
          2.242424242424242,
          2.2727272727272725,
          2.303030303030303,
          2.3333333333333335,
          2.3636363636363638,
          2.393939393939394,
          2.4242424242424243,
          2.4545454545454546,
          2.484848484848485,
          2.515151515151515,
          2.5454545454545454,
          2.5757575757575757,
          2.606060606060606,
          2.6363636363636362,
          2.666666666666667,
          2.6969696969696972,
          2.7272727272727275,
          2.757575757575758,
          2.787878787878788,
          2.8181818181818183,
          2.8484848484848486,
          2.878787878787879,
          2.909090909090909,
          2.9393939393939394,
          2.9696969696969697,
          3,
          3.0303030303030303,
          3.0606060606060606,
          3.090909090909091,
          3.121212121212121,
          3.1515151515151514,
          3.1818181818181817,
          3.212121212121212,
          3.242424242424242,
          3.2727272727272725,
          3.3030303030303028,
          3.3333333333333335,
          3.3636363636363638,
          3.393939393939394,
          3.4242424242424243,
          3.4545454545454546,
          3.484848484848485,
          3.515151515151515,
          3.5454545454545454,
          3.5757575757575757,
          3.6060606060606064,
          3.6363636363636367,
          3.666666666666667,
          3.6969696969696972,
          3.7272727272727275,
          3.757575757575758,
          3.787878787878788,
          3.8181818181818183,
          3.8484848484848486,
          3.878787878787879,
          3.909090909090909,
          3.9393939393939394,
          3.9696969696969697,
          4,
          4.03030303030303,
          4.0606060606060606,
          4.090909090909091,
          4.121212121212121,
          4.151515151515151,
          4.181818181818182,
          4.212121212121213,
          4.242424242424242,
          4.272727272727273,
          4.303030303030303,
          4.333333333333334,
          4.363636363636363,
          4.3939393939393945,
          4.424242424242424,
          4.454545454545455,
          4.484848484848484,
          4.515151515151516,
          4.545454545454545,
          4.575757575757576,
          4.6060606060606055,
          4.636363636363637,
          4.666666666666667,
          4.696969696969697,
          4.7272727272727275,
          4.757575757575758,
          4.787878787878788,
          4.818181818181818,
          4.848484848484849,
          4.878787878787879,
          4.909090909090909,
          4.9393939393939394,
          4.96969696969697,
          5
         ],
         "xaxis": "x",
         "y": [
          5.628084132349883,
          5.919947087608087,
          6.211810042866291,
          6.503672998124494,
          6.795535953382698,
          7.0873989086409015,
          7.379261863899106,
          7.671124819157309,
          7.962987774415512,
          8.254850729673716,
          8.546713684931925,
          8.838576640190128,
          9.130439595448332,
          9.422302550706535,
          9.714165505964738,
          10.006028461222943,
          10.297891416481146,
          10.58975437173935,
          10.881617326997553,
          11.173480282255758,
          11.465343237513961,
          11.757206192772164,
          12.049069148030373,
          12.340932103288576,
          12.63279505854678,
          12.924658013804983,
          13.216520969063186,
          13.508383924321391,
          13.800246879579595,
          14.092109834837798,
          14.383972790096001,
          14.675835745354206,
          14.96769870061241,
          15.259561655870613,
          15.551424611128816,
          15.84328756638702,
          16.135150521645222,
          16.427013476903426,
          16.718876432161633,
          17.010739387419836,
          17.30260234267804,
          17.594465297936242,
          17.886328253194446,
          18.17819120845265,
          18.470054163710856,
          18.761917118969063,
          19.053780074227266,
          19.34564302948547,
          19.637505984743672,
          19.929368940001876,
          20.22123189526008,
          20.513094850518282,
          20.804957805776485,
          21.096820761034696,
          21.3886837162929,
          21.680546671551102,
          21.972409626809306,
          22.26427258206751,
          22.556135537325712,
          22.847998492583915,
          23.13986144784212,
          23.431724403100322,
          23.72358735835853,
          24.015450313616732,
          24.307313268874935,
          24.59917622413314,
          24.891039179391342,
          25.182902134649545,
          25.47476508990775,
          25.76662804516595,
          26.058491000424155,
          26.350353955682362,
          26.642216910940565,
          26.934079866198775,
          27.22594282145697,
          27.517805776715182,
          27.809668731973378,
          28.101531687231592,
          28.393394642489785,
          28.685257597748,
          28.977120553006195,
          29.268983508264405,
          29.5608464635226,
          29.85270941878081,
          30.144572374039008,
          30.43643532929722,
          30.728298284555414,
          31.02016123981363,
          31.31202419507183,
          31.603887150330035,
          31.895750105588238,
          32.187613060846445,
          32.47947601610465,
          32.77133897136285,
          33.063201926621055,
          33.35506488187926,
          33.64692783713746,
          33.938790792395665,
          34.23065374765387,
          34.52251670291207
         ],
         "yaxis": "y"
        }
       ],
       "layout": {
        "legend": {
         "tracegroupgap": 0
        },
        "margin": {
         "t": 60
        },
        "template": {
         "data": {
          "bar": [
           {
            "error_x": {
             "color": "#2a3f5f"
            },
            "error_y": {
             "color": "#2a3f5f"
            },
            "marker": {
             "line": {
              "color": "#E5ECF6",
              "width": 0.5
             },
             "pattern": {
              "fillmode": "overlay",
              "size": 10,
              "solidity": 0.2
             }
            },
            "type": "bar"
           }
          ],
          "barpolar": [
           {
            "marker": {
             "line": {
              "color": "#E5ECF6",
              "width": 0.5
             },
             "pattern": {
              "fillmode": "overlay",
              "size": 10,
              "solidity": 0.2
             }
            },
            "type": "barpolar"
           }
          ],
          "carpet": [
           {
            "aaxis": {
             "endlinecolor": "#2a3f5f",
             "gridcolor": "white",
             "linecolor": "white",
             "minorgridcolor": "white",
             "startlinecolor": "#2a3f5f"
            },
            "baxis": {
             "endlinecolor": "#2a3f5f",
             "gridcolor": "white",
             "linecolor": "white",
             "minorgridcolor": "white",
             "startlinecolor": "#2a3f5f"
            },
            "type": "carpet"
           }
          ],
          "choropleth": [
           {
            "colorbar": {
             "outlinewidth": 0,
             "ticks": ""
            },
            "type": "choropleth"
           }
          ],
          "contour": [
           {
            "colorbar": {
             "outlinewidth": 0,
             "ticks": ""
            },
            "colorscale": [
             [
              0,
              "#0d0887"
             ],
             [
              0.1111111111111111,
              "#46039f"
             ],
             [
              0.2222222222222222,
              "#7201a8"
             ],
             [
              0.3333333333333333,
              "#9c179e"
             ],
             [
              0.4444444444444444,
              "#bd3786"
             ],
             [
              0.5555555555555556,
              "#d8576b"
             ],
             [
              0.6666666666666666,
              "#ed7953"
             ],
             [
              0.7777777777777778,
              "#fb9f3a"
             ],
             [
              0.8888888888888888,
              "#fdca26"
             ],
             [
              1,
              "#f0f921"
             ]
            ],
            "type": "contour"
           }
          ],
          "contourcarpet": [
           {
            "colorbar": {
             "outlinewidth": 0,
             "ticks": ""
            },
            "type": "contourcarpet"
           }
          ],
          "heatmap": [
           {
            "colorbar": {
             "outlinewidth": 0,
             "ticks": ""
            },
            "colorscale": [
             [
              0,
              "#0d0887"
             ],
             [
              0.1111111111111111,
              "#46039f"
             ],
             [
              0.2222222222222222,
              "#7201a8"
             ],
             [
              0.3333333333333333,
              "#9c179e"
             ],
             [
              0.4444444444444444,
              "#bd3786"
             ],
             [
              0.5555555555555556,
              "#d8576b"
             ],
             [
              0.6666666666666666,
              "#ed7953"
             ],
             [
              0.7777777777777778,
              "#fb9f3a"
             ],
             [
              0.8888888888888888,
              "#fdca26"
             ],
             [
              1,
              "#f0f921"
             ]
            ],
            "type": "heatmap"
           }
          ],
          "heatmapgl": [
           {
            "colorbar": {
             "outlinewidth": 0,
             "ticks": ""
            },
            "colorscale": [
             [
              0,
              "#0d0887"
             ],
             [
              0.1111111111111111,
              "#46039f"
             ],
             [
              0.2222222222222222,
              "#7201a8"
             ],
             [
              0.3333333333333333,
              "#9c179e"
             ],
             [
              0.4444444444444444,
              "#bd3786"
             ],
             [
              0.5555555555555556,
              "#d8576b"
             ],
             [
              0.6666666666666666,
              "#ed7953"
             ],
             [
              0.7777777777777778,
              "#fb9f3a"
             ],
             [
              0.8888888888888888,
              "#fdca26"
             ],
             [
              1,
              "#f0f921"
             ]
            ],
            "type": "heatmapgl"
           }
          ],
          "histogram": [
           {
            "marker": {
             "pattern": {
              "fillmode": "overlay",
              "size": 10,
              "solidity": 0.2
             }
            },
            "type": "histogram"
           }
          ],
          "histogram2d": [
           {
            "colorbar": {
             "outlinewidth": 0,
             "ticks": ""
            },
            "colorscale": [
             [
              0,
              "#0d0887"
             ],
             [
              0.1111111111111111,
              "#46039f"
             ],
             [
              0.2222222222222222,
              "#7201a8"
             ],
             [
              0.3333333333333333,
              "#9c179e"
             ],
             [
              0.4444444444444444,
              "#bd3786"
             ],
             [
              0.5555555555555556,
              "#d8576b"
             ],
             [
              0.6666666666666666,
              "#ed7953"
             ],
             [
              0.7777777777777778,
              "#fb9f3a"
             ],
             [
              0.8888888888888888,
              "#fdca26"
             ],
             [
              1,
              "#f0f921"
             ]
            ],
            "type": "histogram2d"
           }
          ],
          "histogram2dcontour": [
           {
            "colorbar": {
             "outlinewidth": 0,
             "ticks": ""
            },
            "colorscale": [
             [
              0,
              "#0d0887"
             ],
             [
              0.1111111111111111,
              "#46039f"
             ],
             [
              0.2222222222222222,
              "#7201a8"
             ],
             [
              0.3333333333333333,
              "#9c179e"
             ],
             [
              0.4444444444444444,
              "#bd3786"
             ],
             [
              0.5555555555555556,
              "#d8576b"
             ],
             [
              0.6666666666666666,
              "#ed7953"
             ],
             [
              0.7777777777777778,
              "#fb9f3a"
             ],
             [
              0.8888888888888888,
              "#fdca26"
             ],
             [
              1,
              "#f0f921"
             ]
            ],
            "type": "histogram2dcontour"
           }
          ],
          "mesh3d": [
           {
            "colorbar": {
             "outlinewidth": 0,
             "ticks": ""
            },
            "type": "mesh3d"
           }
          ],
          "parcoords": [
           {
            "line": {
             "colorbar": {
              "outlinewidth": 0,
              "ticks": ""
             }
            },
            "type": "parcoords"
           }
          ],
          "pie": [
           {
            "automargin": true,
            "type": "pie"
           }
          ],
          "scatter": [
           {
            "fillpattern": {
             "fillmode": "overlay",
             "size": 10,
             "solidity": 0.2
            },
            "type": "scatter"
           }
          ],
          "scatter3d": [
           {
            "line": {
             "colorbar": {
              "outlinewidth": 0,
              "ticks": ""
             }
            },
            "marker": {
             "colorbar": {
              "outlinewidth": 0,
              "ticks": ""
             }
            },
            "type": "scatter3d"
           }
          ],
          "scattercarpet": [
           {
            "marker": {
             "colorbar": {
              "outlinewidth": 0,
              "ticks": ""
             }
            },
            "type": "scattercarpet"
           }
          ],
          "scattergeo": [
           {
            "marker": {
             "colorbar": {
              "outlinewidth": 0,
              "ticks": ""
             }
            },
            "type": "scattergeo"
           }
          ],
          "scattergl": [
           {
            "marker": {
             "colorbar": {
              "outlinewidth": 0,
              "ticks": ""
             }
            },
            "type": "scattergl"
           }
          ],
          "scattermapbox": [
           {
            "marker": {
             "colorbar": {
              "outlinewidth": 0,
              "ticks": ""
             }
            },
            "type": "scattermapbox"
           }
          ],
          "scatterpolar": [
           {
            "marker": {
             "colorbar": {
              "outlinewidth": 0,
              "ticks": ""
             }
            },
            "type": "scatterpolar"
           }
          ],
          "scatterpolargl": [
           {
            "marker": {
             "colorbar": {
              "outlinewidth": 0,
              "ticks": ""
             }
            },
            "type": "scatterpolargl"
           }
          ],
          "scatterternary": [
           {
            "marker": {
             "colorbar": {
              "outlinewidth": 0,
              "ticks": ""
             }
            },
            "type": "scatterternary"
           }
          ],
          "surface": [
           {
            "colorbar": {
             "outlinewidth": 0,
             "ticks": ""
            },
            "colorscale": [
             [
              0,
              "#0d0887"
             ],
             [
              0.1111111111111111,
              "#46039f"
             ],
             [
              0.2222222222222222,
              "#7201a8"
             ],
             [
              0.3333333333333333,
              "#9c179e"
             ],
             [
              0.4444444444444444,
              "#bd3786"
             ],
             [
              0.5555555555555556,
              "#d8576b"
             ],
             [
              0.6666666666666666,
              "#ed7953"
             ],
             [
              0.7777777777777778,
              "#fb9f3a"
             ],
             [
              0.8888888888888888,
              "#fdca26"
             ],
             [
              1,
              "#f0f921"
             ]
            ],
            "type": "surface"
           }
          ],
          "table": [
           {
            "cells": {
             "fill": {
              "color": "#EBF0F8"
             },
             "line": {
              "color": "white"
             }
            },
            "header": {
             "fill": {
              "color": "#C8D4E3"
             },
             "line": {
              "color": "white"
             }
            },
            "type": "table"
           }
          ]
         },
         "layout": {
          "annotationdefaults": {
           "arrowcolor": "#2a3f5f",
           "arrowhead": 0,
           "arrowwidth": 1
          },
          "autotypenumbers": "strict",
          "coloraxis": {
           "colorbar": {
            "outlinewidth": 0,
            "ticks": ""
           }
          },
          "colorscale": {
           "diverging": [
            [
             0,
             "#8e0152"
            ],
            [
             0.1,
             "#c51b7d"
            ],
            [
             0.2,
             "#de77ae"
            ],
            [
             0.3,
             "#f1b6da"
            ],
            [
             0.4,
             "#fde0ef"
            ],
            [
             0.5,
             "#f7f7f7"
            ],
            [
             0.6,
             "#e6f5d0"
            ],
            [
             0.7,
             "#b8e186"
            ],
            [
             0.8,
             "#7fbc41"
            ],
            [
             0.9,
             "#4d9221"
            ],
            [
             1,
             "#276419"
            ]
           ],
           "sequential": [
            [
             0,
             "#0d0887"
            ],
            [
             0.1111111111111111,
             "#46039f"
            ],
            [
             0.2222222222222222,
             "#7201a8"
            ],
            [
             0.3333333333333333,
             "#9c179e"
            ],
            [
             0.4444444444444444,
             "#bd3786"
            ],
            [
             0.5555555555555556,
             "#d8576b"
            ],
            [
             0.6666666666666666,
             "#ed7953"
            ],
            [
             0.7777777777777778,
             "#fb9f3a"
            ],
            [
             0.8888888888888888,
             "#fdca26"
            ],
            [
             1,
             "#f0f921"
            ]
           ],
           "sequentialminus": [
            [
             0,
             "#0d0887"
            ],
            [
             0.1111111111111111,
             "#46039f"
            ],
            [
             0.2222222222222222,
             "#7201a8"
            ],
            [
             0.3333333333333333,
             "#9c179e"
            ],
            [
             0.4444444444444444,
             "#bd3786"
            ],
            [
             0.5555555555555556,
             "#d8576b"
            ],
            [
             0.6666666666666666,
             "#ed7953"
            ],
            [
             0.7777777777777778,
             "#fb9f3a"
            ],
            [
             0.8888888888888888,
             "#fdca26"
            ],
            [
             1,
             "#f0f921"
            ]
           ]
          },
          "colorway": [
           "#636efa",
           "#EF553B",
           "#00cc96",
           "#ab63fa",
           "#FFA15A",
           "#19d3f3",
           "#FF6692",
           "#B6E880",
           "#FF97FF",
           "#FECB52"
          ],
          "font": {
           "color": "#2a3f5f"
          },
          "geo": {
           "bgcolor": "white",
           "lakecolor": "white",
           "landcolor": "#E5ECF6",
           "showlakes": true,
           "showland": true,
           "subunitcolor": "white"
          },
          "hoverlabel": {
           "align": "left"
          },
          "hovermode": "closest",
          "mapbox": {
           "style": "light"
          },
          "paper_bgcolor": "white",
          "plot_bgcolor": "#E5ECF6",
          "polar": {
           "angularaxis": {
            "gridcolor": "white",
            "linecolor": "white",
            "ticks": ""
           },
           "bgcolor": "#E5ECF6",
           "radialaxis": {
            "gridcolor": "white",
            "linecolor": "white",
            "ticks": ""
           }
          },
          "scene": {
           "xaxis": {
            "backgroundcolor": "#E5ECF6",
            "gridcolor": "white",
            "gridwidth": 2,
            "linecolor": "white",
            "showbackground": true,
            "ticks": "",
            "zerolinecolor": "white"
           },
           "yaxis": {
            "backgroundcolor": "#E5ECF6",
            "gridcolor": "white",
            "gridwidth": 2,
            "linecolor": "white",
            "showbackground": true,
            "ticks": "",
            "zerolinecolor": "white"
           },
           "zaxis": {
            "backgroundcolor": "#E5ECF6",
            "gridcolor": "white",
            "gridwidth": 2,
            "linecolor": "white",
            "showbackground": true,
            "ticks": "",
            "zerolinecolor": "white"
           }
          },
          "shapedefaults": {
           "line": {
            "color": "#2a3f5f"
           }
          },
          "ternary": {
           "aaxis": {
            "gridcolor": "white",
            "linecolor": "white",
            "ticks": ""
           },
           "baxis": {
            "gridcolor": "white",
            "linecolor": "white",
            "ticks": ""
           },
           "bgcolor": "#E5ECF6",
           "caxis": {
            "gridcolor": "white",
            "linecolor": "white",
            "ticks": ""
           }
          },
          "title": {
           "x": 0.05
          },
          "xaxis": {
           "automargin": true,
           "gridcolor": "white",
           "linecolor": "white",
           "ticks": "",
           "title": {
            "standoff": 15
           },
           "zerolinecolor": "white",
           "zerolinewidth": 2
          },
          "yaxis": {
           "automargin": true,
           "gridcolor": "white",
           "linecolor": "white",
           "ticks": "",
           "title": {
            "standoff": 15
           },
           "zerolinecolor": "white",
           "zerolinewidth": 2
          }
         }
        },
        "xaxis": {
         "anchor": "y",
         "domain": [
          0,
          1
         ],
         "title": {
          "text": "x"
         }
        },
        "yaxis": {
         "anchor": "x",
         "domain": [
          0,
          1
         ],
         "title": {
          "text": "root y"
         }
        }
       }
      }
     },
     "metadata": {},
     "output_type": "display_data"
    }
   ],
   "source": [
    "df_2['root y'] = np.sqrt(df_2['y'])\n",
    "\n",
    "px.scatter(df_2, x='x', y='root y', trendline=\"ols\", trendline_color_override=\"red\")"
   ]
  },
  {
   "cell_type": "markdown",
   "id": "a77a08f5",
   "metadata": {},
   "source": [
    "Hmm... the relationship certainly looks _more_ linear than before, but still not quite linear. Let's look at the residual plot:"
   ]
  },
  {
   "cell_type": "code",
   "execution_count": 12,
   "id": "e7e831e7",
   "metadata": {},
   "outputs": [
    {
     "data": {
      "application/vnd.plotly.v1+json": {
       "config": {
        "plotlyServerURL": "https://plot.ly"
       },
       "data": [
        {
         "hovertemplate": "pred=%{x}<br>root y residuals=%{y}<extra></extra>",
         "legendgroup": "",
         "marker": {
          "color": "#636efa",
          "symbol": "circle"
         },
         "mode": "markers",
         "name": "",
         "orientation": "v",
         "showlegend": false,
         "type": "scatter",
         "x": [
          5.628084132349908,
          5.9199470876081115,
          6.211810042866315,
          6.503672998124518,
          6.795535953382721,
          7.087398908640925,
          7.379261863899128,
          7.671124819157331,
          7.962987774415534,
          8.254850729673738,
          8.546713684931944,
          8.838576640190148,
          9.130439595448351,
          9.422302550706554,
          9.714165505964758,
          10.00602846122296,
          10.297891416481164,
          10.589754371739367,
          10.88161732699757,
          11.173480282255774,
          11.465343237513977,
          11.75720619277218,
          12.049069148030387,
          12.34093210328859,
          12.632795058546794,
          12.924658013804997,
          13.2165209690632,
          13.508383924321404,
          13.800246879579607,
          14.09210983483781,
          14.383972790096013,
          14.675835745354217,
          14.96769870061242,
          15.259561655870627,
          15.55142461112883,
          15.843287566387033,
          16.135150521645237,
          16.42701347690344,
          16.718876432161643,
          17.010739387419846,
          17.30260234267805,
          17.594465297936253,
          17.886328253194456,
          18.17819120845266,
          18.470054163710863,
          18.761917118969066,
          19.05378007422727,
          19.345643029485473,
          19.637505984743676,
          19.92936894000188,
          20.221231895260082,
          20.513094850518286,
          20.80495780577649,
          21.0968207610347,
          21.388683716292903,
          21.680546671551106,
          21.97240962680931,
          22.264272582067512,
          22.556135537325716,
          22.84799849258392,
          23.139861447842122,
          23.431724403100326,
          23.72358735835853,
          24.015450313616732,
          24.307313268874935,
          24.59917622413314,
          24.891039179391342,
          25.182902134649545,
          25.47476508990775,
          25.76662804516595,
          26.058491000424155,
          26.35035395568236,
          26.64221691094056,
          26.934079866198772,
          27.225942821456968,
          27.51780577671518,
          27.809668731973375,
          28.101531687231585,
          28.39339464248978,
          28.68525759774799,
          28.977120553006188,
          29.268983508264398,
          29.560846463522594,
          29.852709418780805,
          30.144572374039,
          30.43643532929721,
          30.728298284555407,
          31.020161239813618,
          31.31202419507182,
          31.603887150330024,
          31.895750105588228,
          32.18761306084643,
          32.479476016104634,
          32.77133897136284,
          33.06320192662104,
          33.355064881879244,
          33.64692783713745,
          33.93879079239565,
          34.230653747653854,
          34.52251670291206
         ],
         "xaxis": "x",
         "y": [
          -0.5086346020227293,
          1.9493592592195554,
          1.1032326704137887,
          3.8521379829402793,
          1.4389769472702607,
          3.876359945494279,
          5.099315527776021,
          2.9676118151948767,
          1.1371285097197887,
          -0.876601396516218,
          3.793248210109029,
          2.3662054335052076,
          2.93041244510761,
          1.4234790147471408,
          0.11756458034848727,
          1.3705251704444912,
          -0.32553079614674907,
          2.9803307265672867,
          -0.44875651391774163,
          0.7139979071110716,
          0.45787784386114616,
          -0.7177559047688877,
          1.6823726479328212,
          -3.0318239542173604,
          0.2173462362615819,
          1.0083880299555688,
          -1.1939460779576319,
          -1.6186306612403083,
          1.3450940746996913,
          -0.5554234155961328,
          -3.2914988597541335,
          1.4310808583351964,
          2.01115035888553,
          -2.6831167298315997,
          -0.07126637132143365,
          -1.6715727954325494,
          -1.8328311113758051,
          -3.7438416941385917,
          -0.33587766876841485,
          -0.41314606903722506,
          -1.6250242008518896,
          -2.6224866004724596,
          -2.0261123026569727,
          -2.014938260312679,
          -2.092402578740696,
          -0.6676483755971461,
          -3.3666851647624387,
          -0.9258464285603409,
          -0.8279089611114046,
          -1.790681123056622,
          -1.0194012512382429,
          -2.306694131766804,
          -1.2229688223941828,
          -2.3392301391330577,
          -3.2369727189365953,
          -1.073469449473464,
          -0.3629898101238993,
          -1.4722880546352108,
          -1.7937465054599677,
          -3.3021619284293955,
          -3.2292529565682813,
          -2.3834044143917588,
          -0.6473344449656544,
          -2.4042577048134,
          -1.0463099336892725,
          -1.3817574826525245,
          -0.8633093997346677,
          -1.5490383803043173,
          -0.8390241987038571,
          -0.5087062149346764,
          -1.381616022043474,
          -1.6621044114258332,
          -2.051478192178241,
          -1.5746466461379889,
          -1.2601771033938078,
          -1.2996774420434711,
          -0.8995417709496856,
          0.329588662709579,
          0.38236869119235806,
          -0.20960546711979688,
          0.2974093347039357,
          0.9851342100289635,
          0.6259320776804032,
          0.4994752407009102,
          1.2396287228751888,
          1.2286266591469897,
          1.8199380835314969,
          0.36056945278897956,
          1.3430536295602877,
          1.3641115461480666,
          1.991165873950024,
          2.9589467542087107,
          2.4507404199731724,
          2.5692194947626135,
          1.8399857990252642,
          2.4209960760839877,
          3.687587267482286,
          3.5991967435145114,
          3.754133231397752,
          3.5801494484416594
         ],
         "yaxis": "y"
        },
        {
         "hovertemplate": "<b>OLS trendline</b><br>root y residuals = 4.92445e-16 * pred + -8.03177e-15<br>R<sup>2</sup>=0.000000<br><br>pred=%{x}<br>root y residuals=%{y} <b>(trend)</b><extra></extra>",
         "legendgroup": "",
         "line": {
          "color": "red"
         },
         "marker": {
          "color": "#636efa",
          "symbol": "circle"
         },
         "mode": "lines",
         "name": "",
         "showlegend": false,
         "type": "scatter",
         "x": [
          5.628084132349908,
          5.9199470876081115,
          6.211810042866315,
          6.503672998124518,
          6.795535953382721,
          7.087398908640925,
          7.379261863899128,
          7.671124819157331,
          7.962987774415534,
          8.254850729673738,
          8.546713684931944,
          8.838576640190148,
          9.130439595448351,
          9.422302550706554,
          9.714165505964758,
          10.00602846122296,
          10.297891416481164,
          10.589754371739367,
          10.88161732699757,
          11.173480282255774,
          11.465343237513977,
          11.75720619277218,
          12.049069148030387,
          12.34093210328859,
          12.632795058546794,
          12.924658013804997,
          13.2165209690632,
          13.508383924321404,
          13.800246879579607,
          14.09210983483781,
          14.383972790096013,
          14.675835745354217,
          14.96769870061242,
          15.259561655870627,
          15.55142461112883,
          15.843287566387033,
          16.135150521645237,
          16.42701347690344,
          16.718876432161643,
          17.010739387419846,
          17.30260234267805,
          17.594465297936253,
          17.886328253194456,
          18.17819120845266,
          18.470054163710863,
          18.761917118969066,
          19.05378007422727,
          19.345643029485473,
          19.637505984743676,
          19.92936894000188,
          20.221231895260082,
          20.513094850518286,
          20.80495780577649,
          21.0968207610347,
          21.388683716292903,
          21.680546671551106,
          21.97240962680931,
          22.264272582067512,
          22.556135537325716,
          22.84799849258392,
          23.139861447842122,
          23.431724403100326,
          23.72358735835853,
          24.015450313616732,
          24.307313268874935,
          24.59917622413314,
          24.891039179391342,
          25.182902134649545,
          25.47476508990775,
          25.76662804516595,
          26.058491000424155,
          26.35035395568236,
          26.64221691094056,
          26.934079866198772,
          27.225942821456968,
          27.51780577671518,
          27.809668731973375,
          28.101531687231585,
          28.39339464248978,
          28.68525759774799,
          28.977120553006188,
          29.268983508264398,
          29.560846463522594,
          29.852709418780805,
          30.144572374039,
          30.43643532929721,
          30.728298284555407,
          31.020161239813618,
          31.31202419507182,
          31.603887150330024,
          31.895750105588228,
          32.18761306084643,
          32.479476016104634,
          32.77133897136284,
          33.06320192662104,
          33.355064881879244,
          33.64692783713745,
          33.93879079239565,
          34.230653747653854,
          34.52251670291206
         ],
         "xaxis": "x",
         "y": [
          -5.2602499039398375e-15,
          -5.116523559877627e-15,
          -4.972797215815417e-15,
          -4.829070871753206e-15,
          -4.685344527690996e-15,
          -4.5416181836287856e-15,
          -4.397891839566575e-15,
          -4.254165495504365e-15,
          -4.1104391514421544e-15,
          -3.966712807379944e-15,
          -3.822986463317732e-15,
          -3.679260119255522e-15,
          -3.5355337751933117e-15,
          -3.3918074311311014e-15,
          -3.248081087068891e-15,
          -3.1043547430066806e-15,
          -2.9606283989444702e-15,
          -2.81690205488226e-15,
          -2.6731757108200495e-15,
          -2.529449366757839e-15,
          -2.385723022695629e-15,
          -2.2419966786334187e-15,
          -2.0982703345712064e-15,
          -1.954543990508996e-15,
          -1.810817646446786e-15,
          -1.6670913023845754e-15,
          -1.523364958322365e-15,
          -1.3796386142601549e-15,
          -1.2359122701979445e-15,
          -1.0921859261357341e-15,
          -9.484595820735238e-16,
          -8.047332380113135e-16,
          -6.610068939491031e-16,
          -5.17280549886891e-16,
          -3.735542058246807e-16,
          -2.298278617624704e-16,
          -8.610151770026005e-17,
          5.762482636195029e-17,
          2.0135117042416062e-16,
          3.4507751448637097e-16,
          4.888038585485813e-16,
          6.325302026107917e-16,
          7.76256546673002e-16,
          9.199828907352123e-16,
          1.0637092347974227e-15,
          1.2074355788596329e-15,
          1.3511619229218433e-15,
          1.4948882669840536e-15,
          1.638614611046264e-15,
          1.7823409551084742e-15,
          1.9260672991706846e-15,
          2.069793643232895e-15,
          2.2135199872951053e-15,
          2.3572463313573193e-15,
          2.5009726754195296e-15,
          2.64469901948174e-15,
          2.78842536354395e-15,
          2.9321517076061604e-15,
          3.0758780516683708e-15,
          3.219604395730581e-15,
          3.3633307397927915e-15,
          3.507057083855002e-15,
          3.650783427917212e-15,
          3.794509771979423e-15,
          3.938236116041633e-15,
          4.0819624601038434e-15,
          4.225688804166054e-15,
          4.369415148228264e-15,
          4.5131414922904745e-15,
          4.656867836352685e-15,
          4.8005941804148945e-15,
          4.944320524477105e-15,
          5.088046868539315e-15,
          5.2317732126015296e-15,
          5.375499556663736e-15,
          5.51922590072595e-15,
          5.662952244788157e-15,
          5.806678588850371e-15,
          5.9504049329125775e-15,
          6.094131276974791e-15,
          6.237857621036998e-15,
          6.381583965099212e-15,
          6.525310309161419e-15,
          6.6690366532236326e-15,
          6.81276299728584e-15,
          6.956489341348053e-15,
          7.1002156854102605e-15,
          7.243942029472474e-15,
          7.387668373534684e-15,
          7.531394717596895e-15,
          7.675121061659105e-15,
          7.818847405721316e-15,
          7.962573749783526e-15,
          8.106300093845736e-15,
          8.250026437907947e-15,
          8.393752781970157e-15,
          8.537479126032367e-15,
          8.681205470094578e-15,
          8.824931814156788e-15,
          8.968658158218999e-15
         ],
         "yaxis": "y"
        }
       ],
       "layout": {
        "legend": {
         "tracegroupgap": 0
        },
        "margin": {
         "t": 60
        },
        "template": {
         "data": {
          "bar": [
           {
            "error_x": {
             "color": "#2a3f5f"
            },
            "error_y": {
             "color": "#2a3f5f"
            },
            "marker": {
             "line": {
              "color": "#E5ECF6",
              "width": 0.5
             },
             "pattern": {
              "fillmode": "overlay",
              "size": 10,
              "solidity": 0.2
             }
            },
            "type": "bar"
           }
          ],
          "barpolar": [
           {
            "marker": {
             "line": {
              "color": "#E5ECF6",
              "width": 0.5
             },
             "pattern": {
              "fillmode": "overlay",
              "size": 10,
              "solidity": 0.2
             }
            },
            "type": "barpolar"
           }
          ],
          "carpet": [
           {
            "aaxis": {
             "endlinecolor": "#2a3f5f",
             "gridcolor": "white",
             "linecolor": "white",
             "minorgridcolor": "white",
             "startlinecolor": "#2a3f5f"
            },
            "baxis": {
             "endlinecolor": "#2a3f5f",
             "gridcolor": "white",
             "linecolor": "white",
             "minorgridcolor": "white",
             "startlinecolor": "#2a3f5f"
            },
            "type": "carpet"
           }
          ],
          "choropleth": [
           {
            "colorbar": {
             "outlinewidth": 0,
             "ticks": ""
            },
            "type": "choropleth"
           }
          ],
          "contour": [
           {
            "colorbar": {
             "outlinewidth": 0,
             "ticks": ""
            },
            "colorscale": [
             [
              0,
              "#0d0887"
             ],
             [
              0.1111111111111111,
              "#46039f"
             ],
             [
              0.2222222222222222,
              "#7201a8"
             ],
             [
              0.3333333333333333,
              "#9c179e"
             ],
             [
              0.4444444444444444,
              "#bd3786"
             ],
             [
              0.5555555555555556,
              "#d8576b"
             ],
             [
              0.6666666666666666,
              "#ed7953"
             ],
             [
              0.7777777777777778,
              "#fb9f3a"
             ],
             [
              0.8888888888888888,
              "#fdca26"
             ],
             [
              1,
              "#f0f921"
             ]
            ],
            "type": "contour"
           }
          ],
          "contourcarpet": [
           {
            "colorbar": {
             "outlinewidth": 0,
             "ticks": ""
            },
            "type": "contourcarpet"
           }
          ],
          "heatmap": [
           {
            "colorbar": {
             "outlinewidth": 0,
             "ticks": ""
            },
            "colorscale": [
             [
              0,
              "#0d0887"
             ],
             [
              0.1111111111111111,
              "#46039f"
             ],
             [
              0.2222222222222222,
              "#7201a8"
             ],
             [
              0.3333333333333333,
              "#9c179e"
             ],
             [
              0.4444444444444444,
              "#bd3786"
             ],
             [
              0.5555555555555556,
              "#d8576b"
             ],
             [
              0.6666666666666666,
              "#ed7953"
             ],
             [
              0.7777777777777778,
              "#fb9f3a"
             ],
             [
              0.8888888888888888,
              "#fdca26"
             ],
             [
              1,
              "#f0f921"
             ]
            ],
            "type": "heatmap"
           }
          ],
          "heatmapgl": [
           {
            "colorbar": {
             "outlinewidth": 0,
             "ticks": ""
            },
            "colorscale": [
             [
              0,
              "#0d0887"
             ],
             [
              0.1111111111111111,
              "#46039f"
             ],
             [
              0.2222222222222222,
              "#7201a8"
             ],
             [
              0.3333333333333333,
              "#9c179e"
             ],
             [
              0.4444444444444444,
              "#bd3786"
             ],
             [
              0.5555555555555556,
              "#d8576b"
             ],
             [
              0.6666666666666666,
              "#ed7953"
             ],
             [
              0.7777777777777778,
              "#fb9f3a"
             ],
             [
              0.8888888888888888,
              "#fdca26"
             ],
             [
              1,
              "#f0f921"
             ]
            ],
            "type": "heatmapgl"
           }
          ],
          "histogram": [
           {
            "marker": {
             "pattern": {
              "fillmode": "overlay",
              "size": 10,
              "solidity": 0.2
             }
            },
            "type": "histogram"
           }
          ],
          "histogram2d": [
           {
            "colorbar": {
             "outlinewidth": 0,
             "ticks": ""
            },
            "colorscale": [
             [
              0,
              "#0d0887"
             ],
             [
              0.1111111111111111,
              "#46039f"
             ],
             [
              0.2222222222222222,
              "#7201a8"
             ],
             [
              0.3333333333333333,
              "#9c179e"
             ],
             [
              0.4444444444444444,
              "#bd3786"
             ],
             [
              0.5555555555555556,
              "#d8576b"
             ],
             [
              0.6666666666666666,
              "#ed7953"
             ],
             [
              0.7777777777777778,
              "#fb9f3a"
             ],
             [
              0.8888888888888888,
              "#fdca26"
             ],
             [
              1,
              "#f0f921"
             ]
            ],
            "type": "histogram2d"
           }
          ],
          "histogram2dcontour": [
           {
            "colorbar": {
             "outlinewidth": 0,
             "ticks": ""
            },
            "colorscale": [
             [
              0,
              "#0d0887"
             ],
             [
              0.1111111111111111,
              "#46039f"
             ],
             [
              0.2222222222222222,
              "#7201a8"
             ],
             [
              0.3333333333333333,
              "#9c179e"
             ],
             [
              0.4444444444444444,
              "#bd3786"
             ],
             [
              0.5555555555555556,
              "#d8576b"
             ],
             [
              0.6666666666666666,
              "#ed7953"
             ],
             [
              0.7777777777777778,
              "#fb9f3a"
             ],
             [
              0.8888888888888888,
              "#fdca26"
             ],
             [
              1,
              "#f0f921"
             ]
            ],
            "type": "histogram2dcontour"
           }
          ],
          "mesh3d": [
           {
            "colorbar": {
             "outlinewidth": 0,
             "ticks": ""
            },
            "type": "mesh3d"
           }
          ],
          "parcoords": [
           {
            "line": {
             "colorbar": {
              "outlinewidth": 0,
              "ticks": ""
             }
            },
            "type": "parcoords"
           }
          ],
          "pie": [
           {
            "automargin": true,
            "type": "pie"
           }
          ],
          "scatter": [
           {
            "fillpattern": {
             "fillmode": "overlay",
             "size": 10,
             "solidity": 0.2
            },
            "type": "scatter"
           }
          ],
          "scatter3d": [
           {
            "line": {
             "colorbar": {
              "outlinewidth": 0,
              "ticks": ""
             }
            },
            "marker": {
             "colorbar": {
              "outlinewidth": 0,
              "ticks": ""
             }
            },
            "type": "scatter3d"
           }
          ],
          "scattercarpet": [
           {
            "marker": {
             "colorbar": {
              "outlinewidth": 0,
              "ticks": ""
             }
            },
            "type": "scattercarpet"
           }
          ],
          "scattergeo": [
           {
            "marker": {
             "colorbar": {
              "outlinewidth": 0,
              "ticks": ""
             }
            },
            "type": "scattergeo"
           }
          ],
          "scattergl": [
           {
            "marker": {
             "colorbar": {
              "outlinewidth": 0,
              "ticks": ""
             }
            },
            "type": "scattergl"
           }
          ],
          "scattermapbox": [
           {
            "marker": {
             "colorbar": {
              "outlinewidth": 0,
              "ticks": ""
             }
            },
            "type": "scattermapbox"
           }
          ],
          "scatterpolar": [
           {
            "marker": {
             "colorbar": {
              "outlinewidth": 0,
              "ticks": ""
             }
            },
            "type": "scatterpolar"
           }
          ],
          "scatterpolargl": [
           {
            "marker": {
             "colorbar": {
              "outlinewidth": 0,
              "ticks": ""
             }
            },
            "type": "scatterpolargl"
           }
          ],
          "scatterternary": [
           {
            "marker": {
             "colorbar": {
              "outlinewidth": 0,
              "ticks": ""
             }
            },
            "type": "scatterternary"
           }
          ],
          "surface": [
           {
            "colorbar": {
             "outlinewidth": 0,
             "ticks": ""
            },
            "colorscale": [
             [
              0,
              "#0d0887"
             ],
             [
              0.1111111111111111,
              "#46039f"
             ],
             [
              0.2222222222222222,
              "#7201a8"
             ],
             [
              0.3333333333333333,
              "#9c179e"
             ],
             [
              0.4444444444444444,
              "#bd3786"
             ],
             [
              0.5555555555555556,
              "#d8576b"
             ],
             [
              0.6666666666666666,
              "#ed7953"
             ],
             [
              0.7777777777777778,
              "#fb9f3a"
             ],
             [
              0.8888888888888888,
              "#fdca26"
             ],
             [
              1,
              "#f0f921"
             ]
            ],
            "type": "surface"
           }
          ],
          "table": [
           {
            "cells": {
             "fill": {
              "color": "#EBF0F8"
             },
             "line": {
              "color": "white"
             }
            },
            "header": {
             "fill": {
              "color": "#C8D4E3"
             },
             "line": {
              "color": "white"
             }
            },
            "type": "table"
           }
          ]
         },
         "layout": {
          "annotationdefaults": {
           "arrowcolor": "#2a3f5f",
           "arrowhead": 0,
           "arrowwidth": 1
          },
          "autotypenumbers": "strict",
          "coloraxis": {
           "colorbar": {
            "outlinewidth": 0,
            "ticks": ""
           }
          },
          "colorscale": {
           "diverging": [
            [
             0,
             "#8e0152"
            ],
            [
             0.1,
             "#c51b7d"
            ],
            [
             0.2,
             "#de77ae"
            ],
            [
             0.3,
             "#f1b6da"
            ],
            [
             0.4,
             "#fde0ef"
            ],
            [
             0.5,
             "#f7f7f7"
            ],
            [
             0.6,
             "#e6f5d0"
            ],
            [
             0.7,
             "#b8e186"
            ],
            [
             0.8,
             "#7fbc41"
            ],
            [
             0.9,
             "#4d9221"
            ],
            [
             1,
             "#276419"
            ]
           ],
           "sequential": [
            [
             0,
             "#0d0887"
            ],
            [
             0.1111111111111111,
             "#46039f"
            ],
            [
             0.2222222222222222,
             "#7201a8"
            ],
            [
             0.3333333333333333,
             "#9c179e"
            ],
            [
             0.4444444444444444,
             "#bd3786"
            ],
            [
             0.5555555555555556,
             "#d8576b"
            ],
            [
             0.6666666666666666,
             "#ed7953"
            ],
            [
             0.7777777777777778,
             "#fb9f3a"
            ],
            [
             0.8888888888888888,
             "#fdca26"
            ],
            [
             1,
             "#f0f921"
            ]
           ],
           "sequentialminus": [
            [
             0,
             "#0d0887"
            ],
            [
             0.1111111111111111,
             "#46039f"
            ],
            [
             0.2222222222222222,
             "#7201a8"
            ],
            [
             0.3333333333333333,
             "#9c179e"
            ],
            [
             0.4444444444444444,
             "#bd3786"
            ],
            [
             0.5555555555555556,
             "#d8576b"
            ],
            [
             0.6666666666666666,
             "#ed7953"
            ],
            [
             0.7777777777777778,
             "#fb9f3a"
            ],
            [
             0.8888888888888888,
             "#fdca26"
            ],
            [
             1,
             "#f0f921"
            ]
           ]
          },
          "colorway": [
           "#636efa",
           "#EF553B",
           "#00cc96",
           "#ab63fa",
           "#FFA15A",
           "#19d3f3",
           "#FF6692",
           "#B6E880",
           "#FF97FF",
           "#FECB52"
          ],
          "font": {
           "color": "#2a3f5f"
          },
          "geo": {
           "bgcolor": "white",
           "lakecolor": "white",
           "landcolor": "#E5ECF6",
           "showlakes": true,
           "showland": true,
           "subunitcolor": "white"
          },
          "hoverlabel": {
           "align": "left"
          },
          "hovermode": "closest",
          "mapbox": {
           "style": "light"
          },
          "paper_bgcolor": "white",
          "plot_bgcolor": "#E5ECF6",
          "polar": {
           "angularaxis": {
            "gridcolor": "white",
            "linecolor": "white",
            "ticks": ""
           },
           "bgcolor": "#E5ECF6",
           "radialaxis": {
            "gridcolor": "white",
            "linecolor": "white",
            "ticks": ""
           }
          },
          "scene": {
           "xaxis": {
            "backgroundcolor": "#E5ECF6",
            "gridcolor": "white",
            "gridwidth": 2,
            "linecolor": "white",
            "showbackground": true,
            "ticks": "",
            "zerolinecolor": "white"
           },
           "yaxis": {
            "backgroundcolor": "#E5ECF6",
            "gridcolor": "white",
            "gridwidth": 2,
            "linecolor": "white",
            "showbackground": true,
            "ticks": "",
            "zerolinecolor": "white"
           },
           "zaxis": {
            "backgroundcolor": "#E5ECF6",
            "gridcolor": "white",
            "gridwidth": 2,
            "linecolor": "white",
            "showbackground": true,
            "ticks": "",
            "zerolinecolor": "white"
           }
          },
          "shapedefaults": {
           "line": {
            "color": "#2a3f5f"
           }
          },
          "ternary": {
           "aaxis": {
            "gridcolor": "white",
            "linecolor": "white",
            "ticks": ""
           },
           "baxis": {
            "gridcolor": "white",
            "linecolor": "white",
            "ticks": ""
           },
           "bgcolor": "#E5ECF6",
           "caxis": {
            "gridcolor": "white",
            "linecolor": "white",
            "ticks": ""
           }
          },
          "title": {
           "x": 0.05
          },
          "xaxis": {
           "automargin": true,
           "gridcolor": "white",
           "linecolor": "white",
           "ticks": "",
           "title": {
            "standoff": 15
           },
           "zerolinecolor": "white",
           "zerolinewidth": 2
          },
          "yaxis": {
           "automargin": true,
           "gridcolor": "white",
           "linecolor": "white",
           "ticks": "",
           "title": {
            "standoff": 15
           },
           "zerolinecolor": "white",
           "zerolinewidth": 2
          }
         }
        },
        "xaxis": {
         "anchor": "y",
         "domain": [
          0,
          1
         ],
         "title": {
          "text": "pred"
         }
        },
        "yaxis": {
         "anchor": "x",
         "domain": [
          0,
          1
         ],
         "title": {
          "text": "root y residuals"
         }
        }
       }
      }
     },
     "metadata": {},
     "output_type": "display_data"
    }
   ],
   "source": [
    "# Feel free to use this function directly to help you answer Question 1.\n",
    "def create_residual_plot(df, x, y):\n",
    "    df = df.copy()\n",
    "    from sklearn.linear_model import LinearRegression\n",
    "    model = LinearRegression()\n",
    "    model.fit(df[[x]], df[y])\n",
    "    df['pred'] = model.predict(df[[x]])\n",
    "    df[f'{y} residuals'] = df[y] - model.predict(df[[x]])\n",
    "    return px.scatter(df, x='pred', y=f'{y} residuals', trendline='ols', trendline_color_override='red')\n",
    "\n",
    "create_residual_plot(df_2, 'x', 'root y')"
   ]
  },
  {
   "cell_type": "markdown",
   "id": "312a822b",
   "metadata": {},
   "source": [
    "There is clearly a pattern in the residual plot. Let's instead try another transformation for the `'y'` values – $\\log$."
   ]
  },
  {
   "cell_type": "code",
   "execution_count": 13,
   "id": "64d3f8b1",
   "metadata": {},
   "outputs": [
    {
     "data": {
      "application/vnd.plotly.v1+json": {
       "config": {
        "plotlyServerURL": "https://plot.ly"
       },
       "data": [
        {
         "hovertemplate": "x=%{x}<br>log y=%{y}<extra></extra>",
         "legendgroup": "",
         "marker": {
          "color": "#636efa",
          "symbol": "circle"
         },
         "mode": "markers",
         "name": "",
         "orientation": "v",
         "showlegend": false,
         "type": "scatter",
         "x": [
          2,
          2.0303030303030303,
          2.0606060606060606,
          2.090909090909091,
          2.121212121212121,
          2.1515151515151514,
          2.1818181818181817,
          2.212121212121212,
          2.242424242424242,
          2.2727272727272725,
          2.303030303030303,
          2.3333333333333335,
          2.3636363636363638,
          2.393939393939394,
          2.4242424242424243,
          2.4545454545454546,
          2.484848484848485,
          2.515151515151515,
          2.5454545454545454,
          2.5757575757575757,
          2.606060606060606,
          2.6363636363636362,
          2.666666666666667,
          2.6969696969696972,
          2.7272727272727275,
          2.757575757575758,
          2.787878787878788,
          2.8181818181818183,
          2.8484848484848486,
          2.878787878787879,
          2.909090909090909,
          2.9393939393939394,
          2.9696969696969697,
          3,
          3.0303030303030303,
          3.0606060606060606,
          3.090909090909091,
          3.121212121212121,
          3.1515151515151514,
          3.1818181818181817,
          3.212121212121212,
          3.242424242424242,
          3.2727272727272725,
          3.3030303030303028,
          3.3333333333333335,
          3.3636363636363638,
          3.393939393939394,
          3.4242424242424243,
          3.4545454545454546,
          3.484848484848485,
          3.515151515151515,
          3.5454545454545454,
          3.5757575757575757,
          3.6060606060606064,
          3.6363636363636367,
          3.666666666666667,
          3.6969696969696972,
          3.7272727272727275,
          3.757575757575758,
          3.787878787878788,
          3.8181818181818183,
          3.8484848484848486,
          3.878787878787879,
          3.909090909090909,
          3.9393939393939394,
          3.9696969696969697,
          4,
          4.03030303030303,
          4.0606060606060606,
          4.090909090909091,
          4.121212121212121,
          4.151515151515151,
          4.181818181818182,
          4.212121212121213,
          4.242424242424242,
          4.272727272727273,
          4.303030303030303,
          4.333333333333334,
          4.363636363636363,
          4.3939393939393945,
          4.424242424242424,
          4.454545454545455,
          4.484848484848484,
          4.515151515151516,
          4.545454545454545,
          4.575757575757576,
          4.6060606060606055,
          4.636363636363637,
          4.666666666666667,
          4.696969696969697,
          4.7272727272727275,
          4.757575757575758,
          4.787878787878788,
          4.818181818181818,
          4.848484848484849,
          4.878787878787879,
          4.909090909090909,
          4.9393939393939394,
          4.96969696969697,
          5
         ],
         "xaxis": "x",
         "y": [
          3.266093839326883,
          4.125939839282246,
          3.979865747182152,
          4.675095619209207,
          4.216668423979663,
          4.789190367731725,
          5.048026730784274,
          4.729003478981491,
          4.416574383835139,
          3.9970727854849435,
          5.025685861100698,
          4.832681316081167,
          4.979929677864909,
          4.767552417150124,
          4.571229838630043,
          4.863109077028274,
          4.599634656596182,
          5.215735489777539,
          4.689921036742463,
          4.950971186232496,
          4.956975700161192,
          4.802950493711848,
          5.2393764497952375,
          4.461986583512666,
          5.106709613971417,
          5.26852686356234,
          4.973572246791815,
          4.951353917708318,
          5.435385913777346,
          5.210807024439006,
          4.812533708124681,
          5.55849756490244,
          5.6639367929194755,
          5.0636512280799195,
          5.479118180638229,
          5.302496121125299,
          5.320843441271531,
          5.080552116651468,
          5.592488272714058,
          5.618515408062877,
          5.504463095504288,
          5.4123607344322995,
          5.527627664326052,
          5.565480658262718,
          5.591835394530788,
          5.791190488233757,
          5.505676788108724,
          5.826851976942283,
          5.868734439131527,
          5.796094211257514,
          5.91001124106279,
          5.8035464401971275,
          5.949220428685453,
          5.86319700732334,
          5.797529652189065,
          6.051269142528,
          6.146258644498665,
          6.0691351063585,
          6.066286260565806,
          5.945524600562156,
          5.98250535940441,
          6.093641492861409,
          6.277608152706682,
          6.146422713633221,
          6.29355656361754,
          6.289805609559024,
          6.35841714172822,
          6.32536117676897,
          6.408396540566081,
          6.458279684734624,
          6.4117331387969285,
          6.412654806973573,
          6.40473979441362,
          6.466301559905172,
          6.513557934509585,
          6.532902185341274,
          6.585005365428888,
          6.6949686644012125,
          6.719066963850651,
          6.698098821873572,
          6.753435701730017,
          6.819264596263511,
          6.814808063741968,
          6.82573699421083,
          6.892609233024158,
          6.910427855198655,
          6.965446369893268,
          6.8923880646604765,
          6.972000733179268,
          6.991074708995021,
          7.046057961158571,
          7.119053483836025,
          7.1067045101600845,
          7.13006253886023,
          7.105156327761954,
          7.154557962819701,
          7.239836473428035,
          7.250706842389481,
          7.274371473822666,
          7.280568514820295
         ],
         "yaxis": "y"
        },
        {
         "hovertemplate": "<b>OLS trendline</b><br>log y = 1.01038 * x + 2.26617<br>R<sup>2</sup>=0.948153<br><br>x=%{x}<br>log y=%{y} <b>(trend)</b><extra></extra>",
         "legendgroup": "",
         "line": {
          "color": "red"
         },
         "marker": {
          "color": "#636efa",
          "symbol": "circle"
         },
         "mode": "lines",
         "name": "",
         "showlegend": false,
         "type": "scatter",
         "x": [
          2,
          2.0303030303030303,
          2.0606060606060606,
          2.090909090909091,
          2.121212121212121,
          2.1515151515151514,
          2.1818181818181817,
          2.212121212121212,
          2.242424242424242,
          2.2727272727272725,
          2.303030303030303,
          2.3333333333333335,
          2.3636363636363638,
          2.393939393939394,
          2.4242424242424243,
          2.4545454545454546,
          2.484848484848485,
          2.515151515151515,
          2.5454545454545454,
          2.5757575757575757,
          2.606060606060606,
          2.6363636363636362,
          2.666666666666667,
          2.6969696969696972,
          2.7272727272727275,
          2.757575757575758,
          2.787878787878788,
          2.8181818181818183,
          2.8484848484848486,
          2.878787878787879,
          2.909090909090909,
          2.9393939393939394,
          2.9696969696969697,
          3,
          3.0303030303030303,
          3.0606060606060606,
          3.090909090909091,
          3.121212121212121,
          3.1515151515151514,
          3.1818181818181817,
          3.212121212121212,
          3.242424242424242,
          3.2727272727272725,
          3.3030303030303028,
          3.3333333333333335,
          3.3636363636363638,
          3.393939393939394,
          3.4242424242424243,
          3.4545454545454546,
          3.484848484848485,
          3.515151515151515,
          3.5454545454545454,
          3.5757575757575757,
          3.6060606060606064,
          3.6363636363636367,
          3.666666666666667,
          3.6969696969696972,
          3.7272727272727275,
          3.757575757575758,
          3.787878787878788,
          3.8181818181818183,
          3.8484848484848486,
          3.878787878787879,
          3.909090909090909,
          3.9393939393939394,
          3.9696969696969697,
          4,
          4.03030303030303,
          4.0606060606060606,
          4.090909090909091,
          4.121212121212121,
          4.151515151515151,
          4.181818181818182,
          4.212121212121213,
          4.242424242424242,
          4.272727272727273,
          4.303030303030303,
          4.333333333333334,
          4.363636363636363,
          4.3939393939393945,
          4.424242424242424,
          4.454545454545455,
          4.484848484848484,
          4.515151515151516,
          4.545454545454545,
          4.575757575757576,
          4.6060606060606055,
          4.636363636363637,
          4.666666666666667,
          4.696969696969697,
          4.7272727272727275,
          4.757575757575758,
          4.787878787878788,
          4.818181818181818,
          4.848484848484849,
          4.878787878787879,
          4.909090909090909,
          4.9393939393939394,
          4.96969696969697,
          5
         ],
         "xaxis": "x",
         "y": [
          4.2869305027506455,
          4.317548037133593,
          4.34816557151654,
          4.378783105899487,
          4.409400640282434,
          4.44001817466538,
          4.470635709048327,
          4.501253243431274,
          4.5318707778142215,
          4.562488312197169,
          4.593105846580116,
          4.623723380963063,
          4.65434091534601,
          4.684958449728957,
          4.715575984111904,
          4.746193518494851,
          4.7768110528777985,
          4.807428587260745,
          4.838046121643692,
          4.868663656026639,
          4.899281190409586,
          4.929898724792533,
          4.96051625917548,
          4.9911337935584275,
          5.021751327941375,
          5.052368862324322,
          5.082986396707269,
          5.113603931090216,
          5.144221465473163,
          5.174838999856109,
          5.205456534239056,
          5.2360740686220035,
          5.266691603004951,
          5.297309137387898,
          5.327926671770845,
          5.358544206153792,
          5.389161740536739,
          5.419779274919686,
          5.4503968093026325,
          5.48101434368558,
          5.511631878068527,
          5.542249412451474,
          5.572866946834421,
          5.603484481217368,
          5.634102015600315,
          5.664719549983262,
          5.6953370843662094,
          5.725954618749157,
          5.756572153132104,
          5.787189687515051,
          5.817807221897997,
          5.848424756280944,
          5.879042290663891,
          5.909659825046839,
          5.9402773594297855,
          5.970894893812733,
          6.00151242819568,
          6.032129962578627,
          6.062747496961574,
          6.093365031344521,
          6.123982565727468,
          6.154600100110415,
          6.185217634493362,
          6.215835168876309,
          6.246452703259256,
          6.277070237642203,
          6.30768777202515,
          6.338305306408097,
          6.368922840791044,
          6.399540375173991,
          6.4301579095569386,
          6.460775443939885,
          6.491392978322832,
          6.52201051270578,
          6.552628047088726,
          6.583245581471674,
          6.61386311585462,
          6.644480650237568,
          6.675098184620515,
          6.705715719003462,
          6.736333253386408,
          6.766950787769356,
          6.797568322152302,
          6.82818585653525,
          6.8588033909181965,
          6.8894209253011445,
          6.920038459684091,
          6.950655994067038,
          6.981273528449985,
          7.011891062832932,
          7.042508597215879,
          7.073126131598826,
          7.103743665981773,
          7.1343612003647205,
          7.164978734747668,
          7.195596269130614,
          7.226213803513561,
          7.256831337896508,
          7.287448872279455,
          7.318066406662402
         ],
         "yaxis": "y"
        }
       ],
       "layout": {
        "legend": {
         "tracegroupgap": 0
        },
        "margin": {
         "t": 60
        },
        "template": {
         "data": {
          "bar": [
           {
            "error_x": {
             "color": "#2a3f5f"
            },
            "error_y": {
             "color": "#2a3f5f"
            },
            "marker": {
             "line": {
              "color": "#E5ECF6",
              "width": 0.5
             },
             "pattern": {
              "fillmode": "overlay",
              "size": 10,
              "solidity": 0.2
             }
            },
            "type": "bar"
           }
          ],
          "barpolar": [
           {
            "marker": {
             "line": {
              "color": "#E5ECF6",
              "width": 0.5
             },
             "pattern": {
              "fillmode": "overlay",
              "size": 10,
              "solidity": 0.2
             }
            },
            "type": "barpolar"
           }
          ],
          "carpet": [
           {
            "aaxis": {
             "endlinecolor": "#2a3f5f",
             "gridcolor": "white",
             "linecolor": "white",
             "minorgridcolor": "white",
             "startlinecolor": "#2a3f5f"
            },
            "baxis": {
             "endlinecolor": "#2a3f5f",
             "gridcolor": "white",
             "linecolor": "white",
             "minorgridcolor": "white",
             "startlinecolor": "#2a3f5f"
            },
            "type": "carpet"
           }
          ],
          "choropleth": [
           {
            "colorbar": {
             "outlinewidth": 0,
             "ticks": ""
            },
            "type": "choropleth"
           }
          ],
          "contour": [
           {
            "colorbar": {
             "outlinewidth": 0,
             "ticks": ""
            },
            "colorscale": [
             [
              0,
              "#0d0887"
             ],
             [
              0.1111111111111111,
              "#46039f"
             ],
             [
              0.2222222222222222,
              "#7201a8"
             ],
             [
              0.3333333333333333,
              "#9c179e"
             ],
             [
              0.4444444444444444,
              "#bd3786"
             ],
             [
              0.5555555555555556,
              "#d8576b"
             ],
             [
              0.6666666666666666,
              "#ed7953"
             ],
             [
              0.7777777777777778,
              "#fb9f3a"
             ],
             [
              0.8888888888888888,
              "#fdca26"
             ],
             [
              1,
              "#f0f921"
             ]
            ],
            "type": "contour"
           }
          ],
          "contourcarpet": [
           {
            "colorbar": {
             "outlinewidth": 0,
             "ticks": ""
            },
            "type": "contourcarpet"
           }
          ],
          "heatmap": [
           {
            "colorbar": {
             "outlinewidth": 0,
             "ticks": ""
            },
            "colorscale": [
             [
              0,
              "#0d0887"
             ],
             [
              0.1111111111111111,
              "#46039f"
             ],
             [
              0.2222222222222222,
              "#7201a8"
             ],
             [
              0.3333333333333333,
              "#9c179e"
             ],
             [
              0.4444444444444444,
              "#bd3786"
             ],
             [
              0.5555555555555556,
              "#d8576b"
             ],
             [
              0.6666666666666666,
              "#ed7953"
             ],
             [
              0.7777777777777778,
              "#fb9f3a"
             ],
             [
              0.8888888888888888,
              "#fdca26"
             ],
             [
              1,
              "#f0f921"
             ]
            ],
            "type": "heatmap"
           }
          ],
          "heatmapgl": [
           {
            "colorbar": {
             "outlinewidth": 0,
             "ticks": ""
            },
            "colorscale": [
             [
              0,
              "#0d0887"
             ],
             [
              0.1111111111111111,
              "#46039f"
             ],
             [
              0.2222222222222222,
              "#7201a8"
             ],
             [
              0.3333333333333333,
              "#9c179e"
             ],
             [
              0.4444444444444444,
              "#bd3786"
             ],
             [
              0.5555555555555556,
              "#d8576b"
             ],
             [
              0.6666666666666666,
              "#ed7953"
             ],
             [
              0.7777777777777778,
              "#fb9f3a"
             ],
             [
              0.8888888888888888,
              "#fdca26"
             ],
             [
              1,
              "#f0f921"
             ]
            ],
            "type": "heatmapgl"
           }
          ],
          "histogram": [
           {
            "marker": {
             "pattern": {
              "fillmode": "overlay",
              "size": 10,
              "solidity": 0.2
             }
            },
            "type": "histogram"
           }
          ],
          "histogram2d": [
           {
            "colorbar": {
             "outlinewidth": 0,
             "ticks": ""
            },
            "colorscale": [
             [
              0,
              "#0d0887"
             ],
             [
              0.1111111111111111,
              "#46039f"
             ],
             [
              0.2222222222222222,
              "#7201a8"
             ],
             [
              0.3333333333333333,
              "#9c179e"
             ],
             [
              0.4444444444444444,
              "#bd3786"
             ],
             [
              0.5555555555555556,
              "#d8576b"
             ],
             [
              0.6666666666666666,
              "#ed7953"
             ],
             [
              0.7777777777777778,
              "#fb9f3a"
             ],
             [
              0.8888888888888888,
              "#fdca26"
             ],
             [
              1,
              "#f0f921"
             ]
            ],
            "type": "histogram2d"
           }
          ],
          "histogram2dcontour": [
           {
            "colorbar": {
             "outlinewidth": 0,
             "ticks": ""
            },
            "colorscale": [
             [
              0,
              "#0d0887"
             ],
             [
              0.1111111111111111,
              "#46039f"
             ],
             [
              0.2222222222222222,
              "#7201a8"
             ],
             [
              0.3333333333333333,
              "#9c179e"
             ],
             [
              0.4444444444444444,
              "#bd3786"
             ],
             [
              0.5555555555555556,
              "#d8576b"
             ],
             [
              0.6666666666666666,
              "#ed7953"
             ],
             [
              0.7777777777777778,
              "#fb9f3a"
             ],
             [
              0.8888888888888888,
              "#fdca26"
             ],
             [
              1,
              "#f0f921"
             ]
            ],
            "type": "histogram2dcontour"
           }
          ],
          "mesh3d": [
           {
            "colorbar": {
             "outlinewidth": 0,
             "ticks": ""
            },
            "type": "mesh3d"
           }
          ],
          "parcoords": [
           {
            "line": {
             "colorbar": {
              "outlinewidth": 0,
              "ticks": ""
             }
            },
            "type": "parcoords"
           }
          ],
          "pie": [
           {
            "automargin": true,
            "type": "pie"
           }
          ],
          "scatter": [
           {
            "fillpattern": {
             "fillmode": "overlay",
             "size": 10,
             "solidity": 0.2
            },
            "type": "scatter"
           }
          ],
          "scatter3d": [
           {
            "line": {
             "colorbar": {
              "outlinewidth": 0,
              "ticks": ""
             }
            },
            "marker": {
             "colorbar": {
              "outlinewidth": 0,
              "ticks": ""
             }
            },
            "type": "scatter3d"
           }
          ],
          "scattercarpet": [
           {
            "marker": {
             "colorbar": {
              "outlinewidth": 0,
              "ticks": ""
             }
            },
            "type": "scattercarpet"
           }
          ],
          "scattergeo": [
           {
            "marker": {
             "colorbar": {
              "outlinewidth": 0,
              "ticks": ""
             }
            },
            "type": "scattergeo"
           }
          ],
          "scattergl": [
           {
            "marker": {
             "colorbar": {
              "outlinewidth": 0,
              "ticks": ""
             }
            },
            "type": "scattergl"
           }
          ],
          "scattermapbox": [
           {
            "marker": {
             "colorbar": {
              "outlinewidth": 0,
              "ticks": ""
             }
            },
            "type": "scattermapbox"
           }
          ],
          "scatterpolar": [
           {
            "marker": {
             "colorbar": {
              "outlinewidth": 0,
              "ticks": ""
             }
            },
            "type": "scatterpolar"
           }
          ],
          "scatterpolargl": [
           {
            "marker": {
             "colorbar": {
              "outlinewidth": 0,
              "ticks": ""
             }
            },
            "type": "scatterpolargl"
           }
          ],
          "scatterternary": [
           {
            "marker": {
             "colorbar": {
              "outlinewidth": 0,
              "ticks": ""
             }
            },
            "type": "scatterternary"
           }
          ],
          "surface": [
           {
            "colorbar": {
             "outlinewidth": 0,
             "ticks": ""
            },
            "colorscale": [
             [
              0,
              "#0d0887"
             ],
             [
              0.1111111111111111,
              "#46039f"
             ],
             [
              0.2222222222222222,
              "#7201a8"
             ],
             [
              0.3333333333333333,
              "#9c179e"
             ],
             [
              0.4444444444444444,
              "#bd3786"
             ],
             [
              0.5555555555555556,
              "#d8576b"
             ],
             [
              0.6666666666666666,
              "#ed7953"
             ],
             [
              0.7777777777777778,
              "#fb9f3a"
             ],
             [
              0.8888888888888888,
              "#fdca26"
             ],
             [
              1,
              "#f0f921"
             ]
            ],
            "type": "surface"
           }
          ],
          "table": [
           {
            "cells": {
             "fill": {
              "color": "#EBF0F8"
             },
             "line": {
              "color": "white"
             }
            },
            "header": {
             "fill": {
              "color": "#C8D4E3"
             },
             "line": {
              "color": "white"
             }
            },
            "type": "table"
           }
          ]
         },
         "layout": {
          "annotationdefaults": {
           "arrowcolor": "#2a3f5f",
           "arrowhead": 0,
           "arrowwidth": 1
          },
          "autotypenumbers": "strict",
          "coloraxis": {
           "colorbar": {
            "outlinewidth": 0,
            "ticks": ""
           }
          },
          "colorscale": {
           "diverging": [
            [
             0,
             "#8e0152"
            ],
            [
             0.1,
             "#c51b7d"
            ],
            [
             0.2,
             "#de77ae"
            ],
            [
             0.3,
             "#f1b6da"
            ],
            [
             0.4,
             "#fde0ef"
            ],
            [
             0.5,
             "#f7f7f7"
            ],
            [
             0.6,
             "#e6f5d0"
            ],
            [
             0.7,
             "#b8e186"
            ],
            [
             0.8,
             "#7fbc41"
            ],
            [
             0.9,
             "#4d9221"
            ],
            [
             1,
             "#276419"
            ]
           ],
           "sequential": [
            [
             0,
             "#0d0887"
            ],
            [
             0.1111111111111111,
             "#46039f"
            ],
            [
             0.2222222222222222,
             "#7201a8"
            ],
            [
             0.3333333333333333,
             "#9c179e"
            ],
            [
             0.4444444444444444,
             "#bd3786"
            ],
            [
             0.5555555555555556,
             "#d8576b"
            ],
            [
             0.6666666666666666,
             "#ed7953"
            ],
            [
             0.7777777777777778,
             "#fb9f3a"
            ],
            [
             0.8888888888888888,
             "#fdca26"
            ],
            [
             1,
             "#f0f921"
            ]
           ],
           "sequentialminus": [
            [
             0,
             "#0d0887"
            ],
            [
             0.1111111111111111,
             "#46039f"
            ],
            [
             0.2222222222222222,
             "#7201a8"
            ],
            [
             0.3333333333333333,
             "#9c179e"
            ],
            [
             0.4444444444444444,
             "#bd3786"
            ],
            [
             0.5555555555555556,
             "#d8576b"
            ],
            [
             0.6666666666666666,
             "#ed7953"
            ],
            [
             0.7777777777777778,
             "#fb9f3a"
            ],
            [
             0.8888888888888888,
             "#fdca26"
            ],
            [
             1,
             "#f0f921"
            ]
           ]
          },
          "colorway": [
           "#636efa",
           "#EF553B",
           "#00cc96",
           "#ab63fa",
           "#FFA15A",
           "#19d3f3",
           "#FF6692",
           "#B6E880",
           "#FF97FF",
           "#FECB52"
          ],
          "font": {
           "color": "#2a3f5f"
          },
          "geo": {
           "bgcolor": "white",
           "lakecolor": "white",
           "landcolor": "#E5ECF6",
           "showlakes": true,
           "showland": true,
           "subunitcolor": "white"
          },
          "hoverlabel": {
           "align": "left"
          },
          "hovermode": "closest",
          "mapbox": {
           "style": "light"
          },
          "paper_bgcolor": "white",
          "plot_bgcolor": "#E5ECF6",
          "polar": {
           "angularaxis": {
            "gridcolor": "white",
            "linecolor": "white",
            "ticks": ""
           },
           "bgcolor": "#E5ECF6",
           "radialaxis": {
            "gridcolor": "white",
            "linecolor": "white",
            "ticks": ""
           }
          },
          "scene": {
           "xaxis": {
            "backgroundcolor": "#E5ECF6",
            "gridcolor": "white",
            "gridwidth": 2,
            "linecolor": "white",
            "showbackground": true,
            "ticks": "",
            "zerolinecolor": "white"
           },
           "yaxis": {
            "backgroundcolor": "#E5ECF6",
            "gridcolor": "white",
            "gridwidth": 2,
            "linecolor": "white",
            "showbackground": true,
            "ticks": "",
            "zerolinecolor": "white"
           },
           "zaxis": {
            "backgroundcolor": "#E5ECF6",
            "gridcolor": "white",
            "gridwidth": 2,
            "linecolor": "white",
            "showbackground": true,
            "ticks": "",
            "zerolinecolor": "white"
           }
          },
          "shapedefaults": {
           "line": {
            "color": "#2a3f5f"
           }
          },
          "ternary": {
           "aaxis": {
            "gridcolor": "white",
            "linecolor": "white",
            "ticks": ""
           },
           "baxis": {
            "gridcolor": "white",
            "linecolor": "white",
            "ticks": ""
           },
           "bgcolor": "#E5ECF6",
           "caxis": {
            "gridcolor": "white",
            "linecolor": "white",
            "ticks": ""
           }
          },
          "title": {
           "x": 0.05
          },
          "xaxis": {
           "automargin": true,
           "gridcolor": "white",
           "linecolor": "white",
           "ticks": "",
           "title": {
            "standoff": 15
           },
           "zerolinecolor": "white",
           "zerolinewidth": 2
          },
          "yaxis": {
           "automargin": true,
           "gridcolor": "white",
           "linecolor": "white",
           "ticks": "",
           "title": {
            "standoff": 15
           },
           "zerolinecolor": "white",
           "zerolinewidth": 2
          }
         }
        },
        "xaxis": {
         "anchor": "y",
         "domain": [
          0,
          1
         ],
         "title": {
          "text": "x"
         }
        },
        "yaxis": {
         "anchor": "x",
         "domain": [
          0,
          1
         ],
         "title": {
          "text": "log y"
         }
        }
       }
      }
     },
     "metadata": {},
     "output_type": "display_data"
    }
   ],
   "source": [
    "df_2['log y'] = np.log(df_2['y'])\n",
    "\n",
    "px.scatter(df_2, x='x', y='log y', trendline=\"ols\", trendline_color_override=\"red\")"
   ]
  },
  {
   "cell_type": "markdown",
   "id": "f01b37ca",
   "metadata": {},
   "source": [
    "That looks much better! We can verify that the residual plot has no \"patterns\":"
   ]
  },
  {
   "cell_type": "code",
   "execution_count": 14,
   "id": "63ff7185",
   "metadata": {},
   "outputs": [
    {
     "data": {
      "application/vnd.plotly.v1+json": {
       "config": {
        "plotlyServerURL": "https://plot.ly"
       },
       "data": [
        {
         "hovertemplate": "pred=%{x}<br>log y residuals=%{y}<extra></extra>",
         "legendgroup": "",
         "marker": {
          "color": "#636efa",
          "symbol": "circle"
         },
         "mode": "markers",
         "name": "",
         "orientation": "v",
         "showlegend": false,
         "type": "scatter",
         "x": [
          4.2869305027506455,
          4.317548037133593,
          4.348165571516539,
          4.378783105899487,
          4.409400640282433,
          4.440018174665381,
          4.470635709048327,
          4.501253243431274,
          4.5318707778142215,
          4.562488312197168,
          4.593105846580116,
          4.623723380963063,
          4.65434091534601,
          4.684958449728956,
          4.715575984111904,
          4.7461935184948505,
          4.776811052877798,
          4.807428587260745,
          4.838046121643692,
          4.868663656026639,
          4.899281190409585,
          4.929898724792533,
          4.96051625917548,
          4.9911337935584275,
          5.021751327941374,
          5.052368862324322,
          5.082986396707268,
          5.113603931090215,
          5.144221465473162,
          5.174838999856109,
          5.205456534239056,
          5.236074068622003,
          5.266691603004951,
          5.297309137387897,
          5.327926671770844,
          5.358544206153791,
          5.389161740536738,
          5.419779274919685,
          5.450396809302632,
          5.48101434368558,
          5.511631878068526,
          5.542249412451473,
          5.57286694683442,
          5.603484481217367,
          5.634102015600314,
          5.664719549983261,
          5.695337084366209,
          5.725954618749155,
          5.756572153132103,
          5.787189687515049,
          5.817807221897997,
          5.848424756280943,
          5.87904229066389,
          5.9096598250468375,
          5.940277359429785,
          5.970894893812732,
          6.001512428195679,
          6.032129962578626,
          6.062747496961572,
          6.09336503134452,
          6.1239825657274665,
          6.154600100110414,
          6.185217634493361,
          6.215835168876308,
          6.246452703259255,
          6.277070237642201,
          6.307687772025149,
          6.338305306408095,
          6.368922840791043,
          6.39954037517399,
          6.430157909556936,
          6.460775443939884,
          6.49139297832283,
          6.522010512705778,
          6.552628047088724,
          6.583245581471672,
          6.613863115854619,
          6.644480650237567,
          6.675098184620513,
          6.705715719003461,
          6.736333253386407,
          6.766950787769355,
          6.797568322152301,
          6.828185856535249,
          6.858803390918194,
          6.889420925301142,
          6.920038459684088,
          6.950655994067036,
          6.981273528449984,
          7.01189106283293,
          7.042508597215878,
          7.0731261315988245,
          7.103743665981771,
          7.134361200364719,
          7.164978734747665,
          7.195596269130613,
          7.226213803513559,
          7.256831337896507,
          7.2874488722794535,
          7.3180664066624
         ],
         "xaxis": "x",
         "y": [
          -1.0208366634237627,
          -0.19160819785134642,
          -0.3682998243343869,
          0.2963125133097204,
          -0.19273221630276982,
          0.3491721930663436,
          0.5773910217359468,
          0.227750235550217,
          -0.11529639397908298,
          -0.5654155267122243,
          0.4325800145205818,
          0.20895793511810368,
          0.32558876251889934,
          0.08259396742116731,
          -0.14434614548186087,
          0.11691555853342361,
          -0.17717639628161574,
          0.40830690251679425,
          -0.14812508490122855,
          0.08230753020585713,
          0.05769450975160684,
          -0.12694823108068487,
          0.2788601906197572,
          -0.5291472100457613,
          0.08495828603004352,
          0.21615800123801865,
          -0.10941414991545262,
          -0.1622500133818967,
          0.2911644483041842,
          0.03596802458289705,
          -0.39292282611437557,
          0.32242349628043776,
          0.39724518991452484,
          -0.23365790930797736,
          0.15119150886738542,
          -0.056048085028492345,
          -0.06831829926520694,
          -0.33922715826821737,
          0.1420914634114263,
          0.1375010643772976,
          -0.007168782564237475,
          -0.12988867801917348,
          -0.045239282508368284,
          -0.0380038229546491,
          -0.04226662106952617,
          0.12647093825049538,
          -0.18966029625748426,
          0.10089735819312828,
          0.1121622859994238,
          0.008904523742464754,
          0.09220401916479304,
          -0.04487831608381576,
          0.07017813802156248,
          -0.04646281772349781,
          -0.14274770724071928,
          0.08037424871526788,
          0.1447462163029858,
          0.03700514377987396,
          0.0035387636042338855,
          -0.14784043078236397,
          -0.1414772063230565,
          -0.06095860724900426,
          0.09239051821332112,
          -0.06941245524308659,
          0.047103860358284955,
          0.012735371916822835,
          0.050729369703070404,
          -0.01294412963912528,
          0.03947369977503801,
          0.05873930956063411,
          -0.01842477076000737,
          -0.04812063696631075,
          -0.08665318390920973,
          -0.055708952800606504,
          -0.039070112579139504,
          -0.05034339613039851,
          -0.0288577504257308,
          0.0504880141636459,
          0.043968779230137756,
          -0.007616897129889111,
          0.017102448343609744,
          0.0523138084941559,
          0.017239741589667013,
          -0.00244886232441921,
          0.0338058421059646,
          0.021006929897513515,
          0.04540791020918,
          -0.05826792940655956,
          -0.009272795270716117,
          -0.02081635383790914,
          0.0035493639426924517,
          0.045927352237200125,
          0.0029608441783137707,
          -0.0042986615044888765,
          -0.059822406985711396,
          -0.0410383063109121,
          0.013622669914475694,
          -0.006124495507026317,
          -0.01307739845678757,
          -0.03749789184210428
         ],
         "yaxis": "y"
        },
        {
         "hovertemplate": "<b>OLS trendline</b><br>log y residuals = 2.39392e-16 * pred + 7.35523e-16<br>R<sup>2</sup>=0.000000<br><br>pred=%{x}<br>log y residuals=%{y} <b>(trend)</b><extra></extra>",
         "legendgroup": "",
         "line": {
          "color": "red"
         },
         "marker": {
          "color": "#636efa",
          "symbol": "circle"
         },
         "mode": "lines",
         "name": "",
         "showlegend": false,
         "type": "scatter",
         "x": [
          4.2869305027506455,
          4.317548037133593,
          4.348165571516539,
          4.378783105899487,
          4.409400640282433,
          4.440018174665381,
          4.470635709048327,
          4.501253243431274,
          4.5318707778142215,
          4.562488312197168,
          4.593105846580116,
          4.623723380963063,
          4.65434091534601,
          4.684958449728956,
          4.715575984111904,
          4.7461935184948505,
          4.776811052877798,
          4.807428587260745,
          4.838046121643692,
          4.868663656026639,
          4.899281190409585,
          4.929898724792533,
          4.96051625917548,
          4.9911337935584275,
          5.021751327941374,
          5.052368862324322,
          5.082986396707268,
          5.113603931090215,
          5.144221465473162,
          5.174838999856109,
          5.205456534239056,
          5.236074068622003,
          5.266691603004951,
          5.297309137387897,
          5.327926671770844,
          5.358544206153791,
          5.389161740536738,
          5.419779274919685,
          5.450396809302632,
          5.48101434368558,
          5.511631878068526,
          5.542249412451473,
          5.57286694683442,
          5.603484481217367,
          5.634102015600314,
          5.664719549983261,
          5.695337084366209,
          5.725954618749155,
          5.756572153132103,
          5.787189687515049,
          5.817807221897997,
          5.848424756280943,
          5.87904229066389,
          5.9096598250468375,
          5.940277359429785,
          5.970894893812732,
          6.001512428195679,
          6.032129962578626,
          6.062747496961572,
          6.09336503134452,
          6.1239825657274665,
          6.154600100110414,
          6.185217634493361,
          6.215835168876308,
          6.246452703259255,
          6.277070237642201,
          6.307687772025149,
          6.338305306408095,
          6.368922840791043,
          6.39954037517399,
          6.430157909556936,
          6.460775443939884,
          6.49139297832283,
          6.522010512705778,
          6.552628047088724,
          6.583245581471672,
          6.613863115854619,
          6.644480650237567,
          6.675098184620513,
          6.705715719003461,
          6.736333253386407,
          6.766950787769355,
          6.797568322152301,
          6.828185856535249,
          6.858803390918194,
          6.889420925301142,
          6.920038459684088,
          6.950655994067036,
          6.981273528449984,
          7.01189106283293,
          7.042508597215878,
          7.0731261315988245,
          7.103743665981771,
          7.134361200364719,
          7.164978734747665,
          7.195596269130613,
          7.226213803513559,
          7.256831337896507,
          7.2874488722794535,
          7.3180664066624
         ],
         "xaxis": "x",
         "y": [
          1.7617789334685252e-15,
          1.7691085213510714e-15,
          1.7764381092336174e-15,
          1.783767697116164e-15,
          1.79109728499871e-15,
          1.7984268728812566e-15,
          1.805756460763803e-15,
          1.813086048646349e-15,
          1.8204156365288954e-15,
          1.8277452244114414e-15,
          1.835074812293988e-15,
          1.842404400176534e-15,
          1.8497339880590806e-15,
          1.8570635759416266e-15,
          1.8643931638241734e-15,
          1.8717227517067194e-15,
          1.8790523395892658e-15,
          1.886381927471812e-15,
          1.893711515354358e-15,
          1.9010411032369046e-15,
          1.9083706911194506e-15,
          1.9157002790019974e-15,
          1.9230298668845434e-15,
          1.9303594547670898e-15,
          1.9376890426496358e-15,
          1.9450186305321826e-15,
          1.9523482184147286e-15,
          1.959677806297275e-15,
          1.967007394179821e-15,
          1.9743369820623674e-15,
          1.9816665699449138e-15,
          1.9889961578274598e-15,
          1.9963257457100066e-15,
          2.0036553335925526e-15,
          2.010984921475099e-15,
          2.018314509357645e-15,
          2.0256440972401914e-15,
          2.0329736851227378e-15,
          2.0403032730052838e-15,
          2.04763286088783e-15,
          2.0549624487703766e-15,
          2.0622920366529226e-15,
          2.069621624535469e-15,
          2.0769512124180154e-15,
          2.0842808003005618e-15,
          2.091610388183108e-15,
          2.0989399760656542e-15,
          2.1062695639482006e-15,
          2.113599151830747e-15,
          2.120928739713293e-15,
          2.1282583275958394e-15,
          2.1355879154783858e-15,
          2.142917503360932e-15,
          2.1502470912434782e-15,
          2.1575766791260246e-15,
          2.164906267008571e-15,
          2.1722358548911174e-15,
          2.1795654427736634e-15,
          2.18689503065621e-15,
          2.1942246185387562e-15,
          2.2015542064213022e-15,
          2.2088837943038486e-15,
          2.216213382186395e-15,
          2.223542970068941e-15,
          2.2308725579514874e-15,
          2.2382021458340334e-15,
          2.2455317337165802e-15,
          2.2528613215991262e-15,
          2.2601909094816726e-15,
          2.2675204973642186e-15,
          2.274850085246765e-15,
          2.2821796731293114e-15,
          2.2895092610118574e-15,
          2.2968388488944042e-15,
          2.3041684367769502e-15,
          2.3114980246594966e-15,
          2.3188276125420426e-15,
          2.3261572004245894e-15,
          2.3334867883071354e-15,
          2.340816376189682e-15,
          2.348145964072228e-15,
          2.3554755519547746e-15,
          2.3628051398373206e-15,
          2.370134727719867e-15,
          2.3774643156024126e-15,
          2.3847939034849594e-15,
          2.3921234913675054e-15,
          2.399453079250052e-15,
          2.4067826671325986e-15,
          2.4141122550151446e-15,
          2.421441842897691e-15,
          2.428771430780237e-15,
          2.4361010186627834e-15,
          2.44343060654533e-15,
          2.450760194427876e-15,
          2.4580897823104226e-15,
          2.4654193701929686e-15,
          2.472748958075515e-15,
          2.480078545958061e-15,
          2.4874081338406074e-15
         ],
         "yaxis": "y"
        }
       ],
       "layout": {
        "legend": {
         "tracegroupgap": 0
        },
        "margin": {
         "t": 60
        },
        "template": {
         "data": {
          "bar": [
           {
            "error_x": {
             "color": "#2a3f5f"
            },
            "error_y": {
             "color": "#2a3f5f"
            },
            "marker": {
             "line": {
              "color": "#E5ECF6",
              "width": 0.5
             },
             "pattern": {
              "fillmode": "overlay",
              "size": 10,
              "solidity": 0.2
             }
            },
            "type": "bar"
           }
          ],
          "barpolar": [
           {
            "marker": {
             "line": {
              "color": "#E5ECF6",
              "width": 0.5
             },
             "pattern": {
              "fillmode": "overlay",
              "size": 10,
              "solidity": 0.2
             }
            },
            "type": "barpolar"
           }
          ],
          "carpet": [
           {
            "aaxis": {
             "endlinecolor": "#2a3f5f",
             "gridcolor": "white",
             "linecolor": "white",
             "minorgridcolor": "white",
             "startlinecolor": "#2a3f5f"
            },
            "baxis": {
             "endlinecolor": "#2a3f5f",
             "gridcolor": "white",
             "linecolor": "white",
             "minorgridcolor": "white",
             "startlinecolor": "#2a3f5f"
            },
            "type": "carpet"
           }
          ],
          "choropleth": [
           {
            "colorbar": {
             "outlinewidth": 0,
             "ticks": ""
            },
            "type": "choropleth"
           }
          ],
          "contour": [
           {
            "colorbar": {
             "outlinewidth": 0,
             "ticks": ""
            },
            "colorscale": [
             [
              0,
              "#0d0887"
             ],
             [
              0.1111111111111111,
              "#46039f"
             ],
             [
              0.2222222222222222,
              "#7201a8"
             ],
             [
              0.3333333333333333,
              "#9c179e"
             ],
             [
              0.4444444444444444,
              "#bd3786"
             ],
             [
              0.5555555555555556,
              "#d8576b"
             ],
             [
              0.6666666666666666,
              "#ed7953"
             ],
             [
              0.7777777777777778,
              "#fb9f3a"
             ],
             [
              0.8888888888888888,
              "#fdca26"
             ],
             [
              1,
              "#f0f921"
             ]
            ],
            "type": "contour"
           }
          ],
          "contourcarpet": [
           {
            "colorbar": {
             "outlinewidth": 0,
             "ticks": ""
            },
            "type": "contourcarpet"
           }
          ],
          "heatmap": [
           {
            "colorbar": {
             "outlinewidth": 0,
             "ticks": ""
            },
            "colorscale": [
             [
              0,
              "#0d0887"
             ],
             [
              0.1111111111111111,
              "#46039f"
             ],
             [
              0.2222222222222222,
              "#7201a8"
             ],
             [
              0.3333333333333333,
              "#9c179e"
             ],
             [
              0.4444444444444444,
              "#bd3786"
             ],
             [
              0.5555555555555556,
              "#d8576b"
             ],
             [
              0.6666666666666666,
              "#ed7953"
             ],
             [
              0.7777777777777778,
              "#fb9f3a"
             ],
             [
              0.8888888888888888,
              "#fdca26"
             ],
             [
              1,
              "#f0f921"
             ]
            ],
            "type": "heatmap"
           }
          ],
          "heatmapgl": [
           {
            "colorbar": {
             "outlinewidth": 0,
             "ticks": ""
            },
            "colorscale": [
             [
              0,
              "#0d0887"
             ],
             [
              0.1111111111111111,
              "#46039f"
             ],
             [
              0.2222222222222222,
              "#7201a8"
             ],
             [
              0.3333333333333333,
              "#9c179e"
             ],
             [
              0.4444444444444444,
              "#bd3786"
             ],
             [
              0.5555555555555556,
              "#d8576b"
             ],
             [
              0.6666666666666666,
              "#ed7953"
             ],
             [
              0.7777777777777778,
              "#fb9f3a"
             ],
             [
              0.8888888888888888,
              "#fdca26"
             ],
             [
              1,
              "#f0f921"
             ]
            ],
            "type": "heatmapgl"
           }
          ],
          "histogram": [
           {
            "marker": {
             "pattern": {
              "fillmode": "overlay",
              "size": 10,
              "solidity": 0.2
             }
            },
            "type": "histogram"
           }
          ],
          "histogram2d": [
           {
            "colorbar": {
             "outlinewidth": 0,
             "ticks": ""
            },
            "colorscale": [
             [
              0,
              "#0d0887"
             ],
             [
              0.1111111111111111,
              "#46039f"
             ],
             [
              0.2222222222222222,
              "#7201a8"
             ],
             [
              0.3333333333333333,
              "#9c179e"
             ],
             [
              0.4444444444444444,
              "#bd3786"
             ],
             [
              0.5555555555555556,
              "#d8576b"
             ],
             [
              0.6666666666666666,
              "#ed7953"
             ],
             [
              0.7777777777777778,
              "#fb9f3a"
             ],
             [
              0.8888888888888888,
              "#fdca26"
             ],
             [
              1,
              "#f0f921"
             ]
            ],
            "type": "histogram2d"
           }
          ],
          "histogram2dcontour": [
           {
            "colorbar": {
             "outlinewidth": 0,
             "ticks": ""
            },
            "colorscale": [
             [
              0,
              "#0d0887"
             ],
             [
              0.1111111111111111,
              "#46039f"
             ],
             [
              0.2222222222222222,
              "#7201a8"
             ],
             [
              0.3333333333333333,
              "#9c179e"
             ],
             [
              0.4444444444444444,
              "#bd3786"
             ],
             [
              0.5555555555555556,
              "#d8576b"
             ],
             [
              0.6666666666666666,
              "#ed7953"
             ],
             [
              0.7777777777777778,
              "#fb9f3a"
             ],
             [
              0.8888888888888888,
              "#fdca26"
             ],
             [
              1,
              "#f0f921"
             ]
            ],
            "type": "histogram2dcontour"
           }
          ],
          "mesh3d": [
           {
            "colorbar": {
             "outlinewidth": 0,
             "ticks": ""
            },
            "type": "mesh3d"
           }
          ],
          "parcoords": [
           {
            "line": {
             "colorbar": {
              "outlinewidth": 0,
              "ticks": ""
             }
            },
            "type": "parcoords"
           }
          ],
          "pie": [
           {
            "automargin": true,
            "type": "pie"
           }
          ],
          "scatter": [
           {
            "fillpattern": {
             "fillmode": "overlay",
             "size": 10,
             "solidity": 0.2
            },
            "type": "scatter"
           }
          ],
          "scatter3d": [
           {
            "line": {
             "colorbar": {
              "outlinewidth": 0,
              "ticks": ""
             }
            },
            "marker": {
             "colorbar": {
              "outlinewidth": 0,
              "ticks": ""
             }
            },
            "type": "scatter3d"
           }
          ],
          "scattercarpet": [
           {
            "marker": {
             "colorbar": {
              "outlinewidth": 0,
              "ticks": ""
             }
            },
            "type": "scattercarpet"
           }
          ],
          "scattergeo": [
           {
            "marker": {
             "colorbar": {
              "outlinewidth": 0,
              "ticks": ""
             }
            },
            "type": "scattergeo"
           }
          ],
          "scattergl": [
           {
            "marker": {
             "colorbar": {
              "outlinewidth": 0,
              "ticks": ""
             }
            },
            "type": "scattergl"
           }
          ],
          "scattermapbox": [
           {
            "marker": {
             "colorbar": {
              "outlinewidth": 0,
              "ticks": ""
             }
            },
            "type": "scattermapbox"
           }
          ],
          "scatterpolar": [
           {
            "marker": {
             "colorbar": {
              "outlinewidth": 0,
              "ticks": ""
             }
            },
            "type": "scatterpolar"
           }
          ],
          "scatterpolargl": [
           {
            "marker": {
             "colorbar": {
              "outlinewidth": 0,
              "ticks": ""
             }
            },
            "type": "scatterpolargl"
           }
          ],
          "scatterternary": [
           {
            "marker": {
             "colorbar": {
              "outlinewidth": 0,
              "ticks": ""
             }
            },
            "type": "scatterternary"
           }
          ],
          "surface": [
           {
            "colorbar": {
             "outlinewidth": 0,
             "ticks": ""
            },
            "colorscale": [
             [
              0,
              "#0d0887"
             ],
             [
              0.1111111111111111,
              "#46039f"
             ],
             [
              0.2222222222222222,
              "#7201a8"
             ],
             [
              0.3333333333333333,
              "#9c179e"
             ],
             [
              0.4444444444444444,
              "#bd3786"
             ],
             [
              0.5555555555555556,
              "#d8576b"
             ],
             [
              0.6666666666666666,
              "#ed7953"
             ],
             [
              0.7777777777777778,
              "#fb9f3a"
             ],
             [
              0.8888888888888888,
              "#fdca26"
             ],
             [
              1,
              "#f0f921"
             ]
            ],
            "type": "surface"
           }
          ],
          "table": [
           {
            "cells": {
             "fill": {
              "color": "#EBF0F8"
             },
             "line": {
              "color": "white"
             }
            },
            "header": {
             "fill": {
              "color": "#C8D4E3"
             },
             "line": {
              "color": "white"
             }
            },
            "type": "table"
           }
          ]
         },
         "layout": {
          "annotationdefaults": {
           "arrowcolor": "#2a3f5f",
           "arrowhead": 0,
           "arrowwidth": 1
          },
          "autotypenumbers": "strict",
          "coloraxis": {
           "colorbar": {
            "outlinewidth": 0,
            "ticks": ""
           }
          },
          "colorscale": {
           "diverging": [
            [
             0,
             "#8e0152"
            ],
            [
             0.1,
             "#c51b7d"
            ],
            [
             0.2,
             "#de77ae"
            ],
            [
             0.3,
             "#f1b6da"
            ],
            [
             0.4,
             "#fde0ef"
            ],
            [
             0.5,
             "#f7f7f7"
            ],
            [
             0.6,
             "#e6f5d0"
            ],
            [
             0.7,
             "#b8e186"
            ],
            [
             0.8,
             "#7fbc41"
            ],
            [
             0.9,
             "#4d9221"
            ],
            [
             1,
             "#276419"
            ]
           ],
           "sequential": [
            [
             0,
             "#0d0887"
            ],
            [
             0.1111111111111111,
             "#46039f"
            ],
            [
             0.2222222222222222,
             "#7201a8"
            ],
            [
             0.3333333333333333,
             "#9c179e"
            ],
            [
             0.4444444444444444,
             "#bd3786"
            ],
            [
             0.5555555555555556,
             "#d8576b"
            ],
            [
             0.6666666666666666,
             "#ed7953"
            ],
            [
             0.7777777777777778,
             "#fb9f3a"
            ],
            [
             0.8888888888888888,
             "#fdca26"
            ],
            [
             1,
             "#f0f921"
            ]
           ],
           "sequentialminus": [
            [
             0,
             "#0d0887"
            ],
            [
             0.1111111111111111,
             "#46039f"
            ],
            [
             0.2222222222222222,
             "#7201a8"
            ],
            [
             0.3333333333333333,
             "#9c179e"
            ],
            [
             0.4444444444444444,
             "#bd3786"
            ],
            [
             0.5555555555555556,
             "#d8576b"
            ],
            [
             0.6666666666666666,
             "#ed7953"
            ],
            [
             0.7777777777777778,
             "#fb9f3a"
            ],
            [
             0.8888888888888888,
             "#fdca26"
            ],
            [
             1,
             "#f0f921"
            ]
           ]
          },
          "colorway": [
           "#636efa",
           "#EF553B",
           "#00cc96",
           "#ab63fa",
           "#FFA15A",
           "#19d3f3",
           "#FF6692",
           "#B6E880",
           "#FF97FF",
           "#FECB52"
          ],
          "font": {
           "color": "#2a3f5f"
          },
          "geo": {
           "bgcolor": "white",
           "lakecolor": "white",
           "landcolor": "#E5ECF6",
           "showlakes": true,
           "showland": true,
           "subunitcolor": "white"
          },
          "hoverlabel": {
           "align": "left"
          },
          "hovermode": "closest",
          "mapbox": {
           "style": "light"
          },
          "paper_bgcolor": "white",
          "plot_bgcolor": "#E5ECF6",
          "polar": {
           "angularaxis": {
            "gridcolor": "white",
            "linecolor": "white",
            "ticks": ""
           },
           "bgcolor": "#E5ECF6",
           "radialaxis": {
            "gridcolor": "white",
            "linecolor": "white",
            "ticks": ""
           }
          },
          "scene": {
           "xaxis": {
            "backgroundcolor": "#E5ECF6",
            "gridcolor": "white",
            "gridwidth": 2,
            "linecolor": "white",
            "showbackground": true,
            "ticks": "",
            "zerolinecolor": "white"
           },
           "yaxis": {
            "backgroundcolor": "#E5ECF6",
            "gridcolor": "white",
            "gridwidth": 2,
            "linecolor": "white",
            "showbackground": true,
            "ticks": "",
            "zerolinecolor": "white"
           },
           "zaxis": {
            "backgroundcolor": "#E5ECF6",
            "gridcolor": "white",
            "gridwidth": 2,
            "linecolor": "white",
            "showbackground": true,
            "ticks": "",
            "zerolinecolor": "white"
           }
          },
          "shapedefaults": {
           "line": {
            "color": "#2a3f5f"
           }
          },
          "ternary": {
           "aaxis": {
            "gridcolor": "white",
            "linecolor": "white",
            "ticks": ""
           },
           "baxis": {
            "gridcolor": "white",
            "linecolor": "white",
            "ticks": ""
           },
           "bgcolor": "#E5ECF6",
           "caxis": {
            "gridcolor": "white",
            "linecolor": "white",
            "ticks": ""
           }
          },
          "title": {
           "x": 0.05
          },
          "xaxis": {
           "automargin": true,
           "gridcolor": "white",
           "linecolor": "white",
           "ticks": "",
           "title": {
            "standoff": 15
           },
           "zerolinecolor": "white",
           "zerolinewidth": 2
          },
          "yaxis": {
           "automargin": true,
           "gridcolor": "white",
           "linecolor": "white",
           "ticks": "",
           "title": {
            "standoff": 15
           },
           "zerolinecolor": "white",
           "zerolinewidth": 2
          }
         }
        },
        "xaxis": {
         "anchor": "y",
         "domain": [
          0,
          1
         ],
         "title": {
          "text": "pred"
         }
        },
        "yaxis": {
         "anchor": "x",
         "domain": [
          0,
          1
         ],
         "title": {
          "text": "log y residuals"
         }
        }
       }
      }
     },
     "metadata": {},
     "output_type": "display_data"
    }
   ],
   "source": [
    "create_residual_plot(df_2, 'x', 'log y')"
   ]
  },
  {
   "cell_type": "markdown",
   "id": "5ca5cc42",
   "metadata": {},
   "source": [
    "Note – there is still evidence of **heteroscedasticity**, or \"uneven spread\", in this scatter plot, but the relationship is as close to linear as we'll get."
   ]
  },
  {
   "cell_type": "markdown",
   "id": "0ce58890",
   "metadata": {},
   "source": [
    "### Question 1 –  Root vs. Log\n",
    "\n",
    "Now that we've learned how to perform transformations with example datasets, it's your job to apply these ideas to a real dataset. Below, you are given a dataset that describes the [number of home runs in the MLB per year](https://www.mlb.com/glossary/standard-stats/home-run). The relationship between the two variables, `'Year'` and `'Homeruns'`, is not linear.\n",
    "\n",
    "**Specifically, your job is to determine what the appropriate transformation to apply to the `'Home runs'` column is, in order to linearize the relationship.**\n",
    "\n",
    "Complete the implementation of the function `best_transformation`, which returns either 1, 2, 3, or 4, with the value corresponding to one of the following choices:\n",
    "\n",
    "1. Square root transformation.\n",
    "2. Log transformation.\n",
    "3. Both work the same.\n",
    "4. Neither gives a transformation revealing a linear relationship.\n",
    "\n",
    "***Hint***: If you find that both residual plots have some sort of pattern, choose the residual plot in which the vertical spread is constant. There is one clearly correct answer."
   ]
  },
  {
   "cell_type": "code",
   "execution_count": 15,
   "id": "abc497a9",
   "metadata": {
    "scrolled": true
   },
   "outputs": [],
   "source": [
    "homeruns_fp = Path('data')/'homeruns.csv'\n",
    "homeruns = pd.read_csv(homeruns_fp)"
   ]
  },
  {
   "cell_type": "code",
   "execution_count": 18,
   "id": "ad507c3a",
   "metadata": {},
   "outputs": [
    {
     "data": {
      "application/vnd.plotly.v1+json": {
       "config": {
        "plotlyServerURL": "https://plot.ly"
       },
       "data": [
        {
         "hovertemplate": "x=%{x}<br>y=%{y}<extra></extra>",
         "legendgroup": "",
         "marker": {
          "color": "#636efa",
          "symbol": "circle"
         },
         "mode": "markers",
         "name": "",
         "orientation": "v",
         "showlegend": false,
         "type": "scatter",
         "x": [
          1900,
          1901,
          1902,
          1903,
          1904,
          1905,
          1906,
          1907,
          1908,
          1909,
          1910,
          1911,
          1912,
          1913,
          1914,
          1915,
          1916,
          1917,
          1918,
          1919,
          1920,
          1921,
          1922,
          1923,
          1924,
          1925,
          1926,
          1927,
          1928,
          1929,
          1930,
          1931,
          1932,
          1933,
          1934,
          1935,
          1936,
          1937,
          1938,
          1939,
          1940,
          1941,
          1942,
          1943,
          1944,
          1945,
          1946,
          1947,
          1948,
          1949,
          1950,
          1951,
          1952,
          1953,
          1954,
          1955,
          1956,
          1957,
          1958,
          1959,
          1960,
          1961,
          1962,
          1963,
          1964,
          1965,
          1966,
          1967,
          1968,
          1969,
          1970,
          1971,
          1972,
          1973,
          1974,
          1975,
          1976,
          1977,
          1978,
          1979,
          1980,
          1981,
          1982,
          1983,
          1984,
          1985,
          1986,
          1987,
          1988,
          1989,
          1990,
          1991,
          1992,
          1993,
          1994,
          1995,
          1996,
          1997,
          1998,
          1999,
          2000,
          2001,
          2002,
          2003,
          2004,
          2005,
          2006,
          2007,
          2008,
          2009,
          2010,
          2011,
          2012,
          2013,
          2014,
          2015,
          2016,
          2017,
          2018,
          2019
         ],
         "xaxis": "x",
         "y": [
          254,
          455,
          354,
          335,
          331,
          338,
          261,
          244,
          267,
          259,
          361,
          514,
          442,
          470,
          710,
          635,
          383,
          335,
          235,
          447,
          630,
          937,
          1055,
          980,
          896,
          1169,
          863,
          922,
          1093,
          1349,
          1565,
          1069,
          1358,
          1067,
          1344,
          1325,
          1364,
          1430,
          1475,
          1445,
          1571,
          1331,
          1071,
          905,
          1034,
          1007,
          1215,
          1565,
          1555,
          1704,
          2073,
          1863,
          1701,
          2076,
          1937,
          2224,
          2294,
          2202,
          2240,
          2250,
          2128,
          2730,
          3001,
          2704,
          2762,
          2688,
          2743,
          2299,
          1995,
          3119,
          3429,
          2863,
          2534,
          3102,
          2649,
          2698,
          2235,
          3644,
          2956,
          3433,
          3087,
          1781,
          3379,
          3301,
          3258,
          3602,
          3813,
          4458,
          3180,
          3083,
          3317,
          3383,
          3038,
          4030,
          3306,
          4081,
          4962,
          4640,
          5064,
          5528,
          5693,
          5458,
          5059,
          5207,
          5451,
          5017,
          5386,
          4957,
          4878,
          5042,
          4613,
          4552,
          4934,
          4661,
          4186,
          4909,
          5610,
          6105,
          5585,
          6776
         ],
         "yaxis": "y"
        },
        {
         "hovertemplate": "<b>OLS trendline</b><br>y = 46.858 * x + -89327.7<br>R<sup>2</sup>=0.913478<br><br>x=%{x}<br>y=%{y} <b>(trend)</b><extra></extra>",
         "legendgroup": "",
         "line": {
          "color": "red"
         },
         "marker": {
          "color": "#636efa",
          "symbol": "circle"
         },
         "mode": "lines",
         "name": "",
         "showlegend": false,
         "type": "scatter",
         "x": [
          1900,
          1901,
          1902,
          1903,
          1904,
          1905,
          1906,
          1907,
          1908,
          1909,
          1910,
          1911,
          1912,
          1913,
          1914,
          1915,
          1916,
          1917,
          1918,
          1919,
          1920,
          1921,
          1922,
          1923,
          1924,
          1925,
          1926,
          1927,
          1928,
          1929,
          1930,
          1931,
          1932,
          1933,
          1934,
          1935,
          1936,
          1937,
          1938,
          1939,
          1940,
          1941,
          1942,
          1943,
          1944,
          1945,
          1946,
          1947,
          1948,
          1949,
          1950,
          1951,
          1952,
          1953,
          1954,
          1955,
          1956,
          1957,
          1958,
          1959,
          1960,
          1961,
          1962,
          1963,
          1964,
          1965,
          1966,
          1967,
          1968,
          1969,
          1970,
          1971,
          1972,
          1973,
          1974,
          1975,
          1976,
          1977,
          1978,
          1979,
          1980,
          1981,
          1982,
          1983,
          1984,
          1985,
          1986,
          1987,
          1988,
          1989,
          1990,
          1991,
          1992,
          1993,
          1994,
          1995,
          1996,
          1997,
          1998,
          1999,
          2000,
          2001,
          2002,
          2003,
          2004,
          2005,
          2006,
          2007,
          2008,
          2009,
          2010,
          2011,
          2012,
          2013,
          2014,
          2015,
          2016,
          2017,
          2018,
          2019
         ],
         "xaxis": "x",
         "y": [
          -297.5020661157355,
          -250.64404819782442,
          -203.78603027991335,
          -156.92801236200228,
          -110.06999444409121,
          -63.21197652618014,
          -16.353958608269068,
          30.504059309642003,
          77.36207722755307,
          124.22009514546414,
          171.0781130633752,
          217.93613098128628,
          264.79414889919735,
          311.6521668171084,
          358.5101847350195,
          405.36820265293056,
          452.22622057084163,
          499.0842384887527,
          545.9422564066638,
          592.8002743245748,
          639.6582922424859,
          686.516310160397,
          733.374328078308,
          780.2323459962191,
          827.0903639141302,
          873.9483818320413,
          920.8063997499523,
          967.6644176678634,
          1014.5224355857745,
          1061.3804535036857,
          1108.2384714215966,
          1155.0964893395076,
          1201.9545072574188,
          1248.81252517533,
          1295.670543093241,
          1342.5285610111519,
          1389.386578929063,
          1436.2445968469742,
          1483.1026147648852,
          1529.9606326827961,
          1576.8186506007073,
          1623.6766685186185,
          1670.5346864365295,
          1717.3927043544404,
          1764.2507222723516,
          1811.1087401902628,
          1857.9667581081737,
          1904.8247760260847,
          1951.6827939439959,
          1998.540811861907,
          2045.398829779818,
          2092.256847697729,
          2139.11486561564,
          2185.9728835335513,
          2232.8309014514625,
          2279.6889193693733,
          2326.5469372872844,
          2373.4049552051956,
          2420.2629731231063,
          2467.1209910410175,
          2513.9790089589287,
          2560.83702687684,
          2607.695044794751,
          2654.553062712662,
          2701.411080630573,
          2748.269098548484,
          2795.127116466395,
          2841.985134384306,
          2888.8431523022173,
          2935.7011702201285,
          2982.5591881380396,
          3029.4172060559504,
          3076.2752239738616,
          3123.1332418917727,
          3169.9912598096835,
          3216.8492777275947,
          3263.707295645506,
          3310.565313563417,
          3357.423331481328,
          3404.281349399239,
          3451.13936731715,
          3497.9973852350613,
          3544.855403152972,
          3591.713421070883,
          3638.5714389887944,
          3685.4294569067056,
          3732.2874748246168,
          3779.1454927425275,
          3826.0035106604387,
          3872.86152857835,
          3919.7195464962606,
          3966.577564414172,
          4013.435582332083,
          4060.293600249994,
          4107.151618167905,
          4154.009636085816,
          4200.867654003727,
          4247.725671921638,
          4294.583689839549,
          4341.441707757461,
          4388.2997256753715,
          4435.157743593282,
          4482.015761511194,
          4528.873779429105,
          4575.731797347016,
          4622.589815264927,
          4669.447833182838,
          4716.305851100749,
          4763.16386901866,
          4810.021886936571,
          4856.879904854482,
          4903.737922772393,
          4950.595940690304,
          4997.4539586082155,
          5044.311976526126,
          5091.169994444038,
          5138.028012361949,
          5184.886030279859,
          5231.744048197771,
          5278.602066115682
         ],
         "yaxis": "y"
        }
       ],
       "layout": {
        "legend": {
         "tracegroupgap": 0
        },
        "margin": {
         "t": 60
        },
        "template": {
         "data": {
          "bar": [
           {
            "error_x": {
             "color": "#2a3f5f"
            },
            "error_y": {
             "color": "#2a3f5f"
            },
            "marker": {
             "line": {
              "color": "#E5ECF6",
              "width": 0.5
             },
             "pattern": {
              "fillmode": "overlay",
              "size": 10,
              "solidity": 0.2
             }
            },
            "type": "bar"
           }
          ],
          "barpolar": [
           {
            "marker": {
             "line": {
              "color": "#E5ECF6",
              "width": 0.5
             },
             "pattern": {
              "fillmode": "overlay",
              "size": 10,
              "solidity": 0.2
             }
            },
            "type": "barpolar"
           }
          ],
          "carpet": [
           {
            "aaxis": {
             "endlinecolor": "#2a3f5f",
             "gridcolor": "white",
             "linecolor": "white",
             "minorgridcolor": "white",
             "startlinecolor": "#2a3f5f"
            },
            "baxis": {
             "endlinecolor": "#2a3f5f",
             "gridcolor": "white",
             "linecolor": "white",
             "minorgridcolor": "white",
             "startlinecolor": "#2a3f5f"
            },
            "type": "carpet"
           }
          ],
          "choropleth": [
           {
            "colorbar": {
             "outlinewidth": 0,
             "ticks": ""
            },
            "type": "choropleth"
           }
          ],
          "contour": [
           {
            "colorbar": {
             "outlinewidth": 0,
             "ticks": ""
            },
            "colorscale": [
             [
              0,
              "#0d0887"
             ],
             [
              0.1111111111111111,
              "#46039f"
             ],
             [
              0.2222222222222222,
              "#7201a8"
             ],
             [
              0.3333333333333333,
              "#9c179e"
             ],
             [
              0.4444444444444444,
              "#bd3786"
             ],
             [
              0.5555555555555556,
              "#d8576b"
             ],
             [
              0.6666666666666666,
              "#ed7953"
             ],
             [
              0.7777777777777778,
              "#fb9f3a"
             ],
             [
              0.8888888888888888,
              "#fdca26"
             ],
             [
              1,
              "#f0f921"
             ]
            ],
            "type": "contour"
           }
          ],
          "contourcarpet": [
           {
            "colorbar": {
             "outlinewidth": 0,
             "ticks": ""
            },
            "type": "contourcarpet"
           }
          ],
          "heatmap": [
           {
            "colorbar": {
             "outlinewidth": 0,
             "ticks": ""
            },
            "colorscale": [
             [
              0,
              "#0d0887"
             ],
             [
              0.1111111111111111,
              "#46039f"
             ],
             [
              0.2222222222222222,
              "#7201a8"
             ],
             [
              0.3333333333333333,
              "#9c179e"
             ],
             [
              0.4444444444444444,
              "#bd3786"
             ],
             [
              0.5555555555555556,
              "#d8576b"
             ],
             [
              0.6666666666666666,
              "#ed7953"
             ],
             [
              0.7777777777777778,
              "#fb9f3a"
             ],
             [
              0.8888888888888888,
              "#fdca26"
             ],
             [
              1,
              "#f0f921"
             ]
            ],
            "type": "heatmap"
           }
          ],
          "heatmapgl": [
           {
            "colorbar": {
             "outlinewidth": 0,
             "ticks": ""
            },
            "colorscale": [
             [
              0,
              "#0d0887"
             ],
             [
              0.1111111111111111,
              "#46039f"
             ],
             [
              0.2222222222222222,
              "#7201a8"
             ],
             [
              0.3333333333333333,
              "#9c179e"
             ],
             [
              0.4444444444444444,
              "#bd3786"
             ],
             [
              0.5555555555555556,
              "#d8576b"
             ],
             [
              0.6666666666666666,
              "#ed7953"
             ],
             [
              0.7777777777777778,
              "#fb9f3a"
             ],
             [
              0.8888888888888888,
              "#fdca26"
             ],
             [
              1,
              "#f0f921"
             ]
            ],
            "type": "heatmapgl"
           }
          ],
          "histogram": [
           {
            "marker": {
             "pattern": {
              "fillmode": "overlay",
              "size": 10,
              "solidity": 0.2
             }
            },
            "type": "histogram"
           }
          ],
          "histogram2d": [
           {
            "colorbar": {
             "outlinewidth": 0,
             "ticks": ""
            },
            "colorscale": [
             [
              0,
              "#0d0887"
             ],
             [
              0.1111111111111111,
              "#46039f"
             ],
             [
              0.2222222222222222,
              "#7201a8"
             ],
             [
              0.3333333333333333,
              "#9c179e"
             ],
             [
              0.4444444444444444,
              "#bd3786"
             ],
             [
              0.5555555555555556,
              "#d8576b"
             ],
             [
              0.6666666666666666,
              "#ed7953"
             ],
             [
              0.7777777777777778,
              "#fb9f3a"
             ],
             [
              0.8888888888888888,
              "#fdca26"
             ],
             [
              1,
              "#f0f921"
             ]
            ],
            "type": "histogram2d"
           }
          ],
          "histogram2dcontour": [
           {
            "colorbar": {
             "outlinewidth": 0,
             "ticks": ""
            },
            "colorscale": [
             [
              0,
              "#0d0887"
             ],
             [
              0.1111111111111111,
              "#46039f"
             ],
             [
              0.2222222222222222,
              "#7201a8"
             ],
             [
              0.3333333333333333,
              "#9c179e"
             ],
             [
              0.4444444444444444,
              "#bd3786"
             ],
             [
              0.5555555555555556,
              "#d8576b"
             ],
             [
              0.6666666666666666,
              "#ed7953"
             ],
             [
              0.7777777777777778,
              "#fb9f3a"
             ],
             [
              0.8888888888888888,
              "#fdca26"
             ],
             [
              1,
              "#f0f921"
             ]
            ],
            "type": "histogram2dcontour"
           }
          ],
          "mesh3d": [
           {
            "colorbar": {
             "outlinewidth": 0,
             "ticks": ""
            },
            "type": "mesh3d"
           }
          ],
          "parcoords": [
           {
            "line": {
             "colorbar": {
              "outlinewidth": 0,
              "ticks": ""
             }
            },
            "type": "parcoords"
           }
          ],
          "pie": [
           {
            "automargin": true,
            "type": "pie"
           }
          ],
          "scatter": [
           {
            "fillpattern": {
             "fillmode": "overlay",
             "size": 10,
             "solidity": 0.2
            },
            "type": "scatter"
           }
          ],
          "scatter3d": [
           {
            "line": {
             "colorbar": {
              "outlinewidth": 0,
              "ticks": ""
             }
            },
            "marker": {
             "colorbar": {
              "outlinewidth": 0,
              "ticks": ""
             }
            },
            "type": "scatter3d"
           }
          ],
          "scattercarpet": [
           {
            "marker": {
             "colorbar": {
              "outlinewidth": 0,
              "ticks": ""
             }
            },
            "type": "scattercarpet"
           }
          ],
          "scattergeo": [
           {
            "marker": {
             "colorbar": {
              "outlinewidth": 0,
              "ticks": ""
             }
            },
            "type": "scattergeo"
           }
          ],
          "scattergl": [
           {
            "marker": {
             "colorbar": {
              "outlinewidth": 0,
              "ticks": ""
             }
            },
            "type": "scattergl"
           }
          ],
          "scattermapbox": [
           {
            "marker": {
             "colorbar": {
              "outlinewidth": 0,
              "ticks": ""
             }
            },
            "type": "scattermapbox"
           }
          ],
          "scatterpolar": [
           {
            "marker": {
             "colorbar": {
              "outlinewidth": 0,
              "ticks": ""
             }
            },
            "type": "scatterpolar"
           }
          ],
          "scatterpolargl": [
           {
            "marker": {
             "colorbar": {
              "outlinewidth": 0,
              "ticks": ""
             }
            },
            "type": "scatterpolargl"
           }
          ],
          "scatterternary": [
           {
            "marker": {
             "colorbar": {
              "outlinewidth": 0,
              "ticks": ""
             }
            },
            "type": "scatterternary"
           }
          ],
          "surface": [
           {
            "colorbar": {
             "outlinewidth": 0,
             "ticks": ""
            },
            "colorscale": [
             [
              0,
              "#0d0887"
             ],
             [
              0.1111111111111111,
              "#46039f"
             ],
             [
              0.2222222222222222,
              "#7201a8"
             ],
             [
              0.3333333333333333,
              "#9c179e"
             ],
             [
              0.4444444444444444,
              "#bd3786"
             ],
             [
              0.5555555555555556,
              "#d8576b"
             ],
             [
              0.6666666666666666,
              "#ed7953"
             ],
             [
              0.7777777777777778,
              "#fb9f3a"
             ],
             [
              0.8888888888888888,
              "#fdca26"
             ],
             [
              1,
              "#f0f921"
             ]
            ],
            "type": "surface"
           }
          ],
          "table": [
           {
            "cells": {
             "fill": {
              "color": "#EBF0F8"
             },
             "line": {
              "color": "white"
             }
            },
            "header": {
             "fill": {
              "color": "#C8D4E3"
             },
             "line": {
              "color": "white"
             }
            },
            "type": "table"
           }
          ]
         },
         "layout": {
          "annotationdefaults": {
           "arrowcolor": "#2a3f5f",
           "arrowhead": 0,
           "arrowwidth": 1
          },
          "autotypenumbers": "strict",
          "coloraxis": {
           "colorbar": {
            "outlinewidth": 0,
            "ticks": ""
           }
          },
          "colorscale": {
           "diverging": [
            [
             0,
             "#8e0152"
            ],
            [
             0.1,
             "#c51b7d"
            ],
            [
             0.2,
             "#de77ae"
            ],
            [
             0.3,
             "#f1b6da"
            ],
            [
             0.4,
             "#fde0ef"
            ],
            [
             0.5,
             "#f7f7f7"
            ],
            [
             0.6,
             "#e6f5d0"
            ],
            [
             0.7,
             "#b8e186"
            ],
            [
             0.8,
             "#7fbc41"
            ],
            [
             0.9,
             "#4d9221"
            ],
            [
             1,
             "#276419"
            ]
           ],
           "sequential": [
            [
             0,
             "#0d0887"
            ],
            [
             0.1111111111111111,
             "#46039f"
            ],
            [
             0.2222222222222222,
             "#7201a8"
            ],
            [
             0.3333333333333333,
             "#9c179e"
            ],
            [
             0.4444444444444444,
             "#bd3786"
            ],
            [
             0.5555555555555556,
             "#d8576b"
            ],
            [
             0.6666666666666666,
             "#ed7953"
            ],
            [
             0.7777777777777778,
             "#fb9f3a"
            ],
            [
             0.8888888888888888,
             "#fdca26"
            ],
            [
             1,
             "#f0f921"
            ]
           ],
           "sequentialminus": [
            [
             0,
             "#0d0887"
            ],
            [
             0.1111111111111111,
             "#46039f"
            ],
            [
             0.2222222222222222,
             "#7201a8"
            ],
            [
             0.3333333333333333,
             "#9c179e"
            ],
            [
             0.4444444444444444,
             "#bd3786"
            ],
            [
             0.5555555555555556,
             "#d8576b"
            ],
            [
             0.6666666666666666,
             "#ed7953"
            ],
            [
             0.7777777777777778,
             "#fb9f3a"
            ],
            [
             0.8888888888888888,
             "#fdca26"
            ],
            [
             1,
             "#f0f921"
            ]
           ]
          },
          "colorway": [
           "#636efa",
           "#EF553B",
           "#00cc96",
           "#ab63fa",
           "#FFA15A",
           "#19d3f3",
           "#FF6692",
           "#B6E880",
           "#FF97FF",
           "#FECB52"
          ],
          "font": {
           "color": "#2a3f5f"
          },
          "geo": {
           "bgcolor": "white",
           "lakecolor": "white",
           "landcolor": "#E5ECF6",
           "showlakes": true,
           "showland": true,
           "subunitcolor": "white"
          },
          "hoverlabel": {
           "align": "left"
          },
          "hovermode": "closest",
          "mapbox": {
           "style": "light"
          },
          "paper_bgcolor": "white",
          "plot_bgcolor": "#E5ECF6",
          "polar": {
           "angularaxis": {
            "gridcolor": "white",
            "linecolor": "white",
            "ticks": ""
           },
           "bgcolor": "#E5ECF6",
           "radialaxis": {
            "gridcolor": "white",
            "linecolor": "white",
            "ticks": ""
           }
          },
          "scene": {
           "xaxis": {
            "backgroundcolor": "#E5ECF6",
            "gridcolor": "white",
            "gridwidth": 2,
            "linecolor": "white",
            "showbackground": true,
            "ticks": "",
            "zerolinecolor": "white"
           },
           "yaxis": {
            "backgroundcolor": "#E5ECF6",
            "gridcolor": "white",
            "gridwidth": 2,
            "linecolor": "white",
            "showbackground": true,
            "ticks": "",
            "zerolinecolor": "white"
           },
           "zaxis": {
            "backgroundcolor": "#E5ECF6",
            "gridcolor": "white",
            "gridwidth": 2,
            "linecolor": "white",
            "showbackground": true,
            "ticks": "",
            "zerolinecolor": "white"
           }
          },
          "shapedefaults": {
           "line": {
            "color": "#2a3f5f"
           }
          },
          "ternary": {
           "aaxis": {
            "gridcolor": "white",
            "linecolor": "white",
            "ticks": ""
           },
           "baxis": {
            "gridcolor": "white",
            "linecolor": "white",
            "ticks": ""
           },
           "bgcolor": "#E5ECF6",
           "caxis": {
            "gridcolor": "white",
            "linecolor": "white",
            "ticks": ""
           }
          },
          "title": {
           "x": 0.05
          },
          "xaxis": {
           "automargin": true,
           "gridcolor": "white",
           "linecolor": "white",
           "ticks": "",
           "title": {
            "standoff": 15
           },
           "zerolinecolor": "white",
           "zerolinewidth": 2
          },
          "yaxis": {
           "automargin": true,
           "gridcolor": "white",
           "linecolor": "white",
           "ticks": "",
           "title": {
            "standoff": 15
           },
           "zerolinecolor": "white",
           "zerolinewidth": 2
          }
         }
        },
        "xaxis": {
         "anchor": "y",
         "domain": [
          0,
          1
         ],
         "title": {
          "text": "x"
         }
        },
        "yaxis": {
         "anchor": "x",
         "domain": [
          0,
          1
         ],
         "title": {
          "text": "y"
         }
        }
       }
      }
     },
     "metadata": {},
     "output_type": "display_data"
    }
   ],
   "source": [
    "x = homeruns['Year']\n",
    "y = homeruns['Homeruns']\n",
    "homeruns_copy = pd.DataFrame().assign(x=x, y=y)\n",
    "\n",
    "px.scatter(homeruns_copy, x='x', y='y', trendline=\"ols\", trendline_color_override=\"red\")"
   ]
  },
  {
   "cell_type": "code",
   "execution_count": 20,
   "id": "64e0f8ed",
   "metadata": {},
   "outputs": [
    {
     "data": {
      "application/vnd.plotly.v1+json": {
       "config": {
        "plotlyServerURL": "https://plot.ly"
       },
       "data": [
        {
         "hovertemplate": "x=%{x}<br>root y=%{y}<extra></extra>",
         "legendgroup": "",
         "marker": {
          "color": "#636efa",
          "symbol": "circle"
         },
         "mode": "markers",
         "name": "",
         "orientation": "v",
         "showlegend": false,
         "type": "scatter",
         "x": [
          2,
          2.0303030303030303,
          2.0606060606060606,
          2.090909090909091,
          2.121212121212121,
          2.1515151515151514,
          2.1818181818181817,
          2.212121212121212,
          2.242424242424242,
          2.2727272727272725,
          2.303030303030303,
          2.3333333333333335,
          2.3636363636363638,
          2.393939393939394,
          2.4242424242424243,
          2.4545454545454546,
          2.484848484848485,
          2.515151515151515,
          2.5454545454545454,
          2.5757575757575757,
          2.606060606060606,
          2.6363636363636362,
          2.666666666666667,
          2.6969696969696972,
          2.7272727272727275,
          2.757575757575758,
          2.787878787878788,
          2.8181818181818183,
          2.8484848484848486,
          2.878787878787879,
          2.909090909090909,
          2.9393939393939394,
          2.9696969696969697,
          3,
          3.0303030303030303,
          3.0606060606060606,
          3.090909090909091,
          3.121212121212121,
          3.1515151515151514,
          3.1818181818181817,
          3.212121212121212,
          3.242424242424242,
          3.2727272727272725,
          3.3030303030303028,
          3.3333333333333335,
          3.3636363636363638,
          3.393939393939394,
          3.4242424242424243,
          3.4545454545454546,
          3.484848484848485,
          3.515151515151515,
          3.5454545454545454,
          3.5757575757575757,
          3.6060606060606064,
          3.6363636363636367,
          3.666666666666667,
          3.6969696969696972,
          3.7272727272727275,
          3.757575757575758,
          3.787878787878788,
          3.8181818181818183,
          3.8484848484848486,
          3.878787878787879,
          3.909090909090909,
          3.9393939393939394,
          3.9696969696969697,
          4,
          4.03030303030303,
          4.0606060606060606,
          4.090909090909091,
          4.121212121212121,
          4.151515151515151,
          4.181818181818182,
          4.212121212121213,
          4.242424242424242,
          4.272727272727273,
          4.303030303030303,
          4.333333333333334,
          4.363636363636363,
          4.3939393939393945,
          4.424242424242424,
          4.454545454545455,
          4.484848484848484,
          4.515151515151516,
          4.545454545454545,
          4.575757575757576,
          4.6060606060606055,
          4.636363636363637,
          4.666666666666667,
          4.696969696969697,
          4.7272727272727275,
          4.757575757575758,
          4.787878787878788,
          4.818181818181818,
          4.848484848484849,
          4.878787878787879,
          4.909090909090909,
          4.9393939393939394,
          4.96969696969697,
          5
         ],
         "xaxis": "x",
         "y": [
          5.119449530327179,
          7.869306346827667,
          7.3150427132801035,
          10.355810981064797,
          8.234512900652982,
          10.963758854135204,
          12.478577391675149,
          10.638736634352208,
          9.100116284135323,
          7.37824933315752,
          12.339961895040974,
          11.204782073695355,
          12.060852040555961,
          10.845781565453695,
          9.831730086313245,
          11.376553631667452,
          9.972360620334415,
          13.570085098306654,
          10.432860813079829,
          11.887478189366846,
          11.923221081375123,
          11.039450288003293,
          13.731441795963208,
          9.30910814907123,
          12.850141294808376,
          13.933046043760566,
          12.022574891105569,
          11.889753263081095,
          15.145340954279298,
          13.536686419241677,
          11.09247393034188,
          16.106916603689413,
          16.97884905949795,
          12.576444926039027,
          15.480158239807396,
          14.171714770954484,
          14.302319410269432,
          12.683171782764848,
          16.38299876339323,
          16.59759331838262,
          15.67757814182616,
          14.971978697463793,
          15.860215950537484,
          16.16325294813998,
          16.377651584970167,
          18.09426874337192,
          15.68709490946483,
          18.41979660092513,
          18.80959702363227,
          18.138687816945257,
          19.20183064402184,
          18.206400718751482,
          19.581988983382306,
          18.75759062190164,
          18.151710997356307,
          20.607077222077642,
          21.60941981668541,
          20.7919845274323,
          20.762389031865748,
          19.545836564154524,
          19.91060849127384,
          21.048319988708567,
          23.076252913392874,
          21.611192608803332,
          23.261003335185663,
          23.217418741480614,
          24.027729779656674,
          23.633863754345228,
          24.63574089120389,
          25.257921830231275,
          24.67687497838068,
          24.688249544256525,
          24.59073871876232,
          25.359433220060783,
          25.96576571806316,
          26.218128334671707,
          26.91012696102369,
          28.431120349941164,
          28.77576333368214,
          28.475652130628195,
          29.274529887710123,
          30.25411771829336,
          30.186778541202997,
          30.352184659481715,
          31.38420109691419,
          31.6650619884442,
          32.548236368086904,
          31.380730692602597,
          32.65507782463211,
          32.96799869647809,
          33.88691597953825,
          35.14655981505514,
          34.93021643607781,
          35.34055846612545,
          34.903187725646305,
          35.77606095796323,
          37.33451510461973,
          37.53798753591016,
          37.984786979051606,
          38.102666151353716
         ],
         "yaxis": "y"
        },
        {
         "hovertemplate": "<b>OLS trendline</b><br>root y = 9.63148 * x + -13.6349<br>R<sup>2</sup>=0.945913<br><br>x=%{x}<br>root y=%{y} <b>(trend)</b><extra></extra>",
         "legendgroup": "",
         "line": {
          "color": "red"
         },
         "marker": {
          "color": "#636efa",
          "symbol": "circle"
         },
         "mode": "lines",
         "name": "",
         "showlegend": false,
         "type": "scatter",
         "x": [
          2,
          2.0303030303030303,
          2.0606060606060606,
          2.090909090909091,
          2.121212121212121,
          2.1515151515151514,
          2.1818181818181817,
          2.212121212121212,
          2.242424242424242,
          2.2727272727272725,
          2.303030303030303,
          2.3333333333333335,
          2.3636363636363638,
          2.393939393939394,
          2.4242424242424243,
          2.4545454545454546,
          2.484848484848485,
          2.515151515151515,
          2.5454545454545454,
          2.5757575757575757,
          2.606060606060606,
          2.6363636363636362,
          2.666666666666667,
          2.6969696969696972,
          2.7272727272727275,
          2.757575757575758,
          2.787878787878788,
          2.8181818181818183,
          2.8484848484848486,
          2.878787878787879,
          2.909090909090909,
          2.9393939393939394,
          2.9696969696969697,
          3,
          3.0303030303030303,
          3.0606060606060606,
          3.090909090909091,
          3.121212121212121,
          3.1515151515151514,
          3.1818181818181817,
          3.212121212121212,
          3.242424242424242,
          3.2727272727272725,
          3.3030303030303028,
          3.3333333333333335,
          3.3636363636363638,
          3.393939393939394,
          3.4242424242424243,
          3.4545454545454546,
          3.484848484848485,
          3.515151515151515,
          3.5454545454545454,
          3.5757575757575757,
          3.6060606060606064,
          3.6363636363636367,
          3.666666666666667,
          3.6969696969696972,
          3.7272727272727275,
          3.757575757575758,
          3.787878787878788,
          3.8181818181818183,
          3.8484848484848486,
          3.878787878787879,
          3.909090909090909,
          3.9393939393939394,
          3.9696969696969697,
          4,
          4.03030303030303,
          4.0606060606060606,
          4.090909090909091,
          4.121212121212121,
          4.151515151515151,
          4.181818181818182,
          4.212121212121213,
          4.242424242424242,
          4.272727272727273,
          4.303030303030303,
          4.333333333333334,
          4.363636363636363,
          4.3939393939393945,
          4.424242424242424,
          4.454545454545455,
          4.484848484848484,
          4.515151515151516,
          4.545454545454545,
          4.575757575757576,
          4.6060606060606055,
          4.636363636363637,
          4.666666666666667,
          4.696969696969697,
          4.7272727272727275,
          4.757575757575758,
          4.787878787878788,
          4.818181818181818,
          4.848484848484849,
          4.878787878787879,
          4.909090909090909,
          4.9393939393939394,
          4.96969696969697,
          5
         ],
         "xaxis": "x",
         "y": [
          5.628084132349883,
          5.919947087608087,
          6.211810042866291,
          6.503672998124494,
          6.795535953382698,
          7.0873989086409015,
          7.379261863899106,
          7.671124819157309,
          7.962987774415512,
          8.254850729673716,
          8.546713684931925,
          8.838576640190128,
          9.130439595448332,
          9.422302550706535,
          9.714165505964738,
          10.006028461222943,
          10.297891416481146,
          10.58975437173935,
          10.881617326997553,
          11.173480282255758,
          11.465343237513961,
          11.757206192772164,
          12.049069148030373,
          12.340932103288576,
          12.63279505854678,
          12.924658013804983,
          13.216520969063186,
          13.508383924321391,
          13.800246879579595,
          14.092109834837798,
          14.383972790096001,
          14.675835745354206,
          14.96769870061241,
          15.259561655870613,
          15.551424611128816,
          15.84328756638702,
          16.135150521645222,
          16.427013476903426,
          16.718876432161633,
          17.010739387419836,
          17.30260234267804,
          17.594465297936242,
          17.886328253194446,
          18.17819120845265,
          18.470054163710856,
          18.761917118969063,
          19.053780074227266,
          19.34564302948547,
          19.637505984743672,
          19.929368940001876,
          20.22123189526008,
          20.513094850518282,
          20.804957805776485,
          21.096820761034696,
          21.3886837162929,
          21.680546671551102,
          21.972409626809306,
          22.26427258206751,
          22.556135537325712,
          22.847998492583915,
          23.13986144784212,
          23.431724403100322,
          23.72358735835853,
          24.015450313616732,
          24.307313268874935,
          24.59917622413314,
          24.891039179391342,
          25.182902134649545,
          25.47476508990775,
          25.76662804516595,
          26.058491000424155,
          26.350353955682362,
          26.642216910940565,
          26.934079866198775,
          27.22594282145697,
          27.517805776715182,
          27.809668731973378,
          28.101531687231592,
          28.393394642489785,
          28.685257597748,
          28.977120553006195,
          29.268983508264405,
          29.5608464635226,
          29.85270941878081,
          30.144572374039008,
          30.43643532929722,
          30.728298284555414,
          31.02016123981363,
          31.31202419507183,
          31.603887150330035,
          31.895750105588238,
          32.187613060846445,
          32.47947601610465,
          32.77133897136285,
          33.063201926621055,
          33.35506488187926,
          33.64692783713746,
          33.938790792395665,
          34.23065374765387,
          34.52251670291207
         ],
         "yaxis": "y"
        }
       ],
       "layout": {
        "legend": {
         "tracegroupgap": 0
        },
        "margin": {
         "t": 60
        },
        "template": {
         "data": {
          "bar": [
           {
            "error_x": {
             "color": "#2a3f5f"
            },
            "error_y": {
             "color": "#2a3f5f"
            },
            "marker": {
             "line": {
              "color": "#E5ECF6",
              "width": 0.5
             },
             "pattern": {
              "fillmode": "overlay",
              "size": 10,
              "solidity": 0.2
             }
            },
            "type": "bar"
           }
          ],
          "barpolar": [
           {
            "marker": {
             "line": {
              "color": "#E5ECF6",
              "width": 0.5
             },
             "pattern": {
              "fillmode": "overlay",
              "size": 10,
              "solidity": 0.2
             }
            },
            "type": "barpolar"
           }
          ],
          "carpet": [
           {
            "aaxis": {
             "endlinecolor": "#2a3f5f",
             "gridcolor": "white",
             "linecolor": "white",
             "minorgridcolor": "white",
             "startlinecolor": "#2a3f5f"
            },
            "baxis": {
             "endlinecolor": "#2a3f5f",
             "gridcolor": "white",
             "linecolor": "white",
             "minorgridcolor": "white",
             "startlinecolor": "#2a3f5f"
            },
            "type": "carpet"
           }
          ],
          "choropleth": [
           {
            "colorbar": {
             "outlinewidth": 0,
             "ticks": ""
            },
            "type": "choropleth"
           }
          ],
          "contour": [
           {
            "colorbar": {
             "outlinewidth": 0,
             "ticks": ""
            },
            "colorscale": [
             [
              0,
              "#0d0887"
             ],
             [
              0.1111111111111111,
              "#46039f"
             ],
             [
              0.2222222222222222,
              "#7201a8"
             ],
             [
              0.3333333333333333,
              "#9c179e"
             ],
             [
              0.4444444444444444,
              "#bd3786"
             ],
             [
              0.5555555555555556,
              "#d8576b"
             ],
             [
              0.6666666666666666,
              "#ed7953"
             ],
             [
              0.7777777777777778,
              "#fb9f3a"
             ],
             [
              0.8888888888888888,
              "#fdca26"
             ],
             [
              1,
              "#f0f921"
             ]
            ],
            "type": "contour"
           }
          ],
          "contourcarpet": [
           {
            "colorbar": {
             "outlinewidth": 0,
             "ticks": ""
            },
            "type": "contourcarpet"
           }
          ],
          "heatmap": [
           {
            "colorbar": {
             "outlinewidth": 0,
             "ticks": ""
            },
            "colorscale": [
             [
              0,
              "#0d0887"
             ],
             [
              0.1111111111111111,
              "#46039f"
             ],
             [
              0.2222222222222222,
              "#7201a8"
             ],
             [
              0.3333333333333333,
              "#9c179e"
             ],
             [
              0.4444444444444444,
              "#bd3786"
             ],
             [
              0.5555555555555556,
              "#d8576b"
             ],
             [
              0.6666666666666666,
              "#ed7953"
             ],
             [
              0.7777777777777778,
              "#fb9f3a"
             ],
             [
              0.8888888888888888,
              "#fdca26"
             ],
             [
              1,
              "#f0f921"
             ]
            ],
            "type": "heatmap"
           }
          ],
          "heatmapgl": [
           {
            "colorbar": {
             "outlinewidth": 0,
             "ticks": ""
            },
            "colorscale": [
             [
              0,
              "#0d0887"
             ],
             [
              0.1111111111111111,
              "#46039f"
             ],
             [
              0.2222222222222222,
              "#7201a8"
             ],
             [
              0.3333333333333333,
              "#9c179e"
             ],
             [
              0.4444444444444444,
              "#bd3786"
             ],
             [
              0.5555555555555556,
              "#d8576b"
             ],
             [
              0.6666666666666666,
              "#ed7953"
             ],
             [
              0.7777777777777778,
              "#fb9f3a"
             ],
             [
              0.8888888888888888,
              "#fdca26"
             ],
             [
              1,
              "#f0f921"
             ]
            ],
            "type": "heatmapgl"
           }
          ],
          "histogram": [
           {
            "marker": {
             "pattern": {
              "fillmode": "overlay",
              "size": 10,
              "solidity": 0.2
             }
            },
            "type": "histogram"
           }
          ],
          "histogram2d": [
           {
            "colorbar": {
             "outlinewidth": 0,
             "ticks": ""
            },
            "colorscale": [
             [
              0,
              "#0d0887"
             ],
             [
              0.1111111111111111,
              "#46039f"
             ],
             [
              0.2222222222222222,
              "#7201a8"
             ],
             [
              0.3333333333333333,
              "#9c179e"
             ],
             [
              0.4444444444444444,
              "#bd3786"
             ],
             [
              0.5555555555555556,
              "#d8576b"
             ],
             [
              0.6666666666666666,
              "#ed7953"
             ],
             [
              0.7777777777777778,
              "#fb9f3a"
             ],
             [
              0.8888888888888888,
              "#fdca26"
             ],
             [
              1,
              "#f0f921"
             ]
            ],
            "type": "histogram2d"
           }
          ],
          "histogram2dcontour": [
           {
            "colorbar": {
             "outlinewidth": 0,
             "ticks": ""
            },
            "colorscale": [
             [
              0,
              "#0d0887"
             ],
             [
              0.1111111111111111,
              "#46039f"
             ],
             [
              0.2222222222222222,
              "#7201a8"
             ],
             [
              0.3333333333333333,
              "#9c179e"
             ],
             [
              0.4444444444444444,
              "#bd3786"
             ],
             [
              0.5555555555555556,
              "#d8576b"
             ],
             [
              0.6666666666666666,
              "#ed7953"
             ],
             [
              0.7777777777777778,
              "#fb9f3a"
             ],
             [
              0.8888888888888888,
              "#fdca26"
             ],
             [
              1,
              "#f0f921"
             ]
            ],
            "type": "histogram2dcontour"
           }
          ],
          "mesh3d": [
           {
            "colorbar": {
             "outlinewidth": 0,
             "ticks": ""
            },
            "type": "mesh3d"
           }
          ],
          "parcoords": [
           {
            "line": {
             "colorbar": {
              "outlinewidth": 0,
              "ticks": ""
             }
            },
            "type": "parcoords"
           }
          ],
          "pie": [
           {
            "automargin": true,
            "type": "pie"
           }
          ],
          "scatter": [
           {
            "fillpattern": {
             "fillmode": "overlay",
             "size": 10,
             "solidity": 0.2
            },
            "type": "scatter"
           }
          ],
          "scatter3d": [
           {
            "line": {
             "colorbar": {
              "outlinewidth": 0,
              "ticks": ""
             }
            },
            "marker": {
             "colorbar": {
              "outlinewidth": 0,
              "ticks": ""
             }
            },
            "type": "scatter3d"
           }
          ],
          "scattercarpet": [
           {
            "marker": {
             "colorbar": {
              "outlinewidth": 0,
              "ticks": ""
             }
            },
            "type": "scattercarpet"
           }
          ],
          "scattergeo": [
           {
            "marker": {
             "colorbar": {
              "outlinewidth": 0,
              "ticks": ""
             }
            },
            "type": "scattergeo"
           }
          ],
          "scattergl": [
           {
            "marker": {
             "colorbar": {
              "outlinewidth": 0,
              "ticks": ""
             }
            },
            "type": "scattergl"
           }
          ],
          "scattermapbox": [
           {
            "marker": {
             "colorbar": {
              "outlinewidth": 0,
              "ticks": ""
             }
            },
            "type": "scattermapbox"
           }
          ],
          "scatterpolar": [
           {
            "marker": {
             "colorbar": {
              "outlinewidth": 0,
              "ticks": ""
             }
            },
            "type": "scatterpolar"
           }
          ],
          "scatterpolargl": [
           {
            "marker": {
             "colorbar": {
              "outlinewidth": 0,
              "ticks": ""
             }
            },
            "type": "scatterpolargl"
           }
          ],
          "scatterternary": [
           {
            "marker": {
             "colorbar": {
              "outlinewidth": 0,
              "ticks": ""
             }
            },
            "type": "scatterternary"
           }
          ],
          "surface": [
           {
            "colorbar": {
             "outlinewidth": 0,
             "ticks": ""
            },
            "colorscale": [
             [
              0,
              "#0d0887"
             ],
             [
              0.1111111111111111,
              "#46039f"
             ],
             [
              0.2222222222222222,
              "#7201a8"
             ],
             [
              0.3333333333333333,
              "#9c179e"
             ],
             [
              0.4444444444444444,
              "#bd3786"
             ],
             [
              0.5555555555555556,
              "#d8576b"
             ],
             [
              0.6666666666666666,
              "#ed7953"
             ],
             [
              0.7777777777777778,
              "#fb9f3a"
             ],
             [
              0.8888888888888888,
              "#fdca26"
             ],
             [
              1,
              "#f0f921"
             ]
            ],
            "type": "surface"
           }
          ],
          "table": [
           {
            "cells": {
             "fill": {
              "color": "#EBF0F8"
             },
             "line": {
              "color": "white"
             }
            },
            "header": {
             "fill": {
              "color": "#C8D4E3"
             },
             "line": {
              "color": "white"
             }
            },
            "type": "table"
           }
          ]
         },
         "layout": {
          "annotationdefaults": {
           "arrowcolor": "#2a3f5f",
           "arrowhead": 0,
           "arrowwidth": 1
          },
          "autotypenumbers": "strict",
          "coloraxis": {
           "colorbar": {
            "outlinewidth": 0,
            "ticks": ""
           }
          },
          "colorscale": {
           "diverging": [
            [
             0,
             "#8e0152"
            ],
            [
             0.1,
             "#c51b7d"
            ],
            [
             0.2,
             "#de77ae"
            ],
            [
             0.3,
             "#f1b6da"
            ],
            [
             0.4,
             "#fde0ef"
            ],
            [
             0.5,
             "#f7f7f7"
            ],
            [
             0.6,
             "#e6f5d0"
            ],
            [
             0.7,
             "#b8e186"
            ],
            [
             0.8,
             "#7fbc41"
            ],
            [
             0.9,
             "#4d9221"
            ],
            [
             1,
             "#276419"
            ]
           ],
           "sequential": [
            [
             0,
             "#0d0887"
            ],
            [
             0.1111111111111111,
             "#46039f"
            ],
            [
             0.2222222222222222,
             "#7201a8"
            ],
            [
             0.3333333333333333,
             "#9c179e"
            ],
            [
             0.4444444444444444,
             "#bd3786"
            ],
            [
             0.5555555555555556,
             "#d8576b"
            ],
            [
             0.6666666666666666,
             "#ed7953"
            ],
            [
             0.7777777777777778,
             "#fb9f3a"
            ],
            [
             0.8888888888888888,
             "#fdca26"
            ],
            [
             1,
             "#f0f921"
            ]
           ],
           "sequentialminus": [
            [
             0,
             "#0d0887"
            ],
            [
             0.1111111111111111,
             "#46039f"
            ],
            [
             0.2222222222222222,
             "#7201a8"
            ],
            [
             0.3333333333333333,
             "#9c179e"
            ],
            [
             0.4444444444444444,
             "#bd3786"
            ],
            [
             0.5555555555555556,
             "#d8576b"
            ],
            [
             0.6666666666666666,
             "#ed7953"
            ],
            [
             0.7777777777777778,
             "#fb9f3a"
            ],
            [
             0.8888888888888888,
             "#fdca26"
            ],
            [
             1,
             "#f0f921"
            ]
           ]
          },
          "colorway": [
           "#636efa",
           "#EF553B",
           "#00cc96",
           "#ab63fa",
           "#FFA15A",
           "#19d3f3",
           "#FF6692",
           "#B6E880",
           "#FF97FF",
           "#FECB52"
          ],
          "font": {
           "color": "#2a3f5f"
          },
          "geo": {
           "bgcolor": "white",
           "lakecolor": "white",
           "landcolor": "#E5ECF6",
           "showlakes": true,
           "showland": true,
           "subunitcolor": "white"
          },
          "hoverlabel": {
           "align": "left"
          },
          "hovermode": "closest",
          "mapbox": {
           "style": "light"
          },
          "paper_bgcolor": "white",
          "plot_bgcolor": "#E5ECF6",
          "polar": {
           "angularaxis": {
            "gridcolor": "white",
            "linecolor": "white",
            "ticks": ""
           },
           "bgcolor": "#E5ECF6",
           "radialaxis": {
            "gridcolor": "white",
            "linecolor": "white",
            "ticks": ""
           }
          },
          "scene": {
           "xaxis": {
            "backgroundcolor": "#E5ECF6",
            "gridcolor": "white",
            "gridwidth": 2,
            "linecolor": "white",
            "showbackground": true,
            "ticks": "",
            "zerolinecolor": "white"
           },
           "yaxis": {
            "backgroundcolor": "#E5ECF6",
            "gridcolor": "white",
            "gridwidth": 2,
            "linecolor": "white",
            "showbackground": true,
            "ticks": "",
            "zerolinecolor": "white"
           },
           "zaxis": {
            "backgroundcolor": "#E5ECF6",
            "gridcolor": "white",
            "gridwidth": 2,
            "linecolor": "white",
            "showbackground": true,
            "ticks": "",
            "zerolinecolor": "white"
           }
          },
          "shapedefaults": {
           "line": {
            "color": "#2a3f5f"
           }
          },
          "ternary": {
           "aaxis": {
            "gridcolor": "white",
            "linecolor": "white",
            "ticks": ""
           },
           "baxis": {
            "gridcolor": "white",
            "linecolor": "white",
            "ticks": ""
           },
           "bgcolor": "#E5ECF6",
           "caxis": {
            "gridcolor": "white",
            "linecolor": "white",
            "ticks": ""
           }
          },
          "title": {
           "x": 0.05
          },
          "xaxis": {
           "automargin": true,
           "gridcolor": "white",
           "linecolor": "white",
           "ticks": "",
           "title": {
            "standoff": 15
           },
           "zerolinecolor": "white",
           "zerolinewidth": 2
          },
          "yaxis": {
           "automargin": true,
           "gridcolor": "white",
           "linecolor": "white",
           "ticks": "",
           "title": {
            "standoff": 15
           },
           "zerolinecolor": "white",
           "zerolinewidth": 2
          }
         }
        },
        "xaxis": {
         "anchor": "y",
         "domain": [
          0,
          1
         ],
         "title": {
          "text": "x"
         }
        },
        "yaxis": {
         "anchor": "x",
         "domain": [
          0,
          1
         ],
         "title": {
          "text": "root y"
         }
        }
       }
      }
     },
     "metadata": {},
     "output_type": "display_data"
    }
   ],
   "source": [
    "homeruns_copy['root y'] = np.sqrt(homeruns_copy['y'])\n",
    "\n",
    "px.scatter(df_2, x='x', y='root y', trendline=\"ols\", trendline_color_override=\"red\")"
   ]
  },
  {
   "cell_type": "code",
   "execution_count": 22,
   "metadata": {},
   "outputs": [
    {
     "data": {
      "application/vnd.plotly.v1+json": {
       "config": {
        "plotlyServerURL": "https://plot.ly"
       },
       "data": [
        {
         "hovertemplate": "pred=%{x}<br>root y residuals=%{y}<extra></extra>",
         "legendgroup": "",
         "marker": {
          "color": "#636efa",
          "symbol": "circle"
         },
         "mode": "markers",
         "name": "",
         "orientation": "v",
         "showlegend": false,
         "type": "scatter",
         "x": [
          16.379512475514275,
          16.88615309811314,
          17.392793720712007,
          17.899434343310872,
          18.40607496590974,
          18.912715588508604,
          19.41935621110747,
          19.925996833706336,
          20.4326374563052,
          20.939278078904067,
          21.445918701502933,
          21.9525593241018,
          22.459199946700664,
          22.96584056929953,
          23.472481191898396,
          23.97912181449726,
          24.485762437096128,
          24.992403059694993,
          25.499043682293973,
          26.00568430489284,
          26.512324927491704,
          27.01896555009057,
          27.525606172689436,
          28.0322467952883,
          28.538887417887167,
          29.045528040486033,
          29.5521686630849,
          30.058809285683765,
          30.56544990828263,
          31.072090530881496,
          31.578731153480362,
          32.08537177607923,
          32.592012398678094,
          33.09865302127696,
          33.605293643875825,
          34.11193426647469,
          34.61857488907356,
          35.12521551167242,
          35.6318561342714,
          36.13849675687027,
          36.64513737946913,
          37.151778002068,
          37.658418624666865,
          38.16505924726573,
          38.6716998698646,
          39.17834049246346,
          39.68498111506233,
          40.191621737661194,
          40.69826236026006,
          41.204902982858925,
          41.71154360545779,
          42.21818422805666,
          42.72482485065552,
          43.23146547325439,
          43.738106095853254,
          44.24474671845212,
          44.751387341050986,
          45.25802796364985,
          45.76466858624883,
          46.2713092088477,
          46.77794983144656,
          47.28459045404543,
          47.791231076644294,
          48.29787169924316,
          48.804512321842026,
          49.31115294444089,
          49.81779356703976,
          50.32443418963862,
          50.83107481223749,
          51.337715434836355,
          51.84435605743522,
          52.350996680034086,
          52.85763730263295,
          53.36427792523182,
          53.870918547830684,
          54.37755917042955,
          54.884199793028415,
          55.39084041562728,
          55.89748103822626,
          56.404121660825126,
          56.91076228342399,
          57.41740290602286,
          57.92404352862172,
          58.43068415122059,
          58.937324773819455,
          59.44396539641832,
          59.95060601901719,
          60.45724664161605,
          60.96388726421492,
          61.470527886813784,
          61.97716850941265,
          62.483809132011515,
          62.99044975461038,
          63.49709037720925,
          64.00373099980811,
          64.51037162240698,
          65.01701224500584,
          65.52365286760471,
          66.03029349020369,
          66.53693411280256,
          67.04357473540142,
          67.55021535800029,
          68.05685598059915,
          68.56349660319802,
          69.07013722579688,
          69.57677784839575,
          70.08341847099462,
          70.59005909359348,
          71.09669971619235,
          71.60334033879121,
          72.10998096139008,
          72.61662158398894,
          73.12326220658781,
          73.62990282918668,
          74.13654345178554,
          74.64318407438441,
          75.14982469698327,
          75.65646531958214,
          76.16310594218112,
          76.66974656477998
         ],
         "xaxis": "x",
         "y": [
          -0.4421350250050473,
          4.444575909588401,
          1.4220940015147718,
          0.40357087441225303,
          -0.21266956724948471,
          -0.5279392776583691,
          -3.2638617897039595,
          -4.305497481893028,
          -4.09250281793701,
          -4.845801139472986,
          -2.445918701502933,
          0.7190087734074702,
          -1.4354039050720253,
          -1.2863571806207297,
          3.173343997050061,
          1.2200845222110424,
          -4.915376646315202,
          -6.689397841971868,
          -10.169333965538081,
          -4.863309793026865,
          -1.4125241314694392,
          3.591490179937363,
          4.955157365133992,
          3.2727048897087556,
          1.3943716763043632,
          5.145113954071483,
          -0.1753070199481357,
          0.3056436156941871,
          2.495100601350451,
          5.6566448135324165,
          7.981349736224601,
          0.6101936724644048,
          4.259039146698463,
          -0.433687079154808,
          3.0553119157708934,
          2.288615179927902,
          2.3137957361652184,
          2.6901252907056517,
          2.773872605071638,
          1.8746588606261554,
          2.9907049857436974,
          -0.6689053081585996,
          -4.932282280759722,
          -8.081841334283084,
          -6.515829488237543,
          -7.445077187218601,
          -4.828130999195579,
          -0.6315408479562308,
          -1.2647740539993535,
          0.0746318982416625,
          3.818666145871049,
          0.9442994817578167,
          -1.4816435960529617,
          2.3316775263236806,
          0.2732560734775191,
          2.914557771754261,
          3.1443327182612038,
          1.6674448629504113,
          1.5639696785480979,
          1.1628556936779901,
          -0.6476994527633764,
          4.964811456407098,
          6.990152622565056,
          3.70212830075684,
          3.750221052041624,
          2.5347726428219914,
          2.555863933654237,
          -2.376545810691212,
          -6.165651943982901,
          4.510292586936451,
          6.713307830394186,
          1.1560122066528962,
          -2.5187855080200734,
          2.3313233373454665,
          -2.402481617999598,
          -2.43528351754734,
          -7.608413178737159,
          4.974712675519001,
          -1.5283721619535129,
          2.1876866403358832,
          -1.3499847510675878,
          -15.215507214004475,
          0.20512298871275902,
          -0.9763544623276914,
          -1.8584320024981125,
          0.5726989560763087,
          1.7988879060345369,
          6.3110092888783385,
          -4.5723985447281805,
          -5.945758639206822,
          -4.383766109484931,
          -4.320246655148047,
          -7.8723946365277016,
          -0.014809384793736058,
          -6.505904953947912,
          -0.6276666076692266,
          5.424452816419446,
          2.5938925961009005,
          5.1314940084250935,
          7.813587068961866,
          8.408396743149098,
          6.328062911055227,
          3.069791627733977,
          3.596048849915803,
          4.760750619332001,
          1.25400641946338,
          3.3059540566404735,
          -0.18409343726574434,
          -1.2540193552554513,
          -0.5962984344842823,
          -4.190911474242355,
          -5.1481104102569475,
          -2.880824891244032,
          -5.358386074393536,
          -9.437238973298292,
          -4.578927851970974,
          -0.2498914526872511,
          2.4780341028880883,
          -1.4302483760476008,
          5.646715944246722
         ],
         "yaxis": "y"
        },
        {
         "hovertemplate": "<b>OLS trendline</b><br>root y residuals = 7.63278e-17 * pred + -3.37508e-14<br>R<sup>2</sup>=0.000000<br><br>pred=%{x}<br>root y residuals=%{y} <b>(trend)</b><extra></extra>",
         "legendgroup": "",
         "line": {
          "color": "red"
         },
         "marker": {
          "color": "#636efa",
          "symbol": "circle"
         },
         "mode": "lines",
         "name": "",
         "showlegend": false,
         "type": "scatter",
         "x": [
          16.379512475514275,
          16.88615309811314,
          17.392793720712007,
          17.899434343310872,
          18.40607496590974,
          18.912715588508604,
          19.41935621110747,
          19.925996833706336,
          20.4326374563052,
          20.939278078904067,
          21.445918701502933,
          21.9525593241018,
          22.459199946700664,
          22.96584056929953,
          23.472481191898396,
          23.97912181449726,
          24.485762437096128,
          24.992403059694993,
          25.499043682293973,
          26.00568430489284,
          26.512324927491704,
          27.01896555009057,
          27.525606172689436,
          28.0322467952883,
          28.538887417887167,
          29.045528040486033,
          29.5521686630849,
          30.058809285683765,
          30.56544990828263,
          31.072090530881496,
          31.578731153480362,
          32.08537177607923,
          32.592012398678094,
          33.09865302127696,
          33.605293643875825,
          34.11193426647469,
          34.61857488907356,
          35.12521551167242,
          35.6318561342714,
          36.13849675687027,
          36.64513737946913,
          37.151778002068,
          37.658418624666865,
          38.16505924726573,
          38.6716998698646,
          39.17834049246346,
          39.68498111506233,
          40.191621737661194,
          40.69826236026006,
          41.204902982858925,
          41.71154360545779,
          42.21818422805666,
          42.72482485065552,
          43.23146547325439,
          43.738106095853254,
          44.24474671845212,
          44.751387341050986,
          45.25802796364985,
          45.76466858624883,
          46.2713092088477,
          46.77794983144656,
          47.28459045404543,
          47.791231076644294,
          48.29787169924316,
          48.804512321842026,
          49.31115294444089,
          49.81779356703976,
          50.32443418963862,
          50.83107481223749,
          51.337715434836355,
          51.84435605743522,
          52.350996680034086,
          52.85763730263295,
          53.36427792523182,
          53.870918547830684,
          54.37755917042955,
          54.884199793028415,
          55.39084041562728,
          55.89748103822626,
          56.404121660825126,
          56.91076228342399,
          57.41740290602286,
          57.92404352862172,
          58.43068415122059,
          58.937324773819455,
          59.44396539641832,
          59.95060601901719,
          60.45724664161605,
          60.96388726421492,
          61.470527886813784,
          61.97716850941265,
          62.483809132011515,
          62.99044975461038,
          63.49709037720925,
          64.00373099980811,
          64.51037162240698,
          65.01701224500584,
          65.52365286760471,
          66.03029349020369,
          66.53693411280256,
          67.04357473540142,
          67.55021535800029,
          68.05685598059915,
          68.56349660319802,
          69.07013722579688,
          69.57677784839575,
          70.08341847099462,
          70.59005909359348,
          71.09669971619235,
          71.60334033879121,
          72.10998096139008,
          72.61662158398894,
          73.12326220658781,
          73.62990282918668,
          74.13654345178554,
          74.64318407438441,
          75.14982469698327,
          75.65646531958214,
          76.16310594218112,
          76.66974656477998
         ],
         "xaxis": "x",
         "y": [
          -3.2500567256686256e-14,
          -3.2461896475882405e-14,
          -3.242322569507855e-14,
          -3.23845549142747e-14,
          -3.234588413347084e-14,
          -3.230721335266699e-14,
          -3.226854257186314e-14,
          -3.222987179105928e-14,
          -3.219120101025543e-14,
          -3.215253022945158e-14,
          -3.211385944864772e-14,
          -3.207518866784387e-14,
          -3.203651788704002e-14,
          -3.199784710623616e-14,
          -3.195917632543231e-14,
          -3.1920505544628454e-14,
          -3.18818347638246e-14,
          -3.184316398302075e-14,
          -3.180449320221689e-14,
          -3.176582242141304e-14,
          -3.172715164060918e-14,
          -3.168848085980533e-14,
          -3.164981007900147e-14,
          -3.161113929819762e-14,
          -3.157246851739377e-14,
          -3.153379773658991e-14,
          -3.149512695578606e-14,
          -3.1456456174982204e-14,
          -3.141778539417835e-14,
          -3.13791146133745e-14,
          -3.1340443832570645e-14,
          -3.1301773051766794e-14,
          -3.126310227096294e-14,
          -3.1224431490159085e-14,
          -3.1185760709355234e-14,
          -3.1147089928551383e-14,
          -3.1108419147747526e-14,
          -3.1069748366943675e-14,
          -3.103107758613981e-14,
          -3.099240680533596e-14,
          -3.0953736024532103e-14,
          -3.091506524372825e-14,
          -3.08763944629244e-14,
          -3.0837723682120544e-14,
          -3.079905290131669e-14,
          -3.0760382120512836e-14,
          -3.0721711339708985e-14,
          -3.0683040558905134e-14,
          -3.0644369778101276e-14,
          -3.0605698997297425e-14,
          -3.056702821649357e-14,
          -3.052835743568972e-14,
          -3.0489686654885866e-14,
          -3.045101587408201e-14,
          -3.041234509327816e-14,
          -3.0373674312474307e-14,
          -3.033500353167045e-14,
          -3.02963327508666e-14,
          -3.0257661970062735e-14,
          -3.0218991189258884e-14,
          -3.0180320408455027e-14,
          -3.0141649627651176e-14,
          -3.0102978846847325e-14,
          -3.006430806604347e-14,
          -3.0025637285239616e-14,
          -2.9986966504435765e-14,
          -2.994829572363191e-14,
          -2.990962494282806e-14,
          -2.98709541620242e-14,
          -2.983228338122035e-14,
          -2.97936126004165e-14,
          -2.975494181961264e-14,
          -2.971627103880879e-14,
          -2.967760025800493e-14,
          -2.963892947720108e-14,
          -2.960025869639723e-14,
          -2.956158791559337e-14,
          -2.952291713478952e-14,
          -2.948424635398566e-14,
          -2.944557557318181e-14,
          -2.940690479237795e-14,
          -2.93682340115741e-14,
          -2.932956323077025e-14,
          -2.929089244996639e-14,
          -2.925222166916254e-14,
          -2.921355088835869e-14,
          -2.917488010755483e-14,
          -2.913620932675098e-14,
          -2.909753854594713e-14,
          -2.905886776514327e-14,
          -2.902019698433942e-14,
          -2.8981526203535564e-14,
          -2.894285542273171e-14,
          -2.890418464192786e-14,
          -2.8865513861124005e-14,
          -2.8826843080320154e-14,
          -2.8788172299516296e-14,
          -2.8749501518712445e-14,
          -2.871083073790858e-14,
          -2.867215995710473e-14,
          -2.863348917630088e-14,
          -2.859481839549702e-14,
          -2.855614761469317e-14,
          -2.8517476833889314e-14,
          -2.847880605308546e-14,
          -2.844013527228161e-14,
          -2.8401464491477758e-14,
          -2.8362793710673904e-14,
          -2.832412292987005e-14,
          -2.8285452149066196e-14,
          -2.8246781368262345e-14,
          -2.820811058745849e-14,
          -2.8169439806654636e-14,
          -2.8130769025850785e-14,
          -2.809209824504693e-14,
          -2.8053427464243077e-14,
          -2.8014756683439223e-14,
          -2.797608590263537e-14,
          -2.7937415121831508e-14,
          -2.7898744341027654e-14
         ],
         "yaxis": "y"
        }
       ],
       "layout": {
        "legend": {
         "tracegroupgap": 0
        },
        "margin": {
         "t": 60
        },
        "template": {
         "data": {
          "bar": [
           {
            "error_x": {
             "color": "#2a3f5f"
            },
            "error_y": {
             "color": "#2a3f5f"
            },
            "marker": {
             "line": {
              "color": "#E5ECF6",
              "width": 0.5
             },
             "pattern": {
              "fillmode": "overlay",
              "size": 10,
              "solidity": 0.2
             }
            },
            "type": "bar"
           }
          ],
          "barpolar": [
           {
            "marker": {
             "line": {
              "color": "#E5ECF6",
              "width": 0.5
             },
             "pattern": {
              "fillmode": "overlay",
              "size": 10,
              "solidity": 0.2
             }
            },
            "type": "barpolar"
           }
          ],
          "carpet": [
           {
            "aaxis": {
             "endlinecolor": "#2a3f5f",
             "gridcolor": "white",
             "linecolor": "white",
             "minorgridcolor": "white",
             "startlinecolor": "#2a3f5f"
            },
            "baxis": {
             "endlinecolor": "#2a3f5f",
             "gridcolor": "white",
             "linecolor": "white",
             "minorgridcolor": "white",
             "startlinecolor": "#2a3f5f"
            },
            "type": "carpet"
           }
          ],
          "choropleth": [
           {
            "colorbar": {
             "outlinewidth": 0,
             "ticks": ""
            },
            "type": "choropleth"
           }
          ],
          "contour": [
           {
            "colorbar": {
             "outlinewidth": 0,
             "ticks": ""
            },
            "colorscale": [
             [
              0,
              "#0d0887"
             ],
             [
              0.1111111111111111,
              "#46039f"
             ],
             [
              0.2222222222222222,
              "#7201a8"
             ],
             [
              0.3333333333333333,
              "#9c179e"
             ],
             [
              0.4444444444444444,
              "#bd3786"
             ],
             [
              0.5555555555555556,
              "#d8576b"
             ],
             [
              0.6666666666666666,
              "#ed7953"
             ],
             [
              0.7777777777777778,
              "#fb9f3a"
             ],
             [
              0.8888888888888888,
              "#fdca26"
             ],
             [
              1,
              "#f0f921"
             ]
            ],
            "type": "contour"
           }
          ],
          "contourcarpet": [
           {
            "colorbar": {
             "outlinewidth": 0,
             "ticks": ""
            },
            "type": "contourcarpet"
           }
          ],
          "heatmap": [
           {
            "colorbar": {
             "outlinewidth": 0,
             "ticks": ""
            },
            "colorscale": [
             [
              0,
              "#0d0887"
             ],
             [
              0.1111111111111111,
              "#46039f"
             ],
             [
              0.2222222222222222,
              "#7201a8"
             ],
             [
              0.3333333333333333,
              "#9c179e"
             ],
             [
              0.4444444444444444,
              "#bd3786"
             ],
             [
              0.5555555555555556,
              "#d8576b"
             ],
             [
              0.6666666666666666,
              "#ed7953"
             ],
             [
              0.7777777777777778,
              "#fb9f3a"
             ],
             [
              0.8888888888888888,
              "#fdca26"
             ],
             [
              1,
              "#f0f921"
             ]
            ],
            "type": "heatmap"
           }
          ],
          "heatmapgl": [
           {
            "colorbar": {
             "outlinewidth": 0,
             "ticks": ""
            },
            "colorscale": [
             [
              0,
              "#0d0887"
             ],
             [
              0.1111111111111111,
              "#46039f"
             ],
             [
              0.2222222222222222,
              "#7201a8"
             ],
             [
              0.3333333333333333,
              "#9c179e"
             ],
             [
              0.4444444444444444,
              "#bd3786"
             ],
             [
              0.5555555555555556,
              "#d8576b"
             ],
             [
              0.6666666666666666,
              "#ed7953"
             ],
             [
              0.7777777777777778,
              "#fb9f3a"
             ],
             [
              0.8888888888888888,
              "#fdca26"
             ],
             [
              1,
              "#f0f921"
             ]
            ],
            "type": "heatmapgl"
           }
          ],
          "histogram": [
           {
            "marker": {
             "pattern": {
              "fillmode": "overlay",
              "size": 10,
              "solidity": 0.2
             }
            },
            "type": "histogram"
           }
          ],
          "histogram2d": [
           {
            "colorbar": {
             "outlinewidth": 0,
             "ticks": ""
            },
            "colorscale": [
             [
              0,
              "#0d0887"
             ],
             [
              0.1111111111111111,
              "#46039f"
             ],
             [
              0.2222222222222222,
              "#7201a8"
             ],
             [
              0.3333333333333333,
              "#9c179e"
             ],
             [
              0.4444444444444444,
              "#bd3786"
             ],
             [
              0.5555555555555556,
              "#d8576b"
             ],
             [
              0.6666666666666666,
              "#ed7953"
             ],
             [
              0.7777777777777778,
              "#fb9f3a"
             ],
             [
              0.8888888888888888,
              "#fdca26"
             ],
             [
              1,
              "#f0f921"
             ]
            ],
            "type": "histogram2d"
           }
          ],
          "histogram2dcontour": [
           {
            "colorbar": {
             "outlinewidth": 0,
             "ticks": ""
            },
            "colorscale": [
             [
              0,
              "#0d0887"
             ],
             [
              0.1111111111111111,
              "#46039f"
             ],
             [
              0.2222222222222222,
              "#7201a8"
             ],
             [
              0.3333333333333333,
              "#9c179e"
             ],
             [
              0.4444444444444444,
              "#bd3786"
             ],
             [
              0.5555555555555556,
              "#d8576b"
             ],
             [
              0.6666666666666666,
              "#ed7953"
             ],
             [
              0.7777777777777778,
              "#fb9f3a"
             ],
             [
              0.8888888888888888,
              "#fdca26"
             ],
             [
              1,
              "#f0f921"
             ]
            ],
            "type": "histogram2dcontour"
           }
          ],
          "mesh3d": [
           {
            "colorbar": {
             "outlinewidth": 0,
             "ticks": ""
            },
            "type": "mesh3d"
           }
          ],
          "parcoords": [
           {
            "line": {
             "colorbar": {
              "outlinewidth": 0,
              "ticks": ""
             }
            },
            "type": "parcoords"
           }
          ],
          "pie": [
           {
            "automargin": true,
            "type": "pie"
           }
          ],
          "scatter": [
           {
            "fillpattern": {
             "fillmode": "overlay",
             "size": 10,
             "solidity": 0.2
            },
            "type": "scatter"
           }
          ],
          "scatter3d": [
           {
            "line": {
             "colorbar": {
              "outlinewidth": 0,
              "ticks": ""
             }
            },
            "marker": {
             "colorbar": {
              "outlinewidth": 0,
              "ticks": ""
             }
            },
            "type": "scatter3d"
           }
          ],
          "scattercarpet": [
           {
            "marker": {
             "colorbar": {
              "outlinewidth": 0,
              "ticks": ""
             }
            },
            "type": "scattercarpet"
           }
          ],
          "scattergeo": [
           {
            "marker": {
             "colorbar": {
              "outlinewidth": 0,
              "ticks": ""
             }
            },
            "type": "scattergeo"
           }
          ],
          "scattergl": [
           {
            "marker": {
             "colorbar": {
              "outlinewidth": 0,
              "ticks": ""
             }
            },
            "type": "scattergl"
           }
          ],
          "scattermapbox": [
           {
            "marker": {
             "colorbar": {
              "outlinewidth": 0,
              "ticks": ""
             }
            },
            "type": "scattermapbox"
           }
          ],
          "scatterpolar": [
           {
            "marker": {
             "colorbar": {
              "outlinewidth": 0,
              "ticks": ""
             }
            },
            "type": "scatterpolar"
           }
          ],
          "scatterpolargl": [
           {
            "marker": {
             "colorbar": {
              "outlinewidth": 0,
              "ticks": ""
             }
            },
            "type": "scatterpolargl"
           }
          ],
          "scatterternary": [
           {
            "marker": {
             "colorbar": {
              "outlinewidth": 0,
              "ticks": ""
             }
            },
            "type": "scatterternary"
           }
          ],
          "surface": [
           {
            "colorbar": {
             "outlinewidth": 0,
             "ticks": ""
            },
            "colorscale": [
             [
              0,
              "#0d0887"
             ],
             [
              0.1111111111111111,
              "#46039f"
             ],
             [
              0.2222222222222222,
              "#7201a8"
             ],
             [
              0.3333333333333333,
              "#9c179e"
             ],
             [
              0.4444444444444444,
              "#bd3786"
             ],
             [
              0.5555555555555556,
              "#d8576b"
             ],
             [
              0.6666666666666666,
              "#ed7953"
             ],
             [
              0.7777777777777778,
              "#fb9f3a"
             ],
             [
              0.8888888888888888,
              "#fdca26"
             ],
             [
              1,
              "#f0f921"
             ]
            ],
            "type": "surface"
           }
          ],
          "table": [
           {
            "cells": {
             "fill": {
              "color": "#EBF0F8"
             },
             "line": {
              "color": "white"
             }
            },
            "header": {
             "fill": {
              "color": "#C8D4E3"
             },
             "line": {
              "color": "white"
             }
            },
            "type": "table"
           }
          ]
         },
         "layout": {
          "annotationdefaults": {
           "arrowcolor": "#2a3f5f",
           "arrowhead": 0,
           "arrowwidth": 1
          },
          "autotypenumbers": "strict",
          "coloraxis": {
           "colorbar": {
            "outlinewidth": 0,
            "ticks": ""
           }
          },
          "colorscale": {
           "diverging": [
            [
             0,
             "#8e0152"
            ],
            [
             0.1,
             "#c51b7d"
            ],
            [
             0.2,
             "#de77ae"
            ],
            [
             0.3,
             "#f1b6da"
            ],
            [
             0.4,
             "#fde0ef"
            ],
            [
             0.5,
             "#f7f7f7"
            ],
            [
             0.6,
             "#e6f5d0"
            ],
            [
             0.7,
             "#b8e186"
            ],
            [
             0.8,
             "#7fbc41"
            ],
            [
             0.9,
             "#4d9221"
            ],
            [
             1,
             "#276419"
            ]
           ],
           "sequential": [
            [
             0,
             "#0d0887"
            ],
            [
             0.1111111111111111,
             "#46039f"
            ],
            [
             0.2222222222222222,
             "#7201a8"
            ],
            [
             0.3333333333333333,
             "#9c179e"
            ],
            [
             0.4444444444444444,
             "#bd3786"
            ],
            [
             0.5555555555555556,
             "#d8576b"
            ],
            [
             0.6666666666666666,
             "#ed7953"
            ],
            [
             0.7777777777777778,
             "#fb9f3a"
            ],
            [
             0.8888888888888888,
             "#fdca26"
            ],
            [
             1,
             "#f0f921"
            ]
           ],
           "sequentialminus": [
            [
             0,
             "#0d0887"
            ],
            [
             0.1111111111111111,
             "#46039f"
            ],
            [
             0.2222222222222222,
             "#7201a8"
            ],
            [
             0.3333333333333333,
             "#9c179e"
            ],
            [
             0.4444444444444444,
             "#bd3786"
            ],
            [
             0.5555555555555556,
             "#d8576b"
            ],
            [
             0.6666666666666666,
             "#ed7953"
            ],
            [
             0.7777777777777778,
             "#fb9f3a"
            ],
            [
             0.8888888888888888,
             "#fdca26"
            ],
            [
             1,
             "#f0f921"
            ]
           ]
          },
          "colorway": [
           "#636efa",
           "#EF553B",
           "#00cc96",
           "#ab63fa",
           "#FFA15A",
           "#19d3f3",
           "#FF6692",
           "#B6E880",
           "#FF97FF",
           "#FECB52"
          ],
          "font": {
           "color": "#2a3f5f"
          },
          "geo": {
           "bgcolor": "white",
           "lakecolor": "white",
           "landcolor": "#E5ECF6",
           "showlakes": true,
           "showland": true,
           "subunitcolor": "white"
          },
          "hoverlabel": {
           "align": "left"
          },
          "hovermode": "closest",
          "mapbox": {
           "style": "light"
          },
          "paper_bgcolor": "white",
          "plot_bgcolor": "#E5ECF6",
          "polar": {
           "angularaxis": {
            "gridcolor": "white",
            "linecolor": "white",
            "ticks": ""
           },
           "bgcolor": "#E5ECF6",
           "radialaxis": {
            "gridcolor": "white",
            "linecolor": "white",
            "ticks": ""
           }
          },
          "scene": {
           "xaxis": {
            "backgroundcolor": "#E5ECF6",
            "gridcolor": "white",
            "gridwidth": 2,
            "linecolor": "white",
            "showbackground": true,
            "ticks": "",
            "zerolinecolor": "white"
           },
           "yaxis": {
            "backgroundcolor": "#E5ECF6",
            "gridcolor": "white",
            "gridwidth": 2,
            "linecolor": "white",
            "showbackground": true,
            "ticks": "",
            "zerolinecolor": "white"
           },
           "zaxis": {
            "backgroundcolor": "#E5ECF6",
            "gridcolor": "white",
            "gridwidth": 2,
            "linecolor": "white",
            "showbackground": true,
            "ticks": "",
            "zerolinecolor": "white"
           }
          },
          "shapedefaults": {
           "line": {
            "color": "#2a3f5f"
           }
          },
          "ternary": {
           "aaxis": {
            "gridcolor": "white",
            "linecolor": "white",
            "ticks": ""
           },
           "baxis": {
            "gridcolor": "white",
            "linecolor": "white",
            "ticks": ""
           },
           "bgcolor": "#E5ECF6",
           "caxis": {
            "gridcolor": "white",
            "linecolor": "white",
            "ticks": ""
           }
          },
          "title": {
           "x": 0.05
          },
          "xaxis": {
           "automargin": true,
           "gridcolor": "white",
           "linecolor": "white",
           "ticks": "",
           "title": {
            "standoff": 15
           },
           "zerolinecolor": "white",
           "zerolinewidth": 2
          },
          "yaxis": {
           "automargin": true,
           "gridcolor": "white",
           "linecolor": "white",
           "ticks": "",
           "title": {
            "standoff": 15
           },
           "zerolinecolor": "white",
           "zerolinewidth": 2
          }
         }
        },
        "xaxis": {
         "anchor": "y",
         "domain": [
          0,
          1
         ],
         "title": {
          "text": "pred"
         }
        },
        "yaxis": {
         "anchor": "x",
         "domain": [
          0,
          1
         ],
         "title": {
          "text": "root y residuals"
         }
        }
       }
      }
     },
     "metadata": {},
     "output_type": "display_data"
    }
   ],
   "source": [
    "create_residual_plot(homeruns_copy, 'x', 'root y')"
   ]
  },
  {
   "cell_type": "code",
   "execution_count": 21,
   "metadata": {},
   "outputs": [
    {
     "data": {
      "application/vnd.plotly.v1+json": {
       "config": {
        "plotlyServerURL": "https://plot.ly"
       },
       "data": [
        {
         "hovertemplate": "x=%{x}<br>log y=%{y}<extra></extra>",
         "legendgroup": "",
         "marker": {
          "color": "#636efa",
          "symbol": "circle"
         },
         "mode": "markers",
         "name": "",
         "orientation": "v",
         "showlegend": false,
         "type": "scatter",
         "x": [
          1900,
          1901,
          1902,
          1903,
          1904,
          1905,
          1906,
          1907,
          1908,
          1909,
          1910,
          1911,
          1912,
          1913,
          1914,
          1915,
          1916,
          1917,
          1918,
          1919,
          1920,
          1921,
          1922,
          1923,
          1924,
          1925,
          1926,
          1927,
          1928,
          1929,
          1930,
          1931,
          1932,
          1933,
          1934,
          1935,
          1936,
          1937,
          1938,
          1939,
          1940,
          1941,
          1942,
          1943,
          1944,
          1945,
          1946,
          1947,
          1948,
          1949,
          1950,
          1951,
          1952,
          1953,
          1954,
          1955,
          1956,
          1957,
          1958,
          1959,
          1960,
          1961,
          1962,
          1963,
          1964,
          1965,
          1966,
          1967,
          1968,
          1969,
          1970,
          1971,
          1972,
          1973,
          1974,
          1975,
          1976,
          1977,
          1978,
          1979,
          1980,
          1981,
          1982,
          1983,
          1984,
          1985,
          1986,
          1987,
          1988,
          1989,
          1990,
          1991,
          1992,
          1993,
          1994,
          1995,
          1996,
          1997,
          1998,
          1999,
          2000,
          2001,
          2002,
          2003,
          2004,
          2005,
          2006,
          2007,
          2008,
          2009,
          2010,
          2011,
          2012,
          2013,
          2014,
          2015,
          2016,
          2017,
          2018,
          2019
         ],
         "xaxis": "x",
         "y": [
          5.537334267018537,
          6.12029741895095,
          5.869296913133774,
          5.814130531825066,
          5.802118375377063,
          5.823045895483019,
          5.564520407322694,
          5.497168225293202,
          5.58724865840025,
          5.556828061699537,
          5.8888779583328805,
          6.2422232654551655,
          6.091309882077698,
          6.152732694704104,
          6.565264970035361,
          6.453624998892692,
          5.948034989180646,
          5.814130531825066,
          5.459585514144159,
          6.102558594613569,
          6.4457198193855785,
          6.842683282238422,
          6.961296045910167,
          6.887552571664617,
          6.79794041297493,
          7.063903961472068,
          6.760414691083428,
          6.826545223556594,
          6.996681488176539,
          7.207118856207756,
          7.355641102974253,
          6.974478911025045,
          7.213768308118642,
          6.9726062513017535,
          7.203405521083095,
          7.1891677384203225,
          7.218176838403408,
          7.265429723253953,
          7.29641326877392,
          7.275864600546533,
          7.359467638255621,
          7.193685818395112,
          6.976348070447749,
          6.807934943699926,
          6.9411900550683745,
          6.914730892718563,
          7.102499355774649,
          7.355641102974253,
          7.349230824613334,
          7.440733707389261,
          7.636752112435779,
          7.529943370601589,
          7.438971592395862,
          7.638198244285779,
          7.5688956634069955,
          7.707062655370473,
          7.738052297689316,
          7.697121317282625,
          7.7142311448490855,
          7.718685495198466,
          7.662937850461535,
          7.912056888179006,
          8.006700845440367,
          7.902487437162855,
          7.923710333969238,
          7.89655270164304,
          7.916807490937603,
          7.740229524763182,
          7.598399329323964,
          8.045267716607803,
          8.14002395246292,
          7.959625305098115,
          7.837554360881084,
          8.039802343736485,
          7.88193748927207,
          7.900266036767701,
          7.711996507047669,
          8.200837258379849,
          7.991592282068092,
          8.141189793457691,
          8.034955024502159,
          7.484930283289661,
          8.12533508671429,
          8.101980731853192,
          8.08886878916199,
          8.189244525735901,
          8.246171559857563,
          8.402455513945814,
          8.064636475774222,
          8.03365842788615,
          8.106816038947052,
          8.12651816878071,
          8.018954683155718,
          8.301521654940728,
          8.10349427838097,
          8.314097335405807,
          8.509564164251746,
          8.442469645220301,
          8.529911963824013,
          8.617581365447506,
          8.646992628951082,
          8.604837701268284,
          8.528924114291936,
          8.557759153162898,
          8.603554357064281,
          8.520587424484253,
          8.591558273371545,
          8.508555998020574,
          8.492490578775866,
          8.525558107747866,
          8.43663368355782,
          8.423321975806166,
          8.503905297089302,
          8.446985296372741,
          8.339500903005945,
          8.498825534058053,
          8.632305998516742,
          8.716863386544805,
          8.6278397115033,
          8.821142236331891
         ],
         "yaxis": "y"
        },
        {
         "hovertemplate": "<b>OLS trendline</b><br>log y = 0.0246172 * x + -40.7394<br>R<sup>2</sup>=0.891652<br><br>x=%{x}<br>log y=%{y} <b>(trend)</b><extra></extra>",
         "legendgroup": "",
         "line": {
          "color": "red"
         },
         "marker": {
          "color": "#636efa",
          "symbol": "circle"
         },
         "mode": "lines",
         "name": "",
         "showlegend": false,
         "type": "scatter",
         "x": [
          1900,
          1901,
          1902,
          1903,
          1904,
          1905,
          1906,
          1907,
          1908,
          1909,
          1910,
          1911,
          1912,
          1913,
          1914,
          1915,
          1916,
          1917,
          1918,
          1919,
          1920,
          1921,
          1922,
          1923,
          1924,
          1925,
          1926,
          1927,
          1928,
          1929,
          1930,
          1931,
          1932,
          1933,
          1934,
          1935,
          1936,
          1937,
          1938,
          1939,
          1940,
          1941,
          1942,
          1943,
          1944,
          1945,
          1946,
          1947,
          1948,
          1949,
          1950,
          1951,
          1952,
          1953,
          1954,
          1955,
          1956,
          1957,
          1958,
          1959,
          1960,
          1961,
          1962,
          1963,
          1964,
          1965,
          1966,
          1967,
          1968,
          1969,
          1970,
          1971,
          1972,
          1973,
          1974,
          1975,
          1976,
          1977,
          1978,
          1979,
          1980,
          1981,
          1982,
          1983,
          1984,
          1985,
          1986,
          1987,
          1988,
          1989,
          1990,
          1991,
          1992,
          1993,
          1994,
          1995,
          1996,
          1997,
          1998,
          1999,
          2000,
          2001,
          2002,
          2003,
          2004,
          2005,
          2006,
          2007,
          2008,
          2009,
          2010,
          2011,
          2012,
          2013,
          2014,
          2015,
          2016,
          2017,
          2018,
          2019
         ],
         "xaxis": "x",
         "y": [
          6.0332418674615775,
          6.057859063050157,
          6.082476258638737,
          6.107093454227316,
          6.131710649815896,
          6.156327845404476,
          6.1809450409930555,
          6.205562236581636,
          6.230179432170215,
          6.254796627758795,
          6.279413823347375,
          6.304031018935954,
          6.328648214524534,
          6.353265410113114,
          6.377882605701694,
          6.402499801290274,
          6.427116996878853,
          6.451734192467433,
          6.476351388056012,
          6.5009685836445925,
          6.525585779233172,
          6.550202974821752,
          6.574820170410332,
          6.599437365998911,
          6.624054561587491,
          6.6486717571760705,
          6.673288952764651,
          6.697906148353231,
          6.72252334394181,
          6.74714053953039,
          6.771757735118969,
          6.796374930707549,
          6.8209921262961295,
          6.845609321884709,
          6.870226517473289,
          6.894843713061868,
          6.919460908650448,
          6.944078104239028,
          6.9686952998276075,
          6.993312495416188,
          7.017929691004767,
          7.042546886593347,
          7.067164082181926,
          7.091781277770506,
          7.116398473359086,
          7.141015668947666,
          7.165632864536246,
          7.190250060124825,
          7.214867255713405,
          7.239484451301985,
          7.264101646890564,
          7.2887188424791445,
          7.313336038067724,
          7.337953233656304,
          7.362570429244884,
          7.387187624833463,
          7.411804820422043,
          7.4364220160106225,
          7.461039211599203,
          7.485656407187783,
          7.510273602776362,
          7.534890798364942,
          7.559507993953521,
          7.584125189542101,
          7.608742385130681,
          7.633359580719261,
          7.657976776307841,
          7.68259397189642,
          7.707211167485,
          7.731828363073579,
          7.7564455586621595,
          7.78106275425074,
          7.805679949839319,
          7.830297145427899,
          7.854914341016478,
          7.879531536605058,
          7.904148732193638,
          7.928765927782218,
          7.953383123370798,
          7.978000318959377,
          8.002617514547957,
          8.027234710136536,
          8.051851905725117,
          8.076469101313696,
          8.101086296902276,
          8.125703492490855,
          8.150320688079436,
          8.174937883668015,
          8.199555079256594,
          8.224172274845175,
          8.248789470433755,
          8.273406666022334,
          8.298023861610913,
          8.322641057199494,
          8.347258252788073,
          8.371875448376652,
          8.396492643965233,
          8.421109839553813,
          8.445727035142392,
          8.470344230730973,
          8.494961426319552,
          8.519578621908131,
          8.54419581749671,
          8.568813013085292,
          8.59343020867387,
          8.61804740426245,
          8.642664599851031,
          8.66728179543961,
          8.69189899102819,
          8.716516186616769,
          8.74113338220535,
          8.765750577793929,
          8.790367773382508,
          8.814984968971089,
          8.839602164559668,
          8.864219360148248,
          8.888836555736829,
          8.913453751325408,
          8.938070946913987,
          8.962688142502566
         ],
         "yaxis": "y"
        }
       ],
       "layout": {
        "legend": {
         "tracegroupgap": 0
        },
        "margin": {
         "t": 60
        },
        "template": {
         "data": {
          "bar": [
           {
            "error_x": {
             "color": "#2a3f5f"
            },
            "error_y": {
             "color": "#2a3f5f"
            },
            "marker": {
             "line": {
              "color": "#E5ECF6",
              "width": 0.5
             },
             "pattern": {
              "fillmode": "overlay",
              "size": 10,
              "solidity": 0.2
             }
            },
            "type": "bar"
           }
          ],
          "barpolar": [
           {
            "marker": {
             "line": {
              "color": "#E5ECF6",
              "width": 0.5
             },
             "pattern": {
              "fillmode": "overlay",
              "size": 10,
              "solidity": 0.2
             }
            },
            "type": "barpolar"
           }
          ],
          "carpet": [
           {
            "aaxis": {
             "endlinecolor": "#2a3f5f",
             "gridcolor": "white",
             "linecolor": "white",
             "minorgridcolor": "white",
             "startlinecolor": "#2a3f5f"
            },
            "baxis": {
             "endlinecolor": "#2a3f5f",
             "gridcolor": "white",
             "linecolor": "white",
             "minorgridcolor": "white",
             "startlinecolor": "#2a3f5f"
            },
            "type": "carpet"
           }
          ],
          "choropleth": [
           {
            "colorbar": {
             "outlinewidth": 0,
             "ticks": ""
            },
            "type": "choropleth"
           }
          ],
          "contour": [
           {
            "colorbar": {
             "outlinewidth": 0,
             "ticks": ""
            },
            "colorscale": [
             [
              0,
              "#0d0887"
             ],
             [
              0.1111111111111111,
              "#46039f"
             ],
             [
              0.2222222222222222,
              "#7201a8"
             ],
             [
              0.3333333333333333,
              "#9c179e"
             ],
             [
              0.4444444444444444,
              "#bd3786"
             ],
             [
              0.5555555555555556,
              "#d8576b"
             ],
             [
              0.6666666666666666,
              "#ed7953"
             ],
             [
              0.7777777777777778,
              "#fb9f3a"
             ],
             [
              0.8888888888888888,
              "#fdca26"
             ],
             [
              1,
              "#f0f921"
             ]
            ],
            "type": "contour"
           }
          ],
          "contourcarpet": [
           {
            "colorbar": {
             "outlinewidth": 0,
             "ticks": ""
            },
            "type": "contourcarpet"
           }
          ],
          "heatmap": [
           {
            "colorbar": {
             "outlinewidth": 0,
             "ticks": ""
            },
            "colorscale": [
             [
              0,
              "#0d0887"
             ],
             [
              0.1111111111111111,
              "#46039f"
             ],
             [
              0.2222222222222222,
              "#7201a8"
             ],
             [
              0.3333333333333333,
              "#9c179e"
             ],
             [
              0.4444444444444444,
              "#bd3786"
             ],
             [
              0.5555555555555556,
              "#d8576b"
             ],
             [
              0.6666666666666666,
              "#ed7953"
             ],
             [
              0.7777777777777778,
              "#fb9f3a"
             ],
             [
              0.8888888888888888,
              "#fdca26"
             ],
             [
              1,
              "#f0f921"
             ]
            ],
            "type": "heatmap"
           }
          ],
          "heatmapgl": [
           {
            "colorbar": {
             "outlinewidth": 0,
             "ticks": ""
            },
            "colorscale": [
             [
              0,
              "#0d0887"
             ],
             [
              0.1111111111111111,
              "#46039f"
             ],
             [
              0.2222222222222222,
              "#7201a8"
             ],
             [
              0.3333333333333333,
              "#9c179e"
             ],
             [
              0.4444444444444444,
              "#bd3786"
             ],
             [
              0.5555555555555556,
              "#d8576b"
             ],
             [
              0.6666666666666666,
              "#ed7953"
             ],
             [
              0.7777777777777778,
              "#fb9f3a"
             ],
             [
              0.8888888888888888,
              "#fdca26"
             ],
             [
              1,
              "#f0f921"
             ]
            ],
            "type": "heatmapgl"
           }
          ],
          "histogram": [
           {
            "marker": {
             "pattern": {
              "fillmode": "overlay",
              "size": 10,
              "solidity": 0.2
             }
            },
            "type": "histogram"
           }
          ],
          "histogram2d": [
           {
            "colorbar": {
             "outlinewidth": 0,
             "ticks": ""
            },
            "colorscale": [
             [
              0,
              "#0d0887"
             ],
             [
              0.1111111111111111,
              "#46039f"
             ],
             [
              0.2222222222222222,
              "#7201a8"
             ],
             [
              0.3333333333333333,
              "#9c179e"
             ],
             [
              0.4444444444444444,
              "#bd3786"
             ],
             [
              0.5555555555555556,
              "#d8576b"
             ],
             [
              0.6666666666666666,
              "#ed7953"
             ],
             [
              0.7777777777777778,
              "#fb9f3a"
             ],
             [
              0.8888888888888888,
              "#fdca26"
             ],
             [
              1,
              "#f0f921"
             ]
            ],
            "type": "histogram2d"
           }
          ],
          "histogram2dcontour": [
           {
            "colorbar": {
             "outlinewidth": 0,
             "ticks": ""
            },
            "colorscale": [
             [
              0,
              "#0d0887"
             ],
             [
              0.1111111111111111,
              "#46039f"
             ],
             [
              0.2222222222222222,
              "#7201a8"
             ],
             [
              0.3333333333333333,
              "#9c179e"
             ],
             [
              0.4444444444444444,
              "#bd3786"
             ],
             [
              0.5555555555555556,
              "#d8576b"
             ],
             [
              0.6666666666666666,
              "#ed7953"
             ],
             [
              0.7777777777777778,
              "#fb9f3a"
             ],
             [
              0.8888888888888888,
              "#fdca26"
             ],
             [
              1,
              "#f0f921"
             ]
            ],
            "type": "histogram2dcontour"
           }
          ],
          "mesh3d": [
           {
            "colorbar": {
             "outlinewidth": 0,
             "ticks": ""
            },
            "type": "mesh3d"
           }
          ],
          "parcoords": [
           {
            "line": {
             "colorbar": {
              "outlinewidth": 0,
              "ticks": ""
             }
            },
            "type": "parcoords"
           }
          ],
          "pie": [
           {
            "automargin": true,
            "type": "pie"
           }
          ],
          "scatter": [
           {
            "fillpattern": {
             "fillmode": "overlay",
             "size": 10,
             "solidity": 0.2
            },
            "type": "scatter"
           }
          ],
          "scatter3d": [
           {
            "line": {
             "colorbar": {
              "outlinewidth": 0,
              "ticks": ""
             }
            },
            "marker": {
             "colorbar": {
              "outlinewidth": 0,
              "ticks": ""
             }
            },
            "type": "scatter3d"
           }
          ],
          "scattercarpet": [
           {
            "marker": {
             "colorbar": {
              "outlinewidth": 0,
              "ticks": ""
             }
            },
            "type": "scattercarpet"
           }
          ],
          "scattergeo": [
           {
            "marker": {
             "colorbar": {
              "outlinewidth": 0,
              "ticks": ""
             }
            },
            "type": "scattergeo"
           }
          ],
          "scattergl": [
           {
            "marker": {
             "colorbar": {
              "outlinewidth": 0,
              "ticks": ""
             }
            },
            "type": "scattergl"
           }
          ],
          "scattermapbox": [
           {
            "marker": {
             "colorbar": {
              "outlinewidth": 0,
              "ticks": ""
             }
            },
            "type": "scattermapbox"
           }
          ],
          "scatterpolar": [
           {
            "marker": {
             "colorbar": {
              "outlinewidth": 0,
              "ticks": ""
             }
            },
            "type": "scatterpolar"
           }
          ],
          "scatterpolargl": [
           {
            "marker": {
             "colorbar": {
              "outlinewidth": 0,
              "ticks": ""
             }
            },
            "type": "scatterpolargl"
           }
          ],
          "scatterternary": [
           {
            "marker": {
             "colorbar": {
              "outlinewidth": 0,
              "ticks": ""
             }
            },
            "type": "scatterternary"
           }
          ],
          "surface": [
           {
            "colorbar": {
             "outlinewidth": 0,
             "ticks": ""
            },
            "colorscale": [
             [
              0,
              "#0d0887"
             ],
             [
              0.1111111111111111,
              "#46039f"
             ],
             [
              0.2222222222222222,
              "#7201a8"
             ],
             [
              0.3333333333333333,
              "#9c179e"
             ],
             [
              0.4444444444444444,
              "#bd3786"
             ],
             [
              0.5555555555555556,
              "#d8576b"
             ],
             [
              0.6666666666666666,
              "#ed7953"
             ],
             [
              0.7777777777777778,
              "#fb9f3a"
             ],
             [
              0.8888888888888888,
              "#fdca26"
             ],
             [
              1,
              "#f0f921"
             ]
            ],
            "type": "surface"
           }
          ],
          "table": [
           {
            "cells": {
             "fill": {
              "color": "#EBF0F8"
             },
             "line": {
              "color": "white"
             }
            },
            "header": {
             "fill": {
              "color": "#C8D4E3"
             },
             "line": {
              "color": "white"
             }
            },
            "type": "table"
           }
          ]
         },
         "layout": {
          "annotationdefaults": {
           "arrowcolor": "#2a3f5f",
           "arrowhead": 0,
           "arrowwidth": 1
          },
          "autotypenumbers": "strict",
          "coloraxis": {
           "colorbar": {
            "outlinewidth": 0,
            "ticks": ""
           }
          },
          "colorscale": {
           "diverging": [
            [
             0,
             "#8e0152"
            ],
            [
             0.1,
             "#c51b7d"
            ],
            [
             0.2,
             "#de77ae"
            ],
            [
             0.3,
             "#f1b6da"
            ],
            [
             0.4,
             "#fde0ef"
            ],
            [
             0.5,
             "#f7f7f7"
            ],
            [
             0.6,
             "#e6f5d0"
            ],
            [
             0.7,
             "#b8e186"
            ],
            [
             0.8,
             "#7fbc41"
            ],
            [
             0.9,
             "#4d9221"
            ],
            [
             1,
             "#276419"
            ]
           ],
           "sequential": [
            [
             0,
             "#0d0887"
            ],
            [
             0.1111111111111111,
             "#46039f"
            ],
            [
             0.2222222222222222,
             "#7201a8"
            ],
            [
             0.3333333333333333,
             "#9c179e"
            ],
            [
             0.4444444444444444,
             "#bd3786"
            ],
            [
             0.5555555555555556,
             "#d8576b"
            ],
            [
             0.6666666666666666,
             "#ed7953"
            ],
            [
             0.7777777777777778,
             "#fb9f3a"
            ],
            [
             0.8888888888888888,
             "#fdca26"
            ],
            [
             1,
             "#f0f921"
            ]
           ],
           "sequentialminus": [
            [
             0,
             "#0d0887"
            ],
            [
             0.1111111111111111,
             "#46039f"
            ],
            [
             0.2222222222222222,
             "#7201a8"
            ],
            [
             0.3333333333333333,
             "#9c179e"
            ],
            [
             0.4444444444444444,
             "#bd3786"
            ],
            [
             0.5555555555555556,
             "#d8576b"
            ],
            [
             0.6666666666666666,
             "#ed7953"
            ],
            [
             0.7777777777777778,
             "#fb9f3a"
            ],
            [
             0.8888888888888888,
             "#fdca26"
            ],
            [
             1,
             "#f0f921"
            ]
           ]
          },
          "colorway": [
           "#636efa",
           "#EF553B",
           "#00cc96",
           "#ab63fa",
           "#FFA15A",
           "#19d3f3",
           "#FF6692",
           "#B6E880",
           "#FF97FF",
           "#FECB52"
          ],
          "font": {
           "color": "#2a3f5f"
          },
          "geo": {
           "bgcolor": "white",
           "lakecolor": "white",
           "landcolor": "#E5ECF6",
           "showlakes": true,
           "showland": true,
           "subunitcolor": "white"
          },
          "hoverlabel": {
           "align": "left"
          },
          "hovermode": "closest",
          "mapbox": {
           "style": "light"
          },
          "paper_bgcolor": "white",
          "plot_bgcolor": "#E5ECF6",
          "polar": {
           "angularaxis": {
            "gridcolor": "white",
            "linecolor": "white",
            "ticks": ""
           },
           "bgcolor": "#E5ECF6",
           "radialaxis": {
            "gridcolor": "white",
            "linecolor": "white",
            "ticks": ""
           }
          },
          "scene": {
           "xaxis": {
            "backgroundcolor": "#E5ECF6",
            "gridcolor": "white",
            "gridwidth": 2,
            "linecolor": "white",
            "showbackground": true,
            "ticks": "",
            "zerolinecolor": "white"
           },
           "yaxis": {
            "backgroundcolor": "#E5ECF6",
            "gridcolor": "white",
            "gridwidth": 2,
            "linecolor": "white",
            "showbackground": true,
            "ticks": "",
            "zerolinecolor": "white"
           },
           "zaxis": {
            "backgroundcolor": "#E5ECF6",
            "gridcolor": "white",
            "gridwidth": 2,
            "linecolor": "white",
            "showbackground": true,
            "ticks": "",
            "zerolinecolor": "white"
           }
          },
          "shapedefaults": {
           "line": {
            "color": "#2a3f5f"
           }
          },
          "ternary": {
           "aaxis": {
            "gridcolor": "white",
            "linecolor": "white",
            "ticks": ""
           },
           "baxis": {
            "gridcolor": "white",
            "linecolor": "white",
            "ticks": ""
           },
           "bgcolor": "#E5ECF6",
           "caxis": {
            "gridcolor": "white",
            "linecolor": "white",
            "ticks": ""
           }
          },
          "title": {
           "x": 0.05
          },
          "xaxis": {
           "automargin": true,
           "gridcolor": "white",
           "linecolor": "white",
           "ticks": "",
           "title": {
            "standoff": 15
           },
           "zerolinecolor": "white",
           "zerolinewidth": 2
          },
          "yaxis": {
           "automargin": true,
           "gridcolor": "white",
           "linecolor": "white",
           "ticks": "",
           "title": {
            "standoff": 15
           },
           "zerolinecolor": "white",
           "zerolinewidth": 2
          }
         }
        },
        "xaxis": {
         "anchor": "y",
         "domain": [
          0,
          1
         ],
         "title": {
          "text": "x"
         }
        },
        "yaxis": {
         "anchor": "x",
         "domain": [
          0,
          1
         ],
         "title": {
          "text": "log y"
         }
        }
       }
      }
     },
     "metadata": {},
     "output_type": "display_data"
    }
   ],
   "source": [
    "homeruns_copy['log y'] = np.log(homeruns_copy['y'])\n",
    "\n",
    "px.scatter(homeruns_copy, x='x', y='log y', trendline=\"ols\", trendline_color_override=\"red\")"
   ]
  },
  {
   "cell_type": "code",
   "execution_count": 23,
   "metadata": {},
   "outputs": [
    {
     "data": {
      "application/vnd.plotly.v1+json": {
       "config": {
        "plotlyServerURL": "https://plot.ly"
       },
       "data": [
        {
         "hovertemplate": "pred=%{x}<br>log y residuals=%{y}<extra></extra>",
         "legendgroup": "",
         "marker": {
          "color": "#636efa",
          "symbol": "circle"
         },
         "mode": "markers",
         "name": "",
         "orientation": "v",
         "showlegend": false,
         "type": "scatter",
         "x": [
          6.033241867461591,
          6.057859063050174,
          6.082476258638756,
          6.107093454227332,
          6.131710649815915,
          6.1563278454044905,
          6.180945040993073,
          6.205562236581649,
          6.230179432170232,
          6.2547966277588145,
          6.27941382334739,
          6.304031018935973,
          6.328648214524549,
          6.353265410113131,
          6.377882605701707,
          6.40249980129029,
          6.427116996878873,
          6.451734192467448,
          6.476351388056031,
          6.500968583644607,
          6.5255857792331895,
          6.550202974821765,
          6.574820170410348,
          6.599437365998931,
          6.624054561587506,
          6.648671757176089,
          6.673288952764665,
          6.697906148353248,
          6.722523343941823,
          6.747140539530406,
          6.771757735118989,
          6.7963749307075645,
          6.820992126296147,
          6.845609321884723,
          6.870226517473306,
          6.894843713061881,
          6.919460908650464,
          6.944078104239047,
          6.968695299827623,
          6.993312495416205,
          7.017929691004781,
          7.042546886593364,
          7.0671640821819395,
          7.091781277770522,
          7.116398473359105,
          7.141015668947681,
          7.1656328645362635,
          7.190250060124839,
          7.214867255713422,
          7.239484451301998,
          7.26410164689058,
          7.288718842479163,
          7.313336038067739,
          7.337953233656322,
          7.362570429244897,
          7.38718762483348,
          7.411804820422056,
          7.4364220160106385,
          7.461039211599221,
          7.485656407187797,
          7.51027360277638,
          7.534890798364955,
          7.559507993953538,
          7.584125189542114,
          7.608742385130697,
          7.633359580719279,
          7.657976776307855,
          7.682593971896438,
          7.7072111674850134,
          7.731828363073596,
          7.756445558662172,
          7.781062754250755,
          7.805679949839337,
          7.830297145427913,
          7.854914341016496,
          7.8795315366050716,
          7.904148732193654,
          7.92876592778223,
          7.953383123370813,
          7.9780003189593955,
          8.002617514547971,
          8.027234710136554,
          8.05185190572513,
          8.076469101313712,
          8.101086296902288,
          8.12570349249087,
          8.150320688079454,
          8.17493788366803,
          8.199555079256612,
          8.224172274845188,
          8.24878947043377,
          8.273406666022346,
          8.298023861610929,
          8.322641057199512,
          8.347258252788087,
          8.37187544837667,
          8.396492643965246,
          8.421109839553829,
          8.445727035142404,
          8.470344230730987,
          8.49496142631957,
          8.519578621908146,
          8.544195817496728,
          8.568813013085304,
          8.593430208673887,
          8.618047404262462,
          8.642664599851045,
          8.667281795439628,
          8.691898991028204,
          8.716516186616786,
          8.741133382205362,
          8.765750577793945,
          8.79036777338252,
          8.814984968971103,
          8.839602164559686,
          8.864219360148262,
          8.888836555736845,
          8.91345375132542,
          8.938070946914003,
          8.962688142502579
         ],
         "xaxis": "x",
         "y": [
          -0.49590760044305426,
          0.06243835590077662,
          -0.2131793455049822,
          -0.29296292240226585,
          -0.329592274438852,
          -0.33328194992147164,
          -0.6164246336703796,
          -0.7083940112884468,
          -0.6429307737699821,
          -0.6979685660592772,
          -0.39053586501450965,
          -0.06180775348080747,
          -0.23733833244685076,
          -0.20053271540902706,
          0.1873823643336543,
          0.05112519760240186,
          -0.47908200769822695,
          -0.637603660642382,
          -1.0167658739118721,
          -0.3984099890310375,
          -0.07986595984761102,
          0.29248030741665687,
          0.3864758754998192,
          0.2881152056656866,
          0.17388585138742396,
          0.41523220429597885,
          0.08712573831876291,
          0.1286390752033464,
          0.27415814423471563,
          0.4599783166773497,
          0.5838833678552646,
          0.17810398031748065,
          0.3927761818224944,
          0.12699692941703056,
          0.33317900360978925,
          0.29432402535844115,
          0.2987159297529436,
          0.32135161901490594,
          0.32771796894629723,
          0.28255210513032747,
          0.3415379472508402,
          0.1511389318017482,
          -0.09081601173419074,
          -0.28384633407059656,
          -0.17520841829073053,
          -0.22628477622911802,
          -0.06313350876161472,
          0.1653910428494143,
          0.13436356889991252,
          0.20124925608726318,
          0.372650465545199,
          0.24122452812242567,
          0.1256355543281229,
          0.30024501062945763,
          0.20632523416209825,
          0.31987503053699307,
          0.3262474772672599,
          0.2606993012719867,
          0.2531919332498642,
          0.23302908801066913,
          0.15266424768515563,
          0.3771660898140503,
          0.44719285148682886,
          0.3183622476207413,
          0.3149679488385413,
          0.263193120923761,
          0.25883071462974794,
          0.05763555286674382,
          -0.10881183816104922,
          0.31343935353420704,
          0.38357839380074843,
          0.17856255084736006,
          0.0318744110417466,
          0.2095051983085714,
          0.027023148255573837,
          0.020734500162629566,
          -0.1921522251459855,
          0.272071330597619,
          0.03820915869727948,
          0.1631894744982958,
          0.03233750995418738,
          -0.5423044268468926,
          0.07348318098916096,
          0.025511630539480024,
          -0.012217507740297506,
          0.06354103324503058,
          0.09585087177810969,
          0.22751763027778438,
          -0.13491860348239015,
          -0.19051384695903728,
          -0.14197343148671848,
          -0.14688849724163688,
          -0.2790691784552113,
          -0.021119402258783282,
          -0.24376397440711806,
          -0.05777811297086366,
          0.1130715202864998,
          0.021359805666472553,
          0.08418492868160854,
          0.14723713471651934,
          0.15203120263151249,
          0.08525907936013866,
          -0.01527170320479243,
          -0.011053859922405707,
          0.010124148390394438,
          -0.09745997977820942,
          -0.0511063264795002,
          -0.1587257974190539,
          -0.19940841225233719,
          -0.19095807886892047,
          -0.30449969864754145,
          -0.3424286019877787,
          -0.2864624762932184,
          -0.3679996725983621,
          -0.5001012615537412,
          -0.36539382609020876,
          -0.25653055722010265,
          -0.1965903647806151,
          -0.3102312354107024,
          -0.14154590617068763
         ],
         "yaxis": "y"
        },
        {
         "hovertemplate": "<b>OLS trendline</b><br>log y residuals = -4.16334e-16 * pred + 1.93595e-15<br>R<sup>2</sup>=0.000000<br><br>pred=%{x}<br>log y residuals=%{y} <b>(trend)</b><extra></extra>",
         "legendgroup": "",
         "line": {
          "color": "red"
         },
         "marker": {
          "color": "#636efa",
          "symbol": "circle"
         },
         "mode": "lines",
         "name": "",
         "showlegend": false,
         "type": "scatter",
         "x": [
          6.033241867461591,
          6.057859063050174,
          6.082476258638756,
          6.107093454227332,
          6.131710649815915,
          6.1563278454044905,
          6.180945040993073,
          6.205562236581649,
          6.230179432170232,
          6.2547966277588145,
          6.27941382334739,
          6.304031018935973,
          6.328648214524549,
          6.353265410113131,
          6.377882605701707,
          6.40249980129029,
          6.427116996878873,
          6.451734192467448,
          6.476351388056031,
          6.500968583644607,
          6.5255857792331895,
          6.550202974821765,
          6.574820170410348,
          6.599437365998931,
          6.624054561587506,
          6.648671757176089,
          6.673288952764665,
          6.697906148353248,
          6.722523343941823,
          6.747140539530406,
          6.771757735118989,
          6.7963749307075645,
          6.820992126296147,
          6.845609321884723,
          6.870226517473306,
          6.894843713061881,
          6.919460908650464,
          6.944078104239047,
          6.968695299827623,
          6.993312495416205,
          7.017929691004781,
          7.042546886593364,
          7.0671640821819395,
          7.091781277770522,
          7.116398473359105,
          7.141015668947681,
          7.1656328645362635,
          7.190250060124839,
          7.214867255713422,
          7.239484451301998,
          7.26410164689058,
          7.288718842479163,
          7.313336038067739,
          7.337953233656322,
          7.362570429244897,
          7.38718762483348,
          7.411804820422056,
          7.4364220160106385,
          7.461039211599221,
          7.485656407187797,
          7.51027360277638,
          7.534890798364955,
          7.559507993953538,
          7.584125189542114,
          7.608742385130697,
          7.633359580719279,
          7.657976776307855,
          7.682593971896438,
          7.7072111674850134,
          7.731828363073596,
          7.756445558662172,
          7.781062754250755,
          7.805679949839337,
          7.830297145427913,
          7.854914341016496,
          7.8795315366050716,
          7.904148732193654,
          7.92876592778223,
          7.953383123370813,
          7.9780003189593955,
          8.002617514547971,
          8.027234710136554,
          8.05185190572513,
          8.076469101313712,
          8.101086296902288,
          8.12570349249087,
          8.150320688079454,
          8.17493788366803,
          8.199555079256612,
          8.224172274845188,
          8.24878947043377,
          8.273406666022346,
          8.298023861610929,
          8.322641057199512,
          8.347258252788087,
          8.37187544837667,
          8.396492643965246,
          8.421109839553829,
          8.445727035142404,
          8.470344230730987,
          8.49496142631957,
          8.519578621908146,
          8.544195817496728,
          8.568813013085304,
          8.593430208673887,
          8.618047404262462,
          8.642664599851045,
          8.667281795439628,
          8.691898991028204,
          8.716516186616786,
          8.741133382205362,
          8.765750577793945,
          8.79036777338252,
          8.814984968971103,
          8.839602164559686,
          8.864219360148262,
          8.888836555736845,
          8.91345375132542,
          8.938070946914003,
          8.962688142502579
         ],
         "xaxis": "x",
         "y": [
          -5.75890113705509e-16,
          -5.861390802095635e-16,
          -5.963880467136181e-16,
          -6.066370132176696e-16,
          -6.168859797217242e-16,
          -6.271349462257758e-16,
          -6.373839127298303e-16,
          -6.476328792338819e-16,
          -6.578818457379364e-16,
          -6.681308122419909e-16,
          -6.783797787460425e-16,
          -6.88628745250097e-16,
          -6.988777117541486e-16,
          -7.091266782582032e-16,
          -7.193756447622547e-16,
          -7.296246112663093e-16,
          -7.398735777703638e-16,
          -7.501225442744154e-16,
          -7.603715107784699e-16,
          -7.706204772825215e-16,
          -7.80869443786576e-16,
          -7.911184102906276e-16,
          -8.013673767946821e-16,
          -8.116163432987367e-16,
          -8.218653098027883e-16,
          -8.321142763068428e-16,
          -8.423632428108944e-16,
          -8.526122093149489e-16,
          -8.628611758190005e-16,
          -8.73110142323055e-16,
          -8.833591088271096e-16,
          -8.936080753311611e-16,
          -9.038570418352157e-16,
          -9.141060083392672e-16,
          -9.243549748433218e-16,
          -9.346039413473734e-16,
          -9.448529078514279e-16,
          -9.551018743554824e-16,
          -9.65350840859534e-16,
          -9.755998073635885e-16,
          -9.858487738676401e-16,
          -9.960977403716947e-16,
          -1.0063467068757462e-15,
          -1.0165956733798008e-15,
          -1.0268446398838553e-15,
          -1.0370936063879069e-15,
          -1.0473425728919614e-15,
          -1.057591539396013e-15,
          -1.0678405059000675e-15,
          -1.0780894724041191e-15,
          -1.0883384389081736e-15,
          -1.0985874054122282e-15,
          -1.1088363719162798e-15,
          -1.1190853384203343e-15,
          -1.1293343049243859e-15,
          -1.1395832714284404e-15,
          -1.149832237932492e-15,
          -1.1600812044365465e-15,
          -1.170330170940601e-15,
          -1.1805791374446526e-15,
          -1.1908281039487072e-15,
          -1.2010770704527587e-15,
          -1.2113260369568133e-15,
          -1.2215750034608649e-15,
          -1.2318239699649194e-15,
          -1.242072936468974e-15,
          -1.2523219029730255e-15,
          -1.26257086947708e-15,
          -1.2728198359811316e-15,
          -1.2830688024851862e-15,
          -1.2933177689892377e-15,
          -1.3035667354932923e-15,
          -1.3138157019973468e-15,
          -1.3240646685013984e-15,
          -1.334313635005453e-15,
          -1.3445626015095045e-15,
          -1.354811568013559e-15,
          -1.3650605345176106e-15,
          -1.3753095010216651e-15,
          -1.3855584675257197e-15,
          -1.3958074340297713e-15,
          -1.4060564005338258e-15,
          -1.4163053670378774e-15,
          -1.426554333541932e-15,
          -1.4368033000459835e-15,
          -1.447052266550038e-15,
          -1.4573012330540926e-15,
          -1.4675501995581441e-15,
          -1.4777991660621987e-15,
          -1.4880481325662502e-15,
          -1.4982970990703048e-15,
          -1.5085460655743564e-15,
          -1.5187950320784109e-15,
          -1.5290439985824654e-15,
          -1.539292965086517e-15,
          -1.5495419315905715e-15,
          -1.5597908980946231e-15,
          -1.5700398645986777e-15,
          -1.5802888311027292e-15,
          -1.5905377976067838e-15,
          -1.6007867641108383e-15,
          -1.6110357306148899e-15,
          -1.6212846971189444e-15,
          -1.631533663622996e-15,
          -1.6417826301270505e-15,
          -1.6520315966311021e-15,
          -1.6622805631351566e-15,
          -1.6725295296392112e-15,
          -1.6827784961432628e-15,
          -1.6930274626473173e-15,
          -1.7032764291513689e-15,
          -1.7135253956554234e-15,
          -1.723774362159475e-15,
          -1.7340233286635295e-15,
          -1.744272295167584e-15,
          -1.7545212616716356e-15,
          -1.7647702281756902e-15,
          -1.7750191946797417e-15,
          -1.7852681611837965e-15,
          -1.795517127687848e-15
         ],
         "yaxis": "y"
        }
       ],
       "layout": {
        "legend": {
         "tracegroupgap": 0
        },
        "margin": {
         "t": 60
        },
        "template": {
         "data": {
          "bar": [
           {
            "error_x": {
             "color": "#2a3f5f"
            },
            "error_y": {
             "color": "#2a3f5f"
            },
            "marker": {
             "line": {
              "color": "#E5ECF6",
              "width": 0.5
             },
             "pattern": {
              "fillmode": "overlay",
              "size": 10,
              "solidity": 0.2
             }
            },
            "type": "bar"
           }
          ],
          "barpolar": [
           {
            "marker": {
             "line": {
              "color": "#E5ECF6",
              "width": 0.5
             },
             "pattern": {
              "fillmode": "overlay",
              "size": 10,
              "solidity": 0.2
             }
            },
            "type": "barpolar"
           }
          ],
          "carpet": [
           {
            "aaxis": {
             "endlinecolor": "#2a3f5f",
             "gridcolor": "white",
             "linecolor": "white",
             "minorgridcolor": "white",
             "startlinecolor": "#2a3f5f"
            },
            "baxis": {
             "endlinecolor": "#2a3f5f",
             "gridcolor": "white",
             "linecolor": "white",
             "minorgridcolor": "white",
             "startlinecolor": "#2a3f5f"
            },
            "type": "carpet"
           }
          ],
          "choropleth": [
           {
            "colorbar": {
             "outlinewidth": 0,
             "ticks": ""
            },
            "type": "choropleth"
           }
          ],
          "contour": [
           {
            "colorbar": {
             "outlinewidth": 0,
             "ticks": ""
            },
            "colorscale": [
             [
              0,
              "#0d0887"
             ],
             [
              0.1111111111111111,
              "#46039f"
             ],
             [
              0.2222222222222222,
              "#7201a8"
             ],
             [
              0.3333333333333333,
              "#9c179e"
             ],
             [
              0.4444444444444444,
              "#bd3786"
             ],
             [
              0.5555555555555556,
              "#d8576b"
             ],
             [
              0.6666666666666666,
              "#ed7953"
             ],
             [
              0.7777777777777778,
              "#fb9f3a"
             ],
             [
              0.8888888888888888,
              "#fdca26"
             ],
             [
              1,
              "#f0f921"
             ]
            ],
            "type": "contour"
           }
          ],
          "contourcarpet": [
           {
            "colorbar": {
             "outlinewidth": 0,
             "ticks": ""
            },
            "type": "contourcarpet"
           }
          ],
          "heatmap": [
           {
            "colorbar": {
             "outlinewidth": 0,
             "ticks": ""
            },
            "colorscale": [
             [
              0,
              "#0d0887"
             ],
             [
              0.1111111111111111,
              "#46039f"
             ],
             [
              0.2222222222222222,
              "#7201a8"
             ],
             [
              0.3333333333333333,
              "#9c179e"
             ],
             [
              0.4444444444444444,
              "#bd3786"
             ],
             [
              0.5555555555555556,
              "#d8576b"
             ],
             [
              0.6666666666666666,
              "#ed7953"
             ],
             [
              0.7777777777777778,
              "#fb9f3a"
             ],
             [
              0.8888888888888888,
              "#fdca26"
             ],
             [
              1,
              "#f0f921"
             ]
            ],
            "type": "heatmap"
           }
          ],
          "heatmapgl": [
           {
            "colorbar": {
             "outlinewidth": 0,
             "ticks": ""
            },
            "colorscale": [
             [
              0,
              "#0d0887"
             ],
             [
              0.1111111111111111,
              "#46039f"
             ],
             [
              0.2222222222222222,
              "#7201a8"
             ],
             [
              0.3333333333333333,
              "#9c179e"
             ],
             [
              0.4444444444444444,
              "#bd3786"
             ],
             [
              0.5555555555555556,
              "#d8576b"
             ],
             [
              0.6666666666666666,
              "#ed7953"
             ],
             [
              0.7777777777777778,
              "#fb9f3a"
             ],
             [
              0.8888888888888888,
              "#fdca26"
             ],
             [
              1,
              "#f0f921"
             ]
            ],
            "type": "heatmapgl"
           }
          ],
          "histogram": [
           {
            "marker": {
             "pattern": {
              "fillmode": "overlay",
              "size": 10,
              "solidity": 0.2
             }
            },
            "type": "histogram"
           }
          ],
          "histogram2d": [
           {
            "colorbar": {
             "outlinewidth": 0,
             "ticks": ""
            },
            "colorscale": [
             [
              0,
              "#0d0887"
             ],
             [
              0.1111111111111111,
              "#46039f"
             ],
             [
              0.2222222222222222,
              "#7201a8"
             ],
             [
              0.3333333333333333,
              "#9c179e"
             ],
             [
              0.4444444444444444,
              "#bd3786"
             ],
             [
              0.5555555555555556,
              "#d8576b"
             ],
             [
              0.6666666666666666,
              "#ed7953"
             ],
             [
              0.7777777777777778,
              "#fb9f3a"
             ],
             [
              0.8888888888888888,
              "#fdca26"
             ],
             [
              1,
              "#f0f921"
             ]
            ],
            "type": "histogram2d"
           }
          ],
          "histogram2dcontour": [
           {
            "colorbar": {
             "outlinewidth": 0,
             "ticks": ""
            },
            "colorscale": [
             [
              0,
              "#0d0887"
             ],
             [
              0.1111111111111111,
              "#46039f"
             ],
             [
              0.2222222222222222,
              "#7201a8"
             ],
             [
              0.3333333333333333,
              "#9c179e"
             ],
             [
              0.4444444444444444,
              "#bd3786"
             ],
             [
              0.5555555555555556,
              "#d8576b"
             ],
             [
              0.6666666666666666,
              "#ed7953"
             ],
             [
              0.7777777777777778,
              "#fb9f3a"
             ],
             [
              0.8888888888888888,
              "#fdca26"
             ],
             [
              1,
              "#f0f921"
             ]
            ],
            "type": "histogram2dcontour"
           }
          ],
          "mesh3d": [
           {
            "colorbar": {
             "outlinewidth": 0,
             "ticks": ""
            },
            "type": "mesh3d"
           }
          ],
          "parcoords": [
           {
            "line": {
             "colorbar": {
              "outlinewidth": 0,
              "ticks": ""
             }
            },
            "type": "parcoords"
           }
          ],
          "pie": [
           {
            "automargin": true,
            "type": "pie"
           }
          ],
          "scatter": [
           {
            "fillpattern": {
             "fillmode": "overlay",
             "size": 10,
             "solidity": 0.2
            },
            "type": "scatter"
           }
          ],
          "scatter3d": [
           {
            "line": {
             "colorbar": {
              "outlinewidth": 0,
              "ticks": ""
             }
            },
            "marker": {
             "colorbar": {
              "outlinewidth": 0,
              "ticks": ""
             }
            },
            "type": "scatter3d"
           }
          ],
          "scattercarpet": [
           {
            "marker": {
             "colorbar": {
              "outlinewidth": 0,
              "ticks": ""
             }
            },
            "type": "scattercarpet"
           }
          ],
          "scattergeo": [
           {
            "marker": {
             "colorbar": {
              "outlinewidth": 0,
              "ticks": ""
             }
            },
            "type": "scattergeo"
           }
          ],
          "scattergl": [
           {
            "marker": {
             "colorbar": {
              "outlinewidth": 0,
              "ticks": ""
             }
            },
            "type": "scattergl"
           }
          ],
          "scattermapbox": [
           {
            "marker": {
             "colorbar": {
              "outlinewidth": 0,
              "ticks": ""
             }
            },
            "type": "scattermapbox"
           }
          ],
          "scatterpolar": [
           {
            "marker": {
             "colorbar": {
              "outlinewidth": 0,
              "ticks": ""
             }
            },
            "type": "scatterpolar"
           }
          ],
          "scatterpolargl": [
           {
            "marker": {
             "colorbar": {
              "outlinewidth": 0,
              "ticks": ""
             }
            },
            "type": "scatterpolargl"
           }
          ],
          "scatterternary": [
           {
            "marker": {
             "colorbar": {
              "outlinewidth": 0,
              "ticks": ""
             }
            },
            "type": "scatterternary"
           }
          ],
          "surface": [
           {
            "colorbar": {
             "outlinewidth": 0,
             "ticks": ""
            },
            "colorscale": [
             [
              0,
              "#0d0887"
             ],
             [
              0.1111111111111111,
              "#46039f"
             ],
             [
              0.2222222222222222,
              "#7201a8"
             ],
             [
              0.3333333333333333,
              "#9c179e"
             ],
             [
              0.4444444444444444,
              "#bd3786"
             ],
             [
              0.5555555555555556,
              "#d8576b"
             ],
             [
              0.6666666666666666,
              "#ed7953"
             ],
             [
              0.7777777777777778,
              "#fb9f3a"
             ],
             [
              0.8888888888888888,
              "#fdca26"
             ],
             [
              1,
              "#f0f921"
             ]
            ],
            "type": "surface"
           }
          ],
          "table": [
           {
            "cells": {
             "fill": {
              "color": "#EBF0F8"
             },
             "line": {
              "color": "white"
             }
            },
            "header": {
             "fill": {
              "color": "#C8D4E3"
             },
             "line": {
              "color": "white"
             }
            },
            "type": "table"
           }
          ]
         },
         "layout": {
          "annotationdefaults": {
           "arrowcolor": "#2a3f5f",
           "arrowhead": 0,
           "arrowwidth": 1
          },
          "autotypenumbers": "strict",
          "coloraxis": {
           "colorbar": {
            "outlinewidth": 0,
            "ticks": ""
           }
          },
          "colorscale": {
           "diverging": [
            [
             0,
             "#8e0152"
            ],
            [
             0.1,
             "#c51b7d"
            ],
            [
             0.2,
             "#de77ae"
            ],
            [
             0.3,
             "#f1b6da"
            ],
            [
             0.4,
             "#fde0ef"
            ],
            [
             0.5,
             "#f7f7f7"
            ],
            [
             0.6,
             "#e6f5d0"
            ],
            [
             0.7,
             "#b8e186"
            ],
            [
             0.8,
             "#7fbc41"
            ],
            [
             0.9,
             "#4d9221"
            ],
            [
             1,
             "#276419"
            ]
           ],
           "sequential": [
            [
             0,
             "#0d0887"
            ],
            [
             0.1111111111111111,
             "#46039f"
            ],
            [
             0.2222222222222222,
             "#7201a8"
            ],
            [
             0.3333333333333333,
             "#9c179e"
            ],
            [
             0.4444444444444444,
             "#bd3786"
            ],
            [
             0.5555555555555556,
             "#d8576b"
            ],
            [
             0.6666666666666666,
             "#ed7953"
            ],
            [
             0.7777777777777778,
             "#fb9f3a"
            ],
            [
             0.8888888888888888,
             "#fdca26"
            ],
            [
             1,
             "#f0f921"
            ]
           ],
           "sequentialminus": [
            [
             0,
             "#0d0887"
            ],
            [
             0.1111111111111111,
             "#46039f"
            ],
            [
             0.2222222222222222,
             "#7201a8"
            ],
            [
             0.3333333333333333,
             "#9c179e"
            ],
            [
             0.4444444444444444,
             "#bd3786"
            ],
            [
             0.5555555555555556,
             "#d8576b"
            ],
            [
             0.6666666666666666,
             "#ed7953"
            ],
            [
             0.7777777777777778,
             "#fb9f3a"
            ],
            [
             0.8888888888888888,
             "#fdca26"
            ],
            [
             1,
             "#f0f921"
            ]
           ]
          },
          "colorway": [
           "#636efa",
           "#EF553B",
           "#00cc96",
           "#ab63fa",
           "#FFA15A",
           "#19d3f3",
           "#FF6692",
           "#B6E880",
           "#FF97FF",
           "#FECB52"
          ],
          "font": {
           "color": "#2a3f5f"
          },
          "geo": {
           "bgcolor": "white",
           "lakecolor": "white",
           "landcolor": "#E5ECF6",
           "showlakes": true,
           "showland": true,
           "subunitcolor": "white"
          },
          "hoverlabel": {
           "align": "left"
          },
          "hovermode": "closest",
          "mapbox": {
           "style": "light"
          },
          "paper_bgcolor": "white",
          "plot_bgcolor": "#E5ECF6",
          "polar": {
           "angularaxis": {
            "gridcolor": "white",
            "linecolor": "white",
            "ticks": ""
           },
           "bgcolor": "#E5ECF6",
           "radialaxis": {
            "gridcolor": "white",
            "linecolor": "white",
            "ticks": ""
           }
          },
          "scene": {
           "xaxis": {
            "backgroundcolor": "#E5ECF6",
            "gridcolor": "white",
            "gridwidth": 2,
            "linecolor": "white",
            "showbackground": true,
            "ticks": "",
            "zerolinecolor": "white"
           },
           "yaxis": {
            "backgroundcolor": "#E5ECF6",
            "gridcolor": "white",
            "gridwidth": 2,
            "linecolor": "white",
            "showbackground": true,
            "ticks": "",
            "zerolinecolor": "white"
           },
           "zaxis": {
            "backgroundcolor": "#E5ECF6",
            "gridcolor": "white",
            "gridwidth": 2,
            "linecolor": "white",
            "showbackground": true,
            "ticks": "",
            "zerolinecolor": "white"
           }
          },
          "shapedefaults": {
           "line": {
            "color": "#2a3f5f"
           }
          },
          "ternary": {
           "aaxis": {
            "gridcolor": "white",
            "linecolor": "white",
            "ticks": ""
           },
           "baxis": {
            "gridcolor": "white",
            "linecolor": "white",
            "ticks": ""
           },
           "bgcolor": "#E5ECF6",
           "caxis": {
            "gridcolor": "white",
            "linecolor": "white",
            "ticks": ""
           }
          },
          "title": {
           "x": 0.05
          },
          "xaxis": {
           "automargin": true,
           "gridcolor": "white",
           "linecolor": "white",
           "ticks": "",
           "title": {
            "standoff": 15
           },
           "zerolinecolor": "white",
           "zerolinewidth": 2
          },
          "yaxis": {
           "automargin": true,
           "gridcolor": "white",
           "linecolor": "white",
           "ticks": "",
           "title": {
            "standoff": 15
           },
           "zerolinecolor": "white",
           "zerolinewidth": 2
          }
         }
        },
        "xaxis": {
         "anchor": "y",
         "domain": [
          0,
          1
         ],
         "title": {
          "text": "pred"
         }
        },
        "yaxis": {
         "anchor": "x",
         "domain": [
          0,
          1
         ],
         "title": {
          "text": "log y residuals"
         }
        }
       }
      }
     },
     "metadata": {},
     "output_type": "display_data"
    }
   ],
   "source": [
    "create_residual_plot(homeruns_copy, 'x', 'log y')"
   ]
  },
  {
   "cell_type": "code",
   "execution_count": null,
   "id": "63178774",
   "metadata": {
    "deletable": false,
    "editable": false
   },
   "outputs": [],
   "source": [
    "grader.check(\"q1\")"
   ]
  },
  {
   "cell_type": "markdown",
   "id": "397e7484",
   "metadata": {},
   "source": [
    "## Part 2: Diamond Pricing 💎\n",
    "\n",
    "In this next section, you will pretend you are a jewelry appraiser and predict the prices of diamonds given several standard characteristics of diamonds.\n",
    "\n",
    "You will use linear regression to predict prices, while improving the quality of your predictions using **feature engineering**. Since this question is supposed to help you understand feature engineering, **you will be building these features from scratch, instead of using the built in `sklearn` or `pandas` methods**.\n",
    "\n",
    "The `diamonds` dataset is accessible via `seaborn` (with `sns.load_dataset('diamonds')`), but we've skipped that step and loaded it for you below. The DataFrame has 53940 rows and 10 columns:\n",
    "\n",
    "|column|description|unique values or range|\n",
    "|---|---|---|\n",
    "|`'carat'`|weight of the diamond in carats (each carat is 0.2 grams)| 0.2 - 5.01 |\n",
    "|`'cut'`|quality of the cut | Fair, Good, Very Good, Premium, Ideal |\n",
    "|`'color'`|diamond colour | J (worst, near colorless), I, H, G, F, E, D (best, absolute colorless) |\n",
    "|`'clarity'`|a measurement of how clear the diamond is | I1 (worst), SI2, SI1, VS2, VS1, VVS2, VVS1, IF (best) |\n",
    "|`'depth'`|total depth percentage, computed as z / mean(x, y) = 2 * z / (x + y) | 43 - 79 |\n",
    "|`'table'`|width of top of diamond relative to widest point | 43 - 95 |\n",
    "|`'price'`|price in US dollars | \\\\$326 - \\\\$18,823 USD |\n",
    "|`'x'`|length in mm | 0 - 10.74 |\n",
    "|`'y'`|width in mm | 0 - 58.9 | \n",
    "|`'z'`|depth in mm | 0 - 31.8 |\n",
    "\n",
    "If you want to learn more about how diamonds are measured, refer to [this page by the American Gem Society](https://www.americangemsociety.org/4cs-of-diamonds/)."
   ]
  },
  {
   "cell_type": "code",
   "execution_count": 185,
   "id": "18488a83",
   "metadata": {},
   "outputs": [
    {
     "data": {
      "text/html": [
       "<div>\n",
       "<style scoped>\n",
       "    .dataframe tbody tr th:only-of-type {\n",
       "        vertical-align: middle;\n",
       "    }\n",
       "\n",
       "    .dataframe tbody tr th {\n",
       "        vertical-align: top;\n",
       "    }\n",
       "\n",
       "    .dataframe thead th {\n",
       "        text-align: right;\n",
       "    }\n",
       "</style>\n",
       "<table border=\"1\" class=\"dataframe\">\n",
       "  <thead>\n",
       "    <tr style=\"text-align: right;\">\n",
       "      <th></th>\n",
       "      <th>carat</th>\n",
       "      <th>cut</th>\n",
       "      <th>color</th>\n",
       "      <th>clarity</th>\n",
       "      <th>depth</th>\n",
       "      <th>table</th>\n",
       "      <th>price</th>\n",
       "      <th>x</th>\n",
       "      <th>y</th>\n",
       "      <th>z</th>\n",
       "    </tr>\n",
       "  </thead>\n",
       "  <tbody>\n",
       "    <tr>\n",
       "      <th>0</th>\n",
       "      <td>0.23</td>\n",
       "      <td>Ideal</td>\n",
       "      <td>E</td>\n",
       "      <td>SI2</td>\n",
       "      <td>61.5</td>\n",
       "      <td>55.0</td>\n",
       "      <td>326</td>\n",
       "      <td>3.95</td>\n",
       "      <td>3.98</td>\n",
       "      <td>2.43</td>\n",
       "    </tr>\n",
       "    <tr>\n",
       "      <th>1</th>\n",
       "      <td>0.21</td>\n",
       "      <td>Premium</td>\n",
       "      <td>E</td>\n",
       "      <td>SI1</td>\n",
       "      <td>59.8</td>\n",
       "      <td>61.0</td>\n",
       "      <td>326</td>\n",
       "      <td>3.89</td>\n",
       "      <td>3.84</td>\n",
       "      <td>2.31</td>\n",
       "    </tr>\n",
       "    <tr>\n",
       "      <th>2</th>\n",
       "      <td>0.23</td>\n",
       "      <td>Good</td>\n",
       "      <td>E</td>\n",
       "      <td>VS1</td>\n",
       "      <td>56.9</td>\n",
       "      <td>65.0</td>\n",
       "      <td>327</td>\n",
       "      <td>4.05</td>\n",
       "      <td>4.07</td>\n",
       "      <td>2.31</td>\n",
       "    </tr>\n",
       "    <tr>\n",
       "      <th>3</th>\n",
       "      <td>0.29</td>\n",
       "      <td>Premium</td>\n",
       "      <td>I</td>\n",
       "      <td>VS2</td>\n",
       "      <td>62.4</td>\n",
       "      <td>58.0</td>\n",
       "      <td>334</td>\n",
       "      <td>4.20</td>\n",
       "      <td>4.23</td>\n",
       "      <td>2.63</td>\n",
       "    </tr>\n",
       "    <tr>\n",
       "      <th>4</th>\n",
       "      <td>0.31</td>\n",
       "      <td>Good</td>\n",
       "      <td>J</td>\n",
       "      <td>SI2</td>\n",
       "      <td>63.3</td>\n",
       "      <td>58.0</td>\n",
       "      <td>335</td>\n",
       "      <td>4.34</td>\n",
       "      <td>4.35</td>\n",
       "      <td>2.75</td>\n",
       "    </tr>\n",
       "  </tbody>\n",
       "</table>\n",
       "</div>"
      ],
      "text/plain": [
       "   carat      cut color clarity  depth  table  price     x     y     z\n",
       "0   0.23    Ideal     E     SI2   61.5   55.0    326  3.95  3.98  2.43\n",
       "1   0.21  Premium     E     SI1   59.8   61.0    326  3.89  3.84  2.31\n",
       "2   0.23     Good     E     VS1   56.9   65.0    327  4.05  4.07  2.31\n",
       "3   0.29  Premium     I     VS2   62.4   58.0    334  4.20  4.23  2.63\n",
       "4   0.31     Good     J     SI2   63.3   58.0    335  4.34  4.35  2.75"
      ]
     },
     "execution_count": 185,
     "metadata": {},
     "output_type": "execute_result"
    }
   ],
   "source": [
    "diamonds = pd.read_csv(Path('data')/'diamonds.csv')\n",
    "diamonds.head()"
   ]
  },
  {
   "cell_type": "markdown",
   "id": "f6f4ad49",
   "metadata": {},
   "source": [
    "### Question 2 – Ordinal Encoding 🔢\n",
    "\n",
    "Every categorical variable in the dataset is an ordinal column, meaning that there is an inherent order that we can use to sort the values in the column. Recall that **ordinal encoding** is a feature transformation that maps the values in an ordinal column to positive integers in a way that preserves the order of the column values. For instance, an ordinal encoding for Freshman, Sophomore, Junior, Senior is 0, 1, 2, 3.\n",
    "\n",
    "Complete the implementation of the function `create_ordinal`, which takes in the `diamonds` DataFrame and returns a DataFrame of ordinal features only with names of the form `'ordinal_<col>'`, where `'<col>'` is the original categorical column name. For instance, the `'ordinal_color'` column should consist of values from 0 to 6, where 0 refers to `'J'` and 6 refers to `'D'`. (In all cases, start counting from 0.)\n",
    "\n",
    "***Notes:*** \n",
    "- Remember, you are creating this function using basic `pandas`. You might want to create a helper function that takes in a single column and an ordering for that column.\n",
    "- Don't include non-ordinal features in the returned DataFrame. That is, if there are only three columns in `diamonds` that are ordinal, `create_ordinal` should return a DataFrame with three columns.\n",
    "- The orderings for each of the ordinal columns are displayed in the data dictionary above (in the `'unique values or range'` column)."
   ]
  },
  {
   "cell_type": "code",
   "execution_count": 186,
   "metadata": {},
   "outputs": [],
   "source": [
    "def quality_cut(str_in):\n",
    "  if str_in == 'Fair':\n",
    "    return 0\n",
    "  elif str_in == 'Good':\n",
    "    return 1\n",
    "  elif str_in == 'Very Good':\n",
    "    return 2\n",
    "  elif str_in == 'Premium':\n",
    "    return 3\n",
    "  else:\n",
    "    return 4"
   ]
  },
  {
   "cell_type": "code",
   "execution_count": 187,
   "metadata": {},
   "outputs": [],
   "source": [
    "def color(str_in):\n",
    "  if str_in == 'J':\n",
    "    return 0\n",
    "  elif str_in == 'I':\n",
    "    return 1\n",
    "  elif str_in == 'H':\n",
    "    return 2\n",
    "  elif str_in == 'G':\n",
    "    return 3\n",
    "  elif str_in == 'F':\n",
    "    return 4\n",
    "  elif str_in == 'E':\n",
    "    return 5\n",
    "  else:\n",
    "    return 6"
   ]
  },
  {
   "cell_type": "code",
   "execution_count": 188,
   "metadata": {},
   "outputs": [],
   "source": [
    "def clarity(str_in):\n",
    "  if str_in == 'I1':\n",
    "    return 0\n",
    "  elif str_in == 'SI2':\n",
    "    return 1\n",
    "  elif str_in == 'SI1':\n",
    "    return 2\n",
    "  elif str_in == 'VS2':\n",
    "    return 3\n",
    "  elif str_in == 'VS1':\n",
    "    return 4\n",
    "  elif str_in == 'VVS2':\n",
    "    return 5\n",
    "  elif str_in == 'VVS1':\n",
    "    return 6\n",
    "  else:\n",
    "    return 7"
   ]
  },
  {
   "cell_type": "code",
   "execution_count": 189,
   "id": "26df58a3",
   "metadata": {},
   "outputs": [],
   "source": [
    "diamonds_copy = diamonds[['cut', 'color', 'clarity']]\n",
    "diamonds_copy['cut'] = diamonds_copy['cut'].apply(quality_cut)\n",
    "diamonds_copy['color'] = diamonds_copy['color'].apply(color)\n",
    "diamonds_copy['clarity'] = diamonds_copy['clarity'].apply(clarity)"
   ]
  },
  {
   "cell_type": "code",
   "execution_count": 190,
   "id": "0d871c84",
   "metadata": {},
   "outputs": [],
   "source": [
    "# don't change this cell, but do run it -- it is needed for the tests to work\n",
    "diamonds = pd.read_csv(Path('data')/'diamonds.csv')\n",
    "out_q2 = create_ordinal(diamonds)"
   ]
  },
  {
   "cell_type": "code",
   "execution_count": 191,
   "metadata": {},
   "outputs": [
    {
     "data": {
      "text/plain": [
       "{'ordinal_clarity', 'ordinal_color', 'ordinal_cut'}"
      ]
     },
     "execution_count": 191,
     "metadata": {},
     "output_type": "execute_result"
    }
   ],
   "source": [
    "set(out_q2.columns)"
   ]
  },
  {
   "cell_type": "code",
   "execution_count": 192,
   "id": "8ee9fbb1",
   "metadata": {
    "deletable": false,
    "editable": false
   },
   "outputs": [
    {
     "data": {
      "text/html": [
       "<p><strong><pre style='display: inline;'>q2</pre></strong> passed!</p>"
      ],
      "text/plain": [
       "q2 results: All test cases passed!"
      ]
     },
     "execution_count": 192,
     "metadata": {},
     "output_type": "execute_result"
    }
   ],
   "source": [
    "grader.check(\"q2\")"
   ]
  },
  {
   "cell_type": "markdown",
   "id": "14355abf",
   "metadata": {},
   "source": [
    "### Question 3 – Nominal Encoding 📊\n",
    "\n",
    "Even though the categorical variables in the dataset are ordinal, we can still treat them as nominal by forgetting their order. To treat the categorical variables in our dataset as nominal, we might **one-hot encode** them. \n",
    "\n",
    "#### `create_one_hot`\n",
    "\n",
    "Complete the implementation of the function `create_one_hot`, which takes in the `diamonds` DataFrame and returns a DataFrame of one-hot encoded features with names of the form `'one_hot_<col>_<val>'`, where `'<col>'` is the original categorical column name, and `'<val>'` is the value found in the categorical column `'<col>'`. For instance, one of your column names will be `'one_hot_color_J'`.\n",
    "\n",
    "***Notes:***\n",
    "- Only include one-hot-encoded columns in the DataFrame that `create_one_hot` returns.\n",
    "- Create a helper function that creates the one-hot encoding for a single column. **Do not** use `sklearn` or `pd.get_dummies` for this question!\n",
    "- As per usual, write an efficient implementation. You may use a `for`-loop over **columns**, but not over rows. And the order of **columns** does not matter.\n",
    "- In lecture, we will look at cases where we need to drop one one-hot encoded column per categorical variable. **Do not drop** any one-hot encoded columns here!\n",
    "\n",
    "<br>\n",
    "\n",
    "#### `create_proportions`\n",
    "\n",
    "Similar to the one-hot encoding case, you can replace a value in a nominal column with the proportion of times that value appears in the column. For instance, if a column consists of the values `['a', 'b', 'a', 'c']`, then the proportion-encoded column is `[0.5, 0.25, 0.5, 0.25]`.  This might be a reasonable approach to predicting the price of a diamond, as you might expect *rarer attributes to be considered more valuable* than common ones.\n",
    "\n",
    "Complete the implementation of the function `create_proportions`, which takes in the `diamonds` DataFrame and returns a DataFrame of proportion-encoded features with names of the form `'proportion_<col>'`, where `'<col>'` is the original categorical column name."
   ]
  },
  {
   "cell_type": "code",
   "execution_count": 193,
   "metadata": {},
   "outputs": [
    {
     "data": {
      "text/html": [
       "<div>\n",
       "<style scoped>\n",
       "    .dataframe tbody tr th:only-of-type {\n",
       "        vertical-align: middle;\n",
       "    }\n",
       "\n",
       "    .dataframe tbody tr th {\n",
       "        vertical-align: top;\n",
       "    }\n",
       "\n",
       "    .dataframe thead th {\n",
       "        text-align: right;\n",
       "    }\n",
       "</style>\n",
       "<table border=\"1\" class=\"dataframe\">\n",
       "  <thead>\n",
       "    <tr style=\"text-align: right;\">\n",
       "      <th></th>\n",
       "      <th>carat</th>\n",
       "      <th>cut</th>\n",
       "      <th>color</th>\n",
       "      <th>clarity</th>\n",
       "      <th>depth</th>\n",
       "      <th>table</th>\n",
       "      <th>price</th>\n",
       "      <th>x</th>\n",
       "      <th>y</th>\n",
       "      <th>z</th>\n",
       "    </tr>\n",
       "  </thead>\n",
       "  <tbody>\n",
       "    <tr>\n",
       "      <th>0</th>\n",
       "      <td>0.23</td>\n",
       "      <td>Ideal</td>\n",
       "      <td>E</td>\n",
       "      <td>SI2</td>\n",
       "      <td>61.5</td>\n",
       "      <td>55.0</td>\n",
       "      <td>326</td>\n",
       "      <td>3.95</td>\n",
       "      <td>3.98</td>\n",
       "      <td>2.43</td>\n",
       "    </tr>\n",
       "    <tr>\n",
       "      <th>1</th>\n",
       "      <td>0.21</td>\n",
       "      <td>Premium</td>\n",
       "      <td>E</td>\n",
       "      <td>SI1</td>\n",
       "      <td>59.8</td>\n",
       "      <td>61.0</td>\n",
       "      <td>326</td>\n",
       "      <td>3.89</td>\n",
       "      <td>3.84</td>\n",
       "      <td>2.31</td>\n",
       "    </tr>\n",
       "    <tr>\n",
       "      <th>2</th>\n",
       "      <td>0.23</td>\n",
       "      <td>Good</td>\n",
       "      <td>E</td>\n",
       "      <td>VS1</td>\n",
       "      <td>56.9</td>\n",
       "      <td>65.0</td>\n",
       "      <td>327</td>\n",
       "      <td>4.05</td>\n",
       "      <td>4.07</td>\n",
       "      <td>2.31</td>\n",
       "    </tr>\n",
       "    <tr>\n",
       "      <th>3</th>\n",
       "      <td>0.29</td>\n",
       "      <td>Premium</td>\n",
       "      <td>I</td>\n",
       "      <td>VS2</td>\n",
       "      <td>62.4</td>\n",
       "      <td>58.0</td>\n",
       "      <td>334</td>\n",
       "      <td>4.20</td>\n",
       "      <td>4.23</td>\n",
       "      <td>2.63</td>\n",
       "    </tr>\n",
       "    <tr>\n",
       "      <th>4</th>\n",
       "      <td>0.31</td>\n",
       "      <td>Good</td>\n",
       "      <td>J</td>\n",
       "      <td>SI2</td>\n",
       "      <td>63.3</td>\n",
       "      <td>58.0</td>\n",
       "      <td>335</td>\n",
       "      <td>4.34</td>\n",
       "      <td>4.35</td>\n",
       "      <td>2.75</td>\n",
       "    </tr>\n",
       "    <tr>\n",
       "      <th>...</th>\n",
       "      <td>...</td>\n",
       "      <td>...</td>\n",
       "      <td>...</td>\n",
       "      <td>...</td>\n",
       "      <td>...</td>\n",
       "      <td>...</td>\n",
       "      <td>...</td>\n",
       "      <td>...</td>\n",
       "      <td>...</td>\n",
       "      <td>...</td>\n",
       "    </tr>\n",
       "    <tr>\n",
       "      <th>53935</th>\n",
       "      <td>0.72</td>\n",
       "      <td>Ideal</td>\n",
       "      <td>D</td>\n",
       "      <td>SI1</td>\n",
       "      <td>60.8</td>\n",
       "      <td>57.0</td>\n",
       "      <td>2757</td>\n",
       "      <td>5.75</td>\n",
       "      <td>5.76</td>\n",
       "      <td>3.50</td>\n",
       "    </tr>\n",
       "    <tr>\n",
       "      <th>53936</th>\n",
       "      <td>0.72</td>\n",
       "      <td>Good</td>\n",
       "      <td>D</td>\n",
       "      <td>SI1</td>\n",
       "      <td>63.1</td>\n",
       "      <td>55.0</td>\n",
       "      <td>2757</td>\n",
       "      <td>5.69</td>\n",
       "      <td>5.75</td>\n",
       "      <td>3.61</td>\n",
       "    </tr>\n",
       "    <tr>\n",
       "      <th>53937</th>\n",
       "      <td>0.70</td>\n",
       "      <td>Very Good</td>\n",
       "      <td>D</td>\n",
       "      <td>SI1</td>\n",
       "      <td>62.8</td>\n",
       "      <td>60.0</td>\n",
       "      <td>2757</td>\n",
       "      <td>5.66</td>\n",
       "      <td>5.68</td>\n",
       "      <td>3.56</td>\n",
       "    </tr>\n",
       "    <tr>\n",
       "      <th>53938</th>\n",
       "      <td>0.86</td>\n",
       "      <td>Premium</td>\n",
       "      <td>H</td>\n",
       "      <td>SI2</td>\n",
       "      <td>61.0</td>\n",
       "      <td>58.0</td>\n",
       "      <td>2757</td>\n",
       "      <td>6.15</td>\n",
       "      <td>6.12</td>\n",
       "      <td>3.74</td>\n",
       "    </tr>\n",
       "    <tr>\n",
       "      <th>53939</th>\n",
       "      <td>0.75</td>\n",
       "      <td>Ideal</td>\n",
       "      <td>D</td>\n",
       "      <td>SI2</td>\n",
       "      <td>62.2</td>\n",
       "      <td>55.0</td>\n",
       "      <td>2757</td>\n",
       "      <td>5.83</td>\n",
       "      <td>5.87</td>\n",
       "      <td>3.64</td>\n",
       "    </tr>\n",
       "  </tbody>\n",
       "</table>\n",
       "<p>53940 rows × 10 columns</p>\n",
       "</div>"
      ],
      "text/plain": [
       "       carat        cut color clarity  depth  table  price     x     y     z\n",
       "0       0.23      Ideal     E     SI2   61.5   55.0    326  3.95  3.98  2.43\n",
       "1       0.21    Premium     E     SI1   59.8   61.0    326  3.89  3.84  2.31\n",
       "2       0.23       Good     E     VS1   56.9   65.0    327  4.05  4.07  2.31\n",
       "3       0.29    Premium     I     VS2   62.4   58.0    334  4.20  4.23  2.63\n",
       "4       0.31       Good     J     SI2   63.3   58.0    335  4.34  4.35  2.75\n",
       "...      ...        ...   ...     ...    ...    ...    ...   ...   ...   ...\n",
       "53935   0.72      Ideal     D     SI1   60.8   57.0   2757  5.75  5.76  3.50\n",
       "53936   0.72       Good     D     SI1   63.1   55.0   2757  5.69  5.75  3.61\n",
       "53937   0.70  Very Good     D     SI1   62.8   60.0   2757  5.66  5.68  3.56\n",
       "53938   0.86    Premium     H     SI2   61.0   58.0   2757  6.15  6.12  3.74\n",
       "53939   0.75      Ideal     D     SI2   62.2   55.0   2757  5.83  5.87  3.64\n",
       "\n",
       "[53940 rows x 10 columns]"
      ]
     },
     "execution_count": 193,
     "metadata": {},
     "output_type": "execute_result"
    }
   ],
   "source": [
    "diamonds"
   ]
  },
  {
   "cell_type": "code",
   "execution_count": 194,
   "id": "703c80dd",
   "metadata": {},
   "outputs": [],
   "source": [
    "def nominal_col(ordin, df, col):\n",
    "    for val in df[col].unique():\n",
    "        ordin[f'one_hot_{col}_{val}'] = (df[col] == val).astype(int)\n",
    "    return ordin"
   ]
  },
  {
   "cell_type": "code",
   "execution_count": 195,
   "metadata": {},
   "outputs": [
    {
     "data": {
      "text/html": [
       "<div>\n",
       "<style scoped>\n",
       "    .dataframe tbody tr th:only-of-type {\n",
       "        vertical-align: middle;\n",
       "    }\n",
       "\n",
       "    .dataframe tbody tr th {\n",
       "        vertical-align: top;\n",
       "    }\n",
       "\n",
       "    .dataframe thead th {\n",
       "        text-align: right;\n",
       "    }\n",
       "</style>\n",
       "<table border=\"1\" class=\"dataframe\">\n",
       "  <thead>\n",
       "    <tr style=\"text-align: right;\">\n",
       "      <th></th>\n",
       "    </tr>\n",
       "  </thead>\n",
       "  <tbody>\n",
       "  </tbody>\n",
       "</table>\n",
       "</div>"
      ],
      "text/plain": [
       "Empty DataFrame\n",
       "Columns: []\n",
       "Index: []"
      ]
     },
     "execution_count": 195,
     "metadata": {},
     "output_type": "execute_result"
    }
   ],
   "source": [
    "dfin = pd.DataFrame()\n",
    "dfin"
   ]
  },
  {
   "cell_type": "code",
   "execution_count": 196,
   "metadata": {},
   "outputs": [
    {
     "data": {
      "text/html": [
       "<div>\n",
       "<style scoped>\n",
       "    .dataframe tbody tr th:only-of-type {\n",
       "        vertical-align: middle;\n",
       "    }\n",
       "\n",
       "    .dataframe tbody tr th {\n",
       "        vertical-align: top;\n",
       "    }\n",
       "\n",
       "    .dataframe thead th {\n",
       "        text-align: right;\n",
       "    }\n",
       "</style>\n",
       "<table border=\"1\" class=\"dataframe\">\n",
       "  <thead>\n",
       "    <tr style=\"text-align: right;\">\n",
       "      <th></th>\n",
       "      <th>one_hot_cut_Ideal</th>\n",
       "      <th>one_hot_cut_Premium</th>\n",
       "      <th>one_hot_cut_Good</th>\n",
       "      <th>one_hot_cut_Very Good</th>\n",
       "      <th>one_hot_cut_Fair</th>\n",
       "    </tr>\n",
       "  </thead>\n",
       "  <tbody>\n",
       "    <tr>\n",
       "      <th>0</th>\n",
       "      <td>1</td>\n",
       "      <td>0</td>\n",
       "      <td>0</td>\n",
       "      <td>0</td>\n",
       "      <td>0</td>\n",
       "    </tr>\n",
       "    <tr>\n",
       "      <th>1</th>\n",
       "      <td>0</td>\n",
       "      <td>1</td>\n",
       "      <td>0</td>\n",
       "      <td>0</td>\n",
       "      <td>0</td>\n",
       "    </tr>\n",
       "    <tr>\n",
       "      <th>2</th>\n",
       "      <td>0</td>\n",
       "      <td>0</td>\n",
       "      <td>1</td>\n",
       "      <td>0</td>\n",
       "      <td>0</td>\n",
       "    </tr>\n",
       "    <tr>\n",
       "      <th>3</th>\n",
       "      <td>0</td>\n",
       "      <td>1</td>\n",
       "      <td>0</td>\n",
       "      <td>0</td>\n",
       "      <td>0</td>\n",
       "    </tr>\n",
       "    <tr>\n",
       "      <th>4</th>\n",
       "      <td>0</td>\n",
       "      <td>0</td>\n",
       "      <td>1</td>\n",
       "      <td>0</td>\n",
       "      <td>0</td>\n",
       "    </tr>\n",
       "    <tr>\n",
       "      <th>...</th>\n",
       "      <td>...</td>\n",
       "      <td>...</td>\n",
       "      <td>...</td>\n",
       "      <td>...</td>\n",
       "      <td>...</td>\n",
       "    </tr>\n",
       "    <tr>\n",
       "      <th>53935</th>\n",
       "      <td>1</td>\n",
       "      <td>0</td>\n",
       "      <td>0</td>\n",
       "      <td>0</td>\n",
       "      <td>0</td>\n",
       "    </tr>\n",
       "    <tr>\n",
       "      <th>53936</th>\n",
       "      <td>0</td>\n",
       "      <td>0</td>\n",
       "      <td>1</td>\n",
       "      <td>0</td>\n",
       "      <td>0</td>\n",
       "    </tr>\n",
       "    <tr>\n",
       "      <th>53937</th>\n",
       "      <td>0</td>\n",
       "      <td>0</td>\n",
       "      <td>0</td>\n",
       "      <td>1</td>\n",
       "      <td>0</td>\n",
       "    </tr>\n",
       "    <tr>\n",
       "      <th>53938</th>\n",
       "      <td>0</td>\n",
       "      <td>1</td>\n",
       "      <td>0</td>\n",
       "      <td>0</td>\n",
       "      <td>0</td>\n",
       "    </tr>\n",
       "    <tr>\n",
       "      <th>53939</th>\n",
       "      <td>1</td>\n",
       "      <td>0</td>\n",
       "      <td>0</td>\n",
       "      <td>0</td>\n",
       "      <td>0</td>\n",
       "    </tr>\n",
       "  </tbody>\n",
       "</table>\n",
       "<p>53940 rows × 5 columns</p>\n",
       "</div>"
      ],
      "text/plain": [
       "       one_hot_cut_Ideal  one_hot_cut_Premium  one_hot_cut_Good  \\\n",
       "0                      1                    0                 0   \n",
       "1                      0                    1                 0   \n",
       "2                      0                    0                 1   \n",
       "3                      0                    1                 0   \n",
       "4                      0                    0                 1   \n",
       "...                  ...                  ...               ...   \n",
       "53935                  1                    0                 0   \n",
       "53936                  0                    0                 1   \n",
       "53937                  0                    0                 0   \n",
       "53938                  0                    1                 0   \n",
       "53939                  1                    0                 0   \n",
       "\n",
       "       one_hot_cut_Very Good  one_hot_cut_Fair  \n",
       "0                          0                 0  \n",
       "1                          0                 0  \n",
       "2                          0                 0  \n",
       "3                          0                 0  \n",
       "4                          0                 0  \n",
       "...                      ...               ...  \n",
       "53935                      0                 0  \n",
       "53936                      0                 0  \n",
       "53937                      1                 0  \n",
       "53938                      0                 0  \n",
       "53939                      0                 0  \n",
       "\n",
       "[53940 rows x 5 columns]"
      ]
     },
     "execution_count": 196,
     "metadata": {},
     "output_type": "execute_result"
    }
   ],
   "source": [
    "nominal_col(dfin, diamonds, 'cut')"
   ]
  },
  {
   "cell_type": "code",
   "execution_count": 197,
   "id": "50abb5dc",
   "metadata": {},
   "outputs": [],
   "source": [
    "def create_one_hot(df):\n",
    "    ordin_df = pd.DataFrame()\n",
    "    for col in ['cut', 'color', 'clarity']:\n",
    "        ordin_df = nominal_col(ordin_df, df, col)\n",
    "    return ordin_df"
   ]
  },
  {
   "cell_type": "code",
   "execution_count": 198,
   "metadata": {},
   "outputs": [
    {
     "data": {
      "text/html": [
       "<div>\n",
       "<style scoped>\n",
       "    .dataframe tbody tr th:only-of-type {\n",
       "        vertical-align: middle;\n",
       "    }\n",
       "\n",
       "    .dataframe tbody tr th {\n",
       "        vertical-align: top;\n",
       "    }\n",
       "\n",
       "    .dataframe thead th {\n",
       "        text-align: right;\n",
       "    }\n",
       "</style>\n",
       "<table border=\"1\" class=\"dataframe\">\n",
       "  <thead>\n",
       "    <tr style=\"text-align: right;\">\n",
       "      <th></th>\n",
       "      <th>one_hot_cut_Ideal</th>\n",
       "      <th>one_hot_cut_Premium</th>\n",
       "      <th>one_hot_cut_Good</th>\n",
       "      <th>one_hot_cut_Very Good</th>\n",
       "      <th>one_hot_cut_Fair</th>\n",
       "      <th>one_hot_color_E</th>\n",
       "      <th>one_hot_color_I</th>\n",
       "      <th>one_hot_color_J</th>\n",
       "      <th>one_hot_color_H</th>\n",
       "      <th>one_hot_color_F</th>\n",
       "      <th>one_hot_color_G</th>\n",
       "      <th>one_hot_color_D</th>\n",
       "      <th>one_hot_clarity_SI2</th>\n",
       "      <th>one_hot_clarity_SI1</th>\n",
       "      <th>one_hot_clarity_VS1</th>\n",
       "      <th>one_hot_clarity_VS2</th>\n",
       "      <th>one_hot_clarity_VVS2</th>\n",
       "      <th>one_hot_clarity_VVS1</th>\n",
       "      <th>one_hot_clarity_I1</th>\n",
       "      <th>one_hot_clarity_IF</th>\n",
       "    </tr>\n",
       "  </thead>\n",
       "  <tbody>\n",
       "    <tr>\n",
       "      <th>0</th>\n",
       "      <td>1</td>\n",
       "      <td>0</td>\n",
       "      <td>0</td>\n",
       "      <td>0</td>\n",
       "      <td>0</td>\n",
       "      <td>1</td>\n",
       "      <td>0</td>\n",
       "      <td>0</td>\n",
       "      <td>0</td>\n",
       "      <td>0</td>\n",
       "      <td>0</td>\n",
       "      <td>0</td>\n",
       "      <td>1</td>\n",
       "      <td>0</td>\n",
       "      <td>0</td>\n",
       "      <td>0</td>\n",
       "      <td>0</td>\n",
       "      <td>0</td>\n",
       "      <td>0</td>\n",
       "      <td>0</td>\n",
       "    </tr>\n",
       "    <tr>\n",
       "      <th>1</th>\n",
       "      <td>0</td>\n",
       "      <td>1</td>\n",
       "      <td>0</td>\n",
       "      <td>0</td>\n",
       "      <td>0</td>\n",
       "      <td>1</td>\n",
       "      <td>0</td>\n",
       "      <td>0</td>\n",
       "      <td>0</td>\n",
       "      <td>0</td>\n",
       "      <td>0</td>\n",
       "      <td>0</td>\n",
       "      <td>0</td>\n",
       "      <td>1</td>\n",
       "      <td>0</td>\n",
       "      <td>0</td>\n",
       "      <td>0</td>\n",
       "      <td>0</td>\n",
       "      <td>0</td>\n",
       "      <td>0</td>\n",
       "    </tr>\n",
       "    <tr>\n",
       "      <th>2</th>\n",
       "      <td>0</td>\n",
       "      <td>0</td>\n",
       "      <td>1</td>\n",
       "      <td>0</td>\n",
       "      <td>0</td>\n",
       "      <td>1</td>\n",
       "      <td>0</td>\n",
       "      <td>0</td>\n",
       "      <td>0</td>\n",
       "      <td>0</td>\n",
       "      <td>0</td>\n",
       "      <td>0</td>\n",
       "      <td>0</td>\n",
       "      <td>0</td>\n",
       "      <td>1</td>\n",
       "      <td>0</td>\n",
       "      <td>0</td>\n",
       "      <td>0</td>\n",
       "      <td>0</td>\n",
       "      <td>0</td>\n",
       "    </tr>\n",
       "    <tr>\n",
       "      <th>3</th>\n",
       "      <td>0</td>\n",
       "      <td>1</td>\n",
       "      <td>0</td>\n",
       "      <td>0</td>\n",
       "      <td>0</td>\n",
       "      <td>0</td>\n",
       "      <td>1</td>\n",
       "      <td>0</td>\n",
       "      <td>0</td>\n",
       "      <td>0</td>\n",
       "      <td>0</td>\n",
       "      <td>0</td>\n",
       "      <td>0</td>\n",
       "      <td>0</td>\n",
       "      <td>0</td>\n",
       "      <td>1</td>\n",
       "      <td>0</td>\n",
       "      <td>0</td>\n",
       "      <td>0</td>\n",
       "      <td>0</td>\n",
       "    </tr>\n",
       "    <tr>\n",
       "      <th>4</th>\n",
       "      <td>0</td>\n",
       "      <td>0</td>\n",
       "      <td>1</td>\n",
       "      <td>0</td>\n",
       "      <td>0</td>\n",
       "      <td>0</td>\n",
       "      <td>0</td>\n",
       "      <td>1</td>\n",
       "      <td>0</td>\n",
       "      <td>0</td>\n",
       "      <td>0</td>\n",
       "      <td>0</td>\n",
       "      <td>1</td>\n",
       "      <td>0</td>\n",
       "      <td>0</td>\n",
       "      <td>0</td>\n",
       "      <td>0</td>\n",
       "      <td>0</td>\n",
       "      <td>0</td>\n",
       "      <td>0</td>\n",
       "    </tr>\n",
       "    <tr>\n",
       "      <th>...</th>\n",
       "      <td>...</td>\n",
       "      <td>...</td>\n",
       "      <td>...</td>\n",
       "      <td>...</td>\n",
       "      <td>...</td>\n",
       "      <td>...</td>\n",
       "      <td>...</td>\n",
       "      <td>...</td>\n",
       "      <td>...</td>\n",
       "      <td>...</td>\n",
       "      <td>...</td>\n",
       "      <td>...</td>\n",
       "      <td>...</td>\n",
       "      <td>...</td>\n",
       "      <td>...</td>\n",
       "      <td>...</td>\n",
       "      <td>...</td>\n",
       "      <td>...</td>\n",
       "      <td>...</td>\n",
       "      <td>...</td>\n",
       "    </tr>\n",
       "    <tr>\n",
       "      <th>53935</th>\n",
       "      <td>1</td>\n",
       "      <td>0</td>\n",
       "      <td>0</td>\n",
       "      <td>0</td>\n",
       "      <td>0</td>\n",
       "      <td>0</td>\n",
       "      <td>0</td>\n",
       "      <td>0</td>\n",
       "      <td>0</td>\n",
       "      <td>0</td>\n",
       "      <td>0</td>\n",
       "      <td>1</td>\n",
       "      <td>0</td>\n",
       "      <td>1</td>\n",
       "      <td>0</td>\n",
       "      <td>0</td>\n",
       "      <td>0</td>\n",
       "      <td>0</td>\n",
       "      <td>0</td>\n",
       "      <td>0</td>\n",
       "    </tr>\n",
       "    <tr>\n",
       "      <th>53936</th>\n",
       "      <td>0</td>\n",
       "      <td>0</td>\n",
       "      <td>1</td>\n",
       "      <td>0</td>\n",
       "      <td>0</td>\n",
       "      <td>0</td>\n",
       "      <td>0</td>\n",
       "      <td>0</td>\n",
       "      <td>0</td>\n",
       "      <td>0</td>\n",
       "      <td>0</td>\n",
       "      <td>1</td>\n",
       "      <td>0</td>\n",
       "      <td>1</td>\n",
       "      <td>0</td>\n",
       "      <td>0</td>\n",
       "      <td>0</td>\n",
       "      <td>0</td>\n",
       "      <td>0</td>\n",
       "      <td>0</td>\n",
       "    </tr>\n",
       "    <tr>\n",
       "      <th>53937</th>\n",
       "      <td>0</td>\n",
       "      <td>0</td>\n",
       "      <td>0</td>\n",
       "      <td>1</td>\n",
       "      <td>0</td>\n",
       "      <td>0</td>\n",
       "      <td>0</td>\n",
       "      <td>0</td>\n",
       "      <td>0</td>\n",
       "      <td>0</td>\n",
       "      <td>0</td>\n",
       "      <td>1</td>\n",
       "      <td>0</td>\n",
       "      <td>1</td>\n",
       "      <td>0</td>\n",
       "      <td>0</td>\n",
       "      <td>0</td>\n",
       "      <td>0</td>\n",
       "      <td>0</td>\n",
       "      <td>0</td>\n",
       "    </tr>\n",
       "    <tr>\n",
       "      <th>53938</th>\n",
       "      <td>0</td>\n",
       "      <td>1</td>\n",
       "      <td>0</td>\n",
       "      <td>0</td>\n",
       "      <td>0</td>\n",
       "      <td>0</td>\n",
       "      <td>0</td>\n",
       "      <td>0</td>\n",
       "      <td>1</td>\n",
       "      <td>0</td>\n",
       "      <td>0</td>\n",
       "      <td>0</td>\n",
       "      <td>1</td>\n",
       "      <td>0</td>\n",
       "      <td>0</td>\n",
       "      <td>0</td>\n",
       "      <td>0</td>\n",
       "      <td>0</td>\n",
       "      <td>0</td>\n",
       "      <td>0</td>\n",
       "    </tr>\n",
       "    <tr>\n",
       "      <th>53939</th>\n",
       "      <td>1</td>\n",
       "      <td>0</td>\n",
       "      <td>0</td>\n",
       "      <td>0</td>\n",
       "      <td>0</td>\n",
       "      <td>0</td>\n",
       "      <td>0</td>\n",
       "      <td>0</td>\n",
       "      <td>0</td>\n",
       "      <td>0</td>\n",
       "      <td>0</td>\n",
       "      <td>1</td>\n",
       "      <td>1</td>\n",
       "      <td>0</td>\n",
       "      <td>0</td>\n",
       "      <td>0</td>\n",
       "      <td>0</td>\n",
       "      <td>0</td>\n",
       "      <td>0</td>\n",
       "      <td>0</td>\n",
       "    </tr>\n",
       "  </tbody>\n",
       "</table>\n",
       "<p>53940 rows × 20 columns</p>\n",
       "</div>"
      ],
      "text/plain": [
       "       one_hot_cut_Ideal  one_hot_cut_Premium  one_hot_cut_Good  \\\n",
       "0                      1                    0                 0   \n",
       "1                      0                    1                 0   \n",
       "2                      0                    0                 1   \n",
       "3                      0                    1                 0   \n",
       "4                      0                    0                 1   \n",
       "...                  ...                  ...               ...   \n",
       "53935                  1                    0                 0   \n",
       "53936                  0                    0                 1   \n",
       "53937                  0                    0                 0   \n",
       "53938                  0                    1                 0   \n",
       "53939                  1                    0                 0   \n",
       "\n",
       "       one_hot_cut_Very Good  one_hot_cut_Fair  one_hot_color_E  \\\n",
       "0                          0                 0                1   \n",
       "1                          0                 0                1   \n",
       "2                          0                 0                1   \n",
       "3                          0                 0                0   \n",
       "4                          0                 0                0   \n",
       "...                      ...               ...              ...   \n",
       "53935                      0                 0                0   \n",
       "53936                      0                 0                0   \n",
       "53937                      1                 0                0   \n",
       "53938                      0                 0                0   \n",
       "53939                      0                 0                0   \n",
       "\n",
       "       one_hot_color_I  one_hot_color_J  one_hot_color_H  one_hot_color_F  \\\n",
       "0                    0                0                0                0   \n",
       "1                    0                0                0                0   \n",
       "2                    0                0                0                0   \n",
       "3                    1                0                0                0   \n",
       "4                    0                1                0                0   \n",
       "...                ...              ...              ...              ...   \n",
       "53935                0                0                0                0   \n",
       "53936                0                0                0                0   \n",
       "53937                0                0                0                0   \n",
       "53938                0                0                1                0   \n",
       "53939                0                0                0                0   \n",
       "\n",
       "       one_hot_color_G  one_hot_color_D  one_hot_clarity_SI2  \\\n",
       "0                    0                0                    1   \n",
       "1                    0                0                    0   \n",
       "2                    0                0                    0   \n",
       "3                    0                0                    0   \n",
       "4                    0                0                    1   \n",
       "...                ...              ...                  ...   \n",
       "53935                0                1                    0   \n",
       "53936                0                1                    0   \n",
       "53937                0                1                    0   \n",
       "53938                0                0                    1   \n",
       "53939                0                1                    1   \n",
       "\n",
       "       one_hot_clarity_SI1  one_hot_clarity_VS1  one_hot_clarity_VS2  \\\n",
       "0                        0                    0                    0   \n",
       "1                        1                    0                    0   \n",
       "2                        0                    1                    0   \n",
       "3                        0                    0                    1   \n",
       "4                        0                    0                    0   \n",
       "...                    ...                  ...                  ...   \n",
       "53935                    1                    0                    0   \n",
       "53936                    1                    0                    0   \n",
       "53937                    1                    0                    0   \n",
       "53938                    0                    0                    0   \n",
       "53939                    0                    0                    0   \n",
       "\n",
       "       one_hot_clarity_VVS2  one_hot_clarity_VVS1  one_hot_clarity_I1  \\\n",
       "0                         0                     0                   0   \n",
       "1                         0                     0                   0   \n",
       "2                         0                     0                   0   \n",
       "3                         0                     0                   0   \n",
       "4                         0                     0                   0   \n",
       "...                     ...                   ...                 ...   \n",
       "53935                     0                     0                   0   \n",
       "53936                     0                     0                   0   \n",
       "53937                     0                     0                   0   \n",
       "53938                     0                     0                   0   \n",
       "53939                     0                     0                   0   \n",
       "\n",
       "       one_hot_clarity_IF  \n",
       "0                       0  \n",
       "1                       0  \n",
       "2                       0  \n",
       "3                       0  \n",
       "4                       0  \n",
       "...                   ...  \n",
       "53935                   0  \n",
       "53936                   0  \n",
       "53937                   0  \n",
       "53938                   0  \n",
       "53939                   0  \n",
       "\n",
       "[53940 rows x 20 columns]"
      ]
     },
     "execution_count": 198,
     "metadata": {},
     "output_type": "execute_result"
    }
   ],
   "source": [
    "create_one_hot(diamonds)"
   ]
  },
  {
   "cell_type": "code",
   "execution_count": 202,
   "id": "91ec1639",
   "metadata": {},
   "outputs": [],
   "source": [
    "# don't change this cell, but do run it -- it is needed for the tests to work\n",
    "diamonds = pd.read_csv(Path('data')/'diamonds.csv')\n",
    "out1_q3 = create_one_hot(diamonds)\n",
    "out2_q3 = create_proportions(diamonds)"
   ]
  },
  {
   "cell_type": "code",
   "execution_count": 203,
   "id": "af6dd18c",
   "metadata": {
    "deletable": false,
    "editable": false
   },
   "outputs": [
    {
     "data": {
      "text/html": [
       "<p><strong><pre style='display: inline;'>q3</pre></strong> passed!</p>"
      ],
      "text/plain": [
       "q3 results: All test cases passed!"
      ]
     },
     "execution_count": 203,
     "metadata": {},
     "output_type": "execute_result"
    }
   ],
   "source": [
    "grader.check(\"q3\")"
   ]
  },
  {
   "cell_type": "markdown",
   "id": "d18f6a88",
   "metadata": {},
   "source": [
    "### Question 4 – Quadratic Features 📈\n",
    "\n",
    "Linear regression doesn't capture non-linear relationships between variables. However, you can create features that encode such dependencies **before** fitting your regression model. Creating polynomial features is one way to do this. For example, the diamonds dataset contains `'x'`, `'y'`, and `'z'` dimensions for each stone. However, different combinations of size may be more valuable than others: a \"deep and wide\" diamond might be considered more valuable than a shallow, but \"long and wide\" diamond.\n",
    "\n",
    "Complete the implementation of the function `create_quadratics`, which takes in the `diamonds` DataFrame and returns a DataFrame of quadratic features of the form `'<col1> * <col2>'`, where `'<col1>'` and `'<col2>'` are the original quantitative columns. The output DataFrame should contain a column for every distinct pair of quantitative columns in `diamonds` (aside from `price`, which should be left out as it is what we are predicting). For instance, one of the columns in the returned DataFrame should named either `'carat * x'` or `'x * carat'`; the order of column names is not important.\n",
    "\n",
    "***Notes:***\n",
    "- Again, **do not** use `sklearn` for this question! \n",
    "- Try finding all pairs of quantitative columns efficiently; don't use a nested loop (hint: you may `import itertools`). Our solution contains just a single `for`-loop (over pairs of columns).\n",
    "- If you import itertools, you must include the itertools import in both this notebook and in `lab.py`.\n",
    "- The columns of the resulting DataFrame may be in any order."
   ]
  },
  {
   "cell_type": "code",
   "execution_count": 208,
   "metadata": {},
   "outputs": [
    {
     "data": {
      "text/html": [
       "<div>\n",
       "<style scoped>\n",
       "    .dataframe tbody tr th:only-of-type {\n",
       "        vertical-align: middle;\n",
       "    }\n",
       "\n",
       "    .dataframe tbody tr th {\n",
       "        vertical-align: top;\n",
       "    }\n",
       "\n",
       "    .dataframe thead th {\n",
       "        text-align: right;\n",
       "    }\n",
       "</style>\n",
       "<table border=\"1\" class=\"dataframe\">\n",
       "  <thead>\n",
       "    <tr style=\"text-align: right;\">\n",
       "      <th></th>\n",
       "      <th>carat</th>\n",
       "      <th>cut</th>\n",
       "      <th>color</th>\n",
       "      <th>clarity</th>\n",
       "      <th>depth</th>\n",
       "      <th>table</th>\n",
       "      <th>price</th>\n",
       "      <th>x</th>\n",
       "      <th>y</th>\n",
       "      <th>z</th>\n",
       "    </tr>\n",
       "  </thead>\n",
       "  <tbody>\n",
       "    <tr>\n",
       "      <th>0</th>\n",
       "      <td>0.23</td>\n",
       "      <td>Ideal</td>\n",
       "      <td>E</td>\n",
       "      <td>SI2</td>\n",
       "      <td>61.5</td>\n",
       "      <td>55.0</td>\n",
       "      <td>326</td>\n",
       "      <td>3.95</td>\n",
       "      <td>3.98</td>\n",
       "      <td>2.43</td>\n",
       "    </tr>\n",
       "    <tr>\n",
       "      <th>1</th>\n",
       "      <td>0.21</td>\n",
       "      <td>Premium</td>\n",
       "      <td>E</td>\n",
       "      <td>SI1</td>\n",
       "      <td>59.8</td>\n",
       "      <td>61.0</td>\n",
       "      <td>326</td>\n",
       "      <td>3.89</td>\n",
       "      <td>3.84</td>\n",
       "      <td>2.31</td>\n",
       "    </tr>\n",
       "    <tr>\n",
       "      <th>2</th>\n",
       "      <td>0.23</td>\n",
       "      <td>Good</td>\n",
       "      <td>E</td>\n",
       "      <td>VS1</td>\n",
       "      <td>56.9</td>\n",
       "      <td>65.0</td>\n",
       "      <td>327</td>\n",
       "      <td>4.05</td>\n",
       "      <td>4.07</td>\n",
       "      <td>2.31</td>\n",
       "    </tr>\n",
       "    <tr>\n",
       "      <th>3</th>\n",
       "      <td>0.29</td>\n",
       "      <td>Premium</td>\n",
       "      <td>I</td>\n",
       "      <td>VS2</td>\n",
       "      <td>62.4</td>\n",
       "      <td>58.0</td>\n",
       "      <td>334</td>\n",
       "      <td>4.20</td>\n",
       "      <td>4.23</td>\n",
       "      <td>2.63</td>\n",
       "    </tr>\n",
       "    <tr>\n",
       "      <th>4</th>\n",
       "      <td>0.31</td>\n",
       "      <td>Good</td>\n",
       "      <td>J</td>\n",
       "      <td>SI2</td>\n",
       "      <td>63.3</td>\n",
       "      <td>58.0</td>\n",
       "      <td>335</td>\n",
       "      <td>4.34</td>\n",
       "      <td>4.35</td>\n",
       "      <td>2.75</td>\n",
       "    </tr>\n",
       "    <tr>\n",
       "      <th>...</th>\n",
       "      <td>...</td>\n",
       "      <td>...</td>\n",
       "      <td>...</td>\n",
       "      <td>...</td>\n",
       "      <td>...</td>\n",
       "      <td>...</td>\n",
       "      <td>...</td>\n",
       "      <td>...</td>\n",
       "      <td>...</td>\n",
       "      <td>...</td>\n",
       "    </tr>\n",
       "    <tr>\n",
       "      <th>53935</th>\n",
       "      <td>0.72</td>\n",
       "      <td>Ideal</td>\n",
       "      <td>D</td>\n",
       "      <td>SI1</td>\n",
       "      <td>60.8</td>\n",
       "      <td>57.0</td>\n",
       "      <td>2757</td>\n",
       "      <td>5.75</td>\n",
       "      <td>5.76</td>\n",
       "      <td>3.50</td>\n",
       "    </tr>\n",
       "    <tr>\n",
       "      <th>53936</th>\n",
       "      <td>0.72</td>\n",
       "      <td>Good</td>\n",
       "      <td>D</td>\n",
       "      <td>SI1</td>\n",
       "      <td>63.1</td>\n",
       "      <td>55.0</td>\n",
       "      <td>2757</td>\n",
       "      <td>5.69</td>\n",
       "      <td>5.75</td>\n",
       "      <td>3.61</td>\n",
       "    </tr>\n",
       "    <tr>\n",
       "      <th>53937</th>\n",
       "      <td>0.70</td>\n",
       "      <td>Very Good</td>\n",
       "      <td>D</td>\n",
       "      <td>SI1</td>\n",
       "      <td>62.8</td>\n",
       "      <td>60.0</td>\n",
       "      <td>2757</td>\n",
       "      <td>5.66</td>\n",
       "      <td>5.68</td>\n",
       "      <td>3.56</td>\n",
       "    </tr>\n",
       "    <tr>\n",
       "      <th>53938</th>\n",
       "      <td>0.86</td>\n",
       "      <td>Premium</td>\n",
       "      <td>H</td>\n",
       "      <td>SI2</td>\n",
       "      <td>61.0</td>\n",
       "      <td>58.0</td>\n",
       "      <td>2757</td>\n",
       "      <td>6.15</td>\n",
       "      <td>6.12</td>\n",
       "      <td>3.74</td>\n",
       "    </tr>\n",
       "    <tr>\n",
       "      <th>53939</th>\n",
       "      <td>0.75</td>\n",
       "      <td>Ideal</td>\n",
       "      <td>D</td>\n",
       "      <td>SI2</td>\n",
       "      <td>62.2</td>\n",
       "      <td>55.0</td>\n",
       "      <td>2757</td>\n",
       "      <td>5.83</td>\n",
       "      <td>5.87</td>\n",
       "      <td>3.64</td>\n",
       "    </tr>\n",
       "  </tbody>\n",
       "</table>\n",
       "<p>53940 rows × 10 columns</p>\n",
       "</div>"
      ],
      "text/plain": [
       "       carat        cut color clarity  depth  table  price     x     y     z\n",
       "0       0.23      Ideal     E     SI2   61.5   55.0    326  3.95  3.98  2.43\n",
       "1       0.21    Premium     E     SI1   59.8   61.0    326  3.89  3.84  2.31\n",
       "2       0.23       Good     E     VS1   56.9   65.0    327  4.05  4.07  2.31\n",
       "3       0.29    Premium     I     VS2   62.4   58.0    334  4.20  4.23  2.63\n",
       "4       0.31       Good     J     SI2   63.3   58.0    335  4.34  4.35  2.75\n",
       "...      ...        ...   ...     ...    ...    ...    ...   ...   ...   ...\n",
       "53935   0.72      Ideal     D     SI1   60.8   57.0   2757  5.75  5.76  3.50\n",
       "53936   0.72       Good     D     SI1   63.1   55.0   2757  5.69  5.75  3.61\n",
       "53937   0.70  Very Good     D     SI1   62.8   60.0   2757  5.66  5.68  3.56\n",
       "53938   0.86    Premium     H     SI2   61.0   58.0   2757  6.15  6.12  3.74\n",
       "53939   0.75      Ideal     D     SI2   62.2   55.0   2757  5.83  5.87  3.64\n",
       "\n",
       "[53940 rows x 10 columns]"
      ]
     },
     "execution_count": 208,
     "metadata": {},
     "output_type": "execute_result"
    }
   ],
   "source": [
    "diamonds"
   ]
  },
  {
   "cell_type": "code",
   "execution_count": null,
   "metadata": {},
   "outputs": [],
   "source": [
    "def create_quadratics(df):\n",
    "    # Exclude non-quantitative columns or columns not to be used for creating quadratics.\n",
    "    # Assuming 'price' is not included in the given DataFrame 'df'.\n",
    "    quantitative_columns = df.select_dtypes(include=[float, int]).columns.tolist()\n",
    "\n",
    "    # Create a list of all possible pairs for quadratic features\n",
    "    # excluding pairs that include the 'price' column.\n",
    "    pairs = list(itertools.combinations(quantitative_columns, 2))\n",
    "\n",
    "    # Initialize an empty DataFrame to store the quadratic features\n",
    "    quadratics = pd.DataFrame(index=df.index)\n",
    "\n",
    "    # Iterate through each pair and calculate the product (quadratic feature)\n",
    "    for (col1, col2) in pairs:\n",
    "        quadratics[f'{col1} * {col2}'] = df[col1] * df[col2]\n",
    "\n",
    "    return quadratics\n",
    "\n",
    "# Apply the function to the mock-up DataFrame\n",
    "quadratic_features = create_quadratics(diamonds)\n",
    "quadratic_features"
   ]
  },
  {
   "cell_type": "code",
   "execution_count": 218,
   "id": "d66f0632",
   "metadata": {},
   "outputs": [
    {
     "data": {
      "text/html": [
       "<div>\n",
       "<style scoped>\n",
       "    .dataframe tbody tr th:only-of-type {\n",
       "        vertical-align: middle;\n",
       "    }\n",
       "\n",
       "    .dataframe tbody tr th {\n",
       "        vertical-align: top;\n",
       "    }\n",
       "\n",
       "    .dataframe thead th {\n",
       "        text-align: right;\n",
       "    }\n",
       "</style>\n",
       "<table border=\"1\" class=\"dataframe\">\n",
       "  <thead>\n",
       "    <tr style=\"text-align: right;\">\n",
       "      <th></th>\n",
       "      <th>carat * depth</th>\n",
       "      <th>carat * table</th>\n",
       "      <th>carat * x</th>\n",
       "      <th>carat * y</th>\n",
       "      <th>carat * z</th>\n",
       "      <th>depth * table</th>\n",
       "      <th>depth * x</th>\n",
       "      <th>depth * y</th>\n",
       "      <th>depth * z</th>\n",
       "      <th>table * x</th>\n",
       "      <th>table * y</th>\n",
       "      <th>table * z</th>\n",
       "      <th>x * y</th>\n",
       "      <th>x * z</th>\n",
       "      <th>y * z</th>\n",
       "    </tr>\n",
       "  </thead>\n",
       "  <tbody>\n",
       "    <tr>\n",
       "      <th>0</th>\n",
       "      <td>14.145</td>\n",
       "      <td>12.65</td>\n",
       "      <td>0.9085</td>\n",
       "      <td>0.9154</td>\n",
       "      <td>0.5589</td>\n",
       "      <td>3382.5</td>\n",
       "      <td>242.925</td>\n",
       "      <td>244.770</td>\n",
       "      <td>149.445</td>\n",
       "      <td>217.25</td>\n",
       "      <td>218.90</td>\n",
       "      <td>133.65</td>\n",
       "      <td>15.7210</td>\n",
       "      <td>9.5985</td>\n",
       "      <td>9.6714</td>\n",
       "    </tr>\n",
       "    <tr>\n",
       "      <th>1</th>\n",
       "      <td>12.558</td>\n",
       "      <td>12.81</td>\n",
       "      <td>0.8169</td>\n",
       "      <td>0.8064</td>\n",
       "      <td>0.4851</td>\n",
       "      <td>3647.8</td>\n",
       "      <td>232.622</td>\n",
       "      <td>229.632</td>\n",
       "      <td>138.138</td>\n",
       "      <td>237.29</td>\n",
       "      <td>234.24</td>\n",
       "      <td>140.91</td>\n",
       "      <td>14.9376</td>\n",
       "      <td>8.9859</td>\n",
       "      <td>8.8704</td>\n",
       "    </tr>\n",
       "    <tr>\n",
       "      <th>2</th>\n",
       "      <td>13.087</td>\n",
       "      <td>14.95</td>\n",
       "      <td>0.9315</td>\n",
       "      <td>0.9361</td>\n",
       "      <td>0.5313</td>\n",
       "      <td>3698.5</td>\n",
       "      <td>230.445</td>\n",
       "      <td>231.583</td>\n",
       "      <td>131.439</td>\n",
       "      <td>263.25</td>\n",
       "      <td>264.55</td>\n",
       "      <td>150.15</td>\n",
       "      <td>16.4835</td>\n",
       "      <td>9.3555</td>\n",
       "      <td>9.4017</td>\n",
       "    </tr>\n",
       "    <tr>\n",
       "      <th>3</th>\n",
       "      <td>18.096</td>\n",
       "      <td>16.82</td>\n",
       "      <td>1.2180</td>\n",
       "      <td>1.2267</td>\n",
       "      <td>0.7627</td>\n",
       "      <td>3619.2</td>\n",
       "      <td>262.080</td>\n",
       "      <td>263.952</td>\n",
       "      <td>164.112</td>\n",
       "      <td>243.60</td>\n",
       "      <td>245.34</td>\n",
       "      <td>152.54</td>\n",
       "      <td>17.7660</td>\n",
       "      <td>11.0460</td>\n",
       "      <td>11.1249</td>\n",
       "    </tr>\n",
       "    <tr>\n",
       "      <th>4</th>\n",
       "      <td>19.623</td>\n",
       "      <td>17.98</td>\n",
       "      <td>1.3454</td>\n",
       "      <td>1.3485</td>\n",
       "      <td>0.8525</td>\n",
       "      <td>3671.4</td>\n",
       "      <td>274.722</td>\n",
       "      <td>275.355</td>\n",
       "      <td>174.075</td>\n",
       "      <td>251.72</td>\n",
       "      <td>252.30</td>\n",
       "      <td>159.50</td>\n",
       "      <td>18.8790</td>\n",
       "      <td>11.9350</td>\n",
       "      <td>11.9625</td>\n",
       "    </tr>\n",
       "    <tr>\n",
       "      <th>...</th>\n",
       "      <td>...</td>\n",
       "      <td>...</td>\n",
       "      <td>...</td>\n",
       "      <td>...</td>\n",
       "      <td>...</td>\n",
       "      <td>...</td>\n",
       "      <td>...</td>\n",
       "      <td>...</td>\n",
       "      <td>...</td>\n",
       "      <td>...</td>\n",
       "      <td>...</td>\n",
       "      <td>...</td>\n",
       "      <td>...</td>\n",
       "      <td>...</td>\n",
       "      <td>...</td>\n",
       "    </tr>\n",
       "    <tr>\n",
       "      <th>53935</th>\n",
       "      <td>43.776</td>\n",
       "      <td>41.04</td>\n",
       "      <td>4.1400</td>\n",
       "      <td>4.1472</td>\n",
       "      <td>2.5200</td>\n",
       "      <td>3465.6</td>\n",
       "      <td>349.600</td>\n",
       "      <td>350.208</td>\n",
       "      <td>212.800</td>\n",
       "      <td>327.75</td>\n",
       "      <td>328.32</td>\n",
       "      <td>199.50</td>\n",
       "      <td>33.1200</td>\n",
       "      <td>20.1250</td>\n",
       "      <td>20.1600</td>\n",
       "    </tr>\n",
       "    <tr>\n",
       "      <th>53936</th>\n",
       "      <td>45.432</td>\n",
       "      <td>39.60</td>\n",
       "      <td>4.0968</td>\n",
       "      <td>4.1400</td>\n",
       "      <td>2.5992</td>\n",
       "      <td>3470.5</td>\n",
       "      <td>359.039</td>\n",
       "      <td>362.825</td>\n",
       "      <td>227.791</td>\n",
       "      <td>312.95</td>\n",
       "      <td>316.25</td>\n",
       "      <td>198.55</td>\n",
       "      <td>32.7175</td>\n",
       "      <td>20.5409</td>\n",
       "      <td>20.7575</td>\n",
       "    </tr>\n",
       "    <tr>\n",
       "      <th>53937</th>\n",
       "      <td>43.960</td>\n",
       "      <td>42.00</td>\n",
       "      <td>3.9620</td>\n",
       "      <td>3.9760</td>\n",
       "      <td>2.4920</td>\n",
       "      <td>3768.0</td>\n",
       "      <td>355.448</td>\n",
       "      <td>356.704</td>\n",
       "      <td>223.568</td>\n",
       "      <td>339.60</td>\n",
       "      <td>340.80</td>\n",
       "      <td>213.60</td>\n",
       "      <td>32.1488</td>\n",
       "      <td>20.1496</td>\n",
       "      <td>20.2208</td>\n",
       "    </tr>\n",
       "    <tr>\n",
       "      <th>53938</th>\n",
       "      <td>52.460</td>\n",
       "      <td>49.88</td>\n",
       "      <td>5.2890</td>\n",
       "      <td>5.2632</td>\n",
       "      <td>3.2164</td>\n",
       "      <td>3538.0</td>\n",
       "      <td>375.150</td>\n",
       "      <td>373.320</td>\n",
       "      <td>228.140</td>\n",
       "      <td>356.70</td>\n",
       "      <td>354.96</td>\n",
       "      <td>216.92</td>\n",
       "      <td>37.6380</td>\n",
       "      <td>23.0010</td>\n",
       "      <td>22.8888</td>\n",
       "    </tr>\n",
       "    <tr>\n",
       "      <th>53939</th>\n",
       "      <td>46.650</td>\n",
       "      <td>41.25</td>\n",
       "      <td>4.3725</td>\n",
       "      <td>4.4025</td>\n",
       "      <td>2.7300</td>\n",
       "      <td>3421.0</td>\n",
       "      <td>362.626</td>\n",
       "      <td>365.114</td>\n",
       "      <td>226.408</td>\n",
       "      <td>320.65</td>\n",
       "      <td>322.85</td>\n",
       "      <td>200.20</td>\n",
       "      <td>34.2221</td>\n",
       "      <td>21.2212</td>\n",
       "      <td>21.3668</td>\n",
       "    </tr>\n",
       "  </tbody>\n",
       "</table>\n",
       "<p>53940 rows × 15 columns</p>\n",
       "</div>"
      ],
      "text/plain": [
       "       carat * depth  carat * table  carat * x  carat * y  carat * z  \\\n",
       "0             14.145          12.65     0.9085     0.9154     0.5589   \n",
       "1             12.558          12.81     0.8169     0.8064     0.4851   \n",
       "2             13.087          14.95     0.9315     0.9361     0.5313   \n",
       "3             18.096          16.82     1.2180     1.2267     0.7627   \n",
       "4             19.623          17.98     1.3454     1.3485     0.8525   \n",
       "...              ...            ...        ...        ...        ...   \n",
       "53935         43.776          41.04     4.1400     4.1472     2.5200   \n",
       "53936         45.432          39.60     4.0968     4.1400     2.5992   \n",
       "53937         43.960          42.00     3.9620     3.9760     2.4920   \n",
       "53938         52.460          49.88     5.2890     5.2632     3.2164   \n",
       "53939         46.650          41.25     4.3725     4.4025     2.7300   \n",
       "\n",
       "       depth * table  depth * x  depth * y  depth * z  table * x  table * y  \\\n",
       "0             3382.5    242.925    244.770    149.445     217.25     218.90   \n",
       "1             3647.8    232.622    229.632    138.138     237.29     234.24   \n",
       "2             3698.5    230.445    231.583    131.439     263.25     264.55   \n",
       "3             3619.2    262.080    263.952    164.112     243.60     245.34   \n",
       "4             3671.4    274.722    275.355    174.075     251.72     252.30   \n",
       "...              ...        ...        ...        ...        ...        ...   \n",
       "53935         3465.6    349.600    350.208    212.800     327.75     328.32   \n",
       "53936         3470.5    359.039    362.825    227.791     312.95     316.25   \n",
       "53937         3768.0    355.448    356.704    223.568     339.60     340.80   \n",
       "53938         3538.0    375.150    373.320    228.140     356.70     354.96   \n",
       "53939         3421.0    362.626    365.114    226.408     320.65     322.85   \n",
       "\n",
       "       table * z    x * y    x * z    y * z  \n",
       "0         133.65  15.7210   9.5985   9.6714  \n",
       "1         140.91  14.9376   8.9859   8.8704  \n",
       "2         150.15  16.4835   9.3555   9.4017  \n",
       "3         152.54  17.7660  11.0460  11.1249  \n",
       "4         159.50  18.8790  11.9350  11.9625  \n",
       "...          ...      ...      ...      ...  \n",
       "53935     199.50  33.1200  20.1250  20.1600  \n",
       "53936     198.55  32.7175  20.5409  20.7575  \n",
       "53937     213.60  32.1488  20.1496  20.2208  \n",
       "53938     216.92  37.6380  23.0010  22.8888  \n",
       "53939     200.20  34.2221  21.2212  21.3668  \n",
       "\n",
       "[53940 rows x 15 columns]"
      ]
     },
     "execution_count": 218,
     "metadata": {},
     "output_type": "execute_result"
    }
   ],
   "source": [
    "quantitative_columns = diamonds.select_dtypes(include=[float, int]).columns.tolist()\n",
    "quantitative_columns.remove('price')\n",
    "pairs = list(itertools.combinations(quantitative_columns, 2))\n",
    "result = pd.DataFrame()\n",
    "for (col1, col2) in pairs:\n",
    "    result[f'{col1} * {col2}'] = diamonds[col1] * diamonds[col2]\n",
    "result"
   ]
  },
  {
   "cell_type": "code",
   "execution_count": null,
   "id": "47d96f55",
   "metadata": {},
   "outputs": [],
   "source": []
  },
  {
   "cell_type": "code",
   "execution_count": 219,
   "id": "538acde7",
   "metadata": {},
   "outputs": [],
   "source": [
    "# don't change this cell, but do run it -- it is needed for the tests to work\n",
    "diamonds = pd.read_csv(Path('data')/'diamonds.csv')\n",
    "out_q4 = create_quadratics(diamonds)"
   ]
  },
  {
   "cell_type": "code",
   "execution_count": 220,
   "id": "7e3b5873",
   "metadata": {
    "deletable": false,
    "editable": false
   },
   "outputs": [
    {
     "data": {
      "text/html": [
       "<p><strong><pre style='display: inline;'>q4</pre></strong> passed!</p>"
      ],
      "text/plain": [
       "q4 results: All test cases passed!"
      ]
     },
     "execution_count": 220,
     "metadata": {},
     "output_type": "execute_result"
    }
   ],
   "source": [
    "grader.check(\"q4\")"
   ]
  },
  {
   "cell_type": "markdown",
   "id": "b55262d9",
   "metadata": {},
   "source": [
    "### Question 5 – Comparing Performance 🏆\n",
    "\n",
    "We've now created several sets of features. **Which features are best able to predict the price of a diamond in a linear regression model?** We'll look at both single-feature linear regression models and multiple regression models. In all cases, use the default arguments to `sklearn`'s `LinearRegression` object (i.e. assume there is an intercept term).\n",
    "\n",
    "<br>\n",
    "\n",
    "Two of the evaluation metrics we can use to compare regression models are RMSE and $R^2$.\n",
    "\n",
    "RMSE, or Root Mean Squared Error, roughly measures the average distance between a model's predicted values and the actual values. The RMSE indicates how concentrated predictions are around the line of best fit, with lower values typically indicating smaller residuals and better model performance. RMSE can be calculated using the formula below, where $\\text{n}$ is the number of data points, $\\hat{y_i}$ is the $i$th prediction, and $y_i$ is the corresponding actual value.\n",
    "\n",
    "$$\\text{RMSE} = \\sqrt{\\frac{\\sum_{i=1}^n (y_i - \\hat{y_i})^2}{n}}$$\n",
    "\n",
    "Remember that in least squares regression, we choose the model parameters that minimize RMSE.\n",
    "\n",
    "<br>\n",
    "\n",
    "$R^2$, also known as the coefficient of determination, denotes the proportion of variance in the dependent variable that the independent variable explains. It is used to assess the quality of a linear fit, and in the simple linear regression case, it is the square of the correlation coefficient $r$. $R^2$ values range between 0 and 1, with lower values indicating a worse linear fit and with higher values indicating a better linear fit. If `model` is a fitted `sklearn` regression object, $R^2$ can be computed by calling `model.score`. \n",
    "\n",
    "#### Single-Feature Models\n",
    "\n",
    "- (1) Fit a single-feature linear regression model on `'carat'`. What is the $R^2$ of the model? (Note that `'carat'` turns out to be the best single feature to use in a linear model that predicts price.)\n",
    "- (2) What is the RMSE of the model you created in (1)?\n",
    "- (3) Amongst the other **quantitative** features present in the original `diamonds`, which produces the single-feature linear regression model with the highest $R^2$?\n",
    "- (4) Amongst all the new features you created in Questions 2-4, which produces the single-feature linear regression model with the highest $R^2$?\n",
    "- (5) Amongst the new categorical features you created in Question 2 and 3, which produces the single-feature linear regression model with the highest $R^2$? \n",
    "\n",
    "#### Multiple Regression\n",
    "\n",
    "Now, fit a multiple regression model using:\n",
    "- the quantitative columns that were present in the original `diamonds` dataset, and\n",
    "- the quantitative features engineered in Question 4\n",
    "\n",
    "as features. (Don't use any of the encodings of categorical columns from Questions 2 and 3.)\n",
    "\n",
    "- (6) What is the RMSE of this new model?\n",
    "\n",
    "\n",
    "<br>\n",
    "\n",
    "Complete the implementation of the function `comparing_performance`, which returns a list containing the answers to the 6 questions numbered (1), (2), ..., (6) above. You don't need to round any of your answers.\n",
    "\n",
    "***Hint:*** Repeatedly use the `sklearn` pattern included below. It's a good idea to make a helper function that takes in a column, performs single-feature regression using the input column as the feature, and returns the $R^2$ and RMSE of the model."
   ]
  },
  {
   "cell_type": "code",
   "execution_count": 221,
   "id": "cb4bf8ad",
   "metadata": {},
   "outputs": [],
   "source": [
    "from sklearn.linear_model import LinearRegression\n",
    "\n",
    "# X = ...\n",
    "# y = ...\n",
    "\n",
    "# lr = LinearRegression()\n",
    "# lr.fit(X, y)  # X is a DataFrame of training data; y is a Series of prices\n",
    "# lr.score(X, y)  # R-squared\n",
    "# lr.predict(X) # predicted prices"
   ]
  },
  {
   "cell_type": "code",
   "execution_count": 237,
   "id": "77c7bd7b",
   "metadata": {},
   "outputs": [],
   "source": [
    "def Rsquare_RMSE(x, y):\n",
    "    X = x\n",
    "    y = y\n",
    "    lr = LinearRegression()\n",
    "    lr.fit(X, y)  # X is a DataFrame of training data; y is a Series of prices\n",
    "    R = lr.score(X, y)  # R-squared\n",
    "    predicted = lr.predict(X) # predicted prices\n",
    "    RMSE = np.sqrt(sum((y - predicted)**2) / x.shape[0])\n",
    "    return (R, RMSE)"
   ]
  },
  {
   "cell_type": "code",
   "execution_count": 238,
   "metadata": {},
   "outputs": [
    {
     "data": {
      "text/plain": [
       "[['carat', 0.8493305264354858, 1548.5331930613002],\n",
       " ['depth', 0.00011336722437849112, 3989.1766174607033],\n",
       " ['table', 0.016163029068700818, 3957.0310019807202],\n",
       " ['x', 0.782225554041623, 1861.7070454430955],\n",
       " ['y', 0.7489533304600555, 1998.872603829358],\n",
       " ['z', 0.7417506045344293, 2027.3444398443723]]"
      ]
     },
     "execution_count": 238,
     "metadata": {},
     "output_type": "execute_result"
    }
   ],
   "source": [
    "models = []\n",
    "for col in ['carat', 'depth', 'table', 'x', 'y', 'z']:\n",
    "    RS, RMSE = Rsquare_RMSE(diamonds[[col]], diamonds['price'])\n",
    "    models.append([col, RS, RMSE])\n",
    "models"
   ]
  },
  {
   "cell_type": "code",
   "execution_count": 239,
   "metadata": {},
   "outputs": [
    {
     "data": {
      "text/plain": [
       "[0.8493305264354858, 1548.5331930613002, 'x']"
      ]
     },
     "execution_count": 239,
     "metadata": {},
     "output_type": "execute_result"
    }
   ],
   "source": [
    "df = pd.DataFrame(models, columns=['vars', 'RS', 'RMSE']).set_index('vars')\n",
    "df\n",
    "output = [df['RS'].loc['carat'], df['RMSE'].loc['carat'], df['RS'].drop(['carat']).idxmax()]\n",
    "output"
   ]
  },
  {
   "cell_type": "code",
   "execution_count": 244,
   "metadata": {},
   "outputs": [],
   "source": [
    "out_q2 = create_ordinal(diamonds)\n",
    "for col in out_q2.columns:\n",
    "    RS, RMSE = Rsquare_RMSE(out_q2[[col]], diamonds['price'])\n",
    "    models.append([col, RS, RMSE])\n",
    "out_q3_hot = create_one_hot(diamonds)\n",
    "for col in out_q3_hot.columns:\n",
    "    RS, RMSE = Rsquare_RMSE(out_q3_hot[[col]], diamonds['price'])\n",
    "    models.append([col, RS, RMSE])\n",
    "out_q3_prop = create_proportions(diamonds)\n",
    "for col in out_q3_prop.columns:\n",
    "    RS, RMSE = Rsquare_RMSE(out_q3_prop[[col]], diamonds['price'])\n",
    "    models.append([col, RS, RMSE])\n",
    "df3 = pd.DataFrame(models, columns=['vars', 'RS', 'RMSE']).set_index('vars')"
   ]
  },
  {
   "cell_type": "code",
   "execution_count": 254,
   "metadata": {},
   "outputs": [
    {
     "data": {
      "text/plain": [
       "'ordinal_color'"
      ]
     },
     "execution_count": 254,
     "metadata": {},
     "output_type": "execute_result"
    }
   ],
   "source": [
    "df3['RS'].drop(['carat', 'depth', 'table', 'x', 'y', 'z']).idxmax()"
   ]
  },
  {
   "cell_type": "code",
   "execution_count": 235,
   "metadata": {},
   "outputs": [
    {
     "data": {
      "text/plain": [
       "[0.8493305264354858,\n",
       " 1548.5331930613002,\n",
       " 'x',\n",
       " 'carat',\n",
       " 'carat * x',\n",
       " 'carat * x',\n",
       " 'carat * x']"
      ]
     },
     "execution_count": 235,
     "metadata": {},
     "output_type": "execute_result"
    }
   ],
   "source": [
    "df2 = pd.DataFrame(models, columns=['vars', 'RS', 'RMSE']).set_index('vars')\n",
    "df2\n",
    "output.append(df['RS'].idxmax())\n",
    "out_q4 = create_quadratics(diamonds)\n",
    "for col in out_q4.columns:\n",
    "    RS, RMSE = Rsquare_RMSE(out_q4[[col]], diamonds['price'])\n",
    "    models.append([col, RS, RMSE])\n",
    "df = pd.DataFrame(models, columns=['vars', 'RS', 'RMSE']).set_index('vars')\n",
    "output.append(df['RS'].idxmax())\n",
    "output"
   ]
  },
  {
   "cell_type": "code",
   "execution_count": 256,
   "id": "b012918d",
   "metadata": {},
   "outputs": [
    {
     "data": {
      "text/plain": [
       "[0.8493305264354858,\n",
       " 1548.5331930613002,\n",
       " 'x',\n",
       " 1434.840008904737,\n",
       " 1434.840008904737]"
      ]
     },
     "execution_count": 256,
     "metadata": {},
     "output_type": "execute_result"
    }
   ],
   "source": [
    "#Multi\n",
    "X = pd.concat([diamonds[['carat', 'depth', 'table', 'x', 'y', 'z']], out_q4], axis=1)\n",
    "output.append(Rsquare_RMSE(X, diamonds['price'])[1])\n",
    "output"
   ]
  },
  {
   "cell_type": "code",
   "execution_count": 260,
   "id": "c8a69b44",
   "metadata": {},
   "outputs": [],
   "source": [
    "# don't change this cell, but do run it -- it is needed for the tests to work\n",
    "import numbers\n",
    "out_q5 = comparing_performance()"
   ]
  },
  {
   "cell_type": "code",
   "execution_count": 261,
   "id": "784429b0",
   "metadata": {
    "deletable": false,
    "editable": false
   },
   "outputs": [
    {
     "data": {
      "text/html": [
       "<p><strong><pre style='display: inline;'>q5</pre></strong> passed!</p>"
      ],
      "text/plain": [
       "q5 results: All test cases passed!"
      ]
     },
     "execution_count": 261,
     "metadata": {},
     "output_type": "execute_result"
    }
   ],
   "source": [
    "grader.check(\"q5\")"
   ]
  },
  {
   "cell_type": "markdown",
   "id": "3b571d30",
   "metadata": {},
   "source": [
    "## Part 3 – Feature Engineering with `sklearn` 🧠\n",
    "\n",
    "In this final question, you will use `sklearn`'s transformers and estimators for feature engineering. While everything you do with `sklearn` is possible to do with `pandas`, `sklearn` transformers enable you to couple your feature engineering with your modeling. This will allow you to more quickly build and assess your models in `sklearn`.\n",
    "\n",
    "Specifically, you will create a `TransformDiamonds` class that contains the three methods specified below – `transform_carat` (6.1), `transform_to_quantile` (6.2), and `transform_to_depth_pct` (6.3). In the starter code, there is a skeleton for `TransformDiamonds` that is initialized with a DataFrame `diamonds`.\n",
    "\n",
    "Each of the methods you implement in the `TransformDiamonds` class should take in a DataFrame, initialize a specific `sklearn.Transformer` object (like `Binarizer` or `FunctionTransformer`), and use the transformer to transform columns from the input DataFrame. You should **not** use DataFrame methods like `apply` in this problem."
   ]
  },
  {
   "cell_type": "code",
   "execution_count": 262,
   "id": "d4deed0f",
   "metadata": {},
   "outputs": [],
   "source": [
    "from sklearn.preprocessing import Binarizer, QuantileTransformer, FunctionTransformer"
   ]
  },
  {
   "cell_type": "markdown",
   "id": "04231b07",
   "metadata": {},
   "source": [
    "Question 6 is made up of the three subparts below."
   ]
  },
  {
   "cell_type": "markdown",
   "id": "3bc305f9",
   "metadata": {},
   "source": [
    "### Question 6.1 – Transforming a Quantitative Column into a Binary Column (`transform_carat`)\n",
    "\n",
    "We call a diamond **large** if its weight is strictly greater than 1 carat. We want to **binarize** weights, so that they are 1 for large diamonds and 0 for small diamonds. Complete the implementation fo the method `transform_carat`, which takes in a DataFrame like `diamonds` and returns a binarized **array** of weights. Use a `Binarizer` object as your transformer.\n",
    "\n",
    "***Notes:***\n",
    "- You will return an array, not a Series, because `sklearn` thinks in terms of `np.ndarray`s, not DataFrames.\n",
    "- The implementation of this function should only take two lines."
   ]
  },
  {
   "cell_type": "code",
   "execution_count": null,
   "id": "5bf1d8d4",
   "metadata": {},
   "outputs": [],
   "source": []
  },
  {
   "cell_type": "code",
   "execution_count": null,
   "id": "1b23bc93",
   "metadata": {},
   "outputs": [],
   "source": []
  },
  {
   "cell_type": "code",
   "execution_count": 263,
   "id": "fd018742",
   "metadata": {},
   "outputs": [],
   "source": [
    "# don't change this cell, but do run it -- it is needed for the tests to work\n",
    "diamonds = pd.read_csv(Path('data')/'diamonds.csv')\n",
    "q6a_trans = TransformDiamonds(diamonds)\n",
    "q6a_out = q6a_trans.transform_carat(diamonds)"
   ]
  },
  {
   "cell_type": "code",
   "execution_count": 264,
   "id": "c391ede5",
   "metadata": {
    "deletable": false,
    "editable": false
   },
   "outputs": [
    {
     "data": {
      "text/html": [
       "<p><strong><pre style='display: inline;'>q6.1</pre></strong> passed!</p>"
      ],
      "text/plain": [
       "q6.1 results: All test cases passed!"
      ]
     },
     "execution_count": 264,
     "metadata": {},
     "output_type": "execute_result"
    }
   ],
   "source": [
    "grader.check(\"q6.1\")"
   ]
  },
  {
   "cell_type": "markdown",
   "id": "1282b343",
   "metadata": {},
   "source": [
    "### Question 6.2 – Transforming a Quantitative Column into Quantiles (`transform_to_quantile`)\n",
    "\n",
    "You will now transform the `'carat'` column so that each diamond's weight in carats is replaced with the **percentile** amongst all diamonds in which its weight lies.\n",
    "\n",
    "Complete the implementation of the method `transform_to_quantiles`, which takes in a DataFrame like `diamonds` and returns an array containing the percentiles of the weight of each diamond, amongst all diamonds in `self.data`. This array should consist of proportions between 0 and 1; for instance, 0.65 will refer to the 65th percentile. The relevant transformer is `QuantileTransformer`. \n",
    "\n",
    "Some guidance:\n",
    "\n",
    "- Unlike with `Binarizer`, you need to `fit` your `QuantileTransformer` before calling `transform` on the input DataFrame `data`. \n",
    "    - You should `fit` your transformer on the DataFrame `self.data`, but you should only `transform` the `data` that is passed to `transform_to_quantiles`. \n",
    "    - Note that these two DataFrames, `self.data` and `data`, don't have to be the same! For instance, in the last two lines of the testing setup cell below, we fit a `QuantileTransformer` using just the first 1000 rows of `diamonds`, and then `transform` the entire `diamonds` DataFrame. Make sure your `transform_to_quantiles` method works in such a case.\n",
    "- When initializing your `QuantileTransformer`, use `n_quantiles=100`."
   ]
  },
  {
   "cell_type": "code",
   "execution_count": null,
   "id": "ee0c74f1",
   "metadata": {},
   "outputs": [],
   "source": []
  },
  {
   "cell_type": "code",
   "execution_count": null,
   "id": "ff01ded0",
   "metadata": {},
   "outputs": [],
   "source": []
  },
  {
   "cell_type": "code",
   "execution_count": 265,
   "id": "df5ef702",
   "metadata": {},
   "outputs": [],
   "source": [
    "# don't change this cell, but do run it -- it is needed for the tests to work\n",
    "q6b_trans = TransformDiamonds(diamonds)\n",
    "q6b_out = q6b_trans.transform_to_quantile(diamonds)\n",
    "q6b_trans_top_1000 = TransformDiamonds(diamonds[:1000])\n",
    "q6b_out_top_1000 = q6b_trans_top_1000.transform_to_quantile(diamonds)"
   ]
  },
  {
   "cell_type": "code",
   "execution_count": 266,
   "id": "59afd9d1",
   "metadata": {
    "deletable": false,
    "editable": false
   },
   "outputs": [
    {
     "data": {
      "text/html": [
       "<p><strong><pre style='display: inline;'>q6.2</pre></strong> passed!</p>"
      ],
      "text/plain": [
       "q6.2 results: All test cases passed!"
      ]
     },
     "execution_count": 266,
     "metadata": {},
     "output_type": "execute_result"
    }
   ],
   "source": [
    "grader.check(\"q6.2\")"
   ]
  },
  {
   "cell_type": "markdown",
   "id": "8c0f0763",
   "metadata": {},
   "source": [
    "### Question 6.3 – Transforming a Quantitative Column Using a Formula\n",
    "\n",
    "Recall from the introduction to Part 2 that the \"depth percentage\" of a diamond is defined as\n",
    "\n",
    "$$\\text{Depth Pct.} = 100\\% \\cdot \\frac{2z}{x + y}$$\n",
    "\n",
    "where $x$, $y$, and $z$ come from the `'x'`, `'y'`, and `'z'` columns in `diamonds`.\n",
    "\n",
    "Let's suppose that for some reason we don't have access to the `'depth'` column in `diamonds`, and instead need to recreate it just by looking at the `'x'`, `'y'`, and `'z'` columns. \n",
    "\n",
    "Complete the implementation of the method `transform_to_depth_pct`, which takes in a DataFrame like `diamonds` and returns an array consisting of the depth percentages of each diamond. Percentages should be between 0 and 100. The relevant transformer is `FunctionTransformer`.\n",
    "\n",
    "***Notes:***\n",
    "- To use `FunctionTransformer`, you will need to define your own function that takes in a 2D array and returns a single array.\n",
    "- Ignore `ZeroDivisionError` errors, and leave `np.NaN`s as is.\n",
    "- To verify your work, compare your outputted array to the actual `'depth'` column in `diamonds`.\n",
    "- It may seem like `FunctionTransformer` is totally unnecessary, since we can compute depth percentages using broadcasting directly. However, as we will see in lecture, transformers can be **pipelined** with other processing steps which greatly simplifies our code."
   ]
  },
  {
   "cell_type": "code",
   "execution_count": null,
   "id": "1a5c918a",
   "metadata": {},
   "outputs": [],
   "source": []
  },
  {
   "cell_type": "code",
   "execution_count": null,
   "id": "0e8ee20f",
   "metadata": {},
   "outputs": [],
   "source": []
  },
  {
   "cell_type": "code",
   "execution_count": 269,
   "id": "a3011e18",
   "metadata": {},
   "outputs": [],
   "source": [
    "# don't change this cell, but do run it -- it is needed for the tests to work\n",
    "diamonds = pd.read_csv(Path('data')/'diamonds.csv')\n",
    "q6c_trans = TransformDiamonds(diamonds)\n",
    "q6c_out = q6c_trans.transform_to_depth_pct(diamonds)"
   ]
  },
  {
   "cell_type": "code",
   "execution_count": 270,
   "id": "b4a08f36",
   "metadata": {
    "deletable": false,
    "editable": false
   },
   "outputs": [
    {
     "data": {
      "text/html": [
       "<p><strong><pre style='display: inline;'>q6.3</pre></strong> passed!</p>"
      ],
      "text/plain": [
       "q6.3 results: All test cases passed!"
      ]
     },
     "execution_count": 270,
     "metadata": {},
     "output_type": "execute_result"
    }
   ],
   "source": [
    "grader.check(\"q6.3\")"
   ]
  },
  {
   "cell_type": "markdown",
   "id": "422a900f",
   "metadata": {},
   "source": [
    "## Congratulations! You're done with Lab 8! 🏁\n",
    "\n",
    "As a reminder, all of the work you want to submit needs to be in `lab.py`.\n",
    "\n",
    "To verify that all of your work is indeed in `lab.py`, and that you didn't accidentally implement a function in this notebook and not in `lab.py`, we've included another notebook in the lab folder, called `lab-validation.ipynb`. `lab-validation.ipynb` is a version of this notebook with only the `grader.check` cells and the code needed to set up the tests. \n",
    "\n",
    "### **Go to `lab-validation.ipynb`, and go to Kernel > Restart & Run All.** This will check if all `grader.check` test cases pass using just the code in `lab.py`.\n",
    "\n",
    "Once you're able to pass all test cases in `lab-validation.ipynb`, including the call to `grader.check_all()` at the very bottom, then you're ready to submit your `lab.py` (and only your `lab.py`) to Gradescope. Once submitting to Gradescope, make sure to stick around until all test cases pass.\n",
    "\n",
    "There is also a call to `grader.check_all()` below in _this_ notebook, but make sure to also follow the steps above."
   ]
  },
  {
   "cell_type": "markdown",
   "id": "156362c0",
   "metadata": {
    "deletable": false,
    "editable": false
   },
   "source": [
    "---\n",
    "\n",
    "To double-check your work, the cell below will rerun all of the autograder tests."
   ]
  },
  {
   "cell_type": "code",
   "execution_count": null,
   "id": "deea7af2",
   "metadata": {
    "deletable": false,
    "editable": false
   },
   "outputs": [],
   "source": [
    "grader.check_all()"
   ]
  }
 ],
 "metadata": {
  "kernelspec": {
   "display_name": "Python 3 (ipykernel)",
   "language": "python",
   "name": "python3"
  },
  "language_info": {
   "codemirror_mode": {
    "name": "ipython",
    "version": 3
   },
   "file_extension": ".py",
   "mimetype": "text/x-python",
   "name": "python",
   "nbconvert_exporter": "python",
   "pygments_lexer": "ipython3",
   "version": "3.9.18"
  },
  "otter": {
   "tests": {
    "q1": {
     "name": "q1",
     "points": null,
     "suites": [
      {
       "cases": [
        {
         "code": ">>> best_transformation() in [1, 2, 3, 4]\nTrue",
         "hidden": false,
         "locked": false,
         "points": 1
        }
       ],
       "scored": true,
       "setup": "",
       "teardown": "",
       "type": "doctest"
      }
     ]
    },
    "q2": {
     "name": "q2",
     "points": null,
     "suites": [
      {
       "cases": [
        {
         "code": ">>> set(out_q2.columns) == {'ordinal_cut', 'ordinal_clarity', 'ordinal_color'}\nTrue",
         "hidden": false,
         "locked": false,
         "points": 0.5
        },
        {
         "code": ">>> np.unique(out_q2['ordinal_cut']).tolist() == [0, 1, 2, 3, 4]\nTrue",
         "hidden": false,
         "locked": false,
         "points": 0.5
        }
       ],
       "scored": true,
       "setup": "",
       "teardown": "",
       "type": "doctest"
      }
     ]
    },
    "q3": {
     "name": "q3",
     "points": null,
     "suites": [
      {
       "cases": [
        {
         "code": ">>> out1_q3.shape == (53940, 20)\nTrue",
         "hidden": false,
         "locked": false,
         "points": 1
        },
        {
         "code": ">>> out1_q3.columns.str.startswith('one_hot').all()\nTrue",
         "hidden": false,
         "locked": false,
         "points": 1
        },
        {
         "code": ">>> out1_q3.isin([0,1]).all().all()\nTrue",
         "hidden": false,
         "locked": false,
         "points": 1
        },
        {
         "code": ">>> out2_q3.shape[1] == 3\nTrue",
         "hidden": false,
         "locked": false,
         "points": 1
        },
        {
         "code": ">>> out2_q3.columns.str.startswith('proportion_').all()\nTrue",
         "hidden": false,
         "locked": false,
         "points": 1
        },
        {
         "code": ">>> ((out2_q3 >= 0) & (out2_q3 <= 1)).all().all()\nTrue",
         "hidden": false,
         "locked": false,
         "points": 1
        }
       ],
       "scored": true,
       "setup": "",
       "teardown": "",
       "type": "doctest"
      }
     ]
    },
    "q4": {
     "name": "q4",
     "points": null,
     "suites": [
      {
       "cases": [
        {
         "code": ">>> out_q4.columns.str.contains(' * ').all()\nTrue",
         "hidden": false,
         "locked": false,
         "points": 1
        },
        {
         "code": ">>> ('x * z' in out_q4.columns) or ('z * x' in out_q4.columns)\nTrue",
         "hidden": false,
         "locked": false,
         "points": 1
        },
        {
         "code": ">>> out_q4.shape[1] == 15\nTrue",
         "hidden": false,
         "locked": false,
         "points": 1
        }
       ],
       "scored": true,
       "setup": "",
       "teardown": "",
       "type": "doctest"
      }
     ]
    },
    "q5": {
     "name": "q5",
     "points": null,
     "suites": [
      {
       "cases": [
        {
         "code": ">>> len(out_q5) == 6\nTrue",
         "hidden": false,
         "locked": false,
         "points": 1
        },
        {
         "code": ">>> isinstance(out_q5[0], numbers.Real)\nTrue",
         "hidden": false,
         "locked": false,
         "points": 1
        },
        {
         "code": ">>> all(isinstance(x, str) for x in out_q5[2:-1])\nTrue",
         "hidden": false,
         "locked": false,
         "points": 1
        },
        {
         "code": ">>> out_q5[1] > out_q5[-1]\nTrue",
         "hidden": false,
         "locked": false,
         "points": 1
        }
       ],
       "scored": true,
       "setup": "",
       "teardown": "",
       "type": "doctest"
      }
     ]
    },
    "q6.1": {
     "name": "q6.1",
     "points": null,
     "suites": [
      {
       "cases": [
        {
         "code": ">>> isinstance(q6a_out, np.ndarray)\nTrue",
         "hidden": false,
         "locked": false,
         "points": 0.5
        },
        {
         "code": ">>> q6a_out[172, 0] == 1\nTrue",
         "hidden": false,
         "locked": false,
         "points": 0.5
        },
        {
         "code": ">>> q6a_out[0, 0] == 0\nTrue",
         "hidden": false,
         "locked": false,
         "points": 0.5
        }
       ],
       "scored": true,
       "setup": "",
       "teardown": "",
       "type": "doctest"
      }
     ]
    },
    "q6.2": {
     "name": "q6.2",
     "points": null,
     "suites": [
      {
       "cases": [
        {
         "code": ">>> isinstance(q6b_out, np.ndarray)\nTrue",
         "hidden": false,
         "locked": false,
         "points": 0.5
        },
        {
         "code": ">>> np.isclose(q6b_out[0, 0], 0.0075757, atol=0.0001)\nTrue",
         "hidden": false,
         "locked": false,
         "points": 0.5
        },
        {
         "code": ">>> np.isclose(q6b_out[1, 0], 0.0025252, atol=0.0001)\nTrue",
         "hidden": false,
         "locked": false,
         "points": 0.5
        }
       ],
       "scored": true,
       "setup": "",
       "teardown": "",
       "type": "doctest"
      }
     ]
    },
    "q6.3": {
     "name": "q6.3",
     "points": null,
     "suites": [
      {
       "cases": [
        {
         "code": ">>> len(q6c_out.shape) == 1\nTrue",
         "hidden": false,
         "locked": false,
         "points": 0.5
        },
        {
         "code": ">>> np.isclose(q6c_out[0], 61.286, atol=0.0001)\nTrue",
         "hidden": false,
         "locked": false,
         "points": 0.5
        }
       ],
       "scored": true,
       "setup": "",
       "teardown": "",
       "type": "doctest"
      }
     ]
    }
   }
  }
 },
 "nbformat": 4,
 "nbformat_minor": 5
}
